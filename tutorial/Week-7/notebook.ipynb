{
 "cells": [
  {
   "cell_type": "markdown",
   "id": "824ba903-ad84-4030-962e-88835ff73ff4",
   "metadata": {
    "tags": []
   },
   "source": [
    "# Agent\n",
    "\n",
    "Agents are systems that use LLMs as reasoning engines to determine which actions to take and the inputs to pass them. After executing actions, the results can be fed back into the LLM to determine whether more actions are needed, or whether it is okay to finish.\n",
    "\n",
    "代理是使用大型語言模型（LLMs）作為推理引擎來決定採取哪些行動以及傳遞哪些輸入的系統。執行行動後，結果可以回饋到大型語言模型中，以確定是否需要更多的行動，或者是否可以結束。\n",
    "\n",
    "\n",
    "- Based on the prompt, Agent creates an LLM based 'Thought': what it should do\n",
    "- Based on the 'Thought', Angent takes 'Action'.\n",
    "\n",
    "## Agent Tools:\n",
    "\n",
    "- API services: OpenAI Whisper-1, TTS-1, DALLE3, Google Search\n",
    "- Precision matters: Mathematics, Scientific Calculation\n",
    "- Extra knowledge: Wikipedia, Private Dataset"
   ]
  },
  {
   "cell_type": "code",
   "execution_count": null,
   "id": "98ce015d-8bf1-49e0-80b3-e18b78449965",
   "metadata": {
    "tags": []
   },
   "outputs": [],
   "source": [
    "from IPython.display import Image\n",
    "\n",
    "Image(url='https://statusneo.com/wp-content/uploads/2024/01/fe9fa1ac-dfde-4d91-8b5b-4497b742c414_1400x686.jpg')"
   ]
  },
  {
   "cell_type": "code",
   "execution_count": null,
   "id": "26638f8e-95ba-44fd-b046-877dfaca93a5",
   "metadata": {
    "tags": []
   },
   "outputs": [],
   "source": [
    "import os\n",
    "\n",
    "os.chdir(\"../../\")"
   ]
  },
  {
   "cell_type": "markdown",
   "id": "28027ff5-7923-47f5-9f43-04821a02d44e",
   "metadata": {},
   "source": [
    "## Model + Tools\n",
    "\n",
    "Tool calling allows a chat model to respond to a given prompt by \"calling a tool\". While the name implies that the model is performing some action, this is actually not the case! The model generates the arguments to a tool, and actually running the tool (or not) is up to the user. For example, if you want to extract output matching some schema from unstructured text, you could give the model an \"extraction\" tool that takes parameters matching the desired schema, then treat the generated output as your final result."
   ]
  },
  {
   "cell_type": "code",
   "execution_count": null,
   "id": "d131ad1b-c2a1-494b-ad17-074e969c9ddc",
   "metadata": {
    "tags": []
   },
   "outputs": [],
   "source": [
    "from langchain.chat_models import ChatOpenAI\n",
    "from src.initialization import credential_init\n",
    "\n",
    "credential_init()\n",
    "\n",
    "model = ChatOpenAI(openai_api_key=os.environ['OPENAI_API_KEY'],\n",
    "                   model_name=\"gpt-4o-2024-05-13\", temperature=0)"
   ]
  },
  {
   "cell_type": "markdown",
   "id": "4bd92176-40cb-463b-93d7-7e5f5a0c2c7b",
   "metadata": {},
   "source": [
    "## Zero-Shot Agent\n",
    "\n",
    "- PromptTemplate.from_template: This creates a template for the AI to follow when generating responses. A \"zero-shot\" prompt means the AI will generate answers without needing specific examples beforehand.\n",
    "\n",
    "- create_react_agent: This function creates an AI agent using a specific language model (LLM). The agent can react to prompts based on the template provided.\n",
    "\n",
    "- AgentExecutor: This sets up an executor that can run the agent. The verbose=True part means it will provide detailed output about what it’s doing.\n",
    "\n",
    "- agent_executor.invoke: This runs the agent with the given input. In this case, it's asking the agent to calculate the area of a circle with a specified radius.\n",
    "\n",
    "- PromptTemplate.from_template: 創建一個模板，供AI在生成回應時遵循。\"zero-shot\" 提示意味著AI在生成回答時不需要事先的具體示例。\n",
    "\n",
    "- create_react_agent: 該函數使用特定的語言模型（LLM）創建一個AI代理。該代理可以根據提供的模板對提示做出反應。\n",
    "\n",
    "- AgentExecutor: 設置一個執行器來運行代理。verbose=True部分意味著它會提供詳細的輸出。\n",
    "\n",
    "- agent_executor.invoke: 這會運行具有給定輸入的代理。在此情況下，它是請求代理計算具有指定半徑的圓的面積。"
   ]
  },
  {
   "cell_type": "code",
   "execution_count": null,
   "id": "0b813b9e-e077-4ab7-898b-be320a978e9a",
   "metadata": {},
   "outputs": [],
   "source": [
    "from langchain.prompts import PromptTemplate\n",
    "from langchain.agents import AgentExecutor, create_react_agent\n",
    "\n",
    "from src.agent.react_zero_shot import prompt_template as zero_shot_prompt_template\n",
    "\n",
    "prompt = PromptTemplate.from_template(zero_shot_prompt_template)\n",
    "\n",
    "zero_shot_agent = create_react_agent(\n",
    "    llm=model,\n",
    "    tools=[],\n",
    "    prompt=prompt,\n",
    ")\n",
    "\n",
    "agent_executor = AgentExecutor(agent=zero_shot_agent, tools=[], verbose=True)"
   ]
  },
  {
   "cell_type": "code",
   "execution_count": null,
   "id": "ba8cc22f-e8fc-4a23-bc0f-b1918bdb90b2",
   "metadata": {},
   "outputs": [],
   "source": [
    "agent_executor.invoke({\"input\": \"can you calculate the area of a circle that has a radius of 10.923mm\"})"
   ]
  },
  {
   "cell_type": "code",
   "execution_count": null,
   "id": "aee40318-ed88-406b-98a4-6b3708558df0",
   "metadata": {},
   "outputs": [],
   "source": [
    "import numpy as np\n",
    "\n",
    "10.923 **2 * np.pi"
   ]
  },
  {
   "cell_type": "markdown",
   "id": "70e04da6-d641-448e-8859-16a0424c04f1",
   "metadata": {},
   "source": [
    "### CircleAreaTool Class:\n",
    "\n",
    "    - name: This sets the name of the tool to \"Circle area calculator\".\n",
    "    - description: This provides a description of when to use the tool.\n",
    "    - _run Method: This method performs the calculation of the area using the radius provided. It converts the radius to a float and calculates the area using the formula \n",
    "\n",
    "$$ \\text{Area} = \\pi \\times \\text{r}^2 $$\n",
    "\n",
    "    - _arun Method: This raises an error because asynchronous operation is not supported by this tool."
   ]
  },
  {
   "cell_type": "code",
   "execution_count": null,
   "id": "a8d4eb4d-1486-4b39-99f5-403471b8c43d",
   "metadata": {
    "tags": []
   },
   "outputs": [],
   "source": [
    "from math import pi\n",
    "from typing import Union\n",
    "\n",
    "from langchain.tools import BaseTool\n",
    "\n",
    "\n",
    "\"\"\"\n",
    "When defining a tool like this using the BaseTool template we must define `name` and `description` attributes, alongside _run and _arun methods. \n",
    "When a tool us used the _run method is called by default. The _arun method is called when the tool is to be used asyncronously. We do not cover \n",
    "that in this walkthrough so for now we create it with a NotImplementedError.\n",
    "\"\"\"\n",
    "\n",
    "class CircleAreaTool(BaseTool):\n",
    "    name = \"Circle area calculator\"\n",
    "    description = 'use this tool when you need to calculate an area using the radius of a circle'\n",
    "    \n",
    "    def _run(self, radius: Union[int, float]):\n",
    "        r = float(radius)\n",
    "        return  r * r * pi\n",
    "    \n",
    "    def _arun(self, radius: Union[int, float]):\n",
    "        raise NotImplementedError(\"This tool does not support async\")\n",
    "    "
   ]
  },
  {
   "cell_type": "markdown",
   "id": "14b32a9c-2db7-4bf8-8ce2-91b6edb6f79e",
   "metadata": {},
   "source": [
    "### Tools List:\n",
    "\n",
    "- This list now includes the CircleAreaTool instance, making it available for the agent to use."
   ]
  },
  {
   "cell_type": "code",
   "execution_count": null,
   "id": "869e5614-4d3c-4925-9991-7b4d85f787fa",
   "metadata": {
    "tags": []
   },
   "outputs": [],
   "source": [
    "# Add tools\n",
    "\n",
    "tools = [CircleAreaTool()]\n",
    "\n",
    "zero_shot_agent = create_react_agent(\n",
    "    llm=model,\n",
    "    tools=tools,\n",
    "    prompt=prompt,\n",
    ")\n",
    "\n",
    "agent_executor = AgentExecutor(agent=zero_shot_agent, tools=tools, verbose=True)"
   ]
  },
  {
   "cell_type": "code",
   "execution_count": null,
   "id": "06eb2282-59a1-43fb-9dda-9d1938e30ae6",
   "metadata": {
    "tags": []
   },
   "outputs": [],
   "source": [
    "agent_executor.invoke({\"input\": \"can you calculate the area of a circle that has a radius of 10.923mm\"})"
   ]
  },
  {
   "cell_type": "markdown",
   "id": "7e1e1f03-4d06-4f4a-9ef4-23e9df95579c",
   "metadata": {},
   "source": [
    "## Docstore Agent\n",
    "\n",
    "A zero shot agent that does a reasoning step before acting.\n",
    "This agent has access to a document store that allows it to look up relevant information to answering the question.\n",
    "\n",
    "** To what I understand, it is an Zero Shot Agent with a database query tool.\n",
    "\n",
    "\n",
    "Docstore Agent 是專門為使用 LangChain docstore 進行信息搜索（Search）和查找（Lookup）而構建的。\n",
    "Search：從文檔庫中檢索相關的頁面\n",
    "Lookup：從檢索出的相關頁面中，查找相關的具體內容"
   ]
  },
  {
   "cell_type": "markdown",
   "id": "e06dc8a2-b2e0-46b5-87ca-861206fef6f6",
   "metadata": {},
   "source": [
    "### 1. Wikipedia Query Setup (維基百科查詢設置)\n",
    "\n",
    "- The first line creates a wikipedia object that can run queries on Wikipedia. It uses something called WikipediaAPIWrapper to do this. Imagine this as giving the assistant access to a huge online library (Wikipedia).\n",
    "- 第一行創建了一個可以在維基百科上運行查詢的 wikipedia 對象。它使用了一個叫做 WikipediaAPIWrapper 的東西。想象一下，這就像是給助手訪問一個巨大的在線圖書館（維基百科）的權限。"
   ]
  },
  {
   "cell_type": "code",
   "execution_count": null,
   "id": "cc2fcdb3-e998-4b12-bf17-8c8afa28b7c5",
   "metadata": {},
   "outputs": [],
   "source": [
    "from langchain.agents import Tool\n",
    "from langchain_community.tools.wikipedia.tool import WikipediaQueryRun\n",
    "from langchain_community.utilities.wikipedia import WikipediaAPIWrapper\n",
    "\n",
    "wikipedia = WikipediaQueryRun(api_wrapper=WikipediaAPIWrapper())"
   ]
  },
  {
   "cell_type": "markdown",
   "id": "a688403d-fbbe-4caa-a603-de1399f0d9fa",
   "metadata": {},
   "source": [
    "### 2. Search Tool Initialization (搜索工具初始化)\n",
    "\n",
    "- Next, we create a tool called search_tool. This tool uses the wikipedia object to look up information on Wikipedia. Think of this tool as a search button specifically for Wikipedia.\n",
    "\n",
    "- List of Tools\n",
    "\n",
    "- 接下來，我們創建一個叫做 search_tool 的工具。這個工具使用 wikipedia 對象在維基百科上查找信息。想象這個工具就像是一個專門用於維基百科的搜索按鈕。\n",
    "\n",
    "- 工具列表"
   ]
  },
  {
   "cell_type": "code",
   "execution_count": null,
   "id": "c92ea124-879d-4a28-8221-9401203a49c6",
   "metadata": {},
   "outputs": [],
   "source": [
    "# initialize the docstore search tool\n",
    "search_tool = Tool(\n",
    "    name=\"Search Engine Tool\",\n",
    "    func=wikipedia.run,\n",
    "    description='search wikipedia'\n",
    ")\n",
    "\n",
    "tools = [search_tool]"
   ]
  },
  {
   "cell_type": "markdown",
   "id": "d419e0bc-817a-4661-a835-d98cdec0c47e",
   "metadata": {},
   "source": [
    "### 3. Creating the Agent (創建代理)\n",
    "\n",
    "- The next step is to create the intelligent agent using the prompt template and tools we set up. We call this agent docstore_agent. This is like creating the brain of our smart assistant.\n",
    "\n",
    "- Agent Executor\n",
    "\n",
    "- 下一步是使用我們設置的提示模板和工具創建智能代理。我們稱這個代理為 docstore_agent。這就像是在創建我們智能助手的大腦。\n",
    "\n",
    "- 代理執行器"
   ]
  },
  {
   "cell_type": "code",
   "execution_count": null,
   "id": "996090d6-46f7-4e0c-aa88-1b45c34222ef",
   "metadata": {},
   "outputs": [],
   "source": [
    "prompt = PromptTemplate.from_template(zero_shot_prompt_template)\n",
    "\n",
    "docstore_agent = create_react_agent(\n",
    "    llm=model,\n",
    "    tools=tools,\n",
    "    prompt=prompt,\n",
    ")\n",
    "\n",
    "agent_executor = AgentExecutor(agent=docstore_agent, tools=tools, verbose=True)"
   ]
  },
  {
   "cell_type": "code",
   "execution_count": null,
   "id": "159b6edc-4eee-4fed-be7b-5e7759188600",
   "metadata": {},
   "outputs": [],
   "source": [
    "agent_executor.invoke({\"input\": \"How is the relationship between Ukraine and Russian in 2023?\"})"
   ]
  },
  {
   "cell_type": "markdown",
   "id": "dd3e8d89-55c0-418e-b6ff-61e5669124c1",
   "metadata": {},
   "source": [
    "### Can we build our own docstore?"
   ]
  },
  {
   "cell_type": "code",
   "execution_count": null,
   "id": "9c79005e-ac47-4d6c-a636-b5169e07c5e0",
   "metadata": {},
   "outputs": [],
   "source": [
    "import pandas as pd\n",
    "from langchain.docstore.document import Document\n",
    "from langchain_community.vectorstores import FAISS\n",
    "from langchain_community.embeddings import HuggingFaceEmbeddings\n",
    "\n",
    "# https://platform.openai.com/docs/guides/embeddings/what-are-embeddings\n",
    "\n",
    "# A list of embedding models you can choose \n",
    "# https://www.sbert.net/docs/sentence_transformer/pretrained_models.html\n",
    "\n",
    "embedding = HuggingFaceEmbeddings(model_name=\"all-MiniLM-L6-v2\")"
   ]
  },
  {
   "cell_type": "markdown",
   "id": "e58650d2-065f-4c17-8b66-86b12fd5bc68",
   "metadata": {},
   "source": [
    "### Create the retriever"
   ]
  },
  {
   "cell_type": "code",
   "execution_count": null,
   "id": "8943d7c3-fce1-46af-8fe1-b70f1d9cc616",
   "metadata": {},
   "outputs": [],
   "source": [
    "from langchain.prompts import PromptTemplate\n",
    "from langchain.agents import AgentExecutor, create_react_agent, Tool\n",
    "from langchain_core.output_parsers import StrOutputParser\n",
    "\n",
    "df_cnn = pd.read_csv(\"tutorial/Week-5/CNN_Articels_clean.csv\")\n",
    "\n",
    "documents = []\n",
    "\n",
    "for _, row in df_cnn.iloc[:20].iterrows():\n",
    "    document = Document(page_content=row['Headline'],\n",
    "                        metadata={'Author': row['Author'],\n",
    "                                  'Category': row['Category'],\n",
    "                                  'Section': row['Section']})\n",
    "    documents.append(document)\n",
    "\n",
    "vectorstore = FAISS.from_documents(documents, embedding=embedding)\n",
    "\n",
    "retriever = vectorstore.as_retriever(search_kwargs={'k': 5})"
   ]
  },
  {
   "cell_type": "code",
   "execution_count": null,
   "id": "4a0fbf8d-d8b8-4839-84e1-5d48b14dbf75",
   "metadata": {},
   "outputs": [],
   "source": [
    "_TEMPLATE = \"\"\"Generate a summary based on the context\n",
    "\n",
    "{context}\n",
    "\n",
    "Summary:\n",
    "\"\"\"\n",
    "\n",
    "prompt = PromptTemplate.from_template(_TEMPLATE)\n",
    "\n",
    "chain = {'context': retriever}|prompt|model|StrOutputParser()"
   ]
  },
  {
   "cell_type": "code",
   "execution_count": null,
   "id": "f15f150e-cd29-4a3f-a097-ce8547cd6fa2",
   "metadata": {},
   "outputs": [],
   "source": [
    "search_tool = Tool(\n",
    "    name=\"Search Engine Tool\",\n",
    "    func=chain.invoke,\n",
    "    description='Search CNN news'\n",
    ")\n",
    "\n",
    "tools = [search_tool]\n",
    "\n",
    "prompt = PromptTemplate.from_template(zero_shot_prompt_template)\n",
    "\n",
    "docstore_agent = create_react_agent(\n",
    "    llm=model,\n",
    "    tools=tools,\n",
    "    prompt=prompt,\n",
    ")\n",
    "\n",
    "agent_executor = AgentExecutor(agent=docstore_agent, tools=tools, verbose=True)"
   ]
  },
  {
   "cell_type": "code",
   "execution_count": null,
   "id": "e150ec70-431d-469c-8124-9d3120397f9d",
   "metadata": {},
   "outputs": [],
   "source": [
    "agent_executor.invoke({\"input\": \"How is the current situation of truck driver in the US?\"})"
   ]
  },
  {
   "cell_type": "markdown",
   "id": "ecaddf87-6b30-4c79-beed-f0b951343820",
   "metadata": {},
   "source": [
    "## Conversational Agent"
   ]
  },
  {
   "cell_type": "code",
   "execution_count": null,
   "id": "c1e10ba3-5041-40d0-9c6d-809f74b33ae6",
   "metadata": {
    "tags": []
   },
   "outputs": [],
   "source": [
    "from src.agent.react_chat import prompt_template as chat_prompt_template\n",
    "\n",
    "prompt = PromptTemplate.from_template(chat_prompt_template)\n",
    "\n",
    "conversation_agent = create_react_agent(\n",
    "    llm=model,\n",
    "    tools=tools,\n",
    "    prompt=prompt,\n",
    ")\n",
    "\n",
    "agent_executor = AgentExecutor(agent=conversation_agent, tools=tools, verbose=True)"
   ]
  },
  {
   "cell_type": "code",
   "execution_count": null,
   "id": "cfdff378-8921-4fd3-8e26-ea0ac39e1dc8",
   "metadata": {
    "tags": []
   },
   "outputs": [],
   "source": [
    "# In week-4, we had \n",
    "\n",
    "from langchain.memory import ChatMessageHistory\n",
    "\n",
    "demo_chat_history = ChatMessageHistory()\n",
    "\n",
    "demo_chat_history.add_user_message(\"hi!\")\n",
    "\n",
    "demo_chat_history.add_ai_message(\"whats up?\")\n",
    "\n",
    "demo_chat_history.messages"
   ]
  },
  {
   "cell_type": "code",
   "execution_count": null,
   "id": "1d8cb9f3-b4e1-40fa-b012-2540d98c9451",
   "metadata": {
    "tags": []
   },
   "outputs": [],
   "source": [
    "chat_history = [(message.type, message.content) for message in demo_chat_history.messages]"
   ]
  },
  {
   "cell_type": "code",
   "execution_count": null,
   "id": "a53f74a5-ba55-4dd3-a3b3-310e126e5b90",
   "metadata": {
    "tags": []
   },
   "outputs": [],
   "source": [
    "agent_executor.invoke({\"chat_history\": chat_history,\n",
    "                       \"input\": \"can you calculate the area of a circle that has a radius of 10.923mm\"})"
   ]
  },
  {
   "cell_type": "code",
   "execution_count": null,
   "id": "8e683402-eab4-4c39-a43f-6681ca658b38",
   "metadata": {},
   "outputs": [],
   "source": [
    "\"\"\"\n",
    "聊天Agent邏輯:\n",
    "\n",
    "for query in queries:\n",
    "   res = agent_executor.invoke({\"chat_history\": chat_history,\n",
    "                                \"input\": query})\n",
    "   chat_history.append(('human', query))\n",
    "   chat_history.append(('ai', res['output']))\n",
    "\"\"\""
   ]
  },
  {
   "cell_type": "markdown",
   "id": "5985a7ef-01e3-43ab-99a2-420dc56e83b5",
   "metadata": {},
   "source": [
    "## self ask with search agent\n",
    "\n",
    "For this agent, only one tool can be used and it needs to be named \"Intermediate Answer\"\n",
    "\n",
    "prompt: hwchase17/self-ask-with-search\n",
    "\n",
    "It seems it does not work well with OpenAI."
   ]
  },
  {
   "cell_type": "markdown",
   "id": "440a620a-300a-4e9e-8383-6b93a096cdc1",
   "metadata": {},
   "source": [
    "### Google Search\n",
    "\n",
    "- https://serper.dev/\n",
    "- 2500 free queries"
   ]
  },
  {
   "cell_type": "code",
   "execution_count": null,
   "id": "7d8bd9aa-b53d-46a1-9a31-e876055ef9bf",
   "metadata": {
    "tags": []
   },
   "outputs": [],
   "source": [
    "from langchain.agents import create_self_ask_with_search_agent\n",
    "\n",
    "\"\"\"\n",
    "An agent that breaks down a complex question into a series of simpler questions.\n",
    "\n",
    "This agent uses a search tool to look up answers to the simpler questions in order to answer the original complex question.\n",
    "\"\"\""
   ]
  },
  {
   "cell_type": "code",
   "execution_count": null,
   "id": "13ce7076-e51d-456b-98a5-2e2ded0b2b8e",
   "metadata": {
    "tags": []
   },
   "outputs": [],
   "source": [
    "import os\n",
    "\n",
    "from langchain.agents import Tool\n",
    "from langchain_community.utilities import GoogleSerperAPIWrapper\n",
    "from langchain.prompts import PromptTemplate\n",
    "from langchain.agents import AgentExecutor\n",
    "from langchain_openai import OpenAI\n",
    "\n",
    "llm = OpenAI()\n",
    "\n",
    "search = GoogleSerperAPIWrapper()\n",
    "tools = [\n",
    "    Tool(\n",
    "        name=\"Intermediate Answer\",\n",
    "        func=search.run,\n",
    "        description=\"useful for when you need to ask with search\",\n",
    "    )]\n"
   ]
  },
  {
   "cell_type": "code",
   "execution_count": null,
   "id": "9d3a7b9b-78ff-4d22-adcc-1034c9f3d33b",
   "metadata": {
    "tags": []
   },
   "outputs": [],
   "source": [
    "prompt_template = \"\"\"\n",
    "Question: Who lived longer, Muhammad Ali or Alan Turing?\n",
    "Are follow up questions needed here: Yes.\n",
    "Follow up: How old was Muhammad Ali when he died?\n",
    "Intermediate answer: Muhammad Ali was 74 years old when he died.\n",
    "Follow up: How old was Alan Turing when he died?\n",
    "Intermediate answer: Alan Turing was 41 years old when he died.\n",
    "So the final answer is: Muhammad Ali\n",
    "\n",
    "Question: When was the founder of craigslist born?\n",
    "Are follow up questions needed here: Yes.\n",
    "Follow up: Who was the founder of craigslist?\n",
    "Intermediate answer: Craigslist was founded by Craig Newmark.\n",
    "Follow up: When was Craig Newmark born?\n",
    "Intermediate answer: Craig Newmark was born on December 6, 1952.\n",
    "So the final answer is: December 6, 1952\n",
    "\n",
    "Question: Who was the maternal grandfather of George Washington?\n",
    "Are follow up questions needed here: Yes.\n",
    "Follow up: Who was the mother of George Washington?\n",
    "Intermediate answer: The mother of George Washington was Mary Ball Washington.\n",
    "Follow up: Who was the father of Mary Ball Washington?\n",
    "Intermediate answer: The father of Mary Ball Washington was Joseph Ball.\n",
    "So the final answer is: Joseph Ball\n",
    "\n",
    "Question: Are both the directors of Jaws and Casino Royale from the same country?\n",
    "Are follow up questions needed here: Yes.\n",
    "Follow up: Who is the director of Jaws?\n",
    "Intermediate answer: The director of Jaws is Steven Spielberg.\n",
    "Follow up: Where is Steven Spielberg from?\n",
    "Intermediate answer: The United States.\n",
    "Follow up: Who is the director of Casino Royale?\n",
    "Intermediate answer: The director of Casino Royale is Martin Campbell.\n",
    "Follow up: Where is Martin Campbell from?\n",
    "Intermediate answer: New Zealand.\n",
    "So the final answer is: No\n",
    "\n",
    "Question: {input}\n",
    "\n",
    "Are followup questions needed here:{agent_scratchpad}\n",
    "\"\"\"\n",
    "\n",
    "\n",
    "prompt = PromptTemplate.from_template(prompt_template)\n",
    "\n",
    "self_ask_with_search_agent = create_self_ask_with_search_agent(\n",
    "    llm=llm,\n",
    "    tools=tools,\n",
    "    prompt=prompt,\n",
    ")\n",
    "\n",
    "agent_executor = AgentExecutor(agent=self_ask_with_search_agent, tools=tools, verbose=True)\n",
    "\n",
    "# agent_executor.invoke({\"input\": \"What is the hometown of the reigning men's 2022 U.S. Open champion?\"}, return_only_outputs=True)"
   ]
  },
  {
   "cell_type": "markdown",
   "id": "d68d403f-0d6c-4ab4-9701-37f1c4bd66bb",
   "metadata": {},
   "source": [
    "### GPT-4o can achieve the same functionality with zero-shot."
   ]
  },
  {
   "cell_type": "code",
   "execution_count": null,
   "id": "d1ea72fe-9bf8-4d66-a092-3dd7806ee079",
   "metadata": {
    "tags": []
   },
   "outputs": [],
   "source": [
    "from langchain.agents import AgentExecutor, create_react_agent\n",
    "\n",
    "\n",
    "search = GoogleSerperAPIWrapper()\n",
    "tools = [\n",
    "    Tool(\n",
    "        name=\"Google Search\",\n",
    "        func=search.run,\n",
    "        description=\"useful for when you need to search\",\n",
    "    )]\n",
    "\n",
    "\n",
    "prompt = PromptTemplate.from_template(zero_shot_prompt_template)\n",
    "\n",
    "zero_shot_agent = create_react_agent(\n",
    "    llm=model,\n",
    "    tools=tools,\n",
    "    prompt=prompt,\n",
    ")\n",
    "\n",
    "agent_executor = AgentExecutor(agent=zero_shot_agent, tools=tools, verbose=True)"
   ]
  },
  {
   "cell_type": "code",
   "execution_count": null,
   "id": "085f24ef-d092-463f-996f-9f83b17fada5",
   "metadata": {
    "tags": []
   },
   "outputs": [],
   "source": [
    "agent_executor.invoke({\"input\": \"What is the hometown of the reigning men's 2022 U.S. Open champion?\"}, return_only_outputs=True)"
   ]
  },
  {
   "cell_type": "markdown",
   "id": "acaebf9c-446b-4ec8-bc75-dbfeaec248ce",
   "metadata": {},
   "source": [
    "## Structured Chat Agent\n",
    "\n",
    "The structured chat agent is capable of using multi-input tools.\n",
    "\n",
    "在 0.1.0 版本之前，如果 Agent 用到的工具的輸入參數如果不是 1 個的話，那麼就只能是用 Structured Chat Agent。但是 0.1.0 版本取消了這個限制。因此，\n",
    "在 0.1.0 版本之後，Structured Chat Agent 和 ReAct Agent 的主要區別就只剩下工具的描述方式：\n",
    "\n",
    "Structured Chat Agent 需要使用 JSON-Schema 的模式來創建結構化的參數輸入，對於更複雜的工具而言，這種方式更為有用。\n",
    "\n",
    "- https://smith.langchain.com/hub/hwchase17/structured-chat-agent?organizationId=c4887cc4-1275-5361-82f2-b22aee75bad1"
   ]
  },
  {
   "cell_type": "code",
   "execution_count": null,
   "id": "c4d5b312-159e-4884-bbfa-0dc9704ad4de",
   "metadata": {
    "tags": []
   },
   "outputs": [],
   "source": [
    "from typing import Optional\n",
    "\n",
    "import numpy as np\n",
    "from langchain.agents import create_structured_chat_agent\n",
    "from langchain_core.prompts import PromptTemplate, ChatPromptTemplate, SystemMessagePromptTemplate, MessagesPlaceholder, HumanMessagePromptTemplate\n",
    "\n",
    "from src.agent.structured_react_chat import system_message_template, human_message_template\n",
    "\n",
    "messages = [\n",
    "    SystemMessagePromptTemplate.from_template(system_message_template),\n",
    "    MessagesPlaceholder(variable_name=\"chat_history\"),\n",
    "    HumanMessagePromptTemplate.from_template(human_message_template),\n",
    "]\n",
    "\n",
    "input_variables = [\"tools\", \"tool_names\", \"input\", \"chat_history\", \"agent_scratchpad\"]\n",
    "\n",
    "prompt = ChatPromptTemplate(input_variables=input_variables, messages=messages)\n",
    "\n",
    "\n",
    "class PythagorasTool(BaseTool):\n",
    "    name = \"Hypotenuse calculator\"\n",
    "    description = \"\"\"\n",
    "    Use this tool when you need to calculate the length of an hypotenuse given one or two sides of a triangle and/or an angle (in degrees).\n",
    "    To use the tool you must provide at least two of the following parameters ['adjacent_side', 'opposite_side', 'angle'].\n",
    "    \"\"\"\n",
    "\n",
    "    def _run(\n",
    "        self,\n",
    "        adjacent_side: Optional[Union[int, float]] = None,\n",
    "        opposite_side: Optional[Union[int, float]] = None,\n",
    "        angle: Optional[Union[int, float]] = None\n",
    "    ):\n",
    "        # check for the values we have been given\n",
    "        if adjacent_side and opposite_side:\n",
    "            return np.sqrt(float(adjacent_side)**2 + float(opposite_side)**2)\n",
    "        elif adjacent_side and angle:\n",
    "            return adjacent_side / cos(float(angle))\n",
    "        elif opposite_side and angle:\n",
    "            return opposite_side / sin(float(angle))\n",
    "        else:\n",
    "            return \"Could not calculate the hypotenuse of the triangle. Need two or more of `adjacent_side`, `opposite_side`, or `angle`.\"\n",
    "    \n",
    "    def _arun(self, query: str):\n",
    "        raise NotImplementedError(\"This tool does not support async\")\n",
    "\n",
    "tools = [PythagorasTool()]\n",
    "\n",
    "struct_agent = create_structured_chat_agent(\n",
    "    llm=model,\n",
    "    tools=tools,\n",
    "    prompt=prompt,\n",
    ")\n",
    "\n",
    "agent_executor = AgentExecutor(agent=struct_agent, tools=tools, verbose=True)"
   ]
  },
  {
   "cell_type": "code",
   "execution_count": null,
   "id": "2d7e31d0-d1b0-4c87-b12b-527453bd871f",
   "metadata": {
    "tags": []
   },
   "outputs": [],
   "source": [
    "from langchain.memory import ChatMessageHistory\n",
    "\n",
    "demo_chat_history = ChatMessageHistory()\n",
    "\n",
    "demo_chat_history.add_user_message(\"hi!\")\n",
    "\n",
    "demo_chat_history.add_ai_message(\"whats up?\")\n",
    "\n",
    "agent_executor.invoke({\"input\": \"If I have a triangle with the opposite side of length 51 and the adjacent side of 40, what is the length of the hypotenuse?\", \n",
    "                       \"chat_history\": demo_chat_history.messages})"
   ]
  },
  {
   "cell_type": "code",
   "execution_count": null,
   "id": "9a4a4b21-7e37-4b22-bd2a-138df76248fc",
   "metadata": {
    "tags": []
   },
   "outputs": [],
   "source": [
    "import numpy as np\n",
    "\n",
    "np.sqrt(51**2 + 40**2)"
   ]
  },
  {
   "cell_type": "markdown",
   "id": "2ea5ceeb-973b-4cdc-84a6-e4ac9b7a6060",
   "metadata": {},
   "source": [
    "## 回家作業\n",
    "\n",
    "- 在Zero Shot Agent 中，建立一個給予兩邊長和夾角，計算三角形面積的功能 \n",
    "- 在Agent的工具欄中，同時放入Google Search 和 Image Caption 工具"
   ]
  },
  {
   "cell_type": "code",
   "execution_count": null,
   "id": "87d717cd-df56-4525-9752-110a5b8b5884",
   "metadata": {},
   "outputs": [],
   "source": []
  }
 ],
 "metadata": {
  "kernelspec": {
   "display_name": "Python 3 (ipykernel)",
   "language": "python",
   "name": "python3"
  },
  "language_info": {
   "codemirror_mode": {
    "name": "ipython",
    "version": 3
   },
   "file_extension": ".py",
   "mimetype": "text/x-python",
   "name": "python",
   "nbconvert_exporter": "python",
   "pygments_lexer": "ipython3",
   "version": "3.10.14"
  }
 },
 "nbformat": 4,
 "nbformat_minor": 5
}
