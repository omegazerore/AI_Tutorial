{
 "cells": [
  {
   "cell_type": "code",
   "execution_count": null,
   "id": "5f122285-9800-495c-8e0d-7f971d0e9c2d",
   "metadata": {},
   "outputs": [],
   "source": [
    "import os\n",
    "\n",
    "os.chdir(\"../\")"
   ]
  },
  {
   "cell_type": "code",
   "execution_count": null,
   "id": "3e75d4cc-97a0-4e89-8507-1610d0439987",
   "metadata": {},
   "outputs": [],
   "source": [
    "from src.initialization import credential_init\n",
    "\n",
    "credential_init()"
   ]
  },
  {
   "cell_type": "markdown",
   "id": "143c0770-2b7a-4a8e-a377-c92ec59f3abe",
   "metadata": {},
   "source": [
    "## Perplexity Connection\n",
    "\n",
    "https://python.langchain.com/docs/integrations/chat/perplexity/\n",
    "\n",
    "- sonar-deep-research\n",
    "- sonar-reasoning-pro\n",
    "- sonar-reasoning\n",
    "- sonar-pro\n",
    "- sonar\t128k\n",
    "- r1-1776"
   ]
  },
  {
   "cell_type": "code",
   "execution_count": null,
   "id": "d4f75212-1494-41db-9af3-fb10a589f5d0",
   "metadata": {},
   "outputs": [],
   "source": [
    "from langchain_community.chat_models import ChatPerplexity\n",
    "from langchain_core.prompts import ChatPromptTemplate\n",
    "\n",
    "# model = ChatPerplexity(\n",
    "#     temperature=0, pplx_api_key=os.environ['PERPLEXITY_API_KEY'], model=\"r1-1776\"\n",
    "# )"
   ]
  },
  {
   "cell_type": "code",
   "execution_count": null,
   "id": "baf6d7b7-6238-4efa-86fa-1e030b18b3bb",
   "metadata": {},
   "outputs": [],
   "source": [
    "# system = \"You are a helpful assistant.\"\n",
    "# human = \"{input}\"\n",
    "# prompt = ChatPromptTemplate.from_messages([(\"system\", system), (\"human\", human)])\n",
    "\n",
    "# pipeline = prompt | model\n",
    "# response = pipeline.invoke({\"input\": \"Why is the Higgs Boson important?\"})\n",
    "# response.content"
   ]
  },
  {
   "cell_type": "markdown",
   "id": "c42417a9-5c6b-48c8-86af-ebc22693b84d",
   "metadata": {},
   "source": [
    "### DeepSeek-R1"
   ]
  },
  {
   "cell_type": "code",
   "execution_count": null,
   "id": "f3734a81-d973-4857-a760-4e9fb72eac8b",
   "metadata": {},
   "outputs": [],
   "source": [
    "import json\n",
    "\n",
    "from openai import OpenAI\n",
    "\n",
    "messages = [\n",
    "    {\n",
    "        \"role\": \"system\",\n",
    "        \"content\": (\n",
    "            \"You are an AI assistant that focuses on equity market analysis and you need to \"\n",
    "            \"engage in an accurate, comprehensive, helpful and  polite conversation with a user.\"\n",
    "        ),\n",
    "    },\n",
    "    {  \n",
    "        \"role\": \"user\",\n",
    "        \"content\": (\n",
    "            \"Give me a market wrap on the Hong Kong market for Feb 2025.\"\n",
    "        ),\n",
    "\n",
    "    },\n",
    "\n",
    "]\n",
    "\n",
    " \n",
    "client = OpenAI(api_key=os.environ['PERPLEXITY_API_KEY'], base_url=\"https://api.perplexity.ai\")\n",
    "\n",
    " \n",
    "\n",
    "# chat completion without streaming\n",
    "\n",
    "response = client.chat.completions.create(\n",
    "\n",
    "    model=\"r1-1776\",\n",
    "\n",
    "    messages=messages,\n",
    "\n",
    ")\n",
    "\n",
    "print(response)"
   ]
  },
  {
   "cell_type": "code",
   "execution_count": null,
   "id": "83c1fd2b-9286-4786-9587-1d803fb0ef1f",
   "metadata": {},
   "outputs": [],
   "source": [
    "print(response.choices[0].message.content)"
   ]
  },
  {
   "cell_type": "code",
   "execution_count": null,
   "id": "d3007b0b-9e68-4894-85a7-35146570720e",
   "metadata": {},
   "outputs": [],
   "source": [
    "# chat completion with streaming\n",
    "\n",
    "response_stream = client.chat.completions.create(\n",
    "\n",
    "    model=\"r1-1776\",\n",
    "\n",
    "    messages=messages,\n",
    "\n",
    "    stream=True,\n",
    "\n",
    ")\n",
    "\n",
    " \n",
    "\n",
    "for response in response_stream:\n",
    "\n",
    "    print('\\n ',response)"
   ]
  },
  {
   "cell_type": "markdown",
   "id": "e9d278a1-5e0a-4346-a46e-51bc01fd53ad",
   "metadata": {},
   "source": [
    "### Sonar-Deep-Research"
   ]
  },
  {
   "cell_type": "code",
   "execution_count": null,
   "id": "ee491425-e34a-470c-b2bc-0230dc53bdf9",
   "metadata": {},
   "outputs": [],
   "source": [
    "response.citations"
   ]
  },
  {
   "cell_type": "code",
   "execution_count": null,
   "id": "946cd4ad-9c79-4af0-a8d5-b06c9a356ec9",
   "metadata": {},
   "outputs": [],
   "source": [
    "response = client.chat.completions.create(\n",
    "\n",
    "    model=\"sonar-deep-research\",\n",
    "\n",
    "    messages=messages,\n",
    "\n",
    ")\n",
    "\n",
    "print(response)"
   ]
  },
  {
   "cell_type": "markdown",
   "id": "4ac55739-3e2e-4312-bf05-23d62b330d62",
   "metadata": {},
   "source": [
    "## R1-Connection"
   ]
  },
  {
   "cell_type": "code",
   "execution_count": null,
   "id": "4b2610ee-38e5-4dc9-9653-e5effafbf8c5",
   "metadata": {},
   "outputs": [],
   "source": [
    "from langchain_deepseek import ChatDeepSeek"
   ]
  },
  {
   "cell_type": "code",
   "execution_count": null,
   "id": "263fadc6-d86d-4396-a3f5-e05059e7c365",
   "metadata": {},
   "outputs": [],
   "source": [
    "model = ChatDeepSeek(api_key=os.environ['DEEPSEEK_API_KEY'], temperature=0, model='deepseek-reasoner')"
   ]
  },
  {
   "cell_type": "code",
   "execution_count": null,
   "id": "8451f733-bd81-4ac4-bd23-61738acd0c22",
   "metadata": {},
   "outputs": [],
   "source": [
    "system = \"You are a helpful assistant.\"\n",
    "human = \"{input}\"\n",
    "prompt = ChatPromptTemplate.from_messages([(\"system\", system), (\"human\", human)])\n",
    "\n",
    "pipeline = prompt | model\n",
    "response = pipeline.invoke({\"input\": \"Why is the Higgs Boson important?\"})\n",
    "response.content"
   ]
  },
  {
   "cell_type": "code",
   "execution_count": null,
   "id": "0e72035f-a123-4c1f-8a8a-dae58336c0b5",
   "metadata": {},
   "outputs": [],
   "source": [
    "print(response.content)"
   ]
  },
  {
   "cell_type": "code",
   "execution_count": null,
   "id": "3bc3696c-9b00-4fee-9e6a-42b4afbf7b67",
   "metadata": {},
   "outputs": [],
   "source": [
    "response"
   ]
  },
  {
   "cell_type": "markdown",
   "id": "149c4674-7eec-4441-9a22-1030cfcd4350",
   "metadata": {},
   "source": [
    "## Combining the Deep Search of Perplexity and Reasoning of DeepSeek-R1 \n",
    "\n",
    "### Langchain Framework"
   ]
  },
  {
   "cell_type": "code",
   "execution_count": null,
   "id": "b9c3e12f-db95-49fd-a465-747b65885105",
   "metadata": {},
   "outputs": [],
   "source": [
    "from langchain.prompts import PromptTemplate, HumanMessagePromptTemplate, ChatPromptTemplate, SystemMessagePromptTemplate\n",
    "from langchain_core.messages import SystemMessage, HumanMessage\n",
    "from langchain_core.runnables import chain\n",
    "\n",
    "@chain\n",
    "def prompt_template_2_messages(chat_prompt):\n",
    "\n",
    "    output_messages = []\n",
    "     \n",
    "    _messages = chat_prompt.messages\n",
    "\n",
    "    for message in _messages:\n",
    "        if isinstance(message, SystemMessage):\n",
    "            output_messages.append({\"role\": \"system\", \"content\": message.content})\n",
    "        if isinstance(message, HumanMessage):\n",
    "            output_messages.append({\"role\": \"user\", \"content\": message.content})\n",
    "\n",
    "    return output_messages\n",
    "\n",
    "@chain\n",
    "def messages_2_perplexity(messages):\n",
    "\n",
    "    client = OpenAI(api_key=os.environ['PERPLEXITY_API_KEY'], base_url=\"https://api.perplexity.ai\")\n",
    "\n",
    "    response = client.chat.completions.create(\n",
    "        model=\"sonar-deep-research\",\n",
    "        messages=messages\n",
    "    )\n",
    "\n",
    "    content = response.choices[0].message.content\n",
    "    citations = response.citations\n",
    "\n",
    "    return {\"content\": content,\n",
    "            \"citations\": citations}"
   ]
  },
  {
   "cell_type": "code",
   "execution_count": null,
   "id": "b356eee1-b17e-4222-b242-d541fd01f8fa",
   "metadata": {},
   "outputs": [],
   "source": [
    "system_prompt = PromptTemplate(template=(\"You are an AI assistant that focuses on equity market analysis and you need to \"\n",
    "                                \"engage in an accurate, comprehensive, helpful and  polite conversation with a user.\"\n",
    "                               ))\n",
    "system_message = SystemMessagePromptTemplate(prompt=system_prompt)\n",
    "\n",
    "human_prompt = PromptTemplate(template=\"find out the report earnings of Bloomberg ticker {ticker}\",\n",
    "                              input_variable=[\"ticker\"])\n",
    "human_message = HumanMessagePromptTemplate(prompt=human_prompt)\n",
    "\n",
    "chat_prompt_perplexity = ChatPromptTemplate.from_messages([system_message,\n",
    "                                                 human_message\n",
    "                                               ])\n",
    "\n",
    "# pipeline = chat_prompt|prompt_template_2_messages\n"
   ]
  },
  {
   "cell_type": "code",
   "execution_count": null,
   "id": "dd46f11e-68c5-4757-bd2c-0cb6fbf608e5",
   "metadata": {},
   "outputs": [],
   "source": [
    "pipeline_perplexity = chat_prompt_perplexity|prompt_template_2_messages|messages_2_perplexity"
   ]
  },
  {
   "cell_type": "code",
   "execution_count": null,
   "id": "eeff08b7-4772-42ac-8450-e8efdc6fbfa5",
   "metadata": {},
   "outputs": [],
   "source": [
    "# pipeline_perplexity.invoke({\"ticker\": '2382 HK'})"
   ]
  },
  {
   "cell_type": "markdown",
   "id": "d717c648-4447-47c4-8c49-27635e4f3500",
   "metadata": {},
   "source": [
    "### DeepSeek-R1 Pipeline"
   ]
  },
  {
   "cell_type": "code",
   "execution_count": null,
   "id": "70d5278c-8ffb-4b09-9de4-486f76c13fb4",
   "metadata": {},
   "outputs": [],
   "source": [
    "from langchain_core.runnables import RunnablePassthrough\n",
    "from langchain_core.output_parsers import StrOutputParser\n",
    "\n",
    "output_parser = StrOutputParser()\n",
    "\n",
    "model_deepseek = ChatDeepSeek(api_key=os.environ['DEEPSEEK_API_KEY'], temperature=0, model='deepseek-reasoner')\n",
    "\n",
    "system_prompt = PromptTemplate(template=\"You are a helpful assistant.\")\n",
    "system_message = SystemMessagePromptTemplate(prompt=system_prompt)\n",
    "\n",
    "human_prompt = PromptTemplate(template=\"Create a financial report of {ticker} based on:\\n {context}\",\n",
    "                              input_variable=[\"context\", \"ticker\"])\n",
    "human_message = HumanMessagePromptTemplate(prompt=human_prompt)\n",
    "\n",
    "chat_prompt_deepseek = ChatPromptTemplate.from_messages([system_message,\n",
    "                                                         human_message\n",
    "                                                        ])\n",
    "\n",
    "pipeline_deepseek = chat_prompt_deepseek|model_deepseek|output_parser"
   ]
  },
  {
   "cell_type": "code",
   "execution_count": null,
   "id": "85091610-74c4-409a-8e94-78c78c124b38",
   "metadata": {},
   "outputs": [],
   "source": [
    "from operator import itemgetter\n",
    "\n",
    "\n",
    "final_pipeline = RunnablePassthrough.assign(context=pipeline_perplexity|itemgetter(\"content\"))|pipeline_deepseek"
   ]
  },
  {
   "cell_type": "code",
   "execution_count": null,
   "id": "ea49c045-a979-4327-96c3-70171d952969",
   "metadata": {},
   "outputs": [],
   "source": [
    "output = final_pipeline.invoke({\"ticker\": '2382 HK'})"
   ]
  },
  {
   "cell_type": "code",
   "execution_count": null,
   "id": "050c7fdc-3665-427f-9f68-fb259fc63200",
   "metadata": {},
   "outputs": [],
   "source": [
    "print(output)"
   ]
  },
  {
   "cell_type": "code",
   "execution_count": null,
   "id": "b4c37287-9c12-447b-8df9-a883dacf9057",
   "metadata": {},
   "outputs": [],
   "source": []
  }
 ],
 "metadata": {
  "kernelspec": {
   "display_name": "Python 3 (ipykernel)",
   "language": "python",
   "name": "python3"
  },
  "language_info": {
   "codemirror_mode": {
    "name": "ipython",
    "version": 3
   },
   "file_extension": ".py",
   "mimetype": "text/x-python",
   "name": "python",
   "nbconvert_exporter": "python",
   "pygments_lexer": "ipython3",
   "version": "3.10.16"
  }
 },
 "nbformat": 4,
 "nbformat_minor": 5
}
