{
 "cells": [
  {
   "cell_type": "markdown",
   "id": "c8fe44cd-ebf7-4fe0-8812-d6ae1a8f033e",
   "metadata": {},
   "source": [
    "## Two-Sample t-test\n",
    "\n",
    "The two-sample t-test is a statistical hypothesis test used to determine if two independent samples have different means. It assesses whether the difference in the means of two groups is statistically significant or if it could have occurred by chance.\n",
    "\n",
    "### How it Works:\n",
    "- Null Hypothesis (\n",
    "$H_0$\n",
    " ): There is no significant difference between the means of the two groups.\n",
    "\n",
    "- Alternative Hypothesis (\n",
    "$H_a$\n",
    "​\n",
    " ): There is a significant difference between the means of the two groups.\n",
    "\n",
    "- Assumptions:\n",
    "\n",
    "    - Each group follows a normal distribution.\n",
    "    - The variances of the two groups are equal (for the equal variance t-test, also known as Welch's t-test if unequal variances).\n",
    "    - The samples are independent.\n",
    "\n",
    "- Test Statistic: The test statistic (t-statistic) is calculated based on the difference in sample means adjusted for sample sizes and standard deviations.\n",
    "\n",
    "- Decision: If the calculated t-statistic is larger than a critical value from the t-distribution (based on chosen significance level, usually 0.05), then we reject the null hypothesis and conclude that there is a significant difference between the means of the two groups."
   ]
  },
  {
   "cell_type": "markdown",
   "id": "c9ca8d2e-a71a-479f-b0d9-93684bb7c291",
   "metadata": {},
   "source": [
    "### Use Cases:\n",
    "\n",
    "- #### Medical Research:\n",
    "\n",
    "    - Example: Testing the effectiveness of a new drug by comparing the average recovery time of patients who receive the drug versus those who receive a placebo.\n",
    "    - Use: Researchers use a two-sample t-test to determine if there is a statistically significant difference in recovery times between the two groups.\n",
    "\n",
    "- #### Market Research:\n",
    "\n",
    "    - Example: Comparing the average sales of a product before and after a marketing campaign.\n",
    "    - Use: Marketers use a two-sample t-test to assess whether the marketing campaign has had a significant impact on sales.\n",
    "\n",
    "- #### Education:\n",
    "\n",
    "    - Example: Comparing the exam scores of students who used different study methods (e.g., traditional lectures vs. online tutorials).\n",
    "    - Use: Educators use a two-sample t-test to evaluate which study method leads to better academic performance.\n",
    "\n",
    "- #### Quality Control:\n",
    "\n",
    "    - Example: Comparing the mean strength of two different materials used in manufacturing.\n",
    "    - Use: Engineers use a two-sample t-test to determine if there is a significant difference in the strength characteristics between the two materials."
   ]
  },
  {
   "cell_type": "markdown",
   "id": "89b9402f-08d2-48d4-92f3-bc84b3e079b4",
   "metadata": {},
   "source": [
    "Sample 1:\n",
    "\n",
    "    Sample size n1 = 40\n",
    "    Sample mean weight x1 = 300\n",
    "    Sample standard deviation s1 = 18.5\n",
    "\n",
    "Sample 2:\n",
    "\n",
    "    Sample size n2 = 38\n",
    "    Sample mean weight x2 = 305\n",
    "    Sample standard deviation s2 = 16.7\n"
   ]
  },
  {
   "cell_type": "markdown",
   "id": "6334b0c2-4ef9-4092-886f-7c5d2faa96cd",
   "metadata": {},
   "source": [
    "Calculate the test statistic and p-value.\n",
    "\n",
    "\n",
    "$$t = \\frac{{\\mu_1}-{\\mu_2}}{s_p\\sqrt{1/n_1 + 1/n_2}}$$\n",
    "    \n",
    "where $$s_p = \\sqrt{\\frac{(n_1-1)*s_1^2 + (n_2-1)*s_2^2}{n_1 + n_2 - 2}} $$ "
   ]
  },
  {
   "cell_type": "code",
   "execution_count": 1,
   "id": "861b5359-dd53-4cda-a56c-43b29a8a8168",
   "metadata": {},
   "outputs": [],
   "source": [
    "import numpy as np\n",
    "\n",
    "# 1. Calculate $s_p$\n",
    "\n",
    "s_p = np.sqrt(((40-1) * 18.5**2 + (38-1) * 16.7**2)/(40 + 38 - 2))"
   ]
  },
  {
   "cell_type": "code",
   "execution_count": 7,
   "id": "be95d77d-3d1a-4964-a25c-acfa32c20f50",
   "metadata": {},
   "outputs": [],
   "source": [
    "t = (300 - 305)/(s_p * np.sqrt(1/40 + 1/38))"
   ]
  },
  {
   "cell_type": "code",
   "execution_count": 8,
   "id": "3cb8c176-683c-43fd-9730-d37932bcafaa",
   "metadata": {},
   "outputs": [
    {
     "data": {
      "text/plain": [
       "-1.2507848831518829"
      ]
     },
     "execution_count": 8,
     "metadata": {},
     "output_type": "execute_result"
    }
   ],
   "source": [
    "t"
   ]
  },
  {
   "cell_type": "markdown",
   "id": "5a4007d8-8341-40db-aab3-17067b952d50",
   "metadata": {},
   "source": [
    "- degree of freedom: $\\text{df} = n_1 + n_2 - 2$"
   ]
  },
  {
   "cell_type": "code",
   "execution_count": 11,
   "id": "eebad5e4-4e6c-4426-85c7-82a97f79454f",
   "metadata": {},
   "outputs": [],
   "source": [
    "from scipy import stats\n",
    "\n",
    "z_score = stats.t.ppf(0.025, 40 + 38 - 2)"
   ]
  },
  {
   "cell_type": "code",
   "execution_count": 12,
   "id": "1b6460c9-99f6-42e3-8a54-0a1936ad3cb3",
   "metadata": {},
   "outputs": [
    {
     "data": {
      "text/plain": [
       "-1.9916726096446644"
      ]
     },
     "execution_count": 12,
     "metadata": {},
     "output_type": "execute_result"
    }
   ],
   "source": [
    "z_score"
   ]
  },
  {
   "cell_type": "markdown",
   "id": "6bef0ad4-fcff-4c8b-b43d-99e1282eff69",
   "metadata": {},
   "source": [
    "<!-- $$ t_{0.95, 76} = 1.665 $$\n",
    "\n",
    "Because $ t < z_{0.95, 76} $, we reject the null hypothesis -->"
   ]
  },
  {
   "cell_type": "markdown",
   "id": "ceb0fee0-76c0-471c-88b4-75fccdd6ec87",
   "metadata": {},
   "source": [
    "The following two-sample t-test was generated for the AUTO83B.DAT data set. The data set contains miles per gallon for U.S. cars (sample 1) and for Japanese cars (sample 2); the summary statistics for each sample are shown below.\n",
    "\n",
    "    SAMPLE 1:\n",
    "        NUMBER OF OBSERVATIONS      = 249\n",
    "        MEAN                        =  20.14458\n",
    "        STANDARD DEVIATION          =   6.41470\n",
    "        STANDARD ERROR OF THE MEAN  =   0.40652\n",
    "  \n",
    "    SAMPLE 2:\n",
    "        NUMBER OF OBSERVATIONS      = 79\n",
    "        MEAN                        = 30.48101\n",
    "        STANDARD DEVIATION          =  6.10771\n",
    "        STANDARD ERROR OF THE MEAN  =  0.68717\n",
    "\n",
    "We are testing the hypothesis that the population means are equal for the two samples. \n",
    "\n",
    "We assume that the variances for the two samples are equal.\n",
    "\n",
    "H0:  μ1 = μ2\n",
    "\n",
    "Ha:  μ1 ≠ μ2"
   ]
  },
  {
   "cell_type": "code",
   "execution_count": 5,
   "id": "b6df3363-1308-4007-9861-82c10a5b7fd6",
   "metadata": {},
   "outputs": [],
   "source": [
    "def run_sp(s_1, n_1, s_2, n_2):\n",
    "    \n",
    "    s_p = np.sqrt(((n_1-1) * s_1**2 + (n_2-1) * s_2**2)/(n_1 + n_2 - 2))\n",
    "    \n",
    "    return s_p\n",
    "    \n",
    "s_p = run_sp(6.4147, 249, 6.10771, 79)"
   ]
  },
  {
   "cell_type": "markdown",
   "id": "84dab1ba-5b7f-4c89-8927-838afd9787ed",
   "metadata": {},
   "source": [
    "## Simulation Examples"
   ]
  },
  {
   "cell_type": "code",
   "execution_count": 1,
   "id": "b5112f07-4e94-46d0-870b-05424672d006",
   "metadata": {},
   "outputs": [
    {
     "name": "stdout",
     "output_type": "stream",
     "text": [
      "Sample 1: [52.48357077 49.30867849 53.23844269 57.61514928 48.82923313 48.82931522\n",
      " 57.89606408 53.83717365 47.65262807 52.71280022 47.68291154 47.67135123\n",
      " 51.20981136 40.43359878 41.37541084 47.18856235 44.9358444  51.57123666\n",
      " 45.45987962 42.93848149 57.32824384 48.8711185  50.33764102 42.87625907\n",
      " 47.27808638 50.55461295 44.24503211 51.87849009 46.99680655 48.54153125\n",
      " 46.99146694 59.26139092 49.93251388 44.71144536 54.11272456 43.89578175\n",
      " 51.04431798 40.20164938 43.35906976 50.98430618 53.6923329  50.85684141\n",
      " 49.42175859 48.49448152 42.60739005 46.40077896 47.69680615 55.28561113\n",
      " 51.71809145 41.18479922 51.62041985 48.0745886  46.61539    53.05838144\n",
      " 55.15499761 54.6564006  45.80391238 48.45393812 51.65631716 54.87772564\n",
      " 47.60412881 49.07170512 44.46832513 44.01896688 54.06262911 56.78120014\n",
      " 49.63994939 55.01766449 51.80818013 46.77440123 51.80697803 57.69018283\n",
      " 49.8208698  57.82321828 36.90127448 54.10951252 50.43523534 48.50496325\n",
      " 50.45880388 40.06215543 48.90164056 51.78556286 57.38947022 47.40864891\n",
      " 45.95753199 47.49121478 54.57701059 51.64375555 47.35119898 52.56633717\n",
      " 50.48538775 54.84322495 46.48973453 48.36168927 48.03945923 42.68242526\n",
      " 51.48060139 51.30527636 50.02556728 48.82706433]\n",
      "Sample 2: [47.92314629 52.89677339 53.28642742 50.98861365 54.19357144 57.02025428\n",
      " 64.43092951 55.87288906 56.28775195 54.62777042 45.40614392 54.86743062\n",
      " 55.30115105 67.31621056 54.03819518 56.50773671 54.82644115 49.15660981\n",
      " 60.71411407 58.75966516 58.95515974 50.45306273 62.01397155 47.99074469\n",
      " 57.93428547 65.95227813 50.04731837 52.16851135 55.49825683 52.48262173\n",
      " 47.24668284 55.34281487 49.68848143 57.36796215 50.40287883 62.74967203\n",
      " 51.08373354 53.38969242 59.06758609 48.84567842 56.13729967 61.53571377\n",
      " 46.96258383 55.92316929 56.29941397 58.90911436 48.81524645 48.39771693\n",
      " 57.60970783 56.48492337 56.25246425 56.73224105 51.59987639 56.16126849\n",
      " 56.46536237 51.42824291 64.32887256 57.3691646  49.04348251 58.28276804\n",
      " 50.12659165 58.93542302 60.7929779  50.89658841 59.81688065 57.06390463\n",
      " 59.1103008  64.48396491 53.77305942 51.23131918 50.55242785 50.92094858\n",
      " 54.61449145 56.70575987 56.383454   59.13591625 55.06500946 62.26767039\n",
      " 53.67671583 68.60084583 58.12833674 50.71421222 49.64553751 57.41236208\n",
      " 53.88268607 58.57000247 57.36618812 54.63585544 50.76603141 47.42576388\n",
      " 52.76742524 59.28199397 56.07046872 48.77130611 55.86590463 56.9265869\n",
      " 50.58071282 55.76862553 55.29104359 49.28514851]\n"
     ]
    }
   ],
   "source": [
    "import numpy as np\n",
    "\n",
    "# Seed for reproducibility\n",
    "np.random.seed(42)\n",
    "\n",
    "# Generate sample data\n",
    "# Sample 1: mean = 50, std dev = 5, 100 data points\n",
    "sample1 = np.random.normal(loc=50, scale=5, size=100)\n",
    "\n",
    "# Sample 2: mean = 55, std dev = 5, 100 data points\n",
    "sample2 = np.random.normal(loc=55, scale=5, size=100)\n",
    "\n",
    "print(\"Sample 1:\", sample1)\n",
    "print(\"Sample 2:\", sample2)"
   ]
  },
  {
   "cell_type": "code",
   "execution_count": 10,
   "id": "9973c785-8487-4a8f-ae26-40c3ee41ca56",
   "metadata": {},
   "outputs": [],
   "source": [
    "mean_1 = sample1.mean()\n",
    "mean_2 = sample2.mean()\n",
    "std_1 = sample1.std(ddof=1)\n",
    "std_2 = sample2.std(ddof=1)"
   ]
  },
  {
   "cell_type": "code",
   "execution_count": 11,
   "id": "c1351da1-268b-41f9-90c7-a4b175df5934",
   "metadata": {},
   "outputs": [],
   "source": [
    "s_p = run_sp(std_1, len(sample1), std_2, len(sample2))"
   ]
  },
  {
   "cell_type": "code",
   "execution_count": 12,
   "id": "36f51e3a-4a95-4238-9e5e-dcd371f92b14",
   "metadata": {},
   "outputs": [],
   "source": [
    "t = (mean_1 - mean_2)/(s_p * np.sqrt(1/(len(sample1)) + 1/(len(sample2))))"
   ]
  },
  {
   "cell_type": "code",
   "execution_count": 13,
   "id": "c79ab6b1-b023-48f4-b0c1-4472a119bd8c",
   "metadata": {},
   "outputs": [
    {
     "data": {
      "text/plain": [
       "-8.551459943248737"
      ]
     },
     "execution_count": 13,
     "metadata": {},
     "output_type": "execute_result"
    }
   ],
   "source": [
    "t"
   ]
  },
  {
   "cell_type": "code",
   "execution_count": 9,
   "id": "54b79fd2-73d5-4f12-85af-bcb5016fa2bb",
   "metadata": {},
   "outputs": [
    {
     "data": {
      "text/plain": [
       "TtestResult(statistic=-8.551459943248737, pvalue=3.2929614287035575e-15, df=198.0)"
      ]
     },
     "execution_count": 9,
     "metadata": {},
     "output_type": "execute_result"
    }
   ],
   "source": [
    "from scipy.stats import ttest_ind\n",
    "\n",
    "ttest_ind(sample1, sample2)"
   ]
  },
  {
   "cell_type": "markdown",
   "id": "d63f95a4-3bc2-435d-a7ea-cdfaf13c1f1e",
   "metadata": {},
   "source": [
    "## Binomial Distribution Null Hypothesis Test\n",
    "\n",
    "### Example Scenario\n",
    "Suppose you are studying a new medication that is claimed to have a 70% success rate in treating a certain condition. You want to test whether this claim is true.\n",
    "\n",
    "### Null Hypothesis ($H_0$)\n",
    "The null hypothesis will state that the true probability of success $p$\n",
    "is equal to the claimed probability. In this case, the null hypothesis is:\n",
    "$$H_0: p=0.7$$\n",
    "\n",
    "### Alternative Hypothesis ($H_a$)\n",
    "The alternative hypothesis could be that the true probability of success is different from the claimed probability. This could be a two-tailed test (not equal to 0.70) or a one-tailed test (greater than or less than 0.70). Here, we'll consider a two-tailed test:\n",
    "$$H_a: p\\neq0.7$$\n",
    "\n",
    "Suppose you conduct 100 trials and observe 65 successes.\n"
   ]
  },
  {
   "cell_type": "code",
   "execution_count": null,
   "id": "101bf74a-346c-4944-b5f4-43093691afb0",
   "metadata": {
    "tags": []
   },
   "outputs": [],
   "source": [
    "n = 100\n",
    "p_measured = 65/100\n",
    "p_0 = 0.7\n",
    "\n",
    "standard_deviation = np.sqrt(p * (1-p)/n)"
   ]
  },
  {
   "cell_type": "code",
   "execution_count": null,
   "id": "f660e381-ba0d-44b9-8071-605e4ce49ad9",
   "metadata": {
    "tags": []
   },
   "outputs": [],
   "source": [
    "z_score = (p_measured - p_0)/standard_deviation"
   ]
  },
  {
   "cell_type": "markdown",
   "id": "fae8a174-fd50-426a-a757-3d1fa77f306d",
   "metadata": {},
   "source": [
    "For a 95% confidence level (two-tailed test), the critical z-values are approximately \n",
    "$\\pm1.96 $"
   ]
  },
  {
   "cell_type": "markdown",
   "id": "5a58f7f4-4d5f-4ddd-a48a-19ad0ad8b84d",
   "metadata": {},
   "source": [
    "### Example Scenario\n",
    "\n",
    "To determine if two coins have the same probability of landing heads or tails by flipping them several times and counting the number of heads and tails that appear.\n",
    "\n",
    "### Null Hypothesis ($H_0$)\n",
    "\n",
    "The two coins have the same probability of landing heads.\n",
    "\n",
    "$$H_0: p_1 = p_2$$\n",
    "\n",
    "### Alternative Hypothesis ($H_a$)\n",
    "\n",
    "The two coins do not have the same probability of landing heads.\n",
    "\n",
    "$$H_a: p_1 \\neq p_2$$\n",
    "\n",
    "\n",
    "### Sample Standard Deviation\n",
    "\n",
    "\n",
    "$$\n",
    "\\text{SE} = \\sqrt{\\hat{p} \\left(1 - \\hat{p}\\right) \\left( \\frac{1}{n_1} + \\frac{1}{n_2} \\right)}\n",
    "$$\n",
    "\n",
    "where:\n",
    "- $\\hat{p}_1$ is the sample proportion of heads for the first coin,\n",
    "- $\\hat{p}_2$ is the sample proportion of heads for the second coin,\n",
    "- $n_1$ is the number of flips for the first coin,\n",
    "- $n_2$ is the number of flips for the second coin,\n",
    "- $\\hat{p}$ is the pooled proportion, calculated as:\n",
    "\n",
    "$$\n",
    "\\hat{p} = \\frac{X_1 + X_2}{n_1 + n_2}\n",
    "$$\n",
    "\n",
    "with $X_1$ and $X_2$ being the number of heads observed for the first and second coin, respectively.\n",
    "\n",
    "\n",
    "Here $p_1$ and $p_2$ are the probabilities of landing heads for Coin 1 and Coin 2, respectively.\n",
    "\n",
    "### z-score\n",
    "\n",
    "$$z = \\frac{(\\hat{p}_1 - \\hat{p}_2)}{\\text{SE}}$$\n",
    "\n",
    "\n",
    "- Coin 1: n = 100, head: 55\n",
    "- Coin 2: n = 100, head: 50"
   ]
  },
  {
   "cell_type": "code",
   "execution_count": null,
   "id": "c4f9b012-5d11-4cc4-8ca4-81398329e5f7",
   "metadata": {},
   "outputs": [],
   "source": [
    "p_1 = 55/100\n",
    "p_2 = 50/100\n",
    "\n",
    "pool_probability = (55 + 50)/(100 + 100)\n",
    "\n",
    "standard_deviation = np.sqrt(pool_probability * (1-pool_probability) * (1/100 + 1/100))\n",
    "\n",
    "z = (p_1 - p_2)/standard_deviation"
   ]
  },
  {
   "cell_type": "markdown",
   "id": "ee617467-436d-4169-85d0-995c68ed859e",
   "metadata": {},
   "source": [
    "## Chi-Squared Test\n",
    "\n",
    "The chi-squared test is used to determine if there is a significant association between two categorical variables. It is often used for:\n",
    "\n",
    "    - Goodness-of-Fit Test: To determine if a sample matches a population with a specific distribution.\n",
    "    - Test of Independence: To determine if there is an association between two categorical variables in a contingency table.\n",
    "    \n"
   ]
  },
  {
   "cell_type": "markdown",
   "id": "4bf0d055-9fc2-4d32-b6da-5a7757c5949c",
   "metadata": {},
   "source": [
    "### Example: Do gender and color preference independent?\n",
    "\n",
    "|  | Blue | Green | Pink |\n",
    "|----------|----------|----------|----------|\n",
    "| Boy | 100 | 150 | 20 |\n",
    "| Girl | 20 | 30 | 180 |\n",
    "\n",
    "\n",
    "### Null Hypothesis ($H_0$)\n",
    "\n",
    "For the population of elementary school students, gender and favorite colors are not related.\n",
    "\n",
    "### Alternative Hypothesis ($H_a)\n",
    "\n",
    "For the population of elementary school students, gender and favorite colors are related.\n",
    "\n",
    "### Set Alpha\n",
    "\n",
    "${\\alpha}=0.05$\n",
    "\n",
    "### Degree of Freedom\n",
    "\n",
    "$\\text{df} = (\\text{n_row}-1) * (\\text{n_col}-1)$\n",
    "\n",
    "### Decision State Rule\n",
    "\n",
    "${t_{0.025, 2}} = 5.99$\n",
    "\n",
    "If ${\\chi}^2 > 5.99$, reject the hypothesis."
   ]
  },
  {
   "cell_type": "markdown",
   "id": "3583b1d9-9487-4a07-97cd-9f6a928bc615",
   "metadata": {},
   "source": [
    "The ${\\chi}^2$-value formula is given by:\n",
    "\n",
    "$$\n",
    "\\chi^2 = \\sum \\frac{(O_i - E_i)^2}{E_i}\n",
    "$$\n",
    "\n",
    "\n",
    "where:\n",
    "- $O_i$ is the observed frequency for the $i$-th category,\n",
    "- $E_i$ is the expected frequency for the $i$-th category."
   ]
  },
  {
   "cell_type": "markdown",
   "id": "aa7b1dde-358b-4a28-b24d-e20d777693ae",
   "metadata": {
    "tags": []
   },
   "source": [
    "|  | Blue | Green | Pink ||\n",
    "|----------|----------|----------|----------|-------|\n",
    "| Boy | 100 | 150 | 20 |270\n",
    "| Girl | 20 | 30 | 180 |230\n",
    "|      | 120| 180|200 \n",
    "\n",
    "- $E_i$ for example, Boy & Blue: 120 * 270 / 500 = 64.8"
   ]
  },
  {
   "cell_type": "markdown",
   "id": "ebf3b186-2c39-42f4-a0f6-a5c4cf6de32a",
   "metadata": {},
   "source": [
    "### Can we perform calculation with python?"
   ]
  },
  {
   "cell_type": "code",
   "execution_count": null,
   "id": "8b9cffb0-8e84-4293-badd-8a20574e9046",
   "metadata": {
    "tags": []
   },
   "outputs": [],
   "source": [
    "import pandas as pd\n",
    "\n",
    "df = pd.DataFrame(data=[[100, 150, 20], [20, 30, 180]], columns=['Blue', \"Green\", \"Pink\"], index=['Boy', 'Girl'])"
   ]
  },
  {
   "cell_type": "code",
   "execution_count": null,
   "id": "0549fa6c-0324-4113-a83f-894f8ccafffe",
   "metadata": {
    "tags": []
   },
   "outputs": [],
   "source": [
    "df"
   ]
  },
  {
   "cell_type": "code",
   "execution_count": null,
   "id": "903d08a9-6c52-43de-a72b-faa1b13d9ff0",
   "metadata": {
    "tags": []
   },
   "outputs": [],
   "source": [
    "df.sum(axis=0)"
   ]
  },
  {
   "cell_type": "code",
   "execution_count": null,
   "id": "30025133-96d8-4e40-a18b-370618c9cdf7",
   "metadata": {
    "tags": []
   },
   "outputs": [],
   "source": [
    "df.sum(axis=1)"
   ]
  },
  {
   "cell_type": "code",
   "execution_count": null,
   "id": "4f9f8ea3-1822-4e1a-a3c3-9eb76c8450c2",
   "metadata": {
    "tags": []
   },
   "outputs": [],
   "source": [
    "color_dict = df.sum(axis=0).to_dict()\n",
    "gender_dict = df.sum(axis=1).to_dict()\n",
    "\n",
    "total_sample = df.sum().sum()"
   ]
  },
  {
   "cell_type": "code",
   "execution_count": null,
   "id": "ee19922a-92ba-45a1-95d4-062679d49465",
   "metadata": {
    "tags": []
   },
   "outputs": [],
   "source": [
    "total_sample"
   ]
  },
  {
   "cell_type": "code",
   "execution_count": null,
   "id": "3740d6f4-9f87-4628-87a5-8ae75d62a922",
   "metadata": {
    "tags": []
   },
   "outputs": [],
   "source": [
    "chi2 = 0\n",
    "\n",
    "for idx, row in df.iterrows():\n",
    "    print(f\"*****{idx}*****\")\n",
    "    for c in df.columns:\n",
    "        E = color_dict[c] * gender_dict[idx]/total_sample\n",
    "        print(f\"{c}: {E}\")\n",
    "        chi2 += (df.loc[idx][c] - E)**2/E"
   ]
  },
  {
   "cell_type": "code",
   "execution_count": null,
   "id": "a315d9ec-190d-4489-ad01-16c5e8a31cef",
   "metadata": {
    "tags": []
   },
   "outputs": [],
   "source": [
    "chi2"
   ]
  },
  {
   "cell_type": "markdown",
   "id": "eb02a998-b1bf-4119-ae9e-ade816da13f9",
   "metadata": {},
   "source": [
    "### It can be even faster with library `scipy`"
   ]
  },
  {
   "cell_type": "code",
   "execution_count": null,
   "id": "2f93da5c-b3ff-44a7-8ec7-b623b0858138",
   "metadata": {
    "tags": []
   },
   "outputs": [],
   "source": [
    "from scipy.stats import chi2_contingency"
   ]
  },
  {
   "cell_type": "code",
   "execution_count": null,
   "id": "5d7a74dc-3bd3-4549-a52f-d150f9b8148f",
   "metadata": {
    "tags": []
   },
   "outputs": [],
   "source": [
    "chi2_contingency([[100, 150, 20], [20, 30, 180]])"
   ]
  },
  {
   "cell_type": "code",
   "execution_count": null,
   "id": "f1584666-cd3f-4b89-92bf-169947f258df",
   "metadata": {
    "tags": []
   },
   "outputs": [],
   "source": [
    "output = chi2_contingency([[100, 150, 20], [20, 30, 180]])"
   ]
  },
  {
   "cell_type": "code",
   "execution_count": null,
   "id": "7bd700ef-6de8-4e02-8087-fe0cd942ec47",
   "metadata": {
    "tags": []
   },
   "outputs": [],
   "source": [
    "output.statistic"
   ]
  },
  {
   "cell_type": "code",
   "execution_count": null,
   "id": "827fe5bc-eb4d-43fb-83d3-9755d64ba738",
   "metadata": {
    "tags": []
   },
   "outputs": [],
   "source": [
    "output.pvalue"
   ]
  },
  {
   "cell_type": "code",
   "execution_count": null,
   "id": "24347c8e-5a8a-4fff-be19-5e07cca259cb",
   "metadata": {},
   "outputs": [],
   "source": []
  }
 ],
 "metadata": {
  "kernelspec": {
   "display_name": "Python 3 (ipykernel)",
   "language": "python",
   "name": "python3"
  },
  "language_info": {
   "codemirror_mode": {
    "name": "ipython",
    "version": 3
   },
   "file_extension": ".py",
   "mimetype": "text/x-python",
   "name": "python",
   "nbconvert_exporter": "python",
   "pygments_lexer": "ipython3",
   "version": "3.10.14"
  }
 },
 "nbformat": 4,
 "nbformat_minor": 5
}
