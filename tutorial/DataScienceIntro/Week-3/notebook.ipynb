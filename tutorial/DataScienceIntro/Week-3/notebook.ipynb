{
 "cells": [
  {
   "cell_type": "markdown",
   "id": "4a31060d-e8cd-47dd-a58c-f1c39a13d7f1",
   "metadata": {},
   "source": [
    "## Other Distributions\n",
    "\n",
    "### Poisson Distribution\n",
    "\n",
    "The Poisson distribution is a discrete probability distribution that expresses the probability of a given number of events occurring in a fixed interval of time or space. It is used for modeling the number of times an event happens within a specific period or area, assuming the events occur independently and at a constant average rate.\n",
    "\n",
    "#### Key Characteristics:\n",
    "\n",
    "- Discrete: The distribution models counts of events (e.g., number of occurrences).\n",
    "- Constant Rate: The average rate (λ, lambda) at which events occur is constant.\n",
    "- Independence: Events occur independently of each other.\n",
    "\n",
    "#### Poisson Probability Mass Function (PMF)\n",
    "\n",
    "The probability of observing $k$ events in an interval is given by:\n",
    "$$P(X=k)=\\frac{\\exp^{-\\lambda}\\lambda^k}{k!}$$\n",
    "\n",
    "where:\n",
    "\n",
    "- $e$ is the base of the natural logarithm (approximately 2.71828)\n",
    "- $\\lambda$ is the average rate of events (mean number of events)\n",
    "- $k$ is the number of occurrences\n",
    "\n",
    "#### Example 1: Customer Arrivals at a Store\n",
    "\n",
    "Let's say a store on average gets 5 customers per hour. We want to calculate the probability that exactly 3 customers will arrive in the next hour.\n",
    "\n",
    "Given:\n",
    "\n",
    "- $\\lambda$ (average rate) = 5 customers/hour\n",
    "- $k$ (number of occurrences) = 3 customers"
   ]
  },
  {
   "cell_type": "code",
   "execution_count": null,
   "id": "102345b2-b450-45e1-bf2f-aa4d35d1c688",
   "metadata": {
    "tags": []
   },
   "outputs": [],
   "source": [
    "from scipy.stats import poisson\n",
    "\n",
    "\"\"\"\n",
    "P(X=3)\n",
    "\"\"\"\n",
    "\n",
    "poisson.pmf(mu=5, k=3)"
   ]
  },
  {
   "cell_type": "code",
   "execution_count": null,
   "id": "5485fb63-2ca1-42ce-983e-16bb6b278506",
   "metadata": {
    "tags": []
   },
   "outputs": [],
   "source": [
    "import numpy as np\n",
    "\n",
    "np.exp(-5) * np.power(5, 3)/(6)"
   ]
  },
  {
   "cell_type": "markdown",
   "id": "52068b5e-88f4-4333-ada8-fe6b69ac5ad2",
   "metadata": {},
   "source": [
    "#### Example 2: Number of Emails Received\n",
    "\n",
    "Suppose you receive an average of 2 emails per hour. What is the probability that you receive no emails in the next hour?\n",
    "\n",
    "Given:\n",
    "\n",
    "- $\\lambda$ (average rate) = 2 emails/hour\n",
    "- $k$ (number of occurrences) = 0 emails"
   ]
  },
  {
   "cell_type": "code",
   "execution_count": null,
   "id": "2a94e576-eccd-4ce7-accc-636a64271b00",
   "metadata": {
    "tags": []
   },
   "outputs": [],
   "source": [
    "poisson.pmf(mu=2, k=0)"
   ]
  },
  {
   "cell_type": "markdown",
   "id": "b46d6cda-c8ce-4e57-82d0-1b4f3714c7c3",
   "metadata": {},
   "source": [
    "### Geometric Distribution\n",
    "\n",
    "The geometric distribution is a discrete probability distribution that models the number of trials needed for the first success in a sequence of independent and identically distributed Bernoulli trials. In simpler terms, it represents the probability that the first occurrence of success requires $k$ independent trials, each with success probability $p$.\n",
    "\n",
    "#### Key Characteristics:\n",
    "\n",
    "- Discrete: It models counts of trials until the first success.\n",
    "- Independent Trials: Each trial is independent of the others.\n",
    "- Constant Probability: The probability of success $p$ is the same for each trial.\n",
    "\n",
    "#### Geometric Probability Mass Function (PMF)\n",
    "\n",
    "The probability that the first success occurs on the $k$-th trial is given by:\n",
    "$$P(X=k)=(1-p)^{k-1}p$$\n",
    "\n",
    "where:\n",
    "\n",
    "- $p$ is the probability of success on any given trial\n",
    "- $k$ is the trial number on which the first success occurs\n",
    "- $1-p$ is the probability of failure on any given trial."
   ]
  },
  {
   "cell_type": "markdown",
   "id": "0731fb2e-d132-4bd8-b912-e92287d40153",
   "metadata": {},
   "source": [
    "#### Example 1: Coin Toss\n",
    "\n",
    "Let's say you are tossing a fair coin, and you want to know the probability that the first heads (success) appears on the 3rd toss.\n",
    "\n",
    "Given:\n",
    "\n",
    "- $p$ (probability of heads) = 0.5\n",
    "- $k$ (trial number for first heads) = 3"
   ]
  },
  {
   "cell_type": "code",
   "execution_count": null,
   "id": "60b28419-a792-4a26-8d54-03dda84e507d",
   "metadata": {},
   "outputs": [],
   "source": [
    "import numpy as np\n",
    "\n",
    "p = 0.5\n",
    "k = 3\n",
    "\n",
    "probability = np.power(1-p, k-1) * p"
   ]
  },
  {
   "cell_type": "markdown",
   "id": "ba8ca5ab-8a8a-4910-83e6-49732a714aa5",
   "metadata": {},
   "source": [
    "#### Example 2: Rolling a Die\n",
    "\n",
    "Suppose you are rolling a fair six-sided die, and you want to find the probability that the first time you roll a 6 (success) is on the 5th roll.\n",
    "\n",
    "Given:\n",
    "\n",
    "- $p$ (probability of rolling a 6) = $frac{1}{6}$\n",
    "- $k$ (trial number for first 6) = 5"
   ]
  },
  {
   "cell_type": "code",
   "execution_count": null,
   "id": "3e764150-e623-4e1d-ad19-2f68a640650d",
   "metadata": {
    "tags": []
   },
   "outputs": [],
   "source": [
    "import numpy as np\n",
    "\n",
    "p = 1/6\n",
    "k = 5\n",
    "\n",
    "probability = np.power(1-p, k-1) * p"
   ]
  },
  {
   "cell_type": "markdown",
   "id": "bef828d2-812d-479c-8ed4-3537485a18b8",
   "metadata": {},
   "source": [
    "## Requests\n",
    "\n",
    "- URL Assignment: The first line of code assigns a web address (URL) to a variable named url. This URL points to a text file hosted on the internet.\n",
    "\n",
    "- Request to Retrieve Data: The second line uses Python's requests library to make a request to the URL specified by url. This request retrieves the contents of the text file located at that URL (index.txt). The allow_redirects=True parameter allows the request to follow any redirections that the server might instruct."
   ]
  },
  {
   "cell_type": "code",
   "execution_count": null,
   "id": "249da0f2-a690-4c61-88ef-9d49ab10d2e5",
   "metadata": {},
   "outputs": [],
   "source": [
    "import requests\n",
    "\n",
    "import pandas as pd\n",
    "\n",
    "url=\"https://online.stat.psu.edu/stat462/sites/onlinecourses.science.psu.edu.stat462/files/data/skincancer/index.txt\"\n",
    "r = requests.get(url, allow_redirects=True)"
   ]
  },
  {
   "cell_type": "markdown",
   "id": "42f79fe7-8890-462f-b22b-08fbec03916a",
   "metadata": {},
   "source": [
    "Saving Data Locally: The with open('index.txt', 'wb') as f: part begins a block of code that opens a file named index.txt in write mode ('wb' means write binary). Inside this block, the retrieved content (r.content) from the web request is written into this local file (index.txt). This effectively saves a copy of the text file from the internet onto your computer."
   ]
  },
  {
   "cell_type": "code",
   "execution_count": null,
   "id": "2f1cd748-3b5d-460d-8dd6-4cdf5850724a",
   "metadata": {},
   "outputs": [],
   "source": [
    "with open('index.txt', 'wb') as f:\n",
    "    f.write(r.content)"
   ]
  },
  {
   "cell_type": "markdown",
   "id": "022f54c6-5eea-494e-883d-2908c2815054",
   "metadata": {},
   "source": [
    "Loading Data into Pandas DataFrame: Finally, the last line of code uses the pandas library (pd) to read the contents of the index.txt file into a DataFrame (c). - \n",
    "\n",
    "- The read_csv function of pandas is used here with the following parameters:\n",
    "'index.txt': This specifies the filename from which to read the CSV data.\n",
    "- delim_whitespace=True: This parameter tells pandas to use whitespace (spaces, tabs) as the delimiter between columns in the text file, instead of commas which is the default for CSV files."
   ]
  },
  {
   "cell_type": "code",
   "execution_count": null,
   "id": "df5ed56e-afe5-48de-a9ae-0e051bf0a807",
   "metadata": {},
   "outputs": [],
   "source": [
    "c = pd.read_csv('index.txt', delim_whitespace=True)"
   ]
  },
  {
   "cell_type": "markdown",
   "id": "aabefb7c-3790-4154-bba7-77a8a8d6af45",
   "metadata": {},
   "source": [
    "### Summary in Simple Terms:\n",
    "\n",
    "- The code fetches data from a specific web address that hosts a text file (index.txt).\n",
    "- It then saves a copy of this text file onto your computer.\n",
    "- Finally, it loads the data from this saved file into a format that allows easy manipulation and analysis, represented as a table-like structure called a DataFrame."
   ]
  },
  {
   "cell_type": "markdown",
   "id": "1b464453-f6be-4a67-b356-8a642a8779e9",
   "metadata": {},
   "source": [
    "## Visualization with Matplotlib"
   ]
  },
  {
   "cell_type": "code",
   "execution_count": null,
   "id": "3e5f3fb9-5efc-4722-8db0-86f2ad19cf08",
   "metadata": {},
   "outputs": [],
   "source": [
    "import pandas as pd\n",
    "\n",
    "temperature_df = pd.read_excel(\"../Week-1/Data.xlsx\", sheet_name='Temperature', index_col=0)\n",
    "rainfall_df = pd.read_excel(\"../Week-1/Data.xlsx\", sheet_name='Rainfall', index_col=0)"
   ]
  },
  {
   "cell_type": "code",
   "execution_count": null,
   "id": "96f39775-e8f4-4aa7-8a40-260d69321c45",
   "metadata": {},
   "outputs": [],
   "source": [
    "rainfall_df"
   ]
  },
  {
   "cell_type": "code",
   "execution_count": null,
   "id": "d1a3f3fa-4cff-4de6-94d5-fe0311f47035",
   "metadata": {},
   "outputs": [],
   "source": [
    "temperature_df"
   ]
  },
  {
   "cell_type": "code",
   "execution_count": null,
   "id": "013528c4-1829-4d0a-846a-0c8b8ce3f9d5",
   "metadata": {
    "tags": []
   },
   "outputs": [],
   "source": [
    "import matplotlib.pyplot as plt\n",
    "\n",
    "fig, ax = plt.subplots()\n",
    "\n",
    "ax.plot(temperature_df.columns, temperature_df.loc['OXFORD'].values, c='b', linestyle='--', label='OXFORD')\n",
    "ax.scatter(temperature_df.columns, temperature_df.loc['OXFORD'].values, c='b')\n",
    "\n",
    "ax.plot(temperature_df.columns, temperature_df.loc['BUENOS AIRES'].values, c='r', linestyle='--', label='BUENOS AIRES')\n",
    "ax.scatter(temperature_df.columns, temperature_df.loc['BUENOS AIRES'].values, c='r')\n",
    "\n",
    "ax.set_ylabel(\"Temperature (C)\")\n",
    "ax.set_xlabel(\"Month\")\n",
    "\n",
    "ax.legend()\n",
    "\n",
    "plt.tight_layout()"
   ]
  },
  {
   "cell_type": "markdown",
   "id": "8d2695f3-746e-4b4a-85ac-f174a74398db",
   "metadata": {},
   "source": [
    "### Two plots in a single graph"
   ]
  },
  {
   "cell_type": "code",
   "execution_count": null,
   "id": "34458f6e-6044-45f8-97ee-8c91566e28a2",
   "metadata": {
    "tags": []
   },
   "outputs": [],
   "source": [
    "fig, axs = plt.subplots(nrows=2, sharex=True)\n",
    "\n",
    "ax = axs[0]\n",
    "\n",
    "ax.plot(temperature_df.columns, temperature_df.loc['BAGHDAD'].values, c='b', linestyle='--', label='BAGHDAD')\n",
    "ax.scatter(temperature_df.columns, temperature_df.loc['BAGHDAD'].values, c='b')\n",
    "\n",
    "ax.plot(temperature_df.columns, temperature_df.loc['Cairo'].values, c='r', linestyle='--', label='Cairo')\n",
    "ax.scatter(temperature_df.columns, temperature_df.loc['Cairo'].values, c='r')\n",
    "\n",
    "ax.set_ylabel(\"Temperature (C)\")\n",
    "# ax.set_xlabel(\"Month\")\n",
    "\n",
    "ax.legend()\n",
    "\n",
    "ax = axs[1]\n",
    "\n",
    "ax.plot(rainfall_df.columns, rainfall_df.loc['BAGHDAD'].values, c='b', linestyle='--', label='BAGHDAD')\n",
    "ax.scatter(rainfall_df.columns, rainfall_df.loc['BAGHDAD'].values, c='b')\n",
    "\n",
    "ax.plot(rainfall_df.columns, rainfall_df.loc['Cairo'].values, c='r', linestyle='--', label='Cairo')\n",
    "ax.scatter(rainfall_df.columns, rainfall_df.loc['Cairo'].values, c='r')\n",
    "\n",
    "ax.set_ylabel(\"rainfall (mm)\")\n",
    "ax.set_xlabel(\"Month\")\n",
    "\n",
    "ax.legend()\n",
    "\n",
    "plt.tight_layout()"
   ]
  },
  {
   "cell_type": "markdown",
   "id": "7a2ffa2e-8172-4e1d-a117-4ad158c411b6",
   "metadata": {},
   "source": [
    "### piechart"
   ]
  },
  {
   "cell_type": "code",
   "execution_count": null,
   "id": "1abb352c-c4c4-4867-8328-6db5d4de0429",
   "metadata": {
    "tags": []
   },
   "outputs": [],
   "source": [
    "# Data for the pie chart\n",
    "labels = ['New York', 'Los Angeles', 'Chicago', 'Houston', 'Phoenix']\n",
    "sales = [250, 200, 150, 100, 90]\n",
    "\n",
    "# Create a pie chart\n",
    "plt.figure(figsize=(8, 8))  # Optional: Set the figure size\n",
    "plt.pie(sales, labels=labels, autopct='%1.1f%%', startangle=140)\n",
    "\n",
    "# Add a title\n",
    "plt.title('Sales Distribution by City')\n",
    "\n",
    "# Show the pie chart\n",
    "plt.show()"
   ]
  },
  {
   "cell_type": "markdown",
   "id": "73682c56-07ae-4019-9d73-ab57d1701252",
   "metadata": {},
   "source": [
    "#### plt.pie(): \n",
    "    The function to create a pie chart.\n",
    "\n",
    "- sales: The data values.\n",
    "- labels: The labels for each slice.\n",
    "- autopct='%1.1f%%': Display the percentage value inside each slice.\n",
    "- startangle=140: Start the pie chart at a specific angle (optional)."
   ]
  },
  {
   "cell_type": "code",
   "execution_count": null,
   "id": "18e92d6c-313d-476d-b40f-d79570c56e0c",
   "metadata": {
    "tags": []
   },
   "outputs": [],
   "source": [
    "# Data for the pie chart\n",
    "labels = ['Los Angeles', 'New York', 'Chicago', 'Houston', 'Phoenix']\n",
    "sales = [250, 200, 150, 100, 90]\n",
    "colors = ['#ff9999','#66b3ff','#99ff99','#ffcc99','#c2c2f0']  # Optional: Custom colors\n",
    "\n",
    "# Create a pie chart\n",
    "plt.figure(figsize=(8, 8))  # Optional: Set the figure size\n",
    "plt.pie(sales, labels=labels, autopct='%1.1f%%', startangle=140, colors=colors, shadow=True, explode=(0.1, 0, 0, 0, 0))\n",
    "\n",
    "# Add a title\n",
    "plt.title('Sales Distribution by City')\n",
    "\n",
    "# Show the pie chart\n",
    "plt.show()"
   ]
  },
  {
   "cell_type": "markdown",
   "id": "2ac3862f-7942-40ea-a64a-46a07ae80821",
   "metadata": {},
   "source": [
    "#### Additional Parameters:\n",
    "- colors: Custom colors for the slices.\n",
    "- shadow=True: Adds a shadow to the pie chart.\n",
    "- explode: A tuple to offset a slice from the center."
   ]
  },
  {
   "cell_type": "markdown",
   "id": "f2518554-9524-4fc7-916a-02ed933b5247",
   "metadata": {},
   "source": [
    "### Plot with Error Bars"
   ]
  },
  {
   "cell_type": "code",
   "execution_count": null,
   "id": "d113ac52-c8ac-4dde-a5d2-675103d0fe25",
   "metadata": {
    "tags": []
   },
   "outputs": [],
   "source": [
    "import numpy as np\n",
    "\n",
    "# Data for the plot\n",
    "x = np.arange(0, 10, 1)\n",
    "y = np.sin(x)\n",
    "error = np.random.rand(10) * 0.2  # Random error values\n",
    "\n",
    "# Create a plot with error bars\n",
    "plt.figure(figsize=(10, 6))\n",
    "plt.errorbar(x, y, yerr=error, fmt='o', ecolor='red', capsize=5, capthick=2, label='Data with error')\n",
    "\n",
    "# Add labels and title\n",
    "plt.xlabel('X axis')\n",
    "plt.ylabel('Y axis')\n",
    "plt.title('Plot with Error Bars')\n",
    "plt.legend()\n",
    "\n",
    "# Show the plot\n",
    "plt.show()"
   ]
  },
  {
   "cell_type": "markdown",
   "id": "ec2ae213-c551-4346-8083-bd8ce9e691d2",
   "metadata": {},
   "source": [
    "#### plt.errorbar(): \n",
    "    The function to create a plot with error bars.\n",
    "- x, y: The data values.\n",
    "- yerr=error: The error values for the y data.\n",
    "- fmt='o': The format of the plot points ('o' stands for circular markers).\n",
    "- ecolor='red': The color of the error bars.\n",
    "- capsize=5: The size of the caps on the error bars.\n",
    "- capthick=2: The thickness of the caps.\n",
    "- label='Data with error': The label for the legend."
   ]
  },
  {
   "cell_type": "code",
   "execution_count": null,
   "id": "e7a53fe9-b35c-40c6-9961-2093b78fbabd",
   "metadata": {
    "tags": []
   },
   "outputs": [],
   "source": [
    "# Data for the plot\n",
    "x = np.arange(0, 10, 1)\n",
    "y = np.sin(x)\n",
    "error = np.random.rand(10) * 0.2  # Random error values\n",
    "\n",
    "# Create a plot with error bars\n",
    "plt.figure(figsize=(10, 6))\n",
    "plt.errorbar(x, y, yerr=error, fmt='o', ecolor='red', elinewidth=2, capsize=5, capthick=2, marker='s', markersize=8, \n",
    "             markerfacecolor='blue', markeredgewidth=1, label='Data with error')\n",
    "\n",
    "# Add labels and title\n",
    "plt.xlabel('X axis')\n",
    "plt.ylabel('Y axis')\n",
    "plt.title('Plot with Custom Error Bars')\n",
    "plt.legend()\n",
    "\n",
    "# Show the plot\n",
    "plt.show()"
   ]
  },
  {
   "cell_type": "markdown",
   "id": "29474ba5-0361-434a-aa2f-35abb65102e2",
   "metadata": {},
   "source": [
    "#### Additional Parameters:\n",
    "\n",
    "- elinewidth: The line width of the error bars.\n",
    "- marker: The marker style for the data points.\n",
    "- markersize: The size of the markers.\n",
    "- markerfacecolor: The fill color of the markers.\n",
    "- markeredgewidth: The edge width of the markers."
   ]
  },
  {
   "cell_type": "markdown",
   "id": "084273b3-389d-493d-a6a0-adc7708a6717",
   "metadata": {},
   "source": [
    "### Bar Plot"
   ]
  },
  {
   "cell_type": "code",
   "execution_count": null,
   "id": "b54daeb7-f367-4b11-9c38-bf76fecc6be9",
   "metadata": {
    "tags": []
   },
   "outputs": [],
   "source": [
    "# Generate random data\n",
    "np.random.seed(42)  # For reproducibility\n",
    "data = np.random.randn(1000)  # 1000 random values from a standard normal distribution\n",
    "\n",
    "# Create a histogram\n",
    "plt.figure(figsize=(10, 6))\n",
    "plt.hist(data, bins=30, alpha=0.5, color='blue', edgecolor='red', histtype='bar', rwidth=1)\n",
    "\n",
    "# Add labels and title\n",
    "plt.xlabel('Value')\n",
    "plt.ylabel('Frequency')\n",
    "plt.title('Customized Histogram of Normally Distributed Data')\n",
    "\n",
    "# Add grid\n",
    "plt.grid(axis='y', alpha=0.75)\n",
    "\n",
    "# Show the histogram\n",
    "plt.show()"
   ]
  },
  {
   "cell_type": "markdown",
   "id": "826c5359-a349-435a-8971-821e73438545",
   "metadata": {},
   "source": [
    "plt.hist(data, bins=30, alpha=0.75, color='blue', edgecolor='black'): Creates the histogram.\n",
    "\n",
    "- data: The data to plot.\n",
    "- bins=30: The number of bins in the histogram.\n",
    "- alpha=0.75: The transparency level of the bars.\n",
    "- color='blue': The color of the bars.\n",
    "- edgecolor='black': The color of the edges of the bars."
   ]
  },
  {
   "cell_type": "code",
   "execution_count": null,
   "id": "2d55a37d-6259-4add-9550-ec9c3fe8f2f1",
   "metadata": {
    "tags": []
   },
   "outputs": [],
   "source": [
    "df = pd.DataFrame(data=[[100, 150, 20], [20, 30, 180]], columns=['Blue', \"Green\", \"Pink\"], index=['Boy', 'Girl'])\n",
    "\n",
    "# Data for the plot\n",
    "categories = df.columns\n",
    "boys = df.loc['Boy']\n",
    "girls = df.loc['Girl']\n",
    "\n",
    "# Create a bar chart\n",
    "fig, ax = plt.subplots(figsize=(10, 6))\n",
    "\n",
    "bar_width = 0.35  # Width of the bars\n",
    "index = np.arange(len(categories))  # The label locations\n",
    "\n",
    "# Plotting the bars\n",
    "bars1 = ax.bar(index, boys, bar_width, label='Boy', color='b')\n",
    "bars2 = ax.bar(index + bar_width, girls, bar_width, label='Girl', color='r')\n",
    "\n",
    "# Adding labels and title\n",
    "ax.set_xlabel('Colors')\n",
    "ax.set_ylabel('Count')\n",
    "ax.set_title('Comparison between Boy and Girl by Color')\n",
    "ax.set_xticks(index + bar_width / 2)\n",
    "ax.set_xticklabels(categories)\n",
    "ax.legend()\n",
    "\n",
    "# Adding values on top of the bars\n",
    "def add_values(bars):\n",
    "    for bar in bars:\n",
    "        height = bar.get_height()\n",
    "        ax.annotate('{}'.format(height),\n",
    "                    xy=(bar.get_x() + bar.get_width() / 2, height),\n",
    "                    xytext=(0, 3),  # 3 points vertical offset\n",
    "                    textcoords=\"offset points\",\n",
    "                    ha='center', va='bottom')\n",
    "\n",
    "add_values(bars1)\n",
    "add_values(bars2)\n",
    "\n",
    "# Show the plot\n",
    "plt.show()"
   ]
  },
  {
   "cell_type": "code",
   "execution_count": null,
   "id": "cca33d3d-074b-4179-adf5-63960475fcb1",
   "metadata": {},
   "outputs": [],
   "source": []
  }
 ],
 "metadata": {
  "kernelspec": {
   "display_name": "Python 3 (ipykernel)",
   "language": "python",
   "name": "python3"
  },
  "language_info": {
   "codemirror_mode": {
    "name": "ipython",
    "version": 3
   },
   "file_extension": ".py",
   "mimetype": "text/x-python",
   "name": "python",
   "nbconvert_exporter": "python",
   "pygments_lexer": "ipython3",
   "version": "3.10.14"
  }
 },
 "nbformat": 4,
 "nbformat_minor": 5
}
