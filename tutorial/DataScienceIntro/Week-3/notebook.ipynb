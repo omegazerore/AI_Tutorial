{
 "cells": [
  {
   "cell_type": "markdown",
   "id": "bf5d37ca-5212-497b-bfa9-eda998295ae9",
   "metadata": {},
   "source": [
    "## Requests\n",
    "\n",
    "- URL Assignment: The first line of code assigns a web address (URL) to a variable named url. This URL points to a text file hosted on the internet.\n",
    "\n",
    "- Request to Retrieve Data: The second line uses Python's requests library to make a request to the URL specified by url. This request retrieves the contents of the text file located at that URL (index.txt). The allow_redirects=True parameter allows the request to follow any redirections that the server might instruct."
   ]
  },
  {
   "cell_type": "code",
   "execution_count": null,
   "id": "249da0f2-a690-4c61-88ef-9d49ab10d2e5",
   "metadata": {},
   "outputs": [],
   "source": [
    "import requests\n",
    "\n",
    "import pandas as pd\n",
    "\n",
    "url=\"https://online.stat.psu.edu/stat462/sites/onlinecourses.science.psu.edu.stat462/files/data/skincancer/index.txt\"\n",
    "r = requests.get(url, allow_redirects=True)"
   ]
  },
  {
   "cell_type": "markdown",
   "id": "42f79fe7-8890-462f-b22b-08fbec03916a",
   "metadata": {},
   "source": [
    "Saving Data Locally: The with open('index.txt', 'wb') as f: part begins a block of code that opens a file named index.txt in write mode ('wb' means write binary). Inside this block, the retrieved content (r.content) from the web request is written into this local file (index.txt). This effectively saves a copy of the text file from the internet onto your computer."
   ]
  },
  {
   "cell_type": "code",
   "execution_count": null,
   "id": "2f1cd748-3b5d-460d-8dd6-4cdf5850724a",
   "metadata": {},
   "outputs": [],
   "source": [
    "with open('index.txt', 'wb') as f:\n",
    "    f.write(r.content)"
   ]
  },
  {
   "cell_type": "markdown",
   "id": "022f54c6-5eea-494e-883d-2908c2815054",
   "metadata": {},
   "source": [
    "Loading Data into Pandas DataFrame: Finally, the last line of code uses the pandas library (pd) to read the contents of the index.txt file into a DataFrame (c). - \n",
    "\n",
    "- The read_csv function of pandas is used here with the following parameters:\n",
    "'index.txt': This specifies the filename from which to read the CSV data.\n",
    "- delim_whitespace=True: This parameter tells pandas to use whitespace (spaces, tabs) as the delimiter between columns in the text file, instead of commas which is the default for CSV files."
   ]
  },
  {
   "cell_type": "code",
   "execution_count": null,
   "id": "df5ed56e-afe5-48de-a9ae-0e051bf0a807",
   "metadata": {},
   "outputs": [],
   "source": [
    "c = pd.read_csv('index.txt', delim_whitespace=True)"
   ]
  },
  {
   "cell_type": "markdown",
   "id": "aabefb7c-3790-4154-bba7-77a8a8d6af45",
   "metadata": {},
   "source": [
    "### Summary in Simple Terms:\n",
    "\n",
    "- The code fetches data from a specific web address that hosts a text file (index.txt).\n",
    "- It then saves a copy of this text file onto your computer.\n",
    "- Finally, it loads the data from this saved file into a format that allows easy manipulation and analysis, represented as a table-like structure called a DataFrame."
   ]
  }
 ],
 "metadata": {
  "kernelspec": {
   "display_name": "Python 3 (ipykernel)",
   "language": "python",
   "name": "python3"
  },
  "language_info": {
   "codemirror_mode": {
    "name": "ipython",
    "version": 3
   },
   "file_extension": ".py",
   "mimetype": "text/x-python",
   "name": "python",
   "nbconvert_exporter": "python",
   "pygments_lexer": "ipython3",
   "version": "3.9.16"
  }
 },
 "nbformat": 4,
 "nbformat_minor": 5
}
