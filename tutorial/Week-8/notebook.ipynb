{
 "cells": [
  {
   "cell_type": "markdown",
   "id": "1cd5f1f4-81a7-4ffb-a0e9-787048185a4e",
   "metadata": {},
   "source": [
    "# DALLE-3"
   ]
  },
  {
   "cell_type": "code",
   "execution_count": 1,
   "id": "8bdb24ce-0f79-4abb-8793-169215c36fe0",
   "metadata": {
    "tags": []
   },
   "outputs": [],
   "source": [
    "import os\n",
    "\n",
    "os.chdir(\"../../\")"
   ]
  },
  {
   "cell_type": "code",
   "execution_count": 2,
   "id": "2e2aab6e-5789-4e2a-b4d0-5919f9f0e29b",
   "metadata": {
    "tags": []
   },
   "outputs": [
    {
     "name": "stderr",
     "output_type": "stream",
     "text": [
      "C:\\Users\\MengChieh\\miniconda3\\envs\\llm_examples\\lib\\site-packages\\langchain_core\\_api\\deprecation.py:139: LangChainDeprecationWarning: The class `ChatOpenAI` was deprecated in LangChain 0.0.10 and will be removed in 0.3.0. An updated version of the class exists in the langchain-openai package and should be used instead. To use it run `pip install -U langchain-openai` and import as `from langchain_openai import ChatOpenAI`.\n",
      "  warn_deprecated(\n"
     ]
    }
   ],
   "source": [
    "from langchain.chat_models import ChatOpenAI\n",
    "\n",
    "from src.initialization import credential_init\n",
    "\n",
    "\n",
    "credential_init()\n",
    "\n",
    "model = ChatOpenAI(openai_api_key=os.environ['OPENAI_API_KEY'],\n",
    "                   model_name=\"gpt-4o-2024-05-13\", temperature=0)"
   ]
  },
  {
   "cell_type": "markdown",
   "id": "f3a19029-f2df-49f9-9596-0c0a52149c2f",
   "metadata": {},
   "source": [
    "### OpenAI Image API Parameters:\n",
    "\n",
    "- model: dall-e-3\n",
    "- size (str): 1024x1024, 1024x1792, 1792x1024\n",
    "- quality: hd, standard\n",
    "- style: vivid, natural. Default vivid"
   ]
  },
  {
   "cell_type": "code",
   "execution_count": 3,
   "id": "da908a85-5203-43cc-8241-76eba5cc578c",
   "metadata": {
    "tags": []
   },
   "outputs": [],
   "source": [
    "from openai import OpenAI\n",
    "\n",
    "prompt = \"\"\"\n",
    "A Sumi-e style watercolor painting of mountains during sunset. The sky is depicted with bold splashes of orange, pink, and purple hues, \n",
    "blending and overlapping in a dynamic composition. The mountains are represented with expressive brushstrokes, emphasizing their majestic and serene presence. \n",
    "The focus is on capturing the essence and mood of the scene rather than detailed realism. The overall effect is serene and contemplative, with a harmonious \n",
    "balance of color and form.\n",
    "\"\"\"\n",
    "\n",
    "client = OpenAI()\n",
    "\n",
    "response = client.images.generate(\n",
    "    model=\"dall-e-3\",\n",
    "    prompt=prompt,\n",
    "    size=\"1024x1024\",\n",
    "    quality=\"hd\",\n",
    "    n=1,\n",
    "    response_format = 'b64_json'\n",
    ")\n",
    "\n",
    "image_base64 = response.data[0].b64_json"
   ]
  },
  {
   "cell_type": "markdown",
   "id": "2b255426-c09f-4a61-aaf6-bed8eafe870e",
   "metadata": {},
   "source": [
    "## Save the image in your local computer"
   ]
  },
  {
   "cell_type": "code",
   "execution_count": 4,
   "id": "0d6fc657-7688-47fe-9d2d-e9fd400cb1fa",
   "metadata": {
    "tags": []
   },
   "outputs": [],
   "source": [
    "import base64\n",
    "\n",
    "with open(\"tutorial/Week-8/test.png\", \"wb\") as fh:\n",
    "    fh.write(base64.b64decode(image_base64))"
   ]
  },
  {
   "cell_type": "markdown",
   "id": "935b95d7-b6b3-4a14-9328-a998daee4320",
   "metadata": {},
   "source": [
    "## Two Challenges:\n",
    "\n",
    "### 1. How to create prompt more efficiently? \n",
    "\n",
    "There are two types of prompt: \n",
    "\n",
    "1. Danbooru Tag: masterpiece, best quality, beautiful eyes, clear eyes, detailed eyes, Blue-eyes, 1girl, 20_old, full-body, break, smoking, break, high_color, blue-hair, beauty, black-boots,break, break, Flat vector art, Colorful art, white_shirt, simple_background, blue_background, Ink art, peeking out upper body, Eyes\n",
    "\n",
    "2. Narutal language: A Sumi-e style watercolor painting of mountains during sunset. The sky is depicted with bold splashes of orange, pink, and purple hues, blending and overlapping in a dynamic composition. The mountains are represented with expressive brushstrokes,emphasizing their majestic and serene presence. The focus is on capturing the essence and mood of the scene rather than detailed realism. The overall effect is serene and contemplative, with a harmonious balance of color and form.\n",
    "\n",
    "As non-native English speakers, we find the natural language prompt challenging, even for native speakers, due to the inclusion of specialized terminologies and advanced vocabulary.\n",
    "\n",
    "由於涉及專業術語和高級詞彙，我們作為非母語英語使用者，發現這個自然語言提示對我們來說是具有挑戰性的，即使對母語使用者來說也是如此。\n",
    "\n",
    "### 2. How to make it an LCEL?"
   ]
  },
  {
   "cell_type": "markdown",
   "id": "76e4d43a-4fd3-45a7-a51c-ced9cf9902f9",
   "metadata": {},
   "source": [
    "## Some websites for natural language prompt\n",
    "\n",
    "- https://leonardo.ai/: An Image generation SaaS. A lot of works are created with natural language prompt. \n",
    "- https://blog.mlq.ai/dalle-prompts/: Some tutorial about how to come up with a natural language prompt."
   ]
  },
  {
   "cell_type": "markdown",
   "id": "73124c68-8452-4711-a72e-e097f6256d16",
   "metadata": {},
   "source": [
    "### Natural Language Prompt Generation"
   ]
  },
  {
   "cell_type": "code",
   "execution_count": 5,
   "id": "3b6deea0-76c1-4f46-93bd-df0da355877d",
   "metadata": {
    "tags": []
   },
   "outputs": [],
   "source": [
    "from langchain.prompts import PromptTemplate, ChatPromptTemplate, HumanMessagePromptTemplate, SystemMessagePromptTemplate\n",
    "from langchain_core.output_parsers import StrOutputParser\n",
    "\n",
    "\n",
    "system_prompt = PromptTemplate.from_template('''You are a helpful AI assistant and an art expert with extensive knowledge of photography and illustration. \n",
    "You excel at creating breathtaking masterpieces with the DALLE-3 model. For this task, you will be provided with a description of an image, and you will \n",
    "generate a corresponding DALLE-3 prompt. The prompt should be detailed and descriptive, capturing the essence of the image. The length of the prompt should be \n",
    "around 100-500 tokens.''')\n",
    "\n",
    "# System prompt\n",
    "system_message = SystemMessagePromptTemplate(prompt=system_prompt)\n",
    "\n",
    "human_prompt = PromptTemplate(template=\"{image_desc}\",\n",
    "                              input_variables=['image_desc'])\n",
    "\n",
    "# Create a human message prompt template based on the prompt\n",
    "human_message = HumanMessagePromptTemplate(prompt=human_prompt)\n",
    "\n",
    "chat_prompt = ChatPromptTemplate.from_messages([system_message, human_message])\n",
    "\n",
    "nl_prompt_generation_chain = chat_prompt | model | StrOutputParser()"
   ]
  },
  {
   "cell_type": "markdown",
   "id": "82110d0e-4ef4-4191-b20e-5f2671dfad92",
   "metadata": {},
   "source": [
    "## We wrap OPENAI API call as a function for the langchain usage "
   ]
  },
  {
   "cell_type": "code",
   "execution_count": 6,
   "id": "b90024c5-67a6-43cf-a64a-757de94ef808",
   "metadata": {
    "tags": []
   },
   "outputs": [],
   "source": [
    "from typing import Dict\n",
    "\n",
    "\n",
    "def dalle3_worker(kwargs: Dict):\n",
    "\n",
    "    \"\"\"\n",
    "    Generates an image using OpenAI's DALL-E 3 model based on the provided prompt and optional parameters.\n",
    "    \n",
    "    Parameters:\n",
    "    kwargs (Dict): A dictionary containing the following keys:\n",
    "        - 'nl_prompt' (str): The natural language prompt describing the image to be generated.\n",
    "        - 'size' (str, optional): The size of the generated image. Default is \"1024x1024\".\n",
    "        - 'quality' (str, optional): The quality of the generated image. Default is \"standard\".\n",
    "        - 'style' (str, optional): The style of the generated image. Default is \"vivid\".\n",
    "    \n",
    "    Returns:\n",
    "    str: The URL of the generated image.\n",
    "    \n",
    "    Example:\n",
    "    >>> kwargs = {\n",
    "    ...     \"nl_prompt\": \"A futuristic city skyline at sunset\",\n",
    "    ...     \"size\": \"1024x1024\",\n",
    "    ...     \"quality\": \"high\",\n",
    "    ...     \"style\": \"photorealistic\"\n",
    "    ... }\n",
    "    >>> image_base64 = dalle3_worker(kwargs)\n",
    "    Start generating image...\n",
    "    prompt: A futuristic city skyline at sunset\n",
    "    generated_image: https://example.com/generated_image.png\n",
    "    >>> print(image_base64)\n",
    "    https://example.com/generated_image.png\n",
    "    \"\"\"\n",
    "    \n",
    "    print(\"Start generating image...\")\n",
    "    print(f\"prompt: {kwargs['nl_prompt']}\")\n",
    "    client = OpenAI()\n",
    "\n",
    "    response = client.images.generate(\n",
    "        model=\"dall-e-3\",\n",
    "        prompt=kwargs['nl_prompt'],\n",
    "        size=kwargs.get(\"size\", \"1024x1024\"),\n",
    "        quality=kwargs.get('quality', 'standard'),\n",
    "        style=kwargs.get('style', 'vivid'),\n",
    "        n=1,\n",
    "        response_format = 'b64_json')\n",
    "\n",
    "    image_base64 = response.data[0].b64_json\n",
    "\n",
    "    print(\"Image is generated succesfully.\")\n",
    "    \n",
    "    return image_base64\n",
    "\n",
    "\n",
    "def base64_to_file(kwargs):\n",
    "\n",
    "    \"\"\"\n",
    "    Save the image from a base64 string\n",
    "    \"\"\"\n",
    "    \n",
    "    image_base64 = kwargs['image_base64']\n",
    "    filename = kwargs['filename']\n",
    "    \n",
    "    with open(f\"{filename}\", \"wb\") as fh:\n",
    "        fh.write(base64.b64decode(image_base64))\n",
    "    "
   ]
  },
  {
   "cell_type": "code",
   "execution_count": 8,
   "id": "af60ca67-f323-49d6-a154-63c190060199",
   "metadata": {
    "tags": []
   },
   "outputs": [],
   "source": [
    "from operator import itemgetter\n",
    "\n",
    "from langchain_core.runnables import RunnableLambda, RunnableParallel, RunnablePassthrough\n",
    "\n",
    "# step 1: create the image prompt\n",
    "step_1 = RunnablePassthrough.assign(nl_prompt=itemgetter('image_desc')|nl_prompt_generation_chain)\n",
    "\n",
    "# step 2: image generation process, as a base64\n",
    "step_2 = RunnablePassthrough.assign(image_base64=dalle3_worker)\n",
    "\n",
    "# step 3: save the image\n",
    "step_3 = RunnableLambda(base64_to_file)\n",
    "\n",
    "# chain step 1, step 2, step 3 together\n",
    "dalle3_chain =  step_1|step_2|step_3"
   ]
  },
  {
   "cell_type": "code",
   "execution_count": 9,
   "id": "51ab41f1-eeec-46ae-8e27-0a1f42facfe4",
   "metadata": {
    "tags": []
   },
   "outputs": [
    {
     "name": "stdout",
     "output_type": "stream",
     "text": [
      "Start generating image...\n",
      "prompt: Create a stunning flat vector art masterpiece featuring a 20-year-old woman with striking blue eyes and vibrant blue hair. The artwork should be highly detailed, especially focusing on her beautiful, clear eyes. She is depicted in a full-body pose, taking a break and smoking, exuding a sense of calm and relaxation. She is dressed in a white shirt and black boots, standing against a simple, solid blue background that enhances the colorful and high-contrast nature of the illustration. The style should blend elements of ink art with colorful, high-quality vector art, capturing her beauty and the serene moment. The composition should also include a portrait-like focus on her upper body, with her eyes peeking out, drawing the viewer's attention.\n",
      "Image is generated succesfully.\n"
     ]
    }
   ],
   "source": [
    "dalle3_chain.invoke({\"size\": \"1024x1792\",\n",
    "                     \"quality\": \"hd\",\n",
    "                     \"image_desc\": \"\"\"\n",
    "                                     masterpiece, best quality, beautiful eyes, clear eyes, detailed eyes, Blue-eyes, 1girl, 20_old, full-body, \n",
    "                                     break, smoking, break, high_color, blue-hair, beauty, black-boots,break, break, Flat vector art, Colorful art, white_shirt, \n",
    "                                     simple_background, blue_background, Ink art,peeking out upper body,Eyes, portrait\n",
    "                                     \"\"\",\n",
    "                     \n",
    "                     \"filename\": \"tutorial/Week-8/test_01.png\"\n",
    "                    })"
   ]
  },
  {
   "cell_type": "code",
   "execution_count": 10,
   "id": "96429327-2750-4094-804c-693aab9a0217",
   "metadata": {
    "tags": []
   },
   "outputs": [
    {
     "name": "stdout",
     "output_type": "stream",
     "text": [
      "Start generating image...\n",
      "prompt: A breathtaking pencil sketch of an ethereal and glamorously beautiful 17-year-old girl with a perfect model body, captured from above in a coffee shop. She has striking black fox ears with fluffy fur, a black fox tail, and long black hair with red inner highlights. Her hair is adorned with a delicate ornament, and she wears a magatama necklace. Her attire is a meticulously designed black short kimono with fur trim, featuring wide, long sleeves and an off-shoulder style. The kimono is paired with an obi and a miniskirt, showcasing an exquisite design. She also wears a cat collar, adding a touch of charm. The girl is holding a donut and eating it, with a large cup of coffee placed on the table in front of her. The sketch is rendered with perfect and intricate detail, capturing the beauty and aesthetic of the scene, making it a true masterpiece.\n",
      "Image is generated succesfully.\n"
     ]
    }
   ],
   "source": [
    "dalle3_chain.invoke({\"size\": \"1024x1792\",\n",
    "                     \"quality\": \"hd\",\n",
    "                     \"image_desc\": \"\"\"\n",
    "                                 close-up portrait, black fox ears, animal ear fluff, black fox tail, black hair, red inner hair, hair ornament, \n",
    "                                 magatama necklace, fur trim, black short kimono, exquisite design, cat_collar, off-shoulder,wide sleeves, \n",
    "                                 long sleeves, obi, miniskirt, perfect model body, a 17-years-old ethereal and glamorously beautiful girl, from above, \n",
    "                                 eating donut, holding a donut, a large cup of coffee on table, in a coffee shop, pencil sketch, perfect detail, intricate detail, \n",
    "                                 masterpiece, best quality, beauty & aesthetic, sketch\n",
    "                                 \"\"\",\n",
    "                     \"filename\": \"tutorial/Week-8/test_02.png\"\n",
    "                    })\n"
   ]
  },
  {
   "cell_type": "markdown",
   "id": "b11138db-d2a1-4eec-a7d6-aa5a4d230313",
   "metadata": {},
   "source": [
    "### There is censorship in OpenAI...so I do not like it that much.\n",
    "\n",
    "Every model has its strength\n",
    "In my opinion:\n",
    "\n",
    "- SDXL: style\n",
    "- PONY: pose control, view angle control\n",
    "- FLUX: realistic"
   ]
  },
  {
   "cell_type": "code",
   "execution_count": 11,
   "id": "16f6b7ab-1a90-4801-9823-f70d1cd58ade",
   "metadata": {
    "tags": []
   },
   "outputs": [
    {
     "name": "stdout",
     "output_type": "stream",
     "text": [
      "Start generating image...\n",
      "prompt: A close-up portrait of a 17-year-old ethereal and glamorously beautiful girl with perfect model features, depicted in a pencil sketch style with perfect and intricate detail. She has black fox ears with fluffy fur, a black fox tail, and long black hair with striking red inner highlights. Her hair is adorned with a delicate ornament, and she wears a magatama necklace. Her outfit is a black short kimono with an exquisite design, featuring fur trim, wide and long sleeves, and an off-shoulder style. The kimono is paired with an obi and a miniskirt, and she also wears a cat collar. The scene is set in a coffee shop, viewed from above, where she is holding a donut and eating it, with a large cup of coffee on the table. The sketch captures the beauty and aesthetic of the moment, emphasizing the girl's elegance and the intricate details of her attire and surroundings.\n",
      "Image is generated succesfully.\n"
     ]
    }
   ],
   "source": [
    "dalle3_chain.invoke({\"size\": \"1024x1024\",\n",
    "                     \"quality\": \"hd\",\n",
    "                     \"image_desc\": \"\"\"\n",
    "                                 close-up portrait, black fox ears, animal ear fluff, black fox tail, black hair, red inner hair, hair ornament, \n",
    "                                 magatama necklace, fur trim, black short kimono, exquisite design, cat_collar, off-shoulder,wide sleeves, \n",
    "                                 long sleeves, obi, miniskirt, perfect model body, a 17-years-old ethereal and glamorously beautiful girl, from above, \n",
    "                                 eating donut, holding a donut, a large cup of coffee on table, in a coffee shop, pencil sketch, perfect detail, intricate detail, \n",
    "                                 masterpiece, best quality, beauty & aesthetic, sketch\n",
    "                                 \"\"\",\n",
    "                     \"filename\": \"tutorial/Week-8/test_03.png\"\n",
    "                    })"
   ]
  },
  {
   "cell_type": "markdown",
   "id": "bf1adc35-4a36-47b6-809c-ddb35cceb60a",
   "metadata": {},
   "source": [
    "## Use this as a tool for Agent"
   ]
  },
  {
   "cell_type": "code",
   "execution_count": 12,
   "id": "6b248354-6e52-46bc-b3eb-bef1a421926d",
   "metadata": {
    "tags": []
   },
   "outputs": [],
   "source": [
    "from langchain.agents import Tool, AgentExecutor, create_react_agent\n",
    "from langchain.prompts import PromptTemplate\n",
    "from langchain.tools import BaseTool\n",
    "from langchain.output_parsers import StructuredOutputParser, ResponseSchema\n",
    "\n",
    "from src.agent.react_zero_shot import prompt_template as zero_shot_prompt_template\n",
    "\n",
    "# We need both the query and filename (minimal requirement):\n",
    "# Some control variables\n",
    "# What we learned last week?\n",
    "\n",
    "\n",
    "class ImageTool(BaseTool):\n",
    "\n",
    "    name = \"Image generator with DALLE-3\"\n",
    "\n",
    "    input_response_schemas = [\n",
    "        ResponseSchema(name=\"image_desc\", description=\"image description / prompt\"),\n",
    "        ResponseSchema(name=\"filename\", description=\"the location at which the image will be saved\"),\n",
    "        ResponseSchema(name=\"size\", description=\"image size, can be `1024x1024`, `1024x1792`, `1792x1024`\"),\n",
    "        ResponseSchema(name=\"quality\", description=\"image quality, can be `hd` or `standard`\"),\n",
    "        ResponseSchema(name=\"style\", description=\"image style, can be `vivid` or `natural`\")]\n",
    "    \n",
    "    input_output_parser = StructuredOutputParser.from_response_schemas(input_response_schemas)\n",
    "    \n",
    "    input_format_instructions = input_output_parser.get_format_instructions()\n",
    "\n",
    "    description_template = \"\"\"\n",
    "                           Use this tool when you need to create an image:\n",
    "                           input format_instructions: {input_format_instructions}\n",
    "                           \"\"\"\n",
    "\n",
    "    description = description_template.format(input_format_instructions=input_format_instructions)\n",
    "    \n",
    "    def _run(self, query):\n",
    "\n",
    "        input_ = self.input_output_parser.parse(query)\n",
    "        \n",
    "        image_desc = input_['image_desc']\n",
    "        size = input_['size']\n",
    "        quality = input_['quality']\n",
    "        style = input_['style']\n",
    "        filename = input_['filename']\n",
    "        \n",
    "        dalle3_chain.invoke({\"image_desc\": image_desc,\n",
    "                             \"size\": size,\n",
    "                             \"quality\": quality,\n",
    "                             \"style\": style,\n",
    "                             \"filename\": filename})\n",
    "        \n",
    "        return \"Done\"\n",
    "\n",
    "    def _arun(self, radius: int):\n",
    "        raise NotImplementedError(\"This tool does not support async\")\n",
    "\n",
    "# Zero Shot 標準模板\n",
    "prompt = PromptTemplate.from_template(zero_shot_prompt_template)\n",
    "\n",
    "# 建立工具庫 \n",
    "tools = [ImageTool()]\n",
    "\n",
    "# 創造Agent \n",
    "zero_shot_agent = create_react_agent(\n",
    "    llm=model,\n",
    "    tools=tools,\n",
    "    prompt=prompt,\n",
    ")\n",
    "\n",
    "# 創造Agent Executor\n",
    "agent_executor = AgentExecutor(agent=zero_shot_agent, tools=tools, verbose=True)"
   ]
  },
  {
   "cell_type": "code",
   "execution_count": 13,
   "id": "c4acd426-a089-4296-8507-b898488e7736",
   "metadata": {
    "tags": []
   },
   "outputs": [],
   "source": [
    "image_prompt = \"\"\"\n",
    "brown hair, bangs, two side up, twin ponytails, sidelocks, black hat, jewelry, black cheongsam, intricate golden embroidery, long sleeves,\n",
    "wide sleeves, black shorts, hat ornament, hat flower, a 17-years-old ethereal and glamorous beautiful japanese idol,\n",
    "translucent skin tone, profound facial features, bright eyes, faint rosy blush, ultra realistic, raw photo, award-winning photo, masterpiece, \n",
    "best quality, high resolution, official art, 8k uhd, high fidelity, depth of field, on the top of a skyscaper, mesmetizing city view, \n",
    "night\n",
    "\"\"\"\n",
    "\n",
    "filename = \"tutorial/Week-8/test_04.png\""
   ]
  },
  {
   "cell_type": "code",
   "execution_count": 14,
   "id": "8e4b7234-d7ae-4256-ac69-927affee0a23",
   "metadata": {
    "tags": []
   },
   "outputs": [
    {
     "name": "stdout",
     "output_type": "stream",
     "text": [
      "\n",
      "\n",
      "\u001b[1m> Entering new AgentExecutor chain...\u001b[0m\n",
      "\u001b[32;1m\u001b[1;3mTo generate the requested image, I will use the Image generator with DALLE-3 tool. The image will feature a 17-year-old ethereal and glamorous beautiful Japanese idol with specific physical attributes and attire, set against a mesmerizing city view at night from the top of a skyscraper. The image will be saved at the specified location.\n",
      "\n",
      "Action: Image generator with DALLE-3\n",
      "\n",
      "Action Input:\n",
      "```json\n",
      "{\n",
      "\t\"image_desc\": \"A 17-year-old ethereal and glamorous beautiful Japanese idol with brown hair, bangs, two side up, twin ponytails, sidelocks, wearing a black hat with a hat ornament and hat flower, jewelry, and a black cheongsam with intricate golden embroidery, long wide sleeves, and black shorts. She has translucent skin tone, profound facial features, bright eyes, and a faint rosy blush. The setting is on the top of a skyscraper with a mesmerizing city view at night. The image is ultra realistic, raw photo, award-winning photo, masterpiece, best quality, high resolution, official art, 8k uhd, high fidelity, and has depth of field.\",\n",
      "\t\"filename\": \"tutorial/Week-8/test_04.png\",\n",
      "\t\"size\": \"1024x1792\",\n",
      "\t\"quality\": \"hd\",\n",
      "\t\"style\": \"vivid\"\n",
      "}\n",
      "```\n",
      "\u001b[0mStart generating image...\n",
      "prompt: Create an ultra-realistic, award-winning photograph of a 17-year-old ethereal and glamorous Japanese idol. She has brown hair styled with bangs, two side-up twin ponytails, and sidelocks. She is wearing a black hat adorned with a hat ornament and a hat flower, along with elegant jewelry. Her outfit is a black cheongsam featuring intricate golden embroidery, long wide sleeves, and black shorts. Her skin is translucent, her facial features are profound, her eyes are bright, and she has a faint rosy blush on her cheeks. The setting is on the top of a skyscraper, offering a mesmerizing view of the city at night. The image should be ultra-realistic, capturing the raw beauty and essence of the scene. It should be a masterpiece of the highest quality, in 8k UHD resolution, with high fidelity and depth of field, making it look like official art.\n",
      "Image is generated succesfully.\n",
      "\u001b[36;1m\u001b[1;3mDone\u001b[0m\u001b[32;1m\u001b[1;3mI now know the final answer.\n",
      "\n",
      "Final Answer: The image has been generated and saved at the location `tutorial/Week-8/test_04.png`.\u001b[0m\n",
      "\n",
      "\u001b[1m> Finished chain.\u001b[0m\n"
     ]
    },
    {
     "data": {
      "text/plain": [
       "{'input': 'Generate in image with the following information: \\n \\nbrown hair, bangs, two side up, twin ponytails, sidelocks, black hat, jewelry, black cheongsam, intricate golden embroidery, long sleeves,\\nwide sleeves, black shorts, hat ornament, hat flower, a 17-years-old ethereal and glamorous beautiful japanese idol,\\ntranslucent skin tone, profound facial features, bright eyes, faint rosy blush, ultra realistic, raw photo, award-winning photo, masterpiece, \\nbest quality, high resolution, official art, 8k uhd, high fidelity, depth of field, on the top of a skyscaper, mesmetizing city view, \\nnight\\n. and save the image at tutorial/Week-8/test_04.png',\n",
       " 'output': 'The image has been generated and saved at the location `tutorial/Week-8/test_04.png`.'}"
      ]
     },
     "execution_count": 14,
     "metadata": {},
     "output_type": "execute_result"
    }
   ],
   "source": [
    "agent_executor.invoke({\"input\": f\"Generate in image with the following information: \\n {image_prompt}. and save the image at {filename}\"})"
   ]
  },
  {
   "cell_type": "markdown",
   "id": "273538bc-be51-4b58-84dd-179085b66e7f",
   "metadata": {},
   "source": [
    "## ACG Characters\n",
    "\n"
   ]
  },
  {
   "cell_type": "code",
   "execution_count": 28,
   "id": "3f3679ef-4354-460d-8f4c-63af32efc161",
   "metadata": {
    "tags": []
   },
   "outputs": [],
   "source": [
    "from langchain.utilities.tavily_search import TavilySearchAPIWrapper\n",
    "from langchain.tools.tavily_search import TavilySearchResults\n",
    "\n",
    "search = TavilySearchAPIWrapper()\n",
    "tavily_tool = TavilySearchResults(api_wrapper=search)\n",
    "\n",
    "outputs = tavily_tool.invoke(\"What is the appearance of Hu Tao from Genshin\")"
   ]
  },
  {
   "cell_type": "code",
   "execution_count": 29,
   "id": "ab854472-1d5f-468e-ad85-37095f6fccc5",
   "metadata": {
    "tags": []
   },
   "outputs": [
    {
     "name": "stdout",
     "output_type": "stream",
     "text": [
      "\n",
      "**************************\n",
      "\n",
      "Hu Tao[Note 2] (Chinese: 胡桃 Hú Táo) is a playable Pyro character in Genshin Impact. Hu Tao's antics and eccentricity belies her role as the 77th Director of the Wangsheng Funeral Parlor and her talent as a poet. Nevertheless, she treats the parlor's operations with utmost importance, and holds funeral ceremonies with the highest dignity and solemnity. Toggle Ascension MaterialsTotal Cost\n",
      "\n",
      "\n",
      "\n",
      "**************************\n",
      "\n",
      "Hu Tao (Chinese: 胡桃; pinyin: Hú Táo; lit. 'Walnut') is a playable character in the action role-playing game Genshin Impact.She is voiced by Brianna Knickerbocker in English, Tao Dian [] in Chinese, Rie Takahashi in Japanese, and Kim Ha-ru [] in Korean. In the game, she serves as the 77th Director of the Wangsheng Funeral Parlor within the China-like nation of Liyue.\n",
      "\n",
      "\n",
      "\n",
      "**************************\n",
      "\n",
      "Appearance. Hu Tao's most immediately recognizable features are her porkpie hat adorned with a red plum branch with a large wooden talisman at its center and her bright scarlet eyes with blossom\n",
      "\n",
      "\n",
      "\n",
      "**************************\n",
      "\n",
      "Hu Tao is a Playable Character in Genshin Impact.These playable characters are the various roles that a player can add to their party and take control of in Genshin Impact. Each character in the game is unique from one another, they are different when it comes to the element they harness, the weapon that they use, their appearance, stats, strengths, weaknesses, and many more\n",
      "\n",
      "\n",
      "\n",
      "**************************\n",
      "\n",
      "HoYoWiki - Genshin Impact - Hu Tao: The 77th Director of the Wangsheng Funeral Parlor. She took over the business at a rather young age.\n",
      "\n",
      "\n"
     ]
    }
   ],
   "source": [
    "for output in outputs:\n",
    "    print(\"\\n**************************\\n\")\n",
    "    print(output['content'])\n",
    "    print(\"\\n\")\n",
    "    "
   ]
  },
  {
   "cell_type": "markdown",
   "id": "5ba75cd3-0fa8-4012-9ab4-0de388ab097d",
   "metadata": {},
   "source": [
    "# **** 預計第一個小時結束 ****"
   ]
  },
  {
   "cell_type": "markdown",
   "id": "3762d243-fe7f-4b43-b9c8-466918715165",
   "metadata": {},
   "source": [
    "## LCEL ACG character appearance chain"
   ]
  },
  {
   "cell_type": "code",
   "execution_count": 17,
   "id": "1ab73102-3977-4691-b91d-10d0faa3aa0b",
   "metadata": {
    "tags": []
   },
   "outputs": [],
   "source": [
    "from langchain.docstore.document import Document\n",
    "from langchain.agents import Tool, AgentExecutor, create_react_agent\n",
    "from langchain.tools import BaseTool\n",
    "from langchain.prompts import PromptTemplate, ChatPromptTemplate, HumanMessagePromptTemplate, SystemMessagePromptTemplate\n",
    "from langchain_core.output_parsers import StrOutputParser\n",
    "\n",
    "\n",
    "def tavily_content_parser(outputs):\n",
    "\n",
    "    \"\"\"\n",
    "    Parses the content from a list of outputs into Document objects.\n",
    "    \n",
    "    Parameters:\n",
    "    outputs (list): A list of dictionaries where each dictionary contains a 'content' key \n",
    "                    representing the content of a document.\n",
    "    \n",
    "    Returns:\n",
    "    list: A list of Document objects, each initialized with the content from the 'outputs'.\n",
    "    \n",
    "    Example:\n",
    "    >>> outputs = [\n",
    "    ...     {'content': 'This is document 1 content.'},\n",
    "    ...     {'content': 'This is document 2 content.'}\n",
    "    ... ]\n",
    "    >>> documents = tavily_content_parser(outputs)\n",
    "    >>> for doc in documents:\n",
    "    ...     print(doc.page_content)\n",
    "    This is document 1 content.\n",
    "    This is document 2 content.\n",
    "    \"\"\"\n",
    "    \n",
    "    documents = [Document(page_content=output['content']) for output in outputs]\n",
    "    \n",
    "    return documents\n",
    "\n",
    "\n",
    "system_prompt = PromptTemplate.from_template('''You are a helpful AI assistant with deep knowledge of anime, manga, \n",
    "and mobile games. You will generate the face, body, attire, hairstyle, and accessories of an character in great \n",
    "detail with data provided from the `context` The output should look like:\n",
    "\n",
    " - Face:\n",
    " - Body:\n",
    " - Attire:\n",
    " - Hairstyle:\n",
    " - Accessories:\n",
    "\n",
    "''')\n",
    "\n",
    "system_message = SystemMessagePromptTemplate(prompt=system_prompt)\n",
    "\n",
    "\n",
    "human_prompt = PromptTemplate(template=\"context: {context}\",\n",
    "                                  input_variables=['context'])\n",
    "\n",
    "# Create a human message prompt template based on the prompt\n",
    "human_message = HumanMessagePromptTemplate(prompt=human_prompt)\n",
    "\n",
    "# Create a chat prompt template from system and human message prompt templates\n",
    "chat_prompt = ChatPromptTemplate.from_messages([system_message, human_message])\n",
    "\n",
    "# Construct the processing chain\n",
    "step_1 = {'context': tavily_tool|tavily_content_parser}\n",
    "step_2 = chat_prompt\n",
    "step_3 = model\n",
    "step_4 = StrOutputParser()\n",
    "acg_chain = step_1 | step_2 | step_3 | step_4\n",
    "\n"
   ]
  },
  {
   "cell_type": "code",
   "execution_count": 30,
   "id": "c05f32a4-affa-4092-96ef-a0d7744d4222",
   "metadata": {
    "tags": []
   },
   "outputs": [],
   "source": [
    "output = acg_chain.invoke(\"What is the appearance of Hu Tao from Genshin\")"
   ]
  },
  {
   "cell_type": "code",
   "execution_count": 31,
   "id": "f14d440f-bbc1-41bf-9449-5dfde75fbc24",
   "metadata": {},
   "outputs": [
    {
     "name": "stdout",
     "output_type": "stream",
     "text": [
      "Based on the provided context, here is a detailed description of Hu Tao from Genshin Impact:\n",
      "\n",
      "- **Face**:\n",
      "  - Hu Tao has bright scarlet eyes that are one of her most striking features. Her eyes often have a playful and mischievous glint, reflecting her eccentric personality.\n",
      "  - Her face is youthful and expressive, often showing a range of emotions from playful mischief to solemn dignity.\n",
      "\n",
      "- **Body**:\n",
      "  - Hu Tao has a slender and agile build, fitting her role as a nimble and quick Pyro character in the game.\n",
      "  - Her movements are graceful and fluid, indicative of her agility and dexterity.\n",
      "\n",
      "- **Attire**:\n",
      "  - Hu Tao wears a traditional Chinese-inspired outfit that is both elegant and functional. Her attire is primarily dark in color, with intricate red and gold patterns that symbolize her connection to the Pyro element.\n",
      "  - She dons a long, dark coat with red accents and a high collar, which adds to her mysterious and authoritative presence as the Director of the Wangsheng Funeral Parlor.\n",
      "  - Her outfit also includes a pair of dark shorts and thigh-high stockings, which allow for ease of movement during combat.\n",
      "\n",
      "- **Hairstyle**:\n",
      "  - Hu Tao's hair is long and dark, often styled in twin braids that fall over her shoulders. The braids are tied with red ribbons, adding a touch of color and playfulness to her overall look.\n",
      "  - She also wears a distinctive porkpie hat adorned with a red plum branch and a large wooden talisman at its center, which is one of her most recognizable features.\n",
      "\n",
      "- **Accessories**:\n",
      "  - The large wooden talisman on her hat is a significant accessory, symbolizing her role in the funeral parlor and her connection to the spiritual world.\n",
      "  - She carries a polearm as her weapon of choice, which she wields with great skill and precision.\n",
      "  - Additionally, Hu Tao often has a playful ghost companion that appears during her special abilities, adding to her whimsical and mysterious aura.\n",
      "\n",
      "This detailed description captures the essence of Hu Tao's character in Genshin Impact, highlighting her unique appearance and the elements that make her stand out.\n"
     ]
    }
   ],
   "source": [
    "print(output)"
   ]
  },
  {
   "cell_type": "code",
   "execution_count": 32,
   "id": "6f9a6afa-cf49-4aa1-a542-1fa9ef205d27",
   "metadata": {
    "tags": []
   },
   "outputs": [],
   "source": [
    "class ACGLLMTool(BaseTool):\n",
    "\n",
    "    name = \"`Anime character design generator`\"\n",
    "    description = \"Use this tool to generate and explore detailed designs for anime and ACG (Animation, Comics, and Games) characters.\"\n",
    "\n",
    "    def _run(self, query: str):\n",
    "        \n",
    "        description = acg_chain.invoke(query)\n",
    "        \n",
    "        return description\n",
    "\n",
    "    def _arun(self, radius: int):\n",
    "        raise NotImplementedError(\"This tool does not support async\")\n",
    "        \n",
    "        \n",
    "class ImageTool(BaseTool):\n",
    "\n",
    "    name = \"ACG characters image generator with DALLE-3\"\n",
    "\n",
    "    input_response_schemas = [\n",
    "        ResponseSchema(name=\"image_desc\", description=\"image description / prompt\"),\n",
    "        ResponseSchema(name=\"filename\", description=\"the location at which the image will be saved\"),\n",
    "        ResponseSchema(name=\"size\", description=\"image size, can be `1024x1024`, `1024x1792`, `1792x1024`\"),\n",
    "        ResponseSchema(name=\"quality\", description=\"image quality, can be `hd` or `standard`\"),\n",
    "        ResponseSchema(name=\"style\", description=\"image style, can be `vivid` or `natural`\")]\n",
    "    \n",
    "    input_output_parser = StructuredOutputParser.from_response_schemas(input_response_schemas)\n",
    "    \n",
    "    input_format_instructions = input_output_parser.get_format_instructions()\n",
    "\n",
    "    description_template = \"\"\"\n",
    "                           This is a tool for creating images. \n",
    "                           It's best used when you're considering the need for an ACG (anime, comics, games) character design. \n",
    "                           Before using this tool, you may want to utilize the `Anime character design generator` to gather \n",
    "                           relevant information. The generated image will maintain the specified art style. \n",
    "                           input format: {input_format_instructions}\n",
    "                           \"\"\"\n",
    "\n",
    "    description = description_template.format(input_format_instructions=input_format_instructions)\n",
    "    \n",
    "    def _run(self, query):\n",
    "        \n",
    "        input_ = self.input_output_parser.parse(query)\n",
    "        \n",
    "        image_desc = input_['image_desc']\n",
    "        size = input_['size']\n",
    "        quality = input_['quality']\n",
    "        style = input_['style']\n",
    "        filename = input_['filename']\n",
    "        \n",
    "        dalle3_chain.invoke({\"image_desc\": image_desc,\n",
    "                             \"size\": size,\n",
    "                             \"quality\": quality,\n",
    "                             \"style\": style,\n",
    "                             \"filename\": filename})\n",
    "        \n",
    "        return \"Done\"\n",
    "\n",
    "    def _arun(self, radius: int):\n",
    "        raise NotImplementedError(\"This tool does not support async\")\n",
    "\n",
    "        \n",
    "prompt_template = \"\"\"\n",
    "Answer the following questions as best you can. You have access to the following tools:\n",
    "\n",
    "{tools}\n",
    "\n",
    "Use the following format:\n",
    "\n",
    "Question: the input question you must answer\n",
    "\n",
    "Thought: you should always think about what to do\n",
    "\n",
    "Action: the action to take, should be one of [{tool_names}]\n",
    "\n",
    "Action Input: the input to the action\n",
    "\n",
    "Observation: the result of the action\n",
    "\n",
    "... (this Thought/Action/Action Input/Observation can repeat N times)\n",
    "\n",
    "Thought: I now know the final answer\n",
    "\n",
    "Final Answer: the final answer to the original input question\n",
    "\n",
    "Begin!\n",
    "\n",
    "Question: {input}\n",
    "\n",
    "Thought:{agent_scratchpad}\n",
    "\"\"\"        \n",
    "             \n",
    "prompt = PromptTemplate.from_template(prompt_template)\n",
    "\n",
    "tools = [ImageTool(), ACGLLMTool()]\n",
    "\n",
    "zero_shot_agent = create_react_agent(\n",
    "    llm=model,\n",
    "    tools=tools,\n",
    "    prompt=prompt,\n",
    ")\n",
    "\n",
    "agent_executor = AgentExecutor(agent=zero_shot_agent, tools=tools, verbose=True)"
   ]
  },
  {
   "cell_type": "code",
   "execution_count": 33,
   "id": "ce8d8dfd-78c8-45b4-8292-28857e770371",
   "metadata": {
    "tags": []
   },
   "outputs": [
    {
     "name": "stdout",
     "output_type": "stream",
     "text": [
      "\n",
      "\n",
      "\u001b[1m> Entering new AgentExecutor chain...\u001b[0m\n",
      "\u001b[32;1m\u001b[1;3mTo generate an image of Hu Tao from Genshin Impact in a pastel art style, I need to first gather detailed design information about the character using the `Anime character design generator`. This will help ensure that the image generated by the `ACG characters image generator with DALLE-3` is accurate and meets the desired specifications.\n",
      "\n",
      "Action: `Anime character design generator`\n",
      "\n",
      "Action Input: Generate detailed design information for Hu Tao from Genshin Impact\n",
      "\u001b[0m\u001b[33;1m\u001b[1;3mBased on the provided context, here is a detailed description of Hu Tao from Genshin Impact:\n",
      "\n",
      "- **Face**:\n",
      "  - Hu Tao has a youthful and cheerful face, reflecting her playful and mischievous nature. Her eyes are a striking crimson red, which is a common trait among Pyro characters in Genshin Impact. She often has a playful and slightly mischievous expression, with a hint of a smile that suggests she is always up to something.\n",
      "\n",
      "- **Body**:\n",
      "  - Hu Tao has a slender and agile build, befitting her role as a polearm user. Her movements are graceful and fluid, allowing her to perform acrobatic maneuvers with ease. Despite her slender frame, she possesses a surprising amount of strength and agility, which she uses to her advantage in combat.\n",
      "\n",
      "- **Attire**:\n",
      "  - Hu Tao's attire is a blend of traditional and modern elements, reflecting her role as the Director of the Wangsheng Funeral Parlor. She wears a dark, long-sleeved coat with intricate red and gold embroidery, which symbolizes her connection to the Pyro element. The coat is adorned with various funeral-themed accessories, such as a small bell and a talisman. Underneath the coat, she wears a red and black dress with a high collar and a short skirt, allowing for ease of movement. Her outfit is completed with black thigh-high stockings and red shoes.\n",
      "\n",
      "- **Hairstyle**:\n",
      "  - Hu Tao's hair is long and dark brown, cascading down her back in loose waves. She wears a traditional Chinese hat, known as a \"zhangguan,\" which is black with red and gold accents. The hat is adorned with a red tassel and a small bell, adding to her playful and eccentric appearance. Her bangs are styled to frame her face, with a few strands falling over her forehead.\n",
      "\n",
      "- **Accessories**:\n",
      "  - Hu Tao carries a polearm weapon, which is her primary tool in combat. The polearm is intricately designed, with a red and gold color scheme that matches her attire. She also wears a small pouch at her waist, which contains various funeral-related items and talismans. Additionally, she has a small, ghostly companion that often floats around her, adding to her mysterious and otherworldly aura.\n",
      "\n",
      "This detailed description captures the essence of Hu Tao's character, combining her playful personality with her solemn duties as the Director of the Wangsheng Funeral Parlor.\u001b[0m\u001b[32;1m\u001b[1;3mNow that I have a detailed description of Hu Tao from Genshin Impact, I can proceed to generate an image of her in a pastel art style using the `ACG characters image generator with DALLE-3`.\n",
      "\n",
      "Action: ACG characters image generator with DALLE-3\n",
      "\n",
      "Action Input: \n",
      "\n",
      "```json\n",
      "{\n",
      "\t\"image_desc\": \"Hu Tao from Genshin Impact with a youthful and cheerful face, crimson red eyes, and a playful expression. She has a slender and agile build, wearing a dark, long-sleeved coat with intricate red and gold embroidery, a red and black dress with a high collar and short skirt, black thigh-high stockings, and red shoes. Her long dark brown hair cascades down her back in loose waves, and she wears a traditional Chinese hat with red and gold accents. She carries a polearm weapon with a red and gold color scheme and has a small ghostly companion floating around her. The image should be in a pastel art style.\",\n",
      "\t\"filename\": \"hu_tao_pastel_art.png\",\n",
      "\t\"size\": \"1024x1792\",\n",
      "\t\"quality\": \"hd\",\n",
      "\t\"style\": \"vivid\"\n",
      "}\n",
      "```\n",
      "\u001b[0mStart generating image...\n",
      "prompt: Create an image of Hu Tao from Genshin Impact, capturing her youthful and cheerful face with crimson red eyes and a playful expression. She has a slender and agile build, adorned in a dark, long-sleeved coat featuring intricate red and gold embroidery. Underneath, she wears a red and black dress with a high collar and a short skirt, paired with black thigh-high stockings and red shoes. Her long, dark brown hair cascades down her back in loose waves, and she wears a traditional Chinese hat with red and gold accents. Hu Tao is holding a polearm weapon with a red and gold color scheme, and a small ghostly companion floats around her. The entire scene is rendered in a pastel art style, emphasizing soft colors and delicate details.\n",
      "Image is generated succesfully.\n",
      "\u001b[36;1m\u001b[1;3mDone\u001b[0m\u001b[32;1m\u001b[1;3mI now have the final answer.\n",
      "\n",
      "Final Answer: The image of Hu Tao from Genshin Impact in a pastel art style has been generated and saved as \"hu_tao_pastel_art.png\" with the specified details.\u001b[0m\n",
      "\n",
      "\u001b[1m> Finished chain.\u001b[0m\n"
     ]
    },
    {
     "data": {
      "text/plain": [
       "{'input': 'Generate an image of Hu Tao from Genshim in pastol art style',\n",
       " 'output': 'The image of Hu Tao from Genshin Impact in a pastel art style has been generated and saved as \"hu_tao_pastel_art.png\" with the specified details.'}"
      ]
     },
     "execution_count": 33,
     "metadata": {},
     "output_type": "execute_result"
    }
   ],
   "source": [
    "agent_executor.invoke({\"input\": f\"Generate an image of Hu Tao from Genshim in pastol art style\"})"
   ]
  },
  {
   "cell_type": "code",
   "execution_count": 34,
   "id": "3c428fcc-e8be-45f1-8d15-9e7112fba86e",
   "metadata": {
    "tags": []
   },
   "outputs": [
    {
     "name": "stdout",
     "output_type": "stream",
     "text": [
      "\n",
      "\n",
      "\u001b[1m> Entering new AgentExecutor chain...\u001b[0m\n",
      "\u001b[32;1m\u001b[1;3mTo generate an award-winning portrait photo of a 17-year-old Japanese girl cosplaying Hu Tao from Genshin Impact, I need to first gather detailed design information about the character using the `Anime character design generator`. This will help ensure the cosplay is accurate and detailed.\n",
      "\n",
      "Action: Anime character design generator\n",
      "\n",
      "Action Input: Generate a detailed design for Hu Tao from Genshin Impact\n",
      "\u001b[0mAnime character design generator is not a valid tool, try one of [ACG characters image generator with DALLE-3, `Anime character design generator`].\u001b[32;1m\u001b[1;3mIt seems I made an error in my previous thought. I should directly use the `ACG characters image generator with DALLE-3` to create the image based on the description of Hu Tao from Genshin Impact.\n",
      "\n",
      "Action: ACG characters image generator with DALLE-3\n",
      "\n",
      "Action Input: \n",
      "\n",
      "```json\n",
      "{\n",
      "\t\"image_desc\": \"A 17-year-old Japanese girl cosplaying as Hu Tao from Genshin Impact. She is wearing Hu Tao's traditional Chinese outfit with a dark brown coat, red shorts, and a black hat with a red ribbon. The background is a vivid, colorful setting that complements the character's design.\",\n",
      "\t\"filename\": \"hu_tao_cosplay_portrait.png\",\n",
      "\t\"size\": \"1024x1792\",\n",
      "\t\"quality\": \"hd\",\n",
      "\t\"style\": \"vivid\"\n",
      "}\n",
      "```\n",
      "\u001b[0mStart generating image...\n",
      "prompt: Create an image of a 17-year-old Japanese girl cosplaying as Hu Tao from Genshin Impact. She is dressed in Hu Tao's traditional Chinese outfit, featuring a dark brown coat adorned with intricate gold patterns, red shorts, and a black hat with a red ribbon. Her long, dark hair flows gracefully, and she has a playful, mischievous expression on her face, capturing Hu Tao's spirited personality. The background is a vivid, colorful setting that complements the character's design, with elements like lanterns, cherry blossoms, and traditional Chinese architecture, creating a lively and immersive atmosphere. The lighting is bright and cheerful, enhancing the vibrant colors and intricate details of her costume.\n",
      "Image is generated succesfully.\n",
      "\u001b[36;1m\u001b[1;3mDone\u001b[0m\u001b[32;1m\u001b[1;3mI now have the final answer.\n",
      "\n",
      "Final Answer: The award-winning portrait photo of a 17-year-old Japanese girl cosplaying Hu Tao from Genshin Impact has been generated and saved as \"hu_tao_cosplay_portrait.png\". The image features her in Hu Tao's traditional Chinese outfit with a dark brown coat, red shorts, and a black hat with a red ribbon, set against a vivid, colorful background.\u001b[0m\n",
      "\n",
      "\u001b[1m> Finished chain.\u001b[0m\n"
     ]
    },
    {
     "data": {
      "text/plain": [
       "{'input': 'Generate an award-winning portrait photo of a 17-years-old japanese girl cosplaying Hu Tao from Genshim',\n",
       " 'output': 'The award-winning portrait photo of a 17-year-old Japanese girl cosplaying Hu Tao from Genshin Impact has been generated and saved as \"hu_tao_cosplay_portrait.png\". The image features her in Hu Tao\\'s traditional Chinese outfit with a dark brown coat, red shorts, and a black hat with a red ribbon, set against a vivid, colorful background.'}"
      ]
     },
     "execution_count": 34,
     "metadata": {},
     "output_type": "execute_result"
    }
   ],
   "source": [
    "agent_executor.invoke({\"input\": \"Generate an award-winning portrait photo of a 17-years-old japanese girl cosplaying Hu Tao from Genshim\" })"
   ]
  },
  {
   "cell_type": "markdown",
   "id": "9fabc653-5ca9-484b-a864-0b6a363ac275",
   "metadata": {},
   "source": [
    "## Audible 有聲書\n",
    "\n",
    "- 文轉語音: TTS tool\n",
    "- 文轉圖: Image tool"
   ]
  },
  {
   "cell_type": "markdown",
   "id": "0d8075d8-df6e-4320-a297-2504c5b28fbc",
   "metadata": {},
   "source": [
    "### Children Book Image Generator\n",
    "\n",
    "- Generate image according to the story"
   ]
  },
  {
   "cell_type": "code",
   "execution_count": 36,
   "id": "2d168449-4550-49b8-acd2-21b4d3009efa",
   "metadata": {
    "tags": []
   },
   "outputs": [],
   "source": [
    "system_prompt = PromptTemplate.from_template('''You are a helpful AI assistant and an art expert with extensive knowledge of illustration. \n",
    "You excel at creating Pencil and Ink Style illustrations for 6-year-old children using the DALLE-3 model. This style is characterized by \n",
    "detailed line work, often in black and white or with minimal color, and has a classic, timeless feel. For this task, you will be provided with \n",
    "a paragraph of a story, and you will generate a corresponding DALLE-3 prompt which captures the storyline. The prompt should be \n",
    "detailed and descriptive, capturing the essence of the image. The length of the prompt should be around 100-500 tokens.''')\n",
    "\n",
    "# System prompt\n",
    "system_message = SystemMessagePromptTemplate(prompt=system_prompt)\n",
    "\n",
    "human_prompt = PromptTemplate(template=\"{story}\",\n",
    "                              input_variables=['story'])\n",
    "\n",
    "# Create a human message prompt template based on the prompt\n",
    "human_message = HumanMessagePromptTemplate(prompt=human_prompt)\n",
    "\n",
    "chat_prompt = ChatPromptTemplate.from_messages([system_message, human_message])\n",
    "\n",
    "nl_prompt_generation_chain = chat_prompt | model | StrOutputParser()     \n",
    "\n",
    "step_1 = RunnablePassthrough.assign(nl_prompt=itemgetter('story')|nl_prompt_generation_chain)\n",
    "step_2 = RunnableLambda(dalle3_worker)\n",
    "image_chain = step_1 | step_2"
   ]
  },
  {
   "cell_type": "markdown",
   "id": "3f2128a3-41fc-49a3-a93f-57d7d18a169e",
   "metadata": {},
   "source": [
    "- Generate the story"
   ]
  },
  {
   "cell_type": "code",
   "execution_count": 37,
   "id": "797c315b-489e-4b45-b4b6-879a8e8414db",
   "metadata": {
    "tags": []
   },
   "outputs": [],
   "source": [
    "system_prompt = PromptTemplate.from_template('''You are a helpful AI assistant who likes children. \n",
    "You are great storyteller and know how to create content for kindergarten kids. A short chapter is \n",
    "created once at a time.''')\n",
    "\n",
    "# System prompt\n",
    "system_message = SystemMessagePromptTemplate(prompt=system_prompt)\n",
    "\n",
    "human_prompt = PromptTemplate(template=\"{input}\",\n",
    "                              input_variables=['input'])\n",
    "\n",
    "# Create a human message prompt template based on the prompt\n",
    "human_message = HumanMessagePromptTemplate(prompt=human_prompt)\n",
    "\n",
    "chat_prompt = ChatPromptTemplate.from_messages([system_message, human_message])\n",
    "\n",
    "story_chain = chat_prompt | model | StrOutputParser()     "
   ]
  },
  {
   "cell_type": "code",
   "execution_count": 55,
   "id": "e4bfecd8-484f-4c37-a9d4-09773a31b21d",
   "metadata": {
    "tags": []
   },
   "outputs": [],
   "source": [
    "import json\n",
    "\n",
    "from src.agent.react_zero_shot import prompt_template as zero_shot_prompt_template\n",
    "# from langchain_core.prompts import MessagesPlaceholder\n",
    "\n",
    "client = OpenAI(api_key=os.environ['OPENAI_API_KEY'])\n",
    "\n",
    "    \n",
    "class TTSTool(BaseTool):\n",
    "    \n",
    "    name = \"Text to Sound\"\n",
    "    description = \"Use this tool to generate an audio file\"\n",
    "\n",
    "    name = \"Text to Sound (tts) tool\"\n",
    "\n",
    "    input_response_schemas = [\n",
    "        ResponseSchema(name=\"text\", description=\"The story\"),\n",
    "        ResponseSchema(name=\"filename\", description=\"the location at which the audio file will be saved\")]\n",
    "    \n",
    "    input_output_parser = StructuredOutputParser.from_response_schemas(input_response_schemas)\n",
    "    \n",
    "    input_format_instructions = input_output_parser.get_format_instructions()\n",
    "\n",
    "    description_template = \"\"\"\n",
    "                           Use this tool to generate an audio file of the story. \n",
    "                           input format: {input_format_instructions}\n",
    "                           \"\"\"\n",
    "\n",
    "    description = description_template.format(input_format_instructions=input_format_instructions)\n",
    "\n",
    "    \n",
    "    def _run(self, text: str):\n",
    "\n",
    "        input_ = self.input_output_parser.parse(text)\n",
    "\n",
    "        text = input_['text']\n",
    "        filename = input_['filename']\n",
    "        \n",
    "        response = self.tts(text)\n",
    "        \n",
    "        response.stream_to_file(filename)\n",
    "        \n",
    "        return filename\n",
    "\n",
    "    def _arun(self, radius: int):\n",
    "        raise NotImplementedError(\"This tool does not support async\")\n",
    "        \n",
    "        \n",
    "    def tts(self, text: str):\n",
    "        \n",
    "        response = client.audio.speech.create(\n",
    "          model=\"tts-1\",\n",
    "          voice=\"nova\",\n",
    "          input=text\n",
    "        )\n",
    "\n",
    "        return response\n",
    "    \n",
    "    \n",
    "class ImageTool(BaseTool):\n",
    "\n",
    "    name = \"Image generator with DALLE-3\"\n",
    "\n",
    "    input_response_schemas = [\n",
    "        ResponseSchema(name=\"image_desc\", description=\"image description / prompt\"),\n",
    "        ResponseSchema(name=\"filename\", description=\"the location at which the image will be saved\"),\n",
    "        ResponseSchema(name=\"size\", description=\"image size, can be `1024x1024`, `1024x1792`, `1792x1024`\"),\n",
    "        ResponseSchema(name=\"quality\", description=\"image quality, can be `hd` or `standard`\"),\n",
    "        ResponseSchema(name=\"style\", description=\"image style, can be `vivid` or `natural`\")]\n",
    "    \n",
    "    input_output_parser = StructuredOutputParser.from_response_schemas(input_response_schemas)\n",
    "    \n",
    "    input_format_instructions = input_output_parser.get_format_instructions()\n",
    "\n",
    "    description_template = \"\"\"\n",
    "                           An image is generated and saved according to the input instruction.\n",
    "                           input instruction:\\n {input_format_instructions}\n",
    "                           \"\"\"\n",
    "\n",
    "    description = description_template.format(input_format_instructions=input_format_instructions)\n",
    "    \n",
    "    def _run(self, query):\n",
    "        \n",
    "        input_ = self.input_output_parser.parse(query)\n",
    "        \n",
    "        image_desc = input_['image_desc']\n",
    "        size = input_['size']\n",
    "        quality = input_['quality']\n",
    "        style = input_['style']\n",
    "        filename = input_['filename']\n",
    "        \n",
    "        dalle3_chain.invoke({\"image_desc\": image_desc,\n",
    "                             \"size\": size,\n",
    "                             \"quality\": quality,\n",
    "                             \"style\": style,\n",
    "                             \"filename\": filename})\n",
    "        \n",
    "        return \"Done\"\n",
    "\n",
    "    def _arun(self, radius: int):\n",
    "        raise NotImplementedError(\"This tool does not support async\")\n",
    "           \n",
    "            \n",
    "prompt = PromptTemplate.from_template(zero_shot_prompt_template)\n",
    "\n",
    "tools = [TTSTool(), \n",
    "         ImageTool(),\n",
    "         Tool(name=\"StoryTeller\",\n",
    "              func=story_chain.invoke,\n",
    "              description=\"useful for create story\",\n",
    "        )]\n",
    "\n",
    "zero_shot_agent = create_react_agent(\n",
    "    llm=model,\n",
    "    tools=tools,\n",
    "    prompt=prompt,\n",
    ")\n",
    "\n",
    "agent_executor = AgentExecutor(agent=zero_shot_agent, tools=tools, verbose=True, handle_parsing_errors=True)"
   ]
  },
  {
   "cell_type": "code",
   "execution_count": 56,
   "id": "74b78a71-2bac-478a-9a4f-046bf3deba9b",
   "metadata": {
    "tags": []
   },
   "outputs": [
    {
     "name": "stdout",
     "output_type": "stream",
     "text": [
      "\n",
      "\n",
      "\u001b[1m> Entering new AgentExecutor chain...\u001b[0m\n",
      "\u001b[32;1m\u001b[1;3mTo create a chapter of a baby owl capturing a rodent in the night as his dinner, I will first generate the story using the StoryTeller tool. After that, I will create an image using the Image generator with DALLE-3 and record the story as an mp3 using the Text to Sound (tts) tool. \n",
      "\n",
      "Let's start by generating the story.\n",
      "\n",
      "Action: StoryTeller\n",
      "Action Input: \"Create a chapter of a baby owl capturing a rodent in the night as his dinner.\"\n",
      "\u001b[0m\u001b[38;5;200m\u001b[1;3m**Chapter 1: Ollie the Brave Baby Owl**\n",
      "\n",
      "Once upon a time, in a cozy nest high up in an old oak tree, lived a baby owl named Ollie. Ollie had big, round eyes that sparkled like the stars and soft, fluffy feathers that kept him warm at night. He loved to listen to the stories his mama told him about the adventures of brave owls.\n",
      "\n",
      "One night, as the moon shone brightly in the sky, Ollie felt a rumble in his tummy. \"Mama, I'm hungry,\" he hooted softly.\n",
      "\n",
      "Mama Owl smiled and ruffled his feathers. \"It's time for you to learn how to catch your own dinner, Ollie. Tonight, you will go on your first hunting adventure.\"\n",
      "\n",
      "Ollie's eyes widened with excitement and a little bit of nervousness. \"But Mama, what if I can't do it?\"\n",
      "\n",
      "Mama Owl nuzzled him gently. \"You are brave and smart, Ollie. Just remember to use your keen eyes and silent wings. You'll do just fine.\"\n",
      "\n",
      "With a flutter of his wings, Ollie took off into the night sky. The world below looked magical, bathed in the silvery glow of the moon. He flew silently, just like Mama had taught him, his eyes scanning the ground for any signs of movement.\n",
      "\n",
      "Suddenly, Ollie spotted something! A tiny rodent was scurrying through the grass, looking for its own dinner. Ollie's heart raced with excitement. This was his chance!\n",
      "\n",
      "He swooped down quietly, his wings barely making a sound. The rodent didn't even notice him coming. With a swift and gentle pounce, Ollie caught the rodent in his talons. He had done it! He had caught his very first dinner!\n",
      "\n",
      "Ollie flew back to the nest, his heart swelling with pride. Mama Owl was waiting for him, her eyes twinkling with joy. \"Well done, Ollie! I knew you could do it.\"\n",
      "\n",
      "Ollie nuzzled close to his mama, feeling warm and happy. \"Thank you, Mama. I couldn't have done it without your stories and your love.\"\n",
      "\n",
      "And so, Ollie the brave baby owl enjoyed his dinner, knowing that he was growing up to be a wise and strong owl, just like his mama. As he drifted off to sleep, he dreamed of all the adventures that awaited him in the moonlit nights to come.\n",
      "\n",
      "The end.\u001b[0m\u001b[32;1m\u001b[1;3mThe story has been generated successfully. Now, I will create an image that corresponds to the story using the Image generator with DALLE-3.\n",
      "\n",
      "Action: Image generator with DALLE-3\n",
      "Action Input: \n",
      "```json\n",
      "{\n",
      "\t\"image_desc\": \"A baby owl with big, round eyes and soft, fluffy feathers, swooping down silently in the night to catch a tiny rodent in the grass. The scene is bathed in the silvery glow of the moon.\",\n",
      "\t\"filename\": \"tutorial/Week-8/ollie_the_baby_owl.png\",\n",
      "\t\"size\": \"1024x1024\",\n",
      "\t\"quality\": \"hd\",\n",
      "\t\"style\": \"natural\"\n",
      "}\n",
      "```\n",
      "\u001b[0mStart generating image...\n",
      "prompt: Create an enchanting night scene featuring a baby owl with big, round eyes and soft, fluffy feathers. The owl is captured in mid-flight, swooping down silently with its wings spread wide, aiming to catch a tiny rodent in the grass below. The entire scene is bathed in the silvery glow of the full moon, casting a mystical light over the landscape. The background includes a dark, starry sky with a few wisps of clouds, and the ground is covered in a mix of tall grass and wildflowers. The owl's feathers are detailed and textured, showing the softness and fluffiness that make it look almost cuddly despite its predatory action. The rodent is small and barely visible, blending into the grass but still discernible upon closer inspection. The overall atmosphere is serene yet thrilling, capturing the silent drama of nature under the moonlight.\n",
      "Image is generated succesfully.\n",
      "\u001b[33;1m\u001b[1;3mDone\u001b[0m\u001b[32;1m\u001b[1;3mThe image has been generated successfully. Now, I will record the story as an mp3 file using the Text to Sound (tts) tool.\n",
      "\n",
      "Action: Text to Sound (tts) tool\n",
      "Action Input: \n",
      "```json\n",
      "{\n",
      "\t\"text\": \"Once upon a time, in a cozy nest high up in an old oak tree, lived a baby owl named Ollie. Ollie had big, round eyes that sparkled like the stars and soft, fluffy feathers that kept him warm at night. He loved to listen to the stories his mama told him about the adventures of brave owls.\\n\\nOne night, as the moon shone brightly in the sky, Ollie felt a rumble in his tummy. 'Mama, I'm hungry,' he hooted softly.\\n\\nMama Owl smiled and ruffled his feathers. 'It's time for you to learn how to catch your own dinner, Ollie. Tonight, you will go on your first hunting adventure.'\\n\\nOllie's eyes widened with excitement and a little bit of nervousness. 'But Mama, what if I can't do it?'\\n\\nMama Owl nuzzled him gently. 'You are brave and smart, Ollie. Just remember to use your keen eyes and silent wings. You'll do just fine.'\\n\\nWith a flutter of his wings, Ollie took off into the night sky. The world below looked magical, bathed in the silvery glow of the moon. He flew silently, just like Mama had taught him, his eyes scanning the ground for any signs of movement.\\n\\nSuddenly, Ollie spotted something! A tiny rodent was scurrying through the grass, looking for its own dinner. Ollie's heart raced with excitement. This was his chance!\\n\\nHe swooped down quietly, his wings barely making a sound. The rodent didn't even notice him coming. With a swift and gentle pounce, Ollie caught the rodent in his talons. He had done it! He had caught his very first dinner!\\n\\nOllie flew back to the nest, his heart swelling with pride. Mama Owl was waiting for him, her eyes twinkling with joy. 'Well done, Ollie! I knew you could do it.'\\n\\nOllie nuzzled close to his mama, feeling warm and happy. 'Thank you, Mama. I couldn't have done it without your stories and your love.'\\n\\nAnd so, Ollie the brave baby owl enjoyed his dinner, knowing that he was growing up to be a wise and strong owl, just like his mama. As he drifted off to sleep, he dreamed of all the adventures that awaited him in the moonlit nights to come.\\n\\nThe end.\",\n",
      "\t\"filename\": \"tutorial/Week-8/ollie_the_baby_owl.mp3\"\n",
      "}\n",
      "```\n",
      "\u001b[0m"
     ]
    },
    {
     "name": "stderr",
     "output_type": "stream",
     "text": [
      "C:\\Users\\MengChieh\\AppData\\Local\\Temp\\ipykernel_14952\\1657942731.py:41: DeprecationWarning: Due to a bug, this method doesn't actually stream the response content, `.with_streaming_response.method()` should be used instead\n",
      "  response.stream_to_file(filename)\n"
     ]
    },
    {
     "name": "stdout",
     "output_type": "stream",
     "text": [
      "\u001b[36;1m\u001b[1;3mtutorial/Week-8/ollie_the_baby_owl.mp3\u001b[0m\u001b[32;1m\u001b[1;3mI have successfully generated the story, created the corresponding image, and recorded the story as an mp3 file. Both the image and the mp3 file have been saved in the folder `tutorial/Week-8` with the same name.\n",
      "\n",
      "Final Answer: The chapter of the baby owl capturing a rodent in the night as his dinner has been created. The corresponding image and mp3 file have been saved in the folder `tutorial/Week-8` with the name `ollie_the_baby_owl`.\n",
      "\n",
      "Here are the details:\n",
      "- Image: `tutorial/Week-8/ollie_the_baby_owl.png`\n",
      "- Audio: `tutorial/Week-8/ollie_the_baby_owl.mp3`\u001b[0m\n",
      "\n",
      "\u001b[1m> Finished chain.\u001b[0m\n"
     ]
    },
    {
     "data": {
      "text/plain": [
       "{'input': '\\n        Create a chapter of a baby owl capturing a rodent in the night as his dinner.         After having the final answer, plrease create a corresponding image and record the story as an mp3. \\n        The saved image and mp3 should have same name in the folder `tutorial/Week-8`\\n        ',\n",
       " 'output': 'The chapter of the baby owl capturing a rodent in the night as his dinner has been created. The corresponding image and mp3 file have been saved in the folder `tutorial/Week-8` with the name `ollie_the_baby_owl`.\\n\\nHere are the details:\\n- Image: `tutorial/Week-8/ollie_the_baby_owl.png`\\n- Audio: `tutorial/Week-8/ollie_the_baby_owl.mp3`'}"
      ]
     },
     "execution_count": 56,
     "metadata": {},
     "output_type": "execute_result"
    }
   ],
   "source": [
    "prompt = \"\"\"\n",
    "        Create a chapter of a baby owl capturing a rodent in the night as his dinner. \\\n",
    "        After having the final answer, plrease create a corresponding image and record the story as an mp3. \n",
    "        The saved image and mp3 should have same name in the folder `tutorial/Week-8`\n",
    "        \"\"\"\n",
    "\n",
    "agent_executor.invoke({\"input\": prompt})"
   ]
  },
  {
   "cell_type": "markdown",
   "id": "d7613df9-de89-4546-b738-323a7cc3a9c9",
   "metadata": {},
   "source": [
    "## Can we create a story with multiple pages?\n",
    "\n",
    "I do not know the answer, let me try...\n",
    "\n",
    "4 pages to save the cost. But it can be extended."
   ]
  },
  {
   "cell_type": "code",
   "execution_count": 44,
   "id": "c89f39ff-aeb8-433f-b18b-e20b622e5739",
   "metadata": {},
   "outputs": [
    {
     "name": "stdout",
     "output_type": "stream",
     "text": [
      "\n",
      "\n",
      "\u001b[1m> Entering new AgentExecutor chain...\u001b[0m\n",
      "\u001b[32;1m\u001b[1;3mTo create a 4-page story for a child who likes snow owls, I will first generate the story using the StoryTeller tool. Then, I will create corresponding images for each page using the Image generator with DALLE-3. Finally, I will record the story as an mp3 file using the Text to Sound (tts) tool. Each page will have a corresponding image and audio file saved in the specified folder structure.\n",
      "\n",
      "Let's start by generating the story.\n",
      "\n",
      "Action: StoryTeller\n",
      "Action Input: \"Create a 4-page story for a child who likes snow owls.\"\n",
      "\u001b[0m\u001b[38;5;200m\u001b[1;3m**Page 1: The Snowy Forest**\n",
      "\n",
      "Once upon a time, in a land far, far away, there was a magical forest covered in sparkling snow. The trees were tall and their branches were heavy with fluffy white snowflakes. In this enchanted forest lived a very special snow owl named Oliver. Oliver had the softest, whitest feathers and big, bright eyes that twinkled like stars.\n",
      "\n",
      "**Page 2: Oliver's Friends**\n",
      "\n",
      "Oliver wasn't alone in the snowy forest. He had many friends! There was Bella the bunny, who loved to hop around in the snow, and Max the moose, who was always ready for a fun adventure. Oliver and his friends loved to play together, especially when the moon was full and the snow glowed like silver.\n",
      "\n",
      "**Page 3: The Big Snowstorm**\n",
      "\n",
      "One chilly evening, as Oliver and his friends were playing, the wind started to howl. The sky turned dark, and snow began to fall faster and faster. It was a big snowstorm! Oliver knew they needed to find shelter quickly. \"Follow me, everyone!\" he hooted. With his keen eyes, Oliver led his friends to a cozy cave where they could stay safe and warm.\n",
      "\n",
      "**Page 4: A Cozy Ending**\n",
      "\n",
      "Inside the cave, Oliver and his friends snuggled close together. Bella the bunny found some soft moss to make a bed, and Max the moose used his big antlers to hang up a lantern. They told stories and sang songs until the storm passed. When the morning sun peeked through the cave entrance, the forest was even more beautiful than before. Oliver and his friends stepped outside, ready for a new day of snowy adventures.\n",
      "\n",
      "And so, Oliver the snow owl and his friends lived happily ever after, always looking out for each other in their magical, snowy forest. The end.\u001b[0m\u001b[32;1m\u001b[1;3mI now have the story for the 4 pages. The next step is to create corresponding images for each page using the Image generator with DALLE-3. I will start with Page 1.\n",
      "\n",
      "Action: Image generator with DALLE-3\n",
      "Action Input: \n",
      "```json\n",
      "{\n",
      "\t\"image_desc\": \"A magical forest covered in sparkling snow with tall trees and fluffy white snowflakes. A special snow owl named Oliver with the softest, whitest feathers and big, bright eyes that twinkle like stars.\",\n",
      "\t\"filename\": \"tutorial/Week-8/Page-1.png\",\n",
      "\t\"size\": \"1024x1024\",\n",
      "\t\"quality\": \"hd\",\n",
      "\t\"style\": \"vivid\"\n",
      "}\n",
      "```\n",
      "\u001b[0mStart generating image...\n",
      "prompt: Create an enchanting winter scene in a magical forest blanketed in sparkling snow. The tall trees are dusted with fluffy white snowflakes, creating a serene and mystical atmosphere. In the center of the scene, place a special snow owl named Oliver. Oliver has the softest, whitest feathers that blend seamlessly with the snowy surroundings. His big, bright eyes twinkle like stars, adding a touch of magic to the scene. The forest should feel otherworldly, with a gentle glow illuminating the snow and casting a soft light on Oliver, highlighting his majestic presence.\n",
      "Image is generated succesfully.\n",
      "\u001b[33;1m\u001b[1;3mDone\u001b[0m\u001b[32;1m\u001b[1;3mI have successfully generated the image for Page 1. Now, I will proceed to create the image for Page 2.\n",
      "\n",
      "Action: Image generator with DALLE-3\n",
      "Action Input: \n",
      "```json\n",
      "{\n",
      "\t\"image_desc\": \"A snowy forest with a snow owl named Oliver, a bunny named Bella hopping around, and a moose named Max ready for an adventure. The moon is full, and the snow glows like silver.\",\n",
      "\t\"filename\": \"tutorial/Week-8/Page-2.png\",\n",
      "\t\"size\": \"1024x1024\",\n",
      "\t\"quality\": \"hd\",\n",
      "\t\"style\": \"vivid\"\n",
      "}\n",
      "```\n",
      "\u001b[0mStart generating image...\n",
      "prompt: Create an enchanting winter scene in a snowy forest under a full moon. The moonlight casts a silvery glow over the snow-covered landscape, making the snow sparkle like silver. In the foreground, a majestic snow owl named Oliver perches on a frosty tree branch, its feathers blending seamlessly with the snowy surroundings. Nearby, a playful bunny named Bella hops around joyfully, leaving tiny paw prints in the snow. To the side, a sturdy moose named Max stands tall and ready for an adventure, his breath visible in the cold night air. The trees are dusted with snow, and the entire scene exudes a magical, serene atmosphere.\n",
      "Image is generated succesfully.\n",
      "\u001b[33;1m\u001b[1;3mDone\u001b[0m\u001b[32;1m\u001b[1;3mI have successfully generated the image for Page 2. Now, I will proceed to create the image for Page 3.\n",
      "\n",
      "Action: Image generator with DALLE-3\n",
      "Action Input: \n",
      "```json\n",
      "{\n",
      "\t\"image_desc\": \"A snowy forest during a big snowstorm. The wind is howling, the sky is dark, and snow is falling fast. Oliver the snow owl is leading his friends, Bella the bunny and Max the moose, to a cozy cave for shelter.\",\n",
      "\t\"filename\": \"tutorial/Week-8/Page-3.png\",\n",
      "\t\"size\": \"1024x1024\",\n",
      "\t\"quality\": \"hd\",\n",
      "\t\"style\": \"vivid\"\n",
      "}\n",
      "```\n",
      "\u001b[0mStart generating image...\n",
      "prompt: Create an image of a snowy forest engulfed in a fierce snowstorm. The sky is dark and ominous, with heavy clouds swirling as the wind howls through the trees. Snow is falling rapidly, blanketing the ground and creating a sense of urgency. In the midst of this wintry chaos, Oliver the snow owl is flying ahead, his white feathers blending with the snow but his determined eyes shining brightly. Below him, Bella the bunny is hopping through the deep snow, her fur fluffed up against the cold, while Max the moose trudges steadily, his large antlers dusted with snowflakes. They are making their way towards a cozy cave nestled among the trees, its entrance glowing warmly, promising shelter and safety from the storm. The scene captures the harsh beauty of nature and the camaraderie of these woodland friends as they brave the elements together.\n",
      "Image is generated succesfully.\n",
      "\u001b[33;1m\u001b[1;3mDone\u001b[0m\u001b[32;1m\u001b[1;3mI have successfully generated the image for Page 3. Now, I will proceed to create the image for Page 4.\n",
      "\n",
      "Action: Image generator with DALLE-3\n",
      "Action Input: \n",
      "```json\n",
      "{\n",
      "\t\"image_desc\": \"Inside a cozy cave, Oliver the snow owl and his friends, Bella the bunny and Max the moose, are snuggled close together. Bella is on a bed of soft moss, and Max has a lantern hanging from his antlers. They are telling stories and singing songs. The morning sun is peeking through the cave entrance.\",\n",
      "\t\"filename\": \"tutorial/Week-8/Page-4.png\",\n",
      "\t\"size\": \"1024x1024\",\n",
      "\t\"quality\": \"hd\",\n",
      "\t\"style\": \"vivid\"\n",
      "}\n",
      "```\n",
      "\u001b[0mStart generating image...\n",
      "prompt: Create an enchanting scene inside a cozy cave where Oliver the snow owl, Bella the bunny, and Max the moose are snuggled close together. Bella the bunny is comfortably resting on a bed of soft, lush moss, while Max the moose has a rustic lantern hanging from his antlers, casting a warm, gentle glow around the cave. Oliver the snow owl, with his pristine white feathers, is perched nearby, listening intently. The trio is engaged in telling stories and singing songs, their faces lit with joy and camaraderie. The morning sun is just beginning to peek through the cave entrance, casting a soft, golden light that mingles with the lantern's glow, creating a magical and heartwarming atmosphere. The cave walls are adorned with natural textures and subtle earthy tones, enhancing the cozy and intimate setting.\n",
      "Image is generated succesfully.\n",
      "\u001b[33;1m\u001b[1;3mDone\u001b[0m\u001b[32;1m\u001b[1;3mI have successfully generated the images for all four pages. The next step is to record the story as an mp3 file for each page using the Text to Sound (tts) tool. I will start with Page 1.\n",
      "\n",
      "Action: Text to Sound (tts) tool\n",
      "Action Input: \n",
      "```json\n",
      "{\n",
      "\t\"text\": \"Once upon a time, in a land far, far away, there was a magical forest covered in sparkling snow. The trees were tall and their branches were heavy with fluffy white snowflakes. In this enchanted forest lived a very special snow owl named Oliver. Oliver had the softest, whitest feathers and big, bright eyes that twinkled like stars.\",\n",
      "\t\"filename\": \"tutorial/Week-8/Page-1.mp3\"\n",
      "}\n",
      "```\n",
      "\u001b[0m"
     ]
    },
    {
     "name": "stderr",
     "output_type": "stream",
     "text": [
      "C:\\Users\\MengChieh\\AppData\\Local\\Temp\\ipykernel_14952\\897602675.py:41: DeprecationWarning: Due to a bug, this method doesn't actually stream the response content, `.with_streaming_response.method()` should be used instead\n",
      "  response.stream_to_file(filename)\n"
     ]
    },
    {
     "name": "stdout",
     "output_type": "stream",
     "text": [
      "\u001b[36;1m\u001b[1;3mtutorial/Week-8/Page-1.mp3\u001b[0m\u001b[32;1m\u001b[1;3mI have successfully generated the audio file for Page 1. Now, I will proceed to create the audio file for Page 2.\n",
      "\n",
      "Action: Text to Sound (tts) tool\n",
      "Action Input: \n",
      "```json\n",
      "{\n",
      "\t\"text\": \"Oliver wasn't alone in the snowy forest. He had many friends! There was Bella the bunny, who loved to hop around in the snow, and Max the moose, who was always ready for a fun adventure. Oliver and his friends loved to play together, especially when the moon was full and the snow glowed like silver.\",\n",
      "\t\"filename\": \"tutorial/Week-8/Page-2.mp3\"\n",
      "}\n",
      "```\n",
      "\u001b[0m"
     ]
    },
    {
     "name": "stderr",
     "output_type": "stream",
     "text": [
      "C:\\Users\\MengChieh\\AppData\\Local\\Temp\\ipykernel_14952\\897602675.py:41: DeprecationWarning: Due to a bug, this method doesn't actually stream the response content, `.with_streaming_response.method()` should be used instead\n",
      "  response.stream_to_file(filename)\n"
     ]
    },
    {
     "name": "stdout",
     "output_type": "stream",
     "text": [
      "\u001b[36;1m\u001b[1;3mtutorial/Week-8/Page-2.mp3\u001b[0m\u001b[32;1m\u001b[1;3mI have successfully generated the audio file for Page 2. Now, I will proceed to create the audio file for Page 3.\n",
      "\n",
      "Action: Text to Sound (tts) tool\n",
      "Action Input: \n",
      "```json\n",
      "{\n",
      "\t\"text\": \"One chilly evening, as Oliver and his friends were playing, the wind started to howl. The sky turned dark, and snow began to fall faster and faster. It was a big snowstorm! Oliver knew they needed to find shelter quickly. 'Follow me, everyone!' he hooted. With his keen eyes, Oliver led his friends to a cozy cave where they could stay safe and warm.\",\n",
      "\t\"filename\": \"tutorial/Week-8/Page-3.mp3\"\n",
      "}\n",
      "```\n",
      "\u001b[0m"
     ]
    },
    {
     "name": "stderr",
     "output_type": "stream",
     "text": [
      "C:\\Users\\MengChieh\\AppData\\Local\\Temp\\ipykernel_14952\\897602675.py:41: DeprecationWarning: Due to a bug, this method doesn't actually stream the response content, `.with_streaming_response.method()` should be used instead\n",
      "  response.stream_to_file(filename)\n"
     ]
    },
    {
     "name": "stdout",
     "output_type": "stream",
     "text": [
      "\u001b[36;1m\u001b[1;3mtutorial/Week-8/Page-3.mp3\u001b[0m\u001b[32;1m\u001b[1;3mI have successfully generated the audio file for Page 3. Now, I will proceed to create the audio file for Page 4.\n",
      "\n",
      "Action: Text to Sound (tts) tool\n",
      "Action Input: \n",
      "```json\n",
      "{\n",
      "\t\"text\": \"Inside the cave, Oliver and his friends snuggled close together. Bella the bunny found some soft moss to make a bed, and Max the moose used his big antlers to hang up a lantern. They told stories and sang songs until the storm passed. When the morning sun peeked through the cave entrance, the forest was even more beautiful than before. Oliver and his friends stepped outside, ready for a new day of snowy adventures. And so, Oliver the snow owl and his friends lived happily ever after, always looking out for each other in their magical, snowy forest. The end.\",\n",
      "\t\"filename\": \"tutorial/Week-8/Page-4.mp3\"\n",
      "}\n",
      "```\n",
      "\u001b[0m"
     ]
    },
    {
     "name": "stderr",
     "output_type": "stream",
     "text": [
      "C:\\Users\\MengChieh\\AppData\\Local\\Temp\\ipykernel_14952\\897602675.py:41: DeprecationWarning: Due to a bug, this method doesn't actually stream the response content, `.with_streaming_response.method()` should be used instead\n",
      "  response.stream_to_file(filename)\n"
     ]
    },
    {
     "name": "stdout",
     "output_type": "stream",
     "text": [
      "\u001b[36;1m\u001b[1;3mtutorial/Week-8/Page-4.mp3\u001b[0m\u001b[32;1m\u001b[1;3mI have successfully generated the audio files for all four pages. Now, I have the final answer with all the required images and audio files saved in the specified folder structure.\n",
      "\n",
      "Final Answer: The 4-page story for a child who likes snow owls has been created. Each page has a corresponding image and audio file saved in the folder `tutorial/Week-8` with the following structure:\n",
      "\n",
      "- `tutorial/Week-8/Page-1.png`\n",
      "- `tutorial/Week-8/Page-1.mp3`\n",
      "- `tutorial/Week-8/Page-2.png`\n",
      "- `tutorial/Week-8/Page-2.mp3`\n",
      "- `tutorial/Week-8/Page-3.png`\n",
      "- `tutorial/Week-8/Page-3.mp3`\n",
      "- `tutorial/Week-8/Page-4.png`\n",
      "- `tutorial/Week-8/Page-4.mp3`\n",
      "\n",
      "Here is the story:\n",
      "\n",
      "**Page 1: The Snowy Forest**\n",
      "\n",
      "Once upon a time, in a land far, far away, there was a magical forest covered in sparkling snow. The trees were tall and their branches were heavy with fluffy white snowflakes. In this enchanted forest lived a very special snow owl named Oliver. Oliver had the softest, whitest feathers and big, bright eyes that twinkled like stars.\n",
      "\n",
      "**Page 2: Oliver's Friends**\n",
      "\n",
      "Oliver wasn't alone in the snowy forest. He had many friends! There was Bella the bunny, who loved to hop around in the snow, and Max the moose, who was always ready for a fun adventure. Oliver and his friends loved to play together, especially when the moon was full and the snow glowed like silver.\n",
      "\n",
      "**Page 3: The Big Snowstorm**\n",
      "\n",
      "One chilly evening, as Oliver and his friends were playing, the wind started to howl. The sky turned dark, and snow began to fall faster and faster. It was a big snowstorm! Oliver knew they needed to find shelter quickly. \"Follow me, everyone!\" he hooted. With his keen eyes, Oliver led his friends to a cozy cave where they could stay safe and warm.\n",
      "\n",
      "**Page 4: A Cozy Ending**\n",
      "\n",
      "Inside the cave, Oliver and his friends snuggled close together. Bella the bunny found some soft moss to make a bed, and Max the moose used his big antlers to hang up a lantern. They told stories and sang songs until the storm passed. When the morning sun peeked through the cave entrance, the forest was even more beautiful than before. Oliver and his friends stepped outside, ready for a new day of snowy adventures.\n",
      "\n",
      "And so, Oliver the snow owl and his friends lived happily ever after, always looking out for each other in their magical, snowy forest. The end.\u001b[0m\n",
      "\n",
      "\u001b[1m> Finished chain.\u001b[0m\n"
     ]
    },
    {
     "data": {
      "text/plain": [
       "{'input': '\\n         I want to create an 4 pages story for a child. He likes snow owl.\\n         For each page, please create a corresponding image and record the story as an mp3.\\n         After having the final answer, please create a corresponding image and record the story as an mp3. \\n         The saved image and mp3 should have same name, following the structure of \\n         <Page - idx>, with idx as a number starting from 1, in the folder `tutorial/Week-8`\\n        ',\n",
       " 'output': 'The 4-page story for a child who likes snow owls has been created. Each page has a corresponding image and audio file saved in the folder `tutorial/Week-8` with the following structure:\\n\\n- `tutorial/Week-8/Page-1.png`\\n- `tutorial/Week-8/Page-1.mp3`\\n- `tutorial/Week-8/Page-2.png`\\n- `tutorial/Week-8/Page-2.mp3`\\n- `tutorial/Week-8/Page-3.png`\\n- `tutorial/Week-8/Page-3.mp3`\\n- `tutorial/Week-8/Page-4.png`\\n- `tutorial/Week-8/Page-4.mp3`\\n\\nHere is the story:\\n\\n**Page 1: The Snowy Forest**\\n\\nOnce upon a time, in a land far, far away, there was a magical forest covered in sparkling snow. The trees were tall and their branches were heavy with fluffy white snowflakes. In this enchanted forest lived a very special snow owl named Oliver. Oliver had the softest, whitest feathers and big, bright eyes that twinkled like stars.\\n\\n**Page 2: Oliver\\'s Friends**\\n\\nOliver wasn\\'t alone in the snowy forest. He had many friends! There was Bella the bunny, who loved to hop around in the snow, and Max the moose, who was always ready for a fun adventure. Oliver and his friends loved to play together, especially when the moon was full and the snow glowed like silver.\\n\\n**Page 3: The Big Snowstorm**\\n\\nOne chilly evening, as Oliver and his friends were playing, the wind started to howl. The sky turned dark, and snow began to fall faster and faster. It was a big snowstorm! Oliver knew they needed to find shelter quickly. \"Follow me, everyone!\" he hooted. With his keen eyes, Oliver led his friends to a cozy cave where they could stay safe and warm.\\n\\n**Page 4: A Cozy Ending**\\n\\nInside the cave, Oliver and his friends snuggled close together. Bella the bunny found some soft moss to make a bed, and Max the moose used his big antlers to hang up a lantern. They told stories and sang songs until the storm passed. When the morning sun peeked through the cave entrance, the forest was even more beautiful than before. Oliver and his friends stepped outside, ready for a new day of snowy adventures.\\n\\nAnd so, Oliver the snow owl and his friends lived happily ever after, always looking out for each other in their magical, snowy forest. The end.'}"
      ]
     },
     "execution_count": 44,
     "metadata": {},
     "output_type": "execute_result"
    }
   ],
   "source": [
    "prompt = \"\"\"\n",
    "         I want to create an 4 pages story for a child. He likes snow owl.\n",
    "         For each page, please create a corresponding image and record the story as an mp3.\n",
    "         After having the final answer, please create a corresponding image and record the story as an mp3. \n",
    "         The saved image and mp3 should have same name, following the structure of \n",
    "         <Page - idx>, with idx as a number starting from 1, in the folder `tutorial/Week-8`\n",
    "        \"\"\"\n",
    "\n",
    "agent_executor.invoke({\"input\": prompt})"
   ]
  },
  {
   "cell_type": "markdown",
   "id": "65fa69d6-caac-4521-bfbc-8a914e00dd14",
   "metadata": {},
   "source": [
    "## Can we create a story in an interactive way: chat based\n",
    "\n",
    "-- Rolling back..."
   ]
  },
  {
   "cell_type": "code",
   "execution_count": 57,
   "id": "fafca2e5-93fc-4a49-92c6-d0cae5664cca",
   "metadata": {},
   "outputs": [],
   "source": [
    "from langchain.prompts import PromptTemplate\n",
    "from langchain_core.runnables import RunnablePassthrough\n",
    "\n",
    "from langchain.output_parsers import StructuredOutputParser, ResponseSchema\n",
    "\n",
    "output_response_schemas = [\n",
    "        ResponseSchema(name=\"story\", description=\"the story content in the page\"),\n",
    "        ResponseSchema(name=\"page index\", description=\"The page number of the story\"),\n",
    "    ]\n",
    "\n",
    "output_parser = StructuredOutputParser.from_response_schemas(output_response_schemas)\n",
    "\n",
    "output_format_instructions = output_parser.get_format_instructions()\n",
    "\n",
    "template = \"\"\"\n",
    "           Create a story paragraph, based on the description: {text}\n",
    "\n",
    "           Previous content:\n",
    "           {context}\n",
    "\n",
    "            \n",
    "           After having the final answer, please create a corresponding image and record the story as an mp3. \n",
    "           The saved image and mp3 should have same name in the folder `tutorial/Week-8`\n",
    "\n",
    "           output format instruction: {output_format_instruction}\n",
    "           \"\"\"\n",
    "\n",
    "prompt_template = PromptTemplate(template=template,\n",
    "                                 input_variables=[\"text\", \"context\"],\n",
    "                                 partial_variables={\"output_format_instruction\": output_format_instructions})\n",
    "\n",
    "agent_chain = RunnablePassthrough.assign(input=prompt_template)|agent_executor"
   ]
  },
  {
   "cell_type": "code",
   "execution_count": 58,
   "id": "da0e5fb0-709c-4a51-a737-d95d949df1b8",
   "metadata": {},
   "outputs": [
    {
     "name": "stdout",
     "output_type": "stream",
     "text": [
      "\n",
      "\n",
      "\u001b[1m> Entering new AgentExecutor chain...\u001b[0m\n",
      "\u001b[32;1m\u001b[1;3mTo create the story paragraph, I will use the StoryTeller tool. After generating the story, I will create a corresponding image using the Image generator with DALLE-3 and record the story as an mp3 using the Text to Sound (tts) tool. The saved image and mp3 will have the same name in the folder `tutorial/Week-8`.\n",
      "\n",
      "Let's start by generating the story paragraph.\n",
      "\n",
      "Action: StoryTeller\n",
      "\n",
      "Action Input: \"A little cat just woke up in the morning\"\n",
      "\u001b[0m\u001b[38;5;200m\u001b[1;3m### Chapter 1: The Morning Adventure of Whiskers the Cat\n",
      "\n",
      "Once upon a time, in a cozy little house at the edge of a friendly forest, there lived a tiny, fluffy cat named Whiskers. Whiskers had the softest fur, the brightest green eyes, and a curious little nose that twitched whenever he was excited.\n",
      "\n",
      "One sunny morning, Whiskers woke up to the sound of birds chirping happily outside his window. He stretched his little paws, yawned a big kitty yawn, and blinked his sleepy eyes open. The sun was shining, and the day was full of possibilities!\n",
      "\n",
      "Whiskers hopped out of his comfy bed and padded over to the window. He saw his friends, the bluebirds, fluttering around the garden, and the butterflies dancing in the air. \"What a beautiful day!\" Whiskers thought to himself. \"I wonder what adventures await me today?\"\n",
      "\n",
      "With a happy purr, Whiskers decided to start his day with a big stretch and a delicious breakfast. He trotted over to his food bowl, where his favorite meal of crunchy kibble and a splash of milk was waiting for him. After enjoying his breakfast, Whiskers felt ready to explore the world outside.\n",
      "\n",
      "As he stepped out into the garden, the warm sun tickled his fur, and the gentle breeze whispered through the trees. Whiskers took a deep breath and felt the excitement bubbling up inside him. Today was going to be a day full of fun and surprises!\n",
      "\n",
      "What adventures will Whiskers find in the garden? Will he meet new friends or discover hidden treasures? Stay tuned for the next chapter of Whiskers' exciting journey!\u001b[0m\u001b[32;1m\u001b[1;3mThe story paragraph has been generated. Now, I will create a corresponding image using the Image generator with DALLE-3.\n",
      "\n",
      "Action: Image generator with DALLE-3\n",
      "\n",
      "Action Input: \n",
      "```json\n",
      "{\n",
      "\t\"image_desc\": \"A tiny, fluffy cat named Whiskers with the softest fur, the brightest green eyes, and a curious little nose, waking up in a cozy little house at the edge of a friendly forest. The sun is shining through the window, and birds are chirping happily outside. Whiskers is stretching his little paws and yawning a big kitty yawn.\",\n",
      "\t\"filename\": \"tutorial/Week-8/Whiskers_Morning_Adventure.png\",\n",
      "\t\"size\": \"1024x1024\",\n",
      "\t\"quality\": \"hd\",\n",
      "\t\"style\": \"natural\"\n",
      "}\n",
      "```\n",
      "\u001b[0mStart generating image...\n",
      "prompt: Create an enchanting scene featuring a tiny, fluffy cat named Whiskers with the softest fur, the brightest green eyes, and a curious little nose. Whiskers is waking up in a cozy little house situated at the edge of a friendly forest. The morning sun is shining through a window, casting a warm, golden glow across the room. Outside, birds are chirping happily, adding to the serene and joyful atmosphere. Whiskers is in the middle of a big kitty yawn, stretching his little paws in a delightful display of morning routine. The room is filled with cozy details like a soft, knitted blanket, a small wooden table with a vase of fresh flowers, and a few scattered toys. The overall mood is one of warmth, comfort, and the simple joys of a new day.\n",
      "Image is generated succesfully.\n",
      "\u001b[33;1m\u001b[1;3mDone\u001b[0m\u001b[32;1m\u001b[1;3mThe image has been successfully generated. Now, I will record the story as an mp3 using the Text to Sound (tts) tool.\n",
      "\n",
      "Action: Text to Sound (tts) tool\n",
      "\n",
      "Action Input: \n",
      "```json\n",
      "{\n",
      "\t\"text\": \"Once upon a time, in a cozy little house at the edge of a friendly forest, there lived a tiny, fluffy cat named Whiskers. Whiskers had the softest fur, the brightest green eyes, and a curious little nose that twitched whenever he was excited. One sunny morning, Whiskers woke up to the sound of birds chirping happily outside his window. He stretched his little paws, yawned a big kitty yawn, and blinked his sleepy eyes open. The sun was shining, and the day was full of possibilities! Whiskers hopped out of his comfy bed and padded over to the window. He saw his friends, the bluebirds, fluttering around the garden, and the butterflies dancing in the air. 'What a beautiful day!' Whiskers thought to himself. 'I wonder what adventures await me today?' With a happy purr, Whiskers decided to start his day with a big stretch and a delicious breakfast. He trotted over to his food bowl, where his favorite meal of crunchy kibble and a splash of milk was waiting for him. After enjoying his breakfast, Whiskers felt ready to explore the world outside. As he stepped out into the garden, the warm sun tickled his fur, and the gentle breeze whispered through the trees. Whiskers took a deep breath and felt the excitement bubbling up inside him. Today was going to be a day full of fun and surprises! What adventures will Whiskers find in the garden? Will he meet new friends or discover hidden treasures? Stay tuned for the next chapter of Whiskers' exciting journey!\",\n",
      "\t\"filename\": \"tutorial/Week-8/Whiskers_Morning_Adventure.mp3\"\n",
      "}\n",
      "```\n",
      "\u001b[0m"
     ]
    },
    {
     "name": "stderr",
     "output_type": "stream",
     "text": [
      "C:\\Users\\MengChieh\\AppData\\Local\\Temp\\ipykernel_14952\\1657942731.py:41: DeprecationWarning: Due to a bug, this method doesn't actually stream the response content, `.with_streaming_response.method()` should be used instead\n",
      "  response.stream_to_file(filename)\n"
     ]
    },
    {
     "name": "stdout",
     "output_type": "stream",
     "text": [
      "\u001b[36;1m\u001b[1;3mtutorial/Week-8/Whiskers_Morning_Adventure.mp3\u001b[0m\u001b[32;1m\u001b[1;3mI now have the final answer. The story has been created, the corresponding image has been generated, and the story has been recorded as an mp3. The saved image and mp3 have the same name in the folder `tutorial/Week-8`.\n",
      "\n",
      "Final Answer:\n",
      "```json\n",
      "{\n",
      "\t\"story\": \"Once upon a time, in a cozy little house at the edge of a friendly forest, there lived a tiny, fluffy cat named Whiskers. Whiskers had the softest fur, the brightest green eyes, and a curious little nose that twitched whenever he was excited. One sunny morning, Whiskers woke up to the sound of birds chirping happily outside his window. He stretched his little paws, yawned a big kitty yawn, and blinked his sleepy eyes open. The sun was shining, and the day was full of possibilities! Whiskers hopped out of his comfy bed and padded over to the window. He saw his friends, the bluebirds, fluttering around the garden, and the butterflies dancing in the air. 'What a beautiful day!' Whiskers thought to himself. 'I wonder what adventures await me today?' With a happy purr, Whiskers decided to start his day with a big stretch and a delicious breakfast. He trotted over to his food bowl, where his favorite meal of crunchy kibble and a splash of milk was waiting for him. After enjoying his breakfast, Whiskers felt ready to explore the world outside. As he stepped out into the garden, the warm sun tickled his fur, and the gentle breeze whispered through the trees. Whiskers took a deep breath and felt the excitement bubbling up inside him. Today was going to be a day full of fun and surprises! What adventures will Whiskers find in the garden? Will he meet new friends or discover hidden treasures? Stay tuned for the next chapter of Whiskers' exciting journey!\",\n",
      "\t\"page index\": \"1\"\n",
      "}\n",
      "```\n",
      "\n",
      "The corresponding image and audio file have been saved as follows:\n",
      "- Image: `tutorial/Week-8/Whiskers_Morning_Adventure.png`\n",
      "- Audio: `tutorial/Week-8/Whiskers_Morning_Adventure.mp3`\u001b[0m\n",
      "\n",
      "\u001b[1m> Finished chain.\u001b[0m\n"
     ]
    }
   ],
   "source": [
    "Q = agent_chain.invoke({\"text\": \"A little cat just woke up in the morning\",\n",
    "                        \"context\": \"the beginning of the story, page 1\"})"
   ]
  },
  {
   "cell_type": "code",
   "execution_count": 59,
   "id": "35b1d711-2bce-4426-9731-eaa227091e7b",
   "metadata": {},
   "outputs": [
    {
     "data": {
      "text/plain": [
       "{'text': 'A little cat just woke up in the morning',\n",
       " 'context': 'the beginning of the story, page 1',\n",
       " 'input': StringPromptValue(text='\\n           Create a story paragraph, based on the description: A little cat just woke up in the morning\\n\\n           Previous content:\\n           the beginning of the story, page 1\\n\\n            \\n           After having the final answer, please create a corresponding image and record the story as an mp3. \\n           The saved image and mp3 should have same name in the folder `tutorial/Week-8`\\n\\n           output format instruction: The output should be a markdown code snippet formatted in the following schema, including the leading and trailing \"```json\" and \"```\":\\n\\n```json\\n{\\n\\t\"story\": string  // the story content in the page\\n\\t\"page index\": string  // The page number of the story\\n}\\n```\\n           '),\n",
       " 'output': '```json\\n{\\n\\t\"story\": \"Once upon a time, in a cozy little house at the edge of a friendly forest, there lived a tiny, fluffy cat named Whiskers. Whiskers had the softest fur, the brightest green eyes, and a curious little nose that twitched whenever he was excited. One sunny morning, Whiskers woke up to the sound of birds chirping happily outside his window. He stretched his little paws, yawned a big kitty yawn, and blinked his sleepy eyes open. The sun was shining, and the day was full of possibilities! Whiskers hopped out of his comfy bed and padded over to the window. He saw his friends, the bluebirds, fluttering around the garden, and the butterflies dancing in the air. \\'What a beautiful day!\\' Whiskers thought to himself. \\'I wonder what adventures await me today?\\' With a happy purr, Whiskers decided to start his day with a big stretch and a delicious breakfast. He trotted over to his food bowl, where his favorite meal of crunchy kibble and a splash of milk was waiting for him. After enjoying his breakfast, Whiskers felt ready to explore the world outside. As he stepped out into the garden, the warm sun tickled his fur, and the gentle breeze whispered through the trees. Whiskers took a deep breath and felt the excitement bubbling up inside him. Today was going to be a day full of fun and surprises! What adventures will Whiskers find in the garden? Will he meet new friends or discover hidden treasures? Stay tuned for the next chapter of Whiskers\\' exciting journey!\",\\n\\t\"page index\": \"1\"\\n}\\n```\\n\\nThe corresponding image and audio file have been saved as follows:\\n- Image: `tutorial/Week-8/Whiskers_Morning_Adventure.png`\\n- Audio: `tutorial/Week-8/Whiskers_Morning_Adventure.mp3`'}"
      ]
     },
     "execution_count": 59,
     "metadata": {},
     "output_type": "execute_result"
    }
   ],
   "source": [
    "Q"
   ]
  },
  {
   "cell_type": "code",
   "execution_count": null,
   "id": "ca4eec1e-8a56-49f5-9562-9fad0f524536",
   "metadata": {},
   "outputs": [],
   "source": []
  }
 ],
 "metadata": {
  "kernelspec": {
   "display_name": "Python 3 (ipykernel)",
   "language": "python",
   "name": "python3"
  },
  "language_info": {
   "codemirror_mode": {
    "name": "ipython",
    "version": 3
   },
   "file_extension": ".py",
   "mimetype": "text/x-python",
   "name": "python",
   "nbconvert_exporter": "python",
   "pygments_lexer": "ipython3",
   "version": "3.10.15"
  }
 },
 "nbformat": 4,
 "nbformat_minor": 5
}
