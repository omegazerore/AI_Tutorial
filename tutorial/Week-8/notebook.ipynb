{
 "cells": [
  {
   "cell_type": "markdown",
   "id": "1cd5f1f4-81a7-4ffb-a0e9-787048185a4e",
   "metadata": {},
   "source": [
    "# DALLE-3"
   ]
  },
  {
   "cell_type": "code",
   "execution_count": null,
   "id": "8bdb24ce-0f79-4abb-8793-169215c36fe0",
   "metadata": {
    "tags": []
   },
   "outputs": [],
   "source": [
    "import os\n",
    "\n",
    "os.chdir(\"../../\")"
   ]
  },
  {
   "cell_type": "code",
   "execution_count": null,
   "id": "2e2aab6e-5789-4e2a-b4d0-5919f9f0e29b",
   "metadata": {
    "tags": []
   },
   "outputs": [],
   "source": [
    "from langchain.chat_models import ChatOpenAI\n",
    "\n",
    "from src.initialization import credential_init\n",
    "\n",
    "\n",
    "credential_init()\n",
    "\n",
    "model = ChatOpenAI(openai_api_key=os.environ['OPENAI_API_KEY'],\n",
    "                   model_name=\"gpt-4o-2024-05-13\", temperature=0)"
   ]
  },
  {
   "cell_type": "markdown",
   "id": "f3a19029-f2df-49f9-9596-0c0a52149c2f",
   "metadata": {},
   "source": [
    "### OpenAI Image API Parameters:\n",
    "\n",
    "- model: dall-e-3\n",
    "- size (str): 1024x1024, 1024x1792, 1792x1024\n",
    "- quality: hd, standard\n",
    "- style: vivid, natural. Default vivid"
   ]
  },
  {
   "cell_type": "code",
   "execution_count": null,
   "id": "da908a85-5203-43cc-8241-76eba5cc578c",
   "metadata": {
    "tags": []
   },
   "outputs": [],
   "source": [
    "from openai import OpenAI\n",
    "\n",
    "prompt = \"\"\"\n",
    "A Sumi-e style watercolor painting of mountains during sunset. The sky is depicted with bold splashes of orange, pink, and purple hues, \n",
    "blending and overlapping in a dynamic composition. The mountains are represented with expressive brushstrokes, emphasizing their majestic and serene presence. \n",
    "The focus is on capturing the essence and mood of the scene rather than detailed realism. The overall effect is serene and contemplative, with a harmonious \n",
    "balance of color and form.\n",
    "\"\"\"\n",
    "\n",
    "client = OpenAI()\n",
    "\n",
    "response = client.images.generate(\n",
    "    model=\"dall-e-3\",\n",
    "    prompt=prompt,\n",
    "    size=\"1024x1024\",\n",
    "    quality=\"hd\",\n",
    "    n=1,\n",
    ")\n",
    "\n",
    "image_url = response.data[0].url"
   ]
  },
  {
   "cell_type": "code",
   "execution_count": null,
   "id": "229840c3-d489-4143-b7f8-af74fa704eab",
   "metadata": {
    "tags": []
   },
   "outputs": [],
   "source": [
    "image_url"
   ]
  },
  {
   "cell_type": "markdown",
   "id": "2b255426-c09f-4a61-aaf6-bed8eafe870e",
   "metadata": {},
   "source": [
    "## Save the image in your local computer"
   ]
  },
  {
   "cell_type": "code",
   "execution_count": null,
   "id": "0d6fc657-7688-47fe-9d2d-e9fd400cb1fa",
   "metadata": {
    "tags": []
   },
   "outputs": [],
   "source": [
    "import requests\n",
    "from PIL import Image\n",
    "from io import BytesIO\n",
    "\n",
    "response = requests.get(image_url)\n",
    "\n",
    "if response.status_code == 200:\n",
    "    image = Image.open(BytesIO(response.content))\n",
    "    filename = os.path.join(get_project_dir(), 'tutorial', 'Week-8', 'test.jpg')\n",
    "    image.save(filename)  # Save the image with your preferred file name and format\n",
    "    print(\"Image downloaded and saved successfully.\")\n",
    "else:\n",
    "    print(\"Failed to retrieve the image. Status code:\", response.status_code)"
   ]
  },
  {
   "cell_type": "markdown",
   "id": "935b95d7-b6b3-4a14-9328-a998daee4320",
   "metadata": {},
   "source": [
    "## Two Challenges:\n",
    "\n",
    "### 1. How to create prompt more efficiently? \n",
    "\n",
    "There are two types of prompt: \n",
    "\n",
    "1. Danbooru Tag: masterpiece, best quality, beautiful eyes, clear eyes, detailed eyes, Blue-eyes, 1girl, 20_old, full-body, break, smoking, break, high_color, blue-hair, beauty, black-boots,break, break, Flat vector art, Colorful art, white_shirt, simple_background, blue_background, Ink art, peeking out upper body, Eyes\n",
    "\n",
    "2. Narutal language: A Sumi-e style watercolor painting of mountains during sunset. The sky is depicted with bold splashes of orange, pink, and purple hues, blending and overlapping in a dynamic composition. The mountains are represented with expressive brushstrokes,emphasizing their majestic and serene presence. The focus is on capturing the essence and mood of the scene rather than detailed realism. The overall effect is serene and contemplative, with a harmonious balance of color and form.\n",
    "\n",
    "As non-native English speakers, we find the natural language prompt challenging, even for native speakers, due to the inclusion of specialized terminologies and advanced vocabulary.\n",
    "\n",
    "由於涉及專業術語和高級詞彙，我們作為非母語英語使用者，發現這個自然語言提示對我們來說是具有挑戰性的，即使對母語使用者來說也是如此。\n",
    "\n",
    "### 2. How to make it an LCEL?"
   ]
  },
  {
   "cell_type": "markdown",
   "id": "76e4d43a-4fd3-45a7-a51c-ced9cf9902f9",
   "metadata": {},
   "source": [
    "## Some websites for natural language prompt\n",
    "\n",
    "- https://leonardo.ai/: An Image generation SaaS. A lot of works are created with natural language prompt. \n",
    "- https://blog.mlq.ai/dalle-prompts/: Some tutorial about how to come up with a natural language prompt."
   ]
  },
  {
   "cell_type": "markdown",
   "id": "73124c68-8452-4711-a72e-e097f6256d16",
   "metadata": {},
   "source": [
    "### Natural Language Prompt Generation"
   ]
  },
  {
   "cell_type": "code",
   "execution_count": null,
   "id": "3b6deea0-76c1-4f46-93bd-df0da355877d",
   "metadata": {
    "tags": []
   },
   "outputs": [],
   "source": [
    "from langchain.prompts import PromptTemplate, ChatPromptTemplate, HumanMessagePromptTemplate, SystemMessagePromptTemplate\n",
    "from langchain_core.output_parsers import StrOutputParser\n",
    "\n",
    "\n",
    "system_prompt = PromptTemplate.from_template('''You are a helpful AI assistant and an art expert with extensive knowledge of photography and illustration. \n",
    "You excel at creating breathtaking masterpieces using the DALLE-3 model. For this task, you will be provided with a description of an image, and you will \n",
    "generate a corresponding DALLE-3 prompt. The prompt should be detailed and descriptive, capturing the essence of the image. The length of the prompt should be \n",
    "around 100-500 tokens.''')\n",
    "\n",
    "# System prompt\n",
    "system_message = SystemMessagePromptTemplate(prompt=system_prompt)\n",
    "\n",
    "\n",
    "human_prompt = PromptTemplate(template=\"{image_desc}\",\n",
    "                              input_variables=['image_desc'])\n",
    "\n",
    "# Create a human message prompt template based on the prompt\n",
    "human_message = HumanMessagePromptTemplate(prompt=human_prompt)\n",
    "\n",
    "chat_prompt = ChatPromptTemplate.from_messages([system_message, human_message])\n",
    "\n",
    "nl_prompt_generation_chain = chat_prompt | model | StrOutputParser()"
   ]
  },
  {
   "cell_type": "code",
   "execution_count": null,
   "id": "b90024c5-67a6-43cf-a64a-757de94ef808",
   "metadata": {
    "tags": []
   },
   "outputs": [],
   "source": [
    "from typing import Dict\n",
    "\n",
    "\n",
    "def dalle3_worker(kwargs: Dict):\n",
    "\n",
    "    \"\"\"\n",
    "    Generates an image using OpenAI's DALL-E 3 model based on the provided prompt and optional parameters.\n",
    "    \n",
    "    Parameters:\n",
    "    kwargs (Dict): A dictionary containing the following keys:\n",
    "        - 'nl_prompt' (str): The natural language prompt describing the image to be generated.\n",
    "        - 'size' (str, optional): The size of the generated image. Default is \"1024x1024\".\n",
    "        - 'quality' (str, optional): The quality of the generated image. Default is \"standard\".\n",
    "        - 'style' (str, optional): The style of the generated image. Default is \"vivid\".\n",
    "    \n",
    "    Returns:\n",
    "    str: The URL of the generated image.\n",
    "    \n",
    "    Example:\n",
    "    >>> kwargs = {\n",
    "    ...     \"nl_prompt\": \"A futuristic city skyline at sunset\",\n",
    "    ...     \"size\": \"1024x1024\",\n",
    "    ...     \"quality\": \"high\",\n",
    "    ...     \"style\": \"photorealistic\"\n",
    "    ... }\n",
    "    >>> image_url = dalle3_worker(kwargs)\n",
    "    Start generating image...\n",
    "    prompt: A futuristic city skyline at sunset\n",
    "    generated_image: https://example.com/generated_image.png\n",
    "    >>> print(image_url)\n",
    "    https://example.com/generated_image.png\n",
    "    \"\"\"\n",
    "    \n",
    "    print(\"Start generating image...\")\n",
    "    print(f\"prompt: {kwargs['nl_prompt']}\")\n",
    "    client = OpenAI()\n",
    "\n",
    "    response = client.images.generate(\n",
    "        model=\"dall-e-3\",\n",
    "        prompt=kwargs['nl_prompt'],\n",
    "        size=kwargs.get(\"size\", \"1024x1024\"),\n",
    "        quality=kwargs.get('quality', 'standard'),\n",
    "        style=kwargs.get('style', 'vivid'),\n",
    "        n=1)\n",
    "\n",
    "    image_url = response.data[0].url\n",
    "    \n",
    "    print(f\"generated_image: {image_url}\")\n",
    "    \n",
    "    return image_url\n",
    "\n",
    "\n",
    "def url_to_file(image_url: str):\n",
    "\n",
    "    \"\"\"\n",
    "    Downloads an image from the given URL and saves it to a specified directory.\n",
    "    \n",
    "    Parameters:\n",
    "    image_url (str): The URL of the image to be downloaded.\n",
    "    \n",
    "    Returns:\n",
    "    None\n",
    "    \n",
    "    Example:\n",
    "    >>> image_url = \"https://example.com/image.jpg\"\n",
    "    >>> url_to_file(image_url)\n",
    "    Image downloaded and saved successfully.\n",
    "    \"\"\"\n",
    "    \n",
    "    response = requests.get(image_url)\n",
    "    \n",
    "    filename = image_url.split(\"/\")[-1] + '.jpg'\n",
    "    \n",
    "    if response.status_code == 200:\n",
    "        image = Image.open(BytesIO(response.content))\n",
    "        filename = os.path.join(get_project_dir(), 'tutorial', 'Week-8', filename)\n",
    "        image.save(filename)  # Save the image with your preferred file name and format\n",
    "        print(\"Image downloaded and saved successfully.\")\n",
    "    else:\n",
    "        print(\"Failed to retrieve the image. Status code:\", response.status_code)"
   ]
  },
  {
   "cell_type": "code",
   "execution_count": null,
   "id": "af60ca67-f323-49d6-a154-63c190060199",
   "metadata": {
    "tags": []
   },
   "outputs": [],
   "source": [
    "from operator import itemgetter\n",
    "\n",
    "from langchain_core.runnables import RunnableLambda, RunnableParallel\n",
    "\n",
    "\n",
    "dalle3_chain = RunnableParallel(nl_prompt=itemgetter('image_desc')|nl_prompt_generation_chain,\n",
    "                                size=itemgetter(\"size\"),\n",
    "                                quality=itemgetter(\"quality\")) | RunnableLambda(dalle3_worker) | RunnableLambda(url_to_file)"
   ]
  },
  {
   "cell_type": "code",
   "execution_count": null,
   "id": "51ab41f1-eeec-46ae-8e27-0a1f42facfe4",
   "metadata": {
    "tags": []
   },
   "outputs": [],
   "source": [
    "dalle3_chain.invoke({\"size\": \"1024x1792\",\n",
    "                     \"quality\": \"hd\",\n",
    "                     \"image_desc\": \"\"\"\n",
    "                                 masterpiece, best quality, beautiful eyes, clear eyes, detailed eyes, Blue-eyes, 1girl, 20_old, full-body, \n",
    "                                 break, smoking, break, high_color, blue-hair, beauty, black-boots,break, break, Flat vector art, Colorful art, white_shirt, \n",
    "                                 simple_background, blue_background, Ink art,peeking out upper body,Eyes, portrait\n",
    "                                 \"\"\"\n",
    "                    })"
   ]
  },
  {
   "cell_type": "code",
   "execution_count": null,
   "id": "96429327-2750-4094-804c-693aab9a0217",
   "metadata": {
    "tags": []
   },
   "outputs": [],
   "source": [
    "dalle3_chain.invoke({\"size\": \"1024x1792\",\n",
    "                     \"quality\": \"hd\",\n",
    "                     \"image_desc\": \"\"\"\n",
    "                                 close-up portrait, black fox ears, animal ear fluff, black fox tail, black hair, red inner hair, hair ornament, \n",
    "                                 magatama necklace, fur trim, black short kimono, exquisite design, cat_collar, off-shoulder,wide sleeves, \n",
    "                                 long sleeves, obi, miniskirt, perfect model body, a 17-years-old ethereal and glamorously beautiful girl, from above, \n",
    "                                 eating donut, holding a donut, a large cup of coffee on table, in a coffee shop, pencil sketch, perfect detail, intricate detail, \n",
    "                                 masterpiece, best quality, beauty & aesthetic, sketch\n",
    "                                 \"\"\"\n",
    "                    })\n"
   ]
  },
  {
   "cell_type": "code",
   "execution_count": null,
   "id": "16f6b7ab-1a90-4801-9823-f70d1cd58ade",
   "metadata": {
    "tags": []
   },
   "outputs": [],
   "source": [
    "dalle3_chain.invoke({\"size\": \"1024x1024\",\n",
    "                     \"quality\": \"hd\",\n",
    "                     \"image_desc\": \"\"\"\n",
    "                                 close-up portrait, black fox ears, animal ear fluff, black fox tail, black hair, red inner hair, hair ornament, \n",
    "                                 magatama necklace, fur trim, black short kimono, exquisite design, cat_collar, off-shoulder,wide sleeves, \n",
    "                                 long sleeves, obi, miniskirt, perfect model body, a 17-years-old ethereal and glamorously beautiful girl, from above, \n",
    "                                 eating donut, holding a donut, a large cup of coffee on table, in a coffee shop, pencil sketch, perfect detail, intricate detail, \n",
    "                                 masterpiece, best quality, beauty & aesthetic, sketch\n",
    "                                 \"\"\"\n",
    "                    })"
   ]
  },
  {
   "cell_type": "markdown",
   "id": "bf1adc35-4a36-47b6-809c-ddb35cceb60a",
   "metadata": {},
   "source": [
    "## Use this as a tool for Agent"
   ]
  },
  {
   "cell_type": "code",
   "execution_count": null,
   "id": "6b248354-6e52-46bc-b3eb-bef1a421926d",
   "metadata": {
    "tags": []
   },
   "outputs": [],
   "source": [
    "from langchain.agents import Tool, AgentExecutor, create_react_agent\n",
    "from langchain.prompts import PromptTemplate\n",
    "from langchain.tools import BaseTool\n",
    "\n",
    "from src.agent.react_zero_shot import prompt_template as zero_shot_prompt_template\n",
    "\n",
    "\n",
    "class ImageTool(BaseTool):\n",
    "\n",
    "    name = \"Dalle-3 generator\"\n",
    "    description = \"Use this tool when you need to create an image\"\n",
    "\n",
    "    def _run(self, query):\n",
    "        \n",
    "        print(\"\\n\")\n",
    "        print(f\"image_desc: {query}\")\n",
    "        print(\"\\n\")\n",
    "        \n",
    "        # nl_prompt = nl_prompt_generation_chain.invoke({\"image_desc\": query})\n",
    "        \n",
    "        dalle3_chain.invoke({\"image_desc\": query,\n",
    "                             \"size\": \"1024x1024\",\n",
    "                             \"quality\": \"hd\",\n",
    "                             \"style\": \"vivid\"})\n",
    "        \n",
    "        return \"Done\"\n",
    "\n",
    "    def _arun(self, radius: int):\n",
    "        raise NotImplementedError(\"This tool does not support async\")\n",
    "\n",
    "prompt = PromptTemplate.from_template(zero_shot_prompt_template)\n",
    "\n",
    "tools = [ImageTool()]\n",
    "\n",
    "zero_shot_agent = create_react_agent(\n",
    "    llm=model,\n",
    "    tools=tools,\n",
    "    prompt=prompt,\n",
    ")\n",
    "\n",
    "agent_executor = AgentExecutor(agent=zero_shot_agent, tools=tools, verbose=True)"
   ]
  },
  {
   "cell_type": "code",
   "execution_count": null,
   "id": "c4acd426-a089-4296-8507-b898488e7736",
   "metadata": {
    "tags": []
   },
   "outputs": [],
   "source": [
    "image_prompt = \"\"\"\n",
    "brown hair, bangs, two side up, twin ponytails, sidelocks, black hat, jewelry, black cheongsam, intricate golden embroidery, long sleeves,\n",
    "wide sleeves, black shorts, hat ornament, hat flower, a 17-years-old ethereal and glamorous beautiful japanese idol,\n",
    "translucent skin tone, profound facial features, bright eyes, faint rosy blush, ultra realistic, raw photo, award-winning photo, masterpiece, \n",
    "best quality, high resolution, official art, 8k uhd, high fidelity, depth of field, on the top of a skyscaper, mesmetizing city view, \n",
    "night\n",
    "\"\"\""
   ]
  },
  {
   "cell_type": "code",
   "execution_count": null,
   "id": "8e4b7234-d7ae-4256-ac69-927affee0a23",
   "metadata": {
    "tags": []
   },
   "outputs": [],
   "source": [
    "agent_executor.invoke({\"input\": f\"Generate in image with the following information: \\n {image_prompt}\"})"
   ]
  },
  {
   "cell_type": "markdown",
   "id": "273538bc-be51-4b58-84dd-179085b66e7f",
   "metadata": {},
   "source": [
    "## ACG Characters\n",
    "\n"
   ]
  },
  {
   "cell_type": "code",
   "execution_count": null,
   "id": "3f3679ef-4354-460d-8f4c-63af32efc161",
   "metadata": {
    "tags": []
   },
   "outputs": [],
   "source": [
    "from langchain.utilities.tavily_search import TavilySearchAPIWrapper\n",
    "from langchain.tools.tavily_search import TavilySearchResults\n",
    "\n",
    "search = TavilySearchAPIWrapper()\n",
    "tavily_tool = TavilySearchResults(api_wrapper=search)\n",
    "\n",
    "outputs = tavily_tool.invoke(\"What is the appearance of Hutou from Genshin\")"
   ]
  },
  {
   "cell_type": "code",
   "execution_count": null,
   "id": "ab854472-1d5f-468e-ad85-37095f6fccc5",
   "metadata": {
    "tags": []
   },
   "outputs": [],
   "source": [
    "outputs[0]['content']"
   ]
  },
  {
   "cell_type": "markdown",
   "id": "5ba75cd3-0fa8-4012-9ab4-0de388ab097d",
   "metadata": {},
   "source": [
    "# **** 預計第一個小時結束 ****"
   ]
  },
  {
   "cell_type": "markdown",
   "id": "3762d243-fe7f-4b43-b9c8-466918715165",
   "metadata": {},
   "source": [
    "## LCEL ACG character appearance chain"
   ]
  },
  {
   "cell_type": "code",
   "execution_count": null,
   "id": "1ab73102-3977-4691-b91d-10d0faa3aa0b",
   "metadata": {
    "tags": []
   },
   "outputs": [],
   "source": [
    "from langchain.docstore.document import Document\n",
    "from langchain.agents import Tool, AgentExecutor, create_react_agent\n",
    "from langchain.tools import BaseTool\n",
    "from langchain.prompts import PromptTemplate, ChatPromptTemplate, HumanMessagePromptTemplate, SystemMessagePromptTemplate\n",
    "from langchain_core.output_parsers import StrOutputParser\n",
    "\n",
    "\n",
    "def tavily_content_parser(outputs):\n",
    "\n",
    "    \"\"\"\n",
    "    Parses the content from a list of outputs into Document objects.\n",
    "    \n",
    "    Parameters:\n",
    "    outputs (list): A list of dictionaries where each dictionary contains a 'content' key \n",
    "                    representing the content of a document.\n",
    "    \n",
    "    Returns:\n",
    "    list: A list of Document objects, each initialized with the content from the 'outputs'.\n",
    "    \n",
    "    Example:\n",
    "    >>> outputs = [\n",
    "    ...     {'content': 'This is document 1 content.'},\n",
    "    ...     {'content': 'This is document 2 content.'}\n",
    "    ... ]\n",
    "    >>> documents = tavily_content_parser(outputs)\n",
    "    >>> for doc in documents:\n",
    "    ...     print(doc.page_content)\n",
    "    This is document 1 content.\n",
    "    This is document 2 content.\n",
    "    \"\"\"\n",
    "    \n",
    "    documents = [Document(page_content=output['content']) for output in outputs]\n",
    "    \n",
    "    return documents\n",
    "\n",
    "\n",
    "system_prompt = PromptTemplate.from_template('''You are a helpful AI assistant with deep knowledge of anime, manga, \n",
    "and mobile games. You will generate the face, body, attire, hairstyle, and accessories of an character in great \n",
    "detail with data provided from the `context` The output should look like:\n",
    "\n",
    " - Face:\n",
    " - Body:\n",
    " - Attire:\n",
    " - Hairstyle:\n",
    " - Accessories:\n",
    "\n",
    "''')\n",
    "\n",
    "system_message = SystemMessagePromptTemplate(prompt=system_prompt)\n",
    "\n",
    "\n",
    "human_prompt = PromptTemplate(template=\"context: {context}\",\n",
    "                                  input_variables=['context'])\n",
    "\n",
    "# Create a human message prompt template based on the prompt\n",
    "human_message = HumanMessagePromptTemplate(prompt=human_prompt)\n",
    "\n",
    "# Create a chat prompt template from system and human message prompt templates\n",
    "chat_prompt = ChatPromptTemplate.from_messages([system_message, human_message])\n",
    "\n",
    "# Construct the processing chain\n",
    "acg_chain = {'context': tavily_tool|tavily_content_parser} | chat_prompt | model | StrOutputParser()\n",
    "\n"
   ]
  },
  {
   "cell_type": "code",
   "execution_count": null,
   "id": "c05f32a4-affa-4092-96ef-a0d7744d4222",
   "metadata": {
    "tags": []
   },
   "outputs": [],
   "source": [
    "acg_chain.invoke(\"What is the appearance of Hutou from Genshin\")"
   ]
  },
  {
   "cell_type": "code",
   "execution_count": null,
   "id": "6f9a6afa-cf49-4aa1-a542-1fa9ef205d27",
   "metadata": {
    "tags": []
   },
   "outputs": [],
   "source": [
    "class ACGLLMTool(BaseTool):\n",
    "\n",
    "    name = \"`Anime character design generator`\"\n",
    "    description = \"Use this tool to generate and explore detailed designs for anime and ACG (Animation, Comics, and Games) characters.\"\n",
    "\n",
    "    def _run(self, query: str):\n",
    "        \n",
    "        description = acg_chain.invoke(query)\n",
    "        \n",
    "        return description\n",
    "\n",
    "    def _arun(self, radius: int):\n",
    "        raise NotImplementedError(\"This tool does not support async\")\n",
    "        \n",
    "        \n",
    "class ImageTool(BaseTool):\n",
    "\n",
    "    name = \"Dalle-3 generator\"\n",
    "    description = \"\"\"The Dalle-3 generator is a tool for creating images. It's best used when you're considering the need for an ACG (anime, comics, games) character design. \n",
    "    Before using this tool, you may want to utilize the `Anime character design generator` to gather relevant information. The generated image will maintain the specified art style.\"\"\"\n",
    "\n",
    "    def _run(self, query):\n",
    "        \n",
    "        print(\"\\n\")\n",
    "        print(f\"image_desc: {query}\")\n",
    "        print(\"\\n\")\n",
    "        \n",
    "        dalle3_chain.invoke({\"image_desc\": query,\n",
    "                             \"size\": \"1024x1024\",\n",
    "                             \"quality\": \"hd\",\n",
    "                             \"style\": \"vivid\"})\n",
    "        \n",
    "        return \"Done\"\n",
    "\n",
    "    def _arun(self, radius: int):\n",
    "        raise NotImplementedError(\"This tool does not support async\")\n",
    "\n",
    "        \n",
    "prompt_template = \"\"\"\n",
    "Answer the following questions as best you can. You have access to the following tools:\n",
    "\n",
    "{tools}\n",
    "\n",
    "Use the following format:\n",
    "\n",
    "Question: the input question you must answer\n",
    "\n",
    "Thought: you should always think about what to do\n",
    "\n",
    "Action: the action to take, should be one of [{tool_names}]\n",
    "\n",
    "Action Input: the input to the action\n",
    "\n",
    "Observation: the result of the action\n",
    "\n",
    "... (this Thought/Action/Action Input/Observation can repeat N times)\n",
    "\n",
    "Thought: I now know the final answer\n",
    "\n",
    "Final Answer: the final answer to the original input question\n",
    "\n",
    "Begin!\n",
    "\n",
    "Question: {input}\n",
    "\n",
    "Thought:{agent_scratchpad}\n",
    "\"\"\"        \n",
    "             \n",
    "prompt = PromptTemplate.from_template(prompt_template)\n",
    "\n",
    "tools = [ImageTool(), ACGLLMTool()]\n",
    "\n",
    "zero_shot_agent = create_react_agent(\n",
    "    llm=model,\n",
    "    tools=tools,\n",
    "    prompt=prompt,\n",
    ")\n",
    "\n",
    "agent_executor = AgentExecutor(agent=zero_shot_agent, tools=tools, verbose=True)"
   ]
  },
  {
   "cell_type": "code",
   "execution_count": null,
   "id": "ce8d8dfd-78c8-45b4-8292-28857e770371",
   "metadata": {
    "tags": []
   },
   "outputs": [],
   "source": [
    "agent_executor.invoke({\"input\": f\"Generate an image of Hutou from Genshim in pastol art style\"})"
   ]
  },
  {
   "cell_type": "code",
   "execution_count": null,
   "id": "a319fdfa-7fdc-4f7f-8fb8-f203d88ce56e",
   "metadata": {
    "tags": []
   },
   "outputs": [],
   "source": [
    "agent_executor.invoke({\"input\": \"\"\"Generate an image of Hutou from Genshim. Extra image quality prompt  \n",
    "- ultra realistic\n",
    "- realistic photo\n",
    "- raw photo\n",
    "- high resolution\n",
    "- depth of field\n",
    "- bokeh\n",
    "\"\"\"})"
   ]
  },
  {
   "cell_type": "code",
   "execution_count": null,
   "id": "ecd7d075-323b-4c4a-9270-baf72441f02f",
   "metadata": {
    "tags": []
   },
   "outputs": [],
   "source": [
    "agent_executor.invoke({\"input\": \"\"\"Generate an image of Hutou from Genshim. Extra image quality prompt  \n",
    "- ultra realistic\n",
    "- realistic photo\n",
    "- raw photo\n",
    "- Cosplay\n",
    "- high resolution\n",
    "- depth of field\n",
    "- bokeh\n",
    "\"\"\"})"
   ]
  },
  {
   "cell_type": "code",
   "execution_count": null,
   "id": "3c428fcc-e8be-45f1-8d15-9e7112fba86e",
   "metadata": {
    "tags": []
   },
   "outputs": [],
   "source": [
    "agent_executor.invoke({\"input\": \"Generate an award-winning portrait photo of a 17-years-old japanese girl cosplaying Hutou from Genshim\" })"
   ]
  },
  {
   "cell_type": "markdown",
   "id": "9fabc653-5ca9-484b-a864-0b6a363ac275",
   "metadata": {},
   "source": [
    "## Audible 有聲書\n",
    "\n",
    "- 文轉語音: TTS tool\n",
    "- 文轉圖: Image tool"
   ]
  },
  {
   "cell_type": "markdown",
   "id": "0d8075d8-df6e-4320-a297-2504c5b28fbc",
   "metadata": {},
   "source": [
    "### Children Book Image Generator"
   ]
  },
  {
   "cell_type": "code",
   "execution_count": null,
   "id": "2d168449-4550-49b8-acd2-21b4d3009efa",
   "metadata": {
    "tags": []
   },
   "outputs": [],
   "source": [
    "system_prompt = PromptTemplate.from_template('''You are a helpful AI assistant and an art expert with extensive knowledge of illustration. \n",
    "You excel at creating Pencil and Ink Style illustrations for 6-year-old children using the DALLE-3 model. This style is characterized by \n",
    "detailed line work, often in black and white or with minimal color, and has a classic, timeless feel. For this task, you will be provided with \n",
    "a paragraph of a story, and you will generate a corresponding DALLE-3 prompt which captures the storyline. The prompt should be \n",
    "detailed and descriptive, capturing the essence of the image. The length of the prompt should be around 100-500 tokens.''')\n",
    "\n",
    "# System prompt\n",
    "system_message = SystemMessagePromptTemplate(prompt=system_prompt)\n",
    "\n",
    "human_prompt = PromptTemplate(template=\"{story}\",\n",
    "                              input_variables=['story'])\n",
    "\n",
    "# Create a human message prompt template based on the prompt\n",
    "human_message = HumanMessagePromptTemplate(prompt=human_prompt)\n",
    "\n",
    "chat_prompt = ChatPromptTemplate.from_messages([system_message, human_message])\n",
    "\n",
    "nl_prompt_generation_chain = chat_prompt | model | StrOutputParser()     \n",
    "\n",
    "image_chain = RunnableParallel(nl_prompt=itemgetter('story')|nl_prompt_generation_chain,\n",
    "                               size=itemgetter(\"size\"),\n",
    "                               quality=itemgetter(\"quality\")) | RunnableLambda(dalle3_worker)"
   ]
  },
  {
   "cell_type": "code",
   "execution_count": null,
   "id": "797c315b-489e-4b45-b4b6-879a8e8414db",
   "metadata": {
    "tags": []
   },
   "outputs": [],
   "source": [
    "system_prompt = PromptTemplate.from_template('''You are a helpful AI assistant who likes children. \n",
    "You are great storyteller and know how to create content for kindergarten kids. A short chapter is \n",
    "created once at a time.''')\n",
    "\n",
    "# System prompt\n",
    "system_message = SystemMessagePromptTemplate(prompt=system_prompt)\n",
    "\n",
    "human_prompt = PromptTemplate(template=\"{input}\",\n",
    "                              input_variables=['input'])\n",
    "\n",
    "# Create a human message prompt template based on the prompt\n",
    "human_message = HumanMessagePromptTemplate(prompt=human_prompt)\n",
    "\n",
    "chat_prompt = ChatPromptTemplate.from_messages([system_message, human_message])\n",
    "\n",
    "story_chain = chat_prompt | model | StrOutputParser()     "
   ]
  },
  {
   "cell_type": "code",
   "execution_count": null,
   "id": "e4bfecd8-484f-4c37-a9d4-09773a31b21d",
   "metadata": {
    "tags": []
   },
   "outputs": [],
   "source": [
    "import json\n",
    "\n",
    "from langchain.agents import create_structured_chat_agent\n",
    "from langchain_core.prompts import MessagesPlaceholder\n",
    "\n",
    "client = OpenAI(api_key=os.environ['OPENAI_API_KEY'])\n",
    "\n",
    "    \n",
    "class TTSTool(BaseTool):\n",
    "\n",
    "    name = \"Text to Sound\"\n",
    "    description = \"Use this tool to generate an audio file\"\n",
    "\n",
    "    def _run(self, text: str):\n",
    "        \n",
    "        response = self.tts(text)\n",
    "        \n",
    "        speech_file_path = os.path.join(get_project_dir(), f\"tutorial/Week-8/chapter_1.mp3\")\n",
    "        \n",
    "        response.stream_to_file(speech_file_path)\n",
    "        \n",
    "        return speech_file_path\n",
    "\n",
    "    def _arun(self, radius: int):\n",
    "        raise NotImplementedError(\"This tool does not support async\")\n",
    "        \n",
    "        \n",
    "    def tts(self, text: str):\n",
    "        \n",
    "        response = client.audio.speech.create(\n",
    "          model=\"tts-1\",\n",
    "          voice=\"nova\",\n",
    "          input=text\n",
    "        )\n",
    "\n",
    "        return response\n",
    "    \n",
    "    \n",
    "class ImageTool(BaseTool):\n",
    "\n",
    "    name = \"Dalle-3 generator\"\n",
    "    description = \"The Dalle-3 geneator is a tool for creating images.\"\n",
    "\n",
    "    def _run(self, text):\n",
    "        \n",
    "        url = image_chain.invoke({\"story\": text,\n",
    "                                  \"size\": \"1024x1024\",\n",
    "                                  \"quality\": \"standard\",\n",
    "                                  \"style\": \"natural\"})\n",
    "        \n",
    "        response = requests.get(url)\n",
    "    \n",
    "        filename = os.path.join(get_project_dir(), 'tutorial', 'Week-8', \"chapter_1\"  + '.jpg')\n",
    "\n",
    "        if response.status_code == 200:\n",
    "            image = Image.open(BytesIO(response.content))\n",
    "            filename = os.path.join(get_project_dir(), 'tutorial', 'Week-8', filename)\n",
    "            image.save(filename)  # Save the image with your preferred file name and format\n",
    "            print(\"Image downloaded and saved successfully.\")\n",
    "        else:\n",
    "            print(\"Failed to retrieve the image. Status code:\", response.status_code)\n",
    "        \n",
    "        return filename\n",
    "        \n",
    "\n",
    "    def _arun(self, radius: int):\n",
    "        raise NotImplementedError(\"This tool does not support async\")    \n",
    "           \n",
    "            \n",
    "prompt = PromptTemplate.from_template(zero_shot_prompt_template)\n",
    "\n",
    "tools = [TTSTool(), \n",
    "         ImageTool(),\n",
    "         Tool(name=\"StoryTeller\",\n",
    "              func=story_chain.invoke,\n",
    "              description=\"useful for create story\",\n",
    "        )]\n",
    "\n",
    "zero_shot_agent = create_react_agent(\n",
    "    llm=model,\n",
    "    tools=tools,\n",
    "    prompt=prompt,\n",
    ")\n",
    "\n",
    "agent_executor = AgentExecutor(agent=zero_shot_agent, tools=tools, verbose=True)"
   ]
  },
  {
   "cell_type": "code",
   "execution_count": null,
   "id": "74b78a71-2bac-478a-9a4f-046bf3deba9b",
   "metadata": {
    "tags": []
   },
   "outputs": [],
   "source": [
    "agent_executor.invoke({\"input\": \"Create a chapter of a baby owl capturing a rodent in the night as his dinner. \\\n",
    "After having the final answer, create a corresponding image and record the story as an mp3\"})"
   ]
  },
  {
   "cell_type": "code",
   "execution_count": null,
   "id": "a86f1646-76d8-4298-8184-5194a62eb656",
   "metadata": {
    "tags": []
   },
   "outputs": [],
   "source": [
    "\"\"\"\n",
    "text: A baby owl named Ollie with big, round eyes and soft, fluffy feathers, capturing a rodent in the moonlit forest. The scene is set at night with twinkling stars and tall trees in the background.\n",
    "chapter: Ollie the Brave Baby Owl\n",
    "\"\"\""
   ]
  },
  {
   "cell_type": "code",
   "execution_count": null,
   "id": "3f38b8af-c7b7-4132-8d5e-6340ce809fb7",
   "metadata": {},
   "outputs": [],
   "source": []
  },
  {
   "cell_type": "code",
   "execution_count": null,
   "id": "c89f39ff-aeb8-433f-b18b-e20b622e5739",
   "metadata": {},
   "outputs": [],
   "source": []
  },
  {
   "cell_type": "code",
   "execution_count": null,
   "id": "586281e2-cfac-4033-b570-9d0013633d90",
   "metadata": {},
   "outputs": [],
   "source": []
  }
 ],
 "metadata": {
  "kernelspec": {
   "display_name": "Python 3 (ipykernel)",
   "language": "python",
   "name": "python3"
  },
  "language_info": {
   "codemirror_mode": {
    "name": "ipython",
    "version": 3
   },
   "file_extension": ".py",
   "mimetype": "text/x-python",
   "name": "python",
   "nbconvert_exporter": "python",
   "pygments_lexer": "ipython3",
   "version": "3.10.14"
  }
 },
 "nbformat": 4,
 "nbformat_minor": 5
}
