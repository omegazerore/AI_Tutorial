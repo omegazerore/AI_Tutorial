{
 "cells": [
  {
   "cell_type": "markdown",
   "id": "1cd5f1f4-81a7-4ffb-a0e9-787048185a4e",
   "metadata": {},
   "source": [
    "# DALLE-3"
   ]
  },
  {
   "cell_type": "code",
   "execution_count": 1,
   "id": "8bdb24ce-0f79-4abb-8793-169215c36fe0",
   "metadata": {
    "tags": []
   },
   "outputs": [],
   "source": [
    "import os\n",
    "\n",
    "os.chdir(\"../../\")"
   ]
  },
  {
   "cell_type": "code",
   "execution_count": 2,
   "id": "2e2aab6e-5789-4e2a-b4d0-5919f9f0e29b",
   "metadata": {
    "tags": []
   },
   "outputs": [
    {
     "name": "stderr",
     "output_type": "stream",
     "text": [
      "C:\\Users\\MengChieh\\Miniconda3\\envs\\llm_examples\\lib\\site-packages\\langchain_core\\_api\\deprecation.py:139: LangChainDeprecationWarning: The class `ChatOpenAI` was deprecated in LangChain 0.0.10 and will be removed in 0.3.0. An updated version of the class exists in the langchain-openai package and should be used instead. To use it run `pip install -U langchain-openai` and import as `from langchain_openai import ChatOpenAI`.\n",
      "  warn_deprecated(\n"
     ]
    }
   ],
   "source": [
    "from langchain.chat_models import ChatOpenAI\n",
    "\n",
    "from src.initialization import credential_init\n",
    "\n",
    "\n",
    "credential_init()\n",
    "\n",
    "model = ChatOpenAI(openai_api_key=os.environ['OPENAI_API_KEY'],\n",
    "                   model_name=\"gpt-4o-2024-05-13\", temperature=0)"
   ]
  },
  {
   "cell_type": "markdown",
   "id": "f3a19029-f2df-49f9-9596-0c0a52149c2f",
   "metadata": {},
   "source": [
    "### OpenAI Image API Parameters:\n",
    "\n",
    "- model: dall-e-3\n",
    "- size (str): 1024x1024, 1024x1792, 1792x1024\n",
    "- quality: hd, standard\n",
    "- style: vivid, natural. Default vivid"
   ]
  },
  {
   "cell_type": "code",
   "execution_count": 3,
   "id": "da908a85-5203-43cc-8241-76eba5cc578c",
   "metadata": {
    "tags": []
   },
   "outputs": [],
   "source": [
    "from openai import OpenAI\n",
    "\n",
    "prompt = \"\"\"\n",
    "A Sumi-e style watercolor painting of mountains during sunset. The sky is depicted with bold splashes of orange, pink, and purple hues, \n",
    "blending and overlapping in a dynamic composition. The mountains are represented with expressive brushstrokes, emphasizing their majestic and serene presence. \n",
    "The focus is on capturing the essence and mood of the scene rather than detailed realism. The overall effect is serene and contemplative, with a harmonious \n",
    "balance of color and form.\n",
    "\"\"\"\n",
    "\n",
    "client = OpenAI()\n",
    "\n",
    "response = client.images.generate(\n",
    "    model=\"dall-e-3\",\n",
    "    prompt=prompt,\n",
    "    size=\"1024x1024\",\n",
    "    quality=\"hd\",\n",
    "    n=1,\n",
    "    response_format = 'b64_json'\n",
    ")\n",
    "\n",
    "image_base64 = response.data[0].b64_json"
   ]
  },
  {
   "cell_type": "markdown",
   "id": "2b255426-c09f-4a61-aaf6-bed8eafe870e",
   "metadata": {},
   "source": [
    "## Save the image in your local computer"
   ]
  },
  {
   "cell_type": "code",
   "execution_count": 4,
   "id": "0d6fc657-7688-47fe-9d2d-e9fd400cb1fa",
   "metadata": {
    "tags": []
   },
   "outputs": [],
   "source": [
    "import base64\n",
    "\n",
    "with open(\"tutorial/Week-8/test.png\", \"wb\") as fh:\n",
    "    fh.write(base64.b64decode(image_base64))"
   ]
  },
  {
   "cell_type": "markdown",
   "id": "935b95d7-b6b3-4a14-9328-a998daee4320",
   "metadata": {},
   "source": [
    "## Two Challenges:\n",
    "\n",
    "### 1. How to create prompt more efficiently? \n",
    "\n",
    "There are two types of prompt: \n",
    "\n",
    "1. Danbooru Tag: masterpiece, best quality, beautiful eyes, clear eyes, detailed eyes, Blue-eyes, 1girl, 20_old, full-body, break, smoking, break, high_color, blue-hair, beauty, black-boots,break, break, Flat vector art, Colorful art, white_shirt, simple_background, blue_background, Ink art, peeking out upper body, Eyes\n",
    "\n",
    "2. Narutal language: A Sumi-e style watercolor painting of mountains during sunset. The sky is depicted with bold splashes of orange, pink, and purple hues, blending and overlapping in a dynamic composition. The mountains are represented with expressive brushstrokes,emphasizing their majestic and serene presence. The focus is on capturing the essence and mood of the scene rather than detailed realism. The overall effect is serene and contemplative, with a harmonious balance of color and form.\n",
    "\n",
    "As non-native English speakers, we find the natural language prompt challenging, even for native speakers, due to the inclusion of specialized terminologies and advanced vocabulary.\n",
    "\n",
    "由於涉及專業術語和高級詞彙，我們作為非母語英語使用者，發現這個自然語言提示對我們來說是具有挑戰性的，即使對母語使用者來說也是如此。\n",
    "\n",
    "### 2. How to make it an LCEL?"
   ]
  },
  {
   "cell_type": "markdown",
   "id": "76e4d43a-4fd3-45a7-a51c-ced9cf9902f9",
   "metadata": {},
   "source": [
    "## Some websites for natural language prompt\n",
    "\n",
    "- https://leonardo.ai/: An Image generation SaaS. A lot of works are created with natural language prompt. \n",
    "- https://blog.mlq.ai/dalle-prompts/: Some tutorial about how to come up with a natural language prompt."
   ]
  },
  {
   "cell_type": "markdown",
   "id": "73124c68-8452-4711-a72e-e097f6256d16",
   "metadata": {},
   "source": [
    "### Natural Language Prompt Generation"
   ]
  },
  {
   "cell_type": "code",
   "execution_count": 5,
   "id": "3b6deea0-76c1-4f46-93bd-df0da355877d",
   "metadata": {
    "tags": []
   },
   "outputs": [],
   "source": [
    "from langchain.prompts import PromptTemplate, ChatPromptTemplate, HumanMessagePromptTemplate, SystemMessagePromptTemplate\n",
    "from langchain_core.output_parsers import StrOutputParser\n",
    "\n",
    "\n",
    "system_prompt = PromptTemplate.from_template('''You are a helpful AI assistant and an art expert with extensive knowledge of photography and illustration. \n",
    "You excel at creating breathtaking masterpieces using the DALLE-3 model. For this task, you will be provided with a description of an image, and you will \n",
    "generate a corresponding DALLE-3 prompt. The prompt should be detailed and descriptive, capturing the essence of the image. The length of the prompt should be \n",
    "around 100-500 tokens.''')\n",
    "\n",
    "# System prompt\n",
    "system_message = SystemMessagePromptTemplate(prompt=system_prompt)\n",
    "\n",
    "human_prompt = PromptTemplate(template=\"{image_desc}\",\n",
    "                              input_variables=['image_desc'])\n",
    "\n",
    "# Create a human message prompt template based on the prompt\n",
    "human_message = HumanMessagePromptTemplate(prompt=human_prompt)\n",
    "\n",
    "chat_prompt = ChatPromptTemplate.from_messages([system_message, human_message])\n",
    "\n",
    "nl_prompt_generation_chain = chat_prompt | model | StrOutputParser()"
   ]
  },
  {
   "cell_type": "code",
   "execution_count": 6,
   "id": "b90024c5-67a6-43cf-a64a-757de94ef808",
   "metadata": {
    "tags": []
   },
   "outputs": [],
   "source": [
    "from typing import Dict\n",
    "\n",
    "\n",
    "def dalle3_worker(kwargs: Dict):\n",
    "\n",
    "    \"\"\"\n",
    "    Generates an image using OpenAI's DALL-E 3 model based on the provided prompt and optional parameters.\n",
    "    \n",
    "    Parameters:\n",
    "    kwargs (Dict): A dictionary containing the following keys:\n",
    "        - 'nl_prompt' (str): The natural language prompt describing the image to be generated.\n",
    "        - 'size' (str, optional): The size of the generated image. Default is \"1024x1024\".\n",
    "        - 'quality' (str, optional): The quality of the generated image. Default is \"standard\".\n",
    "        - 'style' (str, optional): The style of the generated image. Default is \"vivid\".\n",
    "    \n",
    "    Returns:\n",
    "    str: The URL of the generated image.\n",
    "    \n",
    "    Example:\n",
    "    >>> kwargs = {\n",
    "    ...     \"nl_prompt\": \"A futuristic city skyline at sunset\",\n",
    "    ...     \"size\": \"1024x1024\",\n",
    "    ...     \"quality\": \"high\",\n",
    "    ...     \"style\": \"photorealistic\"\n",
    "    ... }\n",
    "    >>> image_base64 = dalle3_worker(kwargs)\n",
    "    Start generating image...\n",
    "    prompt: A futuristic city skyline at sunset\n",
    "    generated_image: https://example.com/generated_image.png\n",
    "    >>> print(image_base64)\n",
    "    https://example.com/generated_image.png\n",
    "    \"\"\"\n",
    "    \n",
    "    print(\"Start generating image...\")\n",
    "    print(f\"prompt: {kwargs['nl_prompt']}\")\n",
    "    client = OpenAI()\n",
    "\n",
    "    response = client.images.generate(\n",
    "        model=\"dall-e-3\",\n",
    "        prompt=kwargs['nl_prompt'],\n",
    "        size=kwargs.get(\"size\", \"1024x1024\"),\n",
    "        quality=kwargs.get('quality', 'standard'),\n",
    "        style=kwargs.get('style', 'vivid'),\n",
    "        n=1,\n",
    "        response_format = 'b64_json')\n",
    "\n",
    "    image_base64 = response.data[0].b64_json\n",
    "\n",
    "    print(\"Image is generated succesfully.\")\n",
    "    \n",
    "    return image_base64\n",
    "\n",
    "\n",
    "def base64_to_file(kwargs):\n",
    "\n",
    "    image_base64 = kwargs['image_base64']\n",
    "    filename = kwargs['filename']\n",
    "    \n",
    "    with open(f\"{filename}\", \"wb\") as fh:\n",
    "        fh.write(base64.b64decode(image_base64))\n",
    "    "
   ]
  },
  {
   "cell_type": "code",
   "execution_count": 7,
   "id": "af60ca67-f323-49d6-a154-63c190060199",
   "metadata": {
    "tags": []
   },
   "outputs": [],
   "source": [
    "from operator import itemgetter\n",
    "\n",
    "from langchain_core.runnables import RunnableLambda, RunnableParallel, RunnablePassthrough\n",
    "\n",
    "step_1 = RunnablePassthrough.assign(nl_prompt=itemgetter('image_desc')|nl_prompt_generation_chain)\n",
    "\n",
    "step_2 = RunnablePassthrough.assign(image_base64=dalle3_worker)\n",
    "\n",
    "step_3 = RunnableLambda(base64_to_file)\n",
    "\n",
    "dalle3_chain =  step_1|step_2|step_3"
   ]
  },
  {
   "cell_type": "code",
   "execution_count": 8,
   "id": "51ab41f1-eeec-46ae-8e27-0a1f42facfe4",
   "metadata": {
    "tags": []
   },
   "outputs": [
    {
     "name": "stdout",
     "output_type": "stream",
     "text": [
      "Start generating image...\n",
      "prompt: Create a stunning flat vector art illustration of a 20-year-old woman with striking blue eyes and detailed, clear eyes. She has beautiful blue hair that complements her eyes. The scene captures her during a break, smoking a cigarette. She is dressed in a white shirt and black boots, exuding a sense of casual beauty. The background is simple and blue, allowing her to stand out. The artwork should be colorful and high-quality, with a focus on her eyes and facial features. The composition should be a full-body portrait, with her peeking out from the upper body, creating an engaging and dynamic visual. The style should blend elements of ink art with vibrant colors, resulting in a masterpiece that highlights her beauty and the serene moment of her break.\n",
      "Image is generated succesfully.\n"
     ]
    }
   ],
   "source": [
    "dalle3_chain.invoke({\"size\": \"1024x1792\",\n",
    "                     \"quality\": \"hd\",\n",
    "                     \"image_desc\": \"\"\"\n",
    "                                     masterpiece, best quality, beautiful eyes, clear eyes, detailed eyes, Blue-eyes, 1girl, 20_old, full-body, \n",
    "                                     break, smoking, break, high_color, blue-hair, beauty, black-boots,break, break, Flat vector art, Colorful art, white_shirt, \n",
    "                                     simple_background, blue_background, Ink art,peeking out upper body,Eyes, portrait\n",
    "                                     \"\"\",\n",
    "                     \n",
    "                     \"filename\": \"tutorial/Week-8/test_01.png\"\n",
    "                    })"
   ]
  },
  {
   "cell_type": "code",
   "execution_count": 9,
   "id": "96429327-2750-4094-804c-693aab9a0217",
   "metadata": {
    "tags": []
   },
   "outputs": [
    {
     "name": "stdout",
     "output_type": "stream",
     "text": [
      "Start generating image...\n",
      "prompt: Create a pencil sketch of an ethereal and glamorously beautiful 17-year-old girl with a perfect model body, captured from above in a coffee shop. She has black fox ears with fluffy fur, a black fox tail, and black hair with striking red inner highlights. Her hair is adorned with a delicate ornament, and she wears a magatama necklace. Her outfit is a black short kimono with an exquisite design, featuring off-shoulder wide sleeves, long sleeves, and a fur trim. The kimono is paired with an obi and a miniskirt, and she also wears a cat collar. The girl is holding a donut and eating it, with a large cup of coffee on the table in front of her. The sketch should be highly detailed and intricate, capturing the beauty and aesthetic of the scene with perfect detail and best quality.\n"
     ]
    },
    {
     "ename": "BadRequestError",
     "evalue": "Error code: 400 - {'error': {'code': 'content_policy_violation', 'message': 'This request has been blocked by our content filters.', 'param': None, 'type': 'invalid_request_error'}}",
     "output_type": "error",
     "traceback": [
      "\u001b[1;31m---------------------------------------------------------------------------\u001b[0m",
      "\u001b[1;31mBadRequestError\u001b[0m                           Traceback (most recent call last)",
      "Cell \u001b[1;32mIn[9], line 1\u001b[0m\n\u001b[1;32m----> 1\u001b[0m \u001b[43mdalle3_chain\u001b[49m\u001b[38;5;241;43m.\u001b[39;49m\u001b[43minvoke\u001b[49m\u001b[43m(\u001b[49m\u001b[43m{\u001b[49m\u001b[38;5;124;43m\"\u001b[39;49m\u001b[38;5;124;43msize\u001b[39;49m\u001b[38;5;124;43m\"\u001b[39;49m\u001b[43m:\u001b[49m\u001b[43m \u001b[49m\u001b[38;5;124;43m\"\u001b[39;49m\u001b[38;5;124;43m1024x1792\u001b[39;49m\u001b[38;5;124;43m\"\u001b[39;49m\u001b[43m,\u001b[49m\n\u001b[0;32m      2\u001b[0m \u001b[43m                     \u001b[49m\u001b[38;5;124;43m\"\u001b[39;49m\u001b[38;5;124;43mquality\u001b[39;49m\u001b[38;5;124;43m\"\u001b[39;49m\u001b[43m:\u001b[49m\u001b[43m \u001b[49m\u001b[38;5;124;43m\"\u001b[39;49m\u001b[38;5;124;43mhd\u001b[39;49m\u001b[38;5;124;43m\"\u001b[39;49m\u001b[43m,\u001b[49m\n\u001b[0;32m      3\u001b[0m \u001b[43m                     \u001b[49m\u001b[38;5;124;43m\"\u001b[39;49m\u001b[38;5;124;43mimage_desc\u001b[39;49m\u001b[38;5;124;43m\"\u001b[39;49m\u001b[43m:\u001b[49m\u001b[43m \u001b[49m\u001b[38;5;124;43m\"\"\"\u001b[39;49m\n\u001b[0;32m      4\u001b[0m \u001b[38;5;124;43m                                 close-up portrait, black fox ears, animal ear fluff, black fox tail, black hair, red inner hair, hair ornament, \u001b[39;49m\n\u001b[0;32m      5\u001b[0m \u001b[38;5;124;43m                                 magatama necklace, fur trim, black short kimono, exquisite design, cat_collar, off-shoulder,wide sleeves, \u001b[39;49m\n\u001b[0;32m      6\u001b[0m \u001b[38;5;124;43m                                 long sleeves, obi, miniskirt, perfect model body, a 17-years-old ethereal and glamorously beautiful girl, from above, \u001b[39;49m\n\u001b[0;32m      7\u001b[0m \u001b[38;5;124;43m                                 eating donut, holding a donut, a large cup of coffee on table, in a coffee shop, pencil sketch, perfect detail, intricate detail, \u001b[39;49m\n\u001b[0;32m      8\u001b[0m \u001b[38;5;124;43m                                 masterpiece, best quality, beauty & aesthetic, sketch\u001b[39;49m\n\u001b[0;32m      9\u001b[0m \u001b[38;5;124;43m                                 \u001b[39;49m\u001b[38;5;124;43m\"\"\"\u001b[39;49m\u001b[43m,\u001b[49m\n\u001b[0;32m     10\u001b[0m \u001b[43m                     \u001b[49m\u001b[38;5;124;43m\"\u001b[39;49m\u001b[38;5;124;43mfilename\u001b[39;49m\u001b[38;5;124;43m\"\u001b[39;49m\u001b[43m:\u001b[49m\u001b[43m \u001b[49m\u001b[38;5;124;43m\"\u001b[39;49m\u001b[38;5;124;43mtutorial/Week-8/test_02.png\u001b[39;49m\u001b[38;5;124;43m\"\u001b[39;49m\n\u001b[0;32m     11\u001b[0m \u001b[43m                    \u001b[49m\u001b[43m}\u001b[49m\u001b[43m)\u001b[49m\n",
      "File \u001b[1;32m~\\Miniconda3\\envs\\llm_examples\\lib\\site-packages\\langchain_core\\runnables\\base.py:2504\u001b[0m, in \u001b[0;36mRunnableSequence.invoke\u001b[1;34m(self, input, config, **kwargs)\u001b[0m\n\u001b[0;32m   2502\u001b[0m             \u001b[38;5;28minput\u001b[39m \u001b[38;5;241m=\u001b[39m step\u001b[38;5;241m.\u001b[39minvoke(\u001b[38;5;28minput\u001b[39m, config, \u001b[38;5;241m*\u001b[39m\u001b[38;5;241m*\u001b[39mkwargs)\n\u001b[0;32m   2503\u001b[0m         \u001b[38;5;28;01melse\u001b[39;00m:\n\u001b[1;32m-> 2504\u001b[0m             \u001b[38;5;28minput\u001b[39m \u001b[38;5;241m=\u001b[39m \u001b[43mstep\u001b[49m\u001b[38;5;241;43m.\u001b[39;49m\u001b[43minvoke\u001b[49m\u001b[43m(\u001b[49m\u001b[38;5;28;43minput\u001b[39;49m\u001b[43m,\u001b[49m\u001b[43m \u001b[49m\u001b[43mconfig\u001b[49m\u001b[43m)\u001b[49m\n\u001b[0;32m   2505\u001b[0m \u001b[38;5;66;03m# finish the root run\u001b[39;00m\n\u001b[0;32m   2506\u001b[0m \u001b[38;5;28;01mexcept\u001b[39;00m \u001b[38;5;167;01mBaseException\u001b[39;00m \u001b[38;5;28;01mas\u001b[39;00m e:\n",
      "File \u001b[1;32m~\\Miniconda3\\envs\\llm_examples\\lib\\site-packages\\langchain_core\\runnables\\passthrough.py:469\u001b[0m, in \u001b[0;36mRunnableAssign.invoke\u001b[1;34m(self, input, config, **kwargs)\u001b[0m\n\u001b[0;32m    463\u001b[0m \u001b[38;5;28;01mdef\u001b[39;00m \u001b[38;5;21minvoke\u001b[39m(\n\u001b[0;32m    464\u001b[0m     \u001b[38;5;28mself\u001b[39m,\n\u001b[0;32m    465\u001b[0m     \u001b[38;5;28minput\u001b[39m: Dict[\u001b[38;5;28mstr\u001b[39m, Any],\n\u001b[0;32m    466\u001b[0m     config: Optional[RunnableConfig] \u001b[38;5;241m=\u001b[39m \u001b[38;5;28;01mNone\u001b[39;00m,\n\u001b[0;32m    467\u001b[0m     \u001b[38;5;241m*\u001b[39m\u001b[38;5;241m*\u001b[39mkwargs: Any,\n\u001b[0;32m    468\u001b[0m ) \u001b[38;5;241m-\u001b[39m\u001b[38;5;241m>\u001b[39m Dict[\u001b[38;5;28mstr\u001b[39m, Any]:\n\u001b[1;32m--> 469\u001b[0m     \u001b[38;5;28;01mreturn\u001b[39;00m \u001b[38;5;28mself\u001b[39m\u001b[38;5;241m.\u001b[39m_call_with_config(\u001b[38;5;28mself\u001b[39m\u001b[38;5;241m.\u001b[39m_invoke, \u001b[38;5;28minput\u001b[39m, config, \u001b[38;5;241m*\u001b[39m\u001b[38;5;241m*\u001b[39mkwargs)\n",
      "File \u001b[1;32m~\\Miniconda3\\envs\\llm_examples\\lib\\site-packages\\langchain_core\\runnables\\base.py:1598\u001b[0m, in \u001b[0;36mRunnable._call_with_config\u001b[1;34m(self, func, input, config, run_type, **kwargs)\u001b[0m\n\u001b[0;32m   1594\u001b[0m     context \u001b[38;5;241m=\u001b[39m copy_context()\n\u001b[0;32m   1595\u001b[0m     context\u001b[38;5;241m.\u001b[39mrun(_set_config_context, child_config)\n\u001b[0;32m   1596\u001b[0m     output \u001b[38;5;241m=\u001b[39m cast(\n\u001b[0;32m   1597\u001b[0m         Output,\n\u001b[1;32m-> 1598\u001b[0m         context\u001b[38;5;241m.\u001b[39mrun(\n\u001b[0;32m   1599\u001b[0m             call_func_with_variable_args,  \u001b[38;5;66;03m# type: ignore[arg-type]\u001b[39;00m\n\u001b[0;32m   1600\u001b[0m             func,  \u001b[38;5;66;03m# type: ignore[arg-type]\u001b[39;00m\n\u001b[0;32m   1601\u001b[0m             \u001b[38;5;28minput\u001b[39m,  \u001b[38;5;66;03m# type: ignore[arg-type]\u001b[39;00m\n\u001b[0;32m   1602\u001b[0m             config,\n\u001b[0;32m   1603\u001b[0m             run_manager,\n\u001b[0;32m   1604\u001b[0m             \u001b[38;5;241m*\u001b[39m\u001b[38;5;241m*\u001b[39mkwargs,\n\u001b[0;32m   1605\u001b[0m         ),\n\u001b[0;32m   1606\u001b[0m     )\n\u001b[0;32m   1607\u001b[0m \u001b[38;5;28;01mexcept\u001b[39;00m \u001b[38;5;167;01mBaseException\u001b[39;00m \u001b[38;5;28;01mas\u001b[39;00m e:\n\u001b[0;32m   1608\u001b[0m     run_manager\u001b[38;5;241m.\u001b[39mon_chain_error(e)\n",
      "File \u001b[1;32m~\\Miniconda3\\envs\\llm_examples\\lib\\site-packages\\langchain_core\\runnables\\config.py:380\u001b[0m, in \u001b[0;36mcall_func_with_variable_args\u001b[1;34m(func, input, config, run_manager, **kwargs)\u001b[0m\n\u001b[0;32m    378\u001b[0m \u001b[38;5;28;01mif\u001b[39;00m run_manager \u001b[38;5;129;01mis\u001b[39;00m \u001b[38;5;129;01mnot\u001b[39;00m \u001b[38;5;28;01mNone\u001b[39;00m \u001b[38;5;129;01mand\u001b[39;00m accepts_run_manager(func):\n\u001b[0;32m    379\u001b[0m     kwargs[\u001b[38;5;124m\"\u001b[39m\u001b[38;5;124mrun_manager\u001b[39m\u001b[38;5;124m\"\u001b[39m] \u001b[38;5;241m=\u001b[39m run_manager\n\u001b[1;32m--> 380\u001b[0m \u001b[38;5;28;01mreturn\u001b[39;00m func(\u001b[38;5;28minput\u001b[39m, \u001b[38;5;241m*\u001b[39m\u001b[38;5;241m*\u001b[39mkwargs)\n",
      "File \u001b[1;32m~\\Miniconda3\\envs\\llm_examples\\lib\\site-packages\\langchain_core\\runnables\\passthrough.py:456\u001b[0m, in \u001b[0;36mRunnableAssign._invoke\u001b[1;34m(self, input, run_manager, config, **kwargs)\u001b[0m\n\u001b[0;32m    443\u001b[0m \u001b[38;5;28;01mdef\u001b[39;00m \u001b[38;5;21m_invoke\u001b[39m(\n\u001b[0;32m    444\u001b[0m     \u001b[38;5;28mself\u001b[39m,\n\u001b[0;32m    445\u001b[0m     \u001b[38;5;28minput\u001b[39m: Dict[\u001b[38;5;28mstr\u001b[39m, Any],\n\u001b[1;32m   (...)\u001b[0m\n\u001b[0;32m    448\u001b[0m     \u001b[38;5;241m*\u001b[39m\u001b[38;5;241m*\u001b[39mkwargs: Any,\n\u001b[0;32m    449\u001b[0m ) \u001b[38;5;241m-\u001b[39m\u001b[38;5;241m>\u001b[39m Dict[\u001b[38;5;28mstr\u001b[39m, Any]:\n\u001b[0;32m    450\u001b[0m     \u001b[38;5;28;01massert\u001b[39;00m \u001b[38;5;28misinstance\u001b[39m(\n\u001b[0;32m    451\u001b[0m         \u001b[38;5;28minput\u001b[39m, \u001b[38;5;28mdict\u001b[39m\n\u001b[0;32m    452\u001b[0m     ), \u001b[38;5;124m\"\u001b[39m\u001b[38;5;124mThe input to RunnablePassthrough.assign() must be a dict.\u001b[39m\u001b[38;5;124m\"\u001b[39m\n\u001b[0;32m    454\u001b[0m     \u001b[38;5;28;01mreturn\u001b[39;00m {\n\u001b[0;32m    455\u001b[0m         \u001b[38;5;241m*\u001b[39m\u001b[38;5;241m*\u001b[39m\u001b[38;5;28minput\u001b[39m,\n\u001b[1;32m--> 456\u001b[0m         \u001b[38;5;241m*\u001b[39m\u001b[38;5;241m*\u001b[39m\u001b[38;5;28mself\u001b[39m\u001b[38;5;241m.\u001b[39mmapper\u001b[38;5;241m.\u001b[39minvoke(\n\u001b[0;32m    457\u001b[0m             \u001b[38;5;28minput\u001b[39m,\n\u001b[0;32m    458\u001b[0m             patch_config(config, callbacks\u001b[38;5;241m=\u001b[39mrun_manager\u001b[38;5;241m.\u001b[39mget_child()),\n\u001b[0;32m    459\u001b[0m             \u001b[38;5;241m*\u001b[39m\u001b[38;5;241m*\u001b[39mkwargs,\n\u001b[0;32m    460\u001b[0m         ),\n\u001b[0;32m    461\u001b[0m     }\n",
      "File \u001b[1;32m~\\Miniconda3\\envs\\llm_examples\\lib\\site-packages\\langchain_core\\runnables\\base.py:3149\u001b[0m, in \u001b[0;36mRunnableParallel.invoke\u001b[1;34m(self, input, config)\u001b[0m\n\u001b[0;32m   3136\u001b[0m     \u001b[38;5;28;01mwith\u001b[39;00m get_executor_for_config(config) \u001b[38;5;28;01mas\u001b[39;00m executor:\n\u001b[0;32m   3137\u001b[0m         futures \u001b[38;5;241m=\u001b[39m [\n\u001b[0;32m   3138\u001b[0m             executor\u001b[38;5;241m.\u001b[39msubmit(\n\u001b[0;32m   3139\u001b[0m                 step\u001b[38;5;241m.\u001b[39minvoke,\n\u001b[1;32m   (...)\u001b[0m\n\u001b[0;32m   3147\u001b[0m             \u001b[38;5;28;01mfor\u001b[39;00m key, step \u001b[38;5;129;01min\u001b[39;00m steps\u001b[38;5;241m.\u001b[39mitems()\n\u001b[0;32m   3148\u001b[0m         ]\n\u001b[1;32m-> 3149\u001b[0m         output \u001b[38;5;241m=\u001b[39m {key: future\u001b[38;5;241m.\u001b[39mresult() \u001b[38;5;28;01mfor\u001b[39;00m key, future \u001b[38;5;129;01min\u001b[39;00m \u001b[38;5;28mzip\u001b[39m(steps, futures)}\n\u001b[0;32m   3150\u001b[0m \u001b[38;5;66;03m# finish the root run\u001b[39;00m\n\u001b[0;32m   3151\u001b[0m \u001b[38;5;28;01mexcept\u001b[39;00m \u001b[38;5;167;01mBaseException\u001b[39;00m \u001b[38;5;28;01mas\u001b[39;00m e:\n",
      "File \u001b[1;32m~\\Miniconda3\\envs\\llm_examples\\lib\\site-packages\\langchain_core\\runnables\\base.py:3149\u001b[0m, in \u001b[0;36m<dictcomp>\u001b[1;34m(.0)\u001b[0m\n\u001b[0;32m   3136\u001b[0m     \u001b[38;5;28;01mwith\u001b[39;00m get_executor_for_config(config) \u001b[38;5;28;01mas\u001b[39;00m executor:\n\u001b[0;32m   3137\u001b[0m         futures \u001b[38;5;241m=\u001b[39m [\n\u001b[0;32m   3138\u001b[0m             executor\u001b[38;5;241m.\u001b[39msubmit(\n\u001b[0;32m   3139\u001b[0m                 step\u001b[38;5;241m.\u001b[39minvoke,\n\u001b[1;32m   (...)\u001b[0m\n\u001b[0;32m   3147\u001b[0m             \u001b[38;5;28;01mfor\u001b[39;00m key, step \u001b[38;5;129;01min\u001b[39;00m steps\u001b[38;5;241m.\u001b[39mitems()\n\u001b[0;32m   3148\u001b[0m         ]\n\u001b[1;32m-> 3149\u001b[0m         output \u001b[38;5;241m=\u001b[39m {key: \u001b[43mfuture\u001b[49m\u001b[38;5;241;43m.\u001b[39;49m\u001b[43mresult\u001b[49m\u001b[43m(\u001b[49m\u001b[43m)\u001b[49m \u001b[38;5;28;01mfor\u001b[39;00m key, future \u001b[38;5;129;01min\u001b[39;00m \u001b[38;5;28mzip\u001b[39m(steps, futures)}\n\u001b[0;32m   3150\u001b[0m \u001b[38;5;66;03m# finish the root run\u001b[39;00m\n\u001b[0;32m   3151\u001b[0m \u001b[38;5;28;01mexcept\u001b[39;00m \u001b[38;5;167;01mBaseException\u001b[39;00m \u001b[38;5;28;01mas\u001b[39;00m e:\n",
      "File \u001b[1;32m~\\Miniconda3\\envs\\llm_examples\\lib\\concurrent\\futures\\_base.py:458\u001b[0m, in \u001b[0;36mFuture.result\u001b[1;34m(self, timeout)\u001b[0m\n\u001b[0;32m    456\u001b[0m     \u001b[38;5;28;01mraise\u001b[39;00m CancelledError()\n\u001b[0;32m    457\u001b[0m \u001b[38;5;28;01melif\u001b[39;00m \u001b[38;5;28mself\u001b[39m\u001b[38;5;241m.\u001b[39m_state \u001b[38;5;241m==\u001b[39m FINISHED:\n\u001b[1;32m--> 458\u001b[0m     \u001b[38;5;28;01mreturn\u001b[39;00m \u001b[38;5;28;43mself\u001b[39;49m\u001b[38;5;241;43m.\u001b[39;49m\u001b[43m__get_result\u001b[49m\u001b[43m(\u001b[49m\u001b[43m)\u001b[49m\n\u001b[0;32m    459\u001b[0m \u001b[38;5;28;01melse\u001b[39;00m:\n\u001b[0;32m    460\u001b[0m     \u001b[38;5;28;01mraise\u001b[39;00m \u001b[38;5;167;01mTimeoutError\u001b[39;00m()\n",
      "File \u001b[1;32m~\\Miniconda3\\envs\\llm_examples\\lib\\concurrent\\futures\\_base.py:403\u001b[0m, in \u001b[0;36mFuture.__get_result\u001b[1;34m(self)\u001b[0m\n\u001b[0;32m    401\u001b[0m \u001b[38;5;28;01mif\u001b[39;00m \u001b[38;5;28mself\u001b[39m\u001b[38;5;241m.\u001b[39m_exception:\n\u001b[0;32m    402\u001b[0m     \u001b[38;5;28;01mtry\u001b[39;00m:\n\u001b[1;32m--> 403\u001b[0m         \u001b[38;5;28;01mraise\u001b[39;00m \u001b[38;5;28mself\u001b[39m\u001b[38;5;241m.\u001b[39m_exception\n\u001b[0;32m    404\u001b[0m     \u001b[38;5;28;01mfinally\u001b[39;00m:\n\u001b[0;32m    405\u001b[0m         \u001b[38;5;66;03m# Break a reference cycle with the exception in self._exception\u001b[39;00m\n\u001b[0;32m    406\u001b[0m         \u001b[38;5;28mself\u001b[39m \u001b[38;5;241m=\u001b[39m \u001b[38;5;28;01mNone\u001b[39;00m\n",
      "File \u001b[1;32m~\\Miniconda3\\envs\\llm_examples\\lib\\concurrent\\futures\\thread.py:58\u001b[0m, in \u001b[0;36m_WorkItem.run\u001b[1;34m(self)\u001b[0m\n\u001b[0;32m     55\u001b[0m     \u001b[38;5;28;01mreturn\u001b[39;00m\n\u001b[0;32m     57\u001b[0m \u001b[38;5;28;01mtry\u001b[39;00m:\n\u001b[1;32m---> 58\u001b[0m     result \u001b[38;5;241m=\u001b[39m \u001b[38;5;28mself\u001b[39m\u001b[38;5;241m.\u001b[39mfn(\u001b[38;5;241m*\u001b[39m\u001b[38;5;28mself\u001b[39m\u001b[38;5;241m.\u001b[39margs, \u001b[38;5;241m*\u001b[39m\u001b[38;5;241m*\u001b[39m\u001b[38;5;28mself\u001b[39m\u001b[38;5;241m.\u001b[39mkwargs)\n\u001b[0;32m     59\u001b[0m \u001b[38;5;28;01mexcept\u001b[39;00m \u001b[38;5;167;01mBaseException\u001b[39;00m \u001b[38;5;28;01mas\u001b[39;00m exc:\n\u001b[0;32m     60\u001b[0m     \u001b[38;5;28mself\u001b[39m\u001b[38;5;241m.\u001b[39mfuture\u001b[38;5;241m.\u001b[39mset_exception(exc)\n",
      "File \u001b[1;32m~\\Miniconda3\\envs\\llm_examples\\lib\\site-packages\\langchain_core\\runnables\\base.py:3976\u001b[0m, in \u001b[0;36mRunnableLambda.invoke\u001b[1;34m(self, input, config, **kwargs)\u001b[0m\n\u001b[0;32m   3974\u001b[0m \u001b[38;5;250m\u001b[39m\u001b[38;5;124;03m\"\"\"Invoke this runnable synchronously.\"\"\"\u001b[39;00m\n\u001b[0;32m   3975\u001b[0m \u001b[38;5;28;01mif\u001b[39;00m \u001b[38;5;28mhasattr\u001b[39m(\u001b[38;5;28mself\u001b[39m, \u001b[38;5;124m\"\u001b[39m\u001b[38;5;124mfunc\u001b[39m\u001b[38;5;124m\"\u001b[39m):\n\u001b[1;32m-> 3976\u001b[0m     \u001b[38;5;28;01mreturn\u001b[39;00m \u001b[38;5;28mself\u001b[39m\u001b[38;5;241m.\u001b[39m_call_with_config(\n\u001b[0;32m   3977\u001b[0m         \u001b[38;5;28mself\u001b[39m\u001b[38;5;241m.\u001b[39m_invoke,\n\u001b[0;32m   3978\u001b[0m         \u001b[38;5;28minput\u001b[39m,\n\u001b[0;32m   3979\u001b[0m         \u001b[38;5;28mself\u001b[39m\u001b[38;5;241m.\u001b[39m_config(config, \u001b[38;5;28mself\u001b[39m\u001b[38;5;241m.\u001b[39mfunc),\n\u001b[0;32m   3980\u001b[0m         \u001b[38;5;241m*\u001b[39m\u001b[38;5;241m*\u001b[39mkwargs,\n\u001b[0;32m   3981\u001b[0m     )\n\u001b[0;32m   3982\u001b[0m \u001b[38;5;28;01melse\u001b[39;00m:\n\u001b[0;32m   3983\u001b[0m     \u001b[38;5;28;01mraise\u001b[39;00m \u001b[38;5;167;01mTypeError\u001b[39;00m(\n\u001b[0;32m   3984\u001b[0m         \u001b[38;5;124m\"\u001b[39m\u001b[38;5;124mCannot invoke a coroutine function synchronously.\u001b[39m\u001b[38;5;124m\"\u001b[39m\n\u001b[0;32m   3985\u001b[0m         \u001b[38;5;124m\"\u001b[39m\u001b[38;5;124mUse `ainvoke` instead.\u001b[39m\u001b[38;5;124m\"\u001b[39m\n\u001b[0;32m   3986\u001b[0m     )\n",
      "File \u001b[1;32m~\\Miniconda3\\envs\\llm_examples\\lib\\site-packages\\langchain_core\\runnables\\base.py:1598\u001b[0m, in \u001b[0;36mRunnable._call_with_config\u001b[1;34m(self, func, input, config, run_type, **kwargs)\u001b[0m\n\u001b[0;32m   1594\u001b[0m     context \u001b[38;5;241m=\u001b[39m copy_context()\n\u001b[0;32m   1595\u001b[0m     context\u001b[38;5;241m.\u001b[39mrun(_set_config_context, child_config)\n\u001b[0;32m   1596\u001b[0m     output \u001b[38;5;241m=\u001b[39m cast(\n\u001b[0;32m   1597\u001b[0m         Output,\n\u001b[1;32m-> 1598\u001b[0m         context\u001b[38;5;241m.\u001b[39mrun(\n\u001b[0;32m   1599\u001b[0m             call_func_with_variable_args,  \u001b[38;5;66;03m# type: ignore[arg-type]\u001b[39;00m\n\u001b[0;32m   1600\u001b[0m             func,  \u001b[38;5;66;03m# type: ignore[arg-type]\u001b[39;00m\n\u001b[0;32m   1601\u001b[0m             \u001b[38;5;28minput\u001b[39m,  \u001b[38;5;66;03m# type: ignore[arg-type]\u001b[39;00m\n\u001b[0;32m   1602\u001b[0m             config,\n\u001b[0;32m   1603\u001b[0m             run_manager,\n\u001b[0;32m   1604\u001b[0m             \u001b[38;5;241m*\u001b[39m\u001b[38;5;241m*\u001b[39mkwargs,\n\u001b[0;32m   1605\u001b[0m         ),\n\u001b[0;32m   1606\u001b[0m     )\n\u001b[0;32m   1607\u001b[0m \u001b[38;5;28;01mexcept\u001b[39;00m \u001b[38;5;167;01mBaseException\u001b[39;00m \u001b[38;5;28;01mas\u001b[39;00m e:\n\u001b[0;32m   1608\u001b[0m     run_manager\u001b[38;5;241m.\u001b[39mon_chain_error(e)\n",
      "File \u001b[1;32m~\\Miniconda3\\envs\\llm_examples\\lib\\site-packages\\langchain_core\\runnables\\config.py:380\u001b[0m, in \u001b[0;36mcall_func_with_variable_args\u001b[1;34m(func, input, config, run_manager, **kwargs)\u001b[0m\n\u001b[0;32m    378\u001b[0m \u001b[38;5;28;01mif\u001b[39;00m run_manager \u001b[38;5;129;01mis\u001b[39;00m \u001b[38;5;129;01mnot\u001b[39;00m \u001b[38;5;28;01mNone\u001b[39;00m \u001b[38;5;129;01mand\u001b[39;00m accepts_run_manager(func):\n\u001b[0;32m    379\u001b[0m     kwargs[\u001b[38;5;124m\"\u001b[39m\u001b[38;5;124mrun_manager\u001b[39m\u001b[38;5;124m\"\u001b[39m] \u001b[38;5;241m=\u001b[39m run_manager\n\u001b[1;32m--> 380\u001b[0m \u001b[38;5;28;01mreturn\u001b[39;00m func(\u001b[38;5;28minput\u001b[39m, \u001b[38;5;241m*\u001b[39m\u001b[38;5;241m*\u001b[39mkwargs)\n",
      "File \u001b[1;32m~\\Miniconda3\\envs\\llm_examples\\lib\\site-packages\\langchain_core\\runnables\\base.py:3844\u001b[0m, in \u001b[0;36mRunnableLambda._invoke\u001b[1;34m(self, input, run_manager, config, **kwargs)\u001b[0m\n\u001b[0;32m   3842\u001b[0m                 output \u001b[38;5;241m=\u001b[39m chunk\n\u001b[0;32m   3843\u001b[0m \u001b[38;5;28;01melse\u001b[39;00m:\n\u001b[1;32m-> 3844\u001b[0m     output \u001b[38;5;241m=\u001b[39m call_func_with_variable_args(\n\u001b[0;32m   3845\u001b[0m         \u001b[38;5;28mself\u001b[39m\u001b[38;5;241m.\u001b[39mfunc, \u001b[38;5;28minput\u001b[39m, config, run_manager, \u001b[38;5;241m*\u001b[39m\u001b[38;5;241m*\u001b[39mkwargs\n\u001b[0;32m   3846\u001b[0m     )\n\u001b[0;32m   3847\u001b[0m \u001b[38;5;66;03m# If the output is a runnable, invoke it\u001b[39;00m\n\u001b[0;32m   3848\u001b[0m \u001b[38;5;28;01mif\u001b[39;00m \u001b[38;5;28misinstance\u001b[39m(output, Runnable):\n",
      "File \u001b[1;32m~\\Miniconda3\\envs\\llm_examples\\lib\\site-packages\\langchain_core\\runnables\\config.py:380\u001b[0m, in \u001b[0;36mcall_func_with_variable_args\u001b[1;34m(func, input, config, run_manager, **kwargs)\u001b[0m\n\u001b[0;32m    378\u001b[0m \u001b[38;5;28;01mif\u001b[39;00m run_manager \u001b[38;5;129;01mis\u001b[39;00m \u001b[38;5;129;01mnot\u001b[39;00m \u001b[38;5;28;01mNone\u001b[39;00m \u001b[38;5;129;01mand\u001b[39;00m accepts_run_manager(func):\n\u001b[0;32m    379\u001b[0m     kwargs[\u001b[38;5;124m\"\u001b[39m\u001b[38;5;124mrun_manager\u001b[39m\u001b[38;5;124m\"\u001b[39m] \u001b[38;5;241m=\u001b[39m run_manager\n\u001b[1;32m--> 380\u001b[0m \u001b[38;5;28;01mreturn\u001b[39;00m func(\u001b[38;5;28minput\u001b[39m, \u001b[38;5;241m*\u001b[39m\u001b[38;5;241m*\u001b[39mkwargs)\n",
      "Cell \u001b[1;32mIn[6], line 38\u001b[0m, in \u001b[0;36mdalle3_worker\u001b[1;34m(kwargs)\u001b[0m\n\u001b[0;32m     35\u001b[0m \u001b[38;5;28mprint\u001b[39m(\u001b[38;5;124mf\u001b[39m\u001b[38;5;124m\"\u001b[39m\u001b[38;5;124mprompt: \u001b[39m\u001b[38;5;132;01m{\u001b[39;00mkwargs[\u001b[38;5;124m'\u001b[39m\u001b[38;5;124mnl_prompt\u001b[39m\u001b[38;5;124m'\u001b[39m]\u001b[38;5;132;01m}\u001b[39;00m\u001b[38;5;124m\"\u001b[39m)\n\u001b[0;32m     36\u001b[0m client \u001b[38;5;241m=\u001b[39m OpenAI()\n\u001b[1;32m---> 38\u001b[0m response \u001b[38;5;241m=\u001b[39m \u001b[43mclient\u001b[49m\u001b[38;5;241;43m.\u001b[39;49m\u001b[43mimages\u001b[49m\u001b[38;5;241;43m.\u001b[39;49m\u001b[43mgenerate\u001b[49m\u001b[43m(\u001b[49m\n\u001b[0;32m     39\u001b[0m \u001b[43m    \u001b[49m\u001b[43mmodel\u001b[49m\u001b[38;5;241;43m=\u001b[39;49m\u001b[38;5;124;43m\"\u001b[39;49m\u001b[38;5;124;43mdall-e-3\u001b[39;49m\u001b[38;5;124;43m\"\u001b[39;49m\u001b[43m,\u001b[49m\n\u001b[0;32m     40\u001b[0m \u001b[43m    \u001b[49m\u001b[43mprompt\u001b[49m\u001b[38;5;241;43m=\u001b[39;49m\u001b[43mkwargs\u001b[49m\u001b[43m[\u001b[49m\u001b[38;5;124;43m'\u001b[39;49m\u001b[38;5;124;43mnl_prompt\u001b[39;49m\u001b[38;5;124;43m'\u001b[39;49m\u001b[43m]\u001b[49m\u001b[43m,\u001b[49m\n\u001b[0;32m     41\u001b[0m \u001b[43m    \u001b[49m\u001b[43msize\u001b[49m\u001b[38;5;241;43m=\u001b[39;49m\u001b[43mkwargs\u001b[49m\u001b[38;5;241;43m.\u001b[39;49m\u001b[43mget\u001b[49m\u001b[43m(\u001b[49m\u001b[38;5;124;43m\"\u001b[39;49m\u001b[38;5;124;43msize\u001b[39;49m\u001b[38;5;124;43m\"\u001b[39;49m\u001b[43m,\u001b[49m\u001b[43m \u001b[49m\u001b[38;5;124;43m\"\u001b[39;49m\u001b[38;5;124;43m1024x1024\u001b[39;49m\u001b[38;5;124;43m\"\u001b[39;49m\u001b[43m)\u001b[49m\u001b[43m,\u001b[49m\n\u001b[0;32m     42\u001b[0m \u001b[43m    \u001b[49m\u001b[43mquality\u001b[49m\u001b[38;5;241;43m=\u001b[39;49m\u001b[43mkwargs\u001b[49m\u001b[38;5;241;43m.\u001b[39;49m\u001b[43mget\u001b[49m\u001b[43m(\u001b[49m\u001b[38;5;124;43m'\u001b[39;49m\u001b[38;5;124;43mquality\u001b[39;49m\u001b[38;5;124;43m'\u001b[39;49m\u001b[43m,\u001b[49m\u001b[43m \u001b[49m\u001b[38;5;124;43m'\u001b[39;49m\u001b[38;5;124;43mstandard\u001b[39;49m\u001b[38;5;124;43m'\u001b[39;49m\u001b[43m)\u001b[49m\u001b[43m,\u001b[49m\n\u001b[0;32m     43\u001b[0m \u001b[43m    \u001b[49m\u001b[43mstyle\u001b[49m\u001b[38;5;241;43m=\u001b[39;49m\u001b[43mkwargs\u001b[49m\u001b[38;5;241;43m.\u001b[39;49m\u001b[43mget\u001b[49m\u001b[43m(\u001b[49m\u001b[38;5;124;43m'\u001b[39;49m\u001b[38;5;124;43mstyle\u001b[39;49m\u001b[38;5;124;43m'\u001b[39;49m\u001b[43m,\u001b[49m\u001b[43m \u001b[49m\u001b[38;5;124;43m'\u001b[39;49m\u001b[38;5;124;43mvivid\u001b[39;49m\u001b[38;5;124;43m'\u001b[39;49m\u001b[43m)\u001b[49m\u001b[43m,\u001b[49m\n\u001b[0;32m     44\u001b[0m \u001b[43m    \u001b[49m\u001b[43mn\u001b[49m\u001b[38;5;241;43m=\u001b[39;49m\u001b[38;5;241;43m1\u001b[39;49m\u001b[43m,\u001b[49m\n\u001b[0;32m     45\u001b[0m \u001b[43m    \u001b[49m\u001b[43mresponse_format\u001b[49m\u001b[43m \u001b[49m\u001b[38;5;241;43m=\u001b[39;49m\u001b[43m \u001b[49m\u001b[38;5;124;43m'\u001b[39;49m\u001b[38;5;124;43mb64_json\u001b[39;49m\u001b[38;5;124;43m'\u001b[39;49m\u001b[43m)\u001b[49m\n\u001b[0;32m     47\u001b[0m image_base64 \u001b[38;5;241m=\u001b[39m response\u001b[38;5;241m.\u001b[39mdata[\u001b[38;5;241m0\u001b[39m]\u001b[38;5;241m.\u001b[39mb64_json\n\u001b[0;32m     49\u001b[0m \u001b[38;5;28mprint\u001b[39m(\u001b[38;5;124m\"\u001b[39m\u001b[38;5;124mImage is generated succesfully.\u001b[39m\u001b[38;5;124m\"\u001b[39m)\n",
      "File \u001b[1;32m~\\Miniconda3\\envs\\llm_examples\\lib\\site-packages\\openai\\resources\\images.py:254\u001b[0m, in \u001b[0;36mImages.generate\u001b[1;34m(self, prompt, model, n, quality, response_format, size, style, user, extra_headers, extra_query, extra_body, timeout)\u001b[0m\n\u001b[0;32m    195\u001b[0m \u001b[38;5;28;01mdef\u001b[39;00m \u001b[38;5;21mgenerate\u001b[39m(\n\u001b[0;32m    196\u001b[0m     \u001b[38;5;28mself\u001b[39m,\n\u001b[0;32m    197\u001b[0m     \u001b[38;5;241m*\u001b[39m,\n\u001b[1;32m   (...)\u001b[0m\n\u001b[0;32m    211\u001b[0m     timeout: \u001b[38;5;28mfloat\u001b[39m \u001b[38;5;241m|\u001b[39m httpx\u001b[38;5;241m.\u001b[39mTimeout \u001b[38;5;241m|\u001b[39m \u001b[38;5;28;01mNone\u001b[39;00m \u001b[38;5;241m|\u001b[39m NotGiven \u001b[38;5;241m=\u001b[39m NOT_GIVEN,\n\u001b[0;32m    212\u001b[0m ) \u001b[38;5;241m-\u001b[39m\u001b[38;5;241m>\u001b[39m ImagesResponse:\n\u001b[0;32m    213\u001b[0m \u001b[38;5;250m    \u001b[39m\u001b[38;5;124;03m\"\"\"\u001b[39;00m\n\u001b[0;32m    214\u001b[0m \u001b[38;5;124;03m    Creates an image given a prompt.\u001b[39;00m\n\u001b[0;32m    215\u001b[0m \n\u001b[1;32m   (...)\u001b[0m\n\u001b[0;32m    252\u001b[0m \u001b[38;5;124;03m      timeout: Override the client-level default timeout for this request, in seconds\u001b[39;00m\n\u001b[0;32m    253\u001b[0m \u001b[38;5;124;03m    \"\"\"\u001b[39;00m\n\u001b[1;32m--> 254\u001b[0m     \u001b[38;5;28;01mreturn\u001b[39;00m \u001b[38;5;28;43mself\u001b[39;49m\u001b[38;5;241;43m.\u001b[39;49m\u001b[43m_post\u001b[49m\u001b[43m(\u001b[49m\n\u001b[0;32m    255\u001b[0m \u001b[43m        \u001b[49m\u001b[38;5;124;43m\"\u001b[39;49m\u001b[38;5;124;43m/images/generations\u001b[39;49m\u001b[38;5;124;43m\"\u001b[39;49m\u001b[43m,\u001b[49m\n\u001b[0;32m    256\u001b[0m \u001b[43m        \u001b[49m\u001b[43mbody\u001b[49m\u001b[38;5;241;43m=\u001b[39;49m\u001b[43mmaybe_transform\u001b[49m\u001b[43m(\u001b[49m\n\u001b[0;32m    257\u001b[0m \u001b[43m            \u001b[49m\u001b[43m{\u001b[49m\n\u001b[0;32m    258\u001b[0m \u001b[43m                \u001b[49m\u001b[38;5;124;43m\"\u001b[39;49m\u001b[38;5;124;43mprompt\u001b[39;49m\u001b[38;5;124;43m\"\u001b[39;49m\u001b[43m:\u001b[49m\u001b[43m \u001b[49m\u001b[43mprompt\u001b[49m\u001b[43m,\u001b[49m\n\u001b[0;32m    259\u001b[0m \u001b[43m                \u001b[49m\u001b[38;5;124;43m\"\u001b[39;49m\u001b[38;5;124;43mmodel\u001b[39;49m\u001b[38;5;124;43m\"\u001b[39;49m\u001b[43m:\u001b[49m\u001b[43m \u001b[49m\u001b[43mmodel\u001b[49m\u001b[43m,\u001b[49m\n\u001b[0;32m    260\u001b[0m \u001b[43m                \u001b[49m\u001b[38;5;124;43m\"\u001b[39;49m\u001b[38;5;124;43mn\u001b[39;49m\u001b[38;5;124;43m\"\u001b[39;49m\u001b[43m:\u001b[49m\u001b[43m \u001b[49m\u001b[43mn\u001b[49m\u001b[43m,\u001b[49m\n\u001b[0;32m    261\u001b[0m \u001b[43m                \u001b[49m\u001b[38;5;124;43m\"\u001b[39;49m\u001b[38;5;124;43mquality\u001b[39;49m\u001b[38;5;124;43m\"\u001b[39;49m\u001b[43m:\u001b[49m\u001b[43m \u001b[49m\u001b[43mquality\u001b[49m\u001b[43m,\u001b[49m\n\u001b[0;32m    262\u001b[0m \u001b[43m                \u001b[49m\u001b[38;5;124;43m\"\u001b[39;49m\u001b[38;5;124;43mresponse_format\u001b[39;49m\u001b[38;5;124;43m\"\u001b[39;49m\u001b[43m:\u001b[49m\u001b[43m \u001b[49m\u001b[43mresponse_format\u001b[49m\u001b[43m,\u001b[49m\n\u001b[0;32m    263\u001b[0m \u001b[43m                \u001b[49m\u001b[38;5;124;43m\"\u001b[39;49m\u001b[38;5;124;43msize\u001b[39;49m\u001b[38;5;124;43m\"\u001b[39;49m\u001b[43m:\u001b[49m\u001b[43m \u001b[49m\u001b[43msize\u001b[49m\u001b[43m,\u001b[49m\n\u001b[0;32m    264\u001b[0m \u001b[43m                \u001b[49m\u001b[38;5;124;43m\"\u001b[39;49m\u001b[38;5;124;43mstyle\u001b[39;49m\u001b[38;5;124;43m\"\u001b[39;49m\u001b[43m:\u001b[49m\u001b[43m \u001b[49m\u001b[43mstyle\u001b[49m\u001b[43m,\u001b[49m\n\u001b[0;32m    265\u001b[0m \u001b[43m                \u001b[49m\u001b[38;5;124;43m\"\u001b[39;49m\u001b[38;5;124;43muser\u001b[39;49m\u001b[38;5;124;43m\"\u001b[39;49m\u001b[43m:\u001b[49m\u001b[43m \u001b[49m\u001b[43muser\u001b[49m\u001b[43m,\u001b[49m\n\u001b[0;32m    266\u001b[0m \u001b[43m            \u001b[49m\u001b[43m}\u001b[49m\u001b[43m,\u001b[49m\n\u001b[0;32m    267\u001b[0m \u001b[43m            \u001b[49m\u001b[43mimage_generate_params\u001b[49m\u001b[38;5;241;43m.\u001b[39;49m\u001b[43mImageGenerateParams\u001b[49m\u001b[43m,\u001b[49m\n\u001b[0;32m    268\u001b[0m \u001b[43m        \u001b[49m\u001b[43m)\u001b[49m\u001b[43m,\u001b[49m\n\u001b[0;32m    269\u001b[0m \u001b[43m        \u001b[49m\u001b[43moptions\u001b[49m\u001b[38;5;241;43m=\u001b[39;49m\u001b[43mmake_request_options\u001b[49m\u001b[43m(\u001b[49m\n\u001b[0;32m    270\u001b[0m \u001b[43m            \u001b[49m\u001b[43mextra_headers\u001b[49m\u001b[38;5;241;43m=\u001b[39;49m\u001b[43mextra_headers\u001b[49m\u001b[43m,\u001b[49m\u001b[43m \u001b[49m\u001b[43mextra_query\u001b[49m\u001b[38;5;241;43m=\u001b[39;49m\u001b[43mextra_query\u001b[49m\u001b[43m,\u001b[49m\u001b[43m \u001b[49m\u001b[43mextra_body\u001b[49m\u001b[38;5;241;43m=\u001b[39;49m\u001b[43mextra_body\u001b[49m\u001b[43m,\u001b[49m\u001b[43m \u001b[49m\u001b[43mtimeout\u001b[49m\u001b[38;5;241;43m=\u001b[39;49m\u001b[43mtimeout\u001b[49m\n\u001b[0;32m    271\u001b[0m \u001b[43m        \u001b[49m\u001b[43m)\u001b[49m\u001b[43m,\u001b[49m\n\u001b[0;32m    272\u001b[0m \u001b[43m        \u001b[49m\u001b[43mcast_to\u001b[49m\u001b[38;5;241;43m=\u001b[39;49m\u001b[43mImagesResponse\u001b[49m\u001b[43m,\u001b[49m\n\u001b[0;32m    273\u001b[0m \u001b[43m    \u001b[49m\u001b[43m)\u001b[49m\n",
      "File \u001b[1;32m~\\Miniconda3\\envs\\llm_examples\\lib\\site-packages\\openai\\_base_client.py:1261\u001b[0m, in \u001b[0;36mSyncAPIClient.post\u001b[1;34m(self, path, cast_to, body, options, files, stream, stream_cls)\u001b[0m\n\u001b[0;32m   1247\u001b[0m \u001b[38;5;28;01mdef\u001b[39;00m \u001b[38;5;21mpost\u001b[39m(\n\u001b[0;32m   1248\u001b[0m     \u001b[38;5;28mself\u001b[39m,\n\u001b[0;32m   1249\u001b[0m     path: \u001b[38;5;28mstr\u001b[39m,\n\u001b[1;32m   (...)\u001b[0m\n\u001b[0;32m   1256\u001b[0m     stream_cls: \u001b[38;5;28mtype\u001b[39m[_StreamT] \u001b[38;5;241m|\u001b[39m \u001b[38;5;28;01mNone\u001b[39;00m \u001b[38;5;241m=\u001b[39m \u001b[38;5;28;01mNone\u001b[39;00m,\n\u001b[0;32m   1257\u001b[0m ) \u001b[38;5;241m-\u001b[39m\u001b[38;5;241m>\u001b[39m ResponseT \u001b[38;5;241m|\u001b[39m _StreamT:\n\u001b[0;32m   1258\u001b[0m     opts \u001b[38;5;241m=\u001b[39m FinalRequestOptions\u001b[38;5;241m.\u001b[39mconstruct(\n\u001b[0;32m   1259\u001b[0m         method\u001b[38;5;241m=\u001b[39m\u001b[38;5;124m\"\u001b[39m\u001b[38;5;124mpost\u001b[39m\u001b[38;5;124m\"\u001b[39m, url\u001b[38;5;241m=\u001b[39mpath, json_data\u001b[38;5;241m=\u001b[39mbody, files\u001b[38;5;241m=\u001b[39mto_httpx_files(files), \u001b[38;5;241m*\u001b[39m\u001b[38;5;241m*\u001b[39moptions\n\u001b[0;32m   1260\u001b[0m     )\n\u001b[1;32m-> 1261\u001b[0m     \u001b[38;5;28;01mreturn\u001b[39;00m cast(ResponseT, \u001b[38;5;28;43mself\u001b[39;49m\u001b[38;5;241;43m.\u001b[39;49m\u001b[43mrequest\u001b[49m\u001b[43m(\u001b[49m\u001b[43mcast_to\u001b[49m\u001b[43m,\u001b[49m\u001b[43m \u001b[49m\u001b[43mopts\u001b[49m\u001b[43m,\u001b[49m\u001b[43m \u001b[49m\u001b[43mstream\u001b[49m\u001b[38;5;241;43m=\u001b[39;49m\u001b[43mstream\u001b[49m\u001b[43m,\u001b[49m\u001b[43m \u001b[49m\u001b[43mstream_cls\u001b[49m\u001b[38;5;241;43m=\u001b[39;49m\u001b[43mstream_cls\u001b[49m\u001b[43m)\u001b[49m)\n",
      "File \u001b[1;32m~\\Miniconda3\\envs\\llm_examples\\lib\\site-packages\\openai\\_base_client.py:942\u001b[0m, in \u001b[0;36mSyncAPIClient.request\u001b[1;34m(self, cast_to, options, remaining_retries, stream, stream_cls)\u001b[0m\n\u001b[0;32m    933\u001b[0m \u001b[38;5;28;01mdef\u001b[39;00m \u001b[38;5;21mrequest\u001b[39m(\n\u001b[0;32m    934\u001b[0m     \u001b[38;5;28mself\u001b[39m,\n\u001b[0;32m    935\u001b[0m     cast_to: Type[ResponseT],\n\u001b[1;32m   (...)\u001b[0m\n\u001b[0;32m    940\u001b[0m     stream_cls: \u001b[38;5;28mtype\u001b[39m[_StreamT] \u001b[38;5;241m|\u001b[39m \u001b[38;5;28;01mNone\u001b[39;00m \u001b[38;5;241m=\u001b[39m \u001b[38;5;28;01mNone\u001b[39;00m,\n\u001b[0;32m    941\u001b[0m ) \u001b[38;5;241m-\u001b[39m\u001b[38;5;241m>\u001b[39m ResponseT \u001b[38;5;241m|\u001b[39m _StreamT:\n\u001b[1;32m--> 942\u001b[0m     \u001b[38;5;28;01mreturn\u001b[39;00m \u001b[38;5;28;43mself\u001b[39;49m\u001b[38;5;241;43m.\u001b[39;49m\u001b[43m_request\u001b[49m\u001b[43m(\u001b[49m\n\u001b[0;32m    943\u001b[0m \u001b[43m        \u001b[49m\u001b[43mcast_to\u001b[49m\u001b[38;5;241;43m=\u001b[39;49m\u001b[43mcast_to\u001b[49m\u001b[43m,\u001b[49m\n\u001b[0;32m    944\u001b[0m \u001b[43m        \u001b[49m\u001b[43moptions\u001b[49m\u001b[38;5;241;43m=\u001b[39;49m\u001b[43moptions\u001b[49m\u001b[43m,\u001b[49m\n\u001b[0;32m    945\u001b[0m \u001b[43m        \u001b[49m\u001b[43mstream\u001b[49m\u001b[38;5;241;43m=\u001b[39;49m\u001b[43mstream\u001b[49m\u001b[43m,\u001b[49m\n\u001b[0;32m    946\u001b[0m \u001b[43m        \u001b[49m\u001b[43mstream_cls\u001b[49m\u001b[38;5;241;43m=\u001b[39;49m\u001b[43mstream_cls\u001b[49m\u001b[43m,\u001b[49m\n\u001b[0;32m    947\u001b[0m \u001b[43m        \u001b[49m\u001b[43mremaining_retries\u001b[49m\u001b[38;5;241;43m=\u001b[39;49m\u001b[43mremaining_retries\u001b[49m\u001b[43m,\u001b[49m\n\u001b[0;32m    948\u001b[0m \u001b[43m    \u001b[49m\u001b[43m)\u001b[49m\n",
      "File \u001b[1;32m~\\Miniconda3\\envs\\llm_examples\\lib\\site-packages\\openai\\_base_client.py:1041\u001b[0m, in \u001b[0;36mSyncAPIClient._request\u001b[1;34m(self, cast_to, options, remaining_retries, stream, stream_cls)\u001b[0m\n\u001b[0;32m   1038\u001b[0m         err\u001b[38;5;241m.\u001b[39mresponse\u001b[38;5;241m.\u001b[39mread()\n\u001b[0;32m   1040\u001b[0m     log\u001b[38;5;241m.\u001b[39mdebug(\u001b[38;5;124m\"\u001b[39m\u001b[38;5;124mRe-raising status error\u001b[39m\u001b[38;5;124m\"\u001b[39m)\n\u001b[1;32m-> 1041\u001b[0m     \u001b[38;5;28;01mraise\u001b[39;00m \u001b[38;5;28mself\u001b[39m\u001b[38;5;241m.\u001b[39m_make_status_error_from_response(err\u001b[38;5;241m.\u001b[39mresponse) \u001b[38;5;28;01mfrom\u001b[39;00m \u001b[38;5;28;01mNone\u001b[39;00m\n\u001b[0;32m   1043\u001b[0m \u001b[38;5;28;01mreturn\u001b[39;00m \u001b[38;5;28mself\u001b[39m\u001b[38;5;241m.\u001b[39m_process_response(\n\u001b[0;32m   1044\u001b[0m     cast_to\u001b[38;5;241m=\u001b[39mcast_to,\n\u001b[0;32m   1045\u001b[0m     options\u001b[38;5;241m=\u001b[39moptions,\n\u001b[1;32m   (...)\u001b[0m\n\u001b[0;32m   1048\u001b[0m     stream_cls\u001b[38;5;241m=\u001b[39mstream_cls,\n\u001b[0;32m   1049\u001b[0m )\n",
      "\u001b[1;31mBadRequestError\u001b[0m: Error code: 400 - {'error': {'code': 'content_policy_violation', 'message': 'This request has been blocked by our content filters.', 'param': None, 'type': 'invalid_request_error'}}"
     ]
    }
   ],
   "source": [
    "dalle3_chain.invoke({\"size\": \"1024x1792\",\n",
    "                     \"quality\": \"hd\",\n",
    "                     \"image_desc\": \"\"\"\n",
    "                                 close-up portrait, black fox ears, animal ear fluff, black fox tail, black hair, red inner hair, hair ornament, \n",
    "                                 magatama necklace, fur trim, black short kimono, exquisite design, cat_collar, off-shoulder,wide sleeves, \n",
    "                                 long sleeves, obi, miniskirt, perfect model body, a 17-years-old ethereal and glamorously beautiful girl, from above, \n",
    "                                 eating donut, holding a donut, a large cup of coffee on table, in a coffee shop, pencil sketch, perfect detail, intricate detail, \n",
    "                                 masterpiece, best quality, beauty & aesthetic, sketch\n",
    "                                 \"\"\",\n",
    "                     \"filename\": \"tutorial/Week-8/test_02.png\"\n",
    "                    })\n"
   ]
  },
  {
   "cell_type": "markdown",
   "id": "b11138db-d2a1-4eec-a7d6-aa5a4d230313",
   "metadata": {},
   "source": [
    "### There is censorship in OpenAI...so I do not like it that much."
   ]
  },
  {
   "cell_type": "code",
   "execution_count": 10,
   "id": "16f6b7ab-1a90-4801-9823-f70d1cd58ade",
   "metadata": {
    "tags": []
   },
   "outputs": [
    {
     "name": "stdout",
     "output_type": "stream",
     "text": [
      "Start generating image...\n",
      "prompt: A breathtaking pencil sketch of an ethereal and glamorously beautiful 17-year-old girl with a perfect model body, captured in a close-up portrait from above. She has striking black fox ears with fluffy fur, a black fox tail, and long, flowing black hair with vibrant red inner highlights. Her hair is adorned with an elegant ornament, and she wears a magatama necklace that adds a touch of mystique. Her attire is a meticulously designed black short kimono with exquisite fur trim, featuring wide, long sleeves and an off-shoulder style that reveals her delicate collarbones. The kimono is paired with an obi and a miniskirt, enhancing her graceful appearance. She holds a donut in one hand, about to take a bite, while a large cup of coffee sits on the table in front of her in a cozy coffee shop setting. The sketch is rendered with perfect and intricate detail, capturing the beauty and aesthetic of the scene, making it a true masterpiece.\n",
      "Image is generated succesfully.\n"
     ]
    }
   ],
   "source": [
    "dalle3_chain.invoke({\"size\": \"1024x1024\",\n",
    "                     \"quality\": \"hd\",\n",
    "                     \"image_desc\": \"\"\"\n",
    "                                 close-up portrait, black fox ears, animal ear fluff, black fox tail, black hair, red inner hair, hair ornament, \n",
    "                                 magatama necklace, fur trim, black short kimono, exquisite design, cat_collar, off-shoulder,wide sleeves, \n",
    "                                 long sleeves, obi, miniskirt, perfect model body, a 17-years-old ethereal and glamorously beautiful girl, from above, \n",
    "                                 eating donut, holding a donut, a large cup of coffee on table, in a coffee shop, pencil sketch, perfect detail, intricate detail, \n",
    "                                 masterpiece, best quality, beauty & aesthetic, sketch\n",
    "                                 \"\"\",\n",
    "                     \"filename\": \"tutorial/Week-8/test_03.png\"\n",
    "                    })"
   ]
  },
  {
   "cell_type": "markdown",
   "id": "bf1adc35-4a36-47b6-809c-ddb35cceb60a",
   "metadata": {},
   "source": [
    "## Use this as a tool for Agent"
   ]
  },
  {
   "cell_type": "code",
   "execution_count": 18,
   "id": "6b248354-6e52-46bc-b3eb-bef1a421926d",
   "metadata": {
    "tags": []
   },
   "outputs": [],
   "source": [
    "from langchain.agents import Tool, AgentExecutor, create_react_agent\n",
    "from langchain.prompts import PromptTemplate\n",
    "from langchain.tools import BaseTool\n",
    "from langchain.output_parsers import StructuredOutputParser, ResponseSchema\n",
    "\n",
    "from src.agent.react_zero_shot import prompt_template as zero_shot_prompt_template\n",
    "\n",
    "# We need both the query and filename (minimal requirement):\n",
    "# Some control variables\n",
    "# What we learned last week?\n",
    "\n",
    "\n",
    "class ImageTool(BaseTool):\n",
    "\n",
    "    name = \"Image generator with DALLE-3\"\n",
    "\n",
    "    input_response_schemas = [\n",
    "        ResponseSchema(name=\"image_desc\", description=\"image description / prompt\"),\n",
    "        ResponseSchema(name=\"filename\", description=\"the location at which the image will be saved\"),\n",
    "        ResponseSchema(name=\"size\", description=\"image size, can be `1024x1024`, `1024x1792`, `1792x1024`\"),\n",
    "        ResponseSchema(name=\"quality\", description=\"image quality, can be `hd` or `standard`\"),\n",
    "        ResponseSchema(name=\"style\", description=\"image style, can be `vivid` or `natural`\")]\n",
    "    \n",
    "    input_output_parser = StructuredOutputParser.from_response_schemas(input_response_schemas)\n",
    "    \n",
    "    input_format_instructions = input_output_parser.get_format_instructions()\n",
    "\n",
    "    description_template = \"\"\"\n",
    "                           Use this tool when you need to create an image:\n",
    "                           input format_instructions: {input_format_instructions}\n",
    "                           \"\"\"\n",
    "\n",
    "    description = description_template.format(input_format_instructions=input_format_instructions)\n",
    "    \n",
    "    def _run(self, query):\n",
    "\n",
    "        input_ = self.input_output_parser.parse(query)\n",
    "        \n",
    "        image_desc = input_['image_desc']\n",
    "        size = input_['size']\n",
    "        quality = input_['quality']\n",
    "        style = input_['style']\n",
    "        filename = input_['filename']\n",
    "        \n",
    "        dalle3_chain.invoke({\"image_desc\": image_desc,\n",
    "                             \"size\": size,\n",
    "                             \"quality\": quality,\n",
    "                             \"style\": style,\n",
    "                             \"filename\": filename})\n",
    "        \n",
    "        return \"Done\"\n",
    "\n",
    "    def _arun(self, radius: int):\n",
    "        raise NotImplementedError(\"This tool does not support async\")\n",
    "\n",
    "# Zero Shot 標準模板\n",
    "prompt = PromptTemplate.from_template(zero_shot_prompt_template)\n",
    "\n",
    "# 建立工具庫 \n",
    "tools = [ImageTool()]\n",
    "\n",
    "# 創造Agent \n",
    "zero_shot_agent = create_react_agent(\n",
    "    llm=model,\n",
    "    tools=tools,\n",
    "    prompt=prompt,\n",
    ")\n",
    "\n",
    "# 創造Agent Executor\n",
    "agent_executor = AgentExecutor(agent=zero_shot_agent, tools=tools, verbose=True)"
   ]
  },
  {
   "cell_type": "code",
   "execution_count": 19,
   "id": "c4acd426-a089-4296-8507-b898488e7736",
   "metadata": {
    "tags": []
   },
   "outputs": [],
   "source": [
    "image_prompt = \"\"\"\n",
    "brown hair, bangs, two side up, twin ponytails, sidelocks, black hat, jewelry, black cheongsam, intricate golden embroidery, long sleeves,\n",
    "wide sleeves, black shorts, hat ornament, hat flower, a 17-years-old ethereal and glamorous beautiful japanese idol,\n",
    "translucent skin tone, profound facial features, bright eyes, faint rosy blush, ultra realistic, raw photo, award-winning photo, masterpiece, \n",
    "best quality, high resolution, official art, 8k uhd, high fidelity, depth of field, on the top of a skyscaper, mesmetizing city view, \n",
    "night\n",
    "\"\"\"\n",
    "\n",
    "filename = \"tutorial/Week-8/test_04.png\""
   ]
  },
  {
   "cell_type": "code",
   "execution_count": 20,
   "id": "8e4b7234-d7ae-4256-ac69-927affee0a23",
   "metadata": {
    "tags": []
   },
   "outputs": [
    {
     "name": "stdout",
     "output_type": "stream",
     "text": [
      "\n",
      "\n",
      "\u001b[1m> Entering new AgentExecutor chain...\u001b[0m\n",
      "\u001b[32;1m\u001b[1;3mTo generate the requested image, I will use the Image generator with DALLE-3 tool. The image will feature a 17-year-old ethereal and glamorous beautiful Japanese idol with specific physical attributes and attire, set against a mesmerizing city view at night from the top of a skyscraper.\n",
      "\n",
      "Action: Image generator with DALLE-3\n",
      "\n",
      "Action Input:\n",
      "```json\n",
      "{\n",
      "\t\"image_desc\": \"A 17-year-old ethereal and glamorous beautiful Japanese idol with brown hair, bangs, two side up, twin ponytails, sidelocks, wearing a black hat with a hat ornament and hat flower, jewelry, and a black cheongsam with intricate golden embroidery, long wide sleeves, and black shorts. She has translucent skin tone, profound facial features, bright eyes, and a faint rosy blush. The image is ultra realistic, raw photo, award-winning photo, masterpiece, best quality, high resolution, official art, 8k uhd, high fidelity, depth of field. She is standing on the top of a skyscraper with a mesmerizing city view at night.\",\n",
      "\t\"filename\": \"tutorial/Week-8/test_04.png\",\n",
      "\t\"size\": \"1024x1792\",\n",
      "\t\"quality\": \"hd\",\n",
      "\t\"style\": \"vivid\"\n",
      "}\n",
      "```\n",
      "\u001b[0mStart generating image...\n",
      "prompt: Create an ultra-realistic, award-winning photograph of a 17-year-old ethereal and glamorous Japanese idol. She has brown hair styled with bangs, two side-up twin ponytails, and sidelocks. She is wearing a black hat adorned with a hat ornament and a hat flower, along with elegant jewelry. Her outfit is a black cheongsam featuring intricate golden embroidery, long wide sleeves, and black shorts. Her skin is translucent, her facial features are profound, her eyes are bright, and she has a faint rosy blush on her cheeks. The setting is the top of a skyscraper, offering a mesmerizing view of the city at night. The image should be a masterpiece, captured in the best quality, high resolution, 8k UHD, with high fidelity and depth of field. The overall composition should exude a sense of official art, capturing the idol's beauty and the stunning cityscape in the background.\n",
      "Image is generated succesfully.\n",
      "\u001b[36;1m\u001b[1;3mDone\u001b[0m\u001b[32;1m\u001b[1;3mI now know the final answer.\n",
      "\n",
      "Final Answer: The image has been generated and saved at `tutorial/Week-8/test_04.png`.\u001b[0m\n",
      "\n",
      "\u001b[1m> Finished chain.\u001b[0m\n"
     ]
    },
    {
     "data": {
      "text/plain": [
       "{'input': 'Generate in image with the following information: \\n \\nbrown hair, bangs, two side up, twin ponytails, sidelocks, black hat, jewelry, black cheongsam, intricate golden embroidery, long sleeves,\\nwide sleeves, black shorts, hat ornament, hat flower, a 17-years-old ethereal and glamorous beautiful japanese idol,\\ntranslucent skin tone, profound facial features, bright eyes, faint rosy blush, ultra realistic, raw photo, award-winning photo, masterpiece, \\nbest quality, high resolution, official art, 8k uhd, high fidelity, depth of field, on the top of a skyscaper, mesmetizing city view, \\nnight\\n. and save the image at tutorial/Week-8/test_04.png',\n",
       " 'output': 'The image has been generated and saved at `tutorial/Week-8/test_04.png`.'}"
      ]
     },
     "execution_count": 20,
     "metadata": {},
     "output_type": "execute_result"
    }
   ],
   "source": [
    "agent_executor.invoke({\"input\": f\"Generate in image with the following information: \\n {image_prompt}. and save the image at {filename}\"})"
   ]
  },
  {
   "cell_type": "markdown",
   "id": "273538bc-be51-4b58-84dd-179085b66e7f",
   "metadata": {},
   "source": [
    "## ACG Characters\n",
    "\n"
   ]
  },
  {
   "cell_type": "code",
   "execution_count": 21,
   "id": "3f3679ef-4354-460d-8f4c-63af32efc161",
   "metadata": {
    "tags": []
   },
   "outputs": [],
   "source": [
    "from langchain.utilities.tavily_search import TavilySearchAPIWrapper\n",
    "from langchain.tools.tavily_search import TavilySearchResults\n",
    "\n",
    "search = TavilySearchAPIWrapper()\n",
    "tavily_tool = TavilySearchResults(api_wrapper=search)\n",
    "\n",
    "outputs = tavily_tool.invoke(\"What is the appearance of Hutou from Genshin\")"
   ]
  },
  {
   "cell_type": "code",
   "execution_count": 22,
   "id": "ab854472-1d5f-468e-ad85-37095f6fccc5",
   "metadata": {
    "tags": []
   },
   "outputs": [
    {
     "data": {
      "text/plain": [
       "\"Hu Tao[Note 2] (Chinese: 胡桃 Hú Táo) is a playable Pyro character in Genshin Impact. Hu Tao's antics and eccentricity belies her role as the 77th Director of the Wangsheng Funeral Parlor and her talent as a poet. Nevertheless, she treats the parlor's operations with utmost importance, and holds funeral ceremonies with the highest dignity and solemnity. Toggle Ascension MaterialsTotal Cost\""
      ]
     },
     "execution_count": 22,
     "metadata": {},
     "output_type": "execute_result"
    }
   ],
   "source": [
    "outputs[0]['content']"
   ]
  },
  {
   "cell_type": "markdown",
   "id": "5ba75cd3-0fa8-4012-9ab4-0de388ab097d",
   "metadata": {},
   "source": [
    "# **** 預計第一個小時結束 ****"
   ]
  },
  {
   "cell_type": "markdown",
   "id": "3762d243-fe7f-4b43-b9c8-466918715165",
   "metadata": {},
   "source": [
    "## LCEL ACG character appearance chain"
   ]
  },
  {
   "cell_type": "code",
   "execution_count": null,
   "id": "1ab73102-3977-4691-b91d-10d0faa3aa0b",
   "metadata": {
    "tags": []
   },
   "outputs": [],
   "source": [
    "from langchain.docstore.document import Document\n",
    "from langchain.agents import Tool, AgentExecutor, create_react_agent\n",
    "from langchain.tools import BaseTool\n",
    "from langchain.prompts import PromptTemplate, ChatPromptTemplate, HumanMessagePromptTemplate, SystemMessagePromptTemplate\n",
    "from langchain_core.output_parsers import StrOutputParser\n",
    "\n",
    "\n",
    "def tavily_content_parser(outputs):\n",
    "\n",
    "    \"\"\"\n",
    "    Parses the content from a list of outputs into Document objects.\n",
    "    \n",
    "    Parameters:\n",
    "    outputs (list): A list of dictionaries where each dictionary contains a 'content' key \n",
    "                    representing the content of a document.\n",
    "    \n",
    "    Returns:\n",
    "    list: A list of Document objects, each initialized with the content from the 'outputs'.\n",
    "    \n",
    "    Example:\n",
    "    >>> outputs = [\n",
    "    ...     {'content': 'This is document 1 content.'},\n",
    "    ...     {'content': 'This is document 2 content.'}\n",
    "    ... ]\n",
    "    >>> documents = tavily_content_parser(outputs)\n",
    "    >>> for doc in documents:\n",
    "    ...     print(doc.page_content)\n",
    "    This is document 1 content.\n",
    "    This is document 2 content.\n",
    "    \"\"\"\n",
    "    \n",
    "    documents = [Document(page_content=output['content']) for output in outputs]\n",
    "    \n",
    "    return documents\n",
    "\n",
    "\n",
    "system_prompt = PromptTemplate.from_template('''You are a helpful AI assistant with deep knowledge of anime, manga, \n",
    "and mobile games. You will generate the face, body, attire, hairstyle, and accessories of an character in great \n",
    "detail with data provided from the `context` The output should look like:\n",
    "\n",
    " - Face:\n",
    " - Body:\n",
    " - Attire:\n",
    " - Hairstyle:\n",
    " - Accessories:\n",
    "\n",
    "''')\n",
    "\n",
    "system_message = SystemMessagePromptTemplate(prompt=system_prompt)\n",
    "\n",
    "\n",
    "human_prompt = PromptTemplate(template=\"context: {context}\",\n",
    "                                  input_variables=['context'])\n",
    "\n",
    "# Create a human message prompt template based on the prompt\n",
    "human_message = HumanMessagePromptTemplate(prompt=human_prompt)\n",
    "\n",
    "# Create a chat prompt template from system and human message prompt templates\n",
    "chat_prompt = ChatPromptTemplate.from_messages([system_message, human_message])\n",
    "\n",
    "# Construct the processing chain\n",
    "step_1 = {'context': tavily_tool|tavily_content_parser}\n",
    "step_2 = chat_prompt\n",
    "step_3 = model\n",
    "step_4 = StrOutputParser()\n",
    "acg_chain = step_1 | step_2 | step_3 | step_4\n",
    "\n"
   ]
  },
  {
   "cell_type": "code",
   "execution_count": null,
   "id": "c05f32a4-affa-4092-96ef-a0d7744d4222",
   "metadata": {
    "tags": []
   },
   "outputs": [],
   "source": [
    "acg_chain.invoke(\"What is the appearance of Hutou from Genshin\")"
   ]
  },
  {
   "cell_type": "code",
   "execution_count": 23,
   "id": "6f9a6afa-cf49-4aa1-a542-1fa9ef205d27",
   "metadata": {
    "tags": []
   },
   "outputs": [],
   "source": [
    "class ACGLLMTool(BaseTool):\n",
    "\n",
    "    name = \"`Anime character design generator`\"\n",
    "    description = \"Use this tool to generate and explore detailed designs for anime and ACG (Animation, Comics, and Games) characters.\"\n",
    "\n",
    "    def _run(self, query: str):\n",
    "        \n",
    "        description = acg_chain.invoke(query)\n",
    "        \n",
    "        return description\n",
    "\n",
    "    def _arun(self, radius: int):\n",
    "        raise NotImplementedError(\"This tool does not support async\")\n",
    "        \n",
    "        \n",
    "class ImageTool(BaseTool):\n",
    "\n",
    "    name = \"ACG characters image generator with DALLE-3\"\n",
    "\n",
    "    input_response_schemas = [\n",
    "        ResponseSchema(name=\"image_desc\", description=\"image description / prompt\"),\n",
    "        ResponseSchema(name=\"filename\", description=\"the location at which the image will be saved\"),\n",
    "        ResponseSchema(name=\"size\", description=\"image size, can be `1024x1024`, `1024x1792`, `1792x1024`\"),\n",
    "        ResponseSchema(name=\"quality\", description=\"image quality, can be `hd` or `standard`\"),\n",
    "        ResponseSchema(name=\"style\", description=\"image style, can be `vivid` or `natural`\")]\n",
    "    \n",
    "    input_output_parser = StructuredOutputParser.from_response_schemas(input_response_schemas)\n",
    "    \n",
    "    input_format_instructions = input_output_parser.get_format_instructions()\n",
    "\n",
    "    description_template = \"\"\"\n",
    "                           This is a tool for creating images. \n",
    "                           It's best used when you're considering the need for an ACG (anime, comics, games) character design. \n",
    "                           Before using this tool, you may want to utilize the `Anime character design generator` to gather \n",
    "                           relevant information. The generated image will maintain the specified art style. \n",
    "                           input format: {input_format_instructions}\n",
    "                           \"\"\"\n",
    "\n",
    "    description = description_template.format(input_format_instructions=input_format_instructions)\n",
    "\n",
    "\n",
    "\n",
    "    \n",
    "    def _run(self, query):\n",
    "        \n",
    "        input_ = self.input_output_parser.parse(query)\n",
    "        \n",
    "        image_desc = input_['image_desc']\n",
    "        size = input_['size']\n",
    "        quality = input_['quality']\n",
    "        style = input_['style']\n",
    "        filename = input_['filename']\n",
    "        \n",
    "        dalle3_chain.invoke({\"image_desc\": image_desc,\n",
    "                             \"size\": size,\n",
    "                             \"quality\": quality,\n",
    "                             \"style\": style,\n",
    "                             \"filename\": filename})\n",
    "        \n",
    "        return \"Done\"\n",
    "\n",
    "    def _arun(self, radius: int):\n",
    "        raise NotImplementedError(\"This tool does not support async\")\n",
    "\n",
    "        \n",
    "prompt_template = \"\"\"\n",
    "Answer the following questions as best you can. You have access to the following tools:\n",
    "\n",
    "{tools}\n",
    "\n",
    "Use the following format:\n",
    "\n",
    "Question: the input question you must answer\n",
    "\n",
    "Thought: you should always think about what to do\n",
    "\n",
    "Action: the action to take, should be one of [{tool_names}]\n",
    "\n",
    "Action Input: the input to the action\n",
    "\n",
    "Observation: the result of the action\n",
    "\n",
    "... (this Thought/Action/Action Input/Observation can repeat N times)\n",
    "\n",
    "Thought: I now know the final answer\n",
    "\n",
    "Final Answer: the final answer to the original input question\n",
    "\n",
    "Begin!\n",
    "\n",
    "Question: {input}\n",
    "\n",
    "Thought:{agent_scratchpad}\n",
    "\"\"\"        \n",
    "             \n",
    "prompt = PromptTemplate.from_template(prompt_template)\n",
    "\n",
    "tools = [ImageTool(), ACGLLMTool()]\n",
    "\n",
    "zero_shot_agent = create_react_agent(\n",
    "    llm=model,\n",
    "    tools=tools,\n",
    "    prompt=prompt,\n",
    ")\n",
    "\n",
    "agent_executor = AgentExecutor(agent=zero_shot_agent, tools=tools, verbose=True)"
   ]
  },
  {
   "cell_type": "code",
   "execution_count": 24,
   "id": "ce8d8dfd-78c8-45b4-8292-28857e770371",
   "metadata": {
    "tags": []
   },
   "outputs": [
    {
     "name": "stdout",
     "output_type": "stream",
     "text": [
      "\n",
      "\n",
      "\u001b[1m> Entering new AgentExecutor chain...\u001b[0m\n",
      "\u001b[32;1m\u001b[1;3mTo generate an image of Hutou from Genshin Impact in a pastel art style, I need to first gather detailed design information about the character using the `Anime character design generator`. This will help ensure that the image generated is accurate and meets the desired specifications.\n",
      "\n",
      "Action: Anime character design generator\n",
      "\n",
      "Action Input: Generate detailed design information for Hutou from Genshin Impact\n",
      "\u001b[0mAnime character design generator is not a valid tool, try one of [ACG characters image generator with DALLE-3, `Anime character design generator`].\u001b[32;1m\u001b[1;3mIt seems I made an error in my previous thought. I should directly use the `ACG characters image generator with DALLE-3` to generate the image of Hutou from Genshin Impact in a pastel art style.\n",
      "\n",
      "Action: ACG characters image generator with DALLE-3\n",
      "\n",
      "Action Input: \n",
      "\n",
      "```json\n",
      "{\n",
      "\t\"image_desc\": \"Hutou from Genshin Impact in a pastel art style\",\n",
      "\t\"filename\": \"hutou_genshin_pastel.png\",\n",
      "\t\"size\": \"1024x1024\",\n",
      "\t\"quality\": \"hd\",\n",
      "\t\"style\": \"vivid\"\n",
      "}\n",
      "```\n",
      "\u001b[0mStart generating image...\n",
      "prompt: Create an illustration of Hu Tao from Genshin Impact in a pastel art style. Hu Tao should be depicted in her traditional outfit, with her signature hat and ghostly companion. The background should be a dreamy, ethereal landscape with soft, muted colors, blending seamlessly into the pastel theme. The overall atmosphere should be whimsical and enchanting, with delicate details and a gentle, soothing color palette. Hu Tao's expression should be playful and mischievous, capturing her lively and spirited personality. The use of pastel colors should give the image a soft, almost magical quality, making it feel like a scene from a fairytale.\n",
      "Image is generated succesfully.\n",
      "\u001b[36;1m\u001b[1;3mDone\u001b[0m\u001b[32;1m\u001b[1;3mI have successfully generated the image of Hutou from Genshin Impact in a pastel art style. Here are the details:\n",
      "\n",
      "```json\n",
      "{\n",
      "\t\"image_desc\": \"Hutou from Genshin Impact in a pastel art style\",\n",
      "\t\"filename\": \"hutou_genshin_pastel.png\",\n",
      "\t\"size\": \"1024x1024\",\n",
      "\t\"quality\": \"hd\",\n",
      "\t\"style\": \"vivid\"\n",
      "}\n",
      "```\n",
      "\n",
      "Final Answer: The image of Hutou from Genshin Impact in a pastel art style has been generated and saved as \"hutou_genshin_pastel.png\".\u001b[0m\n",
      "\n",
      "\u001b[1m> Finished chain.\u001b[0m\n"
     ]
    },
    {
     "data": {
      "text/plain": [
       "{'input': 'Generate an image of Hutou from Genshim in pastol art style',\n",
       " 'output': 'The image of Hutou from Genshin Impact in a pastel art style has been generated and saved as \"hutou_genshin_pastel.png\".'}"
      ]
     },
     "execution_count": 24,
     "metadata": {},
     "output_type": "execute_result"
    }
   ],
   "source": [
    "agent_executor.invoke({\"input\": f\"Generate an image of Hutou from Genshim in pastol art style\"})"
   ]
  },
  {
   "cell_type": "code",
   "execution_count": 26,
   "id": "3c428fcc-e8be-45f1-8d15-9e7112fba86e",
   "metadata": {
    "tags": []
   },
   "outputs": [
    {
     "name": "stdout",
     "output_type": "stream",
     "text": [
      "\n",
      "\n",
      "\u001b[1m> Entering new AgentExecutor chain...\u001b[0m\n",
      "\u001b[32;1m\u001b[1;3mTo generate an award-winning portrait photo of a 17-year-old Japanese girl cosplaying Hu Tao from Genshin Impact, I need to first gather detailed design information about the character Hu Tao using the `Anime character design generator`. This will help ensure the cosplay is accurate and detailed.\n",
      "\n",
      "Action: Anime character design generator\n",
      "\n",
      "Action Input: Generate detailed design information for Hu Tao from Genshin Impact\n",
      "\u001b[0mAnime character design generator is not a valid tool, try one of [ACG characters image generator with DALLE-3, `Anime character design generator`].\u001b[32;1m\u001b[1;3mIt seems I made an error in my previous thought. I should directly use the `ACG characters image generator with DALLE-3` to create the image based on the known design of Hu Tao from Genshin Impact.\n",
      "\n",
      "Action: ACG characters image generator with DALLE-3\n",
      "\n",
      "Action Input:\n",
      "```json\n",
      "{\n",
      "\t\"image_desc\": \"A 17-year-old Japanese girl cosplaying as Hu Tao from Genshin Impact. She is wearing Hu Tao's traditional Chinese-inspired outfit, which includes a dark brown coat with red and gold accents, a black hat with a red ribbon, and white shorts. The background is a vivid, colorful setting that complements the character's design.\",\n",
      "\t\"filename\": \"hu_tao_cosplay_portrait.png\",\n",
      "\t\"size\": \"1024x1792\",\n",
      "\t\"quality\": \"hd\",\n",
      "\t\"style\": \"vivid\"\n",
      "}\n",
      "```\n",
      "\u001b[0mStart generating image...\n",
      "prompt: Create an image of a 17-year-old Japanese girl cosplaying as Hu Tao from Genshin Impact. She is dressed in Hu Tao's traditional Chinese-inspired outfit, which features a dark brown coat adorned with intricate red and gold accents, and white shorts. She also wears a black hat with a striking red ribbon. The background is a vivid, colorful setting that enhances and complements the character's design, perhaps with elements like cherry blossoms, lanterns, or a vibrant festival scene to add a lively and festive atmosphere. The overall composition should capture the essence of Hu Tao's playful and mysterious character, with attention to detail in the costume and the dynamic, engaging background.\n",
      "Image is generated succesfully.\n",
      "\u001b[36;1m\u001b[1;3mDone\u001b[0m\u001b[32;1m\u001b[1;3mI now have the final answer.\n",
      "\n",
      "Final Answer: The award-winning portrait photo of a 17-year-old Japanese girl cosplaying Hu Tao from Genshin Impact has been generated and saved as \"hu_tao_cosplay_portrait.png\" with a size of 1024x1792, in HD quality, and with a vivid style.\u001b[0m\n",
      "\n",
      "\u001b[1m> Finished chain.\u001b[0m\n"
     ]
    },
    {
     "data": {
      "text/plain": [
       "{'input': 'Generate an award-winning portrait photo of a 17-years-old japanese girl cosplaying Hutou from Genshim',\n",
       " 'output': 'The award-winning portrait photo of a 17-year-old Japanese girl cosplaying Hu Tao from Genshin Impact has been generated and saved as \"hu_tao_cosplay_portrait.png\" with a size of 1024x1792, in HD quality, and with a vivid style.'}"
      ]
     },
     "execution_count": 26,
     "metadata": {},
     "output_type": "execute_result"
    }
   ],
   "source": [
    "agent_executor.invoke({\"input\": \"Generate an award-winning portrait photo of a 17-years-old japanese girl cosplaying Hutou from Genshim\" })"
   ]
  },
  {
   "cell_type": "markdown",
   "id": "9fabc653-5ca9-484b-a864-0b6a363ac275",
   "metadata": {},
   "source": [
    "## Audible 有聲書\n",
    "\n",
    "- 文轉語音: TTS tool\n",
    "- 文轉圖: Image tool"
   ]
  },
  {
   "cell_type": "markdown",
   "id": "0d8075d8-df6e-4320-a297-2504c5b28fbc",
   "metadata": {},
   "source": [
    "### Children Book Image Generator"
   ]
  },
  {
   "cell_type": "code",
   "execution_count": null,
   "id": "2d168449-4550-49b8-acd2-21b4d3009efa",
   "metadata": {
    "tags": []
   },
   "outputs": [],
   "source": [
    "system_prompt = PromptTemplate.from_template('''You are a helpful AI assistant and an art expert with extensive knowledge of illustration. \n",
    "You excel at creating Pencil and Ink Style illustrations for 6-year-old children using the DALLE-3 model. This style is characterized by \n",
    "detailed line work, often in black and white or with minimal color, and has a classic, timeless feel. For this task, you will be provided with \n",
    "a paragraph of a story, and you will generate a corresponding DALLE-3 prompt which captures the storyline. The prompt should be \n",
    "detailed and descriptive, capturing the essence of the image. The length of the prompt should be around 100-500 tokens.''')\n",
    "\n",
    "# System prompt\n",
    "system_message = SystemMessagePromptTemplate(prompt=system_prompt)\n",
    "\n",
    "human_prompt = PromptTemplate(template=\"{story}\",\n",
    "                              input_variables=['story'])\n",
    "\n",
    "# Create a human message prompt template based on the prompt\n",
    "human_message = HumanMessagePromptTemplate(prompt=human_prompt)\n",
    "\n",
    "chat_prompt = ChatPromptTemplate.from_messages([system_message, human_message])\n",
    "\n",
    "nl_prompt_generation_chain = chat_prompt | model | StrOutputParser()     \n",
    "\n",
    "step_1 = RunnablePassthrough.assgin(nl_prompt=itemgetter('story')|nl_prompt_generation_chain)\n",
    "step_2 = RunnableLambda(dalle3_worker)\n",
    "image_chain = step_1 | step_2"
   ]
  },
  {
   "cell_type": "code",
   "execution_count": null,
   "id": "797c315b-489e-4b45-b4b6-879a8e8414db",
   "metadata": {
    "tags": []
   },
   "outputs": [],
   "source": [
    "system_prompt = PromptTemplate.from_template('''You are a helpful AI assistant who likes children. \n",
    "You are great storyteller and know how to create content for kindergarten kids. A short chapter is \n",
    "created once at a time.''')\n",
    "\n",
    "# System prompt\n",
    "system_message = SystemMessagePromptTemplate(prompt=system_prompt)\n",
    "\n",
    "human_prompt = PromptTemplate(template=\"{input}\",\n",
    "                              input_variables=['input'])\n",
    "\n",
    "# Create a human message prompt template based on the prompt\n",
    "human_message = HumanMessagePromptTemplate(prompt=human_prompt)\n",
    "\n",
    "chat_prompt = ChatPromptTemplate.from_messages([system_message, human_message])\n",
    "\n",
    "story_chain = chat_prompt | model | StrOutputParser()     "
   ]
  },
  {
   "cell_type": "code",
   "execution_count": null,
   "id": "e4bfecd8-484f-4c37-a9d4-09773a31b21d",
   "metadata": {
    "tags": []
   },
   "outputs": [],
   "source": [
    "import json\n",
    "\n",
    "from langchain.agents import create_structured_chat_agent\n",
    "from langchain_core.prompts import MessagesPlaceholder\n",
    "\n",
    "client = OpenAI(api_key=os.environ['OPENAI_API_KEY'])\n",
    "\n",
    "    \n",
    "class TTSTool(BaseTool):\n",
    "    \n",
    "    name = \"Text to Sound\"\n",
    "    description = \"Use this tool to generate an audio file\"\n",
    "\n",
    "    name = \"Text to Sound (tts) tool\"\n",
    "\n",
    "    input_response_schemas = [\n",
    "        ResponseSchema(name=\"text\", description=\"The story\"),\n",
    "        ResponseSchema(name=\"filename\", description=\"the location at which the audio file will be saved\")]\n",
    "    \n",
    "    input_output_parser = StructuredOutputParser.from_response_schemas(input_response_schemas)\n",
    "    \n",
    "    input_format_instructions = input_output_parser.get_format_instructions()\n",
    "\n",
    "    description_template = \"\"\"\n",
    "                           Use this tool to generate an audio file of the story. \n",
    "                           input format: {input_format_instructions}\n",
    "                           \"\"\"\n",
    "\n",
    "    description = description_template.format(input_format_instructions=input_format_instructions)\n",
    "\n",
    "    \n",
    "    def _run(self, text: str):\n",
    "\n",
    "        input_ = self.input_output_parser.parse(text)\n",
    "\n",
    "        text = input_['text']\n",
    "        filename = input_['filename']\n",
    "        \n",
    "        response = self.tts(text)\n",
    "        \n",
    "        speech_file_path = os.path.join(get_project_dir(), f\"tutorial/Week-8/{filename}.mp3\")\n",
    "        \n",
    "        response.stream_to_file(speech_file_path)\n",
    "        \n",
    "        return speech_file_path\n",
    "\n",
    "    def _arun(self, radius: int):\n",
    "        raise NotImplementedError(\"This tool does not support async\")\n",
    "        \n",
    "        \n",
    "    def tts(self, text: str):\n",
    "        \n",
    "        response = client.audio.speech.create(\n",
    "          model=\"tts-1\",\n",
    "          voice=\"nova\",\n",
    "          input=text\n",
    "        )\n",
    "\n",
    "        return response\n",
    "    \n",
    "    \n",
    "class ImageTool(BaseTool):\n",
    "\n",
    "    name = \"Dalle-3 generator\"\n",
    "    description = \"The Dalle-3 geneator is a tool for creating images.\"\n",
    "\n",
    "    def _run(self, text):\n",
    "        \n",
    "        url = image_chain.invoke({\"story\": text,\n",
    "                                  \"size\": \"1024x1024\",\n",
    "                                  \"quality\": \"standard\",\n",
    "                                  \"style\": \"natural\"})\n",
    "        \n",
    "        response = requests.get(url)\n",
    "    \n",
    "        filename = os.path.join(get_project_dir(), 'tutorial', 'Week-8', \"chapter_1\"  + '.jpg')\n",
    "\n",
    "        if response.status_code == 200:\n",
    "            image = Image.open(BytesIO(response.content))\n",
    "            filename = os.path.join(get_project_dir(), 'tutorial', 'Week-8', filename)\n",
    "            image.save(filename)  # Save the image with your preferred file name and format\n",
    "            print(\"Image downloaded and saved successfully.\")\n",
    "        else:\n",
    "            print(\"Failed to retrieve the image. Status code:\", response.status_code)\n",
    "        \n",
    "        return filename\n",
    "        \n",
    "\n",
    "    def _arun(self, radius: int):\n",
    "        raise NotImplementedError(\"This tool does not support async\")    \n",
    "           \n",
    "            \n",
    "prompt = PromptTemplate.from_template(zero_shot_prompt_template)\n",
    "\n",
    "tools = [TTSTool(), \n",
    "         ImageTool(),\n",
    "         Tool(name=\"StoryTeller\",\n",
    "              func=story_chain.invoke,\n",
    "              description=\"useful for create story\",\n",
    "        )]\n",
    "\n",
    "zero_shot_agent = create_react_agent(\n",
    "    llm=model,\n",
    "    tools=tools,\n",
    "    prompt=prompt,\n",
    ")\n",
    "\n",
    "agent_executor = AgentExecutor(agent=zero_shot_agent, tools=tools, verbose=True)"
   ]
  },
  {
   "cell_type": "code",
   "execution_count": null,
   "id": "74b78a71-2bac-478a-9a4f-046bf3deba9b",
   "metadata": {
    "tags": []
   },
   "outputs": [],
   "source": [
    "agent_executor.invoke({\"input\": \"Create a chapter of a baby owl capturing a rodent in the night as his dinner. \\\n",
    "After having the final answer, create a corresponding image and record the story as an mp3\"})"
   ]
  },
  {
   "cell_type": "code",
   "execution_count": null,
   "id": "a86f1646-76d8-4298-8184-5194a62eb656",
   "metadata": {
    "tags": []
   },
   "outputs": [],
   "source": [
    "\"\"\"\n",
    "text: A baby owl named Ollie with big, round eyes and soft, fluffy feathers, capturing a rodent in the moonlit forest. The scene is set at night with twinkling stars and tall trees in the background.\n",
    "chapter: Ollie the Brave Baby Owl\n",
    "\"\"\""
   ]
  },
  {
   "cell_type": "code",
   "execution_count": null,
   "id": "3f38b8af-c7b7-4132-8d5e-6340ce809fb7",
   "metadata": {},
   "outputs": [],
   "source": []
  },
  {
   "cell_type": "code",
   "execution_count": null,
   "id": "c89f39ff-aeb8-433f-b18b-e20b622e5739",
   "metadata": {},
   "outputs": [],
   "source": []
  },
  {
   "cell_type": "code",
   "execution_count": null,
   "id": "586281e2-cfac-4033-b570-9d0013633d90",
   "metadata": {},
   "outputs": [],
   "source": []
  }
 ],
 "metadata": {
  "kernelspec": {
   "display_name": "Python 3 (ipykernel)",
   "language": "python",
   "name": "python3"
  },
  "language_info": {
   "codemirror_mode": {
    "name": "ipython",
    "version": 3
   },
   "file_extension": ".py",
   "mimetype": "text/x-python",
   "name": "python",
   "nbconvert_exporter": "python",
   "pygments_lexer": "ipython3",
   "version": "3.10.14"
  }
 },
 "nbformat": 4,
 "nbformat_minor": 5
}
