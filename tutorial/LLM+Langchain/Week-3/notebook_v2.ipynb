{
 "cells": [
  {
   "cell_type": "code",
   "execution_count": 1,
   "id": "16f5e101-968d-4062-848a-23cfe4245440",
   "metadata": {
    "tags": []
   },
   "outputs": [],
   "source": [
    "import os"
   ]
  },
  {
   "cell_type": "code",
   "execution_count": 2,
   "id": "8602e84a-871a-4cdf-aa31-13fd6be2b431",
   "metadata": {
    "tags": []
   },
   "outputs": [],
   "source": [
    "os.chdir(\"../../../\")"
   ]
  },
  {
   "cell_type": "code",
   "execution_count": 3,
   "id": "5abbb99d-12c3-4ced-a1ad-be97966a33d8",
   "metadata": {
    "tags": []
   },
   "outputs": [],
   "source": [
    "import json\n",
    "from operator import itemgetter\n",
    "\n",
    "from langchain_openai import ChatOpenAI\n",
    "from langchain.prompts import PromptTemplate, HumanMessagePromptTemplate, ChatPromptTemplate, SystemMessagePromptTemplate\n",
    "from langchain.output_parsers import StructuredOutputParser, ResponseSchema\n",
    "from langchain_core.output_parsers import StrOutputParser\n",
    "from langchain_core.runnables import chain\n",
    "from langchain.retrievers import BM25Retriever\n",
    "from langchain.docstore.document import Document\n",
    "\n",
    "from src.initialization import credential_init\n",
    "from src.io.path_definition import get_project_dir\n",
    "\n",
    "\n",
    "credential_init()\n",
    "\n",
    "model = ChatOpenAI(openai_api_key=os.environ['OPENAI_API_KEY'],\n",
    "                   model_name=\"gpt-4o\", temperature=0)\n",
    "\n",
    "\n",
    "with open(os.path.join(get_project_dir(), 'tutorial', 'LLM+Langchain', 'Week-1', 'recipe_train.json'), 'r') as f:\n",
    "    recipe_train = json.load(f)\n",
    "\n",
    "with open(os.path.join(get_project_dir(), 'tutorial', 'LLM+Langchain', 'Week-1', 'recipe_test.json'), 'r') as f:\n",
    "    recipe_test = json.load(f)"
   ]
  },
  {
   "cell_type": "code",
   "execution_count": 4,
   "id": "2d2b5e40-5a83-4520-9a17-40dec5d4ad29",
   "metadata": {},
   "outputs": [],
   "source": [
    "def build_standard_chat_prompt_template(kwargs):\n",
    "\n",
    "    system_content = kwargs['system']\n",
    "    human_content = kwargs['human']\n",
    "    \n",
    "    system_prompt = PromptTemplate(**system_content)\n",
    "    system_message = SystemMessagePromptTemplate(prompt=system_prompt)\n",
    "    \n",
    "    human_prompt = PromptTemplate(**human_content)\n",
    "    human_message = HumanMessagePromptTemplate(prompt=human_prompt)\n",
    "    \n",
    "    chat_prompt = ChatPromptTemplate.from_messages([system_message,\n",
    "                                                     human_message\n",
    "                                                   ])\n",
    "\n",
    "    return chat_prompt\n"
   ]
  },
  {
   "cell_type": "markdown",
   "id": "ec555189-20bc-4e4c-b8d4-2b6fbc056fb7",
   "metadata": {},
   "source": [
    "## Find out all the ingredients and cluster them according to some rules.\n",
    "\n",
    "- Do you still remember the joke-analysis chain? This one is structurally identical."
   ]
  },
  {
   "cell_type": "code",
   "execution_count": 5,
   "id": "eeeee9f7-c4f5-42f4-a218-c4e7bb534caa",
   "metadata": {
    "tags": []
   },
   "outputs": [],
   "source": [
    "documents = []\n",
    "\n",
    "for recipe in recipe_train:\n",
    "    document = Document(page_content=\", \".join(recipe['ingredients']),\n",
    "                        metadata={\"cuisine\": recipe['cuisine'],\n",
    "                                  \"id\": recipe['id']})\n",
    "    documents.append(document)\n",
    "\n",
    "retriever = BM25Retriever.from_documents(documents=documents)\n",
    "    \n",
    "output_parser = StrOutputParser()\n",
    "\n",
    "query = \", \".join(recipe_test[5]['ingredients'])\n",
    "\n",
    "question = \"Show me all the ingredients.\""
   ]
  },
  {
   "cell_type": "code",
   "execution_count": 6,
   "id": "7fbe3899-9d1a-4718-b963-4fc0bf8e0177",
   "metadata": {},
   "outputs": [
    {
     "data": {
      "text/plain": [
       "'hamburger buns, jalapeno chilies, avocado, garlic powder, chili powder, reduced-fat sour cream, dried oregano, chile pepper, cilantro leaves, cheddar cheese, ground black pepper, ground chicken breast, salt, pepper, green onions, shredded lettuce, salsa'"
      ]
     },
     "execution_count": 6,
     "metadata": {},
     "output_type": "execute_result"
    }
   ],
   "source": [
    "query"
   ]
  },
  {
   "cell_type": "code",
   "execution_count": 7,
   "id": "bcf452b5-5b95-4897-a799-528d973f476c",
   "metadata": {},
   "outputs": [],
   "source": [
    "# first level chain\n",
    "\n",
    "system_template = \"You are an AI assistant as the best chef in the world.\"\n",
    "\n",
    "human_template = (\"Answer the question based only on the following content:\\n\"\n",
    "                  \"{context}\\n\\n\"\n",
    "                  \"Question: {question}\"\n",
    "                 )\n",
    "\n",
    "input_ = {\"system\": {\"template\": system_template},\n",
    "          \"human\": {\"template\": human_template,\n",
    "                    \"input_variable\": [\"context\", \"question\"]}}\n",
    "\n",
    "chat_prompt_template_1 = build_standard_chat_prompt_template(input_)\n",
    "\n",
    "user_input = {\"context\": itemgetter(\"query\")|retriever, \n",
    "              \"question\":itemgetter(\"question\")}\n",
    "\n",
    "pipeline_1 = user_input | chat_prompt_template_1 | model | output_parser"
   ]
  },
  {
   "cell_type": "code",
   "execution_count": 8,
   "id": "fa3119c3-ea9b-4419-8fcf-079ac0f2a988",
   "metadata": {
    "scrolled": true
   },
   "outputs": [
    {
     "name": "stdout",
     "output_type": "stream",
     "text": [
      "Here are all the ingredients listed in the documents:\n",
      "\n",
      "1. Sliced tomatoes\n",
      "2. Cheddar cheese\n",
      "3. Kosher salt\n",
      "4. Coarse salt\n",
      "5. Onions\n",
      "6. Tomatoes\n",
      "7. Hamburger buns\n",
      "8. Jalapeno chilies\n",
      "9. Fresh lemon juice\n",
      "10. Ground cumin\n",
      "11. Avocado\n",
      "12. Mayonnaise\n",
      "13. Fresh cilantro\n",
      "14. Shredded lettuce\n",
      "15. Dried oregano\n",
      "16. Corn tortilla chips\n",
      "17. Black pepper\n",
      "18. Chili powder\n",
      "19. Ground beef\n",
      "20. Seasoning salt\n",
      "21. Chopped cilantro\n",
      "22. Salsa verde\n",
      "23. Cream cheese\n",
      "24. Garlic powder\n",
      "25. Olives\n",
      "26. Shredded cheddar cheese\n",
      "27. Green onions\n",
      "28. Sour cream\n",
      "29. Pepper\n",
      "30. Ground turkey breast\n",
      "31. Salt\n",
      "32. Seasoned black beans\n",
      "33. Cumin\n",
      "34. Green bell pepper\n",
      "35. Garlic cloves\n",
      "36. Black beans\n",
      "37. Picante sauce\n",
      "38. Frozen corn\n",
      "39. Brown rice\n",
      "40. Cilantro leaves\n",
      "41. Bay leaf\n",
      "42. Green chile\n",
      "43. Vegetable broth\n"
     ]
    }
   ],
   "source": [
    "print(pipeline_1.invoke({\"question\": question,\n",
    "                         \"query\": query}))"
   ]
  },
  {
   "cell_type": "code",
   "execution_count": 9,
   "id": "c1bc90c3-95d8-4f0a-9b88-54cabbf28f9f",
   "metadata": {
    "tags": []
   },
   "outputs": [],
   "source": [
    "# second level chain\n",
    "\n",
    "response_schemas = [\n",
    "        ResponseSchema(name=\"result\", \n",
    "                       description=\"\"\"\n",
    "                                   a python dictionary with structure\n",
    "                                   <PYTHON STR>: <PYTHON LIST> \n",
    "                                   \"\"\")]\n",
    "\n",
    "structured_output_parser = StructuredOutputParser.from_response_schemas(response_schemas)\n",
    "\n",
    "format_instructions = structured_output_parser.get_format_instructions()\n",
    "\n",
    "system_template = \"\"\"\n",
    "                  You are an AI assistant as the best chef in the world. \n",
    "                  \"\"\"\n",
    "\n",
    "human_template = \"\"\"\n",
    "                 Please sort through the {ingredients}, such as meat, \n",
    "                 scipy, milk product,..., etc; \n",
    "                 format instruction: {format_instructions}\n",
    "                 \"\"\"\n",
    "\n",
    "input_ = {\"system\": {\"template\": system_template},\n",
    "          \"human\": {\"template\": human_template,\n",
    "                    \"input_variable\": [\"ingredients\"],\n",
    "                    \"partial_variables\": {\"format_instructions\": \n",
    "                                           format_instructions}}}\n",
    "\n",
    "chat_prompt_template_2 = build_standard_chat_prompt_template(input_)"
   ]
  },
  {
   "cell_type": "code",
   "execution_count": 10,
   "id": "b4696b82-4f0c-4b35-b0b6-dae608371a0e",
   "metadata": {
    "tags": []
   },
   "outputs": [],
   "source": [
    "pipeline_ = {\"ingredients\": pipeline_1}|chat_prompt_template_2|model|structured_output_parser"
   ]
  },
  {
   "cell_type": "code",
   "execution_count": 11,
   "id": "6a112bcf-864b-4160-b026-4c8b9d469010",
   "metadata": {
    "tags": []
   },
   "outputs": [
    {
     "data": {
      "text/plain": [
       "{'result': {'Vegetables': ['Sliced tomatoes',\n",
       "   'Tomatoes',\n",
       "   'Onions',\n",
       "   'Jalapeno chilies',\n",
       "   'Avocado',\n",
       "   'Shredded lettuce',\n",
       "   'Green onions',\n",
       "   'Green bell pepper',\n",
       "   'Green chile'],\n",
       "  'Cheese': ['Cheddar cheese', 'Shredded cheddar cheese', 'Cream cheese'],\n",
       "  'Spices and Seasonings': ['Kosher salt',\n",
       "   'Coarse salt',\n",
       "   'Ground cumin',\n",
       "   'Dried oregano',\n",
       "   'Black pepper',\n",
       "   'Chili powder',\n",
       "   'Seasoning salt',\n",
       "   'Garlic powder',\n",
       "   'Salt',\n",
       "   'Cumin',\n",
       "   'Pepper',\n",
       "   'Bay leaf'],\n",
       "  'Herbs': ['Fresh cilantro', 'Chopped cilantro', 'Cilantro leaves'],\n",
       "  'Condiments and Sauces': ['Mayonnaise', 'Salsa verde', 'Picante sauce'],\n",
       "  'Proteins': ['Ground beef',\n",
       "   'Ground turkey breast',\n",
       "   'Seasoned black beans',\n",
       "   'Black beans'],\n",
       "  'Other': ['Hamburger buns',\n",
       "   'Fresh lemon juice',\n",
       "   'Corn tortilla chips',\n",
       "   'Olives',\n",
       "   'Sour cream',\n",
       "   'Garlic cloves',\n",
       "   'Frozen corn',\n",
       "   'Brown rice',\n",
       "   'Vegetable broth']}}"
      ]
     },
     "execution_count": 11,
     "metadata": {},
     "output_type": "execute_result"
    }
   ],
   "source": [
    "pipeline_.invoke({\"query\": query, \"question\": question})"
   ]
  },
  {
   "cell_type": "markdown",
   "id": "01268c94-c213-4c6b-9fbc-f6dbc541832e",
   "metadata": {},
   "source": [
    "## 回家自行練習\n",
    "1. 自己找一個中文食譜，打開冰箱掃一下。把冰箱裡的東西作為`現有食材`輸入，食譜中的某道菜作為`建議食材`輸入\n",
    "2. Find out all the ingredients and cluster them according to some rules -> 轉換成中文下去做。"
   ]
  },
  {
   "cell_type": "markdown",
   "id": "f40d2510-dcc6-4835-a2fb-ad1744ed1032",
   "metadata": {},
   "source": [
    "## OpenAI WebSearch Part1\n",
    "\n",
    "- Basic Usage"
   ]
  },
  {
   "cell_type": "code",
   "execution_count": 12,
   "id": "a6c71195-8276-4e73-8922-cae08af0cfbe",
   "metadata": {},
   "outputs": [],
   "source": [
    "from openai import OpenAI\n",
    "\n",
    "client = OpenAI(api_key=os.environ['OPENAI_API_KEY'])\n",
    "\n",
    "response = client.chat.completions.create(\n",
    "        model=\"gpt-4o-search-preview\",\n",
    "        web_search_options={\"search_context_size\": \"high\"},\n",
    "        messages=[{\"role\": \"user\",\n",
    "                   \"content\": \"What is the reciprocal tariff imposed by the United State of America?\"}]\n",
    "    )"
   ]
  },
  {
   "cell_type": "code",
   "execution_count": 13,
   "id": "291ad67b-28d9-4958-89a7-3076520cc463",
   "metadata": {},
   "outputs": [
    {
     "data": {
      "text/plain": [
       "'In April 2025, the United States implemented a \"reciprocal tariff\" policy aimed at addressing perceived trade imbalances. This policy introduced a two-tiered tariff system:\\n\\n1. **Baseline Tariff**: Effective April 5, 2025, a universal 10% ad valorem tariff was imposed on imports from nearly all countries. ([whitehouse.gov](https://www.whitehouse.gov/presidential-actions/2025/04/regulating-imports-with-a-reciprocal-tariff-to-rectify-trade-practices-that-contribute-to-large-and-persistent-annual-united-states-goods-trade-deficits/?utm_source=openai))\\n\\n2. **Country-Specific Tariffs**: Starting April 9, 2025, higher tariffs were applied to imports from countries with which the U.S. had significant trade deficits. These rates were calculated using a formula that divided the U.S. trade deficit with each country by the total imports from that country, then halved the result. For example:\\n\\n   - **China**: 34%\\n   - **European Union**: 20%\\n   - **Vietnam**: 46%\\n   - **Japan**: 24%\\n   - **India**: 26%\\n\\n   ([ft.com](https://www.ft.com/content/e025d7e6-512d-4e82-9c25-7900b94ac153?utm_source=openai))\\n\\nThese tariffs were intended to mirror and counteract foreign trade barriers imposed on U.S. exports. However, the methodology and economic rationale behind the tariff calculations faced significant criticism from economists and trade analysts. They argued that the approach was overly simplistic and could lead to unintended economic consequences. ([time.com](https://time.com/7274651/why-economists-are-horrified-by-trump-tariff-math/?utm_source=openai))\\n\\nThe implementation of these tariffs led to global market volatility and prompted legal challenges. On May 28, 2025, the United States Court of International Trade ruled that the tariffs exceeded the authority granted under the International Emergency Economic Powers Act (IEEPA), resulting in a permanent injunction against their enforcement. ([en.wikipedia.org](https://en.wikipedia.org/wiki/V.O.S._Selections%2C_Inc._v._United_States?utm_source=openai))\\n\\nAs of July 2, 2025, the situation remains dynamic, with ongoing negotiations and legal proceedings influencing the status and application of these tariffs.\\n\\n\\n## Recent Developments on U.S. Reciprocal Tariffs:\\n- [Donald Trump says US has struck trade deal with Vietnam](https://www.ft.com/content/69260592-2c59-4750-a6a9-229fe0f84145?utm_source=openai)\\n- [Trump says US could reach trade deal with India, casts doubt on deal with Japan](https://www.reuters.com/world/india/we-are-very-close-with-india-trade-deal-bessent-tells-fox-news-2025-07-01/?utm_source=openai)\\n- [US narrows trade focus to secure deals before Donald Trump\\'s tariff deadline](https://www.ft.com/content/e268d462-593c-45b1-8cf1-c3d382219dd2?utm_source=openai) '"
      ]
     },
     "execution_count": 13,
     "metadata": {},
     "output_type": "execute_result"
    }
   ],
   "source": [
    "response.choices[0].message.content"
   ]
  },
  {
   "cell_type": "code",
   "execution_count": 14,
   "id": "6e6029b3-a220-46a6-ba04-a5065b3db23f",
   "metadata": {},
   "outputs": [
    {
     "data": {
      "text/plain": [
       "'https://www.whitehouse.gov/presidential-actions/2025/04/regulating-imports-with-a-reciprocal-tariff-to-rectify-trade-practices-that-contribute-to-large-and-persistent-annual-united-states-goods-trade-deficits/?utm_source=openai'"
      ]
     },
     "execution_count": 14,
     "metadata": {},
     "output_type": "execute_result"
    }
   ],
   "source": [
    "response.choices[0].message.annotations[0].url_citation.url"
   ]
  },
  {
   "cell_type": "code",
   "execution_count": 15,
   "id": "4d5da8e3-8087-47df-873d-5e1573e0130a",
   "metadata": {
    "scrolled": true
   },
   "outputs": [],
   "source": [
    "def openai_web_search_fn(input_: str, model):\n",
    "\n",
    "    response = client.chat.completions.create(\n",
    "        model=\"gpt-4o-search-preview\",\n",
    "        web_search_options={\"search_context_size\": \"high\"},\n",
    "        messages=[{\"role\": \"user\",\n",
    "                   \"content\": input_}]\n",
    "    )\n",
    "\n",
    "    return response"
   ]
  },
  {
   "cell_type": "markdown",
   "id": "ee71210b-d418-429e-96a4-974f368ac845",
   "metadata": {},
   "source": [
    "- Slightly more advanced way."
   ]
  },
  {
   "cell_type": "code",
   "execution_count": 16,
   "id": "c96cb233-5d3a-4252-884b-431bce7b156b",
   "metadata": {},
   "outputs": [],
   "source": [
    "from functools import partial\n",
    "from typing import Optional\n",
    "\n",
    "from langchain_core.runnables import RunnablePassthrough, RunnableLambda\n",
    "\n",
    "response_schemas = [\n",
    "        ResponseSchema(name=\"refined_query\", \n",
    "                       description=\"The refined search query\")]\n",
    "\n",
    "output_parser = StructuredOutputParser.from_response_schemas(response_schemas)\n",
    "format_instructions = output_parser.get_format_instructions()\n",
    "\n",
    "\n",
    "class OpenAIWebSearch:\n",
    "\n",
    "    def __init__(self, model: str, temperature: Optional[float]=0):\n",
    "\n",
    "        \"\"\"\n",
    "        output: response.output_text\n",
    "        citations: response.output[1].content[0].annotations\n",
    "        \"\"\"\n",
    "\n",
    "        self._model = ChatOpenAI(openai_api_key=os.environ['OPENAI_API_KEY'],\n",
    "                                 model_name=model, temperature=temperature)\n",
    "\n",
    "        self.web_search_pipeline = RunnableLambda(partial(openai_web_search_fn, model=model))\n",
    "        self.query_generation_pipeline = self._build_query_generation_pipeline()\n",
    "\n",
    "        self.pipeline = RunnablePassthrough.assign(context=self.query_generation_pipeline|self.web_search_pipeline)\n",
    "\n",
    "    def _build_query_generation_pipeline(self):\n",
    "\n",
    "        input_ = {\"system\": {\"template\": (\"You are a highly intelligent AI assistant specialized in refining and optimizing search queries.\\n\"\n",
    "                                          \"Your goal is to generate precise, well-structured, and effective web search queries that maximize \"\n",
    "                                          \"relevant and accurate results.\")},\n",
    "                  \"human\": {\"template\": (\"Help me generate an optimized web search query based on the following question: {question}.\\n\"\n",
    "                                         \"Ensure the query is clear, specific, and structured to retrieve the most relevant information efficiently.\\n\"\n",
    "                                         \"format instruction: {format_instructions}\"),\n",
    "                            \"input_variables\": ['question'],\n",
    "                            \"partial_variables\": {'format_instructions': format_instructions}}}\n",
    "\n",
    "        chat_prompt_template = build_standard_chat_prompt_template(input_)\n",
    "\n",
    "        return chat_prompt_template|self._model|output_parser|itemgetter(\"refined_query\")"
   ]
  },
  {
   "cell_type": "code",
   "execution_count": 17,
   "id": "38f9736f-d202-41eb-81cd-4d6dd9d08772",
   "metadata": {},
   "outputs": [],
   "source": [
    "websearch = OpenAIWebSearch(model='gpt-4o')\n",
    "\n",
    "output = websearch.pipeline.invoke({\"question\": \"What is the reciprocal tariff imposed by the United State of America?\"})"
   ]
  },
  {
   "cell_type": "code",
   "execution_count": 18,
   "id": "5c3edb92-41a3-44c0-a122-88de9f9c4a0b",
   "metadata": {},
   "outputs": [
    {
     "data": {
      "text/plain": [
       "{'question': 'What is the reciprocal tariff imposed by the United State of America?',\n",
       " 'context': ChatCompletion(id='chatcmpl-e7059c98-2f20-4d1a-b90f-81b8ba09c58e', choices=[Choice(finish_reason='stop', index=0, logprobs=None, message=ChatCompletionMessage(content='In 2023, the United States did not impose any new reciprocal tariffs. The most significant development in U.S. trade policy occurred in April 2025, when President Donald Trump announced a comprehensive tariff strategy aimed at addressing trade imbalances. This strategy, often referred to as the \"Liberation Day\" tariffs, introduced a two-tiered system:\\n\\n1. **Global Tariff:** A universal 10% ad valorem duty was applied to all imports into the United States, effective April 5, 2025. ([whitehouse.gov](https://www.whitehouse.gov/presidential-actions/2025/04/regulating-imports-with-a-reciprocal-tariff-to-rectify-trade-practices-that-contribute-to-large-and-persistent-annual-united-states-goods-trade-deficits/?utm_source=openai))\\n\\n2. **Country-Specific Reciprocal Tariffs:** Starting April 9, 2025, higher tariffs were imposed on imports from 57 countries with which the U.S. had significant trade deficits. These tariffs ranged from 11% to 50%, calculated based on the trade deficit with each nation. ([whitecase.com](https://www.whitecase.com/insight-alert/president-trump-orders-10-global-tariff-and-higher-reciprocal-tariffs?utm_source=openai))\\n\\nThe methodology for determining these tariffs involved dividing the U.S. trade deficit with a country by the total imports from that country, then halving the result to establish the tariff rate. For example, China faced a 34% tariff, while the European Union was subject to a 20% tariff. ([csis.org](https://www.csis.org/analysis/three-points-trumps-reciprocal-tariffs?utm_source=openai))\\n\\nThese measures were justified by the administration as necessary to rebalance trade flows and protect domestic industries. However, they sparked significant controversy and led to legal challenges. In May 2025, the United States Court of International Trade ruled that President Trump had overstepped his authority in imposing these tariffs under the International Emergency Economic Powers Act (IEEPA), ordering the tariffs to be vacated. The administration appealed this decision, and the tariffs remained in effect pending the outcome of the appeal. ([en.wikipedia.org](https://en.wikipedia.org/wiki/Liberation_Day_tariffs?utm_source=openai))\\n\\nAs of July 2, 2025, the situation remains dynamic, with ongoing negotiations and legal proceedings influencing the status of these tariffs.\\n\\n\\n## Recent Developments in U.S. Trade Tariffs:\\n- [US-China trade deal has been signed, says Trump](https://moneyweek.com/economy/global-economy/us-china-trade?utm_source=openai)\\n- [Trump reciprocal tariffs are key test of EU unity](https://www.reuters.com/breakingviews/trump-reciprocal-tariffs-are-key-test-eu-unity-2025-02-19/?utm_source=openai)\\n- [What is Donald Trump\\'s \\'reciprocal\\' tariff plan?](https://www.ft.com/content/f0aa939f-b179-44e4-8420-68aca684ac63?utm_source=openai) ', refusal=None, role='assistant', annotations=[Annotation(type='url_citation', url_citation=AnnotationURLCitation(end_index=732, start_index=485, title='Regulating Imports with a Reciprocal Tariff to Rectify Trade Practices that Contribute to Large and Persistent Annual United States Goods Trade Deficits – The White House', url='https://www.whitehouse.gov/presidential-actions/2025/04/regulating-imports-with-a-reciprocal-tariff-to-rectify-trade-practices-that-contribute-to-large-and-persistent-annual-united-states-goods-trade-deficits/?utm_source=openai')), Annotation(type='url_citation', url_citation=AnnotationURLCitation(end_index=1151, start_index=1005, title='President Trump Orders 10% Global Tariff and Higher “Reciprocal” Tariffs | White & Case LLP', url='https://www.whitecase.com/insight-alert/president-trump-orders-10-global-tariff-and-higher-reciprocal-tariffs?utm_source=openai')), Annotation(type='url_citation', url_citation=AnnotationURLCitation(end_index=1542, start_index=1442, title='Three Points on Trump’s “Reciprocal” Tariffs', url='https://www.csis.org/analysis/three-points-trumps-reciprocal-tariffs?utm_source=openai')), Annotation(type='url_citation', url_citation=AnnotationURLCitation(end_index=2189, start_index=2097, title='Liberation Day tariffs', url='https://en.wikipedia.org/wiki/Liberation_Day_tariffs?utm_source=openai')), Annotation(type='url_citation', url_citation=AnnotationURLCitation(end_index=2509, start_index=2381, title='US-China trade deal has been signed, says Trump', url='https://moneyweek.com/economy/global-economy/us-china-trade?utm_source=openai')), Annotation(type='url_citation', url_citation=AnnotationURLCitation(end_index=2679, start_index=2512, title='Trump reciprocal tariffs are key test of EU unity', url='https://www.reuters.com/breakingviews/trump-reciprocal-tariffs-are-key-test-eu-unity-2025-02-19/?utm_source=openai')), Annotation(type='url_citation', url_citation=AnnotationURLCitation(end_index=2815, start_index=2682, title=\"What is Donald Trump's 'reciprocal' tariff plan?\", url='https://www.ft.com/content/f0aa939f-b179-44e4-8420-68aca684ac63?utm_source=openai'))], audio=None, function_call=None, tool_calls=None))], created=1751483500, model='gpt-4o-search-preview-2025-03-11', object='chat.completion', service_tier=None, system_fingerprint='', usage=CompletionUsage(completion_tokens=666, prompt_tokens=11, total_tokens=677, completion_tokens_details=CompletionTokensDetails(accepted_prediction_tokens=0, audio_tokens=0, reasoning_tokens=0, rejected_prediction_tokens=0), prompt_tokens_details=PromptTokensDetails(audio_tokens=0, cached_tokens=0)))}"
      ]
     },
     "execution_count": 18,
     "metadata": {},
     "output_type": "execute_result"
    }
   ],
   "source": [
    "output"
   ]
  },
  {
   "cell_type": "code",
   "execution_count": null,
   "id": "89efafb1-540e-4227-a9e0-13f87d476b7b",
   "metadata": {},
   "outputs": [],
   "source": []
  },
  {
   "cell_type": "code",
   "execution_count": null,
   "id": "9059a4a3-d425-44f9-8c79-ccaa956ea833",
   "metadata": {},
   "outputs": [],
   "source": [
    "# context = output['context']"
   ]
  },
  {
   "cell_type": "code",
   "execution_count": null,
   "id": "cb20214c-f822-407a-a34d-d685dbb58e0c",
   "metadata": {},
   "outputs": [],
   "source": [
    "# print(context.choices[0].message.content)"
   ]
  },
  {
   "cell_type": "code",
   "execution_count": null,
   "id": "4c54fde6-6eae-43a2-83bd-fdad2a705d7a",
   "metadata": {},
   "outputs": [],
   "source": [
    "# output = websearch.pipeline.invoke({\"question\": \"What is the reciprocal tariffs in International Trade imposed by the United State of America?\"})\n",
    "# context = output['context']\n",
    "# print(context.choices[0].message.content)"
   ]
  },
  {
   "cell_type": "markdown",
   "id": "7a11bf9b-5274-4623-affd-1e1ff0e9922b",
   "metadata": {},
   "source": [
    "## Perplexity\n",
    "\n",
    "https://python.langchain.com/docs/integrations/chat/perplexity/\n",
    "\n",
    "- sonar-deep-research\n",
    "- sonar-reasoning-pro\n",
    "- sonar-reasoning\n",
    "- sonar-pro\n",
    "- sonar\t128k\n",
    "- r1-1776"
   ]
  },
  {
   "cell_type": "code",
   "execution_count": null,
   "id": "c25edc99-6ffa-4e43-9e91-ac02c6520db6",
   "metadata": {},
   "outputs": [],
   "source": [
    "messages = [\n",
    "    {\n",
    "        \"role\": \"system\",\n",
    "        \"content\": (\n",
    "            \"You are an AI assistant that focuses on equity market analysis and you need to \"\n",
    "            \"engage in an accurate, comprehensive, helpful and  polite conversation with a user.\"\n",
    "        ),\n",
    "    },\n",
    "    {  \n",
    "        \"role\": \"user\",\n",
    "        \"content\": (\n",
    "            \"Find the SKU number of Carslan Lasting Cover Foundation N01\"\n",
    "        ),\n",
    "\n",
    "    },\n",
    "\n",
    "]\n",
    "\n",
    "client = OpenAI(api_key=os.environ['PERPLEXITY_API_KEY'], base_url=\"https://api.perplexity.ai\")\n",
    "\n",
    "# response = client.chat.completions.create(\n",
    "#     model=\"sonar-deep-research\",\n",
    "#     messages=messages,\n",
    "# )\n",
    "\n",
    "# print(response)"
   ]
  },
  {
   "cell_type": "code",
   "execution_count": null,
   "id": "a1c30fd1-cc54-4241-9c5e-10cbab07954c",
   "metadata": {},
   "outputs": [],
   "source": [
    "# print(response.choices[0].message.content)"
   ]
  },
  {
   "cell_type": "markdown",
   "id": "112e0823-caba-4813-9566-eb21f5c71e5d",
   "metadata": {},
   "source": [
    "- Langchain modification"
   ]
  },
  {
   "cell_type": "code",
   "execution_count": 19,
   "id": "e00f868a-190f-483b-b7ec-70156545370a",
   "metadata": {},
   "outputs": [],
   "source": [
    "from langchain_core.messages import SystemMessage, HumanMessage\n",
    "\n",
    "\n",
    "@chain\n",
    "def prompt_template_2_messages(chat_prompt):\n",
    "\n",
    "    output_messages = []\n",
    "     \n",
    "    _messages = chat_prompt.messages\n",
    "\n",
    "    for message in _messages:\n",
    "        if isinstance(message, SystemMessage):\n",
    "            output_messages.append({\"role\": \"system\", \"content\": message.content})\n",
    "        if isinstance(message, HumanMessage):\n",
    "            output_messages.append({\"role\": \"user\", \"content\": message.content})\n",
    "\n",
    "    return output_messages\n",
    "\n",
    "\n",
    "@chain\n",
    "def messages_2_perplexity(messages):\n",
    "\n",
    "    client = OpenAI(api_key=os.environ['PERPLEXITY_API_KEY'], base_url=\"https://api.perplexity.ai\")\n",
    "\n",
    "    response = client.chat.completions.create(\n",
    "        model=\"sonar-deep-research\",\n",
    "        messages=messages\n",
    "    )\n",
    "\n",
    "    content = response.choices[0].message.content\n",
    "    citations = response.citations\n",
    "\n",
    "    return {\"content\": content,\n",
    "            \"citations\": citations}"
   ]
  },
  {
   "cell_type": "code",
   "execution_count": 20,
   "id": "b37e0865-ae3b-4f8e-86a5-bf48c7ce1d69",
   "metadata": {},
   "outputs": [],
   "source": [
    "system_prompt = PromptTemplate(template=(\"You are an AI assistant that focuses on equity market analysis and you need to \"\n",
    "                                \"engage in an accurate, comprehensive, helpful and  polite conversation with a user.\"\n",
    "                               ))\n",
    "system_message = SystemMessagePromptTemplate(prompt=system_prompt)\n",
    "\n",
    "human_prompt = PromptTemplate(template=\"find out the report earnings of Bloomberg ticker {ticker}\",\n",
    "                              input_variable=[\"ticker\"])\n",
    "human_message = HumanMessagePromptTemplate(prompt=human_prompt)\n",
    "\n",
    "chat_prompt_perplexity = ChatPromptTemplate.from_messages([system_message,\n",
    "                                                           human_message\n",
    "                                                           ])"
   ]
  },
  {
   "cell_type": "code",
   "execution_count": 21,
   "id": "b3f6b9d4-628a-429d-a0ee-b37b6dccac57",
   "metadata": {},
   "outputs": [],
   "source": [
    "pipeline_perplexity = chat_prompt_perplexity|prompt_template_2_messages|messages_2_perplexity"
   ]
  },
  {
   "cell_type": "code",
   "execution_count": 22,
   "id": "71050698-0f85-455c-942e-9887ec738d87",
   "metadata": {},
   "outputs": [
    {
     "data": {
      "text/plain": [
       "{'content': '<think>\\nWe are given a query: \"find out the report earnings of Bloomberg ticker 2382 HK\"\\n The ticker 2382 HK refers to Sunny Optical Technology (Group) Company Limited, listed on the Hong Kong Stock Exchange.\\n\\n We have multiple search results that provide earnings information for this company.\\n\\n Steps:\\n 1. Identify the most recent earnings reports from the search results.\\n 2. Extract the earnings per share (EPS) and net profit figures for the latest reported periods.\\n 3. Note that the company reports in RMB (Chinese Yuan) and sometimes in HKD (Hong Kong Dollars). We must be cautious of the currency.\\n\\n From the search results:\\n\\n [1] This is a report dated 10 Mar 2022. It provides historical earnings up to FY21E and forecasts for FY22E and FY23E. However, this is outdated.\\n\\n [2] This is a company profile from MarketScreener. It provides financials for 2025 and 2026 (projections). The table shows net sales and net income in billions (presumably CNY). For 2025*, net income is 3.39B CNY and for 2026* it is 4.07B CNY. But these are projections and not actual reported earnings.\\n\\n [3] Digrin provides earnings and revenue for Sunny Optical (2382.HK). The yearly earnings table shows:\\n     2023: Earnings = 1.1 billion CNY, Revenue = 31.7 billion CNY\\n     2022: Earnings = 2.4 billion CNY, Revenue = 33.2 billion CNY\\n     2021: Earnings = 5.0 billion CNY, Revenue = 37.5 billion CNY\\n     2020: Earnings = 4.9 billion CNY, Revenue = 38.0 billion CNY\\n\\n     Also, the quarterly earnings for 2024Q2: Earnings = 539.5 million CNY, Revenue = 9.4 billion CNY.\\n\\n     However, note that the report is dated 2024-01-01, so the 2024Q2 data is for the second quarter of 2024.\\n\\n [4] This is a PDF report from CMBIGM dated 2025-02-13. It states:\\n     \"Sunny pre-announced net profit of RMB 2.64bn-2.75bn for 2024, up 140-150% YoY, with mid-point beating our/Bloomberg consensus estimates by ...\"\\n\\n     This is for the full year 2024. The mid-point is RMB 2.695 billion.\\n\\n     The earnings summary table in the report shows:\\n        FY24E: Net profit (RMB mn) = 2,714.0 (which is 2.714 billion CNY)\\n        FY23A: Net profit = 1,099.4 (million CNY) [which is 1.0994 billion CNY]\\n\\n [5] This is the HKEX company page, which doesn\\'t provide specific earnings data.\\n\\n [6] TradingView provides financial data. For the last semiannual (H2 2024), it reports:\\n     EPS = 1.59 HKD, and revenue = 20.68 B HKD.\\n     Also, it states that the estimated EPS for the next semiannual is 1.45 HKD and revenue 21.85 B HKD.\\n\\n [7] This is another PDF from CMBIGM, but the date is not clear. It provides estimates for FY23E and FY24E. However, we have more recent data.\\n\\n [8] Investing.com provides a table of earnings releases. The most recent release for December 2024 (which is for the full year 2024 or the fourth quarter) shows:\\n     Release Date: 12/2024\\n     EPS: 1.49 (actual) vs. forecast 1.52 -> actual is 1.49 (in HKD? The table says \"All numbers in\" but doesn\\'t specify currency. However, the company reports in CNY, so we must check).\\n\\n     But note: the table header says \"EPS\" and \"Revenue\" without currency. Looking at the numbers, the revenue for 12/2024 is 19.43B (which is 19.43 billion) and the forecast was 21.7B.\\n\\n     However, in the context of the company, the earnings are typically in CNY. But the stock is traded in HKD, so sometimes figures are converted.\\n\\n [9] This is a PDF report from CMBIGM dated 2024-08-22. It provides an earnings summary for FY24E with net profit of RMB 2,452.4 million (2.45 billion CNY). However, this is an estimate and we have a more recent pre-announcement.\\n\\n [10] This is a report from Bocom dated 2019, which is too old.\\n\\n [11] This is about an ETF holding Sunny Optical. It doesn\\'t provide earnings.\\n\\n [12] This is the annual results announcement for 2024 from the company, dated 2025-03-24. It is the official report.\\n\\n     Consolidated Statement of Profit or Loss for the year ended 31 December 2024:\\n        Revenue: 38,294,491,000 RMB (38.29 billion RMB)\\n        Gross profit: 7,006,033,000 RMB (7.01 billion RMB)\\n        Profit for the year: 2,777,024,000 RMB (2.78 billion RMB)\\n\\n     This is the audited figure for 2024.\\n\\n [13] TradingView\\'s income statement for the last semiannual (H2 2024) shows:\\n        Total revenue: 21.08 B HKD (which is about 19.3 billion RMB at current exchange rate? We must be cautious of currency)\\n        Net income: 1.76 B HKD.\\n\\n     But the official report [12] is in RMB and for the full year.\\n\\n [14] TipRanks provides earnings dates and EPS figures. For the report on March 25, 2025 (which is for 2024 Q4), the forecast EPS was 0.652 and the actual was 0.94 (last year\\'s EPS). However, the table is a bit confusing because it says \"Forecast / EPS\" and then \"Last Year\\'s EPS\". But the row for Mar 25, 2025 says:\\n        Fiscal Quarter: 2024 (Q4)\\n        Forecast / EPS: 0.652\\n        Last Year\\'s EPS: 144.26% (+0.94)\\n\\n     This seems to indicate that the actual EPS for 2024 Q4 was 0.652? But the percentage change is 144.26% and the absolute change is +0.94? This is unclear.\\n\\n [15] This is a news article about the 2023 annual results. It states for 2023:\\n        Revenue: RMB 31.68 billion\\n        Gross profit: RMB 4.59 billion\\n        Profit for the year: RMB 1.10 billion\\n        EPS: RMB 100.7 cents (which is RMB 1.007 per share)\\n\\n [16] This is a report from CMBIGM dated 2025-03-26. It states:\\n        \"Sunny\\'s FY24 revenue/NP growth of 21%/146% YoY was largely in-line with its prior profit alert\"\\n        It provides a table with FY24 net profit of RMB 2,699.2 million (2.70 billion CNY).\\n\\n        The official report [12] has a profit for the year of 2,777,024,000 RMB (2.78 billion). There\\'s a slight discrepancy.\\n\\n        The report also states: \"FY24 earnings growth of 146% YoY\" and that the GPM improved.\\n\\n        It also provides an earnings summary table:\\n            FY24: Net profit (RMB mn) = 2,699.2\\n            FY23: 1,099.4\\n\\n        This matches the growth of 146% (from 1,099.4 to 2,699.2 is about 145.5%).\\n\\n        However, the official report [12] has 2,777,024,000 RMB for 2024. Why the difference?\\n\\n        Note: The official report [12] says \"Profit for the year\" is 2,777,024,000 RMB. The CMBIGM report might be using a different measure (like net profit attributable to owners?).\\n\\n        In the official report [12], note 8: \"Profit for the year\" is 2,777,024,000 RMB, and then it breaks down the profit attributable to owners of the company and non-controlling interests. The note says:\\n            \"Profit for the year attributable to: Owners of the Company: 2,777,024,000 (2023: 1,150,323,000)\"\\n\\n        So the entire profit is attributable to the owners. Therefore, the official net profit is 2.78 billion RMB.\\n\\n        The CMBIGM report might have a typo or use a different definition? But they cite the company data.\\n\\n        Alternatively, the CMBIGM report might be using a different number (like net profit after tax but before non-controlling interests?).\\n\\n        Given the official source, we rely on [12].\\n\\n Conclusion:\\n\\n The most recent reported earnings are for the full year 2024, as per the official annual results [12]:\\n    Revenue: 38,294,491,000 RMB (approximately 38.29 billion RMB)\\n    Net profit (profit for the year): 2,777,024,000 RMB (approximately 2.78 billion RMB)\\n\\n For earnings per share (EPS), the official report [12] states:\\n    \"Basic earnings per share (RMB cents): 253.5 cents\" (which is 2.535 RMB per share) for the year 2024.\\n\\n    Note: The report says: \"Basic earnings per share for the year ended 31 December 2024 was RMB253.5 cents (2023: RMB105.2 cents).\"\\n\\n    So the EPS for 2024 is 2.535 RMB per share.\\n\\n However, note that the company also reports in HKD. The stock trades in HKD. The conversion rate fluctuates.\\n\\n But the query asks for \"report earnings\". This typically refers to the net profit (or net income) and the earnings per share.\\n\\n We will present:\\n   - The latest reported period: Full Year 2024 (ended 31 December 2024)\\n   - Revenue and Net Profit (in RMB)\\n   - Earnings per share (in RMB)\\n\\n Additionally, we can note the growth compared to the previous year.\\n\\n According to the official report [12]:\\n   - Revenue for 2024: 38.29 billion RMB, which is an increase of 20.9% from 2023 (31.68 billion RMB) [15].\\n   - Net profit for 2024: 2.78 billion RMB, which is an increase of 141.4% from 2023 (1.15 billion RMB) [12][15].\\n\\n However, the growth in net profit is calculated as (2,777,024 - 1,150,323) / 1,150,323 * 100% = 141.4%.\\n\\n But note: the company\\'s pre-announcement [4] had expected 140-150% growth, so this is within that range.\\n\\n Therefore, the report earnings for Bloomberg ticker 2382 HK for the year 2024 are:\\n   Revenue: 38.29 billion RMB\\n   Net profit: 2.78 billion RMB\\n   EPS: 2.535 RMB per share (basic)\\n\\n We also note that the company reports semiannually. The latest semiannual report would be for the second half of 2024. However, the full year report is more comprehensive and is the most recent.\\n\\n If the query is about the very latest report (which is the full year 2024), we provide the above.\\n\\n However, note that there might be more recent quarterly reports in 2025? But the current date is July 2, 2025. The next report (for the first half of 2025) is not yet available in the search results.\\n\\n According to [14], the next report date is August 26, 2025 (for 2025 Q2). So the latest available report is the full year 2024.\\n\\n We will write the report accordingly.\\n</think>\\n### Report on Earnings of Sunny Optical Technology (Group) Co. Ltd. (Bloomberg Ticker: 2382 HK)  \\n\\nSunny Optical Technology (Group) Co. Ltd. (2382.HK), a leading global manufacturer of optical and optoelectronic products, has demonstrated significant financial volatility in recent years. This report synthesizes earnings data from Q4 2022 through FY2024, analyzing revenue, net profit, EPS trends, and key performance drivers. All figures are in RMB unless otherwise specified.  \\n\\n#### **1. Historical Earnings Performance (2020–2023)**  \\nSunny Optical\\'s earnings reflect cyclical demand in smartphone and automotive optics. Key takeaways include:  \\n- **FY2020–2021**: Peak performance with net profits of RMB 4.9B (2020) and RMB 5.0B (2021), driven by robust smartphone lens demand[3][15].  \\n- **FY2022–2023**: Severe downturns due to Android market saturation and iPhone SE competition. Net profit plunged 51.8% YoY in 2022 (RMB 2.41B) and 54.3% in 2023 (RMB 1.10B)[3][15]. Gross profit margins contracted from 21.7% (2021) to 14.5% (2023)[15][16].  \\n- **Quarterly Volatility**: Q4 2023 EPS fell 67.3% YoY to RMB 0.33, while revenue dropped 46.4% to RMB 9.57B[8][14].  \\n\\n#### **2. FY2024 Earnings Recovery**  \\nFY2024 marked a strong rebound, with preliminary results indicating:  \\n- **Net Profit**: RMB 2.64B–2.75B (up 140–150% YoY), exceeding consensus estimates[4][16]. Final audited results confirmed RMB 2.78B net profit[12].  \\n- **Revenue**: RMB 38.29B (up 20.9% YoY), fueled by smartphone sensor upgrades, automotive lens demand, and XR (extended reality) modules[12][16].  \\n- **Margin Expansion**: Gross profit margin improved to 18.3% (from 14.5% in 2023) due to higher-value product mix[16].  \\n- **Segment Breakdown**:  \\n  - Smartphone optics (HLS/HCM): +20% YoY.  \\n  - Automotive lenses: +14% YoY.  \\n  - XR modules: +38% YoY[16].  \\n\\n#### **3. H1 2025 Performance and Forecasts**  \\n- **H1 2025**: Revenue reached RMB 21.08B (HKD 20.68B), with net income of RMB 1.76B (HKD 1.59 EPS)[6][13]. This represents a 3.2% sequential revenue growth.  \\n- **FY2025 Guidance**: Management projects:  \\n  - Smartphone lens shipments: +5% YoY, with ASP growth boosting GPM to 25–30%.  \\n  - Automotive revenue: +20% YoY, supported by ADAS adoption[16].  \\n- **Consensus Estimates**: FY2025 net profit of RMB 3.42B (EPS: RMB 3.13) and FY2026 net profit of RMB 4.03B (EPS: RMB 3.70)[4][9].  \\n\\n#### **4. Earnings Drivers and Risks**  \\n- **Catalysts**:  \\n  - **AI Integration**: Rising demand for high-end smartphone lenses (e.g., periscope cameras) and AI-driven automotive LiDAR[16].  \\n  - **Market Position**: Global leadership in vehicle cameras (16.7% of 2023 revenue)[15].  \\n- **Risks**:  \\n  - **Pricing Pressure**: Intense competition in mid-range smartphone optics.  \\n  - **Supply Chain**: Semiconductor shortages impacting automotive segment[16].  \\n\\n#### **5. Valuation and Analyst Sentiment**  \\n- **Valuation Metrics**:  \\n  - FY2024 P/E: 28.9x (CMBIGM) and 33.4x (Bloomberg consensus)[4][16].  \\n  - Target Price: HK$101.47 (CMBIGM, March 2025), implying 30.3x FY2025E P/E[16].  \\n- **Analyst Ratings**: 37 analysts cover 2382.HK, with a mean \"Buy\" rating. The average target price is HK$86.65 (36.9% upside from June 2025 closing price of HK$69.35)[2][14].  \\n\\n#### **6. Dividend Policy**  \\nSunny Optical maintains a conservative payout:  \\n- **FY2023**: Dividend per share (DPS) of HKD 0.22 (payout ratio: 12.4%)[3].  \\n- **FY2024**: Expected DPS of HKD 0.32 (1.6% yield), aligning with net profit growth[4].  \\n\\n#### **Conclusion**  \\nSunny Optical’s earnings have pivoted from a 2022–2023 downturn to a robust FY2024 recovery, with net profit surging 146% YoY. The company’s focus on premium smartphone lenses, automotive optics, and XR technologies positions it for sustained growth. Near-term headwinds include Android market volatility, but long-term drivers (AI, ADAS) underpin a positive outlook. Analysts project 20%+ net profit growth through FY2026, supporting higher valuations. Investors should monitor Q3 2025 smartphone shipment data and automotive ASP trends for confirmation of guidance.  \\n\\n---  \\n**Sources**:  \\n[1] CMBIGM Report (Mar 2022)  \\n[2] MarketScreener (2025)  \\n[3] Digrin (2024)  \\n[4] CMBIGM Report (Feb 2025)  \\n[6] TradingView (H2 2024)  \\n[8] Investing.com (2025)  \\n[12] HKEX Annual Report (Mar 2025)  \\n[13] TradingView Income Statement (2025)  \\n[14] TipRanks (2025)  \\n[15] Marketscreener News (Mar 2024)  \\n[16] CMBIGM Report (Mar 2025)',\n",
       " 'citations': ['https://pdf.dfcfw.com/pdf/H3_AP202203101551732464_1.pdf',\n",
       "  'https://www.marketscreener.com/quote/stock/SUNNY-OPTICAL-TECHNOLOGY--1412623/',\n",
       "  'https://www.digrin.com/stocks/detail/2382.HK/earnings',\n",
       "  'https://www.cmbi.com.hk/upload/202502/20250213112962.pdf',\n",
       "  'https://www.hkex.com.hk/Market-Data/Securities-Prices/Equities/Equities-Quote?sym=2382&sc_lang=en',\n",
       "  'https://www.tradingview.com/symbols/HKEX-2382/financials-earnings/',\n",
       "  'https://hk-official.cmbi.info/upload/b5d0b047-fd0b-41ae-9c5c-8a22d89c1782.pdf',\n",
       "  'https://www.investing.com/equities/sunny-optical-hk-earnings',\n",
       "  'https://hk-official.cmbi.info/upload/18e8e51b-8090-402a-8e85-c5b43214e343.pdf',\n",
       "  'https://files.bocomgroup.com/download/2382_HK-190620e.pdf',\n",
       "  'https://www.invesco.com/us/financial-products/etfs/product-detail?audienceType=Institutional&ticker=CQQQ',\n",
       "  'https://www1.hkexnews.hk/listedco/listconews/sehk/2025/0324/2025032400848.pdf',\n",
       "  'https://www.tradingview.com/symbols/HKEX-2382/financials-income-statement/',\n",
       "  'https://www.tipranks.com/stocks/hk:2382/earnings',\n",
       "  'https://www.marketscreener.com/quote/stock/SUNNY-OPTICAL-TECHNOLOGY--1412623/news/Sunny-Optical-Technology-Announces-2023-Annual-Results-Mar-20-2024-46242488/',\n",
       "  'https://www.cmbi.com.hk/upload/202503/20250326650212.pdf']}"
      ]
     },
     "execution_count": 22,
     "metadata": {},
     "output_type": "execute_result"
    }
   ],
   "source": [
    "pipeline_perplexity.invoke({\"ticker\": '2382 HK'})"
   ]
  },
  {
   "cell_type": "markdown",
   "id": "03baefee-1af2-4220-89b4-65f23bdcefc3",
   "metadata": {},
   "source": [
    "## DeepSeek"
   ]
  },
  {
   "cell_type": "code",
   "execution_count": null,
   "id": "760b5173-6f0e-4a7a-9ef5-5a2e2ab39636",
   "metadata": {},
   "outputs": [],
   "source": [
    "from langchain_deepseek import ChatDeepSeek"
   ]
  },
  {
   "cell_type": "code",
   "execution_count": null,
   "id": "c65a299b-5cf7-4a2f-8606-557deb17509e",
   "metadata": {},
   "outputs": [],
   "source": [
    "deepseek_r1 = ChatDeepSeek(api_key=os.environ['DEEPSEEK_API_KEY'], temperature=0, model='deepseek-reasoner')\n",
    "\n",
    "system_template = \"You are a helpful assistant.\"\n",
    "human_template = \"Create a financial report of {ticker} based on:\\n {context}\"\n",
    "\n",
    "input_ = {\"system\": {\"template\": system_template},\n",
    "          \"human\": {\"template\": human_template,\n",
    "                    \"input_variable\": [\"context\", \"ticker\"]}\n",
    "         }\n",
    "\n",
    "chat_prompt_deepseek = build_standard_chat_prompt_template(input_)\n",
    "\n",
    "pipeline_deepseek = chat_prompt_deepseek|deepseek_r1|output_parser"
   ]
  },
  {
   "cell_type": "markdown",
   "id": "71dbff48-5020-4317-b3ca-f2e555f7c681",
   "metadata": {},
   "source": [
    "## Combining the Deep Search of Perplexity and Reasoning of DeepSeek-R1 \n",
    "\n",
    "- Langchain Framework"
   ]
  },
  {
   "cell_type": "code",
   "execution_count": null,
   "id": "ec9c9b4a-2f28-43ec-b197-7528024992fc",
   "metadata": {},
   "outputs": [],
   "source": [
    "from operator import itemgetter\n",
    "\n",
    "final_pipeline = RunnablePassthrough.assign(context=pipeline_perplexity|itemgetter(\"content\"))|pipeline_deepseek"
   ]
  },
  {
   "cell_type": "markdown",
   "id": "cf63ea43-5036-4303-8a7d-12a961cd620a",
   "metadata": {},
   "source": [
    "# Types of Classification (分類類型)\n",
    "\n",
    "There are two main types (主要有兩種類型):\n",
    "\n",
    "- Sorting by feelings (Sentiment Classification)\n",
    "- Sorting by category (Category Classification)\n",
    "- 按感覺排序（情感分類）\n",
    "- 按類別排序（類別分類）\n",
    "\n",
    "## How it Works (工作原理):\n",
    "\n",
    "- We use a method called supervised learning. This means we have data and labels. Labels are like tags that tell us what the data is about. These labels are usually created by people who look at the data and decide what it means.\n",
    "- 我們使用一種稱為監督學習的方法。這意味著我們有數據和標籤。標籤告訴我們數據是什麼。這些標籤通常由查看數據並決定其含義的人創建。\n",
    "\n",
    "把每一組數據想像成是(題目，答案)的組合，靠著瘋狂刷題(大數據)來學習如何從題目得到答案。\n",
    "Aka: 填鴨式教育。填鴨其實不差，起碼鴨會肥。\n",
    "\n",
    "## Challenges\n",
    "\n",
    "- It takes a long time.\n",
    "- It's not always done the same way by different people.\n",
    "- It's expensive.\n",
    "- Training the model often needs renting cloud services like AWS or Azure.\n",
    "- Using these cloud services for running the model also costs a lot.\n",
    "- 耗時： 標記數據需要很長時間。\n",
    "- 不一致： 不同的人可能會以不同的方式標記相同的數據。\n",
    "- 昂貴： 該過程成本高昂。\n",
    "- 資源密集型： 訓練模型通常需要租用雲服務，如 AWS 或 Azure。\n",
    "- 運營成本： 使用這些雲服務運行模型的成本也很高。\n",
    "\n",
    "## Can we mimic supervised learning classification with LLM (我們能否用大型語言模型模仿監督學習分類)?\n",
    "\n",
    "- Yes, we can use large language models (LLMs) to mimic supervised learning classification. LLMs, like GPT-3 or GPT-4, can be trained to understand and generate human-like text. They can be fine-tuned on specific tasks, such as classification, without the need for extensive labeled datasets.\n",
    "- 是的，我們可以使用大型語言模型（LLM）來模仿監督學習分類。像 GPT-3 或 GPT-4 這樣的 LLM 可以被訓練來理解和生成類似人類的文本。它們可以針對特定任務進行微調，例如分類，而不需要大量標記數據集。"
   ]
  },
  {
   "cell_type": "markdown",
   "id": "de87a279-4a17-4717-b28e-ff5e33620d00",
   "metadata": {},
   "source": [
    "## Zero-Shot"
   ]
  },
  {
   "cell_type": "code",
   "execution_count": 23,
   "id": "867fe6b6-3106-4e23-8402-31f47a463ec9",
   "metadata": {},
   "outputs": [
    {
     "data": {
      "text/html": [
       "<img src=\"https://substackcdn.com/image/fetch/w_1456,c_limit,f_auto,q_auto:good,fl_progressive:steep/https%3A%2F%2Fsubstack-post-media.s3.amazonaws.com%2Fpublic%2Fimages%2Fb157d0e9-d18e-4835-a601-edeb011f0ee6_721x247.png\"/>"
      ],
      "text/plain": [
       "<IPython.core.display.Image object>"
      ]
     },
     "execution_count": 23,
     "metadata": {},
     "output_type": "execute_result"
    }
   ],
   "source": [
    "from IPython.display import Image\n",
    "\n",
    "Image(url=\"https://substackcdn.com/image/fetch/w_1456,c_limit,f_auto,q_auto:good,fl_progressive:steep/https%3A%2F%2Fsubstack-post-media.s3.amazonaws.com%2Fpublic%2Fimages%2Fb157d0e9-d18e-4835-a601-edeb011f0ee6_721x247.png\")"
   ]
  },
  {
   "cell_type": "markdown",
   "id": "ec345b68-b69a-4b88-8147-879fd2e59f00",
   "metadata": {},
   "source": [
    "## 飛安事故原因分類"
   ]
  },
  {
   "cell_type": "code",
   "execution_count": 24,
   "id": "c3a6e3e2-ba20-4906-81f3-676cdc717079",
   "metadata": {},
   "outputs": [],
   "source": [
    "import pandas as pd\n",
    "\n",
    "df = pd.read_excel(os.path.join(get_project_dir(), 'tutorial', 'LLM+Langchain', 'Week-3', 'Data sample.xlsx'))"
   ]
  },
  {
   "cell_type": "code",
   "execution_count": 25,
   "id": "cfa789d2-2421-4715-95a7-c7bd9ddd1d09",
   "metadata": {
    "tags": []
   },
   "outputs": [
    {
     "data": {
      "text/html": [
       "<div>\n",
       "<style scoped>\n",
       "    .dataframe tbody tr th:only-of-type {\n",
       "        vertical-align: middle;\n",
       "    }\n",
       "\n",
       "    .dataframe tbody tr th {\n",
       "        vertical-align: top;\n",
       "    }\n",
       "\n",
       "    .dataframe thead th {\n",
       "        text-align: right;\n",
       "    }\n",
       "</style>\n",
       "<table border=\"1\" class=\"dataframe\">\n",
       "  <thead>\n",
       "    <tr style=\"text-align: right;\">\n",
       "      <th></th>\n",
       "      <th></th>\n",
       "      <th>Time</th>\n",
       "      <th>Time.1</th>\n",
       "      <th>Place</th>\n",
       "      <th>Place.1</th>\n",
       "      <th>Place.2</th>\n",
       "      <th>Place.3</th>\n",
       "      <th>Place.4</th>\n",
       "      <th>Place.5</th>\n",
       "      <th>Place.6</th>\n",
       "      <th>...</th>\n",
       "      <th>Events.3</th>\n",
       "      <th>Events.4</th>\n",
       "      <th>Events.5</th>\n",
       "      <th>Assessments</th>\n",
       "      <th>Assessments.1</th>\n",
       "      <th>Report 1</th>\n",
       "      <th>Report 1.1</th>\n",
       "      <th>Report 2</th>\n",
       "      <th>Report 2.1</th>\n",
       "      <th>Report 1.2</th>\n",
       "    </tr>\n",
       "  </thead>\n",
       "  <tbody>\n",
       "    <tr>\n",
       "      <th>0</th>\n",
       "      <td>ACN</td>\n",
       "      <td>Date</td>\n",
       "      <td>Local Time Of Day</td>\n",
       "      <td>Locale Reference</td>\n",
       "      <td>State Reference</td>\n",
       "      <td>Relative Position.Angle.Radial</td>\n",
       "      <td>Relative Position.Distance.Nautical Miles</td>\n",
       "      <td>Altitude.AGL.Single Value</td>\n",
       "      <td>Altitude.MSL.Single Value</td>\n",
       "      <td>Latitude / Longitude (UAS)</td>\n",
       "      <td>...</td>\n",
       "      <td>Detector</td>\n",
       "      <td>When Detected</td>\n",
       "      <td>Result</td>\n",
       "      <td>Contributing Factors / Situations</td>\n",
       "      <td>Primary Problem</td>\n",
       "      <td>Narrative</td>\n",
       "      <td>Callback</td>\n",
       "      <td>Narrative</td>\n",
       "      <td>Callback</td>\n",
       "      <td>Synopsis</td>\n",
       "    </tr>\n",
       "    <tr>\n",
       "      <th>1</th>\n",
       "      <td>NaN</td>\n",
       "      <td>NaN</td>\n",
       "      <td>NaN</td>\n",
       "      <td>NaN</td>\n",
       "      <td>NaN</td>\n",
       "      <td>NaN</td>\n",
       "      <td>NaN</td>\n",
       "      <td>NaN</td>\n",
       "      <td>NaN</td>\n",
       "      <td>NaN</td>\n",
       "      <td>...</td>\n",
       "      <td>NaN</td>\n",
       "      <td>NaN</td>\n",
       "      <td>NaN</td>\n",
       "      <td>NaN</td>\n",
       "      <td>NaN</td>\n",
       "      <td>NaN</td>\n",
       "      <td>NaN</td>\n",
       "      <td>NaN</td>\n",
       "      <td>NaN</td>\n",
       "      <td>NaN</td>\n",
       "    </tr>\n",
       "    <tr>\n",
       "      <th>2</th>\n",
       "      <td>1714708</td>\n",
       "      <td>202001</td>\n",
       "      <td>0601-1200</td>\n",
       "      <td>ZZZ.Airport</td>\n",
       "      <td>US</td>\n",
       "      <td>NaN</td>\n",
       "      <td>NaN</td>\n",
       "      <td>0</td>\n",
       "      <td>NaN</td>\n",
       "      <td>NaN</td>\n",
       "      <td>...</td>\n",
       "      <td>Person Dispatch</td>\n",
       "      <td>In-flight</td>\n",
       "      <td>General None Reported / Taken</td>\n",
       "      <td>Procedure; Logbook Entry; Human Factors</td>\n",
       "      <td>Ambiguous</td>\n",
       "      <td>I had a ferry flight that went out of service ...</td>\n",
       "      <td>NaN</td>\n",
       "      <td>We departed ZZZ ferrying an un-airworthy aircr...</td>\n",
       "      <td>NaN</td>\n",
       "      <td>Air carrier Dispatcher and flight crew reporte...</td>\n",
       "    </tr>\n",
       "    <tr>\n",
       "      <th>3</th>\n",
       "      <td>1715238</td>\n",
       "      <td>202001</td>\n",
       "      <td>0001-0600</td>\n",
       "      <td>L30.TRACON</td>\n",
       "      <td>NV</td>\n",
       "      <td>NaN</td>\n",
       "      <td>NaN</td>\n",
       "      <td>NaN</td>\n",
       "      <td>5000</td>\n",
       "      <td>NaN</td>\n",
       "      <td>...</td>\n",
       "      <td>Person Air Traffic Control</td>\n",
       "      <td>In-flight</td>\n",
       "      <td>Air Traffic Control Issued New Clearance</td>\n",
       "      <td>Airspace Structure; Human Factors</td>\n",
       "      <td>Human Factors</td>\n",
       "      <td>Aircraft X was inbound to the airport from the...</td>\n",
       "      <td>NaN</td>\n",
       "      <td>NaN</td>\n",
       "      <td>NaN</td>\n",
       "      <td>L30 TRACON Controller reported they issued VFR...</td>\n",
       "    </tr>\n",
       "    <tr>\n",
       "      <th>4</th>\n",
       "      <td>1715405</td>\n",
       "      <td>202001</td>\n",
       "      <td>1201-1800</td>\n",
       "      <td>ZZZ.Airport</td>\n",
       "      <td>US</td>\n",
       "      <td>NaN</td>\n",
       "      <td>NaN</td>\n",
       "      <td>NaN</td>\n",
       "      <td>3000</td>\n",
       "      <td>NaN</td>\n",
       "      <td>...</td>\n",
       "      <td>Automation Air Traffic Control; Person Air Tra...</td>\n",
       "      <td>In-flight</td>\n",
       "      <td>Air Traffic Control Issued Advisory / Alert; F...</td>\n",
       "      <td>Weather; Human Factors</td>\n",
       "      <td>Human Factors</td>\n",
       "      <td>Approaching ZZZ at about XA:55. ATIS indicated...</td>\n",
       "      <td>NaN</td>\n",
       "      <td>NaN</td>\n",
       "      <td>NaN</td>\n",
       "      <td>EMB-505 flight crew received a low altitude al...</td>\n",
       "    </tr>\n",
       "  </tbody>\n",
       "</table>\n",
       "<p>5 rows × 125 columns</p>\n",
       "</div>"
      ],
      "text/plain": [
       "              Time             Time.1             Place          Place.1  \\\n",
       "0      ACN    Date  Local Time Of Day  Locale Reference  State Reference   \n",
       "1      NaN     NaN                NaN               NaN              NaN   \n",
       "2  1714708  202001          0601-1200       ZZZ.Airport               US   \n",
       "3  1715238  202001          0001-0600        L30.TRACON               NV   \n",
       "4  1715405  202001          1201-1800       ZZZ.Airport               US   \n",
       "\n",
       "                          Place.2                                    Place.3  \\\n",
       "0  Relative Position.Angle.Radial  Relative Position.Distance.Nautical Miles   \n",
       "1                             NaN                                        NaN   \n",
       "2                             NaN                                        NaN   \n",
       "3                             NaN                                        NaN   \n",
       "4                             NaN                                        NaN   \n",
       "\n",
       "                     Place.4                    Place.5  \\\n",
       "0  Altitude.AGL.Single Value  Altitude.MSL.Single Value   \n",
       "1                        NaN                        NaN   \n",
       "2                          0                        NaN   \n",
       "3                        NaN                       5000   \n",
       "4                        NaN                       3000   \n",
       "\n",
       "                      Place.6  ...  \\\n",
       "0  Latitude / Longitude (UAS)  ...   \n",
       "1                         NaN  ...   \n",
       "2                         NaN  ...   \n",
       "3                         NaN  ...   \n",
       "4                         NaN  ...   \n",
       "\n",
       "                                            Events.3       Events.4  \\\n",
       "0                                           Detector  When Detected   \n",
       "1                                                NaN            NaN   \n",
       "2                                    Person Dispatch      In-flight   \n",
       "3                         Person Air Traffic Control      In-flight   \n",
       "4  Automation Air Traffic Control; Person Air Tra...      In-flight   \n",
       "\n",
       "                                            Events.5  \\\n",
       "0                                             Result   \n",
       "1                                                NaN   \n",
       "2                      General None Reported / Taken   \n",
       "3           Air Traffic Control Issued New Clearance   \n",
       "4  Air Traffic Control Issued Advisory / Alert; F...   \n",
       "\n",
       "                               Assessments    Assessments.1  \\\n",
       "0        Contributing Factors / Situations  Primary Problem   \n",
       "1                                      NaN              NaN   \n",
       "2  Procedure; Logbook Entry; Human Factors        Ambiguous   \n",
       "3        Airspace Structure; Human Factors    Human Factors   \n",
       "4                   Weather; Human Factors    Human Factors   \n",
       "\n",
       "                                            Report 1 Report 1.1  \\\n",
       "0                                          Narrative   Callback   \n",
       "1                                                NaN        NaN   \n",
       "2  I had a ferry flight that went out of service ...        NaN   \n",
       "3  Aircraft X was inbound to the airport from the...        NaN   \n",
       "4  Approaching ZZZ at about XA:55. ATIS indicated...        NaN   \n",
       "\n",
       "                                            Report 2 Report 2.1  \\\n",
       "0                                          Narrative   Callback   \n",
       "1                                                NaN        NaN   \n",
       "2  We departed ZZZ ferrying an un-airworthy aircr...        NaN   \n",
       "3                                                NaN        NaN   \n",
       "4                                                NaN        NaN   \n",
       "\n",
       "                                          Report 1.2  \n",
       "0                                           Synopsis  \n",
       "1                                                NaN  \n",
       "2  Air carrier Dispatcher and flight crew reporte...  \n",
       "3  L30 TRACON Controller reported they issued VFR...  \n",
       "4  EMB-505 flight crew received a low altitude al...  \n",
       "\n",
       "[5 rows x 125 columns]"
      ]
     },
     "execution_count": 25,
     "metadata": {},
     "output_type": "execute_result"
    }
   ],
   "source": [
    "df.head(5)"
   ]
  },
  {
   "cell_type": "code",
   "execution_count": 26,
   "id": "a73f9adc-13ce-4c59-bf07-29095ec514ef",
   "metadata": {
    "tags": []
   },
   "outputs": [
    {
     "data": {
      "text/plain": [
       "                                                        1715871\n",
       "Time                                                     202001\n",
       "Time.1                                                0601-1200\n",
       "Place                                               ZZZ.Airport\n",
       "Place.1                                                      US\n",
       "                                    ...                        \n",
       "Report 1      This incident occurred shortly after XA:00 loc...\n",
       "Report 1.1                                                  NaN\n",
       "Report 2                                                    NaN\n",
       "Report 2.1                                                  NaN\n",
       "Report 1.2    C525 single pilot reported a runway excursion ...\n",
       "Name: 5, Length: 125, dtype: object"
      ]
     },
     "execution_count": 26,
     "metadata": {},
     "output_type": "execute_result"
    }
   ],
   "source": [
    "df.iloc[5]"
   ]
  },
  {
   "cell_type": "code",
   "execution_count": 27,
   "id": "4ef841a6-2cf9-4fe6-8ae5-bb8a54c21b1f",
   "metadata": {
    "tags": []
   },
   "outputs": [
    {
     "data": {
      "image/jpeg": "[encoded data removed]",
      "text/plain": [
       "<IPython.core.display.Image object>"
      ]
     },
     "execution_count": 27,
     "metadata": {},
     "output_type": "execute_result"
    }
   ],
   "source": [
    "from IPython.display import Image\n",
    "\n",
    "Image(filename= \"tutorial/LLM+Langchain/Week-3/HFACS_Org_Inf.jpg\")"
   ]
  },
  {
   "cell_type": "code",
   "execution_count": 28,
   "id": "7e09af75-31ad-4fb3-913f-b02fcedfe26d",
   "metadata": {
    "tags": []
   },
   "outputs": [],
   "source": [
    "system_template = \"\"\"\n",
    "                  You are an AI assistant assigned with a task of safty report \n",
    "                  classification based on the content. You are a seasoned \n",
    "                  flight safety inspector with deep and extensive knowledge of \n",
    "                  aviation safty. \n",
    "    \n",
    "                  You always do the best work you can. You are highly \n",
    "                  analytical and pay close attention to details. \n",
    "    \n",
    "                  The candidates of the output are:\n",
    "\n",
    "                  - `Organizational Influence;Resource Management`\n",
    "                  - `Organizational Influence;Organizational Climate`\n",
    "                  - `Organizational Influence;rganizational Process`\n",
    "                  - `Unsafe Supervisions;Inadequate Supervision`\n",
    "                  - `Unsafe Supervisions;Planned Inappropriate Operations`\n",
    "                  - `Unsafe Supervisions;Failed to Correct Problem`\n",
    "                  - `Unsafe Supervisions;Supervisory Violation`\n",
    "                  - `Precondition for Unsafe Acts;Environmental Factors;Physical Environment`\n",
    "                  - `Precondition for Unsafe Acts;Environmental Factors;Technological Environment`\n",
    "                  - `Precondition for Unsafe Acts;Condition of Operators;Adverse Mental State`\n",
    "                  - `Precondition for Unsafe Acts;Condition of Operators;Adverse Physiological State`\n",
    "                  - `Precondition for Unsafe Acts;Condition of Operators;Physical/Mental Limitations`\n",
    "                  - `Precondition for Unsafe Acts;Personnel Factors;Crew Resource Management`\n",
    "                  - `Precondition for Unsafe Acts;Personnel Factors;Personal Readiness`\n",
    "                  - `Unsafe Acts;Errors;Decision Errors`\n",
    "                  - `Unsafe Acts;Errors;Skill-Based Errors`\n",
    "                  - `Unsafe Acts;Errors;Perceptual Errors`\n",
    "                  - `Unsafe Acts;Violations;Routine`\n",
    "                  - `Unsafe Acts;Violations;Exceptional`\n",
    "            \n",
    "                 The output is from one of the candidates. \n",
    "                 \"\"\"\n",
    "\n",
    "human_template = \"{report}\"\n",
    "\n",
    "input_ = {\"system\": {\"template\": system_template},\n",
    "          \"human\": {\"template\": human_template,\n",
    "                    \"input_variable\": [\"report\"]}}\n",
    "\n",
    "chat_prompt_template = build_standard_chat_prompt_template(input_)\n",
    "\n",
    "pipeline_ = chat_prompt_template | model | StrOutputParser()"
   ]
  },
  {
   "cell_type": "code",
   "execution_count": 29,
   "id": "c79bcc3c-4baa-4aad-a0c3-403733c0f027",
   "metadata": {
    "tags": []
   },
   "outputs": [
    {
     "name": "stdout",
     "output_type": "stream",
     "text": [
      "Aircraft X was inbound to the airport from the southeast. Apparently the aircraft was on an IFR flight plan and I completely overlooked that information. It took the aircraft traveling about 10 miles inside my airspace before the pilot called and made first contact with me. When the pilot finally called me and told me he had the current ATIS I had asked the pilot which route he wanted to take inbound to North Las Vegas airport. Again, I failed to look at all the information in the data block and treated him as if he was VFR. When I asked the pilot which route he wanted and he was open to either route, I gave the aircraft a clearance through the Class Bravo airspace and assigned a heading of 270 with no altitude assigned. A minute or so later I asked the pilot if he was familiar with the local flying area and the surrounding terrain, and after he replied in the affirmative, I instructed the pilot to resume own navigation then fly heading 360.After I got that read back, I instructed the pilot to cross the airport at and maintain 5,000 feet. A few minutes later as he approached the airport from the southeast and was approximately 6 miles to the southeast and over a 6,300 Minimum Vectoring Altitude. I had noticed there were numerous VFR departures departing southbound, so I assigned a heading of 320 to stay away from the targets I saw departing. At this time the pilot had already begun his descent to comply with the VFR instructions that I had issued, and never mentioned that he was IFR. As stated before I didn't realize he was IFR. I had made a couple traffic calls regarding the departing aircraft who were not Radar identified, and at that time a Controller a few positions over mentioned the altitude of Aircraft X and that was the first time I noticed the data block and all the information that I initially missed indicating that he was in fact IFR. At that point The aircraft was already at 5,500 feet heading northwest bound, and it was at this point that I and the Supervisor talked about the aircraft and the situation at hand.I don't know that there are any recommendations or changes that can or should be made to prevent this from happening again in the future. I simply missed the information in the data block indicating that this aircraft was IFR. When I issued a Class Bravo clearance and all appropriate navigation and altitude instructions for a VFR aircraft, I had the expectation bias that the aircraft was indeed VFR when he accepted all the instructions and never questioned the clearance. I missed the indicators that he was on an IFR flight plan and there is nothing more to it and completely my fault and no one else's.\n"
     ]
    }
   ],
   "source": [
    "text = df.iloc[3]['Report 1']\n",
    "\n",
    "print(text)"
   ]
  },
  {
   "cell_type": "markdown",
   "id": "f1267429-92f8-468d-90fa-7fa990bba8ba",
   "metadata": {},
   "source": [
    "- Do you want to read it by yourself or do you want to outsource this to a machine?"
   ]
  },
  {
   "cell_type": "code",
   "execution_count": 30,
   "id": "f1701a49-6d3c-47a1-acde-40c7e4656832",
   "metadata": {},
   "outputs": [
    {
     "name": "stdout",
     "output_type": "stream",
     "text": [
      "`Unsafe Acts;Errors;Decision Errors`\n"
     ]
    }
   ],
   "source": [
    "output = pipeline_.invoke({\"report\": text})\n",
    "\n",
    "print(output)"
   ]
  },
  {
   "cell_type": "markdown",
   "id": "409e957e-f9b9-44b7-afdb-b916e82d79bc",
   "metadata": {},
   "source": [
    "### 使用parser精煉結果"
   ]
  },
  {
   "cell_type": "code",
   "execution_count": 31,
   "id": "7deb1254-889c-4133-873e-30f4fef41881",
   "metadata": {
    "tags": []
   },
   "outputs": [],
   "source": [
    "response_schemas = [\n",
    "        ResponseSchema(name=\"category\", \n",
    "                       description=\"\"\"\n",
    "                                   The predicted category of the classification\n",
    "                                   \"\"\")]\n",
    "\n",
    "output_parser = StructuredOutputParser.from_response_schemas(response_schemas)\n",
    "format_instructions = output_parser.get_format_instructions()\n",
    "\n",
    "system_template = \"\"\"\n",
    "                  You are an AI assistant assigned with a task of safty report \n",
    "                  classification based on the content. You are a seasoned \n",
    "                  flight safety inspector with deep and extensive knowledge of \n",
    "                  aviation safty. \n",
    "    \n",
    "                  You always do the best work you can. You are highly \n",
    "                  analytical and pay close attention to details. \n",
    "    \n",
    "                  The candidates of the output are:\n",
    "\n",
    "                  - `Organizational Influence;Resource Management`\n",
    "                  - `Organizational Influence;Organizational Climate`\n",
    "                  - `Organizational Influence;rganizational Process`\n",
    "                  - `Unsafe Supervisions;Inadequate Supervision`\n",
    "                  - `Unsafe Supervisions;Planned Inappropriate Operations`\n",
    "                  - `Unsafe Supervisions;Failed to Correct Problem`\n",
    "                  - `Unsafe Supervisions;Supervisory Violation`\n",
    "                  - `Precondition for Unsafe Acts;Environmental Factors;Physical Environment`\n",
    "                  - `Precondition for Unsafe Acts;Environmental Factors;Technological Environment`\n",
    "                  - `Precondition for Unsafe Acts;Condition of Operators;Adverse Mental State`\n",
    "                  - `Precondition for Unsafe Acts;Condition of Operators;Adverse Physiological State`\n",
    "                  - `Precondition for Unsafe Acts;Condition of Operators;Physical/Mental Limitations`\n",
    "                  - `Precondition for Unsafe Acts;Personnel Factors;Crew Resource Management`\n",
    "                  - `Precondition for Unsafe Acts;Personnel Factors;Personal Readiness`\n",
    "                  - `Unsafe Acts;Errors;Decision Errors`\n",
    "                  - `Unsafe Acts;Errors;Skill-Based Errors`\n",
    "                  - `Unsafe Acts;Errors;Perceptual Errors`\n",
    "                  - `Unsafe Acts;Violations;Routine`\n",
    "                  - `Unsafe Acts;Violations;Exceptional`\n",
    "            \n",
    "                 The output is from one of the candidates. \n",
    "                 \"\"\"\n",
    "\n",
    "human_template = \"\"\"\n",
    "                 {report}; \n",
    "                 format instruction: {format_instructions}\n",
    "                 \"\"\"\n",
    "\n",
    "\n",
    "input_ = {\"system\": {\"template\": system_template},\n",
    "          \"human\": {\"template\": human_template,\n",
    "                    \"input_variable\": [\"report\"],\n",
    "                    \"partial_variables\": {'format_instructions': format_instructions}}}\n",
    "\n",
    "chat_prompt_template = build_standard_chat_prompt_template(input_)\n",
    "\n",
    "pipeline_ = chat_prompt_template|model|output_parser"
   ]
  },
  {
   "cell_type": "code",
   "execution_count": 32,
   "id": "bc1da940-87d9-4d77-981a-82e597781d6d",
   "metadata": {
    "tags": []
   },
   "outputs": [],
   "source": [
    "output = pipeline_.invoke({\"report\": text})"
   ]
  },
  {
   "cell_type": "code",
   "execution_count": 33,
   "id": "9d2255ea-0e55-4fa9-95d7-a204cbc68942",
   "metadata": {},
   "outputs": [
    {
     "data": {
      "text/plain": [
       "{'category': 'Unsafe Acts;Errors;Decision Errors'}"
      ]
     },
     "execution_count": 33,
     "metadata": {},
     "output_type": "execute_result"
    }
   ],
   "source": [
    "output"
   ]
  },
  {
   "cell_type": "markdown",
   "id": "78654a90-8412-4486-9859-e5e4008b21d6",
   "metadata": {},
   "source": [
    "### 回家作業 1\n",
    "\n",
    "若要飛安事故報告可以有複數分類結果，如何調整Prompt，包含parser"
   ]
  },
  {
   "cell_type": "code",
   "execution_count": 34,
   "id": "93278e4e-449f-4b76-99ed-3b44acd9f2d8",
   "metadata": {
    "tags": []
   },
   "outputs": [
    {
     "data": {
      "text/html": [
       "<div>\n",
       "<style scoped>\n",
       "    .dataframe tbody tr th:only-of-type {\n",
       "        vertical-align: middle;\n",
       "    }\n",
       "\n",
       "    .dataframe tbody tr th {\n",
       "        vertical-align: top;\n",
       "    }\n",
       "\n",
       "    .dataframe thead th {\n",
       "        text-align: right;\n",
       "    }\n",
       "</style>\n",
       "<table border=\"1\" class=\"dataframe\">\n",
       "  <thead>\n",
       "    <tr style=\"text-align: right;\">\n",
       "      <th></th>\n",
       "      <th>Report 1</th>\n",
       "      <th>Report 1.1</th>\n",
       "      <th>Report 2</th>\n",
       "      <th>Report 2.1</th>\n",
       "      <th>Report 1.2</th>\n",
       "    </tr>\n",
       "  </thead>\n",
       "  <tbody>\n",
       "    <tr>\n",
       "      <th>0</th>\n",
       "      <td>Narrative</td>\n",
       "      <td>Callback</td>\n",
       "      <td>Narrative</td>\n",
       "      <td>Callback</td>\n",
       "      <td>Synopsis</td>\n",
       "    </tr>\n",
       "    <tr>\n",
       "      <th>1</th>\n",
       "      <td>NaN</td>\n",
       "      <td>NaN</td>\n",
       "      <td>NaN</td>\n",
       "      <td>NaN</td>\n",
       "      <td>NaN</td>\n",
       "    </tr>\n",
       "    <tr>\n",
       "      <th>2</th>\n",
       "      <td>I had a ferry flight that went out of service ...</td>\n",
       "      <td>NaN</td>\n",
       "      <td>We departed ZZZ ferrying an un-airworthy aircr...</td>\n",
       "      <td>NaN</td>\n",
       "      <td>Air carrier Dispatcher and flight crew reporte...</td>\n",
       "    </tr>\n",
       "    <tr>\n",
       "      <th>3</th>\n",
       "      <td>Aircraft X was inbound to the airport from the...</td>\n",
       "      <td>NaN</td>\n",
       "      <td>NaN</td>\n",
       "      <td>NaN</td>\n",
       "      <td>L30 TRACON Controller reported they issued VFR...</td>\n",
       "    </tr>\n",
       "    <tr>\n",
       "      <th>4</th>\n",
       "      <td>Approaching ZZZ at about XA:55. ATIS indicated...</td>\n",
       "      <td>NaN</td>\n",
       "      <td>NaN</td>\n",
       "      <td>NaN</td>\n",
       "      <td>EMB-505 flight crew received a low altitude al...</td>\n",
       "    </tr>\n",
       "    <tr>\n",
       "      <th>5</th>\n",
       "      <td>This incident occurred shortly after XA:00 loc...</td>\n",
       "      <td>NaN</td>\n",
       "      <td>NaN</td>\n",
       "      <td>NaN</td>\n",
       "      <td>C525 single pilot reported a runway excursion ...</td>\n",
       "    </tr>\n",
       "    <tr>\n",
       "      <th>6</th>\n",
       "      <td>Captain/PF (Pilot Flying) requested 2000 ft. b...</td>\n",
       "      <td>NaN</td>\n",
       "      <td>NaN</td>\n",
       "      <td>NaN</td>\n",
       "      <td>EMB-505 F/O reported returning to departure ai...</td>\n",
       "    </tr>\n",
       "    <tr>\n",
       "      <th>7</th>\n",
       "      <td>We were scheduled to do a flight from with 4 p...</td>\n",
       "      <td>NaN</td>\n",
       "      <td>NaN</td>\n",
       "      <td>NaN</td>\n",
       "      <td>Corporate pilot reported deicing truck did not...</td>\n",
       "    </tr>\n",
       "    <tr>\n",
       "      <th>8</th>\n",
       "      <td>I was in the traffic pattern in a C172 with a ...</td>\n",
       "      <td>NaN</td>\n",
       "      <td>NaN</td>\n",
       "      <td>NaN</td>\n",
       "      <td>Flight instructor reported that while on the d...</td>\n",
       "    </tr>\n",
       "    <tr>\n",
       "      <th>9</th>\n",
       "      <td>This incident occurred on the second of two tr...</td>\n",
       "      <td>NaN</td>\n",
       "      <td>NaN</td>\n",
       "      <td>NaN</td>\n",
       "      <td>A flight instructor distracted by a student st...</td>\n",
       "    </tr>\n",
       "    <tr>\n",
       "      <th>10</th>\n",
       "      <td>Departed with Flight Following. Tower cleared ...</td>\n",
       "      <td>NaN</td>\n",
       "      <td>NaN</td>\n",
       "      <td>NaN</td>\n",
       "      <td>PA-28 pilot reported they were not complying w...</td>\n",
       "    </tr>\n",
       "    <tr>\n",
       "      <th>11</th>\n",
       "      <td>My flight instructor and I were performing a p...</td>\n",
       "      <td>NaN</td>\n",
       "      <td>NaN</td>\n",
       "      <td>NaN</td>\n",
       "      <td>PA-28 pilot reported that while performing a p...</td>\n",
       "    </tr>\n",
       "  </tbody>\n",
       "</table>\n",
       "</div>"
      ],
      "text/plain": [
       "                                             Report 1 Report 1.1  \\\n",
       "0                                           Narrative   Callback   \n",
       "1                                                 NaN        NaN   \n",
       "2   I had a ferry flight that went out of service ...        NaN   \n",
       "3   Aircraft X was inbound to the airport from the...        NaN   \n",
       "4   Approaching ZZZ at about XA:55. ATIS indicated...        NaN   \n",
       "5   This incident occurred shortly after XA:00 loc...        NaN   \n",
       "6   Captain/PF (Pilot Flying) requested 2000 ft. b...        NaN   \n",
       "7   We were scheduled to do a flight from with 4 p...        NaN   \n",
       "8   I was in the traffic pattern in a C172 with a ...        NaN   \n",
       "9   This incident occurred on the second of two tr...        NaN   \n",
       "10  Departed with Flight Following. Tower cleared ...        NaN   \n",
       "11  My flight instructor and I were performing a p...        NaN   \n",
       "\n",
       "                                             Report 2 Report 2.1  \\\n",
       "0                                           Narrative   Callback   \n",
       "1                                                 NaN        NaN   \n",
       "2   We departed ZZZ ferrying an un-airworthy aircr...        NaN   \n",
       "3                                                 NaN        NaN   \n",
       "4                                                 NaN        NaN   \n",
       "5                                                 NaN        NaN   \n",
       "6                                                 NaN        NaN   \n",
       "7                                                 NaN        NaN   \n",
       "8                                                 NaN        NaN   \n",
       "9                                                 NaN        NaN   \n",
       "10                                                NaN        NaN   \n",
       "11                                                NaN        NaN   \n",
       "\n",
       "                                           Report 1.2  \n",
       "0                                            Synopsis  \n",
       "1                                                 NaN  \n",
       "2   Air carrier Dispatcher and flight crew reporte...  \n",
       "3   L30 TRACON Controller reported they issued VFR...  \n",
       "4   EMB-505 flight crew received a low altitude al...  \n",
       "5   C525 single pilot reported a runway excursion ...  \n",
       "6   EMB-505 F/O reported returning to departure ai...  \n",
       "7   Corporate pilot reported deicing truck did not...  \n",
       "8   Flight instructor reported that while on the d...  \n",
       "9   A flight instructor distracted by a student st...  \n",
       "10  PA-28 pilot reported they were not complying w...  \n",
       "11  PA-28 pilot reported that while performing a p...  "
      ]
     },
     "execution_count": 34,
     "metadata": {},
     "output_type": "execute_result"
    }
   ],
   "source": [
    "df.filter(like='Report')"
   ]
  },
  {
   "cell_type": "markdown",
   "id": "5984ea6c-2edd-42f9-ac35-9ab6d8af2d55",
   "metadata": {},
   "source": [
    "### 回家作業 2\n",
    "\n",
    "你可以很清楚的看到一個飛安事故中，可以出現複數報告。\n",
    "將`Report 1` 和 `Report 1.2` 結合起來產生一份的新報告。\n",
    "\n",
    "抄也是一門技術"
   ]
  },
  {
   "cell_type": "markdown",
   "id": "d6b2296d-901a-43a6-b441-7b4abc65ac22",
   "metadata": {},
   "source": [
    "# **** 預計第一個小時結束 ****"
   ]
  },
  {
   "cell_type": "markdown",
   "id": "4aee5c0b-7804-49bf-bd77-ff8203de6209",
   "metadata": {},
   "source": [
    "## HR: Job-Applicant Matching\n",
    "\n",
    "- Efficiency and Speed: LLMs can quickly process and analyze large volumes of applications, significantly reducing the time required for initial screening compared to manual reviews.\n",
    "\n",
    "- Consistency and Fairness: LLMs apply the same criteria consistently across all applications, minimizing human bias and ensuring a fairer initial screening process.\n",
    "\n",
    "- Detailed Analysis: LLMs can analyze complex language patterns and extract relevant information from resumes, cover letters, and other application materials, identifying key skills and qualifications that match job requirements.\n",
    "\n",
    "- Customization and Flexibility: LLMs can be customized to prioritize different skills and experiences based on specific job requirements, allowing for a more tailored screening process.\n",
    "\n",
    "- Scalability: LLMs can handle a large number of applications simultaneously, making them ideal for organizations that receive high volumes of applicants.\n",
    "\n",
    "- Cost-Effectiveness: By automating the initial stages of applicant screening, LLMs can reduce the need for extensive human resources, thereby lowering operational costs.\n",
    "\n",
    "- Continuous Improvement: LLMs can be continuously trained and improved based on feedback and new data, enhancing their accuracy and effectiveness over time.\n",
    "\n",
    "- Enhanced Candidate Experience: Faster response times and more consistent evaluations can improve the overall candidate experience, as applicants are more likely to receive timely feedback.\n",
    "\n",
    "- 效率和速度： LLMs 能夠快速處理和分析大量申請，相較於人工審查，顯著縮短初步篩選所需的時間。\n",
    "\n",
    "- 一致性和公平性： LLMs 對所有申請應用相同的標準，最小化人為偏見，確保初步篩選過程的公平性。\n",
    "\n",
    "- 詳細分析： LLMs 能夠分析複雜的語言模式，從簡歷、求職信和其他申請材料中提取相關信息，識別符合工作要求的關鍵技能和資格。\n",
    "\n",
    "- 自定義和靈活性： LLMs 可以根據具體的工作要求自定義優先考慮的技能和經驗，允許更有針對性的篩選過程。\n",
    "\n",
    "- 可擴展性： LLMs 能夠同時處理大量申請，非常適合接收大量申請人的組織。\n",
    "\n",
    "- 成本效益： 通過自動化申請篩選的初始階段，LLMs 可以減少對大量人力資源的需求，從而降低運營成本。\n",
    "\n",
    "- 持續改進： LLMs 可以根據反饋和新數據持續進行訓練和改進，隨著時間的推移提高其準確性和有效性。-\n",
    "\n",
    "- 提升候選人經驗： 更快的回應時間和更一致的評估可以改善整體候選人經驗，因為申請人更有可能及時收到反饋。"
   ]
  },
  {
   "cell_type": "code",
   "execution_count": 35,
   "id": "b39b5024-206c-4bdf-9574-8753f01ca46f",
   "metadata": {
    "tags": []
   },
   "outputs": [
    {
     "data": {
      "text/html": [
       "\n",
       "        <iframe\n",
       "            width=\"800\"\n",
       "            height=\"400\"\n",
       "            src=\"https://www.techjobasia.com/zh-Hant/jobs/GMMlhU0qSayr6ZwTB0U6zA---Software-Engineer-(ReactJS)\"\n",
       "            frameborder=\"0\"\n",
       "            allowfullscreen\n",
       "            \n",
       "        ></iframe>\n",
       "        "
      ],
      "text/plain": [
       "<IPython.lib.display.IFrame at 0x199b8c820e0>"
      ]
     },
     "execution_count": 35,
     "metadata": {},
     "output_type": "execute_result"
    }
   ],
   "source": [
    "from IPython.display import IFrame\n",
    "\n",
    "IFrame(\"https://www.techjobasia.com/zh-Hant/jobs/GMMlhU0qSayr6ZwTB0U6zA---Software-Engineer-(ReactJS)\", width=800, height=400)"
   ]
  },
  {
   "cell_type": "markdown",
   "id": "46edd4df-89c2-49ca-9e19-d6ae0eb6adb7",
   "metadata": {},
   "source": [
    "###  1. Send a GET request to the URL (發送 GET 請求到指定的 URL)\n",
    "\n",
    "- This line sends an HTTP GET request to the specified URL and stores the response in the response variable.\n",
    "- 這行程式碼向指定的 URL 發送 HTTP GET 請求，並將響應儲存在 response 變數中。"
   ]
  },
  {
   "cell_type": "code",
   "execution_count": 36,
   "id": "0a779c48-badd-423e-889c-a57ece76a957",
   "metadata": {},
   "outputs": [],
   "source": [
    "import requests\n",
    "\n",
    "from bs4 import BeautifulSoup\n",
    "from langchain_community.document_loaders import BSHTMLLoader\n",
    "\n",
    "url = \"https://www.techjobasia.com/zh-Hant/jobs/GMMlhU0qSayr6ZwTB0U6zA---Software-Engineer-(ReactJS)\"\n",
    "\n",
    "# Send a GET request to the URL\n",
    "response = requests.get(url)"
   ]
  },
  {
   "cell_type": "code",
   "execution_count": 37,
   "id": "acf1968c-7975-45a4-870b-0e62861219a3",
   "metadata": {},
   "outputs": [
    {
     "data": {
      "text/plain": [
       "<Response [200]>"
      ]
     },
     "execution_count": 37,
     "metadata": {},
     "output_type": "execute_result"
    }
   ],
   "source": [
    "response"
   ]
  },
  {
   "cell_type": "markdown",
   "id": "e681fd9e-5ba2-4c75-8bc3-4d41d747aaa4",
   "metadata": {},
   "source": [
    "### 2. Get the content of the response (獲取響應的內容)\n",
    "\n",
    "- This line extracts the content of the response as a text string and stores it in the html_content variable.\n",
    "- 這行程式碼將響應的內容作為文字字串提取，並將其儲存在 html_content 變數中。"
   ]
  },
  {
   "cell_type": "code",
   "execution_count": 38,
   "id": "ec7947d4-5e33-4b1c-88b5-ba375e62b2f2",
   "metadata": {},
   "outputs": [],
   "source": [
    "html_content = response.text"
   ]
  },
  {
   "cell_type": "code",
   "execution_count": null,
   "id": "54c04f13-6362-479b-8ebb-98a713c325fe",
   "metadata": {},
   "outputs": [],
   "source": [
    "# html_content"
   ]
  },
  {
   "cell_type": "markdown",
   "id": "bee3cd12-f11a-4a7b-8f7e-ab8b16ada802",
   "metadata": {},
   "source": [
    "### 3. Parse the HTML content (解析 HTML 內容)\n",
    "\n",
    "- This line uses BeautifulSoup to parse the HTML content stored in html_content, creating a BeautifulSoup object named soup.\n",
    "- 這行程式碼使用 BeautifulSoup 解析儲存在 html_content 中的 HTML 內容，並創建一個名為 soup 的 BeautifulSoup 對象。"
   ]
  },
  {
   "cell_type": "code",
   "execution_count": 39,
   "id": "583fc8ac-d92b-4762-afd0-e1d1de8c3e5a",
   "metadata": {},
   "outputs": [],
   "source": [
    "soup = BeautifulSoup(html_content, 'html.parser')"
   ]
  },
  {
   "cell_type": "code",
   "execution_count": null,
   "id": "ffa763c1-d8c7-4c82-9528-0ef7ea564112",
   "metadata": {},
   "outputs": [],
   "source": [
    "# soup"
   ]
  },
  {
   "cell_type": "markdown",
   "id": "046accba-5203-43df-b1c8-b5703601d3b3",
   "metadata": {},
   "source": [
    "### 4. Remove all CSS style tags (移除所有 CSS 樣式標籤)\n",
    "\n",
    "- This loop finds all <style> tags in the parsed HTML content and removes them using the decompose() method.\n",
    "- 這個循環找到解析後的 HTML 內容中的所有 <style> 標籤，並使用 decompose() 方法將它們移除。"
   ]
  },
  {
   "cell_type": "code",
   "execution_count": 40,
   "id": "06ab74e8-4e7c-4a92-b5ea-af3db43d1082",
   "metadata": {},
   "outputs": [],
   "source": [
    "for style in soup.find_all('style'):\n",
    "    style.decompose()"
   ]
  },
  {
   "cell_type": "markdown",
   "id": "1d5edde0-9fb5-43d4-bfb9-6a6b2c146d7e",
   "metadata": {},
   "source": [
    "### 6. Extract and print only the text content (提取並打印僅包含文字的內容)\n",
    "\n",
    "- This line extracts the text content from the parsed HTML, separating elements with a newline character, and stores it in the text_content variable.\n",
    "- 這行程式碼從解析後的 HTML 中提取文字內容，使用換行符將元素分隔，並將其儲存在 text_content 變數中。"
   ]
  },
  {
   "cell_type": "code",
   "execution_count": 41,
   "id": "c797f3bc-33c2-4d67-88e2-b110f0d2da83",
   "metadata": {},
   "outputs": [],
   "source": [
    "text_content = soup.get_text(separator='\\n')"
   ]
  },
  {
   "cell_type": "code",
   "execution_count": 42,
   "id": "9ba34a7e-4ebd-4ea7-b738-54995862f082",
   "metadata": {},
   "outputs": [
    {
     "data": {
      "text/plain": [
       "\"\\n\\n\\n\\nSoftware Engineer (ReactJS) Opening at Bridgespace Group in 南區, 香港 | Apply now at TechJobAsia\\n\\n\\n\\n\\n\\n\\n\\n\\n\\n\\n\\n\\n\\n\\n\\n\\n\\n\\n\\n\\n\\n\\n\\n\\n\\n\\n\\n\\n\\n\\n\\n\\n\\n\\n\\n\\n\\n\\n\\n\\n\\n\\n\\n\\n\\n\\n\\n\\n\\n\\n\\n\\n\\n\\n\\n\\n\\n\\n\\n\\n\\n\\n\\n\\n\\n\\n\\n\\n\\n\\n\\n\\n\\n\\n\\n\\n\\n\\n\\n\\n\\n\\n\\n\\n\\n\\n\\n\\n\\n\\n\\n\\n\\n\\n\\n\\n\\n\\n\\n\\n\\n\\n\\n\\n\\n\\n\\n\\n\\n\\n\\n\\n\\n\\n\\n\\n\\n\\n\\n\\n\\n\\n\\n\\n\\n\\n\\n\\n\\n\\n\\n\\n\\n\\n\\n\\n\\n\\n\\n\\n\\n\\n\\n\\n\\n\\n\\n\\n\\n\\n\\n\\n\\n\\n\\n\\n\\n\\n\\n\\n\\n\\n\\n\\n\\n\\n\\n\\n\\n\\n\\n\\n\\n\\n\\n\\n\\n\\n\\n\\n\\n\\n\\n\\n\\n\\n\\n\\n\\n\\n\\n\\n\\n\\n\\n\\n\\n\\n\\n\\n\\n\\n\\n\\n\\n\\n\\n\\n\\n\\n\\n\\n\\n\\n\\n\\n\\n\\n\\n\\n搜尋工作\\n資訊及攻略\\n立即開始\\n立即開始\\n招聘者專區\\n工作\\n/\\nBridgespace Group\\n/\\nSoftware Engineer (ReactJS)\\nSoftware Engineer (ReactJS)\\nBridgespace Group\\nSoftware Engineer (ReactJS)\\nBridgespace Group\\n軟件工程師\\n南區, 香港\\n7 天前\\n全職\\n辦公室工作\\n科技、資訊和媒體\\n收藏\\n工作描述\\n7 天前\\nWho we are:\\nWe are currently hiring a few permanent positions to serve its portfolio companies and other projects industry wide.\\nResponsibilities\\nAs a software engineer, you will be part of a dynamic team of professionals using cutting-edge technologies and agile methodology to deliver scalable, testable and maintainable software.\\nYou will actively participate in our development life cycle, working on new user stories, to review, design implement and test.\\nAnalyse and understand problems, to ensure solutions meet overall consistency and satisfaction.\\nYou will be working independently and improving yourself with up-to-date technologies.\\nQualifications\\n• Candidate must possess at least a Diploma, Advanced/Higher/Graduate Diploma, Bachelor's\\n• 4+ experience in front-end development using Reactjs.\\n• Strong proficiency in JavaScript, HTML5, and CSS3.\\n• Experience with responsive and mobile-first design.\\n• Experience with performance tuning using Lighthouse.\\n• Familiarity with state management libraries such as Redux.\\n• Experience with front-end build tools and package managers (e.g., Webpack, npm).\\n• Knowledge of RESTful APIs and asynchronous request handling.\\n• Experience with GIT\\n• Good exposure to Agile Methodologies especially Scrum.\\nGood to have\\n• Knowledge of progressive web app developmen\\n申請\\n分享到\\n更多相似工作\\nSoftware Engineer / Web Developer\\nAppicIDEA IT Solutions Limited\\n中西區, 香港\\nWeb Application Developer/Project Manager (NodeJS/ReactJS/AngularJS)\\nIT-RecruitHK\\n中西區, 香港\\nFrontend Developer\\nTag Worldwide Asia Limited 泰意亞洲有限公司\\n中西區, 香港\\nReact Frontend Developer / Programmer / Engineer\\nAugust Solutions Limited\\n荃灣, 香港\\nSoftware Engineer\\nCPJobs International Ltd.\\n東區, 香港\\nFrontend Developer\\ntheOrigo Ltd.\\n中西區, 香港\\n🎉 Got an interview?\\nTell us about it and get $20 cash voucher!\\nTechJobAsia @ 2025 \\n Hong Kong EA License No. 77101 \\n求職者\\n搜尋工作\\n工作專區\\n所有工作\\n所有公司\\n熱門搜尋\\n雇主\\n服務和收費\\n開始招聘\\n聯絡我們\\n資訊及攻略\\n資訊及攻略\\n時事新聞熱話\\n生活副刋趣聞\\n合作計劃\\nProject Moses with 香港博愛\\nGoogle Career Certificates\\nK-Youth with Khazanah Nasional\\n民政及青年事務局青年初創企業實習計劃2025\\n數碼港互動招聘博覽2025\\n更多關於我們\\n關於我們\\n私隱政策\\n條款及細則\\n產品\\nTalentLabs\\nTechJobAsia\\nBridgespace\\n\\n\\n\\n\""
      ]
     },
     "execution_count": 42,
     "metadata": {},
     "output_type": "execute_result"
    }
   ],
   "source": [
    "text_content"
   ]
  },
  {
   "cell_type": "markdown",
   "id": "49cacc52-b827-47d3-8f05-399360212b76",
   "metadata": {},
   "source": [
    "### 7. Clean up the text (清理文字內容)\n",
    "\n",
    "- This line cleans up the extracted text by removing any leading or trailing whitespace from each line and discarding empty lines. The cleaned text is stored in the cleaned_text variable.\n",
    "- prints the cleaned text content to the console.\n",
    "- 這行程式碼通過移除每行的首尾空白並丟棄空行來清理提取的文字內容。清理後的文字儲存在 cleaned_text 變數中。\n",
    "- 將清理後的文字內容打印到控制台。"
   ]
  },
  {
   "cell_type": "code",
   "execution_count": null,
   "id": "777d33a8-301c-4823-8753-4b501300382c",
   "metadata": {},
   "outputs": [],
   "source": [
    "# for line in text_content.splitlines():\n",
    "#     if line.strip():\n",
    "#         print(line.strip())"
   ]
  },
  {
   "cell_type": "code",
   "execution_count": 43,
   "id": "af6ff06a-d842-465d-b4f4-3e7282824e15",
   "metadata": {
    "tags": []
   },
   "outputs": [
    {
     "name": "stdout",
     "output_type": "stream",
     "text": [
      "Software Engineer (ReactJS) Opening at Bridgespace Group in 南區, 香港 | Apply now at TechJobAsia\n",
      "搜尋工作\n",
      "資訊及攻略\n",
      "立即開始\n",
      "立即開始\n",
      "招聘者專區\n",
      "工作\n",
      "/\n",
      "Bridgespace Group\n",
      "/\n",
      "Software Engineer (ReactJS)\n",
      "Software Engineer (ReactJS)\n",
      "Bridgespace Group\n",
      "Software Engineer (ReactJS)\n",
      "Bridgespace Group\n",
      "軟件工程師\n",
      "南區, 香港\n",
      "7 天前\n",
      "全職\n",
      "辦公室工作\n",
      "科技、資訊和媒體\n",
      "收藏\n",
      "工作描述\n",
      "7 天前\n",
      "Who we are:\n",
      "We are currently hiring a few permanent positions to serve its portfolio companies and other projects industry wide.\n",
      "Responsibilities\n",
      "As a software engineer, you will be part of a dynamic team of professionals using cutting-edge technologies and agile methodology to deliver scalable, testable and maintainable software.\n",
      "You will actively participate in our development life cycle, working on new user stories, to review, design implement and test.\n",
      "Analyse and understand problems, to ensure solutions meet overall consistency and satisfaction.\n",
      "You will be working independently and improving yourself with up-to-date technologies.\n",
      "Qualifications\n",
      "• Candidate must possess at least a Diploma, Advanced/Higher/Graduate Diploma, Bachelor's\n",
      "• 4+ experience in front-end development using Reactjs.\n",
      "• Strong proficiency in JavaScript, HTML5, and CSS3.\n",
      "• Experience with responsive and mobile-first design.\n",
      "• Experience with performance tuning using Lighthouse.\n",
      "• Familiarity with state management libraries such as Redux.\n",
      "• Experience with front-end build tools and package managers (e.g., Webpack, npm).\n",
      "• Knowledge of RESTful APIs and asynchronous request handling.\n",
      "• Experience with GIT\n",
      "• Good exposure to Agile Methodologies especially Scrum.\n",
      "Good to have\n",
      "• Knowledge of progressive web app developmen\n",
      "申請\n",
      "分享到\n",
      "更多相似工作\n",
      "Software Engineer / Web Developer\n",
      "AppicIDEA IT Solutions Limited\n",
      "中西區, 香港\n",
      "Web Application Developer/Project Manager (NodeJS/ReactJS/AngularJS)\n",
      "IT-RecruitHK\n",
      "中西區, 香港\n",
      "Frontend Developer\n",
      "Tag Worldwide Asia Limited 泰意亞洲有限公司\n",
      "中西區, 香港\n",
      "React Frontend Developer / Programmer / Engineer\n",
      "August Solutions Limited\n",
      "荃灣, 香港\n",
      "Software Engineer\n",
      "CPJobs International Ltd.\n",
      "東區, 香港\n",
      "Frontend Developer\n",
      "theOrigo Ltd.\n",
      "中西區, 香港\n",
      "🎉 Got an interview?\n",
      "Tell us about it and get $20 cash voucher!\n",
      "TechJobAsia @ 2025\n",
      "Hong Kong EA License No. 77101\n",
      "求職者\n",
      "搜尋工作\n",
      "工作專區\n",
      "所有工作\n",
      "所有公司\n",
      "熱門搜尋\n",
      "雇主\n",
      "服務和收費\n",
      "開始招聘\n",
      "聯絡我們\n",
      "資訊及攻略\n",
      "資訊及攻略\n",
      "時事新聞熱話\n",
      "生活副刋趣聞\n",
      "合作計劃\n",
      "Project Moses with 香港博愛\n",
      "Google Career Certificates\n",
      "K-Youth with Khazanah Nasional\n",
      "民政及青年事務局青年初創企業實習計劃2025\n",
      "數碼港互動招聘博覽2025\n",
      "更多關於我們\n",
      "關於我們\n",
      "私隱政策\n",
      "條款及細則\n",
      "產品\n",
      "TalentLabs\n",
      "TechJobAsia\n",
      "Bridgespace\n"
     ]
    }
   ],
   "source": [
    "cleaned_text = '\\n'.join(line.strip() for line in text_content.splitlines() if line.strip())\n",
    "\n",
    "print(cleaned_text)"
   ]
  },
  {
   "cell_type": "markdown",
   "id": "eabae79b-382d-4626-a526-af3e781ab3ca",
   "metadata": {},
   "source": [
    "### Extract only the job related content"
   ]
  },
  {
   "cell_type": "code",
   "execution_count": 44,
   "id": "2a31c4e7-395e-4770-a21f-8f21aee07e28",
   "metadata": {
    "tags": []
   },
   "outputs": [
    {
     "name": "stdout",
     "output_type": "stream",
     "text": [
      "**Job Description for Software Engineer (ReactJS) at Bridgespace Group**\n",
      "\n",
      "**Who we are:**\n",
      "We are currently hiring a few permanent positions to serve our portfolio companies and other projects industry-wide.\n",
      "\n",
      "**Responsibilities:**\n",
      "- As a software engineer, you will be part of a dynamic team of professionals using cutting-edge technologies and agile methodology to deliver scalable, testable, and maintainable software.\n",
      "- You will actively participate in our development life cycle, working on new user stories, to review, design, implement, and test.\n",
      "- Analyse and understand problems to ensure solutions meet overall consistency and satisfaction.\n",
      "- You will be working independently and improving yourself with up-to-date technologies.\n",
      "\n",
      "**Qualifications:**\n",
      "- Candidate must possess at least a Diploma, Advanced/Higher/Graduate Diploma, or Bachelor's degree.\n",
      "- 4+ years of experience in front-end development using ReactJS.\n",
      "- Strong proficiency in JavaScript, HTML5, and CSS3.\n",
      "- Experience with responsive and mobile-first design.\n",
      "- Experience with performance tuning using Lighthouse.\n",
      "- Familiarity with state management libraries such as Redux.\n",
      "- Experience with front-end build tools and package managers (e.g., Webpack, npm).\n",
      "- Knowledge of RESTful APIs and asynchronous request handling.\n",
      "- Experience with GIT.\n",
      "- Good exposure to Agile Methodologies, especially Scrum.\n",
      "\n",
      "**Good to have:**\n",
      "- Knowledge of progressive web app development.\n"
     ]
    }
   ],
   "source": [
    "template= \"\"\"\n",
    "          Extract the job description part of the text: {content} \n",
    "          \"\"\"\n",
    "\n",
    "human_prompt = PromptTemplate(template=template)\n",
    "human_message = HumanMessagePromptTemplate(prompt=human_prompt)\n",
    "    \n",
    "chat_prompt_template = ChatPromptTemplate.from_messages([human_message])\n",
    "\n",
    "pipeline_ = chat_prompt_template|model|StrOutputParser()\n",
    "\n",
    "job_description = pipeline_.invoke({\"content\": cleaned_text})\n",
    "\n",
    "print(job_description)"
   ]
  },
  {
   "cell_type": "markdown",
   "id": "3640b1ad-c74a-4535-9d2a-db2f2501ec9e",
   "metadata": {},
   "source": [
    "Let us do the same thing for the ten following candidates"
   ]
  },
  {
   "cell_type": "code",
   "execution_count": 45,
   "id": "cc7355ea-e001-4b89-b831-803a045ae1f6",
   "metadata": {
    "tags": []
   },
   "outputs": [],
   "source": [
    "applicants = [\"https://www.hiredchina.com/profiles/c87dc713-deea-408a-8798-c4e0814fc3ce\",\n",
    "              \"https://www.hiredchina.com/profiles/de4d4802-d58b-4d0a-92f6-b0f999ff2617\",\n",
    "              \"https://www.hiredchina.com/profiles/64cecea3-4f68-4707-89fa-c10dd9889be8\",\n",
    "              \"https://www.hiredchina.com/profiles/708fa8bc-0ccf-4f93-8be6-14154bfe828d\",\n",
    "              \"https://www.hiredchina.com/profiles/3ce4f0fb-c93f-4e87-aa00-1d75badce875\",\n",
    "              \"https://www.hiredchina.com/profiles/2aa145b8-cad0-4682-a542-8bbe0d268d74\",\n",
    "              \"https://www.hiredchina.com/profiles/06b2343a-a1ea-42da-bbfb-318041ae0835\",\n",
    "              \"https://www.hiredchina.com/profiles/3daf0124-ad33-4a9c-8305-28428bbf5ffc\",\n",
    "              \"https://www.hiredchina.com/profiles/053e6b20-0dee-477a-9fb6-3ab27e69206b\",\n",
    "              \"https://www.hiredchina.com/profiles/27f68cab-1f20-432b-9157-4f473c2ec189\"]"
   ]
  },
  {
   "cell_type": "code",
   "execution_count": 47,
   "id": "825038f7-7d58-4eb6-ad24-a41c14e6a322",
   "metadata": {
    "tags": []
   },
   "outputs": [],
   "source": [
    "from langchain_core.runnables import chain, Runnable\n",
    "\n",
    "\n",
    "def parsing_process(url):\n",
    "    \"\"\"\n",
    "    Fetches and extracts text content from a given URL.\n",
    "\n",
    "    Parameters:\n",
    "    url (str): The URL of the web page to fetch and parse.\n",
    "\n",
    "    Returns:\n",
    "    str: Cleaned text content extracted from the web page.\n",
    "\n",
    "    Raises:\n",
    "    requests.exceptions.RequestException: If an error occurs while fetching the URL.\n",
    "\n",
    "    Notes:\n",
    "    - This function sends a GET request to the specified URL.\n",
    "    - It uses BeautifulSoup to parse the HTML content of the response.\n",
    "    - Any <style> tags in the HTML are removed to extract only textual content.\n",
    "    - The extracted text is cleaned by removing extra whitespace and empty lines.\n",
    "    \"\"\"\n",
    "    \n",
    "    \n",
    "    # Send a GET request to the URL\n",
    "    response = requests.get(url)\n",
    "\n",
    "    # Get the content of the response\n",
    "    html_content = response.text\n",
    "    \n",
    "    soup = BeautifulSoup(html_content, 'html.parser')\n",
    "    \n",
    "    for style in soup.find_all('style'):\n",
    "        style.decompose()\n",
    "\n",
    "    # Extract and print only the text content\n",
    "    text_content = soup.get_text(separator='\\n')\n",
    "\n",
    "    # Clean up the text (optional)\n",
    "    cleaned_text = '\\n'.join(line.strip() for line in text_content.splitlines() if line.strip())\n",
    "    \n",
    "    return cleaned_text"
   ]
  },
  {
   "cell_type": "code",
   "execution_count": 48,
   "id": "3f540152-5a9f-45db-a02c-488427766ae0",
   "metadata": {
    "tags": []
   },
   "outputs": [
    {
     "data": {
      "text/html": [
       "\n",
       "        <iframe\n",
       "            width=\"800\"\n",
       "            height=\"400\"\n",
       "            src=\"https://www.hiredchina.com/profiles/c87dc713-deea-408a-8798-c4e0814fc3ce\"\n",
       "            frameborder=\"0\"\n",
       "            allowfullscreen\n",
       "            \n",
       "        ></iframe>\n",
       "        "
      ],
      "text/plain": [
       "<IPython.lib.display.IFrame at 0x199b92e7f40>"
      ]
     },
     "execution_count": 48,
     "metadata": {},
     "output_type": "execute_result"
    }
   ],
   "source": [
    "IFrame(applicants[0], width=800, height=400)"
   ]
  },
  {
   "cell_type": "code",
   "execution_count": 49,
   "id": "2b8bc542-54f1-4f0f-a1dd-fdb77252c1e0",
   "metadata": {
    "tags": []
   },
   "outputs": [
    {
     "name": "stdout",
     "output_type": "stream",
     "text": [
      "Romain resume | HiredChina - Jobs in China for Foreigners\n",
      "Login/Sign up\n",
      "EN\n",
      "/\n",
      "中文\n",
      "Jobs\n",
      "Candidates\n",
      "Articles\n",
      "Login\n",
      "Sign up\n",
      "EN\n",
      "/\n",
      "中文\n",
      "/\n",
      "Mobile development engineer\n",
      "/\n",
      "Current\n",
      "/\n",
      "Romain\n",
      "Mobile app developer\n",
      "25 years old\n",
      "Mobile development engineer\n",
      "Come from\n",
      "France\n",
      "Living in France - Lille\n",
      "Language\n",
      ":\n",
      "French\n",
      ",\n",
      "English\n",
      "Mandarin\n",
      ":\n",
      "not at all\n",
      "Share\n",
      "Share\n",
      "Summary\n",
      "My name is Romain, I'm a french mobile app developer with 3 years of experience who has graduated from Epitech.\n",
      "I helped start-ups and bigger companies to upgrade their products.\n",
      "I am willing to find new challenges, work on creative and innovative projects in China.\n",
      "Experience\n",
      "Flutter developer\n",
      "Fastlane Educations\n",
      "Nov 2022\n",
      "-\n",
      "Aug 2023\n",
      "(9 months)\n",
      "Co-designing the application within an agile team.\n",
      "Developing the Speechlab application in Flutter from scratch.\n",
      "Deploying the application on stores (AppStore, PlayStore).\n",
      "Managing CI/CD for the application.\n",
      "Flutter developer\n",
      "Symbol-it\n",
      "Apr 2022\n",
      "-\n",
      "Nov 2022\n",
      "(7 months)\n",
      "Development of a mobile application for La Pioche.\n",
      "Development of a mobile application for Fastlane Education.\n",
      "Flutter developer\n",
      "GAAP Solutions\n",
      "Oct 2021\n",
      "-\n",
      "May 2022\n",
      "(7 months)\n",
      "Migration from Flutter 1 to Flutter 2.\n",
      "Migration from Flutter mobile to Flutter web.\n",
      "Integration of a payment method (Stripe).\n",
      "Flutter developer\n",
      "ADEO\n",
      "Apr 2020\n",
      "-\n",
      "Jul 2020\n",
      "(3 months)\n",
      "Development of a prototype application for in-store\n",
      "personnel.\n",
      "Education List\n",
      "Epitech\n",
      ",\n",
      "Informations technologies\n",
      "Oct 2017\n",
      "-\n",
      "Sep 2022\n",
      "(5 years)\n",
      "Epitech is a private institution of higher education in computer science and software engineering.\n",
      "Skills\n",
      "Flutter\n",
      "Firebase\n",
      "CI/CD\n",
      "Mobile app developement\n",
      "ANDROID\n",
      "IOS\n",
      "Clean architecture\n",
      "Git\n",
      "Unit tests\n",
      "Contact Info\n",
      "(+33) 7****0121\n",
      "****@****\n",
      "*****\n",
      "Download contact info\n",
      "How to get the contact info and download attachments of this candidate?\n",
      "Resume purchasable for recruiter membership accounts\n",
      "People also viewed\n",
      "HiredChina\n",
      "Helping Chinese enterprises recruit global talent\n",
      "Making it easier for foreigners to live and work in China\n",
      "2015 - 2024 HiredChina\n",
      "All rights reserved.\n"
     ]
    }
   ],
   "source": [
    "print(parsing_process(applicants[0]))"
   ]
  },
  {
   "cell_type": "code",
   "execution_count": null,
   "id": "0c9b5aab-a9d5-482a-9bbe-5bff77cee41e",
   "metadata": {},
   "outputs": [],
   "source": [
    "# print(parsing_process(\"https://www.freelancer.com/u/divyadhakecha1\"))"
   ]
  },
  {
   "cell_type": "markdown",
   "id": "1a74bf02-61db-4b78-ba98-013ebc8f77eb",
   "metadata": {},
   "source": [
    "### Extract the Resume"
   ]
  },
  {
   "cell_type": "code",
   "execution_count": 50,
   "id": "6b7a14c9-84d9-4a67-be3f-feefe74244b4",
   "metadata": {
    "tags": []
   },
   "outputs": [],
   "source": [
    "from langchain_core.output_parsers import StrOutputParser\n",
    "\n",
    "\n",
    "system_template = \"\"\"\n",
    "                  I am going to give you a template for your output. \n",
    "                  CAPITALIZED WORDS are my placeholders. \n",
    "                  Fill in my placeholders with your output. Please preserve \n",
    "                  the overall formatting of my template. My template is:\n",
    "\n",
    "                  *** Working Experience:*** WORKING EXPERIENCE \n",
    "                  *** Education:*** EDUCATION\n",
    "                  *** Skills:*** SKILLS\n",
    "\n",
    "                  I will give you the data to format in the next prompt. \n",
    "                  Create a resume using my template.\n",
    "                  \"\"\"\n",
    "\n",
    "human_template = \"\"\"\n",
    "                 {query}\n",
    "                 \"\"\"\n",
    "\n",
    "input_ = {\"system\": {\"template\": system_template},\n",
    "          \"human\": {\"template\": human_template,\n",
    "                    \"input_variable\": [\"query\"]}}\n",
    "\n",
    "resume_prompt_template = build_standard_chat_prompt_template(input_)\n",
    "\n",
    "resume_pipeline = {\"query\": parsing_process}|resume_prompt_template|model|StrOutputParser()"
   ]
  },
  {
   "cell_type": "code",
   "execution_count": 51,
   "id": "81388d28-d18a-4750-8151-4cb394ad71e1",
   "metadata": {
    "tags": []
   },
   "outputs": [],
   "source": [
    "resume_output = resume_pipeline.invoke(applicants[0])"
   ]
  },
  {
   "cell_type": "code",
   "execution_count": 52,
   "id": "f77226af-b87d-4803-b694-02aa55539298",
   "metadata": {
    "tags": []
   },
   "outputs": [
    {
     "name": "stdout",
     "output_type": "stream",
     "text": [
      "*** Working Experience:*** \n",
      "- **Flutter Developer, Fastlane Educations**  \n",
      "  Nov 2022 - Aug 2023 (9 months)  \n",
      "  - Co-designed the application within an agile team.\n",
      "  - Developed the Speechlab application in Flutter from scratch.\n",
      "  - Deployed the application on stores (AppStore, PlayStore).\n",
      "  - Managed CI/CD for the application.\n",
      "\n",
      "- **Flutter Developer, Symbol-it**  \n",
      "  Apr 2022 - Nov 2022 (7 months)  \n",
      "  - Developed a mobile application for La Pioche.\n",
      "  - Developed a mobile application for Fastlane Education.\n",
      "\n",
      "- **Flutter Developer, GAAP Solutions**  \n",
      "  Oct 2021 - May 2022 (7 months)  \n",
      "  - Migrated from Flutter 1 to Flutter 2.\n",
      "  - Migrated from Flutter mobile to Flutter web.\n",
      "  - Integrated a payment method (Stripe).\n",
      "\n",
      "- **Flutter Developer, ADEO**  \n",
      "  Apr 2020 - Jul 2020 (3 months)  \n",
      "  - Developed a prototype application for in-store personnel.\n",
      "\n",
      "*** Education:*** \n",
      "- **Epitech, Information Technologies**  \n",
      "  Oct 2017 - Sep 2022 (5 years)  \n",
      "  Epitech is a private institution of higher education in computer science and software engineering.\n",
      "\n",
      "*** Skills:*** \n",
      "- Flutter\n",
      "- Firebase\n",
      "- CI/CD\n",
      "- Mobile app development\n",
      "- Android\n",
      "- iOS\n",
      "- Clean architecture\n",
      "- Git\n",
      "- Unit tests\n"
     ]
    }
   ],
   "source": [
    "print(resume_output)"
   ]
  },
  {
   "cell_type": "markdown",
   "id": "6823b73a-8c52-45e6-8dfd-901732a25767",
   "metadata": {},
   "source": [
    "### Match the resume and the job\n",
    "\n",
    "#### 1. Create Parser\n",
    "\n",
    "- Define Response Schemas (定義響應模式)\n",
    "- Create a Structured Output Parser (創建結構化輸出解析器)\n",
    "- Get Format Instructions (獲取格式說明)"
   ]
  },
  {
   "cell_type": "code",
   "execution_count": 53,
   "id": "cc2b73ec-d204-47b0-9d31-f103b609ba21",
   "metadata": {},
   "outputs": [],
   "source": [
    "response_schemas = [\n",
    "        ResponseSchema(name=\"result\", description=\"\"\"If the candidate is a good fit, \n",
    "        either `Yes` or `No` \n",
    "        \"\"\"),\n",
    "        ResponseSchema(name=\"reason\", description=\"\"\"Applicant - Job matching \n",
    "        \"\"\")\n",
    "]\n",
    "\n",
    "structured_output_parser = StructuredOutputParser.from_response_schemas(response_schemas)\n",
    "format_instructions = structured_output_parser.get_format_instructions()"
   ]
  },
  {
   "cell_type": "markdown",
   "id": "293333e8-8106-4d23-8bd3-115b15ac6f48",
   "metadata": {},
   "source": [
    "### 2. Create Template\n",
    "\n",
    "- Create a System Prompt Template (創建系統提示模板)\n",
    "- Create a System Message Prompt Template (創建系統訊息提示模板)\n",
    "- Create a Human Prompt Template (創建人類提示模板)\n",
    "- Create a Human Message Prompt Template (創建人類訊息提示模板)\n",
    "- Create a Chat Prompt Template (創建對話提示模板)"
   ]
  },
  {
   "cell_type": "code",
   "execution_count": 54,
   "id": "a1390f7e-9f85-4a71-9860-f017b10ce879",
   "metadata": {
    "tags": []
   },
   "outputs": [],
   "source": [
    "system_template = \"\"\"\n",
    "                  You are an AI assistant acting as an experienced senior \n",
    "                  recruiter in IT field.\n",
    "                  \n",
    "                  You are assigned a task of identifying if an applicant, \n",
    "                  based on the description in the resume, is a good match to the described job. \n",
    "                    \n",
    "                  You always do the best work you can. You are highly \n",
    "                  analytical and pay close attention to details. \n",
    "                  \"\"\"\n",
    "\n",
    "human_template = \"\"\"\n",
    "                 Job description: {job};\n",
    "                 resume: {resume}; format_instructions: {format_instructions}\n",
    "                 \"\"\"\n",
    "\n",
    "input_ = {\"system\": {\"template\": system_template},\n",
    "          \"human\": {\"template\": human_template,\n",
    "                    \"input_variable\": [\"job\", \"resume\"],\n",
    "                    \"partial_variables\": {'format_instructions': format_instructions}}}\n",
    "\n",
    "match_prompt_template = build_standard_chat_prompt_template(input_)"
   ]
  },
  {
   "cell_type": "markdown",
   "id": "dc647902-b8e7-446b-b0c1-6ae2b6678fc7",
   "metadata": {},
   "source": [
    "### 3. Build the Chain\n",
    "\n",
    "- Chain the Prompt Template with the Model and Parser (將提示模板與模型和解析器鏈接)"
   ]
  },
  {
   "cell_type": "code",
   "execution_count": 55,
   "id": "4ee8e78e-49b7-481b-9a26-f1f9ddcdb83a",
   "metadata": {},
   "outputs": [],
   "source": [
    "matching_pipeline = match_prompt_template|model|structured_output_parser"
   ]
  },
  {
   "cell_type": "code",
   "execution_count": 56,
   "id": "fe2a6215-3e77-4736-9f4c-54dcc9a6c130",
   "metadata": {
    "tags": []
   },
   "outputs": [],
   "source": [
    "matching_output = matching_pipeline.invoke({\"job\":job_description, \"resume\":resume_output})"
   ]
  },
  {
   "cell_type": "code",
   "execution_count": 57,
   "id": "52226361-b458-45e2-a17d-bb47f2f3e7a9",
   "metadata": {
    "tags": []
   },
   "outputs": [
    {
     "data": {
      "text/plain": [
       "{'result': 'No',\n",
       " 'reason': \"The applicant has extensive experience in Flutter development but lacks experience in ReactJS, which is a key requirement for the job. Additionally, the applicant does not demonstrate proficiency in JavaScript, HTML5, CSS3, or experience with performance tuning using Lighthouse, state management libraries like Redux, or front-end build tools such as Webpack, which are all essential for the position. The applicant's experience is primarily focused on mobile app development rather than front-end web development using ReactJS.\"}"
      ]
     },
     "execution_count": 57,
     "metadata": {},
     "output_type": "execute_result"
    }
   ],
   "source": [
    "matching_output"
   ]
  },
  {
   "cell_type": "markdown",
   "id": "58ed3c6f-6a52-48b4-aab9-cadd8bc13fcb",
   "metadata": {},
   "source": [
    "### 4. An End to End application\n",
    "\n",
    "- Job description: 固定住，對某一群申請者來說這是不會變的\n",
    "- Applicants: 動態抽取\n",
    "- 媒合鍊"
   ]
  },
  {
   "cell_type": "code",
   "execution_count": 58,
   "id": "e9ef0972-6fd0-4c54-a3e8-68fc6a4926b1",
   "metadata": {},
   "outputs": [
    {
     "data": {
      "image/png": "[encoded data removed]",
      "text/plain": [
       "<IPython.core.display.Image object>"
      ]
     },
     "execution_count": 58,
     "metadata": {},
     "output_type": "execute_result"
    }
   ],
   "source": [
    "Image(filename= \"tutorial/LLM+Langchain/Week-3/LCEL_3.png\")"
   ]
  },
  {
   "cell_type": "code",
   "execution_count": 59,
   "id": "b412464f-0cd9-43cc-bdfd-4989a2218f02",
   "metadata": {},
   "outputs": [],
   "source": [
    "from operator import itemgetter\n",
    "\n",
    "from langchain_core.runnables import RunnablePassthrough\n",
    "\n",
    "# resume_pipeline: url -> a resume\n",
    "# matching_pipeline: receive the resume and match it with the job description\n",
    "\n",
    "step_1 = RunnablePassthrough.assign(resume=itemgetter(\"url\")|resume_pipeline)\n",
    "step_2 = matching_pipeline\n",
    "e2e_chain = step_1|step_2"
   ]
  },
  {
   "cell_type": "code",
   "execution_count": 60,
   "id": "e3d17b78-5e04-48b0-b350-1a8bf04e977f",
   "metadata": {},
   "outputs": [
    {
     "data": {
      "text/plain": [
       "{'result': 'No',\n",
       " 'reason': \"The applicant has extensive experience in UI/UX and web development, but there is no mention of experience with ReactJS, which is a critical requirement for the Software Engineer position at Bridgespace Group. Additionally, the applicant's recent work experience does not align with the 4+ years of front-end development using ReactJS required for the role. The skills listed focus more on design and development using platforms like WordPress, Shopify, and Webflow, rather than the specific technologies and tools mentioned in the job description, such as Redux, Webpack, npm, and RESTful APIs.\"}"
      ]
     },
     "execution_count": 60,
     "metadata": {},
     "output_type": "execute_result"
    }
   ],
   "source": [
    "# in principle, job description is known because as an HR, you should have that\n",
    "\n",
    "e2e_chain.invoke({\"url\": \"https://www.freelancer.com/u/divyadhakecha1\",\n",
    "                  \"job\": job_description})"
   ]
  },
  {
   "cell_type": "markdown",
   "id": "97c00acb-7d5a-420c-a642-e6061e4e4a4e",
   "metadata": {},
   "source": [
    "# N-Shot Learning\n",
    "\n",
    "Imagine you have a friend who is incredibly good at understanding and completing tasks just by looking at a few examples. This is somewhat like how N-shot learning works with large language models (LLMs).\n",
    "\n",
    "## What is N-Shot Learning?\n",
    "N-shot learning is a way of teaching an AI model by giving it a small number of examples (N examples) for a particular task. Here's how it works:\n",
    "\n",
    "- 1-Shot Learning: The AI is shown one example of the task and then asked to perform a similar task.\n",
    "- Few-Shot Learning: The AI is shown a few examples (like 2, 3, or 5) of the task before it is asked to perform a similar task.\n",
    "- Zero-Shot Learning: The AI is given instructions without any examples and asked to perform the task.\n",
    "\n",
    "## Why is N-Shot Learning Useful?\n",
    "Let's say you're teaching someone how to fold a paper airplane. If you show them just one way to fold it, that's 1-shot learning. If you show them three different ways, that's 3-shot learning. By seeing these examples, they can understand the general idea and apply it to fold new paper airplanes on their own.\n",
    "\n",
    "## How Does This Work in AI?\n",
    "For AI models, like the ones used in chatbots or virtual assistants, N-shot learning allows the model to learn from a few examples rather than needing thousands of examples. Here’s a simple analogy to explain it:\n",
    "\n",
    "- Example Task: Writing a short story.\n",
    "    - 1-Shot Example: You show the AI one short story and then ask it to write a similar story.\n",
    "    - Few-Shot Example: You show the AI three different short stories and then ask it to write a new story.\n",
    "\n",
    "By doing this, the AI understands patterns, structures, and styles from the examples provided and uses this understanding to generate new and relevant content.\n",
    "\n",
    "## Benefits of N-Shot Learning\n",
    "- Efficiency: It’s much faster and requires less data to train the AI.\n",
    "- Versatility: The AI can quickly adapt to new tasks by being shown a few examples.\n",
    "- Practicality: It’s similar to how humans learn, making it easier to apply in real-world situations.\n",
    "\n",
    "## Real-World Application\n",
    "\n",
    "Imagine a customer service AI that needs to answer queries. Instead of being trained with thousands of examples, you could use N-shot learning:\n",
    "\n",
    "- Show it a few examples of customer queries and the appropriate responses.\n",
    "- The AI learns the pattern and can then generate suitable responses for new queries.\n",
    "\n",
    "In essence, N-shot learning helps AI models become smarter and more adaptable by learning from just a handful of examples, much like how we humans learn from a few demonstrations before we can do something on our own."
   ]
  },
  {
   "cell_type": "markdown",
   "id": "2c5786fd-2a50-40a0-8bcb-ce431058c2ca",
   "metadata": {},
   "source": [
    "# N-Shot 學習\n",
    "\n",
    "想像一下，你有一位朋友非常擅長理解和完成任務，只需要看幾個例子。這有點像 N-Shot 學習在大型語言模型（LLM）中的運作方式。\n",
    "\n",
    "## 什麼是 N-Shot 學習？\n",
    "\n",
    "N-Shot 學習 是通過給 AI 模型一些示例（N 個示例）來教它完成特定任務的一種方法。以下是它的運作方式：\n",
    "\n",
    "- 1-Shot 學習：AI 只看到一個任務示例，然後被要求執行類似的任務。\n",
    "- 少樣本學習（Few-Shot Learning）：AI 看到幾個（如 2、3 或 5 個）任務示例，然後被要求執行類似的任務。\n",
    "- 零樣本學習（Zero-Shot Learning）：AI 只給出指令而不提供任何示例，然後被要求執行任務。\n",
    "\n",
    "## 為什麼 N-Shot 學習有用？\n",
    "\n",
    "假設你在教某人如何摺紙飛機。如果你只給他們看一個摺紙飛機的方法，這就是 1-Shot 學習。如果你給他們看三種不同的方法，這就是 3-Shot 學習。通過這些示例，他們可以理解大致的想法，並將其應用到摺新的紙飛機上。\n",
    "\n",
    "## 這在 AI 中如何運作？\n",
    "\n",
    "對於 AI 模型（如聊天機器人或虛擬助手中使用的模型），N-Shot 學習允許模型從少量示例中學習，而不需要成千上萬的示例。這裡有一個簡單的類比來解釋：\n",
    "\n",
    "## 任務示例：寫一個短故事。\n",
    "\n",
    "- 1-Shot 示例：你給 AI 看一個短故事，然後讓它寫一個類似的故事。\n",
    "- Few-Shot 示例：你給 AI 看三個不同的短故事，然後讓它寫一個新的故事。\n",
    "- 通過這樣做，AI 從提供的示例中理解模式、結構和風格，並使用這些理解來生成新的相關內容。\n",
    "\n",
    "## N-Shot 學習的好處\n",
    "\n",
    "- 效率高：訓練 AI 的速度更快，所需數據更少。\n",
    "- 多功能性：AI 可以通過少量示例快速適應新任務。\n",
    "- 實用性：這類似於人類學習的方式，使其更容易應用於現實世界的情況。\n",
    "\n",
    "## 實際應用\n",
    "想像一下，一個需要回答問題的客服 AI。與其用成千上萬的示例進行訓練，你可以使用 N-Shot 學習：\n",
    "- 給它看一些客戶問題和適當回應的示例。\n",
    "- AI 學習模式，然後可以為新問題生成合適的回應。\n",
    "\n",
    "總之，N-Shot 學習幫助 AI 模型通過少量示例變得更聰明和更具適應性，就像我們人類通過幾次示範後就能獨立完成任務一樣。"
   ]
  },
  {
   "cell_type": "code",
   "execution_count": 61,
   "id": "4509bcf3-c22d-4cec-bb20-777f9f7e9b92",
   "metadata": {},
   "outputs": [
    {
     "data": {
      "text/html": [
       "<img src=\"https://miro.medium.com/v2/resize:fit:720/format:webp/0*0eN5uwvq7JcesVex.png\"/>"
      ],
      "text/plain": [
       "<IPython.core.display.Image object>"
      ]
     },
     "execution_count": 61,
     "metadata": {},
     "output_type": "execute_result"
    }
   ],
   "source": [
    "Image(url=\"https://miro.medium.com/v2/resize:fit:720/format:webp/0*0eN5uwvq7JcesVex.png\")"
   ]
  },
  {
   "cell_type": "code",
   "execution_count": 62,
   "id": "7094152d-7559-4163-b22f-0ce3ebb6bc67",
   "metadata": {},
   "outputs": [
    {
     "name": "stderr",
     "output_type": "stream",
     "text": [
      "C:\\Users\\MengChieh\\AppData\\Local\\Temp\\ipykernel_14264\\2452660251.py:42: LangChainDeprecationWarning: The class `HuggingFaceEmbeddings` was deprecated in LangChain 0.2.2 and will be removed in 1.0. An updated version of the class exists in the :class:`~langchain-huggingface package and should be used instead. To use it run `pip install -U :class:`~langchain-huggingface` and import as `from :class:`~langchain_huggingface import HuggingFaceEmbeddings``.\n",
      "  embedding = HuggingFaceEmbeddings(model_name=\"all-MiniLM-L6-v2\")\n",
      "C:\\Users\\MengChieh\\miniconda3\\envs\\aicg\\lib\\site-packages\\tqdm\\auto.py:21: TqdmWarning: IProgress not found. Please update jupyter and ipywidgets. See https://ipywidgets.readthedocs.io/en/stable/user_install.html\n",
      "  from .autonotebook import tqdm as notebook_tqdm\n"
     ]
    }
   ],
   "source": [
    "import re\n",
    "import unicodedata\n",
    "from typing import List\n",
    "\n",
    "import tiktoken\n",
    "from langchain_community.vectorstores import FAISS\n",
    "from langchain.docstore.document import Document\n",
    "from langchain_community.embeddings import HuggingFaceEmbeddings\n",
    "from langchain.retrievers import EnsembleRetriever\n",
    "from langchain_core.prompts import ChatPromptTemplate, FewShotChatMessagePromptTemplate\n",
    "\n",
    "from src.io.path_definition import get_project_dir\n",
    "\n",
    "\n",
    "encoder = tiktoken.encoding_for_model(\"gpt-4\")\n",
    "\n",
    "\n",
    "def remove_special_characters(text):\n",
    "    # Step 1: Normalize to remove accents\n",
    "    text = unicodedata.normalize('NFD', text)  # Decompose characters into base + accents\n",
    "    text = ''.join([char for char in text if unicodedata.category(char) != 'Mn'])  # Remove accents\n",
    "\n",
    "    text = re.sub(r'[^\\w]', ' ', text)  # This removes all characters that are not word characters or spaces\n",
    "\n",
    "    return text\n",
    "\n",
    "\n",
    "def _preprocess_func(text: str) -> List[str]:\n",
    "\n",
    "    text = remove_special_characters(text)\n",
    "\n",
    "    # Lowercase the input text\n",
    "    lowered = text.lower()\n",
    "\n",
    "    # Convert the lowered text into tokens\n",
    "    tokens = encoder.encode(lowered)\n",
    "\n",
    "    # Stringify the tokens\n",
    "    return [str(token) for token in tokens]\n",
    "\n",
    "\n",
    "embedding = HuggingFaceEmbeddings(model_name=\"all-MiniLM-L6-v2\")\n",
    "\n",
    "filename = os.path.join(get_project_dir(), 'tutorial', 'LLM+Langchain', 'Week-3', \"benchmark.csv\")\n",
    "\n",
    "df_cosmetic = pd.read_csv(filename)\n",
    "\n",
    "documents = []\n",
    " \n",
    "for _, row in df_cosmetic.iterrows():\n",
    "    document = Document(page_content=row['Description'],\n",
    "                        metadata={\"compound_category\": row['compound_category']})\n",
    "    documents.append(document)\n",
    "\n",
    "vectorstore = FAISS.from_documents(documents, embedding=embedding)\n",
    "\n",
    "embedding_retriever = vectorstore.as_retriever(search_type=\"similarity\",\n",
    "                                               search_kwargs={'k': 5})\n",
    "\n",
    "bm25_retriever = BM25Retriever.from_documents(documents,\n",
    "                                              k=5, bm25_params={\"k1\": 2.5},\n",
    "                                              preprocess_func=_preprocess_func)\n",
    "\n",
    "ensemble_retriever = EnsembleRetriever(\n",
    "    retrievers=[bm25_retriever, embedding_retriever], weights=[0.5, 0.5]\n",
    ")"
   ]
  },
  {
   "cell_type": "code",
   "execution_count": 63,
   "id": "2da64cf7-10eb-4f3e-b565-81e54a0dd6f0",
   "metadata": {},
   "outputs": [],
   "source": [
    "from langchain_core.prompts.few_shot import FewShotChatMessagePromptTemplate\n",
    "\n",
    "query = \"Max Factor Colour Elixir Lipstick 837\"\n",
    "\n",
    "examples = ensemble_retriever.invoke(query)\n",
    "\n",
    "example_inputs = []\n",
    "\n",
    "for example in examples[1:]:\n",
    "    example_inputs.append({\"input\": example.page_content, \n",
    "                           \"output\": example.metadata['compound_category']})\n",
    "    "
   ]
  },
  {
   "cell_type": "code",
   "execution_count": 64,
   "id": "33fcb37b-baba-4c54-834c-f4efb33aa2e5",
   "metadata": {},
   "outputs": [
    {
     "data": {
      "text/plain": [
       "[{'input': 'Max Factor Colour Elixir Lipstick 853',\n",
       "  'output': 'Colour;Lip;Lipstick'},\n",
       " {'input': 'Max Factor Colour Elixir Lipstick 715',\n",
       "  'output': 'Colour;Lip;Lipstick'},\n",
       " {'input': 'Max Factor Colour Elixir Lipstick 894',\n",
       "  'output': 'Colour;Lip;Lipstick'},\n",
       " {'input': 'Max Factor Colour Elixir Lipstick 825',\n",
       "  'output': 'Colour;Lip;Lipstick'},\n",
       " {'input': 'Max Factor Colour Elixir Lipstick 685',\n",
       "  'output': 'Colour;Lip;Lipstick'},\n",
       " {'input': 'Max Factor Colour Elixir Lipstick 025',\n",
       "  'output': 'Colour;Lip;Lipstick'}]"
      ]
     },
     "execution_count": 64,
     "metadata": {},
     "output_type": "execute_result"
    }
   ],
   "source": [
    "example_inputs"
   ]
  },
  {
   "cell_type": "markdown",
   "id": "43178d7e-fe58-4779-9909-516fac96c977",
   "metadata": {},
   "source": [
    "### 2. Creating an Example Prompt (創建示例提示)\n",
    "\n",
    "- This line creates a ChatPromptTemplate for the examples. It defines a conversation where the human's message is the input ({input}), and the AI's response is the output ({output}). This template will be used to format the examples consistently.\n",
    "- 這行代碼為示例創建了一個 ChatPromptTemplate。它定義了一個對話，其中人類的訊息是輸入（{input}），AI 的回應是輸出（{output}）。這個模板將用於一致地格式化示例。"
   ]
  },
  {
   "cell_type": "code",
   "execution_count": 65,
   "id": "3a532573-4544-4cd2-ab52-0cd0bb25d8d7",
   "metadata": {},
   "outputs": [],
   "source": [
    "example_prompt = ChatPromptTemplate.from_messages(\n",
    "    [('human', '{input}'), ('ai', '{output}')]\n",
    ")"
   ]
  },
  {
   "cell_type": "markdown",
   "id": "91d2a205-0a2d-4c64-be97-021877098d74",
   "metadata": {},
   "source": [
    "### 3. Creating a Few-Shot Prompt Template (創建少樣本提示模板)\n",
    "\n",
    "- This line creates a FewShotChatMessagePromptTemplate. It takes the example_prompt and the list of example_inputs as arguments. This template will use the provided examples to guide the AI in generating responses, mimicking the structure of the examples.\n",
    "- 這行代碼創建了一個 FewShotChatMessagePromptTemplate。它將 example_prompt 和 example_inputs 列表作為參數。該模板將使用提供的示例來指導 AI 生成回應，模仿示例的結構。"
   ]
  },
  {
   "cell_type": "code",
   "execution_count": 66,
   "id": "c5edde5e-171c-4a4c-985c-ea77c267d160",
   "metadata": {},
   "outputs": [],
   "source": [
    "few_shot_message = FewShotChatMessagePromptTemplate(\n",
    "    example_prompt=example_prompt,\n",
    "    examples=example_inputs,\n",
    ")"
   ]
  },
  {
   "cell_type": "code",
   "execution_count": 67,
   "id": "0db57e7d-afd3-48d7-935c-1a9aef232ac9",
   "metadata": {},
   "outputs": [
    {
     "data": {
      "text/plain": [
       "<bound method BaseChatPromptTemplate.format_prompt of FewShotChatMessagePromptTemplate(examples=[{'input': 'Max Factor Colour Elixir Lipstick 853', 'output': 'Colour;Lip;Lipstick'}, {'input': 'Max Factor Colour Elixir Lipstick 715', 'output': 'Colour;Lip;Lipstick'}, {'input': 'Max Factor Colour Elixir Lipstick 894', 'output': 'Colour;Lip;Lipstick'}, {'input': 'Max Factor Colour Elixir Lipstick 825', 'output': 'Colour;Lip;Lipstick'}, {'input': 'Max Factor Colour Elixir Lipstick 685', 'output': 'Colour;Lip;Lipstick'}, {'input': 'Max Factor Colour Elixir Lipstick 025', 'output': 'Colour;Lip;Lipstick'}], input_variables=[], input_types={}, partial_variables={}, example_prompt=ChatPromptTemplate(input_variables=['input', 'output'], input_types={}, partial_variables={}, messages=[HumanMessagePromptTemplate(prompt=PromptTemplate(input_variables=['input'], input_types={}, partial_variables={}, template='{input}'), additional_kwargs={}), AIMessagePromptTemplate(prompt=PromptTemplate(input_variables=['output'], input_types={}, partial_variables={}, template='{output}'), additional_kwargs={})]))>"
      ]
     },
     "execution_count": 67,
     "metadata": {},
     "output_type": "execute_result"
    }
   ],
   "source": [
    "few_shot_message.format_prompt"
   ]
  },
  {
   "cell_type": "code",
   "execution_count": 69,
   "id": "19cf9807-489c-47f3-9d2a-f900b9b78aa6",
   "metadata": {},
   "outputs": [],
   "source": [
    "response_schemas = [\n",
    "            ResponseSchema(name=\"category\", description=\"\"\"\n",
    "                                                        product category. It must be from one of the LABEL.\n",
    "                                                        In case you do not know the answer, reply `MinorityHierarchy`\n",
    "                                                     \"\"\"),\n",
    "            ResponseSchema(name=\"reason\", description=\"\"\"\n",
    "                                                    why you make such as decision.`\n",
    "                                                    \"\"\")\n",
    "        ]\n",
    "\n",
    "output_parser = StructuredOutputParser.from_response_schemas(response_schemas)\n",
    "\n",
    "format_instructions = output_parser.get_format_instructions()\n",
    "\n",
    "\n",
    "n_shot_system_template = \"\"\"\n",
    "                          You are a helpful assistant. You are assigned with a task of identifying the CATEGORY of a PRODUCT.\n",
    "        \n",
    "                          CATEGORY is from one of the following:\n",
    "        \n",
    "                          - `Colour;Eye;Eye Pencil`\n",
    "                          - `Colour;Eye;Eye Specials`\n",
    "                          - `Colour;Eye;Eyeliner`\n",
    "                          - `Colour;Eye;Eyeshadow`\n",
    "                          - `Colour;Eye;Mascara`\n",
    "                          - `Colour;Face;Blush + Highlighter`\n",
    "                          - `Colour;Face;Body/Other`\n",
    "                          - `Colour;Face;Concealer`\n",
    "                          - `Colour;Face;Make-up`\n",
    "                          - `Colour;Face;Powder + Bronzer`\n",
    "                          - `Colour;Lip;Lip Pencil`\n",
    "                          - `Colour;Lip;Lip Specials / Others`\n",
    "                          - `Colour;Lip;Lipgloss`\n",
    "                          - `Colour;Lip;Lipstick`\n",
    "                          - `Colour;Nail;Base & Top Coats`\n",
    "                          - `Colour;Nail;French Manicure`\n",
    "                          - `Colour;Nail;Nail Art`\n",
    "                          - `Colour;Nail;Nail Care`\n",
    "                          - `Colour;Nail;Nailpolish`\n",
    "                          - `Colour;Nail;Professional Nails`\n",
    "                          - `Fragrance;Eau de toilette`\n",
    "                          - `Hand Cream;Care`\n",
    "                          - `Pure Skin;Cleanser`\n",
    "                \n",
    "                          \"\"\"\n",
    "\n",
    "system_prompt = PromptTemplate(template=n_shot_system_template)\n",
    "\n",
    "system_message = SystemMessagePromptTemplate(prompt=system_prompt)\n",
    "\n",
    "human_prompt = PromptTemplate(template=\"\"\"\n",
    "                                       What is the CATEGORY of {input}?\n",
    "\n",
    "                                       format instruction: {format_instructions}\n",
    "                                       \"\"\",\n",
    "                               partial_variables={\"format_instructions\": format_instructions})\n",
    "\n",
    "human_message = HumanMessagePromptTemplate(prompt=human_prompt) \n",
    "\n",
    "chat_prompt = ChatPromptTemplate.from_messages([system_message,\n",
    "                                                few_shot_message,\n",
    "                                                human_message\n",
    "                                               ])\n"
   ]
  },
  {
   "cell_type": "code",
   "execution_count": 70,
   "id": "78d7c24d-b726-4c4f-9a29-cabda21c6925",
   "metadata": {},
   "outputs": [
    {
     "data": {
      "text/plain": [
       "ChatPromptValue(messages=[SystemMessage(content='\\n                          You are a helpful assistant. You are assigned with a task of identifying the CATEGORY of a PRODUCT.\\n        \\n                          CATEGORY is from one of the following:\\n        \\n                          - `Colour;Eye;Eye Pencil`\\n                          - `Colour;Eye;Eye Specials`\\n                          - `Colour;Eye;Eyeliner`\\n                          - `Colour;Eye;Eyeshadow`\\n                          - `Colour;Eye;Mascara`\\n                          - `Colour;Face;Blush + Highlighter`\\n                          - `Colour;Face;Body/Other`\\n                          - `Colour;Face;Concealer`\\n                          - `Colour;Face;Make-up`\\n                          - `Colour;Face;Powder + Bronzer`\\n                          - `Colour;Lip;Lip Pencil`\\n                          - `Colour;Lip;Lip Specials / Others`\\n                          - `Colour;Lip;Lipgloss`\\n                          - `Colour;Lip;Lipstick`\\n                          - `Colour;Nail;Base & Top Coats`\\n                          - `Colour;Nail;French Manicure`\\n                          - `Colour;Nail;Nail Art`\\n                          - `Colour;Nail;Nail Care`\\n                          - `Colour;Nail;Nailpolish`\\n                          - `Colour;Nail;Professional Nails`\\n                          - `Fragrance;Eau de toilette`\\n                          - `Hand Cream;Care`\\n                          - `Pure Skin;Cleanser`\\n                \\n                          ', additional_kwargs={}, response_metadata={}), HumanMessage(content='Max Factor Colour Elixir Lipstick 853', additional_kwargs={}, response_metadata={}), AIMessage(content='Colour;Lip;Lipstick', additional_kwargs={}, response_metadata={}), HumanMessage(content='Max Factor Colour Elixir Lipstick 715', additional_kwargs={}, response_metadata={}), AIMessage(content='Colour;Lip;Lipstick', additional_kwargs={}, response_metadata={}), HumanMessage(content='Max Factor Colour Elixir Lipstick 894', additional_kwargs={}, response_metadata={}), AIMessage(content='Colour;Lip;Lipstick', additional_kwargs={}, response_metadata={}), HumanMessage(content='Max Factor Colour Elixir Lipstick 825', additional_kwargs={}, response_metadata={}), AIMessage(content='Colour;Lip;Lipstick', additional_kwargs={}, response_metadata={}), HumanMessage(content='Max Factor Colour Elixir Lipstick 685', additional_kwargs={}, response_metadata={}), AIMessage(content='Colour;Lip;Lipstick', additional_kwargs={}, response_metadata={}), HumanMessage(content='Max Factor Colour Elixir Lipstick 025', additional_kwargs={}, response_metadata={}), AIMessage(content='Colour;Lip;Lipstick', additional_kwargs={}, response_metadata={}), HumanMessage(content='\\n                                       What is the CATEGORY of Max Factor Colour Elixir Lipstick 837?\\n\\n                                       format instruction: The output should be a markdown code snippet formatted in the following schema, including the leading and trailing \"```json\" and \"```\":\\n\\n```json\\n{\\n\\t\"category\": string  // \\n                                                        product category. It must be from one of the LABEL.\\n                                                        In case you do not know the answer, reply `MinorityHierarchy`\\n                                                     \\n\\t\"reason\": string  // \\n                                                    why you make such as decision.`\\n                                                    \\n}\\n```\\n                                       ', additional_kwargs={}, response_metadata={})])"
      ]
     },
     "execution_count": 70,
     "metadata": {},
     "output_type": "execute_result"
    }
   ],
   "source": [
    "chat_prompt.invoke({\"input\": query})"
   ]
  },
  {
   "cell_type": "code",
   "execution_count": 71,
   "id": "bfc5f0e3-ce79-4243-b43a-f1c158435566",
   "metadata": {},
   "outputs": [
    {
     "name": "stdout",
     "output_type": "stream",
     "text": [
      "{'category': 'Colour;Lip;Lipstick', 'reason': \"The product name 'Max Factor Colour Elixir Lipstick 837' clearly indicates that it is a lipstick. The category for lipsticks is 'Colour;Lip;Lipstick'.\"}\n"
     ]
    }
   ],
   "source": [
    "pipeline = chat_prompt|model|output_parser\n",
    "\n",
    "output = pipeline.invoke({\"input\":query})\n",
    "\n",
    "print(output)"
   ]
  },
  {
   "cell_type": "markdown",
   "id": "87b8fdca-2eeb-4650-903c-ba6fbba6d414",
   "metadata": {},
   "source": [
    "## Can we chain this together with LCEL?"
   ]
  },
  {
   "cell_type": "code",
   "execution_count": null,
   "id": "f294b414-cd5f-4684-83af-df7b528417a8",
   "metadata": {},
   "outputs": [],
   "source": [
    "from operator import itemgetter\n",
    "\n",
    "from langchain_core.runnables import RunnableLambda, RunnableParallel, RunnablePassthrough"
   ]
  },
  {
   "cell_type": "code",
   "execution_count": null,
   "id": "9102c59c-aa52-4ee9-a53e-b8cd467f92cd",
   "metadata": {},
   "outputs": [],
   "source": [
    "def build_standard_chat_prompt_template_v2(kwargs):\n",
    "\n",
    "    messages = []\n",
    "    \n",
    "    for key in ['system', 'few_shot', 'human']:\n",
    "        if kwargs.get(key):\n",
    "            if key == 'system':\n",
    "                system_content = kwargs['system']\n",
    "                system_prompt = PromptTemplate(**system_content)\n",
    "                message = SystemMessagePromptTemplate(prompt=system_prompt)\n",
    "            elif key == 'human':\n",
    "                human_content = kwargs['human']\n",
    "                human_prompt = PromptTemplate(**human_content)\n",
    "                message = HumanMessagePromptTemplate(prompt=human_prompt)\n",
    "            else:\n",
    "                few_shot_content = kwargs['few_shot']\n",
    "                message = FewShotChatMessagePromptTemplate(**few_shot_content)\n",
    "            \n",
    "            messages.append(message)\n",
    "    \n",
    "    chat_prompt = ChatPromptTemplate.from_messages(messages)\n",
    "\n",
    "    return chat_prompt"
   ]
  },
  {
   "cell_type": "code",
   "execution_count": null,
   "id": "9a03bf32-4113-4e0b-bb2a-cbf1a4ad7f5e",
   "metadata": {},
   "outputs": [],
   "source": [
    "@chain\n",
    "def few_shot_prompt_fn(data):\n",
    "\n",
    "    example_prompt = ChatPromptTemplate.from_messages(\n",
    "        [('human', '{input}'), ('ai', '{output}')]\n",
    "    )\n",
    "\n",
    "    examples = []\n",
    "    \n",
    "    for example in data['examples']:\n",
    "        examples.append({\"input\": example.page_content, \n",
    "                         \"output\": example.metadata['compound_category']})\n",
    "    \n",
    "    few_shot_prompt = FewShotChatMessagePromptTemplate(\n",
    "        example_prompt=example_prompt,\n",
    "        examples=examples\n",
    "    )\n",
    "\n",
    "    human_template = \"\"\"\n",
    "                     What is the CATEGORY of {input}?\n",
    "\n",
    "                     format instruction: {format_instructions}\n",
    "                     \"\"\"\n",
    "    \n",
    "    input_ = {\"system\": {\"template\": n_shot_system_template},\n",
    "              \"human\": {\"template\": human_template,\n",
    "                        \"partial_variables\": {\"format_instructions\": format_instructions}},\n",
    "              \"few_shot\": {\"example_prompt\": example_prompt,\n",
    "                           \"examples\": examples}}\n",
    "    \n",
    "    prompt_template = build_standard_chat_prompt_template_v2(input_)\n",
    "\n",
    "    return prompt_template"
   ]
  },
  {
   "cell_type": "code",
   "execution_count": null,
   "id": "8d9d9559-4231-4ebf-8fd4-4ff3e25a6545",
   "metadata": {},
   "outputs": [],
   "source": [
    "pipeline_ = {\"examples\": ensemble_retriever,\n",
    "             \"input\": RunnablePassthrough()}|few_shot_prompt_fn|model|output_parser"
   ]
  },
  {
   "cell_type": "code",
   "execution_count": null,
   "id": "800e7fc5-ce8f-4d9b-8075-0d76ed86e918",
   "metadata": {},
   "outputs": [],
   "source": [
    "pipeline_.invoke(query)"
   ]
  },
  {
   "cell_type": "markdown",
   "id": "de27572d-da2b-4b21-9520-448232665994",
   "metadata": {},
   "source": [
    "### Any other possibilities?\n",
    "\n",
    "The code above was finished by the end of July."
   ]
  },
  {
   "cell_type": "code",
   "execution_count": null,
   "id": "31858bf2-517f-414f-a397-c772084d8600",
   "metadata": {},
   "outputs": [],
   "source": [
    "from langchain_core.example_selectors import SemanticSimilarityExampleSelector\n",
    "\n",
    "SemanticSimilarityExampleSelector?"
   ]
  },
  {
   "cell_type": "code",
   "execution_count": null,
   "id": "ed90ddb4-742d-4bf2-90fc-6c92e56e9484",
   "metadata": {},
   "outputs": [],
   "source": [
    "example_prompt = PromptTemplate(\n",
    "    input_variables=[\"input\", \"output\"],\n",
    "    template=\"human: {input}\\nai: {output}\",\n",
    ")\n",
    "\n",
    "examples = []\n",
    "\n",
    "for _, row in df_cosmetic.iterrows():\n",
    "\n",
    "    examples.append({\"input\": row['Description'],\n",
    "                     \"output\": row['compound_category']})"
   ]
  },
  {
   "cell_type": "code",
   "execution_count": null,
   "id": "64a91979-50fa-4e58-b154-d874d3953918",
   "metadata": {},
   "outputs": [],
   "source": [
    "from langchain_core.prompts import FewShotPromptTemplate, PromptTemplate\n",
    "\n",
    "\n",
    "embedding = HuggingFaceEmbeddings(model_name=\"all-MiniLM-L6-v2\")\n",
    "\n",
    "example_selector = SemanticSimilarityExampleSelector.from_examples(\n",
    "    # The list of examples available to select from.\n",
    "    examples=examples,\n",
    "    # The embedding class used to produce embeddings which are used to measure semantic similarity.\n",
    "    embeddings=embedding,\n",
    "    # The VectorStore class that is used to store the embeddings and do a similarity search over.\n",
    "    vectorstore_cls=FAISS,\n",
    "    # The number of examples to produce.\n",
    "    k=4,\n",
    ")\n",
    "\n",
    "## FewShotPromptTemplate here, instead of FewShotChatMessagePromptTemplate\n",
    "\n",
    "similar_prompt = FewShotPromptTemplate(\n",
    "    # We provide an ExampleSelector instead of examples.\n",
    "    example_selector=example_selector,\n",
    "    example_prompt=example_prompt,\n",
    "    prefix=n_shot_system_template,\n",
    "    suffix=\"\"\"\n",
    "           What is the CATEGORY of {input}?\n",
    "\n",
    "           format instruction: {format_instructions}\n",
    "           \"\"\",\n",
    "    input_variables=[\"input\"],\n",
    "    partial_variables={\"format_instructions\": format_instructions}\n",
    ")"
   ]
  },
  {
   "cell_type": "code",
   "execution_count": null,
   "id": "c5528fdb-f79f-4673-bf80-2bad69026ab6",
   "metadata": {},
   "outputs": [],
   "source": [
    "pipeline = similar_prompt|model|output_parser"
   ]
  },
  {
   "cell_type": "code",
   "execution_count": null,
   "id": "ba791e15-b2ca-4c24-8bd8-d0b92db2f38b",
   "metadata": {},
   "outputs": [],
   "source": [
    "pipeline.invoke({\"input\": query})"
   ]
  },
  {
   "cell_type": "markdown",
   "id": "59ba0f93-1d90-4b18-8adc-8763efa06578",
   "metadata": {},
   "source": [
    "### 回家作業 3\n",
    "\n",
    "https://python.langchain.com/v0.1/docs/modules/model_io/prompts/example_selectors/similarity/\n",
    "\n",
    "1. 替換掉examples\n",
    "<!-- 2. 替換OpenAIEmbeddings()為HuggingFaceEmbeddings -->\n",
    "3. 替換掉k值。假設為5-shot"
   ]
  },
  {
   "cell_type": "code",
   "execution_count": null,
   "id": "8b727171-e77e-4e5d-9cd0-3998e5ef2eb3",
   "metadata": {},
   "outputs": [],
   "source": []
  }
 ],
 "metadata": {
  "kernelspec": {
   "display_name": "Python 3 (ipykernel)",
   "language": "python",
   "name": "python3"
  },
  "language_info": {
   "codemirror_mode": {
    "name": "ipython",
    "version": 3
   },
   "file_extension": ".py",
   "mimetype": "text/x-python",
   "name": "python",
   "nbconvert_exporter": "python",
   "pygments_lexer": "ipython3",
   "version": "3.10.16"
  }
 },
 "nbformat": 4,
 "nbformat_minor": 5
}
