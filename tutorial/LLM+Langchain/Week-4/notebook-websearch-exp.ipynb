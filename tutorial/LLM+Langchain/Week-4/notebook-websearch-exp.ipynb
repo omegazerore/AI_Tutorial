{
 "cells": [
  {
   "cell_type": "markdown",
   "id": "9593a192-149b-4eb2-bbea-5207049b9510",
   "metadata": {},
   "source": [
    "# Websearch 優缺點與應用策略\n",
    "\n",
    "## 優點\n",
    "- **多元化來源**：涵蓋範圍廣，能提供多角度資訊。\n",
    "- **即時性**：能快速取得公開網頁上的最新內容。\n",
    "- **靈活性**：適合需要「多來源比對」的問題。\n",
    "\n",
    "## 缺點\n",
    "- **碎片化**：資訊分散、格式不一，難以直接系統化使用。\n",
    "- **品質參差不齊**：來源可靠度不同，可能存在錯誤或過時資訊。\n",
    "- **限制與風險**：部分 API 或搜尋過程可能因政策、安全或授權而阻擋特定內容。\n",
    "\n",
    "---\n",
    "\n",
    "## 何時適合使用 Websearch\n",
    "- 需要 **多角度觀點**（如新聞、論壇、社群資訊）。\n",
    "- **開放探索**，對來源精確度要求不高。\n",
    "- 無法透過單一可靠資料庫滿足需求時。\n",
    "\n",
    "---\n",
    "\n",
    "## 何時更適合使用特定來源\n",
    "- **專門領域**：如 Wikipedia、Fandom Wiki（例如遊戲、小說、Warhammer 40k）。\n",
    "- **結構化資料需求**：來源有規則的網址與內容組織，便於程式化檢索。\n",
    "- **高可信度需求**：減少處理過多雜訊。\n",
    "\n",
    "---\n",
    "\n",
    "## API 使用注意事項\n",
    "- **安全審查阻擋**：可能因涉及「不允許或敏感內容」而無法獲取公開資料。\n",
    "- **授權與限制**：包含付費牆、Rate Limit、隱私規範等。\n",
    "- **備援角色**：Websearch 可作為補充方案，但不一定是萬能解決方式。\n",
    "\n",
    "---\n",
    "\n",
    "## 總結\n",
    "Websearch 提供了 **廣泛而多元的資訊**，但也帶來 **碎片化與品質問題**。  \n",
    "若需求明確、可依靠結構化且可信的來源（如 Wikipedia、Fandom），應優先選用。  \n",
    "若需要多角度、開放探索或無特定資料庫可依賴時，Websearch 才能發揮最大價值。\n",
    "\n",
    "\n",
    "## 返無 歸一\n",
    "\n",
    "- 假設你確定在某個來源肯定有資訊的時候，取得該來源的網址\n",
    "- 使用第一周和第三周的技巧爬取網址的內容\n",
    "- 透過LLM提取你要的訊息"
   ]
  },
  {
   "cell_type": "code",
   "execution_count": null,
   "id": "b82d813c-8b0e-4eac-a2b4-d514644797b7",
   "metadata": {},
   "outputs": [],
   "source": [
    "import os\n",
    "\n",
    "os.chdir(\"../../../\")"
   ]
  },
  {
   "cell_type": "code",
   "execution_count": null,
   "id": "2d5823b5-5be4-44c8-9510-2dd233c39943",
   "metadata": {},
   "outputs": [],
   "source": [
    "from openai import OpenAI\n",
    "from textwrap import dedent\n",
    "from langchain_core.output_parsers import StrOutputParser\n",
    "from langchain_core.prompts import PromptTemplate, ChatPromptTemplate, SystemMessagePromptTemplate, HumanMessagePromptTemplate\n",
    "from langchain_openai import ChatOpenAI\n",
    "\n",
    "from src.initialization import credential_init\n",
    "\n",
    "\n",
    "def build_standard_chat_prompt_template(kwargs):\n",
    "\n",
    "    messages = []\n",
    " \n",
    "    if 'system' in kwargs:\n",
    "        content = kwargs.get('system')\n",
    "        prompt = PromptTemplate(**content)\n",
    "        message = SystemMessagePromptTemplate(prompt=prompt)\n",
    "        messages.append(message)  \n",
    "\n",
    "    if 'human' in kwargs:\n",
    "        content = kwargs.get('human')\n",
    "        prompt = PromptTemplate(**content)\n",
    "        message = HumanMessagePromptTemplate(prompt=prompt)\n",
    "        messages.append(message)\n",
    "        \n",
    "    chat_prompt_template = ChatPromptTemplate.from_messages(messages)\n",
    "    \n",
    "    return chat_prompt_template\n",
    "\n",
    "credential_init()\n",
    "\n",
    "client = OpenAI(api_key=os.environ['OPENAI_API_KEY'])"
   ]
  },
  {
   "cell_type": "markdown",
   "id": "c289d53f-3581-46e0-bf67-4a223e00b396",
   "metadata": {},
   "source": [
    "### 抽取Wikipedia的內容"
   ]
  },
  {
   "cell_type": "code",
   "execution_count": null,
   "id": "e74a2cf2-b3b1-4f23-893d-f82ae4c9c3b6",
   "metadata": {},
   "outputs": [],
   "source": [
    "import requests\n",
    "\n",
    "S = requests.Session()\n",
    "\n",
    "query = \"獵人中的念能力系統\"\n",
    "\n",
    "# Wikipedia語言選擇\n",
    "URL = \"https://ja.wikipedia.org/w/api.php\"\n",
    "\n",
    "\n",
    "PARAMS = {\n",
    "    \"action\": \"parse\",\n",
    "    # Wikipedia 頁面的 關鍵字\n",
    "    \"page\": \"HUNTER×HUNTER\",\n",
    "    \"prop\": \"text\",\n",
    "    \"format\": \"json\"\n",
    "}\n",
    "\n",
    "HEADERS = {\n",
    "    \"User-Agent\": \"AI Tutorial Bot/1.0 (mengchiehling@gmail.com)\"\n",
    "}\n",
    "\n",
    "R = S.get(url=URL, params=PARAMS, headers=HEADERS)\n",
    "\n",
    "data = R.json()"
   ]
  },
  {
   "cell_type": "markdown",
   "id": "d6b78431-4e8e-4368-ba75-dc9400b03dc3",
   "metadata": {},
   "source": [
    "使用 bs4 處理數據 "
   ]
  },
  {
   "cell_type": "code",
   "execution_count": null,
   "id": "21c106d2-84ac-4975-b3df-2a6f3bd4afe2",
   "metadata": {},
   "outputs": [],
   "source": [
    "from bs4 import BeautifulSoup\n",
    "\n",
    "html_content = data['parse']['text'][\"*\"]\n",
    "\n",
    "soup = BeautifulSoup(html_content, \"html.parser\")\n",
    "\n",
    "# 移除 style 和 script\n",
    "for tag in soup([\"style\", \"script\"]):\n",
    "    tag.decompose()\n",
    "\n",
    "# 提取文字\n",
    "text_content = soup.get_text(separator=\"\\n\")\n",
    "\n",
    "# 清理空白與空行\n",
    "cleaned_text = \"\\n\".join(\n",
    "    line.strip() for line in text_content.splitlines() if line.strip()\n",
    ")"
   ]
  },
  {
   "cell_type": "code",
   "execution_count": null,
   "id": "222e8e8a-1e87-483f-9642-3e79f0aabf26",
   "metadata": {},
   "outputs": [],
   "source": [
    "# cleaned_text"
   ]
  },
  {
   "cell_type": "markdown",
   "id": "9f93e084-0d76-4999-8d91-42b9f4ce8fbb",
   "metadata": {},
   "source": [
    "慢慢寫Pydantic物件是可以實現的目標的，但是在應用中我們希望有更好的自動化: 根據使用者的需求自動生成物件\n",
    "\n",
    "我們嘗試結合代碼生成來輔助完成目標"
   ]
  },
  {
   "cell_type": "code",
   "execution_count": null,
   "id": "12d2fe8d-5efc-4790-8523-61841f64c55a",
   "metadata": {},
   "outputs": [],
   "source": [
    "code_example = dedent(\"\"\"\n",
    "    Name extraction: \n",
    "\n",
    "    from pydantic import BaseModel, Field\n",
    "    from langchain_core.output_parsers import PydanticOutputParser\n",
    "\n",
    "    \n",
    "    class NameExtractor(BaseModel):\n",
    "        name: str = Field(description=\"The returned name\")\n",
    "\n",
    "    output_parser = PydanticOutputParser(pydantic_object=NameExtractor)\n",
    "    format_instructions = output_parser.get_format_instructions()\n",
    "\"\"\")\n",
    "\n",
    "\n",
    "system_template = dedent(f\"\"\"\n",
    "    You are a highly skilled Python developer with expertise in large language model with Langchain framework. \n",
    "    Your task is to generate Python code to solve the user's problem.\n",
    "    Leverage the Pydantic model. \n",
    "    Your response must contain only the Python code — no explanations, comments, or additional text.\n",
    "\n",
    "    Here is an example of expected structure:\n",
    "\n",
    "    {code_example}\n",
    "\"\"\")\n",
    "\n",
    "human_template = dedent(\"\"\"{query}\n",
    "                            Code:\n",
    "                        \"\"\")\n",
    "\n",
    "\n",
    "input_ = {\"system\": {\"template\": system_template},\n",
    "          \"human\": {\"template\": human_template,\n",
    "                    \"input_variable\": [\"query\"]}}\n",
    "\n",
    "chat_prompt_template = build_standard_chat_prompt_template(input_)\n",
    "\n",
    "model = ChatOpenAI(model=\"gpt-4o-mini\")\n",
    "\n",
    "code_generation = chat_prompt_template|model|StrOutputParser()"
   ]
  },
  {
   "cell_type": "code",
   "execution_count": null,
   "id": "da0fe679-b50f-46a7-ba13-7aa45630700a",
   "metadata": {},
   "outputs": [],
   "source": [
    "generated_code = code_generation.invoke({\"query\": query})"
   ]
  },
  {
   "cell_type": "code",
   "execution_count": null,
   "id": "59fdaf51-f300-4d6a-82e8-95ea89ada73b",
   "metadata": {},
   "outputs": [],
   "source": [
    "print(generated_code)"
   ]
  },
  {
   "cell_type": "markdown",
   "id": "2d738338-dcc1-4142-93f0-fc9b6336a552",
   "metadata": {},
   "source": [
    "### 代碼執行工具"
   ]
  },
  {
   "cell_type": "code",
   "execution_count": null,
   "id": "8b5ae123-dceb-4701-850f-0731aaa39229",
   "metadata": {},
   "outputs": [],
   "source": [
    "import re\n",
    "\n",
    "from langchain_core.runnables import chain\n",
    "\n",
    "@chain\n",
    "def code_execution(code):\n",
    "    \n",
    "    match = re.findall(r\"python\\n(.*?)\\n```\", code, re.DOTALL)\n",
    "    python_code = match[0]\n",
    "    \n",
    "    lines = python_code.strip()#.split('\\n')\n",
    "    # *stmts, last_line = lines\n",
    "\n",
    "    local_vars = {}\n",
    "    exec(lines, local_vars)\n",
    "\n",
    "    return local_vars"
   ]
  },
  {
   "cell_type": "code",
   "execution_count": null,
   "id": "863c3d30-152c-40f9-8d46-d956dfa46a49",
   "metadata": {},
   "outputs": [],
   "source": [
    "local_vars = code_execution.invoke(generated_code)"
   ]
  },
  {
   "cell_type": "code",
   "execution_count": null,
   "id": "421c391b-a0ad-41bb-b877-e5f49e8016a8",
   "metadata": {},
   "outputs": [],
   "source": [
    "human_template = dedent(\"\"\"{query}\n",
    "                            context:\n",
    "                            {context}\n",
    "                           output format instruction = {format_instruction} \n",
    "                        \"\"\")\n",
    "\n",
    "\n",
    "input_ = {\"system\": {\"template\": \"Return the result in traditional Chinese\"},\n",
    "          \"human\": {\"template\": human_template,\n",
    "                    \"input_variable\": [\"query\"],\n",
    "                    \"partial_variables\": {'format_instruction': local_vars[\"format_instructions\"]}\n",
    "                    }}\n",
    "\n",
    "chat_prompt_template = build_standard_chat_prompt_template(input_)\n",
    "\n",
    "model = ChatOpenAI(model=\"gpt-4o-mini\")\n",
    "\n",
    "pipeline = chat_prompt_template|model|local_vars['output_parser']\n",
    "\n",
    "output = pipeline.invoke({\"query\": query,\n",
    "                 \"context\": cleaned_text})"
   ]
  },
  {
   "cell_type": "code",
   "execution_count": null,
   "id": "cc1af085-30e1-4076-861e-a6c9d23c9c95",
   "metadata": {},
   "outputs": [],
   "source": [
    "query"
   ]
  },
  {
   "cell_type": "code",
   "execution_count": null,
   "id": "269ff5cd-9999-4d28-b027-214c6931c426",
   "metadata": {},
   "outputs": [],
   "source": [
    "output"
   ]
  },
  {
   "cell_type": "code",
   "execution_count": null,
   "id": "fecd3d86-1332-463c-bb29-ad0026e79dd7",
   "metadata": {},
   "outputs": [],
   "source": []
  }
 ],
 "metadata": {
  "kernelspec": {
   "display_name": "Python 3 (ipykernel)",
   "language": "python",
   "name": "python3"
  },
  "language_info": {
   "codemirror_mode": {
    "name": "ipython",
    "version": 3
   },
   "file_extension": ".py",
   "mimetype": "text/x-python",
   "name": "python",
   "nbconvert_exporter": "python",
   "pygments_lexer": "ipython3",
   "version": "3.10.18"
  }
 },
 "nbformat": 4,
 "nbformat_minor": 5
}
