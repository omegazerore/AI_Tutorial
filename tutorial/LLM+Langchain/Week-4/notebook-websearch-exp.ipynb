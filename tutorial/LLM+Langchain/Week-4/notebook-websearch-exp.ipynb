{
 "cells": [
  {
   "cell_type": "markdown",
   "id": "9593a192-149b-4eb2-bbea-5207049b9510",
   "metadata": {},
   "source": [
    "# Websearch 優缺點與應用策略\n",
    "\n",
    "## 優點\n",
    "- **多元化來源**：涵蓋範圍廣，能提供多角度資訊。\n",
    "- **即時性**：能快速取得公開網頁上的最新內容。\n",
    "- **靈活性**：適合需要「多來源比對」的問題。\n",
    "\n",
    "## 缺點\n",
    "- **碎片化**：資訊分散、格式不一，難以直接系統化使用。\n",
    "- **品質參差不齊**：來源可靠度不同，可能存在錯誤或過時資訊。\n",
    "- **限制與風險**：部分 API 或搜尋過程可能因政策、安全或授權而阻擋特定內容。\n",
    "\n",
    "---\n",
    "\n",
    "## 何時適合使用 Websearch\n",
    "- 需要 **多角度觀點**（如新聞、論壇、社群資訊）。\n",
    "- **開放探索**，對來源精確度要求不高。\n",
    "- 無法透過單一可靠資料庫滿足需求時。\n",
    "\n",
    "---\n",
    "\n",
    "## 何時更適合使用特定來源\n",
    "- **專門領域**：如 Wikipedia、Fandom Wiki（例如遊戲、小說、Warhammer 40k）。\n",
    "- **結構化資料需求**：來源有規則的網址與內容組織，便於程式化檢索。\n",
    "- **高可信度需求**：減少處理過多雜訊。\n",
    "\n",
    "---\n",
    "\n",
    "## API 使用注意事項\n",
    "- **安全審查阻擋**：可能因涉及「不允許或敏感內容」而無法獲取公開資料。\n",
    "- **授權與限制**：包含付費牆、Rate Limit、隱私規範等。\n",
    "- **備援角色**：Websearch 可作為補充方案，但不一定是萬能解決方式。\n",
    "\n",
    "---\n",
    "\n",
    "## 總結\n",
    "Websearch 提供了 **廣泛而多元的資訊**，但也帶來 **碎片化與品質問題**。  \n",
    "若需求明確、可依靠結構化且可信的來源（如 Wikipedia、Fandom），應優先選用。  \n",
    "若需要多角度、開放探索或無特定資料庫可依賴時，Websearch 才能發揮最大價值。\n",
    "\n",
    "\n",
    "## 返無 歸一\n",
    "\n",
    "- 假設你確定在某個來源肯定有資訊的時候，取得該來源的網址\n",
    "- 使用第一周和第三周的技巧爬取網址的內容\n",
    "- 透過LLM提取你要的訊息"
   ]
  },
  {
   "cell_type": "code",
   "execution_count": 1,
   "id": "b82d813c-8b0e-4eac-a2b4-d514644797b7",
   "metadata": {},
   "outputs": [],
   "source": [
    "import os\n",
    "\n",
    "os.chdir(\"../../../\")"
   ]
  },
  {
   "cell_type": "code",
   "execution_count": 2,
   "id": "2d5823b5-5be4-44c8-9510-2dd233c39943",
   "metadata": {},
   "outputs": [
    {
     "name": "stderr",
     "output_type": "stream",
     "text": [
      "C:\\Users\\Ling\\miniconda3\\envs\\aicg\\lib\\site-packages\\tqdm\\auto.py:21: TqdmWarning: IProgress not found. Please update jupyter and ipywidgets. See https://ipywidgets.readthedocs.io/en/stable/user_install.html\n",
      "  from .autonotebook import tqdm as notebook_tqdm\n"
     ]
    }
   ],
   "source": [
    "from openai import OpenAI\n",
    "from textwrap import dedent\n",
    "from langchain_core.output_parsers import StrOutputParser\n",
    "from langchain_core.prompts import PromptTemplate, ChatPromptTemplate, SystemMessagePromptTemplate, HumanMessagePromptTemplate\n",
    "from langchain_openai import ChatOpenAI\n",
    "\n",
    "from src.initialization import credential_init\n",
    "\n",
    "\n",
    "def build_standard_chat_prompt_template(kwargs):\n",
    "\n",
    "    messages = []\n",
    " \n",
    "    if 'system' in kwargs:\n",
    "        content = kwargs.get('system')\n",
    "        prompt = PromptTemplate(**content)\n",
    "        message = SystemMessagePromptTemplate(prompt=prompt)\n",
    "        messages.append(message)  \n",
    "\n",
    "    if 'human' in kwargs:\n",
    "        content = kwargs.get('human')\n",
    "        prompt = PromptTemplate(**content)\n",
    "        message = HumanMessagePromptTemplate(prompt=prompt)\n",
    "        messages.append(message)\n",
    "        \n",
    "    chat_prompt_template = ChatPromptTemplate.from_messages(messages)\n",
    "    \n",
    "    return chat_prompt_template\n",
    "\n",
    "credential_init()"
   ]
  },
  {
   "cell_type": "markdown",
   "id": "c289d53f-3581-46e0-bf67-4a223e00b396",
   "metadata": {},
   "source": [
    "### 抽取Wikipedia的內容"
   ]
  },
  {
   "cell_type": "code",
   "execution_count": null,
   "id": "e74a2cf2-b3b1-4f23-893d-f82ae4c9c3b6",
   "metadata": {},
   "outputs": [],
   "source": [
    "import requests\n",
    "\n",
    "session = requests.Session()\n",
    "\n",
    "query = \"獵人中的念能力系統\"\n",
    "\n",
    "# Wikipedia語言選擇\n",
    "URL = \"https://ja.wikipedia.org/w/api.php\"\n",
    "\n",
    "\n",
    "PARAMS = {\n",
    "    \"action\": \"parse\",\n",
    "    # Wikipedia 頁面的 關鍵字\n",
    "    \"page\": \"HUNTER×HUNTER\",\n",
    "    \"prop\": \"text\",\n",
    "    \"format\": \"json\"\n",
    "}\n",
    "\n",
    "HEADERS = {\n",
    "    \"User-Agent\": \"AI Tutorial Bot/1.0 (mengchiehling@gmail.com)\"\n",
    "}\n",
    "\n",
    "response = session.get(url=URL, params=PARAMS, headers=HEADERS)\n",
    "\n",
    "data = response.json()"
   ]
  },
  {
   "cell_type": "markdown",
   "id": "d6b78431-4e8e-4368-ba75-dc9400b03dc3",
   "metadata": {},
   "source": [
    "使用 bs4 處理數據 "
   ]
  },
  {
   "cell_type": "code",
   "execution_count": null,
   "id": "21c106d2-84ac-4975-b3df-2a6f3bd4afe2",
   "metadata": {},
   "outputs": [],
   "source": [
    "from bs4 import BeautifulSoup\n",
    "\n",
    "html_content = data['parse']['text'][\"*\"]\n",
    "\n",
    "soup = BeautifulSoup(html_content, \"html.parser\")\n",
    "\n",
    "# 移除 style 和 script\n",
    "for tag in soup([\"style\", \"script\"]):\n",
    "    tag.decompose()\n",
    "\n",
    "# 提取文字\n",
    "text_content = soup.get_text(separator=\"\\n\")\n",
    "\n",
    "# 清理空白與空行\n",
    "cleaned_text = \"\\n\".join(\n",
    "    line.strip() for line in text_content.splitlines() if line.strip()\n",
    ")"
   ]
  },
  {
   "cell_type": "code",
   "execution_count": null,
   "id": "222e8e8a-1e87-483f-9642-3e79f0aabf26",
   "metadata": {},
   "outputs": [],
   "source": [
    "# cleaned_text"
   ]
  },
  {
   "cell_type": "markdown",
   "id": "9f93e084-0d76-4999-8d91-42b9f4ce8fbb",
   "metadata": {},
   "source": [
    "慢慢寫Pydantic物件是可以實現的目標的，但是在應用中我們希望有更好的自動化: 根據使用者的需求自動生成物件\n",
    "\n",
    "我們嘗試結合代碼生成來輔助完成目標"
   ]
  },
  {
   "cell_type": "code",
   "execution_count": 40,
   "id": "12d2fe8d-5efc-4790-8523-61841f64c55a",
   "metadata": {},
   "outputs": [],
   "source": [
    "code_example = dedent(\"\"\"\n",
    "    # Example 1: Name extraction using Pydantic and LangChain\n",
    "\n",
    "    from pydantic import BaseModel, Field\n",
    "    from langchain_core.output_parsers import PydanticOutputParser\n",
    "\n",
    "    class NameExtractor(BaseModel):\n",
    "        name: str = Field(description=\"The extracted name from the input text\")\n",
    "\n",
    "    output_parser = PydanticOutputParser(pydantic_object=NameExtractor)\n",
    "    format_instructions = output_parser.get_format_instructions()\n",
    "\n",
    "    ---\n",
    "    # Example 2: Multiple product information extraction using Pydantic and Langchain\n",
    "\n",
    "    from typing import List\n",
    "    \n",
    "    class Product(BaseModel):\n",
    "        name: str = Field(description=\"Product\")\n",
    "        brand: str = Field(description=\"The brand name\")\n",
    "        country_code: str = Field(description=\"ISO 3166-1 alpha-2 of the country of the brand\")\n",
    "\n",
    "    class ProductOutput(BaseModel):\n",
    "        products: List[Product] = Field(description=\"A list of products\")\n",
    "\n",
    "    output_parser = PydanticOutputParser(pydantic_object=NameExtractor)\n",
    "    format_instructions = output_parser.get_format_instructions()\n",
    "    \n",
    "\"\"\")\n",
    "\n",
    "\n",
    "system_template = dedent(f\"\"\"\n",
    "    You are an expert Python developer specializing in large language models and the LangChain framework.\n",
    "    Your objective is to generate **only valid, executable Python code** that solves the user's request.\n",
    "\n",
    "    Requirements:\n",
    "    - Use Pydantic models when defining structured outputs.\n",
    "    - Ensure imports are correct and minimal.\n",
    "    - Follow PEP 8 formatting standards.\n",
    "    - Do not include any explanations, markdown, comments, or extra text outside the code block.\n",
    "    - You have have the output_parser and the format_instruction of the Pydantic models.\n",
    "\n",
    "    Example structure:\n",
    "    {code_example}\n",
    "\"\"\")\n",
    "\n",
    "human_template = dedent(\"\"\"\n",
    "                        {query}\n",
    "                        Code:\n",
    "                        \"\"\")\n",
    "\n",
    "\n",
    "input_ = {\"system\": {\"template\": system_template},\n",
    "          \"human\": {\"template\": human_template,\n",
    "                    \"input_variable\": [\"query\"]}}\n",
    "\n",
    "chat_prompt_template = build_standard_chat_prompt_template(input_)\n",
    "\n",
    "model = ChatOpenAI(model=\"gpt-4o-mini\")\n",
    "\n",
    "code_generation = chat_prompt_template|model|StrOutputParser()"
   ]
  },
  {
   "cell_type": "code",
   "execution_count": null,
   "id": "da0fe679-b50f-46a7-ba13-7aa45630700a",
   "metadata": {},
   "outputs": [],
   "source": [
    "generated_code = code_generation.invoke({\"query\": query})"
   ]
  },
  {
   "cell_type": "code",
   "execution_count": null,
   "id": "59fdaf51-f300-4d6a-82e8-95ea89ada73b",
   "metadata": {},
   "outputs": [],
   "source": [
    "print(generated_code)"
   ]
  },
  {
   "cell_type": "markdown",
   "id": "2d738338-dcc1-4142-93f0-fc9b6336a552",
   "metadata": {},
   "source": [
    "### 代碼執行工具"
   ]
  },
  {
   "cell_type": "code",
   "execution_count": 16,
   "id": "8b5ae123-dceb-4701-850f-0731aaa39229",
   "metadata": {},
   "outputs": [],
   "source": [
    "import re\n",
    "\n",
    "from langchain_core.runnables import chain\n",
    "\n",
    "@chain\n",
    "def code_execution(code):\n",
    "    \n",
    "    match = re.findall(r\"python\\n(.*?)\\n```\", code, re.DOTALL)\n",
    "    python_code = match[0]\n",
    "    \n",
    "    lines = python_code.strip()#.split('\\n')\n",
    "    # *stmts, last_line = lines\n",
    "\n",
    "    local_vars = {}\n",
    "    exec(lines, local_vars)\n",
    "\n",
    "    return local_vars"
   ]
  },
  {
   "cell_type": "code",
   "execution_count": null,
   "id": "863c3d30-152c-40f9-8d46-d956dfa46a49",
   "metadata": {},
   "outputs": [],
   "source": [
    "local_vars = code_execution.invoke(generated_code)"
   ]
  },
  {
   "cell_type": "code",
   "execution_count": null,
   "id": "421c391b-a0ad-41bb-b877-e5f49e8016a8",
   "metadata": {},
   "outputs": [],
   "source": [
    "human_template = dedent(\"\"\"{query}\n",
    "                            context:\n",
    "                            {context}\n",
    "                           output format instruction = {format_instruction} \n",
    "                        \"\"\")\n",
    "\n",
    "\n",
    "input_ = {\"system\": {\"template\": \"Return the result in traditional Chinese\"},\n",
    "          \"human\": {\"template\": human_template,\n",
    "                    \"input_variable\": [\"query\"],\n",
    "                    \"partial_variables\": {'format_instruction': local_vars[\"format_instructions\"]}\n",
    "                    }}\n",
    "\n",
    "chat_prompt_template = build_standard_chat_prompt_template(input_)\n",
    "\n",
    "model = ChatOpenAI(model=\"gpt-4o-mini\")\n",
    "\n",
    "pipeline = chat_prompt_template|model|local_vars['output_parser']\n",
    "\n",
    "output = pipeline.invoke({\"query\": query,\n",
    "                 \"context\": cleaned_text})"
   ]
  },
  {
   "cell_type": "markdown",
   "id": "4636b5d7-9eb2-4dbd-abdb-d567b3c2592a",
   "metadata": {},
   "source": [
    "## Fan Wiki\n",
    "\n",
    "萬機之神歐姆尼賽亞的化身\n",
    "\n",
    "https://warhammer40k.fandom.com/wiki/Titan"
   ]
  },
  {
   "cell_type": "code",
   "execution_count": 4,
   "id": "269ff5cd-9999-4d28-b027-214c6931c426",
   "metadata": {},
   "outputs": [],
   "source": [
    "import requests\n",
    "\n",
    "from bs4 import BeautifulSoup\n",
    "\n",
    "\n",
    "url = \"https://warhammer40k.fandom.com/wiki/Titan\""
   ]
  },
  {
   "cell_type": "code",
   "execution_count": 5,
   "id": "168e8b0f-0ade-4c64-a9e9-faff01bc786b",
   "metadata": {},
   "outputs": [],
   "source": [
    "def parsing_process(url):\n",
    "    \"\"\"\n",
    "    Fetches and extracts text content from a given URL.\n",
    "\n",
    "    Parameters:\n",
    "    url (str): The URL of the web page to fetch and parse.\n",
    "\n",
    "    Returns:\n",
    "    str: Cleaned text content extracted from the web page.\n",
    "\n",
    "    Raises:\n",
    "    requests.exceptions.RequestException: If an error occurs while fetching the URL.\n",
    "\n",
    "    Notes:\n",
    "    - This function sends a GET request to the specified URL.\n",
    "    - It uses BeautifulSoup to parse the HTML content of the response.\n",
    "    - Any <style> tags in the HTML are removed to extract only textual content.\n",
    "    - The extracted text is cleaned by removing extra whitespace and empty lines.\n",
    "    \"\"\"\n",
    "    # Send a GET request to the URL\n",
    "    response = requests.get(url)\n",
    "\n",
    "    # Get the content of the response\n",
    "    html_content = response.text\n",
    "    \n",
    "    soup = BeautifulSoup(html_content, 'html.parser')\n",
    "    \n",
    "    # 移除 style 和 script\n",
    "    for tag in soup([\"style\", \"script\"]):\n",
    "        tag.decompose()\n",
    "\n",
    "    # Extract and print only the text content\n",
    "    text_content = soup.get_text(separator='\\n')\n",
    "\n",
    "    # Clean up the text (optional)\n",
    "    cleaned_text = '\\n'.join(line.strip() for line in text_content.splitlines() if line.strip())\n",
    "    \n",
    "    return cleaned_text"
   ]
  },
  {
   "cell_type": "markdown",
   "id": "7b8233ad-b643-4f9d-89ce-82c45c9ea8fd",
   "metadata": {},
   "source": [
    "### 提取網頁內容"
   ]
  },
  {
   "cell_type": "code",
   "execution_count": 6,
   "id": "04bae55a-272c-427a-95da-10ed7a356401",
   "metadata": {},
   "outputs": [],
   "source": [
    "cleaned_text = parsing_process(url)"
   ]
  },
  {
   "cell_type": "code",
   "execution_count": 7,
   "id": "7f509a1f-31dc-4fd4-810a-551ea8bf365f",
   "metadata": {},
   "outputs": [],
   "source": [
    "query = \"幫我找出所有忠誠派泰坦級別\""
   ]
  },
  {
   "cell_type": "code",
   "execution_count": 14,
   "id": "90ee8b74-77c3-4be5-b24c-c05f8907a221",
   "metadata": {},
   "outputs": [],
   "source": [
    "generated_code = code_generation.invoke({\"query\": query})"
   ]
  },
  {
   "cell_type": "code",
   "execution_count": 15,
   "id": "9dafadf0-5de4-414a-85c7-17bb56eed9ac",
   "metadata": {},
   "outputs": [
    {
     "name": "stdout",
     "output_type": "stream",
     "text": [
      "```python\n",
      "from pydantic import BaseModel, Field\n",
      "from langchain_core.output_parsers import PydanticOutputParser\n",
      "\n",
      "class LoyalTitanExtractor(BaseModel):\n",
      "    loyal_titans: list = Field(description=\"A list of all loyal Titan level\")\n",
      "\n",
      "output_parser = PydanticOutputParser(pydantic_object=LoyalTitanExtractor)\n",
      "format_instructions = output_parser.get_format_instructions()\n",
      "```\n"
     ]
    }
   ],
   "source": [
    "print(generated_code)"
   ]
  },
  {
   "cell_type": "code",
   "execution_count": 17,
   "id": "27285b65-6f7b-4c39-8d4c-d587069394c3",
   "metadata": {},
   "outputs": [],
   "source": [
    "local_vars = code_execution.invoke(generated_code)"
   ]
  },
  {
   "cell_type": "code",
   "execution_count": 31,
   "id": "642b1378-98df-4b73-956e-c665dee674f8",
   "metadata": {},
   "outputs": [],
   "source": [
    "def build_answer_pipeline(output_parser, format_instructions):\n",
    "\n",
    "    human_template = dedent(\"\"\"{query}\n",
    "                           \n",
    "                           context:\n",
    "                           {context}\n",
    "                           output format instruction = {format_instruction} \n",
    "                        \"\"\")\n",
    "\n",
    "\n",
    "    input_ = {\"system\": {\"template\": \"You are a helpful AI assistant.\"},\n",
    "              \"human\": {\"template\": human_template,\n",
    "                        \"input_variable\": [\"query\"],\n",
    "                        \"partial_variables\": {'format_instruction': format_instructions}\n",
    "                        }}\n",
    "    \n",
    "    chat_prompt_template = build_standard_chat_prompt_template(input_)\n",
    "    \n",
    "    model = ChatOpenAI(model=\"gpt-4o-mini\")\n",
    "    \n",
    "    answer_pipeline = chat_prompt_template|model|output_parser\n",
    "\n",
    "    return answer_pipeline\n",
    "    "
   ]
  },
  {
   "cell_type": "code",
   "execution_count": 19,
   "id": "12c0812c-b376-42fc-86b5-94905a66216b",
   "metadata": {},
   "outputs": [],
   "source": [
    "answer_pipeline = build_answer_pipeline(output_parser=local_vars['output_parser'], format_instructions=local_vars['format_instructions'])\n",
    "\n",
    "output = answer_pipeline.invoke({\"query\": query, \"context\": cleaned_text})"
   ]
  },
  {
   "cell_type": "code",
   "execution_count": 21,
   "id": "ee5c5626-2251-4dd0-aea2-ee32c69637cd",
   "metadata": {},
   "outputs": [
    {
     "data": {
      "text/plain": [
       "['Imperator-class Titan',\n",
       " 'Warmonger-class Titan',\n",
       " 'Warlord-class Titan',\n",
       " 'Reaver-class Titan',\n",
       " 'Dire Wolf-class Titan',\n",
       " 'Warhound-class Titan',\n",
       " 'Rapier-class Titan',\n",
       " 'Executor-class Titan',\n",
       " 'Apocalypse-class Titan',\n",
       " 'Carnivore-class Titan',\n",
       " 'Mirage-class Titan',\n",
       " 'Warbringer Nemesis-class Titan',\n",
       " 'Komodo-class Titan',\n",
       " 'Punisher-class Titan',\n",
       " 'Warmaster-class Titan',\n",
       " 'Warmaster Iconoclast-class Titan',\n",
       " 'Emperor Titans']"
      ]
     },
     "execution_count": 21,
     "metadata": {},
     "output_type": "execute_result"
    }
   ],
   "source": [
    "output.loyal_titans"
   ]
  },
  {
   "cell_type": "markdown",
   "id": "68be97fc-fcef-4fd2-93bc-8a2e5ee5c7fd",
   "metadata": {},
   "source": [
    "#### 試試看更具有挑戰的問題"
   ]
  },
  {
   "cell_type": "code",
   "execution_count": 41,
   "id": "00cab201-42d2-48f8-8e65-ddd483e8497b",
   "metadata": {},
   "outputs": [],
   "source": [
    "query = \"幫我找出所有陣營的所有泰坦級別\""
   ]
  },
  {
   "cell_type": "code",
   "execution_count": 42,
   "id": "1564d576-7fae-410f-ab11-dfadc251d797",
   "metadata": {},
   "outputs": [],
   "source": [
    "generated_code = code_generation.invoke({\"query\": query})"
   ]
  },
  {
   "cell_type": "code",
   "execution_count": 43,
   "id": "27e4256d-4b94-4a11-8198-2a1f8351ff44",
   "metadata": {},
   "outputs": [
    {
     "name": "stdout",
     "output_type": "stream",
     "text": [
      "```python\n",
      "from typing import List\n",
      "from pydantic import BaseModel, Field\n",
      "from langchain_core.output_parsers import PydanticOutputParser\n",
      "\n",
      "class TitanLevel(BaseModel):\n",
      "    faction: str = Field(description=\"The faction of the titan\")\n",
      "    level: str = Field(description=\"Titan level\")\n",
      "\n",
      "class TitanLevelsOutput(BaseModel):\n",
      "    titans: List[TitanLevel] = Field(description=\"A list of titan levels for all factions\")\n",
      "\n",
      "output_parser = PydanticOutputParser(pydantic_object=TitanLevelsOutput)\n",
      "format_instructions = output_parser.get_format_instructions()\n",
      "```\n"
     ]
    }
   ],
   "source": [
    "print(generated_code)"
   ]
  },
  {
   "cell_type": "code",
   "execution_count": 44,
   "id": "a2ccc219-e4b1-43b7-b7b7-43cc0b0568c4",
   "metadata": {},
   "outputs": [],
   "source": [
    "local_vars = code_execution.invoke(generated_code)"
   ]
  },
  {
   "cell_type": "code",
   "execution_count": 45,
   "id": "5cf690ed-aa0d-49b7-8305-e585d63ea083",
   "metadata": {},
   "outputs": [],
   "source": [
    "answer_pipeline = build_answer_pipeline(output_parser=local_vars['output_parser'], format_instructions=local_vars['format_instructions'])"
   ]
  },
  {
   "cell_type": "code",
   "execution_count": 46,
   "id": "b6bbf949-3251-4d0c-a477-f78306fc3acc",
   "metadata": {},
   "outputs": [],
   "source": [
    "output = answer_pipeline.invoke({\"query\": query, \"context\": cleaned_text})"
   ]
  },
  {
   "cell_type": "code",
   "execution_count": 48,
   "id": "4ced6149-cd6d-49aa-ad17-02e61c31cbba",
   "metadata": {},
   "outputs": [
    {
     "data": {
      "text/plain": [
       "[TitanLevel(faction='Imperium of Man', level='Rapier Scout Titan'),\n",
       " TitanLevel(faction='Imperium of Man', level='Warhound Scout Titan'),\n",
       " TitanLevel(faction='Imperium of Man', level='Dire Wolf Heavy Scout Titan'),\n",
       " TitanLevel(faction='Imperium of Man', level='Reaver Battle Titan'),\n",
       " TitanLevel(faction='Imperium of Man', level='Komodo Battle Titan'),\n",
       " TitanLevel(faction='Imperium of Man', level='Punisher-class Titan'),\n",
       " TitanLevel(faction='Imperium of Man', level='Executor Battle Titan'),\n",
       " TitanLevel(faction='Imperium of Man', level='Apocalypse Battle Titan'),\n",
       " TitanLevel(faction='Imperium of Man', level='Carnivore Battle Titan'),\n",
       " TitanLevel(faction='Imperium of Man', level='Mirage Battle Titan'),\n",
       " TitanLevel(faction='Imperium of Man', level='Warbringer Nemesis Battle Titan'),\n",
       " TitanLevel(faction='Imperium of Man', level='Warlord Battle Titan'),\n",
       " TitanLevel(faction='Imperium of Man', level='Warmaster Heavy Battle Titan'),\n",
       " TitanLevel(faction='Imperium of Man', level='Emperor Titan'),\n",
       " TitanLevel(faction='Chaos', level='Subjugator Scout Titan'),\n",
       " TitanLevel(faction='Chaos', level='Questor Scout Titan'),\n",
       " TitanLevel(faction='Chaos', level='Feral Titan'),\n",
       " TitanLevel(faction='Chaos', level='Ravager Titan'),\n",
       " TitanLevel(faction='Chaos', level='Banelord Titan'),\n",
       " TitanLevel(faction='Chaos', level='Plaguelord Titan'),\n",
       " TitanLevel(faction='Chaos', level='Painlord Titan'),\n",
       " TitanLevel(faction='Chaos', level='Warplord Titan'),\n",
       " TitanLevel(faction='STC', level='Castigator-class Titan'),\n",
       " TitanLevel(faction='Aeldari', level='Revenant Titan'),\n",
       " TitanLevel(faction='Aeldari', level='Phantom Titan'),\n",
       " TitanLevel(faction='Aeldari', level='Warlock Titan'),\n",
       " TitanLevel(faction='Tyranids', level='Hierophant Bio-Titan'),\n",
       " TitanLevel(faction='Tyranids', level='Hydraphant Bio-Titan'),\n",
       " TitanLevel(faction='Tyranids', level='Vituperator Bio-Titan')]"
      ]
     },
     "execution_count": 48,
     "metadata": {},
     "output_type": "execute_result"
    }
   ],
   "source": [
    "output.titans"
   ]
  },
  {
   "cell_type": "code",
   "execution_count": null,
   "id": "7d4521bb-f09c-4b21-8947-66b32c3fdb9e",
   "metadata": {},
   "outputs": [],
   "source": []
  }
 ],
 "metadata": {
  "kernelspec": {
   "display_name": "Python 3 (ipykernel)",
   "language": "python",
   "name": "python3"
  },
  "language_info": {
   "codemirror_mode": {
    "name": "ipython",
    "version": 3
   },
   "file_extension": ".py",
   "mimetype": "text/x-python",
   "name": "python",
   "nbconvert_exporter": "python",
   "pygments_lexer": "ipython3",
   "version": "3.10.18"
  }
 },
 "nbformat": 4,
 "nbformat_minor": 5
}
