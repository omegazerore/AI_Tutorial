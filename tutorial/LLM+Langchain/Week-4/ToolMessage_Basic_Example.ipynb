{
 "cells": [
  {
   "cell_type": "code",
   "execution_count": 1,
   "id": "initial_id",
   "metadata": {
    "jupyter": {
     "is_executing": true
    }
   },
   "outputs": [
    {
     "name": "stderr",
     "output_type": "stream",
     "text": [
      "C:\\Users\\Ling\\miniconda3\\envs\\aicg\\lib\\site-packages\\tqdm\\auto.py:21: TqdmWarning: IProgress not found. Please update jupyter and ipywidgets. See https://ipywidgets.readthedocs.io/en/stable/user_install.html\n",
      "  from .autonotebook import tqdm as notebook_tqdm\n"
     ]
    }
   ],
   "source": [
    "import os\n",
    "\n",
    "os.chdir(\"../../../\")\n",
    "\n",
    "import asyncio\n",
    "from textwrap import dedent\n",
    "from typing import List, Literal, Union\n",
    "\n",
    "from langchain.tools import BaseTool\n",
    "from langchain_openai import ChatOpenAI\n",
    "from langchain_core.output_parsers import PydanticOutputParser, StrOutputParser\n",
    "from langchain_core.prompts import PromptTemplate, HumanMessagePromptTemplate, ChatPromptTemplate, SystemMessagePromptTemplate, MessagesPlaceholder\n",
    "from openai import OpenAI\n",
    "from pydantic import BaseModel, Field\n",
    "\n",
    "from src.initialization import credential_init\n",
    "\n",
    "credential_init()"
   ]
  },
  {
   "cell_type": "code",
   "execution_count": 4,
   "id": "1fe726b2bd727df4",
   "metadata": {},
   "outputs": [],
   "source": [
    "from langchain_core.messages import HumanMessage, ToolMessage, SystemMessage\n",
    "from langchain.memory import ChatMessageHistory\n",
    "from langchain_google_genai import ChatGoogleGenerativeAI\n",
    "\n",
    "model = ChatGoogleGenerativeAI(\n",
    "    model=\"gemini-2.0-flash\",\n",
    "    temperature=0,\n",
    "    max_tokens=None,\n",
    "    timeout=None,\n",
    "    max_retries=6,\n",
    "    disable_streaming=False\n",
    "    # other params...\n",
    ")"
   ]
  },
  {
   "cell_type": "code",
   "execution_count": 5,
   "id": "a4bb89e3-3a68-4fa0-a148-913c3d60a2fc",
   "metadata": {},
   "outputs": [],
   "source": [
    "from langchain_core.tools import tool\n",
    "\n",
    "# Step 1: Define a simple tool\n",
    "@tool\n",
    "def add_numbers(a: int, b: int) -> int:\n",
    "    \"\"\"Add two numbers and return the result.\"\"\"\n",
    "    return a + b"
   ]
  },
  {
   "cell_type": "code",
   "execution_count": 6,
   "id": "8b1ed578-c81c-41ff-a394-c5eea0d30e57",
   "metadata": {},
   "outputs": [],
   "source": [
    "model_with_tools = model.bind_tools(tools=[add_numbers])"
   ]
  },
  {
   "cell_type": "code",
   "execution_count": 7,
   "id": "cec21599-d66a-4cd6-8239-65f1d019ce0e",
   "metadata": {},
   "outputs": [],
   "source": [
    "# Step 3: The conversation starts\n",
    "messages = [\n",
    "    HumanMessage(content=\"Add 3 and 7 using the tool.\")\n",
    "]\n"
   ]
  },
  {
   "cell_type": "code",
   "execution_count": 9,
   "id": "ea3b55db-3ac1-43b2-b5fa-e26b28ca937f",
   "metadata": {},
   "outputs": [],
   "source": [
    "response = model_with_tools.invoke(messages)"
   ]
  },
  {
   "cell_type": "code",
   "execution_count": 10,
   "id": "651eea2b-38f8-4574-a7d4-b6738da166ed",
   "metadata": {},
   "outputs": [
    {
     "data": {
      "text/plain": [
       "AIMessage(content='', additional_kwargs={'function_call': {'name': 'add_numbers', 'arguments': '{\"a\": 3, \"b\": 7}'}}, response_metadata={'prompt_feedback': {'block_reason': 0, 'safety_ratings': []}, 'finish_reason': 'STOP', 'model_name': 'gemini-2.0-flash', 'safety_ratings': []}, id='run--6a1e2a7b-233b-4adf-bbf6-ae305d4ffbb0-0', tool_calls=[{'name': 'add_numbers', 'args': {'a': 3, 'b': 7}, 'id': '3221ac46-ba56-4fcc-9b99-2ec4d1233a47', 'type': 'tool_call'}], usage_metadata={'input_tokens': 28, 'output_tokens': 7, 'total_tokens': 35, 'input_token_details': {'cache_read': 0}})"
      ]
     },
     "execution_count": 10,
     "metadata": {},
     "output_type": "execute_result"
    }
   ],
   "source": [
    "response"
   ]
  },
  {
   "cell_type": "code",
   "execution_count": 15,
   "id": "e6b3513d-52d0-4a2f-888f-32fda11f8c21",
   "metadata": {},
   "outputs": [
    {
     "name": "stdout",
     "output_type": "stream",
     "text": [
      "{'name': 'add_numbers', 'args': {'a': 3, 'b': 7}, 'id': '3221ac46-ba56-4fcc-9b99-2ec4d1233a47', 'type': 'tool_call'}\n"
     ]
    }
   ],
   "source": [
    "tool_call = response.tool_calls[0]\n",
    "print(tool_call)"
   ]
  },
  {
   "cell_type": "code",
   "execution_count": 16,
   "id": "63125005-418a-48bf-b24c-983100e590f4",
   "metadata": {},
   "outputs": [],
   "source": [
    "result = eval(tool_call['name'])(tool_call['args'])"
   ]
  },
  {
   "cell_type": "code",
   "execution_count": 17,
   "id": "530224b2-aac3-4e55-85e0-273cb7f68e13",
   "metadata": {},
   "outputs": [],
   "source": [
    "tool_msg = ToolMessage(\n",
    "    content=str(result),          # usually a string or simple text\n",
    "    tool_call_id=tool_call['id']    # must match the AIMessage tool_call id\n",
    ")"
   ]
  },
  {
   "cell_type": "code",
   "execution_count": 18,
   "id": "0cdffe75-eac7-45d0-b948-39ddb19ee2f2",
   "metadata": {},
   "outputs": [],
   "source": [
    "messages.extend([response, tool_msg])"
   ]
  },
  {
   "cell_type": "code",
   "execution_count": 19,
   "id": "8488b15e-8799-4f4e-a4d5-6211fadd930b",
   "metadata": {},
   "outputs": [
    {
     "data": {
      "text/plain": [
       "AIMessage(content='The sum of 3 and 7 is 10.', additional_kwargs={}, response_metadata={'prompt_feedback': {'block_reason': 0, 'safety_ratings': []}, 'finish_reason': 'STOP', 'model_name': 'gemini-2.0-flash', 'safety_ratings': []}, id='run--61641d68-1bcf-4f43-a903-a7b8700eee3f-0', usage_metadata={'input_tokens': 40, 'output_tokens': 14, 'total_tokens': 54, 'input_token_details': {'cache_read': 0}})"
      ]
     },
     "execution_count": 19,
     "metadata": {},
     "output_type": "execute_result"
    }
   ],
   "source": [
    "model_with_tools.invoke(messages)"
   ]
  },
  {
   "cell_type": "code",
   "execution_count": null,
   "id": "444c90f8-e17c-409d-8eee-eabecc997a25",
   "metadata": {},
   "outputs": [],
   "source": []
  }
 ],
 "metadata": {
  "kernelspec": {
   "display_name": "Python 3 (ipykernel)",
   "language": "python",
   "name": "python3"
  },
  "language_info": {
   "codemirror_mode": {
    "name": "ipython",
    "version": 3
   },
   "file_extension": ".py",
   "mimetype": "text/x-python",
   "name": "python",
   "nbconvert_exporter": "python",
   "pygments_lexer": "ipython3",
   "version": "3.10.18"
  }
 },
 "nbformat": 4,
 "nbformat_minor": 5
}
