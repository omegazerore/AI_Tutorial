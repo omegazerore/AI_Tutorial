{
 "cells": [
  {
   "cell_type": "code",
   "execution_count": null,
   "id": "cbf8c8da-5392-4ec2-a534-f2afb28ab480",
   "metadata": {},
   "outputs": [],
   "source": [
    "!pip install tavily-python langchain-tavily"
   ]
  },
  {
   "cell_type": "code",
   "execution_count": 1,
   "id": "27d71c62-9b3e-4679-827d-d612eb715d0b",
   "metadata": {},
   "outputs": [
    {
     "name": "stderr",
     "output_type": "stream",
     "text": [
      "C:\\Users\\Ling\\miniconda3\\envs\\aicg\\lib\\site-packages\\tqdm\\auto.py:21: TqdmWarning: IProgress not found. Please update jupyter and ipywidgets. See https://ipywidgets.readthedocs.io/en/stable/user_install.html\n",
      "  from .autonotebook import tqdm as notebook_tqdm\n"
     ]
    }
   ],
   "source": [
    "import os\n",
    "\n",
    "os.chdir(\"../../../\")\n",
    "\n",
    "import asyncio\n",
    "from textwrap import dedent\n",
    "from typing import List, Literal, Union\n",
    "\n",
    "from langchain.tools import BaseTool\n",
    "from langchain_openai import ChatOpenAI\n",
    "from langchain_core.output_parsers import PydanticOutputParser, StrOutputParser\n",
    "from langchain_core.prompts import PromptTemplate, HumanMessagePromptTemplate, ChatPromptTemplate, SystemMessagePromptTemplate, MessagesPlaceholder\n",
    "from openai import OpenAI\n",
    "from pydantic import BaseModel, Field\n",
    "\n",
    "from src.initialization import credential_init\n",
    "\n",
    "credential_init()"
   ]
  },
  {
   "cell_type": "code",
   "execution_count": 2,
   "id": "a59830e4-1fcf-4e2b-bf12-964f2c2329d0",
   "metadata": {},
   "outputs": [],
   "source": [
    "from langchain_core.tools import tool\n",
    "\n",
    "from langchain_community.tools.tavily_search import TavilySearchResults\n",
    "from langchain_community.utilities.tavily_search import TavilySearchAPIWrapper\n",
    "\n",
    "search = TavilySearchAPIWrapper()\n",
    "tavily_tool = TavilySearchResults(api_wrapper=search, max_results=1)\n",
    "\n",
    "@tool\n",
    "def run_queries(search_queries: list[str]):\n",
    "    \"\"\"Run the generated queries.\"\"\"\n",
    "    return tavily_tool.batch([{\"query\": query} for query in search_queries])\n"
   ]
  },
  {
   "cell_type": "code",
   "execution_count": null,
   "id": "5ca17e3e-d6d2-4b96-9b6a-5541cfb109ea",
   "metadata": {},
   "outputs": [],
   "source": [
    "input = [\"平民參與救災的風險\", \"泥石流災害應對安全指導\", \"如何安全參與災後救援活動\"]\n",
    "\n",
    "result = run_queries({\"search_queries\":input})"
   ]
  },
  {
   "cell_type": "code",
   "execution_count": null,
   "id": "ed8c08c5-d842-436e-8d76-de2b55fb8b45",
   "metadata": {},
   "outputs": [],
   "source": [
    "result"
   ]
  },
  {
   "cell_type": "code",
   "execution_count": 4,
   "id": "48563638-2569-4926-ade2-c359ce397e86",
   "metadata": {},
   "outputs": [],
   "source": [
    "from langchain_core.messages import HumanMessage, ToolMessage, SystemMessage\n",
    "from langchain.memory import ChatMessageHistory\n",
    "from langchain_google_genai import ChatGoogleGenerativeAI\n",
    "\n",
    "model = ChatGoogleGenerativeAI(\n",
    "    model=\"gemini-2.0-flash\",\n",
    "    temperature=0,\n",
    "    max_tokens=None,\n",
    "    timeout=None,\n",
    "    max_retries=6,\n",
    "    disable_streaming=False\n",
    "    # other params...\n",
    ")"
   ]
  },
  {
   "cell_type": "code",
   "execution_count": 8,
   "id": "132cff2b-a836-43c3-b27e-b7f719c646d2",
   "metadata": {},
   "outputs": [
    {
     "name": "stderr",
     "output_type": "stream",
     "text": [
      "C:\\Users\\Ling\\AppData\\Local\\Temp\\ipykernel_23516\\4236940593.py:4: LangChainDeprecationWarning: The method `BaseTool.__call__` was deprecated in langchain-core 0.1.47 and will be removed in 1.0. Use :meth:`~invoke` instead.\n",
      "  search_results = eval(tool_call['name'])(tool_call['args'])\n"
     ]
    }
   ],
   "source": [
    "tool_calls = response.tool_calls\n",
    "tool_call = tool_calls[0]\n",
    "\n",
    "search_results = eval(tool_call['name'])(tool_call['args'])"
   ]
  },
  {
   "cell_type": "code",
   "execution_count": 5,
   "id": "1fcb74db-d2b1-4a02-8297-f3084a96d6b1",
   "metadata": {},
   "outputs": [],
   "source": [
    "model_with_tools = model.bind_tools(tools=[run_queries], tool_choice='any')"
   ]
  },
  {
   "cell_type": "code",
   "execution_count": 6,
   "id": "a7154f87-506d-4900-9d09-1fc55d1a4e64",
   "metadata": {},
   "outputs": [],
   "source": [
    "response = model_with_tools.invoke([HumanMessage(content=[\"平民參與救災的風險\", \"泥石流災害應對安全指導\", \"如何安全參與災後救援活動\"])])"
   ]
  },
  {
   "cell_type": "code",
   "execution_count": 7,
   "id": "c6389e52-746c-46fe-aded-d57cbdaa67bd",
   "metadata": {},
   "outputs": [
    {
     "data": {
      "text/plain": [
       "AIMessage(content='', additional_kwargs={'function_call': {'name': 'run_queries', 'arguments': '{\"search_queries\": [\"\\\\u5e73\\\\u6c11\\\\u53c3\\\\u8207\\\\u6ce5\\\\u77f3\\\\u6d41\\\\u6551\\\\u707d\\\\u5b89\\\\u5168\\\\u6307\\\\u5c0e\", \"\\\\u707d\\\\u5f8c\\\\u6551\\\\u63f4\\\\u6d3b\\\\u52d5\\\\u5b89\\\\u5168\\\\u53c3\\\\u8207\"]}'}}, response_metadata={'prompt_feedback': {'block_reason': 0, 'safety_ratings': []}, 'finish_reason': 'STOP', 'model_name': 'gemini-2.0-flash', 'safety_ratings': []}, id='run--fe6eb32e-ed3a-4ea3-b468-34e66a4c9181-0', tool_calls=[{'name': 'run_queries', 'args': {'search_queries': ['平民參與泥石流救災安全指導', '災後救援活動安全參與']}, 'id': 'aa04aa46-a66e-44fd-adbc-9dc59155caea', 'type': 'tool_call'}], usage_metadata={'input_tokens': 38, 'output_tokens': 21, 'total_tokens': 59, 'input_token_details': {'cache_read': 0}})"
      ]
     },
     "execution_count": 7,
     "metadata": {},
     "output_type": "execute_result"
    }
   ],
   "source": [
    "response"
   ]
  },
  {
   "cell_type": "code",
   "execution_count": 9,
   "id": "c6bfb294-ddeb-464d-8100-ba780c9d91f4",
   "metadata": {},
   "outputs": [
    {
     "data": {
      "text/plain": [
       "[{'title': '[PDF] 国家综合减灾“十一五”规划',\n",
       "  'url': 'https://faolex.fao.org/docs/pdf/chn156592.pdf',\n",
       "  'content': '动，广泛宣传减灾知识，提高公众安全防范意识和自救互救技能。主办了亚洲减 灾大会等重要的国际减灾会议，签订了《上海合作组织政府间救灾互助协定》。 积极参与国际灾害双边和多边救援行动， 与相关联合国机构和国际、 区域组织建 立了密切的减灾合作关系。 （二）存在的薄弱环节。 目前， 我国的减灾工作还存在一些亟待加强的薄弱环节： 一是一些地方的减 灾综合协调机制尚不健全， 部门间信息共享和协调联动机制、 民间组织等社会力 量参与减灾的机制还不够完善； 二是缺乏减灾综合性法律法规， 相关配套政策不 够完善，灾害保险的作用未得到充分发挥，灾害救助、恢复重建等方面补助标准 偏低；三是灾害监测体系还不够健全，预警信息覆盖面和时效性尚待提高，灾情 监测、采集和评估体系建设滞后；四是防灾减灾基础设施建设有待加强，一些灾 害多发地区的避灾场所建设滞后，大城市和城市群灾害设防水平有待进一步提 高， 农村群众住房防灾抗灾标准普遍较低； 五是基层灾害应急预案体系尚需进一 步健全， 抗灾救灾物资储备体系不够完善， 应急通信、 指挥和交通装备水平落后； 六是减灾资源普查、 灾害风险综合调查评估等方面工作尚未开展， [...] 要和财力可能， 加大对减灾事业的投入， 并按照政府间事权划分纳入各级财政预 算；中央财政适当加大对中西部减灾工作支持力度；适当提高灾害救助标准，完 善救灾补助项目； 加强发挥保险业防灾减灾作用的政策研究和试点工作， 鼓励公 民和企业参加保险， 充分发挥保险对灾害损失的经济补偿和转移分担功能； 广泛 动员社会力量，多渠道筹集减灾资金，健全社会动员机制，加强社会捐助工作， 大力促进慈善事业发展。 （五）加强减灾专业队伍的培育和发展。加强减灾专业人才教育培训体系建 设，提高教育培训能力，开展全方位、多层次的减灾科技教育，提高减灾工作者 整体素质；加大经费、装备投入，提高各级减灾队伍特别是基层队伍的应急救援 能力； 立足减灾工作的实际需要， 整体规划、 统筹协调， 整合优化人才队伍结构， 实现减灾人才队伍和专家队伍的协调发展；构建全民参与减灾的安全文化氛围， 培育和发展社会公益组织和志愿者团体，积极参与减灾工作；充分发挥解放军、 武警、公安消防部队、民兵预备役在减灾救灾中的骨干作用。 （六） 推进减灾领域的国际交流与合作。 推动减灾领域信息管理、 宣传教育、 专业培训、 [...] 制和运行机制，着力加强灾害监测预警、防灾备灾、应急处置、灾害救助、恢复 重建等能力建设， 扎实推进减灾工作由减轻灾害损失向减轻灾害风险转变， 全面 提高综合减灾能力和风险管理水平， 切实保障人民群众生命财产安全， 促进经济 社会全面协调可持续发展。 （二）基本原则。 政府主导、分级管理、社会参与；以防为主，防抗救相结合；各负其责，区 域和部门协作减灾；减轻灾害风险与经济社会可持续发展相协调。 （三）规划目标。 1.自然灾害（未发生巨灾）造成的年均死亡人数比“十五”期间明显下降，年 均因灾直接经济损失占国民生产总值（GDP）的比例控制在1.5%以内。 2.各省、自治区、直辖市，多灾易灾的市（地）、县（市、区）建立减灾综 合协调机制。 3.基本建成国家综合减灾与风险管理信息共享平台，建立国家灾情监测、预 警、评估和应急救助指挥体系。 4.灾害发生24 小时之内，保证灾民得到食物、饮用水、衣物、医疗卫生救 援、临时住所等方面的基本生活救助。 5.灾害损毁民房恢复重建普遍达到规定的设防水平；在多灾易灾的城镇和城 乡社区普遍建立避难场所。 6.创建1000',\n",
       "  'score': 0.15964958}]"
      ]
     },
     "execution_count": 9,
     "metadata": {},
     "output_type": "execute_result"
    }
   ],
   "source": [
    "search_results[0]"
   ]
  },
  {
   "cell_type": "code",
   "execution_count": 11,
   "id": "fa8af7e8-46a4-42eb-8566-d1b1065d5641",
   "metadata": {},
   "outputs": [],
   "source": [
    "tool_message = ToolMessage(content=[r[0]['content'] for r in search_results], tool_call_id=tool_call['id'])"
   ]
  },
  {
   "cell_type": "code",
   "execution_count": 12,
   "id": "27e7ef03-06f2-4e80-80ff-fa44df3e507f",
   "metadata": {},
   "outputs": [
    {
     "data": {
      "text/plain": [
       "ToolMessage(content=['动，广泛宣传减灾知识，提高公众安全防范意识和自救互救技能。主办了亚洲减 灾大会等重要的国际减灾会议，签订了《上海合作组织政府间救灾互助协定》。 积极参与国际灾害双边和多边救援行动， 与相关联合国机构和国际、 区域组织建 立了密切的减灾合作关系。 （二）存在的薄弱环节。 目前， 我国的减灾工作还存在一些亟待加强的薄弱环节： 一是一些地方的减 灾综合协调机制尚不健全， 部门间信息共享和协调联动机制、 民间组织等社会力 量参与减灾的机制还不够完善； 二是缺乏减灾综合性法律法规， 相关配套政策不 够完善，灾害保险的作用未得到充分发挥，灾害救助、恢复重建等方面补助标准 偏低；三是灾害监测体系还不够健全，预警信息覆盖面和时效性尚待提高，灾情 监测、采集和评估体系建设滞后；四是防灾减灾基础设施建设有待加强，一些灾 害多发地区的避灾场所建设滞后，大城市和城市群灾害设防水平有待进一步提 高， 农村群众住房防灾抗灾标准普遍较低； 五是基层灾害应急预案体系尚需进一 步健全， 抗灾救灾物资储备体系不够完善， 应急通信、 指挥和交通装备水平落后； 六是减灾资源普查、 灾害风险综合调查评估等方面工作尚未开展， [...] 要和财力可能， 加大对减灾事业的投入， 并按照政府间事权划分纳入各级财政预 算；中央财政适当加大对中西部减灾工作支持力度；适当提高灾害救助标准，完 善救灾补助项目； 加强发挥保险业防灾减灾作用的政策研究和试点工作， 鼓励公 民和企业参加保险， 充分发挥保险对灾害损失的经济补偿和转移分担功能； 广泛 动员社会力量，多渠道筹集减灾资金，健全社会动员机制，加强社会捐助工作， 大力促进慈善事业发展。 （五）加强减灾专业队伍的培育和发展。加强减灾专业人才教育培训体系建 设，提高教育培训能力，开展全方位、多层次的减灾科技教育，提高减灾工作者 整体素质；加大经费、装备投入，提高各级减灾队伍特别是基层队伍的应急救援 能力； 立足减灾工作的实际需要， 整体规划、 统筹协调， 整合优化人才队伍结构， 实现减灾人才队伍和专家队伍的协调发展；构建全民参与减灾的安全文化氛围， 培育和发展社会公益组织和志愿者团体，积极参与减灾工作；充分发挥解放军、 武警、公安消防部队、民兵预备役在减灾救灾中的骨干作用。 （六） 推进减灾领域的国际交流与合作。 推动减灾领域信息管理、 宣传教育、 专业培训、 [...] 制和运行机制，着力加强灾害监测预警、防灾备灾、应急处置、灾害救助、恢复 重建等能力建设， 扎实推进减灾工作由减轻灾害损失向减轻灾害风险转变， 全面 提高综合减灾能力和风险管理水平， 切实保障人民群众生命财产安全， 促进经济 社会全面协调可持续发展。 （二）基本原则。 政府主导、分级管理、社会参与；以防为主，防抗救相结合；各负其责，区 域和部门协作减灾；减轻灾害风险与经济社会可持续发展相协调。 （三）规划目标。 1.自然灾害（未发生巨灾）造成的年均死亡人数比“十五”期间明显下降，年 均因灾直接经济损失占国民生产总值（GDP）的比例控制在1.5%以内。 2.各省、自治区、直辖市，多灾易灾的市（地）、县（市、区）建立减灾综 合协调机制。 3.基本建成国家综合减灾与风险管理信息共享平台，建立国家灾情监测、预 警、评估和应急救助指挥体系。 4.灾害发生24 小时之内，保证灾民得到食物、饮用水、衣物、医疗卫生救 援、临时住所等方面的基本生活救助。 5.灾害损毁民房恢复重建普遍达到规定的设防水平；在多灾易灾的城镇和城 乡社区普遍建立避难场所。 6.创建1000', '當災害來襲 WHEN DISASTER STRIKES • 與他人談論您的感受 - 憤怒、悲傷和其他情緒 - 即使 這樣做可能很困難。 • 尋求應對災後壓力的專業諮詢人員的幫助。 • 請勿要求您自己對災難性事件負責，或因為您不能 直接參與救援工作幫助他人而感到沮喪。 • 透過健康的飲食、休息、鍛煉、放鬆和冥想等措施 提升您自己的身體和情感康復能力。 • 維持正常的家庭和日常生活，限制對您自己和家人 的苛求。 • 和家人和朋友一起度過時光。 • 利用現有的家人、朋友和宗教機構的支援小組。 • 補充您的災害用品箱並更新您的家庭應災計劃，確 保您為未來的各種事件做好準備。從事這些積極的 活動是令人欣慰的。 應對 與災害有關的 壓力 對災害的一般反應 易怒和生氣 疲憊 食欲不振 失眠 做噩夢 悲傷 頭痛 噁心 多動症 注意力不集中 高度警覺 增加酒精或藥品的攝入量 54 當災害來襲 55 WHEN DISASTER STRIKES 尋求幫助 問題 公共機構的職責 居民和企業 立即 生活 和安全 食物和避難所 家人和寵物團圓 收集公共服務和私人服務 確保運輸線路正常運營 執行公共安全措施 [...] 您和您的家人可能受到多方面的影響 。 這可能包括身體或精神方面的傷害以及財產損害或損 失 。 記住不要驚慌 ， 並幫助那些需要特別援助的人 。 當災害來襲 評估 查明家人所在位置並告知他們您的情況 尋找避難所 和您的家人 一起在家中或避難所 尋找一個安全地方 。 確保安全 小心行進並遵守當地的安全須知 。 尋求幫助 獲取本機服務可用性資訊或 撥打 2-1-1 獲取服務。 開始恢復 聯繫保險提供商和 FEMA ， 並保證文件的安全 。 49 50 WHEN DISASTER STRIKES 第一救援機構將開始評估整個縣的損壞情況， 並確定哪個區域是重災區。他們將開始清理受 災線路，以使緊急救援車輛能夠通過， 明最需 要幫忙的區域。公共設施和運輸路線的恢復工 作將更加緩慢，因為救援機構要進行各項評估， 並準備滿足居民和應急人員的需求。 災害發生之後，立即收聽當地媒體播報的當地 官方的通知和指示。指示將會因災害而異。 地震之後，首先檢查是否有人受傷，然後評估 您的建築物是否有明顯的危險和險情。一旦您 和您的家人都很安全，請啟動您的電話呼叫樹， 查明家人所在位置並告知他們您的情況。僅限'], tool_call_id='aa04aa46-a66e-44fd-adbc-9dc59155caea')"
      ]
     },
     "execution_count": 12,
     "metadata": {},
     "output_type": "execute_result"
    }
   ],
   "source": [
    "tool_message"
   ]
  },
  {
   "cell_type": "code",
   "execution_count": 15,
   "id": "36523080-3ccd-47d5-837d-78afeb58bfd0",
   "metadata": {},
   "outputs": [
    {
     "data": {
      "text/plain": [
       "AIMessage(content='平民參與泥石流等災後救援活動，務必以自身安全為首要考量。以下提供安全指導，協助您安全地參與救援：\\n\\n**一、災前準備與認知：**\\n\\n*   **了解泥石流特性：** 泥石流具有突發性、流動性、破壞性強等特點。了解這些特性有助於判斷風險。\\n*   **關注官方資訊：** 密切關注政府發布的預警信息、疏散指示和災情通報。\\n*   **學習急救知識：** 學習基本的急救技能，如心肺復甦術（CPR）、止血、包紮等，以便在緊急情況下幫助他人。\\n*   **準備應急物資：** 準備包含飲用水、食物、急救用品、照明設備、通信設備、保暖衣物等的應急包。\\n*   **了解救援組織：** 了解當地有哪些救援組織，以及他們的聯繫方式和工作內容。\\n\\n**二、參與救援的安全原則：**\\n\\n*   **安全第一：** 永遠將自身安全放在第一位。不要冒不必要的風險。\\n*   **服從指揮：** 聽從救援指揮中心的統一指揮，不要擅自行動。\\n*   **評估風險：** 在進入災區前，仔細評估周圍環境的風險，如是否有再次發生泥石流的可能、建築物是否穩固、是否有潛在的危險物品等。\\n*   **結伴而行：** 不要單獨行動，最好與有經驗的救援人員或志願者結伴而行。\\n*   **穿戴防護裝備：** 穿戴必要的防護裝備，如安全帽、手套、防護鞋、口罩等。\\n*   **注意衛生：** 災區環境衛生條件差，注意個人衛生，勤洗手，避免感染疾病。\\n*   **保持警惕：** 時刻保持警惕，注意觀察周圍環境的變化，如是否有異常聲音、地面是否有裂縫等。\\n*   **適時休息：** 救援工作強度大，注意適時休息，補充體力。\\n*   **心理調適：** 災後現場可能充滿悲傷和痛苦，注意心理調適，必要時尋求心理輔導。\\n\\n**三、具體救援活動的安全注意事項：**\\n\\n*   **搜救：**\\n    *   不要進入危險區域，如倒塌的建築物、陡峭的山坡等。\\n    *   使用專業的搜救工具，如生命探測儀、搜救犬等。\\n    *   注意觀察是否有生命跡象，如呼救聲、敲擊聲等。\\n*   **搬運物資：**\\n    *   注意搬運姿勢，避免受傷。\\n    *   不要搬運過重的物品。\\n    *   注意避讓障礙物，防止跌倒。\\n*   **清理現場：**\\n    *   注意防護，避免接觸有害物質。\\n    *   不要隨意觸摸不明物體。\\n    *   注意清理倒塌的建築物時的安全。\\n*   **醫療救助：**\\n    *   在專業醫療人員的指導下進行救助。\\n    *   注意自身防護，避免感染疾病。\\n    *   及時將傷員轉移到安全區域。\\n\\n**四、災後注意事項：**\\n\\n*   **關注身體狀況：** 災後注意觀察自己的身體狀況，如有不適及時就醫。\\n*   **心理疏導：** 災後可能出現心理問題，如焦慮、抑鬱等，及時尋求心理疏導。\\n*   **總結經驗：** 總結參與救援的經驗教訓，為今後的救援工作提供參考。\\n\\n**重要提醒：**\\n\\n*   **量力而為：** 參與救援活動要量力而為，不要逞強。\\n*   **專業優先：** 救援工作應以專業救援隊伍為主，平民參與應在專業人員的指導下進行。\\n*   **不添亂：** 如果不具備相關知識和技能，不要盲目參與救援，以免給救援工作添亂。\\n\\n**總之，平民參與泥石流等災後救援活動是一項崇高的行為，但務必以安全為前提，在專業人員的指導下，量力而為，才能真正幫助到受災群眾。**', additional_kwargs={}, response_metadata={'prompt_feedback': {'block_reason': 0, 'safety_ratings': []}, 'finish_reason': 'STOP', 'model_name': 'gemini-2.0-flash', 'safety_ratings': []}, id='run--43281b01-dd1e-4098-8272-a2db6d5a2192-0', usage_metadata={'input_tokens': 1727, 'output_tokens': 972, 'total_tokens': 2699, 'input_token_details': {'cache_read': 0}})"
      ]
     },
     "execution_count": 15,
     "metadata": {},
     "output_type": "execute_result"
    }
   ],
   "source": [
    "model.invoke([HumanMessage(content=[\"平民參與救災的風險\", \"泥石流災害應對安全指導\", \"如何安全參與災後救援活動\"]),\n",
    "                         response,\n",
    "                         tool_message])"
   ]
  },
  {
   "cell_type": "code",
   "execution_count": null,
   "id": "21690ecf-adb5-487a-8759-ae4f418d953c",
   "metadata": {},
   "outputs": [],
   "source": []
  }
 ],
 "metadata": {
  "kernelspec": {
   "display_name": "Python 3 (ipykernel)",
   "language": "python",
   "name": "python3"
  },
  "language_info": {
   "codemirror_mode": {
    "name": "ipython",
    "version": 3
   },
   "file_extension": ".py",
   "mimetype": "text/x-python",
   "name": "python",
   "nbconvert_exporter": "python",
   "pygments_lexer": "ipython3",
   "version": "3.10.18"
  }
 },
 "nbformat": 4,
 "nbformat_minor": 5
}
