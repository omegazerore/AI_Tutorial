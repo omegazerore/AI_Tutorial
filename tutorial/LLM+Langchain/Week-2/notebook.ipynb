{
 "cells": [
  {
   "cell_type": "markdown",
   "id": "5b98d04a-fda1-4ca8-ae92-ae594722255a",
   "metadata": {},
   "source": [
    "# 作業詳解"
   ]
  },
  {
   "cell_type": "markdown",
   "id": "bef0fdeb-a495-4c91-8164-b37dfb3b9734",
   "metadata": {},
   "source": [
    "1. conda create -n aicg python=3.10\n",
    "2. conda activate aicg\n",
    "3. pip install -r requirements.txt\n",
    "\n",
    "4. conda activate aicg\n",
    "5. jupyter lab"
   ]
  },
  {
   "cell_type": "code",
   "execution_count": 1,
   "id": "0ebfbfab-219f-4ea9-b24a-f7f414cf25ac",
   "metadata": {},
   "outputs": [],
   "source": [
    "import os\n",
    "import json"
   ]
  },
  {
   "cell_type": "code",
   "execution_count": 2,
   "id": "b5b9ca05-18e4-4ecb-83c2-4bb1efcdf588",
   "metadata": {},
   "outputs": [],
   "source": [
    "os.chdir(\"../../../\")"
   ]
  },
  {
   "cell_type": "code",
   "execution_count": 4,
   "id": "0b691104-7300-4274-baa7-11ef5def708e",
   "metadata": {},
   "outputs": [],
   "source": [
    "from langchain_openai import ChatOpenAI\n",
    "from langchain.prompts import PromptTemplate, HumanMessagePromptTemplate, ChatPromptTemplate, SystemMessagePromptTemplate\n",
    "from langchain.output_parsers import StructuredOutputParser, ResponseSchema\n",
    "\n",
    "from src.initialization import credential_init\n",
    "from src.io.path_definition import get_project_dir\n",
    "\n",
    "\n",
    "credential_init()\n",
    "\n",
    "model = ChatOpenAI(openai_api_key=os.environ['OPENAI_API_KEY'],\n",
    "                   model_name=\"gpt-4o-mini\", temperature=0)\n",
    "\n",
    "with open(os.path.join(get_project_dir(), 'tutorial', 'LLM+Langchain', \n",
    "                       'Week-1', 'recipe_train.json'), 'r') as f:\n",
    "    recipe_train = json.load(f)"
   ]
  },
  {
   "cell_type": "code",
   "execution_count": null,
   "id": "1b44281d-f281-4307-8947-8298bb8e8367",
   "metadata": {},
   "outputs": [],
   "source": [
    "recipe_train[100]"
   ]
  },
  {
   "cell_type": "code",
   "execution_count": 5,
   "id": "56adde32-0275-4716-a3db-17b045caf231",
   "metadata": {},
   "outputs": [],
   "source": [
    "from langchain_community.retrievers import BM25Retriever\n",
    "from langchain.docstore.document import Document\n",
    "\n",
    "documents = []\n",
    "\n",
    "for recipe in recipe_train:\n",
    "    document = Document(page_content=\", \".join(recipe['ingredients']),\n",
    "                        metadata={\"cuisine\": recipe['cuisine'],\n",
    "                                  \"id\": recipe['id']})\n",
    "    documents.append(document)\n",
    "\n",
    "bm25_retriever = BM25Retriever.from_documents(documents, k=10, bm25_params={\"k1\":2.5})"
   ]
  },
  {
   "cell_type": "code",
   "execution_count": 6,
   "id": "f51f3190-d34a-4435-b90b-80a45e21e073",
   "metadata": {},
   "outputs": [],
   "source": [
    "# I created this last week after the session\n",
    "def build_standard_chat_prompt_template(kwargs):\n",
    "\n",
    "    system_content = kwargs['system']\n",
    "    human_content = kwargs['human']\n",
    "    \n",
    "    system_prompt = PromptTemplate(**system_content)\n",
    "    system_message = SystemMessagePromptTemplate(prompt=system_prompt)\n",
    "    \n",
    "    human_prompt = PromptTemplate(**human_content)\n",
    "    human_message = HumanMessagePromptTemplate(prompt=human_prompt)\n",
    "    \n",
    "    chat_prompt = ChatPromptTemplate.from_messages([system_message,\n",
    "                                                     human_message\n",
    "                                                   ])\n",
    "\n",
    "    return chat_prompt"
   ]
  },
  {
   "cell_type": "code",
   "execution_count": 16,
   "id": "3c39e7eb-02d3-484c-8355-b3aa56a3b226",
   "metadata": {},
   "outputs": [],
   "source": [
    "from textwrap import dedent\n",
    "\n",
    "\n",
    "response_schemas = [\n",
    "        ResponseSchema(name=\"used ingredients\", \n",
    "                       description=\"The actual ingredients used in cooking\"),\n",
    "        ResponseSchema(name=\"extra ingredients\", \n",
    "                       description=\"extra ingredients that have to be prepared\"),\n",
    "        ResponseSchema(name=\"result\", \n",
    "                       description=\"The dish and cooking recipe in detail\")\n",
    "    ]\n",
    "output_parser = StructuredOutputParser.from_response_schemas(response_schemas)\n",
    "\n",
    "format_instructions = output_parser.get_format_instructions()\n",
    "\n",
    "system_template = dedent(\"\"\"\n",
    "                  You are an AI assistant as the best chef in the world. \n",
    "                  You have a great taste and cooking skills like Gordon Ramsay. \n",
    "                  You should be able to come up with a dish based on `suggested ingredient`, \n",
    "                  and tell us what extra ingredients has to be prepared by comparing \n",
    "                  the ingredients actually used in the cooking and the `existing ingredient`.\n",
    "\n",
    "                  The `suggested ingredients` are the ingredients suggested \n",
    "                  by some recipe. You have the freedom to add or remove \n",
    "                  ingredients to achieve the goal, but try to be as faithful \n",
    "                  to the `suggested ingredient` as possible. \n",
    "                  \"\"\")\n",
    "\n",
    "human_template = dedent(\"\"\"\n",
    "                 existing ingredients:[{existing_ingredients}];\n",
    "                 suggested ingredients: [{suggested_ingredients}]\\n; \n",
    "                 format instruction: {format_instructions}\n",
    "                 \"\"\")\n",
    "\n",
    "\n",
    "input_ = {\"system\": {\"template\": system_template},\n",
    "          \"human\": {\"template\": human_template,\n",
    "                    \"input_variable\": [\"existing_ingredients\", \"suggested_ingredients\"],\n",
    "                    \"partial_variables\": {\"format_instructions\": format_instructions}}}\n",
    "\n",
    "my_chat_prompt_template = build_standard_chat_prompt_template(input_)"
   ]
  },
  {
   "cell_type": "code",
   "execution_count": 7,
   "id": "284979b3-ae7e-4650-9a0b-8cf5d1e58d9d",
   "metadata": {},
   "outputs": [
    {
     "name": "stdout",
     "output_type": "stream",
     "text": [
      "existing_ingredients: olive oil, balsamic vinegar, toasted pine nuts, kosher salt, golden raisins, part-skim ricotta cheese, grated parmesan cheese, baby spinach, fresh basil leaves, pepper, fusilli, scallions\n"
     ]
    }
   ],
   "source": [
    "# Because I am lazy so I use data from another dataset.\n",
    "\n",
    "with open(os.path.join(get_project_dir(), 'tutorial', 'LLM+Langchain', 'Week-1', 'recipe_test.json'), 'r') as f:\n",
    "    recipe_test = json.load(f)\n",
    "\n",
    "# What you have in your fridge\n",
    "existing_ingredients = \", \".join(recipe_test[0]['ingredients'])\n",
    "\n",
    "print(f\"existing_ingredients: {existing_ingredients}\")\n",
    "\n",
    "output = bm25_retriever.invoke(existing_ingredients)"
   ]
  },
  {
   "cell_type": "code",
   "execution_count": 8,
   "id": "6981b36a-537c-4f6b-a1b6-0711096187ae",
   "metadata": {},
   "outputs": [
    {
     "data": {
      "text/plain": [
       "Document(metadata={'cuisine': 'italian', 'id': 7983}, page_content='Italian parsley leaves, toasted pine nuts, olive oil, fresh oregano, fresh leav spinach, salt, fresh basil leaves, grated parmesan cheese, garlic cloves')"
      ]
     },
     "execution_count": 8,
     "metadata": {},
     "output_type": "execute_result"
    }
   ],
   "source": [
    "output[0]"
   ]
  },
  {
   "cell_type": "code",
   "execution_count": 9,
   "id": "3d54a005-1ef0-4e84-a775-9f12e9eb1c3a",
   "metadata": {},
   "outputs": [],
   "source": [
    "suggested_ingredients = output[0].page_content"
   ]
  },
  {
   "cell_type": "code",
   "execution_count": 10,
   "id": "e24cb331-fef7-4e39-bd7b-3568488a4fbc",
   "metadata": {},
   "outputs": [
    {
     "data": {
      "text/plain": [
       "'Italian parsley leaves, toasted pine nuts, olive oil, fresh oregano, fresh leav spinach, salt, fresh basil leaves, grated parmesan cheese, garlic cloves'"
      ]
     },
     "execution_count": 10,
     "metadata": {},
     "output_type": "execute_result"
    }
   ],
   "source": [
    "suggested_ingredients"
   ]
  },
  {
   "cell_type": "markdown",
   "id": "b6bf9c32-01b8-43d8-8839-195d954d01b0",
   "metadata": {},
   "source": [
    "### Validation\n",
    "\n",
    "Let us learn some python...."
   ]
  },
  {
   "cell_type": "code",
   "execution_count": 12,
   "id": "e9bdd873-319d-4bb5-8ecc-67d4982c8cc4",
   "metadata": {},
   "outputs": [],
   "source": [
    "existing_ingredients_as_list = recipe_test[0]['ingredients']\n",
    "suggested_ingredients_as_list = suggested_ingredients.split(\", \")"
   ]
  },
  {
   "cell_type": "code",
   "execution_count": 13,
   "id": "d8004df7-f826-40f9-93d6-d8b30db7379d",
   "metadata": {},
   "outputs": [
    {
     "name": "stdout",
     "output_type": "stream",
     "text": [
      "- Italian parsley leaves: no\n",
      "- toasted pine nuts: yes\n",
      "- olive oil: yes\n",
      "- fresh oregano: no\n",
      "- fresh leav spinach: no\n",
      "- salt: no\n",
      "- fresh basil leaves: yes\n",
      "- grated parmesan cheese: yes\n",
      "- garlic cloves: no\n"
     ]
    }
   ],
   "source": [
    "for suggested_ingredient in suggested_ingredients_as_list:\n",
    "    if suggested_ingredient in existing_ingredients_as_list:\n",
    "        print(f\"- {suggested_ingredient}: yes\")\n",
    "    else:\n",
    "        print(f\"- {suggested_ingredient}: no\")"
   ]
  },
  {
   "cell_type": "code",
   "execution_count": 17,
   "id": "7a5c7b21-1e17-444c-a55a-1b80561966a9",
   "metadata": {},
   "outputs": [],
   "source": [
    "prompt = my_chat_prompt_template.invoke(\n",
    "    {\"existing_ingredients\": existing_ingredients, \n",
    "     \"suggested_ingredients\": suggested_ingredients})"
   ]
  },
  {
   "cell_type": "code",
   "execution_count": 19,
   "id": "b5bf0257-3211-414a-bdc4-a53edf7ef637",
   "metadata": {},
   "outputs": [
    {
     "data": {
      "text/plain": [
       "ChatPromptTemplate(input_variables=['existing_ingredients', 'suggested_ingredients'], input_types={}, partial_variables={}, messages=[SystemMessagePromptTemplate(prompt=PromptTemplate(input_variables=[], input_types={}, partial_variables={}, template='\\nYou are an AI assistant as the best chef in the world. \\nYou have a great taste and cooking skills like Gordon Ramsay. \\nYou should be able to come up with a dish based on `suggested ingredient`, \\nand tell us what extra ingredients has to be prepared by comparing \\nthe ingredients actually used in the cooking and the `existing ingredient`.\\n\\nThe `suggested ingredients` are the ingredients suggested \\nby some recipe. You have the freedom to add or remove \\ningredients to achieve the goal, but try to be as faithful \\nto the `suggested ingredient` as possible. \\n'), additional_kwargs={}), HumanMessagePromptTemplate(prompt=PromptTemplate(input_variables=['existing_ingredients', 'suggested_ingredients'], input_types={}, partial_variables={'format_instructions': 'The output should be a markdown code snippet formatted in the following schema, including the leading and trailing \"```json\" and \"```\":\\n\\n```json\\n{\\n\\t\"used ingredients\": string  // The actual ingredients used in cooking\\n\\t\"extra ingredients\": string  // extra ingredients that have to be prepared\\n\\t\"result\": string  // The dish and cooking recipe in detail\\n}\\n```'}, template='\\n                 existing ingredients:[{existing_ingredients}];\\n                 suggested ingredients: [{suggested_ingredients}]\\n; \\n                 format instruction: {format_instructions}\\n'), additional_kwargs={})])"
      ]
     },
     "execution_count": 19,
     "metadata": {},
     "output_type": "execute_result"
    }
   ],
   "source": [
    "my_chat_prompt_template"
   ]
  },
  {
   "cell_type": "code",
   "execution_count": 18,
   "id": "3768c3e5-9cea-45f1-a6bc-e3bb13fdc5cc",
   "metadata": {},
   "outputs": [
    {
     "data": {
      "text/plain": [
       "ChatPromptValue(messages=[SystemMessage(content='\\nYou are an AI assistant as the best chef in the world. \\nYou have a great taste and cooking skills like Gordon Ramsay. \\nYou should be able to come up with a dish based on `suggested ingredient`, \\nand tell us what extra ingredients has to be prepared by comparing \\nthe ingredients actually used in the cooking and the `existing ingredient`.\\n\\nThe `suggested ingredients` are the ingredients suggested \\nby some recipe. You have the freedom to add or remove \\ningredients to achieve the goal, but try to be as faithful \\nto the `suggested ingredient` as possible. \\n', additional_kwargs={}, response_metadata={}), HumanMessage(content='\\n                 existing ingredients:[olive oil, balsamic vinegar, toasted pine nuts, kosher salt, golden raisins, part-skim ricotta cheese, grated parmesan cheese, baby spinach, fresh basil leaves, pepper, fusilli, scallions];\\n                 suggested ingredients: [Italian parsley leaves, toasted pine nuts, olive oil, fresh oregano, fresh leav spinach, salt, fresh basil leaves, grated parmesan cheese, garlic cloves]\\n; \\n                 format instruction: The output should be a markdown code snippet formatted in the following schema, including the leading and trailing \"```json\" and \"```\":\\n\\n```json\\n{\\n\\t\"used ingredients\": string  // The actual ingredients used in cooking\\n\\t\"extra ingredients\": string  // extra ingredients that have to be prepared\\n\\t\"result\": string  // The dish and cooking recipe in detail\\n}\\n```\\n', additional_kwargs={}, response_metadata={})])"
      ]
     },
     "execution_count": 18,
     "metadata": {},
     "output_type": "execute_result"
    }
   ],
   "source": [
    "prompt"
   ]
  },
  {
   "cell_type": "code",
   "execution_count": 20,
   "id": "8ac47403-1e65-4971-bb74-89b8f1f59c41",
   "metadata": {},
   "outputs": [
    {
     "name": "stdout",
     "output_type": "stream",
     "text": [
      "```json\n",
      "{\n",
      "\t\"used ingredients\": \"olive oil, toasted pine nuts, kosher salt, golden raisins, part-skim ricotta cheese, grated parmesan cheese, baby spinach, fresh basil leaves, pepper, fusilli, scallions, garlic cloves, fresh oregano, Italian parsley leaves\",\n",
      "\t\"extra ingredients\": \"fresh oregano, Italian parsley leaves, garlic cloves\",\n",
      "\t\"result\": \"### Spinach and Ricotta Fusilli with Pine Nuts and Herbs\\n\\n#### Ingredients:\\n- 2 cups fusilli pasta\\n- 2 tablespoons olive oil\\n- 2 cloves garlic, minced\\n- 1 cup baby spinach, chopped\\n- 1 cup part-skim ricotta cheese\\n- 1/2 cup grated parmesan cheese\\n- 1/4 cup toasted pine nuts\\n- 1/4 cup golden raisins\\n- 1/4 cup scallions, chopped\\n- 1/4 cup fresh basil leaves, chopped\\n- 1/4 cup Italian parsley leaves, chopped\\n- 1 teaspoon fresh oregano, chopped\\n- Kosher salt and pepper to taste\\n\\n#### Instructions:\\n1. **Cook the Pasta:** In a large pot of salted boiling water, cook the fusilli according to package instructions until al dente. Drain and set aside.\\n\\n2. **Sauté Garlic:** In a large skillet, heat the olive oil over medium heat. Add the minced garlic and sauté for about 1 minute until fragrant.\\n\\n3. **Add Spinach:** Add the chopped baby spinach to the skillet and cook until wilted, about 2-3 minutes.\\n\\n4. **Combine Ingredients:** In the skillet, add the cooked fusilli, ricotta cheese, grated parmesan cheese, toasted pine nuts, golden raisins, scallions, fresh basil, Italian parsley, and fresh oregano. Toss everything together until well combined.\\n\\n5. **Season:** Season with kosher salt and pepper to taste. If the mixture seems dry, you can add a splash of pasta water or more olive oil.\\n\\n6. **Serve:** Serve warm, garnished with additional parmesan cheese and fresh herbs if desired. Enjoy your delicious Spinach and Ricotta Fusilli!\"\n",
      "}\n",
      "```\n"
     ]
    }
   ],
   "source": [
    "output = model.invoke(prompt)\n",
    "print(output.content)"
   ]
  },
  {
   "cell_type": "code",
   "execution_count": 21,
   "id": "bbdbac4a-eca4-403d-8f81-98b69a14605c",
   "metadata": {},
   "outputs": [
    {
     "name": "stdout",
     "output_type": "stream",
     "text": [
      "{'used ingredients': 'olive oil, toasted pine nuts, kosher salt, golden raisins, part-skim ricotta cheese, grated parmesan cheese, baby spinach, fresh basil leaves, pepper, fusilli, scallions, garlic cloves, fresh oregano, Italian parsley leaves', 'extra ingredients': 'fresh oregano, Italian parsley leaves, garlic cloves', 'result': '### Spinach and Ricotta Fusilli with Pine Nuts and Herbs\\n\\n#### Ingredients:\\n- 2 cups fusilli pasta\\n- 2 tablespoons olive oil\\n- 2 cloves garlic, minced\\n- 1 cup baby spinach, chopped\\n- 1 cup part-skim ricotta cheese\\n- 1/2 cup grated parmesan cheese\\n- 1/4 cup toasted pine nuts\\n- 1/4 cup golden raisins\\n- 1/4 cup scallions, chopped\\n- 1/4 cup fresh basil leaves, chopped\\n- 1/4 cup Italian parsley leaves, chopped\\n- 1 teaspoon fresh oregano, chopped\\n- Kosher salt and pepper to taste\\n\\n#### Instructions:\\n1. **Cook the Pasta:** In a large pot of salted boiling water, cook the fusilli according to package instructions until al dente. Drain and set aside.\\n\\n2. **Sauté Garlic:** In a large skillet, heat the olive oil over medium heat. Add the minced garlic and sauté for about 1 minute until fragrant.\\n\\n3. **Add Spinach:** Add the chopped baby spinach to the skillet and cook until wilted, about 2-3 minutes.\\n\\n4. **Combine Ingredients:** In the skillet, add the cooked fusilli, ricotta cheese, grated parmesan cheese, toasted pine nuts, golden raisins, scallions, fresh basil, Italian parsley, and fresh oregano. Toss everything together until well combined.\\n\\n5. **Season:** Season with kosher salt and pepper to taste. If the mixture seems dry, you can add a splash of pasta water or more olive oil.\\n\\n6. **Serve:** Serve warm, garnished with additional parmesan cheese and fresh herbs if desired. Enjoy your delicious Spinach and Ricotta Fusilli!'}\n"
     ]
    }
   ],
   "source": [
    "final_output = output_parser.parse(output.content)\n",
    "print(final_output)"
   ]
  },
  {
   "cell_type": "code",
   "execution_count": null,
   "id": "8f18343f-f495-43bc-9662-747e404a1c87",
   "metadata": {},
   "outputs": [],
   "source": [
    "final_output.keys()"
   ]
  },
  {
   "cell_type": "code",
   "execution_count": 22,
   "id": "5d058402-5f51-4c58-a8ba-8517fd4498f6",
   "metadata": {},
   "outputs": [
    {
     "name": "stdout",
     "output_type": "stream",
     "text": [
      "olive oil, toasted pine nuts, kosher salt, golden raisins, part-skim ricotta cheese, grated parmesan cheese, baby spinach, fresh basil leaves, pepper, fusilli, scallions, garlic cloves, fresh oregano, Italian parsley leaves\n"
     ]
    }
   ],
   "source": [
    "print(final_output['used ingredients'])"
   ]
  },
  {
   "cell_type": "code",
   "execution_count": 23,
   "id": "ef03ddc9-c8e5-4b3d-855c-e0ba480b5242",
   "metadata": {},
   "outputs": [
    {
     "name": "stdout",
     "output_type": "stream",
     "text": [
      "fresh oregano, Italian parsley leaves, garlic cloves\n"
     ]
    }
   ],
   "source": [
    "print(final_output['extra ingredients'])"
   ]
  },
  {
   "cell_type": "code",
   "execution_count": 24,
   "id": "e053b761-8266-4708-830a-46e9140b9871",
   "metadata": {},
   "outputs": [
    {
     "name": "stdout",
     "output_type": "stream",
     "text": [
      "### Spinach and Ricotta Fusilli with Pine Nuts and Herbs\n",
      "\n",
      "#### Ingredients:\n",
      "- 2 cups fusilli pasta\n",
      "- 2 tablespoons olive oil\n",
      "- 2 cloves garlic, minced\n",
      "- 1 cup baby spinach, chopped\n",
      "- 1 cup part-skim ricotta cheese\n",
      "- 1/2 cup grated parmesan cheese\n",
      "- 1/4 cup toasted pine nuts\n",
      "- 1/4 cup golden raisins\n",
      "- 1/4 cup scallions, chopped\n",
      "- 1/4 cup fresh basil leaves, chopped\n",
      "- 1/4 cup Italian parsley leaves, chopped\n",
      "- 1 teaspoon fresh oregano, chopped\n",
      "- Kosher salt and pepper to taste\n",
      "\n",
      "#### Instructions:\n",
      "1. **Cook the Pasta:** In a large pot of salted boiling water, cook the fusilli according to package instructions until al dente. Drain and set aside.\n",
      "\n",
      "2. **Sauté Garlic:** In a large skillet, heat the olive oil over medium heat. Add the minced garlic and sauté for about 1 minute until fragrant.\n",
      "\n",
      "3. **Add Spinach:** Add the chopped baby spinach to the skillet and cook until wilted, about 2-3 minutes.\n",
      "\n",
      "4. **Combine Ingredients:** In the skillet, add the cooked fusilli, ricotta cheese, grated parmesan cheese, toasted pine nuts, golden raisins, scallions, fresh basil, Italian parsley, and fresh oregano. Toss everything together until well combined.\n",
      "\n",
      "5. **Season:** Season with kosher salt and pepper to taste. If the mixture seems dry, you can add a splash of pasta water or more olive oil.\n",
      "\n",
      "6. **Serve:** Serve warm, garnished with additional parmesan cheese and fresh herbs if desired. Enjoy your delicious Spinach and Ricotta Fusilli!\n"
     ]
    }
   ],
   "source": [
    "print(final_output['result'])"
   ]
  },
  {
   "cell_type": "code",
   "execution_count": 25,
   "id": "d5f855de-d1eb-420f-b233-7503a6071a6b",
   "metadata": {},
   "outputs": [],
   "source": [
    "translated_result = model.invoke(f\"Translate the content into traditional Chinese (繁體中文): {final_output['result']}\")"
   ]
  },
  {
   "cell_type": "code",
   "execution_count": 26,
   "id": "3a735b13-1bf3-431d-8169-7d559c133e93",
   "metadata": {},
   "outputs": [
    {
     "name": "stdout",
     "output_type": "stream",
     "text": [
      "### 菠菜和瑞可達起司螺旋麵配松子和香草\n",
      "\n",
      "#### 材料：\n",
      "- 2杯螺旋麵\n",
      "- 2湯匙橄欖油\n",
      "- 2瓣大蒜，切碎\n",
      "- 1杯嬰兒菠菜，切碎\n",
      "- 1杯部分脫脂瑞可達起司\n",
      "- 1/2杯磨碎的帕爾馬乾酪\n",
      "- 1/4杯烤松子\n",
      "- 1/4杯金葡萄乾\n",
      "- 1/4杯青蔥，切碎\n",
      "- 1/4杯新鮮羅勒葉，切碎\n",
      "- 1/4杯意大利香菜葉，切碎\n",
      "- 1茶匙新鮮牛至，切碎\n",
      "- 猶太鹽和黑胡椒，適量\n",
      "\n",
      "#### 做法：\n",
      "1. **煮麵條：** 在一大鍋加鹽的滾水中，根據包裝說明煮螺旋麵至剛好熟透（al dente）。瀝乾並放在一旁。\n",
      "\n",
      "2. **炒大蒜：** 在一個大平底鍋中，用中火加熱橄欖油。加入切碎的大蒜，炒約1分鐘，直到散發香味。\n",
      "\n",
      "3. **加入菠菜：** 將切碎的嬰兒菠菜加入平底鍋中，煮至萎縮，約2-3分鐘。\n",
      "\n",
      "4. **混合材料：** 在平底鍋中，加入煮好的螺旋麵、瑞可達起司、磨碎的帕爾馬乾酪、烤松子、金葡萄乾、青蔥、新鮮羅勒、意大利香菜和新鮮牛至。將所有材料拌勻。\n",
      "\n",
      "5. **調味：** 根據口味加入猶太鹽和黑胡椒。如果混合物看起來乾，可以加入少許麵水或更多橄欖油。\n",
      "\n",
      "6. **上菜：** 溫熱食用，若需要可用額外的帕爾馬乾酪和新鮮香草裝飾。享受美味的菠菜和瑞可達起司螺旋麵！\n"
     ]
    }
   ],
   "source": [
    "print(translated_result.content)"
   ]
  },
  {
   "cell_type": "markdown",
   "id": "cf00c087-166a-4f59-a5fe-adf39449145d",
   "metadata": {},
   "source": [
    "# Semantic based retrieval\n",
    "\n",
    "Semantic-based retrieval is a method of finding information that focuses on understanding the meaning behind the words you use. Instead of just matching exact words, it looks for the context and concepts in your query. Here's a simple way to understand it:\n",
    "\n",
    "- 1. Meaning Over Words: Imagine you want to find information about \"healthy eating\". Traditional search might look for documents with the exact phrase \"healthy eating\". Semantic-based retrieval, however, understands that terms like \"nutritious diet\" or \"balanced diet\" are related and will include those in the results.\n",
    "\n",
    "- 2. Context Awareness: This method takes into account the context in which words are used. For example, if you search for \"apple\", a traditional search might give you results about the fruit and the tech company. Semantic-based retrieval uses context to determine whether you’re likely asking about a fruit or a tech product.\n",
    "\n",
    "- 3. Natural Language Understanding: It works more like how humans understand language. When you ask a question, it tries to grasp the intent behind your query and finds relevant information accordingly.\n",
    "\n",
    "- 4. Better Results: By focusing on the meaning and context, semantic-based retrieval can provide more accurate and relevant results. This means you spend less time sifting through unrelated information.\n",
    "\n",
    "\n",
    "語義檢索是一種尋找信息的方法，它重點在於理解你使用的詞語背後的意思。與其僅僅匹配精確的詞語，它會尋找你查詢中的上下文和概念。以下是一種簡單的理解方式：\n",
    "\n",
    "- 1. 重點在於意思：想像一下你想找關於“健康飲食”的信息。傳統搜索可能會尋找包含“健康飲食”這個精確詞語的文檔。而語義檢索則會理解“營養均衡的飲食”或“均衡飲食”等相關詞語，並將它們包含在結果中。\n",
    "\n",
    "- 2. 上下文感知：這種方法會考慮詞語使用的上下文。例如，如果你搜索“蘋果”，傳統搜索可能會給你關於水果和科技公司的結果。語義檢索則會使用上下文來判斷你更可能是在詢問水果還是科技產品。\n",
    "\n",
    "- 3. 自然語言理解：它更像人類理解語言的方式。當你提出問題時，它會嘗試理解你查詢背後的意圖，並相應地找到相關信息。\n",
    "\n",
    "- 4. 更好的結果：通過重點關注意思和上下文，語義檢索可以提供更準確和相關的結果。這意味著你可以減少篩選無關信息的時間。"
   ]
  },
  {
   "cell_type": "code",
   "execution_count": null,
   "id": "df1d34a9-ca50-474d-9a23-3b46bbf91dff",
   "metadata": {},
   "outputs": [],
   "source": [
    "'egg' == 'eggs'"
   ]
  },
  {
   "cell_type": "code",
   "execution_count": 27,
   "id": "ef3a7a88-0bd5-4ed1-a619-b7c537813bc1",
   "metadata": {},
   "outputs": [],
   "source": [
    "from langchain_community.vectorstores import FAISS\n",
    "from langchain_community.embeddings import HuggingFaceEmbeddings\n",
    "\n",
    "# https://platform.openai.com/docs/guides/embeddings/what-are-embeddings\n",
    "\n",
    "# A list of embedding models you can choose \n",
    "# https://www.sbert.net/docs/sentence_transformer/pretrained_models.html"
   ]
  },
  {
   "cell_type": "markdown",
   "id": "5d359c46-df1c-4449-8a78-297c41b43088",
   "metadata": {},
   "source": [
    "### 1. Creating Embeddings (創建嵌入):\n",
    "\n",
    "- HuggingFaceEmbeddings is used to create embeddings (vector representations) for text data.\n",
    "- The model all-MiniLM-L6-v2 from HuggingFace is specified to generate these embeddings. This model converts text into numerical vectors that capture the semantic meaning of the text.\n",
    "\n",
    "- 使用 HuggingFaceEmbeddings 創建文本數據的嵌入（向量表示）。\n",
    "- 指定 HuggingFace 的模型 all-MiniLM-L6-v2 來生成這些嵌入。此模型將文本轉換為數字向量，這些向量捕捉文本的語義。"
   ]
  },
  {
   "cell_type": "code",
   "execution_count": null,
   "id": "0c35cc90-cae0-489d-89f2-3086791607ff",
   "metadata": {},
   "outputs": [],
   "source": [
    "HuggingFaceEmbeddings?"
   ]
  },
  {
   "cell_type": "code",
   "execution_count": 28,
   "id": "47235efc-d786-4a04-9ec1-89c3a4203e89",
   "metadata": {},
   "outputs": [
    {
     "name": "stderr",
     "output_type": "stream",
     "text": [
      "C:\\Users\\MengChieh\\AppData\\Local\\Temp\\ipykernel_12148\\1019514392.py:1: LangChainDeprecationWarning: The class `HuggingFaceEmbeddings` was deprecated in LangChain 0.2.2 and will be removed in 1.0. An updated version of the class exists in the :class:`~langchain-huggingface package and should be used instead. To use it run `pip install -U :class:`~langchain-huggingface` and import as `from :class:`~langchain_huggingface import HuggingFaceEmbeddings``.\n",
      "  embedding = HuggingFaceEmbeddings(model_name=\"all-MiniLM-L6-v2\")\n",
      "C:\\Users\\MengChieh\\miniconda3\\envs\\aicg\\lib\\site-packages\\tqdm\\auto.py:21: TqdmWarning: IProgress not found. Please update jupyter and ipywidgets. See https://ipywidgets.readthedocs.io/en/stable/user_install.html\n",
      "  from .autonotebook import tqdm as notebook_tqdm\n"
     ]
    }
   ],
   "source": [
    "embedding = HuggingFaceEmbeddings(model_name=\"all-MiniLM-L6-v2\")"
   ]
  },
  {
   "cell_type": "markdown",
   "id": "aece8f30-980a-4f5c-8fe2-d574eb14a301",
   "metadata": {},
   "source": [
    "### 2. Loading a vectorstore:\n",
    "\n",
    "A PDF file is processed and the content is saved as vectorstore. I will show you how in Week-5."
   ]
  },
  {
   "cell_type": "code",
   "execution_count": null,
   "id": "16d74fce-c711-4dbb-8b81-0f6cae45ccdd",
   "metadata": {},
   "outputs": [],
   "source": [
    "for recipe in recipe_train:\n",
    "    document = Document(page_content=\", \".join(recipe['ingredients']),\n",
    "                        metadata={\"cuisine\": recipe['cuisine'],\n",
    "                                  \"id\": recipe['id']})\n",
    "    documents.append(document)\n",
    "\n",
    "bm25_retriever = BM25Retriever.from_documents(documents, k=10, bm25_params={\"k1\":2.5})\n",
    "\n",
    "[\"text1\", \"text2\", \"text3\", '']\n",
    "\n",
    "documents = []\n",
    "\n",
    "for a in data:\n",
    "    documents.append(Document(page_content=a,\n",
    "                             metadata={'category': } ))\n",
    "\n",
    "embeddings = HuggingFaceEmbeddings(model_name=\"all-MiniLM-L6-v2\")\n",
    "\n",
    "vectorstore = FAISS.from_documents(documents, embedding=embeddings)\n",
    "\n",
    "vectorstore.save_local(\"faiss_index\")\n",
    "\n",
    "vectorstore_1 = FAISS.load_local(\n",
    "    \"faiss_index\", embeddings, allow_dangerous_deserialization=True\n",
    ")\n",
    "\n",
    "vectorstore_1.merge_from(vectorstore_2)\n",
    "\n",
    "retriever = vectorstore.as_retriever(search_kwargs={'k': 5})\n",
    "\n",
    "retriever.invoke(\"\")"
   ]
  },
  {
   "cell_type": "code",
   "execution_count": 29,
   "id": "5abc3ac4-4239-4453-a9ab-4ddfee7d5e9c",
   "metadata": {},
   "outputs": [],
   "source": [
    "# embeddings = HuggingFaceEmbeddings(model_name=\"all-MiniLM-L6-v2\")\n",
    "\n",
    "path = os.path.join(get_project_dir(), 'tutorial', 'LLM+Langchain', 'Week-2', 'BertV2 Index')\n",
    "\n",
    "vectorstore = FAISS.load_local(path, embedding, allow_dangerous_deserialization=True)"
   ]
  },
  {
   "cell_type": "markdown",
   "id": "81113c6d-cd73-4d48-b7a9-e455f38c9000",
   "metadata": {
    "tags": []
   },
   "source": [
    "### 3. Creating a Retriever (創建檢索器):\n",
    "\n",
    "- The as_retriever method is called on the vectorstore object to create a retriever.\n",
    "- This retriever is configured to use \"similarity\" as the search type, meaning it will find documents that are similar to a given query based on their vector embeddings.\n",
    "\n",
    "- 在 vectorstore 對象上調用 as_retriever 方法來創建一個檢索器。\n",
    "- 這個檢索器配置為使用“相似性”作為搜索類型，這意味著它將根據文檔的向量嵌入找到與給定查詢相似的文檔。\n",
    "\n",
    "### 4. Setting Search Parameters (設置搜索參數):\n",
    "\n",
    "- The search_kwargs argument is used to pass additional parameters to the search function.\n",
    "- In this case, {'k': 5} is specified, which means the retriever will return the top 5 most similar documents for each query.\n",
    "\n",
    "- 使用 search_kwargs 參數來傳遞額外的搜索功能參數。\n",
    "- 在這裡，指定了 {'k': 5}，這意味著檢索器將返回每個查詢最相似的前 5 個文檔。"
   ]
  },
  {
   "cell_type": "code",
   "execution_count": 30,
   "id": "46fa38ca-7129-4fba-bc61-a789c77c52b6",
   "metadata": {},
   "outputs": [],
   "source": [
    "retriever = vectorstore.as_retriever(search_type=\"similarity\", \n",
    "                                     search_kwargs={\"k\": 5})"
   ]
  },
  {
   "cell_type": "code",
   "execution_count": 31,
   "id": "a8bdb7f4-35fd-4ae9-a5f4-d33e23c71e3b",
   "metadata": {},
   "outputs": [
    {
     "data": {
      "text/plain": [
       "[Document(page_content='Yukun Zhu, Ryan Kiros, Rich Zemel, Ruslan Salakhut- dinov, Raquel Urtasun, Antonio Torralba, and Sanja Fidler. 2015. Aligning books and movies: Towards story-like visual explanations by watching movies and reading books. In Proceedings of the IEEE international conference on computer vision, pages 19-27.\\n\\nAppendix for “BERT: Pre-training of Deep Bidirectional Transformers for Language Understanding”\\n\\nWe organize the appendix into three sections:\\n\\n¢ Additional implementation details for BERT are presented in Appendix A;\\n\\n¢ Additional details for our experiments are presented in Appendix B; and\\n\\n¢ Additional ablation studies are presented in Appendix C.\\n\\nWe present additional ablation studies for BERT including:', metadata={'type': 'text', 'filename': 'bertv2.pdf'}),\n",
       " Document(page_content='BERT is conceptually simple and empirically powerful. It obtains new state-of-the-art re- sults on eleven natural language processing tasks, including pushing the GLUE score to 80.5% (7.7% point absolute improvement), MultiNLI accuracy to 86.7% (4.6% absolute improvement), SQUAD v1.1 question answer- ing Test Fl to 93.2 (1.5 point absolute im- provement) and SQuAD v2.0 Test F1 to 83.1 (5.1 point absolute improvement).', metadata={'type': 'text', 'filename': 'bertv2.pdf'}),\n",
       " Document(page_content='3.2. Fine-tuning BERT\\n\\nFine-tuning is straightforward since the self- attention mechanism in the Transformer al- lows BERT to model many downstream tasks— whether they involve single text or text pairs—by swapping out the appropriate inputs and outputs. For applications involving text pairs, a common pattern is to independently encode text pairs be- fore applying bidirectional cross attention, such as Parikh et al. (2016); Seo et al. (2017). BERT instead uses the self-attention mechanism to unify these two stages, as encoding a concatenated text pair with self-attention effectively includes bidi- rectional cross attention between two sentences. For each task, we simply plug in the task- specific inputs and outputs into BERT and fine- tune all the parameters end-to-end. At the in- put, sentence A and sentence B from pre-training are analogous to (1) sentence pairs in paraphras- ing, (2) hypothesis-premise pairs in entailment, (3) question-passage pairs in question answering, and', metadata={'type': 'text', 'filename': 'bertv2.pdf'}),\n",
       " Document(page_content='A.5__ Illustrations of Fine-tuning on Different Tasks\\n\\nThe illustration of fine-tuning BERT on different tasks can be seen in Figure 4. Our task-specific models are formed by incorporating BERT with one additional output layer, so a minimal num- ber of parameters need to be learned from scratch. Among the tasks, (a) and (b) are sequence-level tasks while (c) and (d) are token-level tasks. In the figure, E represents the input embedding, T; represents the contextual representation of token 7, [CLS] is the special symbol for classification out- put, and [SEP] is the special symbol to separate non-consecutive token sequences.', metadata={'type': 'text', 'filename': 'bertv2.pdf'}),\n",
       " Document(page_content='3 BERT\\n\\nWe introduce BERT and its detailed implementa- tion in this section. There are two steps in our framework: pre-training and fine-tuning. Dur- ing pre-training, the model is trained on unlabeled data over different pre-training tasks. For fine- tuning, the BERT model is first initialized with the pre-trained parameters, and all of the param- eters are fine-tuned using labeled data from the downstream tasks. Each downstream task has sep- arate fine-tuned models, even though they are ini- tialized with the same pre-trained parameters. The question-answering example in Figure | will serve as a running example for this section.\\n\\nA distinctive feature of BERT is its unified ar- chitecture across different tasks. There is mini-', metadata={'type': 'text', 'filename': 'bertv2.pdf'})]"
      ]
     },
     "execution_count": 31,
     "metadata": {},
     "output_type": "execute_result"
    }
   ],
   "source": [
    "retriever.invoke(\"What kind of attention does BERT use?\")"
   ]
  },
  {
   "cell_type": "code",
   "execution_count": 32,
   "id": "0e42d24f-4b57-4835-9dd2-027f61b49213",
   "metadata": {},
   "outputs": [
    {
     "data": {
      "text/plain": [
       "[Document(page_content='BERT is conceptually simple and empirically powerful. It obtains new state-of-the-art re- sults on eleven natural language processing tasks, including pushing the GLUE score to 80.5% (7.7% point absolute improvement), MultiNLI accuracy to 86.7% (4.6% absolute improvement), SQUAD v1.1 question answer- ing Test Fl to 93.2 (1.5 point absolute im- provement) and SQuAD v2.0 Test F1 to 83.1 (5.1 point absolute improvement).', metadata={'type': 'text', 'filename': 'bertv2.pdf'}),\n",
       " Document(page_content='3.2. Fine-tuning BERT\\n\\nFine-tuning is straightforward since the self- attention mechanism in the Transformer al- lows BERT to model many downstream tasks— whether they involve single text or text pairs—by swapping out the appropriate inputs and outputs. For applications involving text pairs, a common pattern is to independently encode text pairs be- fore applying bidirectional cross attention, such as Parikh et al. (2016); Seo et al. (2017). BERT instead uses the self-attention mechanism to unify these two stages, as encoding a concatenated text pair with self-attention effectively includes bidi- rectional cross attention between two sentences. For each task, we simply plug in the task- specific inputs and outputs into BERT and fine- tune all the parameters end-to-end. At the in- put, sentence A and sentence B from pre-training are analogous to (1) sentence pairs in paraphras- ing, (2) hypothesis-premise pairs in entailment, (3) question-passage pairs in question answering, and', metadata={'type': 'text', 'filename': 'bertv2.pdf'}),\n",
       " Document(page_content='¢ GPT is trained on the BooksCorpus (800M words); BERT is trained on the BooksCor- pus (800M words) and Wikipedia (2,500M words).\\n\\nGPT uses a sentence separator ([SEP]) and classifier token ([CLS]) which are only in- troduced at fine-tuning time; BERT learns [SEP], [CLS] and sentence A/B embed- dings during pre-training.\\n\\nGPT was trained for 1M steps with a batch size of 32,000 words; BERT was trained for 1M steps with a batch size of 128,000 words.\\n\\nGPT used the same learning rate of Se-5 for all fine-tuning experiments; BERT chooses a task-specific fine-tuning learning rate which performs the best on the development set.\\n\\nTo isolate the effect of these differences, we per- form ablation experiments in Section 5.1 which demonstrate that the majority of the improvements are in fact coming from the two pre-training tasks and the bidirectionality they enable.', metadata={'type': 'text', 'filename': 'bertv2.pdf'}),\n",
       " Document(page_content='5.3. Feature-based Approach with BERT\\n\\nAll of the BERT results presented so far have used the fine-tuning approach, where a simple classifi- cation layer is added to the pre-trained model, and all parameters are jointly fine-tuned on a down- stream task. However, the feature-based approach, where fixed features are extracted from the pre- trained model, has certain advantages. First, not all tasks can be easily represented by a Trans- former encoder architecture, and therefore require a task-specific model architecture to be added. Second, there are major computational benefits to pre-compute an expensive representation of the training data once and then run many experiments with cheaper models on top of this representation.', metadata={'type': 'text', 'filename': 'bertv2.pdf'}),\n",
       " Document(page_content='Table 8: Ablation over different masking strategies.\\n\\nThe results are presented in Table 8. In the table, MASK means that we replace the target token with the [MASK] symbol for MLM; SAME means that we keep the target token as is; RND means that we replace the target token with another random token.\\n\\nThe numbers in the left part of the table repre- sent the probabilities of the specific strategies used during MLM pre-training (BERT uses 80%, 10%, 10%). The right part of the paper represents the Dev set results. For the feature-based approach, we concatenate the last 4 layers of BERT as the features, which was shown to be the best approach in Section 5.3.\\n\\nFrom the table it can be seen that fine-tuning is surprisingly robust to different masking strategies. However, as expected, using only the MASK strat- egy was problematic when applying the feature- based approach to NER. Interestingly, using only the RND strategy performs much worse than our strategy as well.', metadata={'type': 'text', 'filename': 'bertv2.pdf'})]"
      ]
     },
     "execution_count": 32,
     "metadata": {},
     "output_type": "execute_result"
    }
   ],
   "source": [
    "retriever.invoke(\"Is it difficult to fine-tune BERT?\")"
   ]
  },
  {
   "cell_type": "markdown",
   "id": "821359f8-fde9-44dc-8cfb-bb5acbe3a47f",
   "metadata": {},
   "source": [
    "## Runtime Configuration\n",
    "\n",
    "What we learned last week: Runtime Configuration."
   ]
  },
  {
   "cell_type": "code",
   "execution_count": 33,
   "id": "ea58945a-674e-4501-be3b-22ac739cb9f0",
   "metadata": {},
   "outputs": [],
   "source": [
    "from langchain_core.runnables import ConfigurableField\n",
    "\n",
    "query = \"Is it difficult to fine-tune BERT?\"\n",
    "\n",
    "retriever = vectorstore.as_retriever(search_type=\"similarity\").configurable_fields( \\\n",
    "                                        search_kwargs=ConfigurableField(\n",
    "                                                id=\"hello_search\",\n",
    "                                            )\n",
    "                                        )"
   ]
  },
  {
   "cell_type": "code",
   "execution_count": 34,
   "id": "38e72f2c-dfd1-4de9-b065-ec77f2a0c75c",
   "metadata": {},
   "outputs": [
    {
     "data": {
      "text/plain": [
       "[Document(page_content='BERT is conceptually simple and empirically powerful. It obtains new state-of-the-art re- sults on eleven natural language processing tasks, including pushing the GLUE score to 80.5% (7.7% point absolute improvement), MultiNLI accuracy to 86.7% (4.6% absolute improvement), SQUAD v1.1 question answer- ing Test Fl to 93.2 (1.5 point absolute im- provement) and SQuAD v2.0 Test F1 to 83.1 (5.1 point absolute improvement).', metadata={'type': 'text', 'filename': 'bertv2.pdf'}),\n",
       " Document(page_content='3.2. Fine-tuning BERT\\n\\nFine-tuning is straightforward since the self- attention mechanism in the Transformer al- lows BERT to model many downstream tasks— whether they involve single text or text pairs—by swapping out the appropriate inputs and outputs. For applications involving text pairs, a common pattern is to independently encode text pairs be- fore applying bidirectional cross attention, such as Parikh et al. (2016); Seo et al. (2017). BERT instead uses the self-attention mechanism to unify these two stages, as encoding a concatenated text pair with self-attention effectively includes bidi- rectional cross attention between two sentences. For each task, we simply plug in the task- specific inputs and outputs into BERT and fine- tune all the parameters end-to-end. At the in- put, sentence A and sentence B from pre-training are analogous to (1) sentence pairs in paraphras- ing, (2) hypothesis-premise pairs in entailment, (3) question-passage pairs in question answering, and', metadata={'type': 'text', 'filename': 'bertv2.pdf'}),\n",
       " Document(page_content='¢ GPT is trained on the BooksCorpus (800M words); BERT is trained on the BooksCor- pus (800M words) and Wikipedia (2,500M words).\\n\\nGPT uses a sentence separator ([SEP]) and classifier token ([CLS]) which are only in- troduced at fine-tuning time; BERT learns [SEP], [CLS] and sentence A/B embed- dings during pre-training.\\n\\nGPT was trained for 1M steps with a batch size of 32,000 words; BERT was trained for 1M steps with a batch size of 128,000 words.\\n\\nGPT used the same learning rate of Se-5 for all fine-tuning experiments; BERT chooses a task-specific fine-tuning learning rate which performs the best on the development set.\\n\\nTo isolate the effect of these differences, we per- form ablation experiments in Section 5.1 which demonstrate that the majority of the improvements are in fact coming from the two pre-training tasks and the bidirectionality they enable.', metadata={'type': 'text', 'filename': 'bertv2.pdf'}),\n",
       " Document(page_content='5.3. Feature-based Approach with BERT\\n\\nAll of the BERT results presented so far have used the fine-tuning approach, where a simple classifi- cation layer is added to the pre-trained model, and all parameters are jointly fine-tuned on a down- stream task. However, the feature-based approach, where fixed features are extracted from the pre- trained model, has certain advantages. First, not all tasks can be easily represented by a Trans- former encoder architecture, and therefore require a task-specific model architecture to be added. Second, there are major computational benefits to pre-compute an expensive representation of the training data once and then run many experiments with cheaper models on top of this representation.', metadata={'type': 'text', 'filename': 'bertv2.pdf'}),\n",
       " Document(page_content='Table 8: Ablation over different masking strategies.\\n\\nThe results are presented in Table 8. In the table, MASK means that we replace the target token with the [MASK] symbol for MLM; SAME means that we keep the target token as is; RND means that we replace the target token with another random token.\\n\\nThe numbers in the left part of the table repre- sent the probabilities of the specific strategies used during MLM pre-training (BERT uses 80%, 10%, 10%). The right part of the paper represents the Dev set results. For the feature-based approach, we concatenate the last 4 layers of BERT as the features, which was shown to be the best approach in Section 5.3.\\n\\nFrom the table it can be seen that fine-tuning is surprisingly robust to different masking strategies. However, as expected, using only the MASK strat- egy was problematic when applying the feature- based approach to NER. Interestingly, using only the RND strategy performs much worse than our strategy as well.', metadata={'type': 'text', 'filename': 'bertv2.pdf'}),\n",
       " Document(page_content='A.5__ Illustrations of Fine-tuning on Different Tasks\\n\\nThe illustration of fine-tuning BERT on different tasks can be seen in Figure 4. Our task-specific models are formed by incorporating BERT with one additional output layer, so a minimal num- ber of parameters need to be learned from scratch. Among the tasks, (a) and (b) are sequence-level tasks while (c) and (d) are token-level tasks. In the figure, E represents the input embedding, T; represents the contextual representation of token 7, [CLS] is the special symbol for classification out- put, and [SEP] is the special symbol to separate non-consecutive token sequences.', metadata={'type': 'text', 'filename': 'bertv2.pdf'}),\n",
       " Document(page_content=\"4 Experiments\\n\\nIn this section, we present BERT fine-tuning re- sults on 11 NLP tasks.\\n\\n4.1 GLUE\\n\\nThe General Language Understanding Evaluation (GLUE) benchmark (Wang et al., 2018a) is a col- lection of diverse natural language understanding tasks. Detailed descriptions of GLUE datasets are included in Appendix B.1.\\n\\nTo fine-tune on GLUE, we represent the input sequence (for single sentence or sentence pairs) as described in Section 3, and use the final hid- den vector C € R” corresponding to the first input token ([CLS]) as the aggregate representa- tion. The only new parameters introduced during fine-tuning are classification layer weights W € Rx where K is the number of labels. We com- pute a standard classification loss with C' and W, i.e., log(softmax(CW7)).\\n\\n7For example, the BERT SQuAD model can be trained in around 30 minutes on a single Cloud TPU to achieve a Dev\\n\\nFI score of 91.0%. SSee (10) in https: //gluebenchmark.com/faq.\", metadata={'type': 'text', 'filename': 'bertv2.pdf'})]"
      ]
     },
     "execution_count": 34,
     "metadata": {},
     "output_type": "execute_result"
    }
   ],
   "source": [
    "retriever.invoke(query, config={\"configurable\": {\"hello_search\": {\"k\": 7}}})"
   ]
  },
  {
   "cell_type": "code",
   "execution_count": 35,
   "id": "198a2242-afae-4197-a671-36ed1819f007",
   "metadata": {},
   "outputs": [
    {
     "data": {
      "text/plain": [
       "[Document(page_content='BERT is conceptually simple and empirically powerful. It obtains new state-of-the-art re- sults on eleven natural language processing tasks, including pushing the GLUE score to 80.5% (7.7% point absolute improvement), MultiNLI accuracy to 86.7% (4.6% absolute improvement), SQUAD v1.1 question answer- ing Test Fl to 93.2 (1.5 point absolute im- provement) and SQuAD v2.0 Test F1 to 83.1 (5.1 point absolute improvement).', metadata={'type': 'text', 'filename': 'bertv2.pdf'}),\n",
       " Document(page_content='3.2. Fine-tuning BERT\\n\\nFine-tuning is straightforward since the self- attention mechanism in the Transformer al- lows BERT to model many downstream tasks— whether they involve single text or text pairs—by swapping out the appropriate inputs and outputs. For applications involving text pairs, a common pattern is to independently encode text pairs be- fore applying bidirectional cross attention, such as Parikh et al. (2016); Seo et al. (2017). BERT instead uses the self-attention mechanism to unify these two stages, as encoding a concatenated text pair with self-attention effectively includes bidi- rectional cross attention between two sentences. For each task, we simply plug in the task- specific inputs and outputs into BERT and fine- tune all the parameters end-to-end. At the in- put, sentence A and sentence B from pre-training are analogous to (1) sentence pairs in paraphras- ing, (2) hypothesis-premise pairs in entailment, (3) question-passage pairs in question answering, and', metadata={'type': 'text', 'filename': 'bertv2.pdf'}),\n",
       " Document(page_content='¢ GPT is trained on the BooksCorpus (800M words); BERT is trained on the BooksCor- pus (800M words) and Wikipedia (2,500M words).\\n\\nGPT uses a sentence separator ([SEP]) and classifier token ([CLS]) which are only in- troduced at fine-tuning time; BERT learns [SEP], [CLS] and sentence A/B embed- dings during pre-training.\\n\\nGPT was trained for 1M steps with a batch size of 32,000 words; BERT was trained for 1M steps with a batch size of 128,000 words.\\n\\nGPT used the same learning rate of Se-5 for all fine-tuning experiments; BERT chooses a task-specific fine-tuning learning rate which performs the best on the development set.\\n\\nTo isolate the effect of these differences, we per- form ablation experiments in Section 5.1 which demonstrate that the majority of the improvements are in fact coming from the two pre-training tasks and the bidirectionality they enable.', metadata={'type': 'text', 'filename': 'bertv2.pdf'})]"
      ]
     },
     "execution_count": 35,
     "metadata": {},
     "output_type": "execute_result"
    }
   ],
   "source": [
    "retriever.invoke(query, config={\"configurable\": {\"hello_search\": {\"k\": 3}}})"
   ]
  },
  {
   "cell_type": "markdown",
   "id": "f81ce668-c24a-44c8-adfb-209b1118faa5",
   "metadata": {},
   "source": [
    "## Three search types:\n",
    "\n",
    "### 1. similarity (default)\n",
    "\n",
    "- This search type finds documents that are most similar to your query. It looks at the meaning of the words you used and matches documents that have similar meanings. Think of it like finding articles or documents that closely relate to the topic you're interested in.\n",
    "\n",
    "- 這種搜索類型找到與你的查詢最相似的文檔。它會看你使用詞語的意思，並匹配具有相似意思的文檔。可以把它想像成找到與你感興趣的主題密切相關的文章或文檔。\n",
    "\n",
    "### 2. MMR, Maximum Marginal Relevance (MMR, 最大邊際相關性):\n",
    "\n",
    "- This method balances finding documents that are similar to your query while also ensuring that the results are diverse. It's like asking for a variety of opinions on a topic so you don't get too much of the same thing. It helps avoid redundancy in the search results.\n",
    "\n",
    "- 這種方法在找到與你的查詢相似的文檔的同時，也確保結果是多樣的。這就像是在一個主題上尋求多種意見，避免得到過多相同的東西。它有助於避免搜索結果的冗餘。\n",
    "\n",
    "### 3. similarity_score_threshold (相似性分數閾值):\n",
    "\n",
    "- This search type sets a minimum similarity score that documents must meet to be considered relevant. Only documents that are very close to your query in terms of meaning will be included. It ensures that the results are highly relevant and filters out less related information.\n",
    "\n",
    "- 這種搜索類型設置一個最小相似性分數，只有達到這個分數的文檔才會被認為是相關的。只有那些在意思上與你的查詢非常接近的文檔才會被包含進來。它確保結果高度相關，並過濾掉不太相關的信息。"
   ]
  },
  {
   "cell_type": "code",
   "execution_count": 36,
   "id": "dfdc6a5d-02c3-4e63-a3d8-f483b370896f",
   "metadata": {
    "tags": []
   },
   "outputs": [
    {
     "data": {
      "text/html": [
       "<img src=\"https://miro.medium.com/v2/resize:fit:720/format:webp/1*c0c19i2tPSWZaHwQ7cVMrg.png\"/>"
      ],
      "text/plain": [
       "<IPython.core.display.Image object>"
      ]
     },
     "execution_count": 36,
     "metadata": {},
     "output_type": "execute_result"
    }
   ],
   "source": [
    "from IPython.display import Image\n",
    "from IPython.core.display import HTML \n",
    "Image(url= \"https://miro.medium.com/v2/resize:fit:720/format:webp/1*c0c19i2tPSWZaHwQ7cVMrg.png\")"
   ]
  },
  {
   "cell_type": "code",
   "execution_count": 37,
   "id": "6f0e436f-96ab-4977-8300-78100b9a90a1",
   "metadata": {},
   "outputs": [],
   "source": [
    "\"\"\"\n",
    "cosine similarity\n",
    "\n",
    "https://api.python.langchain.com/en/latest/_modules/langchain_core/vectorstores.html\n",
    "\n",
    "elif search_type == \"similarity_score_threshold\":\n",
    "    docs_and_similarities = self.similarity_search_with_relevance_scores(\n",
    "        query, **kwargs\n",
    "    )\n",
    "    return [doc for doc, _ in docs_and_similarities]\n",
    "\n",
    "in subclass.\n",
    "Return docs and relevance scores in the range [0, 1].\n",
    "\n",
    "0 is dissimilar, 1 is most similar.\n",
    "\"\"\"\n",
    "\n",
    "retriever = vectorstore.as_retriever(\n",
    "    search_type=\"similarity_score_threshold\", search_kwargs={\"score_threshold\": 0.5, \"k\": 5}\n",
    ")"
   ]
  },
  {
   "cell_type": "code",
   "execution_count": 38,
   "id": "cfdace7a-2f59-448d-90ef-ed61518ba4ea",
   "metadata": {},
   "outputs": [
    {
     "data": {
      "text/plain": [
       "'Is it difficult to fine-tune BERT?'"
      ]
     },
     "execution_count": 38,
     "metadata": {},
     "output_type": "execute_result"
    }
   ],
   "source": [
    "query"
   ]
  },
  {
   "cell_type": "code",
   "execution_count": 39,
   "id": "1ce400da-f757-4691-a656-2aad09a7a1d7",
   "metadata": {},
   "outputs": [
    {
     "data": {
      "text/plain": [
       "[Document(page_content='BERT is conceptually simple and empirically powerful. It obtains new state-of-the-art re- sults on eleven natural language processing tasks, including pushing the GLUE score to 80.5% (7.7% point absolute improvement), MultiNLI accuracy to 86.7% (4.6% absolute improvement), SQUAD v1.1 question answer- ing Test Fl to 93.2 (1.5 point absolute im- provement) and SQuAD v2.0 Test F1 to 83.1 (5.1 point absolute improvement).', metadata={'type': 'text', 'filename': 'bertv2.pdf'})]"
      ]
     },
     "execution_count": 39,
     "metadata": {},
     "output_type": "execute_result"
    }
   ],
   "source": [
    "retriever.invoke(query)"
   ]
  },
  {
   "cell_type": "markdown",
   "id": "7f2855c8-f541-48b3-b0c6-0968bf79e004",
   "metadata": {},
   "source": [
    "### How to get the scores of the documents?"
   ]
  },
  {
   "cell_type": "code",
   "execution_count": 40,
   "id": "01fbffa6-450f-4994-b11a-587e35b95b86",
   "metadata": {},
   "outputs": [
    {
     "data": {
      "text/plain": [
       "[(Document(page_content='BERT is conceptually simple and empirically powerful. It obtains new state-of-the-art re- sults on eleven natural language processing tasks, including pushing the GLUE score to 80.5% (7.7% point absolute improvement), MultiNLI accuracy to 86.7% (4.6% absolute improvement), SQUAD v1.1 question answer- ing Test Fl to 93.2 (1.5 point absolute im- provement) and SQuAD v2.0 Test F1 to 83.1 (5.1 point absolute improvement).', metadata={'type': 'text', 'filename': 'bertv2.pdf'}),\n",
       "  0.6871263),\n",
       " (Document(page_content='3.2. Fine-tuning BERT\\n\\nFine-tuning is straightforward since the self- attention mechanism in the Transformer al- lows BERT to model many downstream tasks— whether they involve single text or text pairs—by swapping out the appropriate inputs and outputs. For applications involving text pairs, a common pattern is to independently encode text pairs be- fore applying bidirectional cross attention, such as Parikh et al. (2016); Seo et al. (2017). BERT instead uses the self-attention mechanism to unify these two stages, as encoding a concatenated text pair with self-attention effectively includes bidi- rectional cross attention between two sentences. For each task, we simply plug in the task- specific inputs and outputs into BERT and fine- tune all the parameters end-to-end. At the in- put, sentence A and sentence B from pre-training are analogous to (1) sentence pairs in paraphras- ing, (2) hypothesis-premise pairs in entailment, (3) question-passage pairs in question answering, and', metadata={'type': 'text', 'filename': 'bertv2.pdf'}),\n",
       "  0.85875773),\n",
       " (Document(page_content='¢ GPT is trained on the BooksCorpus (800M words); BERT is trained on the BooksCor- pus (800M words) and Wikipedia (2,500M words).\\n\\nGPT uses a sentence separator ([SEP]) and classifier token ([CLS]) which are only in- troduced at fine-tuning time; BERT learns [SEP], [CLS] and sentence A/B embed- dings during pre-training.\\n\\nGPT was trained for 1M steps with a batch size of 32,000 words; BERT was trained for 1M steps with a batch size of 128,000 words.\\n\\nGPT used the same learning rate of Se-5 for all fine-tuning experiments; BERT chooses a task-specific fine-tuning learning rate which performs the best on the development set.\\n\\nTo isolate the effect of these differences, we per- form ablation experiments in Section 5.1 which demonstrate that the majority of the improvements are in fact coming from the two pre-training tasks and the bidirectionality they enable.', metadata={'type': 'text', 'filename': 'bertv2.pdf'}),\n",
       "  0.88561463),\n",
       " (Document(page_content='5.3. Feature-based Approach with BERT\\n\\nAll of the BERT results presented so far have used the fine-tuning approach, where a simple classifi- cation layer is added to the pre-trained model, and all parameters are jointly fine-tuned on a down- stream task. However, the feature-based approach, where fixed features are extracted from the pre- trained model, has certain advantages. First, not all tasks can be easily represented by a Trans- former encoder architecture, and therefore require a task-specific model architecture to be added. Second, there are major computational benefits to pre-compute an expensive representation of the training data once and then run many experiments with cheaper models on top of this representation.', metadata={'type': 'text', 'filename': 'bertv2.pdf'}),\n",
       "  0.89833105)]"
      ]
     },
     "execution_count": 40,
     "metadata": {},
     "output_type": "execute_result"
    }
   ],
   "source": [
    "vectorstore.similarity_search_with_score(query)"
   ]
  },
  {
   "cell_type": "code",
   "execution_count": 41,
   "id": "c92be3ea-320f-4551-9b04-3e1a73b78f6a",
   "metadata": {},
   "outputs": [
    {
     "data": {
      "text/plain": [
       "[(Document(page_content='BERT is conceptually simple and empirically powerful. It obtains new state-of-the-art re- sults on eleven natural language processing tasks, including pushing the GLUE score to 80.5% (7.7% point absolute improvement), MultiNLI accuracy to 86.7% (4.6% absolute improvement), SQUAD v1.1 question answer- ing Test Fl to 93.2 (1.5 point absolute im- provement) and SQuAD v2.0 Test F1 to 83.1 (5.1 point absolute improvement).', metadata={'type': 'text', 'filename': 'bertv2.pdf'}),\n",
       "  0.5141283486744119),\n",
       " (Document(page_content='3.2. Fine-tuning BERT\\n\\nFine-tuning is straightforward since the self- attention mechanism in the Transformer al- lows BERT to model many downstream tasks— whether they involve single text or text pairs—by swapping out the appropriate inputs and outputs. For applications involving text pairs, a common pattern is to independently encode text pairs be- fore applying bidirectional cross attention, such as Parikh et al. (2016); Seo et al. (2017). BERT instead uses the self-attention mechanism to unify these two stages, as encoding a concatenated text pair with self-attention effectively includes bidi- rectional cross attention between two sentences. For each task, we simply plug in the task- specific inputs and outputs into BERT and fine- tune all the parameters end-to-end. At the in- put, sentence A and sentence B from pre-training are analogous to (1) sentence pairs in paraphras- ing, (2) hypothesis-premise pairs in entailment, (3) question-passage pairs in question answering, and', metadata={'type': 'text', 'filename': 'bertv2.pdf'}),\n",
       "  0.39276658268098963),\n",
       " (Document(page_content='¢ GPT is trained on the BooksCorpus (800M words); BERT is trained on the BooksCor- pus (800M words) and Wikipedia (2,500M words).\\n\\nGPT uses a sentence separator ([SEP]) and classifier token ([CLS]) which are only in- troduced at fine-tuning time; BERT learns [SEP], [CLS] and sentence A/B embed- dings during pre-training.\\n\\nGPT was trained for 1M steps with a batch size of 32,000 words; BERT was trained for 1M steps with a batch size of 128,000 words.\\n\\nGPT used the same learning rate of Se-5 for all fine-tuning experiments; BERT chooses a task-specific fine-tuning learning rate which performs the best on the development set.\\n\\nTo isolate the effect of these differences, we per- form ablation experiments in Section 5.1 which demonstrate that the majority of the improvements are in fact coming from the two pre-training tasks and the bidirectionality they enable.', metadata={'type': 'text', 'filename': 'bertv2.pdf'}),\n",
       "  0.37377588709155696),\n",
       " (Document(page_content='5.3. Feature-based Approach with BERT\\n\\nAll of the BERT results presented so far have used the fine-tuning approach, where a simple classifi- cation layer is added to the pre-trained model, and all parameters are jointly fine-tuned on a down- stream task. However, the feature-based approach, where fixed features are extracted from the pre- trained model, has certain advantages. First, not all tasks can be easily represented by a Trans- former encoder architecture, and therefore require a task-specific model architecture to be added. Second, there are major computational benefits to pre-compute an expensive representation of the training data once and then run many experiments with cheaper models on top of this representation.', metadata={'type': 'text', 'filename': 'bertv2.pdf'}),\n",
       "  0.3647840255491517)]"
      ]
     },
     "execution_count": 41,
     "metadata": {},
     "output_type": "execute_result"
    }
   ],
   "source": [
    "vectorstore._similarity_search_with_relevance_scores(query)"
   ]
  },
  {
   "cell_type": "code",
   "execution_count": 42,
   "id": "2d6fa28b-9b5e-4c88-88ce-e5df98033621",
   "metadata": {},
   "outputs": [],
   "source": [
    "retriever = vectorstore.as_retriever(search_type='mmr', search_kwargs={'k': 3, 'fetch_k': 50, 'lambda_mult': 0.1})"
   ]
  },
  {
   "cell_type": "code",
   "execution_count": 43,
   "id": "5a612076-ff28-4aed-bae4-0cd3aee30d71",
   "metadata": {},
   "outputs": [
    {
     "data": {
      "text/plain": [
       "[Document(page_content='BERT is conceptually simple and empirically powerful. It obtains new state-of-the-art re- sults on eleven natural language processing tasks, including pushing the GLUE score to 80.5% (7.7% point absolute improvement), MultiNLI accuracy to 86.7% (4.6% absolute improvement), SQUAD v1.1 question answer- ing Test Fl to 93.2 (1.5 point absolute im- provement) and SQuAD v2.0 Test F1 to 83.1 (5.1 point absolute improvement).', metadata={'type': 'text', 'filename': 'bertv2.pdf'}),\n",
       " Document(page_content='Longer sequences are disproportionately expen- sive because attention is quadratic to the sequence length. To speed up pretraing in our experiments, we pre-train the model with sequence length of 128 for 90% of the steps. Then, we train the rest 10% of the steps of sequence of 512 to learn the positional embeddings.\\n\\nA.3 Fine-tuning Procedure\\n\\nFor fine-tuning, most model hyperparameters are the same as in pre-training, with the exception of the batch size, learning rate, and number of train- ing epochs. The dropout probability was always kept at 0.1. The optimal hyperparameter values are task-specific, but we found the following range of possible values to work well across all tasks:', metadata={'type': 'text', 'filename': 'bertv2.pdf'}),\n",
       " Document(page_content='LS] the man went to [SEP]\\n\\nhe bought a gallon [MASK] milk [SEP]\\n\\nLabel = tsnext\\n\\nInput = [cus] the man [MASK] to the store [SEP]\\n\\npenguin [MASK] are flight ##less birds [SEP]\\n\\nLabel = notnext', metadata={'type': 'text', 'filename': 'bertv2.pdf'})]"
      ]
     },
     "execution_count": 43,
     "metadata": {},
     "output_type": "execute_result"
    }
   ],
   "source": [
    "retriever.invoke(query)"
   ]
  },
  {
   "cell_type": "markdown",
   "id": "a5160437-1d37-4e08-ac25-7a6f28ed40c8",
   "metadata": {},
   "source": [
    "### How to leverage the metadata?"
   ]
  },
  {
   "cell_type": "code",
   "execution_count": null,
   "id": "76537b1f-c3b3-44e0-a1d5-7a0e2fcf3b80",
   "metadata": {},
   "outputs": [],
   "source": [
    "# retriever = vectorstore.as_retriever(search_type='mmr', search_kwargs={'k': 8, 'fetch_k': 50, 'lambda_mult': 0.1,\n",
    "#                                                                        \"filter\": {\"cuisine\": \"korean\"}})"
   ]
  },
  {
   "cell_type": "markdown",
   "id": "27b97f58-2e9a-452c-b6d2-31c3182524ef",
   "metadata": {},
   "source": [
    "## Multiple Condition Filtering"
   ]
  },
  {
   "cell_type": "markdown",
   "id": "8ad44dcb-cc1b-4859-b8c1-658c05668c99",
   "metadata": {},
   "source": [
    "### CNN dataset"
   ]
  },
  {
   "cell_type": "code",
   "execution_count": 44,
   "id": "ca0183cc-1400-4d44-8c3a-2d612ed214ce",
   "metadata": {},
   "outputs": [],
   "source": [
    "import pandas as pd\n",
    "\n",
    "filename = os.path.join(get_project_dir(), 'tutorial', 'LLM+Langchain', 'Week-2', 'CNN_Articels_clean.csv')\n",
    "\n",
    "df_cnn = pd.read_csv(filename, index_col=0)"
   ]
  },
  {
   "cell_type": "code",
   "execution_count": 45,
   "id": "ce5a7b56-6776-4ead-ad61-77b453b0ab88",
   "metadata": {},
   "outputs": [
    {
     "data": {
      "text/html": [
       "<div>\n",
       "<style scoped>\n",
       "    .dataframe tbody tr th:only-of-type {\n",
       "        vertical-align: middle;\n",
       "    }\n",
       "\n",
       "    .dataframe tbody tr th {\n",
       "        vertical-align: top;\n",
       "    }\n",
       "\n",
       "    .dataframe thead th {\n",
       "        text-align: right;\n",
       "    }\n",
       "</style>\n",
       "<table border=\"1\" class=\"dataframe\">\n",
       "  <thead>\n",
       "    <tr style=\"text-align: right;\">\n",
       "      <th></th>\n",
       "      <th>Author</th>\n",
       "      <th>Date published</th>\n",
       "      <th>Category</th>\n",
       "      <th>Section</th>\n",
       "      <th>Url</th>\n",
       "      <th>Headline</th>\n",
       "      <th>Description</th>\n",
       "      <th>Keywords</th>\n",
       "      <th>Second headline</th>\n",
       "      <th>Article text</th>\n",
       "    </tr>\n",
       "    <tr>\n",
       "      <th>Index</th>\n",
       "      <th></th>\n",
       "      <th></th>\n",
       "      <th></th>\n",
       "      <th></th>\n",
       "      <th></th>\n",
       "      <th></th>\n",
       "      <th></th>\n",
       "      <th></th>\n",
       "      <th></th>\n",
       "      <th></th>\n",
       "    </tr>\n",
       "  </thead>\n",
       "  <tbody>\n",
       "    <tr>\n",
       "      <th>0</th>\n",
       "      <td>Jacopo Prisco, CNN</td>\n",
       "      <td>2021-07-15 02:46:59</td>\n",
       "      <td>news</td>\n",
       "      <td>world</td>\n",
       "      <td>https://www.cnn.com/2021/07/14/world/tusimple-...</td>\n",
       "      <td>There's a shortage of truckers, but TuSimple t...</td>\n",
       "      <td>The e-commerce boom has exacerbated a global t...</td>\n",
       "      <td>world, There's a shortage of truckers, but TuS...</td>\n",
       "      <td>There's a shortage of truckers, but TuSimple t...</td>\n",
       "      <td>(CNN)Right now, there's a shortage of truck d...</td>\n",
       "    </tr>\n",
       "    <tr>\n",
       "      <th>2</th>\n",
       "      <td>Stephanie Bailey, CNN</td>\n",
       "      <td>2021-05-12 07:52:09</td>\n",
       "      <td>news</td>\n",
       "      <td>world</td>\n",
       "      <td>https://www.cnn.com/2021/05/12/world/ironhand-...</td>\n",
       "      <td>Bioservo's robotic 'Ironhand' could protect fa...</td>\n",
       "      <td>Working in a factory can mean doing the same t...</td>\n",
       "      <td>world, Bioservo's robotic 'Ironhand' could pro...</td>\n",
       "      <td>A robotic 'Ironhand' could protect factory wor...</td>\n",
       "      <td>(CNN)Working in a factory or warehouse can me...</td>\n",
       "    </tr>\n",
       "    <tr>\n",
       "      <th>3</th>\n",
       "      <td>Words by Stephanie Bailey, video by Zahra Jamshed</td>\n",
       "      <td>2021-06-16 02:51:30</td>\n",
       "      <td>news</td>\n",
       "      <td>asia</td>\n",
       "      <td>https://www.cnn.com/2021/06/15/asia/swarm-robo...</td>\n",
       "      <td>This swarm of robots gets smarter the more it ...</td>\n",
       "      <td>In a Hong Kong warehouse, a swarm of autonomou...</td>\n",
       "      <td>asia, This swarm of robots gets smarter the mo...</td>\n",
       "      <td>This swarm of robots gets smarter the more it ...</td>\n",
       "      <td>(CNN)In a Hong Kong warehouse, a swarm of aut...</td>\n",
       "    </tr>\n",
       "    <tr>\n",
       "      <th>4</th>\n",
       "      <td>Paul R. La Monica, CNN Business</td>\n",
       "      <td>2022-03-15 09:57:36</td>\n",
       "      <td>business</td>\n",
       "      <td>investing</td>\n",
       "      <td>https://www.cnn.com/2022/03/15/investing/brics...</td>\n",
       "      <td>Russia is no longer an option for investors. T...</td>\n",
       "      <td>For many years, the world's most popular emerg...</td>\n",
       "      <td>investing, Russia is no longer an option for i...</td>\n",
       "      <td>Russia is no longer an option for investors. T...</td>\n",
       "      <td>New York (CNN Business)For many years, the wor...</td>\n",
       "    </tr>\n",
       "    <tr>\n",
       "      <th>7</th>\n",
       "      <td>Reuters</td>\n",
       "      <td>2022-03-15 11:27:02</td>\n",
       "      <td>business</td>\n",
       "      <td>business</td>\n",
       "      <td>https://www.cnn.com/2022/03/15/business/russia...</td>\n",
       "      <td>Russian energy investment ban part of new EU s...</td>\n",
       "      <td>The European Union formally approved on Tuesda...</td>\n",
       "      <td>business, Russian energy investment ban part o...</td>\n",
       "      <td>EU bans investment in Russian energy in new sa...</td>\n",
       "      <td>The European Union formally approved on Tuesda...</td>\n",
       "    </tr>\n",
       "  </tbody>\n",
       "</table>\n",
       "</div>"
      ],
      "text/plain": [
       "                                                  Author       Date published  \\\n",
       "Index                                                                           \n",
       "0                                     Jacopo Prisco, CNN  2021-07-15 02:46:59   \n",
       "2                                  Stephanie Bailey, CNN  2021-05-12 07:52:09   \n",
       "3      Words by Stephanie Bailey, video by Zahra Jamshed  2021-06-16 02:51:30   \n",
       "4                        Paul R. La Monica, CNN Business  2022-03-15 09:57:36   \n",
       "7                                                Reuters  2022-03-15 11:27:02   \n",
       "\n",
       "       Category    Section                                                Url  \\\n",
       "Index                                                                           \n",
       "0          news      world  https://www.cnn.com/2021/07/14/world/tusimple-...   \n",
       "2          news      world  https://www.cnn.com/2021/05/12/world/ironhand-...   \n",
       "3          news       asia  https://www.cnn.com/2021/06/15/asia/swarm-robo...   \n",
       "4      business  investing  https://www.cnn.com/2022/03/15/investing/brics...   \n",
       "7      business   business  https://www.cnn.com/2022/03/15/business/russia...   \n",
       "\n",
       "                                                Headline  \\\n",
       "Index                                                      \n",
       "0      There's a shortage of truckers, but TuSimple t...   \n",
       "2      Bioservo's robotic 'Ironhand' could protect fa...   \n",
       "3      This swarm of robots gets smarter the more it ...   \n",
       "4      Russia is no longer an option for investors. T...   \n",
       "7      Russian energy investment ban part of new EU s...   \n",
       "\n",
       "                                             Description  \\\n",
       "Index                                                      \n",
       "0      The e-commerce boom has exacerbated a global t...   \n",
       "2      Working in a factory can mean doing the same t...   \n",
       "3      In a Hong Kong warehouse, a swarm of autonomou...   \n",
       "4      For many years, the world's most popular emerg...   \n",
       "7      The European Union formally approved on Tuesda...   \n",
       "\n",
       "                                                Keywords  \\\n",
       "Index                                                      \n",
       "0      world, There's a shortage of truckers, but TuS...   \n",
       "2      world, Bioservo's robotic 'Ironhand' could pro...   \n",
       "3      asia, This swarm of robots gets smarter the mo...   \n",
       "4      investing, Russia is no longer an option for i...   \n",
       "7      business, Russian energy investment ban part o...   \n",
       "\n",
       "                                         Second headline  \\\n",
       "Index                                                      \n",
       "0      There's a shortage of truckers, but TuSimple t...   \n",
       "2      A robotic 'Ironhand' could protect factory wor...   \n",
       "3      This swarm of robots gets smarter the more it ...   \n",
       "4      Russia is no longer an option for investors. T...   \n",
       "7      EU bans investment in Russian energy in new sa...   \n",
       "\n",
       "                                            Article text  \n",
       "Index                                                     \n",
       "0       (CNN)Right now, there's a shortage of truck d...  \n",
       "2       (CNN)Working in a factory or warehouse can me...  \n",
       "3       (CNN)In a Hong Kong warehouse, a swarm of aut...  \n",
       "4      New York (CNN Business)For many years, the wor...  \n",
       "7      The European Union formally approved on Tuesda...  "
      ]
     },
     "execution_count": 45,
     "metadata": {},
     "output_type": "execute_result"
    }
   ],
   "source": [
    "df_cnn.head(5)"
   ]
  },
  {
   "cell_type": "code",
   "execution_count": 46,
   "id": "c9088558-7c13-4f13-8ae6-eb835a36bf1a",
   "metadata": {},
   "outputs": [
    {
     "data": {
      "text/plain": [
       "Author                                            Jacopo Prisco, CNN\n",
       "Date published                                   2021-07-15 02:46:59\n",
       "Category                                                        news\n",
       "Section                                                        world\n",
       "Url                https://www.cnn.com/2021/07/14/world/tusimple-...\n",
       "Headline           There's a shortage of truckers, but TuSimple t...\n",
       "Description        The e-commerce boom has exacerbated a global t...\n",
       "Keywords           world, There's a shortage of truckers, but TuS...\n",
       "Second headline    There's a shortage of truckers, but TuSimple t...\n",
       "Article text        (CNN)Right now, there's a shortage of truck d...\n",
       "Name: 0, dtype: object"
      ]
     },
     "execution_count": 46,
     "metadata": {},
     "output_type": "execute_result"
    }
   ],
   "source": [
    "# The time format is a string. It will be shown how to transform this object properly later\n",
    "\n",
    "df_cnn.iloc[0]"
   ]
  },
  {
   "cell_type": "code",
   "execution_count": 47,
   "id": "b39fc840-7f19-48f8-9b19-9203586b86a7",
   "metadata": {},
   "outputs": [
    {
     "data": {
      "text/html": [
       "<div>\n",
       "<style scoped>\n",
       "    .dataframe tbody tr th:only-of-type {\n",
       "        vertical-align: middle;\n",
       "    }\n",
       "\n",
       "    .dataframe tbody tr th {\n",
       "        vertical-align: top;\n",
       "    }\n",
       "\n",
       "    .dataframe thead th {\n",
       "        text-align: right;\n",
       "    }\n",
       "</style>\n",
       "<table border=\"1\" class=\"dataframe\">\n",
       "  <thead>\n",
       "    <tr style=\"text-align: right;\">\n",
       "      <th></th>\n",
       "      <th></th>\n",
       "      <th>n</th>\n",
       "    </tr>\n",
       "    <tr>\n",
       "      <th>Category</th>\n",
       "      <th>Section</th>\n",
       "      <th></th>\n",
       "    </tr>\n",
       "  </thead>\n",
       "  <tbody>\n",
       "    <tr>\n",
       "      <th rowspan=\"12\" valign=\"top\">business</th>\n",
       "      <th>business</th>\n",
       "      <td>23</td>\n",
       "    </tr>\n",
       "    <tr>\n",
       "      <th>business-food</th>\n",
       "      <td>1</td>\n",
       "    </tr>\n",
       "    <tr>\n",
       "      <th>business-money</th>\n",
       "      <td>2</td>\n",
       "    </tr>\n",
       "    <tr>\n",
       "      <th>cars</th>\n",
       "      <td>1</td>\n",
       "    </tr>\n",
       "    <tr>\n",
       "      <th>economy</th>\n",
       "      <td>8</td>\n",
       "    </tr>\n",
       "    <tr>\n",
       "      <th>energy</th>\n",
       "      <td>3</td>\n",
       "    </tr>\n",
       "    <tr>\n",
       "      <th>homes</th>\n",
       "      <td>6</td>\n",
       "    </tr>\n",
       "    <tr>\n",
       "      <th>investing</th>\n",
       "      <td>9</td>\n",
       "    </tr>\n",
       "    <tr>\n",
       "      <th>media</th>\n",
       "      <td>2</td>\n",
       "    </tr>\n",
       "    <tr>\n",
       "      <th>perspectives</th>\n",
       "      <td>25</td>\n",
       "    </tr>\n",
       "    <tr>\n",
       "      <th>success</th>\n",
       "      <td>9</td>\n",
       "    </tr>\n",
       "    <tr>\n",
       "      <th>tech</th>\n",
       "      <td>15</td>\n",
       "    </tr>\n",
       "    <tr>\n",
       "      <th rowspan=\"3\" valign=\"top\">entertainment</th>\n",
       "      <th>celebrities</th>\n",
       "      <td>1</td>\n",
       "    </tr>\n",
       "    <tr>\n",
       "      <th>entertainment</th>\n",
       "      <td>56</td>\n",
       "    </tr>\n",
       "    <tr>\n",
       "      <th>movies</th>\n",
       "      <td>1</td>\n",
       "    </tr>\n",
       "    <tr>\n",
       "      <th>health</th>\n",
       "      <th>health</th>\n",
       "      <td>52</td>\n",
       "    </tr>\n",
       "    <tr>\n",
       "      <th rowspan=\"15\" valign=\"top\">news</th>\n",
       "      <th>africa</th>\n",
       "      <td>49</td>\n",
       "    </tr>\n",
       "    <tr>\n",
       "      <th>americas</th>\n",
       "      <td>3</td>\n",
       "    </tr>\n",
       "    <tr>\n",
       "      <th>asia</th>\n",
       "      <td>9</td>\n",
       "    </tr>\n",
       "    <tr>\n",
       "      <th>australia</th>\n",
       "      <td>114</td>\n",
       "    </tr>\n",
       "    <tr>\n",
       "      <th>china</th>\n",
       "      <td>5</td>\n",
       "    </tr>\n",
       "    <tr>\n",
       "      <th>europe</th>\n",
       "      <td>800</td>\n",
       "    </tr>\n",
       "    <tr>\n",
       "      <th>india</th>\n",
       "      <td>1</td>\n",
       "    </tr>\n",
       "    <tr>\n",
       "      <th>intl_world</th>\n",
       "      <td>1</td>\n",
       "    </tr>\n",
       "    <tr>\n",
       "      <th>living</th>\n",
       "      <td>7</td>\n",
       "    </tr>\n",
       "    <tr>\n",
       "      <th>middleeast</th>\n",
       "      <td>5</td>\n",
       "    </tr>\n",
       "    <tr>\n",
       "      <th>opinions</th>\n",
       "      <td>45</td>\n",
       "    </tr>\n",
       "    <tr>\n",
       "      <th>uk</th>\n",
       "      <td>376</td>\n",
       "    </tr>\n",
       "    <tr>\n",
       "      <th>us</th>\n",
       "      <td>134</td>\n",
       "    </tr>\n",
       "    <tr>\n",
       "      <th>weather</th>\n",
       "      <td>18</td>\n",
       "    </tr>\n",
       "    <tr>\n",
       "      <th>world</th>\n",
       "      <td>44</td>\n",
       "    </tr>\n",
       "    <tr>\n",
       "      <th>politics</th>\n",
       "      <th>politics</th>\n",
       "      <td>75</td>\n",
       "    </tr>\n",
       "    <tr>\n",
       "      <th rowspan=\"5\" valign=\"top\">sport</th>\n",
       "      <th>football</th>\n",
       "      <td>618</td>\n",
       "    </tr>\n",
       "    <tr>\n",
       "      <th>golf</th>\n",
       "      <td>173</td>\n",
       "    </tr>\n",
       "    <tr>\n",
       "      <th>motorsport</th>\n",
       "      <td>100</td>\n",
       "    </tr>\n",
       "    <tr>\n",
       "      <th>sport</th>\n",
       "      <td>1088</td>\n",
       "    </tr>\n",
       "    <tr>\n",
       "      <th>tennis</th>\n",
       "      <td>197</td>\n",
       "    </tr>\n",
       "  </tbody>\n",
       "</table>\n",
       "</div>"
      ],
      "text/plain": [
       "                                 n\n",
       "Category      Section             \n",
       "business      business          23\n",
       "              business-food      1\n",
       "              business-money     2\n",
       "              cars               1\n",
       "              economy            8\n",
       "              energy             3\n",
       "              homes              6\n",
       "              investing          9\n",
       "              media              2\n",
       "              perspectives      25\n",
       "              success            9\n",
       "              tech              15\n",
       "entertainment celebrities        1\n",
       "              entertainment     56\n",
       "              movies             1\n",
       "health        health            52\n",
       "news          africa            49\n",
       "              americas           3\n",
       "              asia               9\n",
       "              australia        114\n",
       "              china              5\n",
       "              europe           800\n",
       "              india              1\n",
       "              intl_world         1\n",
       "              living             7\n",
       "              middleeast         5\n",
       "              opinions          45\n",
       "              uk               376\n",
       "              us               134\n",
       "              weather           18\n",
       "              world             44\n",
       "politics      politics          75\n",
       "sport         football         618\n",
       "              golf             173\n",
       "              motorsport       100\n",
       "              sport           1088\n",
       "              tennis           197"
      ]
     },
     "execution_count": 47,
     "metadata": {},
     "output_type": "execute_result"
    }
   ],
   "source": [
    "df_cnn.groupby([\"Category\", \"Section\"]).agg(n=('Category', 'count'))"
   ]
  },
  {
   "cell_type": "markdown",
   "id": "27e95ad4-7555-414b-b341-23250dacf78b",
   "metadata": {},
   "source": [
    "### We create a subset of CNN news"
   ]
  },
  {
   "cell_type": "code",
   "execution_count": 48,
   "id": "5839e98d-40e9-423d-80d5-201593666e45",
   "metadata": {},
   "outputs": [],
   "source": [
    "df_cnn_filtered_1= df_cnn[(df_cnn['Category']=='business') & (df_cnn['Section']=='business')]\n",
    "df_cnn_filtered_2= df_cnn[(df_cnn['Category']=='entertainment') & (df_cnn['Section']=='entertainment')]\n",
    "df_cnn_filtered_3= df_cnn[(df_cnn['Category']=='news') & (df_cnn['Section'].isin(['africa', 'australia', 'us']))]\n",
    "df_cnn_filtered_4= df_cnn[(df_cnn['Category']=='sport') & (df_cnn['Section'].isin(['motorsport', 'tennis']))]\n",
    "\n",
    "df_cnn_filtered = pd.concat([df_cnn_filtered_1, df_cnn_filtered_2, \n",
    "                             df_cnn_filtered_3, df_cnn_filtered_4])"
   ]
  },
  {
   "cell_type": "code",
   "execution_count": 49,
   "id": "66b5b224-f777-4051-b74b-15de74afaf34",
   "metadata": {},
   "outputs": [],
   "source": [
    "# Extract the year and month from `Date published`\n",
    "\n",
    "df_cnn_filtered[['year', 'month']] = df_cnn_filtered.apply(lambda x: x['Date published'].split(\" \")[0].split(\"-\")[:2], \n",
    "                                                           axis=1, result_type='expand')"
   ]
  },
  {
   "cell_type": "code",
   "execution_count": 50,
   "id": "211e9e0a-0021-45ef-a546-b5e64a903781",
   "metadata": {},
   "outputs": [
    {
     "data": {
      "text/plain": [
       "Author                                                       Reuters\n",
       "Date published                                   2022-03-15 11:27:02\n",
       "Category                                                    business\n",
       "Section                                                     business\n",
       "Url                https://www.cnn.com/2022/03/15/business/russia...\n",
       "Headline           Russian energy investment ban part of new EU s...\n",
       "Description        The European Union formally approved on Tuesda...\n",
       "Keywords           business, Russian energy investment ban part o...\n",
       "Second headline    EU bans investment in Russian energy in new sa...\n",
       "Article text       The European Union formally approved on Tuesda...\n",
       "year                                                            2022\n",
       "month                                                             03\n",
       "Name: 7, dtype: object"
      ]
     },
     "execution_count": 50,
     "metadata": {},
     "output_type": "execute_result"
    }
   ],
   "source": [
    "df_cnn_filtered.iloc[0]"
   ]
  },
  {
   "cell_type": "markdown",
   "id": "5946b022-0886-4625-b9bd-0f90cbcc68fe",
   "metadata": {},
   "source": [
    "1. Create a bunch of `Document` object storing the data: page_content will be the part used to for similarity calculation\n",
    "2. We use the attributes `Category`, `Section`, `Year`, `ID` as the metadata\n",
    "3. Store the information in the form of high dimension vectors in a vectorstore with an embedding model (all-MiniLM-L6-v2)."
   ]
  },
  {
   "cell_type": "code",
   "execution_count": 52,
   "id": "01327327-223a-4187-882e-2f8524ed82b5",
   "metadata": {},
   "outputs": [],
   "source": [
    "from langchain.docstore.document import Document\n",
    "\n",
    "documents = []\n",
    "\n",
    "for idx, row in df_cnn_filtered.iterrows():\n",
    "    document = Document(page_content=row['Article text'],\n",
    "                        metadata={\"Category\": row['Category'],\n",
    "                                  \"Section\": row['Section'],\n",
    "                                  \"Year\": row['year'],\n",
    "                                  \"ID\": f\"{idx}\"})\n",
    "    documents.append(document)\n",
    "\n",
    "embedding = HuggingFaceEmbeddings(model_name=\"all-MiniLM-L6-v2\")\n",
    "cnn_vectorstore = FAISS.from_documents(documents, embedding=embedding)"
   ]
  },
  {
   "cell_type": "markdown",
   "id": "4b36fe70-0ef3-4ac0-b5f5-be1a06f0ee46",
   "metadata": {},
   "source": [
    "#### Naively..."
   ]
  },
  {
   "cell_type": "code",
   "execution_count": 53,
   "id": "87b3467f-fc04-4aa0-b2e9-e1fa6e6e9992",
   "metadata": {},
   "outputs": [
    {
     "name": "stdout",
     "output_type": "stream",
     "text": [
      "[Document(id='ab138d91-5922-448a-89f0-b8433d841c27', metadata={'Category': 'sport', 'Section': 'motorsport', 'Year': '2022', 'ID': '130'}, page_content=' (Reuters)Russian driver Nikita Mazepin hit back at the US-owned Haas Formula One team on Wednesday for firing him after his country\\'s invasion of Ukraine and announced a foundation to support athletes unable to compete due to war or politics.The 23-year-old told reporters in a video call from Moscow that the \"We Compete as One\" foundation would be funded by money paid by Uralkali, the Russian potash company owned by his billionaire father Dmitry, to Haas.Uralkali said separately it had already paid most of the now-terminated 2022 title sponsorship to Haas and would be seeking immediate repayment while also reserving the right to claim damages.No financial details were available and team title sponsorship contracts are confidential.Mazepin said there had been no contact with his former bosses or former team mate Mick Schumacher, son of seven times world champion Michael.These are the sports that Russia has been suspended fromRead More\"In situations like this you can see the true face of everybody around you,\" said the Russian, who had several moments of tension with his team mate last year after being out-performed by the German.Others, including Mercedes\\' George Russell and Ferrari\\'s Charles Leclerc, had sent \"very simple\" personal messages of support, he added.\"They know how important the sport is to them, to their lives. They supported me in feeling for me for losing that opportunity to compete,\" Mazepin said. \"Nothing political. Just personal, keep your head up.\"It was just what I believe a good human being should do.\"He did not discuss the war or politics.Formula One\\'s governing body, the FIA, has said Russian and Belarusian drivers could still take part in competitions in a neutral capacity.Mazepin said he had intended to do that, citing the example of tennis player Daniil Medvedev who has been allowed to continue playing, but not under the Russian flag.He said he had not given up his dreams of competing in Formula One, would stay in race condition ready for any opportunity and had no plan to seek a license from another country.Medvedev has been allowed to continue competing.The foundation, whose name echoes F1\\'s \"We Race as One\" initiative to promote diversity and equal rights, would start by helping Russian Paralympic athletes sent home from the Beijing Games, he added.\"The foundation will allocate resources ... to those athletes who have spent their lives preparing for Olympics or Paralympics or other top events only to find they were forbidden from competing and collectively punished just because of the passports they held,\" he said.Mazepin, who would have been Russia\\'s sole F1 driver this year and whose career has been funded by his father, said the foundation planned to help athletes from all conflict zones.Russia\\'s invasion of Ukraine has led to sanctions across global sport, and Belarus, a key staging area for the full-scale invasion, has also been punished.')]\n"
     ]
    }
   ],
   "source": [
    "cnn_retriever = cnn_vectorstore.as_retriever(search_type=\"similarity\")\n",
    "cnn_retriever_configurable = cnn_retriever.configurable_fields(search_kwargs=ConfigurableField(id=\"hello_search\"))\n",
    "\n",
    "T = cnn_retriever_configurable.invoke(\"Russian\", \n",
    "                                      config={\"configurable\": \n",
    "                                              {\"hello_search\": \n",
    "                                               {\"k\": 6,\n",
    "                                                \"filter\": {\"Category\": \"sport\",\n",
    "                                                           \"Section\": \"motorsport\"}}}})\n",
    "\n",
    "print(T)"
   ]
  },
  {
   "cell_type": "code",
   "execution_count": 54,
   "id": "f62b3f7e-b7a3-41e6-8c9a-0b83f198b01d",
   "metadata": {},
   "outputs": [
    {
     "name": "stdout",
     "output_type": "stream",
     "text": [
      "6\n"
     ]
    }
   ],
   "source": [
    "cnn_retriever = cnn_vectorstore.as_retriever(search_type=\"similarity\")\n",
    "cnn_retriever_configurable = cnn_retriever.configurable_fields(search_kwargs=ConfigurableField(id=\"hello_search\"))\n",
    "\n",
    "T = cnn_retriever_configurable.invoke(\"Russian\", \n",
    "                                      config={\"configurable\": \n",
    "                                              {\"hello_search\": \n",
    "                                               {\"k\": 6, 'fetch_k': 100,\n",
    "                                                \"filter\": {\"Category\": \"sport\",\n",
    "                                                           \"Section\": \"motorsport\"}}}})\n",
    "\n",
    "print(len(T))"
   ]
  },
  {
   "cell_type": "code",
   "execution_count": 55,
   "id": "f101cadc-0256-4535-bcab-0d7564078993",
   "metadata": {},
   "outputs": [],
   "source": [
    "cnn_retriever = cnn_vectorstore.as_retriever(search_type=\"mmr\")\n",
    "cnn_retriever_configurable = cnn_retriever.configurable_fields(search_kwargs=ConfigurableField(id=\"hello_search\"))"
   ]
  },
  {
   "cell_type": "code",
   "execution_count": 56,
   "id": "cb88340e-8af4-4186-bf3d-147c4012bcc8",
   "metadata": {},
   "outputs": [],
   "source": [
    "## BUG https://github.com/langchain-ai/langchain/discussions/26806\n",
    "\n",
    "T = cnn_retriever_configurable.invoke(\"Russian\", \n",
    "                                      config={\"configurable\": \n",
    "                                              {\"hello_search\": \n",
    "                                               {\"k\": 6, 'fetch_k': 100, 'lambda_mult': 0.1,\n",
    "                                                \"filter\": {\"Category\": \"sport\",\n",
    "                                                           \"Section\": \"motorsport\"}}}})"
   ]
  },
  {
   "cell_type": "code",
   "execution_count": 57,
   "id": "665f6a8d-499a-4222-bc4d-aee87792e1fc",
   "metadata": {},
   "outputs": [
    {
     "name": "stdout",
     "output_type": "stream",
     "text": [
      "{'Category': 'sport', 'Section': 'motorsport', 'Year': '2022', 'ID': '130'}\n",
      "{'Category': 'sport', 'Section': 'motorsport', 'Year': '2021', 'ID': '3682'}\n",
      "{'Category': 'sport', 'Section': 'motorsport', 'Year': '2021', 'ID': '4359'}\n",
      "{'Category': 'sport', 'Section': 'motorsport', 'Year': '2021', 'ID': '1510'}\n",
      "{'Category': 'sport', 'Section': 'motorsport', 'Year': '2020', 'ID': '702'}\n",
      "{'Category': 'sport', 'Section': 'motorsport', 'Year': '2021', 'ID': '1930'}\n"
     ]
    }
   ],
   "source": [
    "for document in T:\n",
    "    print(document.metadata)"
   ]
  },
  {
   "cell_type": "code",
   "execution_count": 58,
   "id": "0044e915-21e1-41dc-9c63-21a5f0bc7637",
   "metadata": {},
   "outputs": [],
   "source": [
    "T = cnn_retriever_configurable.invoke(\"Russian\", \n",
    "                                      config={\"configurable\": \n",
    "                                              {\"hello_search\": \n",
    "                                               {\"k\": 6,\n",
    "                                                \"filter\": {\"Category\": \"sport\",\n",
    "                                                           \"Section\": \"motorsport\",\n",
    "                                                           \"Year\": \"2020\"}}}})"
   ]
  },
  {
   "cell_type": "code",
   "execution_count": 59,
   "id": "a6d58495-bf97-4c69-8e94-68ea38bd1bb4",
   "metadata": {},
   "outputs": [],
   "source": [
    "for document in T:\n",
    "    print(document.metadata)"
   ]
  },
  {
   "cell_type": "code",
   "execution_count": 60,
   "id": "85e45f58-c0fa-4a14-8723-ae65193ec877",
   "metadata": {},
   "outputs": [
    {
     "name": "stdout",
     "output_type": "stream",
     "text": [
      "{'Category': 'sport', 'Section': 'motorsport', 'Year': '2020', 'ID': '689'}\n",
      "{'Category': 'sport', 'Section': 'motorsport', 'Year': '2020', 'ID': '702'}\n",
      "{'Category': 'sport', 'Section': 'motorsport', 'Year': '2020', 'ID': '703'}\n",
      "{'Category': 'sport', 'Section': 'motorsport', 'Year': '2020', 'ID': '694'}\n",
      "{'Category': 'sport', 'Section': 'motorsport', 'Year': '2020', 'ID': '681'}\n",
      "{'Category': 'sport', 'Section': 'motorsport', 'Year': '2020', 'ID': '693'}\n"
     ]
    }
   ],
   "source": [
    "T = cnn_retriever_configurable.invoke(\"Russian\", \n",
    "                                      config={\"configurable\": \n",
    "                                              {\"hello_search\": \n",
    "                                               {\"k\": 6, 'fetch_k': 120, 'lambda_mult': 0.1,\n",
    "                                                \"filter\": {\"Category\": \"sport\",\n",
    "                                                           \"Section\": \"motorsport\",\n",
    "                                                           \"Year\": \"2020\"}}}})\n",
    "for document in T:\n",
    "    print(document.metadata)"
   ]
  },
  {
   "cell_type": "markdown",
   "id": "17d64ce4-cebe-45ca-a338-0938e1454e7e",
   "metadata": {},
   "source": [
    "# **** 預計第一個小時結束 ****"
   ]
  },
  {
   "cell_type": "markdown",
   "id": "ffc50ad2-8895-4c02-8ccc-55ed3565f783",
   "metadata": {},
   "source": [
    "# LangChain Expression Language (LCEL)\n",
    "\n",
    "From an `Operator` to a `Foreman`:\n",
    "\n",
    "Assuming that you finished an LLM process and you want to hand it over to an intern to run it, who does not have too much knowledge of Langchain. How do you improve the chance that the workflow will run without getting mistake?  "
   ]
  },
  {
   "cell_type": "markdown",
   "id": "aa6a32c0-a242-40d1-8527-68a2a24fd5f3",
   "metadata": {},
   "source": [
    "### 食譜 - LCEL"
   ]
  },
  {
   "cell_type": "code",
   "execution_count": 61,
   "id": "41b61f5d-4ce0-425b-b712-139e55b2d4d5",
   "metadata": {},
   "outputs": [],
   "source": [
    "from pydantic import BaseModel, Field\n",
    "from langchain_core.output_parsers import PydanticOutputParser\n",
    "\n",
    "class result(BaseModel):\n",
    "\n",
    "    used_ingredients: str = Field(description=\"The actual ingredients used in cooking.\")\n",
    "    extra_ingredients: str = Field(description=\"extra ingredients that have to be prepared.\")\n",
    "    result: str= Field(description=\"The dish and cooking recipe in detail.\")\n",
    "\n",
    "output_parser = PydanticOutputParser(pydantic_object=result)\n",
    "\n",
    "format_instructions = output_parser.get_format_instructions()\n",
    "\n",
    "\n",
    "system_template = dedent(\"\"\"\n",
    "                  You are an AI assistant as the best chef in the world. \n",
    "                  You have a great taste and cooking skills like Gordon Ramsay. You should be able to come up with a dish based on `suggested ingredient`, and tell us what extra ingredients \n",
    "                  has to be prepared by comparing the ingredients actually \n",
    "                  used in the cooking and the `existing ingredient`\n",
    "\n",
    "                  The `suggested ingredients` are the ingredients suggested \n",
    "                  by some recipe. You have the freedom to add or remove \n",
    "                  ingredients to achieve the goal, but try to be as faithful \n",
    "                  to the `suggested ingredient` as possible. \n",
    "                  \"\"\")\n",
    "\n",
    "human_template = dedent(\"\"\"\n",
    "                 existing ingredients:[{existing_ingredients}];\n",
    "                 suggested ingredients: [{suggested_ingredients}]\\n; \n",
    "                 format instruction: {format_instructions}\n",
    "                 \"\"\")\n",
    "\n",
    "input_ = {\"system\": {\"template\": system_template},\n",
    "          \"human\": {\"template\": human_template,\n",
    "                    \"input_variable\": [\"existing_ingredients\", \n",
    "                                       \"suggested_ingredients\"],\n",
    "                    \"partial_variables\": {\"format_instructions\": \n",
    "                                          format_instructions}}}\n",
    "\n",
    "cuisine_prompt_template = build_standard_chat_prompt_template(input_)"
   ]
  },
  {
   "cell_type": "markdown",
   "id": "5b844250-d0f6-4233-a14d-d339509809c3",
   "metadata": {},
   "source": [
    "### Previously\n",
    "\n",
    "1. my_chat_prompt_template = build_standard_chat_prompt_template(input_)\n",
    "2. prompt = my_chat_prompt_template.invoke(\n",
    "    {\"existing_ingredients\": existing_ingredients, \n",
    "     \"suggested_ingredients\": suggested_ingredients})\n",
    "3. output = model.invoke(prompt)\n",
    "4. final_output = output_parser.parse(output.content)"
   ]
  },
  {
   "cell_type": "markdown",
   "id": "149e4c7f-4a4f-4f8e-b343-c2ae7fd3017b",
   "metadata": {},
   "source": [
    "### LCEL"
   ]
  },
  {
   "cell_type": "code",
   "execution_count": 62,
   "id": "5e547888-495a-4a6b-8b2f-06663d436688",
   "metadata": {},
   "outputs": [],
   "source": [
    "pipeline_ = cuisine_prompt_template|model|output_parser"
   ]
  },
  {
   "cell_type": "code",
   "execution_count": 63,
   "id": "432a0264-9c47-4639-be04-a3e53a32df9e",
   "metadata": {},
   "outputs": [
    {
     "data": {
      "text/plain": [
       "result(used_ingredients='olive oil, balsamic vinegar, toasted pine nuts, kosher salt, golden raisins, part-skim ricotta cheese, grated parmesan cheese, baby spinach, fresh basil leaves, pepper, fusilli, scallions', extra_ingredients='Italian parsley leaves, fresh oregano, garlic cloves', result='To create a delightful pasta dish, start by cooking the fusilli according to package instructions until al dente. In a large skillet, heat olive oil over medium heat and add minced garlic cloves, sautéing until fragrant. Add the cooked fusilli to the skillet, along with balsamic vinegar, toasted pine nuts, golden raisins, and a sprinkle of kosher salt. Toss in baby spinach and fresh oregano, allowing the spinach to wilt slightly. Remove from heat and stir in part-skim ricotta cheese and grated parmesan cheese until well combined. Finish with fresh basil leaves and chopped Italian parsley for a burst of flavor. Serve warm, garnished with scallions and a dash of pepper.')"
      ]
     },
     "execution_count": 63,
     "metadata": {},
     "output_type": "execute_result"
    }
   ],
   "source": [
    "pipeline_.invoke({\"existing_ingredients\": \", \".join(existing_ingredients), \n",
    "                  \"suggested_ingredients\": \", \".join(suggested_ingredients)})"
   ]
  },
  {
   "cell_type": "code",
   "execution_count": 64,
   "id": "0954a021-d65a-43d2-844b-eb436eee5066",
   "metadata": {},
   "outputs": [],
   "source": [
    "output = pipeline_.invoke({\"existing_ingredients\": \", \".join(existing_ingredients), \n",
    "                  \"suggested_ingredients\": \", \".join(suggested_ingredients)})"
   ]
  },
  {
   "cell_type": "code",
   "execution_count": 65,
   "id": "f942f690-0ce5-466b-8344-2d65b637942b",
   "metadata": {},
   "outputs": [
    {
     "data": {
      "text/plain": [
       "{'used_ingredients': 'olive oil, balsamic vinegar, toasted pine nuts, kosher salt, golden raisins, part-skim ricotta cheese, grated parmesan cheese, baby spinach, fresh basil leaves, pepper, fusilli, scallions',\n",
       " 'extra_ingredients': 'fresh oregano, garlic cloves, Italian parsley leaves',\n",
       " 'result': 'To create a delightful pasta dish, start by cooking the fusilli according to package instructions until al dente. In a large skillet, heat olive oil over medium heat. Add minced garlic cloves and sauté until fragrant. Toss in the cooked fusilli, along with toasted pine nuts, golden raisins, and baby spinach. Drizzle with balsamic vinegar and season with kosher salt and pepper to taste. Stir in part-skim ricotta cheese and grated parmesan cheese until well combined. Finish with fresh basil leaves, fresh oregano, and chopped Italian parsley for a burst of flavor. Serve garnished with scallions for an added crunch.'}"
      ]
     },
     "execution_count": 65,
     "metadata": {},
     "output_type": "execute_result"
    }
   ],
   "source": [
    "output.model_dump()"
   ]
  },
  {
   "cell_type": "markdown",
   "id": "c6705b71-2b26-4dac-8cad-7851050dfe0e",
   "metadata": {},
   "source": [
    "### Translation"
   ]
  },
  {
   "cell_type": "code",
   "execution_count": 66,
   "id": "e0d62465-0354-4f34-9092-41fc5156ecde",
   "metadata": {},
   "outputs": [],
   "source": [
    "class result(BaseModel):\n",
    "\n",
    "    used_ingredients: str = Field(description=\"The actual ingredients used in cooking. Returns the result in traditional Chinese.\")\n",
    "    extra_ingredients: str = Field(description=\"extra ingredients that have to be prepared. Returns the result in traditional Chinese.\")\n",
    "    result: str= Field(description=\"The dish and cooking recipe in detail. Returns the result in traditional Chinese.\")\n",
    "\n",
    "output_parser = PydanticOutputParser(pydantic_object=result)\n",
    "\n",
    "format_instructions = output_parser.get_format_instructions()\n",
    "\n",
    "\n",
    "system_template = dedent(\"\"\"\n",
    "                  You are an AI assistant as the best chef in the world. \n",
    "                  You have a great taste and cooking skills like Gordon Ramsay. You should be able to come up with a dish based on `suggested ingredient`, and tell us what extra ingredients \n",
    "                  has to be prepared by comparing the ingredients actually \n",
    "                  used in the cooking and the `existing ingredient`\n",
    "\n",
    "                  The `suggested ingredients` are the ingredients suggested \n",
    "                  by some recipe. You have the freedom to add or remove \n",
    "                  ingredients to achieve the goal, but try to be as faithful \n",
    "                  to the `suggested ingredient` as possible. \n",
    "                  \"\"\")\n",
    "\n",
    "human_template = dedent(\"\"\"\n",
    "                 existing ingredients:[{existing_ingredients}];\n",
    "                 suggested ingredients: [{suggested_ingredients}]\\n; \n",
    "                 format instruction: {format_instructions}\n",
    "                 \"\"\")\n",
    "\n",
    "input_ = {\"system\": {\"template\": system_template},\n",
    "          \"human\": {\"template\": human_template,\n",
    "                    \"input_variable\": [\"existing_ingredients\", \n",
    "                                       \"suggested_ingredients\"],\n",
    "                    \"partial_variables\": {\"format_instructions\": \n",
    "                                          format_instructions}}}\n",
    "\n",
    "cuisine_prompt_template = build_standard_chat_prompt_template(input_)\n",
    "\n",
    "pipeline_ = cuisine_prompt_template|model|output_parser\n",
    "\n",
    "output = pipeline_.invoke({\"existing_ingredients\": \", \".join(existing_ingredients), \n",
    "                           \"suggested_ingredients\": \", \".join(suggested_ingredients)})"
   ]
  },
  {
   "cell_type": "code",
   "execution_count": 67,
   "id": "2af2f9aa-621b-477c-9d6b-70ee266dde7d",
   "metadata": {},
   "outputs": [
    {
     "data": {
      "text/plain": [
       "{'used_ingredients': '橄欖油, 醋, 烤過的松子, 猶太鹽, 金葡萄乾, 部分脫脂的瑞可達奶酪, 磨碎的帕爾馬奶酪, 嬰兒菠菜, 新鮮羅勒葉, 胡椒, 蔥',\n",
       " 'extra_ingredients': '新鮮的義大利香菜, 新鮮的牛至, 大蒜瓣',\n",
       " 'result': '這道菜是一道美味的義大利風味沙拉，使用新鮮的菠菜和羅勒，搭配烤過的松子和金葡萄乾，增添了甜味和口感。首先，將嬰兒菠菜和新鮮羅勒葉放入大碗中，然後加入橄欖油和醋，輕輕拌勻。接著，加入烤過的松子和金葡萄乾，並撒上磨碎的帕爾馬奶酪和部分脫脂的瑞可達奶酪。最後，加入新鮮的義大利香菜和牛至，並用大蒜瓣增添風味，調味後即可享用。'}"
      ]
     },
     "execution_count": 67,
     "metadata": {},
     "output_type": "execute_result"
    }
   ],
   "source": [
    "output.model_dump()"
   ]
  },
  {
   "cell_type": "markdown",
   "id": "d35080bf-e699-4116-bceb-03d0c8ea4c71",
   "metadata": {},
   "source": [
    "### Return the result in traditional Chinese"
   ]
  },
  {
   "cell_type": "markdown",
   "id": "04d2df8d-7455-4549-a8ee-d572ed69182e",
   "metadata": {},
   "source": [
    "#### What happens?\n",
    "\n",
    "I know it looks mysterious, but it is very simple:"
   ]
  },
  {
   "cell_type": "code",
   "execution_count": 68,
   "id": "9e1c2e24-1b1a-420c-a7ad-642be968c3d1",
   "metadata": {},
   "outputs": [
    {
     "data": {
      "image/png": "[encoded data removed]",
      "text/plain": [
       "<IPython.core.display.Image object>"
      ]
     },
     "execution_count": 68,
     "metadata": {},
     "output_type": "execute_result"
    }
   ],
   "source": [
    "Image(filename= \"tutorial/LLM+Langchain/Week-2/LCEL_1.png\")"
   ]
  },
  {
   "cell_type": "markdown",
   "id": "1e9dff1e-cd11-4627-a542-f54d52a4e21b",
   "metadata": {},
   "source": [
    "## Minimal Example\n",
    "\n",
    "### 1. Creating a Prompt Template (創建提示模板):\n",
    "\n",
    "- ChatPromptTemplate.from_template is used to create a prompt template. This template is a string that includes a placeholder {topic}.\n",
    "- The template specifies the instruction: \"tell me a short joke about {topic}\".\n",
    "- 使用 ChatPromptTemplate.from_template 創建一個提示模板。這個模板是一個包含佔位符 {topic} 的字符串。\n",
    "- 模板指定了指令：“tell me a short joke about {topic}”（給我講一個關於{topic}的簡短笑話）。"
   ]
  },
  {
   "cell_type": "code",
   "execution_count": 69,
   "id": "bd952993-29ad-4877-8795-5cf49e084105",
   "metadata": {},
   "outputs": [
    {
     "data": {
      "image/png": "[encoded data removed]",
      "text/plain": [
       "<IPython.core.display.Image object>"
      ]
     },
     "execution_count": 69,
     "metadata": {},
     "output_type": "execute_result"
    }
   ],
   "source": [
    "## Official diagram flow\n",
    "\n",
    "Image(filename= \"tutorial/LLM+Langchain/Week-2/lcel pipeline.png\")"
   ]
  },
  {
   "cell_type": "code",
   "execution_count": 70,
   "id": "bb11136f-8d8d-44b9-8a75-9c91975f4aa0",
   "metadata": {},
   "outputs": [],
   "source": [
    "prompt = ChatPromptTemplate.from_template(\"tell me a short joke about {topic}\")\n",
    "# prompt = ChatPromptTemplate(template=\"tell me a short joke about {topic}\")"
   ]
  },
  {
   "cell_type": "code",
   "execution_count": 71,
   "id": "f80d68f9-a5c7-46b2-b1fb-64fe8f530ef6",
   "metadata": {},
   "outputs": [
    {
     "data": {
      "text/plain": [
       "ChatPromptTemplate(input_variables=['topic'], input_types={}, partial_variables={}, messages=[HumanMessagePromptTemplate(prompt=PromptTemplate(input_variables=['topic'], input_types={}, partial_variables={}, template='tell me a short joke about {topic}'), additional_kwargs={})])"
      ]
     },
     "execution_count": 71,
     "metadata": {},
     "output_type": "execute_result"
    }
   ],
   "source": [
    "prompt"
   ]
  },
  {
   "cell_type": "markdown",
   "id": "81f21f8c-d2ca-4960-bb69-a59efaa45880",
   "metadata": {},
   "source": [
    "### 2. Setting Up the Chain (設置鏈條):\n",
    "\n",
    "- chain = prompt | model sets up a chain where the prompt is connected to a model. This means that the model will process the prompt to generate a response.\n",
    "- The | operator is used to combine the prompt and the model into a single chain.\n",
    "- chain = prompt | model 設置了一個鏈條，其中提示連接到模型。這意味著模型將處理該提示來生成回應。\n",
    "- | 運算符用於將提示和模型組合成一個鏈條。"
   ]
  },
  {
   "cell_type": "code",
   "execution_count": 72,
   "id": "016cee2f-686e-4b9c-b494-11e9f4886997",
   "metadata": {},
   "outputs": [],
   "source": [
    "# from the PromptTemplate to the ChatModel\n",
    "\n",
    "pipeline_ = prompt | model"
   ]
  },
  {
   "cell_type": "markdown",
   "id": "ee6dcf0b-cb87-4c4f-8d88-06f714ec190b",
   "metadata": {},
   "source": [
    "### 3. Getting the Joke (獲取笑話):\n",
    "\n",
    "- The result of chain.invoke({\"topic\": \"ice cream\"}) is stored in the variable joke.\n",
    "- This variable now contains the generated joke about ice cream.\n",
    "- chain.invoke({\"topic\": \"ice cream\"}) 的結果存儲在變量 joke 中。\n",
    "- 這個變量現在包含生成的關於冰淇淋的笑話。"
   ]
  },
  {
   "cell_type": "code",
   "execution_count": 73,
   "id": "7bfd1bcd-39a6-43c3-b895-e2dc24c43ede",
   "metadata": {},
   "outputs": [],
   "source": [
    "# input -> prompt template -> model\n",
    "\n",
    "joke = pipeline_.invoke({\"topic\": \"ice cream\"})"
   ]
  },
  {
   "cell_type": "code",
   "execution_count": 74,
   "id": "c98ab297-c127-4e64-93f4-81f843efc958",
   "metadata": {},
   "outputs": [
    {
     "data": {
      "text/plain": [
       "AIMessage(content='Why did the ice cream cone break up with the sundae? \\n\\nBecause it found someone cooler!', additional_kwargs={'refusal': None}, response_metadata={'token_usage': {'completion_tokens': 20, 'prompt_tokens': 15, 'total_tokens': 35, 'completion_tokens_details': {'accepted_prediction_tokens': 0, 'audio_tokens': 0, 'reasoning_tokens': 0, 'rejected_prediction_tokens': 0}, 'prompt_tokens_details': {'audio_tokens': 0, 'cached_tokens': 0}}, 'model_name': 'gpt-4o-mini-2024-07-18', 'system_fingerprint': 'fp_34a54ae93c', 'id': 'chatcmpl-BlhRxqxP7lwhQj7hIJbnyTf3GjF1a', 'finish_reason': 'stop', 'logprobs': None}, id='run--878e313e-2729-4da2-aa2b-5146b93b91de-0', usage_metadata={'input_tokens': 15, 'output_tokens': 20, 'total_tokens': 35, 'input_token_details': {'audio': 0, 'cache_read': 0}, 'output_token_details': {'audio': 0, 'reasoning': 0}})"
      ]
     },
     "execution_count": 74,
     "metadata": {},
     "output_type": "execute_result"
    }
   ],
   "source": [
    "joke"
   ]
  },
  {
   "cell_type": "code",
   "execution_count": 75,
   "id": "a621e272-9562-4970-90d0-4d36661905b1",
   "metadata": {},
   "outputs": [
    {
     "name": "stdout",
     "output_type": "stream",
     "text": [
      "Why did the ice cream cone break up with the sundae? \n",
      "\n",
      "Because it found someone cooler!\n"
     ]
    }
   ],
   "source": [
    "print(joke.content)"
   ]
  },
  {
   "cell_type": "markdown",
   "id": "c0d10377-f1d6-422a-8c06-db4cc16f54b5",
   "metadata": {},
   "source": [
    "### 1. Importing StrOutputParser (導入 StrOutputParser):\n",
    "\n",
    "- The code imports StrOutputParser from the langchain_core.output_parsers module. This class is used to parse the output of the model into a string format.\n",
    "- 代碼從 langchain_core.output_parsers 模塊導入 StrOutputParser。這個類用於將模型的輸出解析為字符串格式。\n",
    "\n",
    "### 2. Creating an Output Parser:\n",
    "\n",
    "- An instance of StrOutputParser is created and assigned to the variable output_parser.\n",
    "- This parser will be used to process the raw output from the model and convert it into a readable string format.\n",
    "- 創建一個 StrOutputParser 的實例，並將其賦值給變量 output_parser。\n",
    "- 這個解析器將用於處理來自模型的原始輸出，並將其轉換為可讀的字符串格式。"
   ]
  },
  {
   "cell_type": "code",
   "execution_count": 76,
   "id": "6c0e144b-6c59-4a6c-a5c0-0ebd09fbd736",
   "metadata": {},
   "outputs": [
    {
     "data": {
      "text/plain": [
       "'Why did the ice cream cone break up with the sundae? \\n\\nBecause it found someone cooler!'"
      ]
     },
     "execution_count": 76,
     "metadata": {},
     "output_type": "execute_result"
    }
   ],
   "source": [
    "from langchain_core.output_parsers import StrOutputParser\n",
    "\n",
    "output_parser = StrOutputParser()\n",
    "\n",
    "pipeline_ = prompt | model | output_parser\n",
    "\n",
    "# input -> prompt template -> model -> output parser\n",
    "\n",
    "pipeline_.invoke({\"topic\": \"ice cream\"})"
   ]
  },
  {
   "cell_type": "markdown",
   "id": "8aab8739-5057-420e-a035-8055a1fad92f",
   "metadata": {},
   "source": [
    "## 範例操作"
   ]
  },
  {
   "cell_type": "markdown",
   "id": "060ba61c-382a-4b2d-a8fa-8a5513825e2c",
   "metadata": {},
   "source": [
    "### Coercion\n",
    "\n",
    "Do not ask me why this word is used...."
   ]
  },
  {
   "cell_type": "code",
   "execution_count": null,
   "id": "bc561f1b-7daa-42d2-bf1f-b9929aa96e23",
   "metadata": {},
   "outputs": [],
   "source": [
    "Image(filename= \"tutorial/LLM+Langchain/Week-2/LCEL_2.png\")"
   ]
  },
  {
   "cell_type": "code",
   "execution_count": null,
   "id": "4db580ce-4a32-4a96-be75-2f2d5d68e9bd",
   "metadata": {},
   "outputs": [],
   "source": [
    "joke_chain = prompt | model | output_parser\n",
    "\n",
    "template = \"\"\"\n",
    "           is this a funny joke? {joke}\n",
    "           \"\"\"\n",
    "\n",
    "human_prompt = PromptTemplate(template=template,\n",
    "                              input_variables=['joke'])\n",
    "\n",
    "human_message = HumanMessagePromptTemplate(prompt=human_prompt)\n",
    "\n",
    "analysis_prompt = ChatPromptTemplate(messages=[human_message])\n",
    "\n",
    "analysis_chain = analysis_prompt | model\n",
    "\n",
    "\"\"\"\n",
    "1. \n",
    "joke = joke_chain.invoke({\"topic\": \"ice cream\"})\n",
    "2.\n",
    "analysis_chain.invoke({\"joke\": joke})\n",
    "\"\"\"\n",
    "\n",
    "composed_chain = {\"joke\": joke_chain} | analysis_chain | output_parser"
   ]
  },
  {
   "cell_type": "code",
   "execution_count": null,
   "id": "4e362c88-1f82-42c5-8b61-96c18affddfd",
   "metadata": {},
   "outputs": [],
   "source": [
    "print(composed_chain.invoke({\"topic\": \"ice cream\"}))"
   ]
  },
  {
   "cell_type": "markdown",
   "id": "4f5f8553-996e-4d34-bf70-12f9553b8cef",
   "metadata": {},
   "source": [
    "1. chain 執行結果，將結果放進'joke' 這個 key 裡\n",
    "2. {\"joke\": content} 被送進analysis_prompt 中，等價於 analysis_prompt.invoke({\"joke\": content})\n",
    "3. model 接收 analysis_prompt 產生的結果\n",
    "4. output_parser 處理結果"
   ]
  },
  {
   "cell_type": "code",
   "execution_count": null,
   "id": "168733ad-8766-4e6c-a83c-1199ca126449",
   "metadata": {},
   "outputs": [],
   "source": [
    "template = \"Translate:\\n\\n{query}\\n\\ninto traditional Chinese\"\n",
    "\n",
    "human_prompt = PromptTemplate(template=template,\n",
    "                              input_variables=['query'])\n",
    "\n",
    "human_message = HumanMessagePromptTemplate(prompt=human_prompt)\n",
    "\n",
    "translation_prompt = ChatPromptTemplate(messages=[human_message])\n",
    "\n",
    "translation_chain = translation_prompt | model\n",
    "\n",
    "e2e_pipeline = {\"query\": composed_chain}|translation_chain|output_parser\n",
    "e2e_pipeline.invoke({\"topic\": \"ice cream\"})"
   ]
  },
  {
   "cell_type": "markdown",
   "id": "ba419208-49a4-48b6-b96a-626963d9e798",
   "metadata": {},
   "source": [
    "## Parallelize steps"
   ]
  },
  {
   "cell_type": "code",
   "execution_count": null,
   "id": "74c25e8c-eda5-464d-9abf-75ee04f70cd9",
   "metadata": {},
   "outputs": [],
   "source": [
    "from langchain_core.runnables import RunnableParallel\n",
    "\n",
    "joke_chain = ChatPromptTemplate.from_template(\"tell me a joke about {topic}\") | model\n",
    "poem_chain = ChatPromptTemplate.from_template(\"write a 2-line poem about {topic}\") | model\n",
    "\n",
    "map_chain = RunnableParallel(joke=joke_chain, poem=poem_chain)\n",
    "\n",
    "map_chain.invoke({\"topic\": \"bear\"})"
   ]
  },
  {
   "cell_type": "markdown",
   "id": "143dea0c-1087-4fcf-adc2-8d7067a2d14a",
   "metadata": {},
   "source": [
    "- Computation time"
   ]
  },
  {
   "cell_type": "code",
   "execution_count": null,
   "id": "70b778b6-506a-41c6-ae4d-25dfb3e4248b",
   "metadata": {},
   "outputs": [],
   "source": [
    "%%timeit\n",
    "\n",
    "joke_chain.invoke({\"topic\": \"bear\"})"
   ]
  },
  {
   "cell_type": "code",
   "execution_count": null,
   "id": "f795294f-f594-4997-b493-9239cf416f65",
   "metadata": {},
   "outputs": [],
   "source": [
    "%%timeit\n",
    "\n",
    "poem_chain.invoke({\"topic\": \"bear\"})"
   ]
  },
  {
   "cell_type": "code",
   "execution_count": null,
   "id": "fdcf29cc-d5a2-4879-9dd9-ef49b243b67a",
   "metadata": {},
   "outputs": [],
   "source": [
    "%%timeit\n",
    "\n",
    "map_chain.invoke({\"topic\": \"bear\"})"
   ]
  },
  {
   "cell_type": "markdown",
   "id": "9850622e-12e1-42b0-94f0-cc49cbbb6f62",
   "metadata": {},
   "source": [
    "RunnableParallel are also useful for running independent processes in parallel, since each Runnable in the map is executed in parallel. For example, we can see our earlier joke_chain, poem_chain and map_chain all have about the same runtime, even though map_chain executes both of the other two.\n",
    "\n"
   ]
  },
  {
   "cell_type": "markdown",
   "id": "db494f11-15f8-4658-b065-1a0449c10ab7",
   "metadata": {},
   "source": [
    "## Run custom function"
   ]
  },
  {
   "cell_type": "code",
   "execution_count": null,
   "id": "78e37218-e84c-4b5c-9846-5ae4c32d2e8a",
   "metadata": {},
   "outputs": [],
   "source": [
    "from operator import itemgetter\n",
    "\n",
    "from langchain_core.runnables import RunnableLambda\n",
    "\n",
    "\n",
    "def length_function(text):\n",
    "    return len(text)\n",
    "\n",
    "\n",
    "def _multiple_length_function(text1, text2):\n",
    "    return len(text1) * len(text2)\n",
    "\n",
    "\n",
    "def multiple_length_function(_dict):\n",
    "    return _multiple_length_function(_dict[\"text1\"], _dict[\"text2\"])\n",
    "\n",
    "prompt = ChatPromptTemplate.from_template(\"what is {a} + {b}\")\n",
    "\n",
    "pipeline_ = (\n",
    "    {\n",
    "        \"a\": itemgetter(\"foo\") | length_function,\n",
    "        \"b\": {\"text1\": itemgetter(\"foo\"), \"text2\": itemgetter(\"bar\")}\n",
    "        | multiple_length_function,\n",
    "    }\n",
    "    | prompt\n",
    "    | model\n",
    ")"
   ]
  },
  {
   "cell_type": "markdown",
   "id": "a58914c7-5864-4956-81c2-12b8e11f550e",
   "metadata": {},
   "source": [
    "- Oops, how to solve this error message? "
   ]
  },
  {
   "cell_type": "code",
   "execution_count": null,
   "id": "802dadc3-be5a-4067-82c5-8e4135f1f2cf",
   "metadata": {},
   "outputs": [],
   "source": [
    "# wrap the function with RunnableLambda\n",
    "\n",
    "pipeline_ = (\n",
    "    {\n",
    "        \"a\": itemgetter(\"foo\") | RunnableLambda(length_function),\n",
    "        \"b\": {\"text1\": itemgetter(\"foo\"), \"text2\": itemgetter(\"bar\")}\n",
    "        | RunnableLambda(multiple_length_function),\n",
    "    }\n",
    "    | prompt\n",
    "    | model\n",
    ")\n"
   ]
  },
  {
   "cell_type": "code",
   "execution_count": null,
   "id": "ad18d9a4-d3ce-4fc5-a9f0-1be23581a9c1",
   "metadata": {},
   "outputs": [],
   "source": [
    "pipeline_.invoke({\"foo\": \"bar\", \"bar\": \"gah\"})"
   ]
  },
  {
   "cell_type": "markdown",
   "id": "7a7d179a-ccb1-48ef-9007-eab272b71c14",
   "metadata": {},
   "source": [
    "How does it work?\n",
    "\n",
    "- 'bar' -> foo, foo ('bar') -> length_function => a = 3\n",
    "- 'bar' -> foo & 'gah' -> bar, foo ('bar') -> 'text1' & bar ('gah') -> 'text2', {'text1': 'bar', 'text2': 'gah'} -> multiple_length_function => b = 9\n",
    "- {'a':3, 'b': 9} -> prompt -> 'what is 3 + 9'"
   ]
  },
  {
   "cell_type": "markdown",
   "id": "bb1233f2-d49d-4a7a-8112-b7cba295c91a",
   "metadata": {},
   "source": [
    "#### Decorator\n",
    "\n",
    "- A very cool feature.\n",
    "- This was a new discovery at the beginning of December, so it is not used in subsequent tutorials. However, feel free to adapt the code and experience its magic.\n",
    "- Understanding programming remains key to building successful AI applications."
   ]
  },
  {
   "cell_type": "code",
   "execution_count": null,
   "id": "c3defc52-a2e1-4720-a9c5-62b9c0a64405",
   "metadata": {},
   "outputs": [],
   "source": [
    "from operator import itemgetter\n",
    "from langchain_core.runnables import chain, RunnableParallel\n",
    "\n",
    "prompt = ChatPromptTemplate.from_template(\"what is {a} + {b}\")\n",
    "\n",
    "@chain\n",
    "def length_function(text):\n",
    "    return len(text)\n",
    "\n",
    "def _multiple_length_function(text1, text2):\n",
    "    return len(text1) * len(text2)\n",
    "\n",
    "@chain\n",
    "def multiple_length_function(_dict):\n",
    "    return _multiple_length_function(_dict[\"text1\"], _dict[\"text2\"])\n",
    "\n",
    "pipeline_ = RunnableParallel(\n",
    "        a=itemgetter(\"foo\") | length_function,\n",
    "        b={\"text1\": itemgetter(\"foo\"), \"text2\": itemgetter(\"bar\")}\n",
    "        | multiple_length_function)| prompt | model\n",
    "\n",
    "pipeline_.invoke({\"foo\": \"bar\", \"bar\": \"gah\"})"
   ]
  },
  {
   "cell_type": "markdown",
   "id": "b907c618-0a13-44f0-a9d3-873ec6185f07",
   "metadata": {},
   "source": [
    "## Passing data through"
   ]
  },
  {
   "cell_type": "code",
   "execution_count": null,
   "id": "0547d8de-37a7-48b8-8b6c-1448f1b110c7",
   "metadata": {
    "tags": []
   },
   "outputs": [],
   "source": [
    "from langchain_core.runnables import RunnableParallel, RunnablePassthrough\n",
    "\n",
    "runnable = RunnableParallel(\n",
    "    passed=RunnablePassthrough(),\n",
    "    modified=lambda x: x[\"num\"] + 1,\n",
    ")\n",
    "\n",
    "runnable.invoke({\"num\": 1})"
   ]
  },
  {
   "cell_type": "code",
   "execution_count": null,
   "id": "e4bf5d98-5554-4ede-96fa-510535c1e775",
   "metadata": {},
   "outputs": [],
   "source": [
    "runnable = RunnableParallel(\n",
    "    passed=RunnablePassthrough(),\n",
    "    modified=itemgetter(\"num\"),\n",
    ")\n",
    "\n",
    "runnable.invoke({\"num\": 1})"
   ]
  },
  {
   "cell_type": "code",
   "execution_count": null,
   "id": "b17236ef-98e2-47f4-8e39-5f478ddb7310",
   "metadata": {},
   "outputs": [],
   "source": [
    "runnable = RunnableParallel(\n",
    "    passed_2=RunnablePassthrough(),\n",
    "    modified=lambda x: x[\"num\"] + 1,\n",
    ")\n",
    "\n",
    "runnable.invoke({\"num\": 5})"
   ]
  },
  {
   "cell_type": "markdown",
   "id": "bffe96a0-3bb1-4d67-80cc-ef4666f7b3f6",
   "metadata": {},
   "source": [
    "## RAG + LCEL"
   ]
  },
  {
   "cell_type": "code",
   "execution_count": null,
   "id": "c8c43a9c-ed5f-4af1-ac91-b98d16f484c4",
   "metadata": {
    "tags": []
   },
   "outputs": [],
   "source": [
    "@chain\n",
    "def chatbot_prompt_fn(data):\n",
    "\n",
    "    system_template = \"\"\"\n",
    "                      You are a helpful assistant. Answer all questions to the best of your ability.\n",
    "                      \"\"\"\n",
    "    \n",
    "    human_template = \"\"\"\n",
    "                     question: {question}\n",
    "\n",
    "                     Please answer the question based on the context:\n",
    "                     {context}\n",
    "                     \"\"\"\n",
    "    \n",
    "    input_ = {\"system\": {\"template\": system_template},\n",
    "              \"human\": {\"template\": human_template,\n",
    "                        \"input_variable\": [\"question\", \"context\"]}}\n",
    "    \n",
    "    prompt_template = build_standard_chat_prompt_template(input_)\n",
    "    \n",
    "    return prompt_template\n",
    "\n",
    "\n",
    "embeddings = HuggingFaceEmbeddings(model_name=\"all-MiniLM-L6-v2\")\n",
    "\n",
    "path = os.path.join(get_project_dir(), 'tutorial', 'LLM+Langchain', 'Week-2', 'BertV2 Index')\n",
    "\n",
    "vectorstore = FAISS.load_local(path, embeddings, allow_dangerous_deserialization=True)\n",
    "\n",
    "retriever = vectorstore.as_retriever(search_type=\"similarity\", \n",
    "                                     search_kwargs={\"k\": 5})\n",
    "\n",
    "pipeline_ = RunnablePassthrough.assign(context=itemgetter('question')|retriever)\n",
    "pipeline_.invoke({\"question\": \"Is it difficult to fine-tune BERT?\"})"
   ]
  },
  {
   "cell_type": "code",
   "execution_count": null,
   "id": "c42b7276-12ed-4414-911a-c4b0ba0dbab4",
   "metadata": {},
   "outputs": [],
   "source": [
    "pipeline_ = RunnablePassthrough.assign(context=itemgetter('question')|retriever)|chatbot_prompt_fn|model|StrOutputParser()"
   ]
  },
  {
   "cell_type": "code",
   "execution_count": null,
   "id": "aab89047-cf88-40be-9d88-7f804145bf74",
   "metadata": {},
   "outputs": [],
   "source": [
    "pipeline_.invoke({\"question\": \"Is it difficult to fine-tune BERT?\"})"
   ]
  },
  {
   "cell_type": "markdown",
   "id": "9f0c6e19-c233-432f-bc33-82ef3907df4f",
   "metadata": {},
   "source": [
    "## Translation Template"
   ]
  },
  {
   "cell_type": "code",
   "execution_count": null,
   "id": "9e97c917-9e88-4a53-9073-76c03d75b764",
   "metadata": {},
   "outputs": [],
   "source": [
    "from langchain_core.runnables import chain\n",
    "\n",
    "@chain\n",
    "def translation_function(text):\n",
    "\n",
    "    \"\"\"\n",
    "    翻譯\n",
    "    直接將給予內容text翻譯成繁體中文\n",
    "    \"\"\"\n",
    "    \n",
    "    system_template = \"\"\"\n",
    "                      You are a helpful AI assistant with native speaker \n",
    "                      fluency in both English and traditional Chinese \n",
    "                      (繁體中文). You will translate the given content into traditional Chinese \n",
    "                      (繁體中文).\n",
    "                      \"\"\"\n",
    "\n",
    "    human_template = \"\"\"\n",
    "                     {query}\n",
    "                     \"\"\"\n",
    "\n",
    "    input_ = {\"system\": {\"template\": system_template},\n",
    "              \"human\": {\"template\": human_template,\n",
    "                        \"input_variable\": [\"query\"]}}\n",
    "    \n",
    "    prompt_template = build_standard_chat_prompt_template(input_)\n",
    "\n",
    "    return prompt_template"
   ]
  },
  {
   "cell_type": "code",
   "execution_count": null,
   "id": "ee204f8e-8f5a-48f9-957c-61dbc7e68456",
   "metadata": {},
   "outputs": [],
   "source": [
    "step_1 = RunnablePassthrough.assign(context=itemgetter('question')|retriever)\n",
    "\n",
    "step_2 = step_1|chatbot_prompt_fn|model|StrOutputParser()"
   ]
  },
  {
   "cell_type": "code",
   "execution_count": null,
   "id": "3099436a-5446-441c-b029-05c4cca634c6",
   "metadata": {},
   "outputs": [],
   "source": [
    "pipeline_ = {\"query\": step_2}|translation_function|model|StrOutputParser()"
   ]
  },
  {
   "cell_type": "code",
   "execution_count": null,
   "id": "68d6a5c6-11b5-4a6b-9551-badbbe1d7520",
   "metadata": {},
   "outputs": [],
   "source": [
    "pipeline_.invoke({\"question\": \"Is it difficult to fine-tune BERT?\"})"
   ]
  },
  {
   "cell_type": "markdown",
   "id": "77a84124-4603-4937-ae18-e8fbc3af4cc9",
   "metadata": {},
   "source": [
    "## Coding with LLM\n",
    "\n",
    "Experience phase"
   ]
  },
  {
   "cell_type": "code",
   "execution_count": null,
   "id": "3f70cb53-9c4b-426d-99aa-a041dd7c8f80",
   "metadata": {},
   "outputs": [],
   "source": [
    "from langchain_core.output_parsers import StrOutputParser\n",
    "\n",
    "\n",
    "# I created this last week after the session\n",
    "def build_standard_chat_prompt_template(kwargs):\n",
    "\n",
    "    system_content = kwargs['system']\n",
    "    human_content = kwargs['human']\n",
    "    \n",
    "    system_prompt = PromptTemplate(**system_content)\n",
    "    system_message = SystemMessagePromptTemplate(prompt=system_prompt)\n",
    "    \n",
    "    human_prompt = PromptTemplate(**human_content)\n",
    "    human_message = HumanMessagePromptTemplate(prompt=human_prompt)\n",
    "    \n",
    "    chat_prompt = ChatPromptTemplate.from_messages([system_message,\n",
    "                                                     human_message\n",
    "                                                   ])\n",
    "\n",
    "    return chat_prompt\n",
    "\n",
    "\n",
    "system_template = (\n",
    "    \"You are a highly skilled Python developer. Your task is to generate Python code strictly based on the user's instructions.\\n\"\n",
    "    \"Leverage statistical and mathematical libraries such as `statsmodels`, `scipy`, and `numpy` where appropriate to solve the problem.\\n\"\n",
    "    \"Your response must contain only the Python code — no explanations, comments, or additional text.\\n\\n\"\n",
    "    \"Code:\"\n",
    ")\n",
    "\n",
    "human_template = '{query}'\n",
    "\n",
    "\n",
    "input_ = {\"system\": {\"template\": system_template},\n",
    "          \"human\": {\"template\": human_template,\n",
    "                    \"input_variable\": [\"query\"]}}\n",
    "\n",
    "chat_prompt = build_standard_chat_prompt_template(input_)\n",
    "\n",
    "code_pipeline = chat_prompt|model|StrOutputParser()"
   ]
  },
  {
   "cell_type": "code",
   "execution_count": null,
   "id": "0dbc9ea9-79fc-4175-a7f7-3d73db8c0879",
   "metadata": {},
   "outputs": [],
   "source": [
    "code = code_pipeline.invoke({\"query\": \"Calculate the area of a circile with radius 3.8976\"})"
   ]
  },
  {
   "cell_type": "code",
   "execution_count": null,
   "id": "69ef6a1e-c69c-4cda-b459-166dc4bb6e19",
   "metadata": {},
   "outputs": [],
   "source": [
    "print(code)"
   ]
  },
  {
   "cell_type": "code",
   "execution_count": null,
   "id": "3002919a-25d2-48e1-ae57-d6f660a75720",
   "metadata": {},
   "outputs": [],
   "source": [
    "import re\n",
    "\n",
    "match = re.findall(r\"python\\n(.*?)\\n```\", code, re.DOTALL)\n",
    "python_code = match[0]\n",
    "\n",
    "exec(python_code)"
   ]
  },
  {
   "cell_type": "markdown",
   "id": "29b7aeaa-73e0-46f6-ab33-6fb4169d7922",
   "metadata": {},
   "source": [
    "It can run. But how to extract the result generated from the code?"
   ]
  },
  {
   "cell_type": "markdown",
   "id": "9be55232-b794-4f39-9bbd-42a625f39906",
   "metadata": {},
   "source": [
    "### ✅ `exec(...)`\n",
    "\n",
    "- `exec()` runs the code you give it **as if it was a Python script**.\n",
    "- It does **not return values**; it just executes statements (like `import`, assignments, function definitions, etc.).\n",
    "\n",
    "---\n",
    "\n",
    "### ✅ `{}` — the *global namespace*\n",
    "\n",
    "- An **empty dictionary** is passed as the *global namespace*.\n",
    "- This isolates the execution from your actual global scope, which is **good for sandboxing** and avoiding side effects.\n",
    "\n",
    "---\n",
    "\n",
    "### ✅ `local_vars` — the *local namespace*\n",
    "\n",
    "- This dictionary collects all **local variables** defined during execution.\n",
    "- After the code runs, `local_vars` will contain all the variables and their values.\n",
    "\n",
    "```python\n",
    "{\n",
    "  'np': <module 'numpy'...>,\n",
    "  'radius': 3.8976,\n",
    "  'area': 47.73155744152567\n",
    "}"
   ]
  },
  {
   "cell_type": "code",
   "execution_count": null,
   "id": "1ae8ff1a-f9eb-4b37-8105-9736989fad0c",
   "metadata": {},
   "outputs": [],
   "source": [
    "python_code"
   ]
  },
  {
   "cell_type": "code",
   "execution_count": null,
   "id": "e79549ba-c6f2-43c9-87d4-3f3a6e36b470",
   "metadata": {},
   "outputs": [],
   "source": [
    "lines = python_code.strip().split('\\n')\n",
    "*stmts, last_line = lines"
   ]
  },
  {
   "cell_type": "code",
   "execution_count": null,
   "id": "5aba95f8-d4fe-4246-bbd4-a6d3ef51575c",
   "metadata": {},
   "outputs": [],
   "source": [
    "lines"
   ]
  },
  {
   "cell_type": "code",
   "execution_count": null,
   "id": "96e4bc4d-4a66-40b9-b004-2467a64eae47",
   "metadata": {},
   "outputs": [],
   "source": [
    "local_vars = {}\n",
    "exec('\\n'.join(stmts), {}, local_vars)"
   ]
  },
  {
   "cell_type": "code",
   "execution_count": null,
   "id": "da8bcc6d-cc75-4b8a-9957-dfae60542b88",
   "metadata": {},
   "outputs": [],
   "source": [
    "local_vars"
   ]
  },
  {
   "cell_type": "code",
   "execution_count": null,
   "id": "4be9456b-ad99-4a17-9bb1-0813e483637b",
   "metadata": {},
   "outputs": [],
   "source": [
    "import math\n",
    "\n",
    "math.pi * 3.8976 * 3.8976"
   ]
  },
  {
   "cell_type": "markdown",
   "id": "f01bd704-15fa-4bdd-a40c-1f27a0f8acc2",
   "metadata": {},
   "source": [
    "What if we calculate the area without the code part?"
   ]
  },
  {
   "cell_type": "code",
   "execution_count": null,
   "id": "2dee93fd-89c1-4377-9ba6-21a83709f792",
   "metadata": {},
   "outputs": [],
   "source": [
    "model.invoke(\"Calculate the area of a circile with radius 3.8976\")"
   ]
  },
  {
   "cell_type": "markdown",
   "id": "5a18250f-f2bc-4cea-ba41-0ff329aa2579",
   "metadata": {},
   "source": [
    "### Combine the code generation and code execution in LCEL"
   ]
  },
  {
   "cell_type": "code",
   "execution_count": null,
   "id": "1fdb1749-012a-45e3-b14e-17d07f375dc3",
   "metadata": {},
   "outputs": [],
   "source": [
    "from langchain_core.runnables import chain\n",
    "\n",
    "\n",
    "@chain\n",
    "def code_execution(code):\n",
    "\n",
    "    match = re.findall(r\"python\\n(.*?)\\n```\", code, re.DOTALL)\n",
    "    python_code = match[0]\n",
    "    \n",
    "    lines = python_code.strip().split('\\n')\n",
    "    *stmts, last_line = lines\n",
    "\n",
    "    local_vars = {}\n",
    "    exec('\\n'.join(stmts), {}, local_vars)\n",
    "\n",
    "    return local_vars\n",
    "\n",
    "\n",
    "code_pipeline = chat_prompt|model|StrOutputParser()|code_execution"
   ]
  },
  {
   "cell_type": "code",
   "execution_count": null,
   "id": "50ce4979-e6dc-48f2-bbc3-d8f2c7c30ddc",
   "metadata": {},
   "outputs": [],
   "source": [
    "17 * 33"
   ]
  },
  {
   "cell_type": "code",
   "execution_count": null,
   "id": "a5ecd61c-c78c-4134-833e-a9e4d7d9e374",
   "metadata": {},
   "outputs": [],
   "source": [
    "17 * 7"
   ]
  },
  {
   "cell_type": "code",
   "execution_count": null,
   "id": "bdcf0462-e14a-4ac6-9c99-b63ea69156f5",
   "metadata": {},
   "outputs": [],
   "source": [
    "code_pipeline.invoke(\"What is the GCD of 561 and 119?\")"
   ]
  },
  {
   "cell_type": "code",
   "execution_count": null,
   "id": "ba22bae7-6cf3-4823-b8c7-8b46d1046b88",
   "metadata": {},
   "outputs": [],
   "source": [
    "model.invoke(\"What is the GCD of 561 and 119?\")"
   ]
  },
  {
   "cell_type": "code",
   "execution_count": null,
   "id": "1fe482da-00d1-4119-8bbc-0045638f4564",
   "metadata": {},
   "outputs": [],
   "source": [
    "code_pipeline.invoke(\"What is the area of a triangle, with two sides with length 10 and 5, and the angle between them is 35 degrees?\")"
   ]
  },
  {
   "cell_type": "code",
   "execution_count": null,
   "id": "81b85698-af9f-4ae6-b212-4621be196e3c",
   "metadata": {},
   "outputs": [],
   "source": [
    "import numpy\n",
    "\n",
    "5 * 10 * np.sin(35/180 * math.pi) / 2"
   ]
  },
  {
   "cell_type": "code",
   "execution_count": null,
   "id": "c2e92ea3-3b9c-493a-a965-6eb569e52939",
   "metadata": {},
   "outputs": [],
   "source": [
    "answer = code_pipeline.invoke(\"What is the area of a triangle, with two sides with length 10 and 5, and the angle between them is 35 degrees?\")"
   ]
  },
  {
   "cell_type": "code",
   "execution_count": null,
   "id": "23cf6e6b-6377-44fd-a5e5-ed7559c5da83",
   "metadata": {},
   "outputs": [],
   "source": [
    "answer"
   ]
  },
  {
   "cell_type": "code",
   "execution_count": null,
   "id": "d0de2b56-8084-4ee6-9cdb-8a3d574d1e08",
   "metadata": {},
   "outputs": [],
   "source": [
    "def build_standard_chat_prompt_template(kwargs):\n",
    "\n",
    "    system_content = kwargs.get('system')\n",
    "    human_content = kwargs['human']\n",
    "\n",
    "    if system_content:\n",
    "        system_prompt = PromptTemplate(**system_content)\n",
    "        system_message = SystemMessagePromptTemplate(prompt=system_prompt)\n",
    "    \n",
    "    human_prompt = PromptTemplate(**human_content)\n",
    "    human_message = HumanMessagePromptTemplate(prompt=human_prompt)\n",
    "\n",
    "    if system_content:\n",
    "        chat_prompt = ChatPromptTemplate.from_messages([system_message,\n",
    "                                                         human_message\n",
    "                                                       ])\n",
    "    else:\n",
    "        chat_prompt = ChatPromptTemplate.from_messages([human_message])\n",
    "    \n",
    "    return chat_prompt\n",
    "\n",
    "\n",
    "input_ = {\"human\": {\"template\": \"{task}:\\n{answer}\",\n",
    "                    \"input_variable\": [\"task\", 'answer']}}\n",
    "\n",
    "extraction_prompt = build_standard_chat_prompt_template(input_)\n",
    "\n",
    "extraction_pipeline = extraction_prompt|model"
   ]
  },
  {
   "cell_type": "code",
   "execution_count": null,
   "id": "1125f4ad-561f-461c-9cba-add38809294c",
   "metadata": {},
   "outputs": [],
   "source": [
    "extraction_pipeline.invoke({\"task\": \"What is the area of a triangle, with two sides with length 10 and 5, and the angle between them is 35 degrees?\",\n",
    "                            \"answer\": answer})"
   ]
  },
  {
   "cell_type": "code",
   "execution_count": null,
   "id": "82a65420-12b6-4787-bc9f-9ad9225845aa",
   "metadata": {},
   "outputs": [],
   "source": [
    "class Output(BaseModel):\n",
    "\n",
    "    name: float = Field(description=\"The answer to the question. \")\n",
    "\n",
    "output_parser = PydanticOutputParser(pydantic_object=Output)\n",
    "format_instructions = output_parser.get_format_instructions()\n",
    "\n",
    "\n",
    "input_ = {\"human\": {\"template\": \"{task}:\\n{answer}\\n\\nOutput format instruction: {format_instructions}\",\n",
    "                    \"input_variable\": [\"task\", 'answer'],\n",
    "                    \"partial_variables\": {\"format_instructions\": \n",
    "                                          format_instructions}}}\n",
    "\n",
    "extraction_prompt = build_standard_chat_prompt_template(input_)\n",
    "\n",
    "extraction_pipeline = extraction_prompt|model|output_parser\n",
    "\n",
    "final_answer = extraction_pipeline.invoke({\"task\": \"What is the area of a triangle, with two sides with length 10 and 5, and the angle between them is 35 degrees?\",\n",
    "                                           \"answer\": answer})"
   ]
  },
  {
   "cell_type": "code",
   "execution_count": null,
   "id": "b9471293-55b6-4c8f-a3d8-670946f4661a",
   "metadata": {},
   "outputs": [],
   "source": [
    "final_answer"
   ]
  },
  {
   "cell_type": "code",
   "execution_count": null,
   "id": "77e2d877-085a-417e-8908-242f2933e6ba",
   "metadata": {},
   "outputs": [],
   "source": []
  }
 ],
 "metadata": {
  "kernelspec": {
   "display_name": "Python 3 (ipykernel)",
   "language": "python",
   "name": "python3"
  },
  "language_info": {
   "codemirror_mode": {
    "name": "ipython",
    "version": 3
   },
   "file_extension": ".py",
   "mimetype": "text/x-python",
   "name": "python",
   "nbconvert_exporter": "python",
   "pygments_lexer": "ipython3",
   "version": "3.10.16"
  }
 },
 "nbformat": 4,
 "nbformat_minor": 5
}
