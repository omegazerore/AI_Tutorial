{
 "cells": [
  {
   "cell_type": "markdown",
   "id": "0c26ea83-25c5-4a03-a05a-15a648894c4a",
   "metadata": {},
   "source": [
    "# Semantic Routing\n",
    "\n",
    "## 📘 前言\n",
    "\n",
    "在建立 **RAG（Retrieval-Augmented Generation）** 系統時，我們常需要根據使用者的查詢（query）從龐大的資料中找到最相關的內容。然而，使用者的查詢往往**隱含主題**，並不會明確指出要查哪一類的資訊。  \n",
    "這時，若直接使用語義相似度（semantic similarity）做檢索，可能會得到許多主題不同但語意相近的結果，導致生成答案的品質下降。\n",
    "\n",
    "---\n",
    "\n",
    "## 🐱 範例說明\n",
    "\n",
    "假設使用者輸入：\n",
    "\n",
    "> 「貓尾巴澎起來的原因」\n",
    "\n",
    "直覺上，我們知道這是一個關於「貓」的問題。  \n",
    "但若僅依靠語義相似度檢索，可能同時撈出與「尾巴」或「澎起來」相關、但主題是「狗」或「人」的資料。  \n",
    "這會降低答案的準確性。\n",
    "\n",
    "---\n",
    "\n",
    "## ⚙️ 傳統作法：LLM 主題抽取（LLM-based Routing）\n",
    "\n",
    "一種穩定的作法是讓 **LLM 先判斷查詢的主題**，再依照該主題限制檢索範圍。  \n",
    "例如：\n",
    "\n",
    "1. 使用 LLM 分析 query → 得出主題：「貓」  \n",
    "2. 在資料庫中篩選出主題為「貓」的內容  \n",
    "3. 再進行相似度檢索與答案生成  \n",
    "\n",
    "這種方式的優點是準確且穩定，但缺點是：\n",
    "- 成本高（每次都需呼叫 LLM）\n",
    "- 延遲較長（增加反應時間）\n",
    "\n",
    "---\n",
    "\n",
    "## ⚡ 替代方案：Semantic Routing\n",
    "\n",
    "**Semantic Routing** 是一種不依賴 LLM、只使用 **embedding 向量** 來進行查詢導向（routing）的技術。\n",
    "\n",
    "### 🔍 基本概念\n",
    "\n",
    "1. 為每個主題（例如「貓」、「狗」、「鳥」）建立代表性的向量（embedding）。  \n",
    "2. 將使用者的 query 轉換成向量。  \n",
    "3. 計算 query 與各主題向量的語義相似度。  \n",
    "4. 將 query 導向最相似的主題資料庫或檢索管線。\n",
    "\n",
    "### 🧠 運作流程示意\n",
    "\n",
    "User Query → 向量化 → 比對各主題向量\n",
    "\n",
    "↓\n",
    "\n",
    "判定主題：「貓」\n",
    "\n",
    "↓\n",
    "\n",
    "導向「貓」資料庫檢索\n",
    "\n",
    "---\n",
    "\n",
    "## ⚖️ 優缺點比較\n",
    "\n",
    "| 項目 | LLM-based Routing | Semantic Routing |\n",
    "|------|------------------|------------------|\n",
    "| 方法 | 使用 LLM 判斷主題 | 使用 embedding 相似度判斷主題 |\n",
    "| 成本 | 高（需 LLM 呼叫） | 低（僅向量運算） |\n",
    "| 速度 | 慢 | 快 |\n",
    "| 準確度 | 穩定且準確 | 稍低，可能誤導 |\n",
    "| 適用場景 | 關鍵任務、需高準確度 | 快速路由、大量查詢場景 |\n",
    "\n",
    "---\n",
    "\n",
    "## 🧩 實務建議\n",
    "\n",
    "- 若系統對**準確度要求高**，建議採用 **LLM-based routing** 或混合策略（先 semantic routing，低信心時再 fallback 到 LLM）。  \n",
    "- 若系統需**快速反應、大量處理查詢**，可以優先考慮 **Semantic Routing**。  \n",
    "- 可結合主題向量的動態更新機制，使路由決策更貼近實際語意空間變化。\n",
    "\n",
    "---\n",
    "\n",
    "## 🚀 總結\n",
    "\n",
    "> **Semantic Routing** 是在語義空間中，利用向量相似度決定查詢路徑的一種輕量解法。  \n",
    "> 它能在不呼叫 LLM 的情況下快速進行主題導向檢索，  \n",
    "> 是在成本、速度與穩定性之間取得平衡的重要技術。\n",
    "\n",
    "模板來源\n",
    "- https://medium.com/@shriyansnaik/training-semantic-router-on-custom-data-99667c4e77ca\n",
    "\n",
    "## 先決條件:\n",
    "- 安裝 CMake\n",
    "- 安裝 visual studio:\n",
    "    - https://stackoverflow.com/questions/40504552/how-to-install-visual-c-build-tools\n",
    "    - winget install Microsoft.VisualStudio.2022.BuildTools --force --override \"--wait --passive --add Microsoft.VisualStudio.Component.VC.Tools.x86.x64 --add Microsoft.VisualStudio.Component.Windows11SDK.22621"
   ]
  },
  {
   "cell_type": "code",
   "execution_count": null,
   "id": "35da865a-71ec-432d-bc75-ab26f1e287ba",
   "metadata": {},
   "outputs": [],
   "source": [
    "!pip install langchain_openai semantic-router>=0.1.6 semantic-router[local]"
   ]
  },
  {
   "cell_type": "markdown",
   "id": "cac5e0fd-02a6-456a-975f-4bc53bb0d453",
   "metadata": {},
   "source": [
    "其實是不需要 langchain_openai。這跟src.initialization模板的設計有關"
   ]
  },
  {
   "cell_type": "code",
   "execution_count": null,
   "id": "3e78cb76-3d9e-4bf6-b5e7-134fb4d39d19",
   "metadata": {},
   "outputs": [],
   "source": [
    "import os\n",
    "\n",
    "os.chdir(\"../../../\")"
   ]
  },
  {
   "cell_type": "code",
   "execution_count": null,
   "id": "3fcc204c-e919-44be-a4ec-a22a2be52862",
   "metadata": {},
   "outputs": [],
   "source": [
    "from collections import defaultdict\n",
    "\n",
    "import numpy as np\n",
    "from semantic_router import Route\n",
    "from semantic_router.encoders import HuggingFaceEncoder\n",
    "from semantic_router.routers import SemanticRouter\n",
    "\n",
    "from src.initialization import credential_init\n",
    "\n",
    "\n",
    "credential_init()\n",
    "\n",
    "mathematics_route = Route(\n",
    "    name=\"mathematics\",\n",
    "    # score_threshold = 0.3  This value can be set to any number between 0 and 1\n",
    "    utterances=[\n",
    "        \"How to multiply 2 numbers?\",\n",
    "        \"Can you solve 3x + 4 = 10?\",\n",
    "        \"What is Pythagoras' theorem?\",\n",
    "    ],\n",
    ")\n",
    "biology_route = Route(\n",
    "    name=\"biology\",\n",
    "    utterances=[\n",
    "        \"What is the function of the mitochondria?\",\n",
    "        \"What is DNA replication?\",\n",
    "        \"What are the stages of cell division?\",\n",
    "    ],\n",
    ")\n",
    "physics_route = Route(\n",
    "    name=\"physics\",\n",
    "    utterances=[\n",
    "        \"What is Newton's first law of motion?\",\n",
    "        \"How does a prism separate light?\",\n",
    "        \"What is quantum entanglement?\",\n",
    "    ],\n",
    ")\n",
    "chitchat_route = Route(\n",
    "    name=\"chitchat\",\n",
    "    utterances=[\n",
    "        \"What's your favorite movie?\",\n",
    "        \"Have you been to any good restaurants lately?\",\n",
    "        \"What kind of music do you listen to?\",\n",
    "    ],\n",
    ")\n",
    "\n",
    "routes = [mathematics_route, biology_route, physics_route, chitchat_route]"
   ]
  },
  {
   "cell_type": "code",
   "execution_count": null,
   "id": "61bff160-1c63-463d-99ae-8c3bdf73a1c2",
   "metadata": {
    "scrolled": true
   },
   "outputs": [],
   "source": [
    "test_data = [\n",
    "    (\"What is the formula for calculating velocity?\", \"physics\"),\n",
    "    (\"Can you explain photosynthesis?\", \"biology\"),\n",
    "    (\"Derivative of 3x+5?\", \"mathematics\"),\n",
    "    (\"Have you been to any good restaurants lately?\", \"chitchat\"),\n",
    "    (\"What is the capital of France?\", None),\n",
    "    (\"How does a prism separate light?\", \"physics\"),\n",
    "    (\"What are the stages of cell division?\", \"biology\"),\n",
    "    (\"Integrate 6x+10?\", \"mathematics\"),\n",
    "    (\"Do you like pizza or burgers?\", \"chitchat\"),\n",
    "    (\"Can you help me with my computer?\", None)\n",
    "]"
   ]
  },
  {
   "cell_type": "markdown",
   "id": "11f6b89a-a9a6-40ec-bad6-824495a3a69a",
   "metadata": {},
   "source": [
    "## 定義模型"
   ]
  },
  {
   "cell_type": "code",
   "execution_count": null,
   "id": "370e716d-2be0-46d1-8d68-a2fc8120c34b",
   "metadata": {},
   "outputs": [],
   "source": [
    "encoder = HuggingFaceEncoder(name=\"BAAI/bge-m3\", \n",
    "                             huggingface_api_key=os.environ['HuggingFace_API_KEY'])\n",
    "\n",
    "semantic_router = SemanticRouter(encoder=encoder, routes=routes, auto_sync=\"local\")"
   ]
  },
  {
   "cell_type": "markdown",
   "id": "0d025eb4-8d33-4f75-bcdd-49f5ded712f2",
   "metadata": {},
   "source": [
    "### 分類"
   ]
  },
  {
   "cell_type": "code",
   "execution_count": null,
   "id": "46b2fc73-f703-48f8-a137-f812c92b4d98",
   "metadata": {},
   "outputs": [],
   "source": [
    "semantic_router(\"What is the formula for calculating velocity?\")"
   ]
  },
  {
   "cell_type": "code",
   "execution_count": null,
   "id": "09194739-f150-4554-8892-560461cb862f",
   "metadata": {},
   "outputs": [],
   "source": [
    "## 使用 limit控制返回的類別數量\n",
    "\n",
    "semantic_router(\"What is the formula for calculating velocity?\", limit=2)"
   ]
  },
  {
   "cell_type": "markdown",
   "id": "23b0ffda-1618-43c1-9ec7-6590234466a9",
   "metadata": {},
   "source": [
    "### 衡量模型表現"
   ]
  },
  {
   "cell_type": "code",
   "execution_count": null,
   "id": "0163ee88-d791-4415-ac97-5d33349660d1",
   "metadata": {},
   "outputs": [],
   "source": [
    "X_eval, y_eval = zip(*test_data)\n",
    "accuracy = semantic_router.evaluate(X=X_eval, y=y_eval)\n",
    "print(f'Accuracy: {accuracy}')"
   ]
  },
  {
   "cell_type": "markdown",
   "id": "5d75791b-d4d5-4bdf-8ae8-2c1be62815e9",
   "metadata": {},
   "source": [
    "## 訓練用數據\n",
    "\n",
    "訓練用數據主要適用於微調 threshold"
   ]
  },
  {
   "cell_type": "code",
   "execution_count": null,
   "id": "e6aa4fe8-2ac7-4734-82e0-52dc01527aea",
   "metadata": {},
   "outputs": [],
   "source": [
    "semantic_router.get_thresholds()"
   ]
  },
  {
   "cell_type": "code",
   "execution_count": null,
   "id": "f623d6ca-d2bb-417b-a4c3-d5eab0973b7a",
   "metadata": {},
   "outputs": [],
   "source": [
    "training_data = [\n",
    "    # Mathematics\n",
    "    (\"What is 2 plus 2?\", \"mathematics\"),\n",
    "    (\"Can you solve 3x + 4 = 10?\", \"mathematics\"),\n",
    "    (\"What is the square root of 16?\", \"mathematics\"),\n",
    "    (\"How do you find the area of a circle?\", \"mathematics\"),\n",
    "    (\"What is Pythagoras' theorem?\", \"mathematics\"),\n",
    "    (\"Solve for x: 2x - 5 = 7\", \"mathematics\"),\n",
    "    (\"What is 7 multiplied by 8?\", \"mathematics\"),\n",
    "    (\"Explain the quadratic formula.\", \"mathematics\"),\n",
    "    (\"What is the value of pi?\", \"mathematics\"),\n",
    "    (\"How do you calculate the volume of a cylinder?\", \"mathematics\"),\n",
    "    # Biology\n",
    "    (\"What is the function of the mitochondria?\", \"biology\"),\n",
    "    (\"Can you explain photosynthesis?\", \"biology\"),\n",
    "    (\"What are the stages of cell division?\", \"biology\"),\n",
    "    (\"What is DNA replication?\", \"biology\"),\n",
    "    (\"How do plants make their food?\", \"biology\"),\n",
    "    (\"What is cellular respiration?\", \"biology\"),\n",
    "    (\"Can you describe the process of evolution?\", \"biology\"),\n",
    "    (\"What are enzymes and what do they do?\", \"biology\"),\n",
    "    (\"What is the difference between prokaryotic and eukaryotic cells?\", \"biology\"),\n",
    "    (\"How do vaccines work?\", \"biology\"),\n",
    "    # Physics\n",
    "    (\"What is Newton's first law of motion?\", \"physics\"),\n",
    "    (\"How does a prism separate light?\", \"physics\"),\n",
    "    (\"What is the formula for calculating velocity?\", \"physics\"),\n",
    "    (\"Can you explain the theory of relativity?\", \"physics\"),\n",
    "    (\"What is quantum entanglement?\", \"physics\"),\n",
    "    (\"Explain the concept of inertia.\", \"physics\"),\n",
    "    (\"What is the speed of light?\", \"physics\"),\n",
    "    (\"How does a pendulum work?\", \"physics\"),\n",
    "    (\"What is gravitational force?\", \"physics\"),\n",
    "    (\"Describe the laws of thermodynamics.\", \"physics\"),\n",
    "    # Chitchat\n",
    "    (\"What's your favorite movie?\", \"chitchat\"),\n",
    "    (\"Do you like pizza or burgers?\", \"chitchat\"),\n",
    "    (\"Have you been to any good restaurants lately?\", \"chitchat\"),\n",
    "    (\"What kind of music do you listen to?\", \"chitchat\"),\n",
    "    (\"Tell me a joke!\", \"chitchat\"),\n",
    "    (\"What's your favorite book?\", \"chitchat\"),\n",
    "    (\"Do you have any hobbies?\", \"chitchat\"),\n",
    "    (\"What's the most interesting place you've visited?\", \"chitchat\"),\n",
    "    (\"What did you do over the weekend?\", \"chitchat\"),\n",
    "    (\"Have you seen any good movies recently?\", \"chitchat\"),\n",
    "    # None\n",
    "    (\"What time is the meeting scheduled for?\", None),\n",
    "    (\"Who all are invited to the party?\", None)\n",
    "]"
   ]
  },
  {
   "cell_type": "code",
   "execution_count": null,
   "id": "7793a24c-2118-4370-bb40-6bb187e17a55",
   "metadata": {},
   "outputs": [],
   "source": [
    "X_train, y_train = zip(*training_data)\n",
    "\n",
    "semantic_router.fit(X=X_train, y=y_train)"
   ]
  },
  {
   "cell_type": "code",
   "execution_count": null,
   "id": "337beee3-30b3-4a19-a573-339c1b8301ab",
   "metadata": {},
   "outputs": [],
   "source": [
    "semantic_router.get_thresholds()"
   ]
  },
  {
   "cell_type": "markdown",
   "id": "ca89a128-aed6-4e08-b2b4-4715d8450d39",
   "metadata": {},
   "source": [
    "## Update semantic_router"
   ]
  },
  {
   "cell_type": "code",
   "execution_count": null,
   "id": "6d95f26d-719b-47de-8e2f-ae15f6c9ba22",
   "metadata": {},
   "outputs": [],
   "source": [
    "thresholds = semantic_router.get_thresholds()"
   ]
  },
  {
   "cell_type": "code",
   "execution_count": null,
   "id": "e0bb8a9f-544b-421a-b11c-66c174f45c25",
   "metadata": {},
   "outputs": [],
   "source": [
    "semantic_router.routes"
   ]
  },
  {
   "cell_type": "code",
   "execution_count": null,
   "id": "c8bb20a7-0e7d-45bc-a185-d0d4bd05df56",
   "metadata": {},
   "outputs": [],
   "source": [
    "semantic_router.routes[0].utterances"
   ]
  },
  {
   "cell_type": "code",
   "execution_count": null,
   "id": "49e3bf87-1d6e-42e4-8f04-43f715082ca6",
   "metadata": {},
   "outputs": [],
   "source": [
    "utternace_updated = defaultdict(list)\n",
    "\n",
    "# The utterances in original router\n",
    "for route in semantic_router.routes:\n",
    "    utternace_updated[route.name] = route.utterances\n",
    "\n",
    "# Append training data into the new utterances\n",
    "for row in training_data:\n",
    "    if row[1] in utternace_updated:\n",
    "        utternace_updated[row[1]].append(row[0])"
   ]
  },
  {
   "cell_type": "code",
   "execution_count": null,
   "id": "2de41fcc-4112-4757-a593-769dafc3b632",
   "metadata": {},
   "outputs": [],
   "source": [
    "routes = [Route(name=category, utterances=utterances, score_=thresholds[category]) for category, utterances in utternace_updated.items()]"
   ]
  },
  {
   "cell_type": "code",
   "execution_count": null,
   "id": "0b8366bd-a6c0-44a1-8588-5a689c77c4a6",
   "metadata": {},
   "outputs": [],
   "source": [
    "semantic_router = SemanticRouter(encoder=encoder, routes=routes, auto_sync=\"local\")"
   ]
  },
  {
   "cell_type": "code",
   "execution_count": null,
   "id": "d59c90ac-fd04-4038-841c-6f7d3779cc6f",
   "metadata": {},
   "outputs": [],
   "source": [
    "accuracy = semantic_router.evaluate(X=X_eval, y=y_eval)\n",
    "print(f'Accuracy: {accuracy}')"
   ]
  },
  {
   "cell_type": "markdown",
   "id": "43db8aee-6f7e-48ba-99a2-ffd4fed96ae5",
   "metadata": {},
   "source": [
    "# Hybrid Router\n",
    "\n",
    "除了 semantic encoder, 我們加入 sparse encoder 來抓取特定關鍵字。因為語意不會因為特定的物品被置換而有太大的改變，但你很有可能會因此無法得到你要的內容。\n",
    "可以參考第一周的Ensemble Retriever。背後的原理是一樣的。 \n",
    "\n",
    "Sparse Encoder (BM25之類的演算法) 可能對於物品和品牌之類的搜索比較有用，因為這像是在抓取關鍵字\n",
    "\n",
    "This is the place where you need the Aurelio API Key\n",
    "Here is a $5 promotion code: JBCODEAGENT"
   ]
  },
  {
   "cell_type": "code",
   "execution_count": null,
   "id": "ce1719d8-cd95-41dd-a3a1-4f0a9c21c893",
   "metadata": {},
   "outputs": [],
   "source": [
    "from semantic_router.encoders.aurelio import AurelioSparseEncoder\n",
    "from semantic_router.routers import HybridRouter\n",
    "\n",
    "mathematics_route = Route(\n",
    "    name=\"mathematics\",\n",
    "    # score_threshold = 0.3  This value can be set to any number between 0 and 1\n",
    "    utterances=[\n",
    "        \"How to multiply 2 numbers?\",\n",
    "        \"Can you solve 3x + 4 = 10?\",\n",
    "        \"What is Pythagoras' theorem?\",\n",
    "    ],\n",
    ")\n",
    "biology_route = Route(\n",
    "    name=\"biology\",\n",
    "    utterances=[\n",
    "        \"What is the function of the mitochondria?\",\n",
    "        \"What is DNA replication?\",\n",
    "        \"What are the stages of cell division?\",\n",
    "    ],\n",
    ")\n",
    "physics_route = Route(\n",
    "    name=\"physics\",\n",
    "    utterances=[\n",
    "        \"What is Newton's first law of motion?\",\n",
    "        \"How does a prism separate light?\",\n",
    "        \"What is quantum entanglement?\",\n",
    "    ],\n",
    ")\n",
    "chitchat_route = Route(\n",
    "    name=\"chitchat\",\n",
    "    utterances=[\n",
    "        \"What's your favorite movie?\",\n",
    "        \"Have you been to any good restaurants lately?\",\n",
    "        \"What kind of music do you listen to?\",\n",
    "    ],\n",
    ")\n",
    "\n",
    "routes = [mathematics_route, biology_route, physics_route, chitchat_route]\n",
    "\n",
    "sparse_encoder = AurelioSparseEncoder(name=\"bm25\")\n",
    "\n",
    "hybrid_router = HybridRouter(\n",
    "    encoder=encoder, sparse_encoder=sparse_encoder, routes=routes, auto_sync=\"local\"\n",
    ")"
   ]
  },
  {
   "cell_type": "code",
   "execution_count": null,
   "id": "5bee5573-96f9-4536-88d3-fd91170f7d27",
   "metadata": {},
   "outputs": [],
   "source": [
    "accuracy = hybrid_router.evaluate(X=X_eval, y=y_eval)\n",
    "print(f'Accuracy: {accuracy}')"
   ]
  },
  {
   "cell_type": "code",
   "execution_count": null,
   "id": "f82f6fea-bcdd-481b-96fd-b39e78b03898",
   "metadata": {},
   "outputs": [],
   "source": [
    "hybrid_router.fit(X=X_train, y=y_train)"
   ]
  },
  {
   "cell_type": "code",
   "execution_count": null,
   "id": "22700a86-be6a-4ff2-98b6-fac5c598c5c1",
   "metadata": {},
   "outputs": [],
   "source": [
    "hybrid_router.get_thresholds()"
   ]
  },
  {
   "cell_type": "code",
   "execution_count": null,
   "id": "da2320b0-db40-4606-83af-08e02179a387",
   "metadata": {},
   "outputs": [],
   "source": [
    "routes = [Route(name=category, utterances=utterances, score_=thresholds[category]) for category, utterances in utternace_updated.items()]"
   ]
  },
  {
   "cell_type": "code",
   "execution_count": null,
   "id": "2f506312-44fb-4586-9332-738756c8fc12",
   "metadata": {},
   "outputs": [],
   "source": [
    "hybrid_router = HybridRouter(\n",
    "    encoder=encoder, sparse_encoder=sparse_encoder, routes=routes, auto_sync=\"local\"\n",
    ")"
   ]
  },
  {
   "cell_type": "code",
   "execution_count": null,
   "id": "22f5943e-8c80-40be-9588-1cf2e0622794",
   "metadata": {},
   "outputs": [],
   "source": [
    "accuracy = hybrid_router.evaluate(X=X_eval, y=y_eval)\n",
    "print(f'Accuracy: {accuracy}')"
   ]
  },
  {
   "cell_type": "code",
   "execution_count": null,
   "id": "a3e7371e-f288-4631-b358-bdf7056a9a98",
   "metadata": {},
   "outputs": [],
   "source": []
  }
 ],
 "metadata": {
  "kernelspec": {
   "display_name": "Python 3 (ipykernel)",
   "language": "python",
   "name": "python3"
  },
  "language_info": {
   "codemirror_mode": {
    "name": "ipython",
    "version": 3
   },
   "file_extension": ".py",
   "mimetype": "text/x-python",
   "name": "python",
   "nbconvert_exporter": "python",
   "pygments_lexer": "ipython3",
   "version": "3.10.19"
  }
 },
 "nbformat": 4,
 "nbformat_minor": 5
}
