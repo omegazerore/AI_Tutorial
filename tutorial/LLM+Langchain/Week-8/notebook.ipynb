{
 "cells": [
  {
   "cell_type": "markdown",
   "id": "1cd5f1f4-81a7-4ffb-a0e9-787048185a4e",
   "metadata": {},
   "source": [
    "# GPT-Image-1\n",
    "\n",
    "The latest image generation model released by OpenAI. Therefore we will work with this.\n",
    "\n",
    "Please update your 'openai' package to 1.76.0 to see the latest documentation"
   ]
  },
  {
   "cell_type": "code",
   "execution_count": 1,
   "id": "8bdb24ce-0f79-4abb-8793-169215c36fe0",
   "metadata": {
    "tags": []
   },
   "outputs": [],
   "source": [
    "import os\n",
    "\n",
    "os.chdir(\"../../../\")"
   ]
  },
  {
   "cell_type": "code",
   "execution_count": 2,
   "id": "2e2aab6e-5789-4e2a-b4d0-5919f9f0e29b",
   "metadata": {
    "tags": []
   },
   "outputs": [],
   "source": [
    "from langchain_openai import ChatOpenAI\n",
    "\n",
    "from src.initialization import credential_init\n",
    "\n",
    "\n",
    "credential_init()\n",
    "\n",
    "model = ChatOpenAI(openai_api_key=os.environ['OPENAI_API_KEY'],\n",
    "                   model_name=\"gpt-4o-2024-05-13\", temperature=0)"
   ]
  },
  {
   "cell_type": "markdown",
   "id": "f3a19029-f2df-49f9-9596-0c0a52149c2f",
   "metadata": {},
   "source": [
    "### OpenAI Image API Parameters:\n",
    "\n",
    "https://platform.openai.com/docs/guides/image-generation?image-generation-model=gpt-image-1\n",
    "https://cookbook.openai.com/examples/generate_images_with_gpt_image\n",
    "\n",
    "<!-- - model: dall-e-3\n",
    "- size (str): 1024x1024, 1024x1792, 1792x1024\n",
    "- quality: hd, standard\n",
    "- style: vivid, natural. Default vivid -->"
   ]
  },
  {
   "cell_type": "markdown",
   "id": "bea61b62-2b05-4c32-a677-7fc7205eae70",
   "metadata": {},
   "source": [
    "- model: gpt-image-1\n",
    "    - size (str): 1024x1024 (square), 1536x1024 (landscape), 1024x1536 (portrait) or auto (default)\n",
    "    - quality: low, medium, high or auto\n",
    "    - moderation: auto, low"
   ]
  },
  {
   "cell_type": "code",
   "execution_count": 3,
   "id": "da908a85-5203-43cc-8241-76eba5cc578c",
   "metadata": {
    "tags": []
   },
   "outputs": [],
   "source": [
    "from openai import OpenAI\n",
    "\n",
    "prompt = (\"A Sumi-e style watercolor painting of mountains during sunset. The sky is depicted with bold \"\n",
    "          \"splashes of orange, pink, and purple hues, blending and overlapping in a dynamic composition. \"\n",
    "          \"The mountains are represented with expressive brushstrokes, emphasizing their majestic and serene \"\n",
    "          \"presence. The focus is on capturing the essence and mood of the scene rather than detailed realism. \"\n",
    "          \"The overall effect is serene and contemplative, with a harmonious balance of color and form.\")\n",
    "\n",
    "client = OpenAI()\n",
    "\n",
    "response = client.images.generate(\n",
    "    model=\"gpt-image-1\",\n",
    "    prompt=prompt,\n",
    "    size=\"1024x1024\",\n",
    "    # quality=\"hd\",\n",
    "    quality='high',\n",
    "    n=1,\n",
    "    # response_format = 'b64_json'\n",
    ")\n",
    "\n",
    "image_base64 = response.data[0].b64_json"
   ]
  },
  {
   "cell_type": "code",
   "execution_count": 4,
   "id": "a1d31f11-6edf-4d0c-90cd-ca1de4d5e4a9",
   "metadata": {},
   "outputs": [
    {
     "data": {
      "text/plain": [
       "\u001b[1;31mSignature:\u001b[0m\n",
       "\u001b[0mclient\u001b[0m\u001b[1;33m.\u001b[0m\u001b[0mimages\u001b[0m\u001b[1;33m.\u001b[0m\u001b[0mgenerate\u001b[0m\u001b[1;33m(\u001b[0m\u001b[1;33m\n",
       "\u001b[0m    \u001b[1;33m*\u001b[0m\u001b[1;33m,\u001b[0m\u001b[1;33m\n",
       "\u001b[0m    \u001b[0mprompt\u001b[0m\u001b[1;33m:\u001b[0m \u001b[1;34m'str'\u001b[0m\u001b[1;33m,\u001b[0m\u001b[1;33m\n",
       "\u001b[0m    \u001b[0mbackground\u001b[0m\u001b[1;33m:\u001b[0m \u001b[1;34m\"Optional[Literal['transparent', 'opaque', 'auto']] | NotGiven\"\u001b[0m \u001b[1;33m=\u001b[0m \u001b[0mNOT_GIVEN\u001b[0m\u001b[1;33m,\u001b[0m\u001b[1;33m\n",
       "\u001b[0m    \u001b[0mmodel\u001b[0m\u001b[1;33m:\u001b[0m \u001b[1;34m'Union[str, ImageModel, None] | NotGiven'\u001b[0m \u001b[1;33m=\u001b[0m \u001b[0mNOT_GIVEN\u001b[0m\u001b[1;33m,\u001b[0m\u001b[1;33m\n",
       "\u001b[0m    \u001b[0mmoderation\u001b[0m\u001b[1;33m:\u001b[0m \u001b[1;34m\"Optional[Literal['low', 'auto']] | NotGiven\"\u001b[0m \u001b[1;33m=\u001b[0m \u001b[0mNOT_GIVEN\u001b[0m\u001b[1;33m,\u001b[0m\u001b[1;33m\n",
       "\u001b[0m    \u001b[0mn\u001b[0m\u001b[1;33m:\u001b[0m \u001b[1;34m'Optional[int] | NotGiven'\u001b[0m \u001b[1;33m=\u001b[0m \u001b[0mNOT_GIVEN\u001b[0m\u001b[1;33m,\u001b[0m\u001b[1;33m\n",
       "\u001b[0m    \u001b[0moutput_compression\u001b[0m\u001b[1;33m:\u001b[0m \u001b[1;34m'Optional[int] | NotGiven'\u001b[0m \u001b[1;33m=\u001b[0m \u001b[0mNOT_GIVEN\u001b[0m\u001b[1;33m,\u001b[0m\u001b[1;33m\n",
       "\u001b[0m    \u001b[0moutput_format\u001b[0m\u001b[1;33m:\u001b[0m \u001b[1;34m\"Optional[Literal['png', 'jpeg', 'webp']] | NotGiven\"\u001b[0m \u001b[1;33m=\u001b[0m \u001b[0mNOT_GIVEN\u001b[0m\u001b[1;33m,\u001b[0m\u001b[1;33m\n",
       "\u001b[0m    \u001b[0mquality\u001b[0m\u001b[1;33m:\u001b[0m \u001b[1;34m\"Optional[Literal['standard', 'hd', 'low', 'medium', 'high', 'auto']] | NotGiven\"\u001b[0m \u001b[1;33m=\u001b[0m \u001b[0mNOT_GIVEN\u001b[0m\u001b[1;33m,\u001b[0m\u001b[1;33m\n",
       "\u001b[0m    \u001b[0mresponse_format\u001b[0m\u001b[1;33m:\u001b[0m \u001b[1;34m\"Optional[Literal['url', 'b64_json']] | NotGiven\"\u001b[0m \u001b[1;33m=\u001b[0m \u001b[0mNOT_GIVEN\u001b[0m\u001b[1;33m,\u001b[0m\u001b[1;33m\n",
       "\u001b[0m    \u001b[0msize\u001b[0m\u001b[1;33m:\u001b[0m \u001b[1;34m\"Optional[Literal['auto', '1024x1024', '1536x1024', '1024x1536', '256x256', '512x512', '1792x1024', '1024x1792']] | NotGiven\"\u001b[0m \u001b[1;33m=\u001b[0m \u001b[0mNOT_GIVEN\u001b[0m\u001b[1;33m,\u001b[0m\u001b[1;33m\n",
       "\u001b[0m    \u001b[0mstyle\u001b[0m\u001b[1;33m:\u001b[0m \u001b[1;34m\"Optional[Literal['vivid', 'natural']] | NotGiven\"\u001b[0m \u001b[1;33m=\u001b[0m \u001b[0mNOT_GIVEN\u001b[0m\u001b[1;33m,\u001b[0m\u001b[1;33m\n",
       "\u001b[0m    \u001b[0muser\u001b[0m\u001b[1;33m:\u001b[0m \u001b[1;34m'str | NotGiven'\u001b[0m \u001b[1;33m=\u001b[0m \u001b[0mNOT_GIVEN\u001b[0m\u001b[1;33m,\u001b[0m\u001b[1;33m\n",
       "\u001b[0m    \u001b[0mextra_headers\u001b[0m\u001b[1;33m:\u001b[0m \u001b[1;34m'Headers | None'\u001b[0m \u001b[1;33m=\u001b[0m \u001b[1;32mNone\u001b[0m\u001b[1;33m,\u001b[0m\u001b[1;33m\n",
       "\u001b[0m    \u001b[0mextra_query\u001b[0m\u001b[1;33m:\u001b[0m \u001b[1;34m'Query | None'\u001b[0m \u001b[1;33m=\u001b[0m \u001b[1;32mNone\u001b[0m\u001b[1;33m,\u001b[0m\u001b[1;33m\n",
       "\u001b[0m    \u001b[0mextra_body\u001b[0m\u001b[1;33m:\u001b[0m \u001b[1;34m'Body | None'\u001b[0m \u001b[1;33m=\u001b[0m \u001b[1;32mNone\u001b[0m\u001b[1;33m,\u001b[0m\u001b[1;33m\n",
       "\u001b[0m    \u001b[0mtimeout\u001b[0m\u001b[1;33m:\u001b[0m \u001b[1;34m'float | httpx.Timeout | None | NotGiven'\u001b[0m \u001b[1;33m=\u001b[0m \u001b[0mNOT_GIVEN\u001b[0m\u001b[1;33m,\u001b[0m\u001b[1;33m\n",
       "\u001b[0m\u001b[1;33m)\u001b[0m \u001b[1;33m->\u001b[0m \u001b[1;34m'ImagesResponse'\u001b[0m\u001b[1;33m\u001b[0m\u001b[1;33m\u001b[0m\u001b[0m\n",
       "\u001b[1;31mDocstring:\u001b[0m\n",
       "Creates an image given a prompt.\n",
       "[Learn more](https://platform.openai.com/docs/guides/images).\n",
       "\n",
       "Args:\n",
       "  prompt: A text description of the desired image(s). The maximum length is 32000\n",
       "      characters for `gpt-image-1`, 1000 characters for `dall-e-2` and 4000 characters\n",
       "      for `dall-e-3`.\n",
       "\n",
       "  background: Allows to set transparency for the background of the generated image(s). This\n",
       "      parameter is only supported for `gpt-image-1`. Must be one of `transparent`,\n",
       "      `opaque` or `auto` (default value). When `auto` is used, the model will\n",
       "      automatically determine the best background for the image.\n",
       "\n",
       "      If `transparent`, the output format needs to support transparency, so it should\n",
       "      be set to either `png` (default value) or `webp`.\n",
       "\n",
       "  model: The model to use for image generation. One of `dall-e-2`, `dall-e-3`, or\n",
       "      `gpt-image-1`. Defaults to `dall-e-2` unless a parameter specific to\n",
       "      `gpt-image-1` is used.\n",
       "\n",
       "  moderation: Control the content-moderation level for images generated by `gpt-image-1`. Must\n",
       "      be either `low` for less restrictive filtering or `auto` (default value).\n",
       "\n",
       "  n: The number of images to generate. Must be between 1 and 10. For `dall-e-3`, only\n",
       "      `n=1` is supported.\n",
       "\n",
       "  output_compression: The compression level (0-100%) for the generated images. This parameter is only\n",
       "      supported for `gpt-image-1` with the `webp` or `jpeg` output formats, and\n",
       "      defaults to 100.\n",
       "\n",
       "  output_format: The format in which the generated images are returned. This parameter is only\n",
       "      supported for `gpt-image-1`. Must be one of `png`, `jpeg`, or `webp`.\n",
       "\n",
       "  quality: The quality of the image that will be generated.\n",
       "\n",
       "      - `auto` (default value) will automatically select the best quality for the\n",
       "        given model.\n",
       "      - `high`, `medium` and `low` are supported for `gpt-image-1`.\n",
       "      - `hd` and `standard` are supported for `dall-e-3`.\n",
       "      - `standard` is the only option for `dall-e-2`.\n",
       "\n",
       "  response_format: The format in which generated images with `dall-e-2` and `dall-e-3` are\n",
       "      returned. Must be one of `url` or `b64_json`. URLs are only valid for 60 minutes\n",
       "      after the image has been generated. This parameter isn't supported for\n",
       "      `gpt-image-1` which will always return base64-encoded images.\n",
       "\n",
       "  size: The size of the generated images. Must be one of `1024x1024`, `1536x1024`\n",
       "      (landscape), `1024x1536` (portrait), or `auto` (default value) for\n",
       "      `gpt-image-1`, one of `256x256`, `512x512`, or `1024x1024` for `dall-e-2`, and\n",
       "      one of `1024x1024`, `1792x1024`, or `1024x1792` for `dall-e-3`.\n",
       "\n",
       "  style: The style of the generated images. This parameter is only supported for\n",
       "      `dall-e-3`. Must be one of `vivid` or `natural`. Vivid causes the model to lean\n",
       "      towards generating hyper-real and dramatic images. Natural causes the model to\n",
       "      produce more natural, less hyper-real looking images.\n",
       "\n",
       "  user: A unique identifier representing your end-user, which can help OpenAI to monitor\n",
       "      and detect abuse.\n",
       "      [Learn more](https://platform.openai.com/docs/guides/safety-best-practices#end-user-ids).\n",
       "\n",
       "  extra_headers: Send extra headers\n",
       "\n",
       "  extra_query: Add additional query parameters to the request\n",
       "\n",
       "  extra_body: Add additional JSON properties to the request\n",
       "\n",
       "  timeout: Override the client-level default timeout for this request, in seconds\n",
       "\u001b[1;31mFile:\u001b[0m      c:\\users\\mengchieh\\miniconda3\\envs\\aicg\\lib\\site-packages\\openai\\resources\\images.py\n",
       "\u001b[1;31mType:\u001b[0m      method"
      ]
     },
     "metadata": {},
     "output_type": "display_data"
    }
   ],
   "source": [
    "client.images.generate?"
   ]
  },
  {
   "cell_type": "markdown",
   "id": "2b255426-c09f-4a61-aaf6-bed8eafe870e",
   "metadata": {},
   "source": [
    "## Save the image in your local computer"
   ]
  },
  {
   "cell_type": "code",
   "execution_count": 5,
   "id": "0d6fc657-7688-47fe-9d2d-e9fd400cb1fa",
   "metadata": {
    "tags": []
   },
   "outputs": [],
   "source": [
    "import base64\n",
    "\n",
    "with open(\"tutorial/LLM+Langchain/Week-8/test.png\", \"wb\") as fh:\n",
    "    fh.write(base64.b64decode(image_base64))"
   ]
  },
  {
   "cell_type": "markdown",
   "id": "935b95d7-b6b3-4a14-9328-a998daee4320",
   "metadata": {},
   "source": [
    "## Two Challenges:\n",
    "\n",
    "### 1. How to create prompt more efficiently? \n",
    "\n",
    "There are two types of prompt: \n",
    "\n",
    "1. Danbooru Tag: masterpiece, best quality, beautiful eyes, clear eyes, detailed eyes, Blue-eyes, 1girl, 20_old, full-body, break, smoking, break, high_color, blue-hair, beauty, black-boots,break, break, Flat vector art, Colorful art, white_shirt, simple_background, blue_background, Ink art, peeking out upper body, Eyes\n",
    "\n",
    "2. Natural language: A Sumi-e style watercolor painting of mountains during sunset. The sky is depicted with bold splashes of orange, pink, and purple hues, blending and overlapping in a dynamic composition. The mountains are represented with expressive brushstrokes,emphasizing their majestic and serene presence. The focus is on capturing the essence and mood of the scene rather than detailed realism. The overall effect is serene and contemplative, with a harmonious balance of color and form.\n",
    "\n",
    "As non-native English speakers, we find the natural language prompt challenging, even for native speakers, due to the inclusion of specialized terminologies and advanced vocabulary.\n",
    "\n",
    "由於涉及專業術語和高級詞彙，我們作為非母語英語使用者，發現這個自然語言提示對我們來說是具有挑戰性的，即使對母語使用者來說也是如此。\n",
    "\n",
    "### 2. How to make it an LCEL?"
   ]
  },
  {
   "cell_type": "markdown",
   "id": "76e4d43a-4fd3-45a7-a51c-ced9cf9902f9",
   "metadata": {},
   "source": [
    "## Some websites for natural language prompt\n",
    "\n",
    "- https://leonardo.ai/: An Image generation SaaS. A lot of works are created with natural language prompt. \n",
    "- https://blog.mlq.ai/dalle-prompts/: Some tutorial about how to come up with a natural language prompt."
   ]
  },
  {
   "cell_type": "code",
   "execution_count": 6,
   "id": "2fdd5054-b78a-4d50-8347-fb63446b0d9e",
   "metadata": {},
   "outputs": [],
   "source": [
    "def build_standard_chat_prompt_template(kwargs):\n",
    "\n",
    "    system_content = kwargs['system']\n",
    "    human_content = kwargs['human']\n",
    "    \n",
    "    system_prompt = PromptTemplate(**system_content)\n",
    "    system_message = SystemMessagePromptTemplate(prompt=system_prompt)\n",
    "    \n",
    "    human_prompt = PromptTemplate(**human_content)\n",
    "    human_message = HumanMessagePromptTemplate(prompt=human_prompt)\n",
    "    \n",
    "    chat_prompt = ChatPromptTemplate.from_messages([system_message,\n",
    "                                                     human_message\n",
    "                                                   ])\n",
    "\n",
    "    return chat_prompt"
   ]
  },
  {
   "cell_type": "markdown",
   "id": "73124c68-8452-4711-a72e-e097f6256d16",
   "metadata": {},
   "source": [
    "### Natural Language Prompt Generation"
   ]
  },
  {
   "cell_type": "code",
   "execution_count": 7,
   "id": "3b6deea0-76c1-4f46-93bd-df0da355877d",
   "metadata": {
    "tags": []
   },
   "outputs": [],
   "source": [
    "from langchain.prompts import PromptTemplate, ChatPromptTemplate, HumanMessagePromptTemplate, SystemMessagePromptTemplate\n",
    "from langchain_core.output_parsers import StrOutputParser\n",
    "\n",
    "\n",
    "system_template = (\"You are a helpful AI assistant and an art expert with extensive knowledge of photography \"\n",
    "                   \"and illustration. You excel at creating breathtaking masterpieces with the DALLE-3 model. \"\n",
    "                   \"For this task, you will be provided with a description of an image, and you will generate a \"\n",
    "                   \"corresponding DALLE-3 prompt. The prompt should be detailed and descriptive, capturing the \"\n",
    "                   \"essence of the image.\")\n",
    "\n",
    "human_template = \"{image_desc}\"\n",
    "\n",
    "input_ = {\"system\": {\"template\": system_template},\n",
    "          \"human\": {\"template\": human_template,\n",
    "                    \"input_variable\": [\"image_desc\"]}}\n",
    "    \n",
    "chat_prompt = build_standard_chat_prompt_template(input_)\n",
    "\n",
    "nl_prompt_generation_chain = chat_prompt | model | StrOutputParser()"
   ]
  },
  {
   "cell_type": "markdown",
   "id": "82110d0e-4ef4-4191-b20e-5f2671dfad92",
   "metadata": {},
   "source": [
    "## We wrap OPENAI API call as a function for the langchain usage "
   ]
  },
  {
   "cell_type": "code",
   "execution_count": 8,
   "id": "b90024c5-67a6-43cf-a64a-757de94ef808",
   "metadata": {
    "tags": []
   },
   "outputs": [],
   "source": [
    "from typing import Dict\n",
    "from langchain_core.runnables import chain\n",
    "\n",
    "\n",
    "def gpt_image_worker(kwargs: Dict):\n",
    "\n",
    "    \"\"\"\n",
    "    Generates an image using OpenAI's GPT-Image-1 model based on the provided prompt and optional parameters.\n",
    "    \n",
    "    Parameters:\n",
    "    kwargs (Dict): A dictionary containing the following keys:\n",
    "        - 'nl_prompt' (str): The natural language prompt describing the image to be generated.\n",
    "        - 'size' (str, optional): The size of the generated image. Default is \"1024x1024\".\n",
    "        - 'quality' (str, optional): The quality of the generated image. Default is \"medium\".\n",
    "    \n",
    "    Returns:\n",
    "    str: image base64 string\n",
    "    \"\"\"\n",
    "    \n",
    "    print(\"Start generating image...\")\n",
    "    print(f\"prompt: {kwargs['nl_prompt']}\")\n",
    "    client = OpenAI()\n",
    "\n",
    "    response = client.images.generate(\n",
    "        model=\"gpt-image-1\",\n",
    "        prompt=kwargs['nl_prompt'],\n",
    "        size=kwargs.get(\"size\", \"1024x1024\"),\n",
    "        quality=kwargs.get('quality', 'medium'),\n",
    "        moderation=kwargs.get('moderation', 'auto'),\n",
    "        n=1)\n",
    "\n",
    "    image_base64 = response.data[0].b64_json\n",
    "\n",
    "    print(\"Image is generated succesfully.\")\n",
    "    \n",
    "    return image_base64\n",
    "\n",
    "@chain\n",
    "def base64_to_file(kwargs):\n",
    "\n",
    "    \"\"\"\n",
    "    Save the image from a base64 string\n",
    "    \"\"\"\n",
    "    \n",
    "    image_base64 = kwargs['image_base64']\n",
    "    filename = kwargs['filename']\n",
    "    \n",
    "    with open(f\"{filename}\", \"wb\") as fh:\n",
    "        fh.write(base64.b64decode(image_base64))\n",
    "    "
   ]
  },
  {
   "cell_type": "code",
   "execution_count": 9,
   "id": "af60ca67-f323-49d6-a154-63c190060199",
   "metadata": {
    "tags": []
   },
   "outputs": [],
   "source": [
    "from operator import itemgetter\n",
    "\n",
    "from langchain_core.runnables import RunnableLambda, RunnableParallel, RunnablePassthrough\n",
    "\n",
    "# step 1: create the image prompt\n",
    "step_1 = RunnablePassthrough.assign(nl_prompt=itemgetter('image_desc')|nl_prompt_generation_chain)\n",
    "\n",
    "# step 2: image generation process, as a base64\n",
    "step_2 = RunnablePassthrough.assign(image_base64=gpt_image_worker)\n",
    "\n",
    "# step 3: save the image\n",
    "step_3 = base64_to_file\n",
    "\n",
    "# chain step 1, step 2, step 3 together\n",
    "gpt_image_chain =  step_1|step_2|step_3"
   ]
  },
  {
   "cell_type": "code",
   "execution_count": 10,
   "id": "51ab41f1-eeec-46ae-8e27-0a1f42facfe4",
   "metadata": {
    "tags": []
   },
   "outputs": [
    {
     "name": "stdout",
     "output_type": "stream",
     "text": [
      "Start generating image...\n",
      "prompt: Create an oil painting of a Warhammer 40k Astartes warrior in full power armor. The Astartes stands in a heroic pose, holding a massive chain sword in one hand, with the other hand clenched into a fist. The power armor is intricately detailed, featuring battle scars, ornate engravings, and a prominent purity seal attached to the chest plate. The background is a war-torn battlefield, with smoke and fire adding to the dramatic atmosphere. The painting style should be rich and textured, capturing the intensity and grandeur of the scene.\n",
      "Image is generated succesfully.\n"
     ]
    }
   ],
   "source": [
    "gpt_image_chain.invoke({\"size\": \"1024x1536\",\n",
    "                     \"quality\": \"medium\",\n",
    "                     \"image_desc\": (\"warhammer 40k, astartes, power armor, chain sword, purity seal, oil painting\"),\n",
    "                     \"filename\": \"tutorial/LLM+Langchain/Week-8/astartes.png\"\n",
    "                    })"
   ]
  },
  {
   "cell_type": "code",
   "execution_count": 11,
   "id": "96429327-2750-4094-804c-693aab9a0217",
   "metadata": {
    "tags": []
   },
   "outputs": [
    {
     "name": "stdout",
     "output_type": "stream",
     "text": [
      "Start generating image...\n",
      "prompt: Create a chibi-style illustration of Tifa Lockhart wearing a traditional kimono adorned with intricate patterns and a delicate head ornament. She is looking directly at the viewer with a gentle smile. Surround her with blooming cherry blossoms, their petals softly falling around her. Tifa's kimono contrasts with a sleek, black-and-white high-tech combat suit visible underneath, blending traditional and futuristic elements seamlessly. The background should be a serene, pastel-colored landscape with hints of modern technology subtly integrated.\n",
      "Image is generated succesfully.\n"
     ]
    }
   ],
   "source": [
    "gpt_image_chain.invoke({\"size\": \"1536x1024\",\n",
    "                     \"quality\": \"medium\",\n",
    "                     \"image_desc\": (\"Tifa Lockhart, kimono, head ornament, looking at viewer, cherry blossom, \"\n",
    "                                    \"black-white hightech combat suite, chibi style.\"),\n",
    "                     \"filename\": \"tutorial/LLM+Langchain/Week-8/Tifa-01.png\",\n",
    "                     \"moderation\": 'low'\n",
    "                    })\n"
   ]
  },
  {
   "cell_type": "markdown",
   "id": "b11138db-d2a1-4eec-a7d6-aa5a4d230313",
   "metadata": {},
   "source": [
    "Every model has its strength\n",
    "In my opinion:\n",
    "\n",
    "- SDXL: style\n",
    "- PONY, Illustrious: pose control, view angle control\n",
    "- FLUX: realistic"
   ]
  },
  {
   "cell_type": "code",
   "execution_count": 12,
   "id": "16f6b7ab-1a90-4801-9823-f70d1cd58ade",
   "metadata": {
    "tags": []
   },
   "outputs": [
    {
     "name": "stdout",
     "output_type": "stream",
     "text": [
      "Start generating image...\n",
      "prompt: Create a detailed sketch illustration of a young woman in an Azur Lane style outfit, inspired by Bismarck's attire. She has a high ponytail with very long hair, sidelocks, and bangs. The setting is a dimly lit whisky bar, where she rests her head on her hand, exuding an aura of youth and ethereal beauty. She is looking directly at the viewer, with a heart floating in the air near her. The overall style should be delicate and enchanting, capturing the essence of the character and the intimate atmosphere of the bar.\n",
      "Image is generated succesfully.\n"
     ]
    }
   ],
   "source": [
    "gpt_image_chain.invoke({\"size\": \"1024x1536\",\n",
    "                        \"quality\": \"medium\",\n",
    "                        \"image_desc\": (\"1girl, azur lane style outfit, high ponytail, very long hair, sidelocks, bangs, \"\n",
    "                                       \"in a whisky bar, rest head on hand, dim lighting, exuding an aura of youth and \"\n",
    "                                       \"ethereal beauty, sketch, illustration, looking at viewer, heart in air, based on the outfit of Bismarck.\"),\n",
    "                        \"filename\": \"tutorial/LLM+Langchain/Week-8/azur_lane_style.png\",\n",
    "                        \"moderation\": 'low'\n",
    "                      })"
   ]
  },
  {
   "cell_type": "markdown",
   "id": "266563be-ff75-4e13-a9d8-77423c20c61f",
   "metadata": {},
   "source": [
    "### Image Render"
   ]
  },
  {
   "cell_type": "code",
   "execution_count": null,
   "id": "699507ea-85d7-4c64-a6a3-84ac60f4bc89",
   "metadata": {},
   "outputs": [],
   "source": [
    "# client.images.edit?"
   ]
  },
  {
   "cell_type": "code",
   "execution_count": 13,
   "id": "043ed224-f670-4bc3-8f5f-c1a11cfc73b0",
   "metadata": {},
   "outputs": [],
   "source": [
    "from src.io.path_definition import get_project_dir"
   ]
  },
  {
   "cell_type": "code",
   "execution_count": 14,
   "id": "d70b4e53-e470-4e7b-b0e2-7ea07b64bd26",
   "metadata": {},
   "outputs": [],
   "source": [
    "image_path = os.path.join(get_project_dir(), \"tutorial\", \"LLM+Langchain\", \"Week-8\", \"Prinz_Eugen.png\")\n",
    "\n",
    "result_edit = client.images.edit(\n",
    "    model=\"gpt-image-1\",\n",
    "    image=open(image_path, \"rb\"), \n",
    "    prompt=\"generate a photorealistic image\",\n",
    "    size=\"1024x1536\"\n",
    ")\n",
    "\n",
    "image_base64 = result_edit.data[0].b64_json\n",
    "\n",
    "with open(\"tutorial/LLM+Langchain/Week-8/Eugen_Prinz_Render.png\", \"wb\") as fh:\n",
    "    fh.write(base64.b64decode(image_base64))"
   ]
  },
  {
   "cell_type": "code",
   "execution_count": 15,
   "id": "4140ee4e-805e-4e88-a541-be9e2f62c39a",
   "metadata": {},
   "outputs": [],
   "source": [
    "result_edit = client.images.edit(\n",
    "    model=\"gpt-image-1\",\n",
    "    image=open(image_path, \"rb\"), \n",
    "    prompt=\"Generate a photorealistic image. Make the character have an ulzzang look\",\n",
    "    size=\"1024x1536\"\n",
    ")"
   ]
  },
  {
   "cell_type": "code",
   "execution_count": 16,
   "id": "8db6a8ef-0d99-494d-8554-983ea23c0185",
   "metadata": {},
   "outputs": [],
   "source": [
    "image_base64 = result_edit.data[0].b64_json\n",
    "\n",
    "with open(\"tutorial/LLM+Langchain/Week-8/Eugen_Prinz_Render_Ulzzang.png\", \"wb\") as fh:\n",
    "    fh.write(base64.b64decode(image_base64))"
   ]
  },
  {
   "cell_type": "code",
   "execution_count": 19,
   "id": "c37925e8-a842-403c-8bca-d569eedec3da",
   "metadata": {},
   "outputs": [],
   "source": [
    "from textwrap import dedent\n",
    "\n",
    "\n",
    "result_edit = client.images.edit(\n",
    "    model=\"gpt-image-1\",\n",
    "    image=open(image_path, \"rb\"), \n",
    "    prompt=dedent(\"\"\"\n",
    "                  Generate a photorealistic image. \n",
    "                  Make the character have an ulzzang look with flawless Korean kpop makeup.\n",
    "                  She should have a glamorous appearance and glowing dew skin texture.\n",
    "                  \"\"\"),\n",
    "    size=\"1024x1536\"\n",
    ")\n",
    "\n",
    "image_base64 = result_edit.data[0].b64_json\n",
    "\n",
    "with open(\"tutorial/LLM+Langchain/Week-8/Eugen_Prinz_Flawless.png\", \"wb\") as fh:\n",
    "    fh.write(base64.b64decode(image_base64))"
   ]
  },
  {
   "cell_type": "code",
   "execution_count": null,
   "id": "219d9040-9c57-4554-bd13-f52ea6303b6c",
   "metadata": {},
   "outputs": [],
   "source": [
    "# result_edit = client.images.edit(\n",
    "#     model=\"gpt-image-1\",\n",
    "#     image=open(image_path, \"rb\"), \n",
    "#     prompt=\"Generate a photorealistic image.\\n\"\n",
    "#            \"Make the character have an ulzzang appearance with soft, flawless, youthful look with large eyes and gentle features. \"\n",
    "#            \"While keep the polish and porcelain skin texture, and glamorous appearance of the girl.\",\n",
    "#     size=\"1024x1536\"\n",
    "# )\n",
    "\n",
    "# image_base64 = result_edit.data[0].b64_json\n",
    "\n",
    "# with open(\"tutorial/LLM+Langchain/Week-8/Eugen_Prinz_Render_Combined.png\", \"wb\") as fh:\n",
    "#     fh.write(base64.b64decode(image_base64))"
   ]
  },
  {
   "cell_type": "markdown",
   "id": "04b5f0a9-4cca-474f-8e4e-b5403eac817e",
   "metadata": {},
   "source": [
    "You can experiment with different art styles to render your images — there's much more than just the Ghibli style!\n",
    "\n",
    "Some examples of art styles you can explore:\n",
    "- Studio Ghibli\n",
    "- Disney animation\n",
    "- Pixel art\n",
    "- Cyberpunk\n",
    "- Watercolor\n",
    "- Oil painting\n",
    "- Dark fantasy aesthetic"
   ]
  },
  {
   "cell_type": "markdown",
   "id": "bf1adc35-4a36-47b6-809c-ddb35cceb60a",
   "metadata": {},
   "source": [
    "## Use this as a tool for Agent"
   ]
  },
  {
   "cell_type": "code",
   "execution_count": null,
   "id": "5615194a-a794-47fe-8a44-586dec897481",
   "metadata": {},
   "outputs": [],
   "source": [
    "# prompt_template = \"\"\"\n",
    "# Answer the following questions as best you can. You have access to the following tools:\n",
    "\n",
    "# {tools}\n",
    "\n",
    "# Use the following format:\n",
    "\n",
    "# Question: the input question you must answer\n",
    "\n",
    "# Thought: you should always think about what to do\n",
    "\n",
    "# Action: the action to take, should be one of [{tool_names}]\n",
    "\n",
    "# Action Input: the input to the action\n",
    "\n",
    "# Observation: the result of the action\n",
    "\n",
    "# ... (this Thought/Action/Action Input/Observation can repeat N times)\n",
    "\n",
    "# Thought: I now know the final answer\n",
    "\n",
    "# Final Answer: the final answer to the original input question\n",
    "\n",
    "# Begin!\n",
    "\n",
    "# Question: {input}\n",
    "\n",
    "# Thought:{agent_scratchpad}\n",
    "# \"\"\""
   ]
  },
  {
   "cell_type": "code",
   "execution_count": 20,
   "id": "6b248354-6e52-46bc-b3eb-bef1a421926d",
   "metadata": {
    "tags": []
   },
   "outputs": [],
   "source": [
    "import base64\n",
    "from openai import OpenAI\n",
    "from operator import itemgetter\n",
    "\n",
    "from langchain.agents import Tool, AgentExecutor, create_react_agent\n",
    "from langchain.prompts import PromptTemplate, ChatPromptTemplate, HumanMessagePromptTemplate, SystemMessagePromptTemplate\n",
    "from langchain.tools import BaseTool\n",
    "from langchain_core.output_parsers import StrOutputParser, PydanticOutputParser\n",
    "from pydantic import BaseModel, Field\n",
    "from langchain_core.runnables import RunnableLambda, RunnableParallel, RunnablePassthrough\n",
    "\n",
    "from src.agent.react_zero_shot import prompt_template as zero_shot_prompt_template\n",
    "\n",
    "client = OpenAI()\n",
    "\n",
    "# We need both the query and filename (minimal requirement):\n",
    "# Some control variables\n",
    "# What we learned last week?\n",
    "\n",
    "# step 1: create the image prompt\n",
    "step_1 = RunnablePassthrough.assign(nl_prompt=itemgetter('image_desc')|nl_prompt_generation_chain)\n",
    "\n",
    "# step 2: image generation process, as a base64\n",
    "step_2 = RunnablePassthrough.assign(image_base64=gpt_image_worker)\n",
    "\n",
    "# step 3: save the image\n",
    "step_3 = base64_to_file\n",
    "\n",
    "# chain step 1, step 2, step 3 together\n",
    "gpt_image_chain =  step_1|step_2|step_3\n",
    "\n",
    "\n",
    "from typing import Literal\n",
    "\n",
    "class ImageInput(BaseModel):\n",
    "    image_desc: str = Field(description=(\"image description / prompt\"))\n",
    "    filename: str = Field(description=\"the location at which the image will be saved\")\n",
    "    size: Literal[\"1024x1024\",\n",
    "                  \"1536x1024\",\n",
    "                  \"1024x1536\"] = Field(description='image size, can be 1024x1024 (square), 1536x1024 (landscape), 1024x1536 (portrait) or auto (default)')\n",
    "    quality: Literal[\"low\",\n",
    "                     \"medium\",\n",
    "                     \"high\",\n",
    "                     \"auto\"] = Field(description='image quality, low, medium, high or auto')\n",
    "\n",
    "\n",
    "class ImageTool(BaseTool):\n",
    "\n",
    "    name: str = \"Image generator with GPT-Image-1\"\n",
    "\n",
    "    input_output_parser: PydanticOutputParser = PydanticOutputParser(pydantic_object=ImageInput)\n",
    "    \n",
    "    input_format_instructions: str = input_output_parser.get_format_instructions()\n",
    "\n",
    "    description_template: str = (\"Use this tool when you need to create an image\\n\\n\"\n",
    "                                 \"input format_instructions: {input_format_instructions}\")\n",
    "\n",
    "    description: str = description_template.format(input_format_instructions=input_format_instructions)\n",
    "    \n",
    "    def _run(self, query):\n",
    "\n",
    "        input_ = self.input_output_parser.parse(query)\n",
    "        \n",
    "        image_desc = input_.image_desc\n",
    "        size = input_.size\n",
    "        quality = input_.quality\n",
    "        filename = input_.filename\n",
    "        \n",
    "        gpt_image_chain.invoke({\"image_desc\": image_desc,\n",
    "                                \"size\": size,\n",
    "                                \"quality\": quality,\n",
    "                                \"filename\": filename,\n",
    "                                \"moderation\": 'low'})\n",
    "        \n",
    "        return \"Done\"\n",
    "\n",
    "    def _arun(self, radius: int):\n",
    "        raise NotImplementedError(\"This tool does not support async\")\n",
    "\n",
    "# Zero Shot 標準模板\n",
    "prompt = PromptTemplate.from_template(zero_shot_prompt_template)\n",
    "\n",
    "# 建立工具庫 \n",
    "tools = [ImageTool()]\n",
    "\n",
    "# 創造Agent \n",
    "zero_shot_agent = create_react_agent(\n",
    "    llm=model,\n",
    "    tools=tools,\n",
    "    prompt=prompt,\n",
    ")\n",
    "\n",
    "# 創造Agent Executor\n",
    "agent_executor = AgentExecutor(agent=zero_shot_agent, tools=tools, verbose=True)"
   ]
  },
  {
   "cell_type": "code",
   "execution_count": 21,
   "id": "c4acd426-a089-4296-8507-b898488e7736",
   "metadata": {
    "tags": []
   },
   "outputs": [],
   "source": [
    "image_prompt = \"\"\"\n",
    "brown hair, bangs, two side up, twin ponytails, sidelocks, black hat, jewelry, black cheongsam, intricate golden embroidery, long sleeves,\n",
    "detached sleeves, sheer long skirt, head ornament, a 17-years-old ethereal and glamorous beautiful japanese idol,\n",
    "translucent skin tone, anime-like face, profound facial features, bright eyes, faint rosy blush, mesmerizing city view. \n",
    "night, photorealistic, heart hands, heart in air\n",
    "\"\"\"\n",
    "\n",
    "filename = \"tutorial/LLM+Langchain/Week-8/test_04.png\""
   ]
  },
  {
   "cell_type": "code",
   "execution_count": 22,
   "id": "8e4b7234-d7ae-4256-ac69-927affee0a23",
   "metadata": {
    "tags": []
   },
   "outputs": [
    {
     "name": "stdout",
     "output_type": "stream",
     "text": [
      "\n",
      "\n",
      "\u001b[1m> Entering new AgentExecutor chain...\u001b[0m\n",
      "\u001b[32;1m\u001b[1;3mTo generate the image with the specified details, I will use the image generator tool. I need to provide the image description, filename, size, and quality.\n",
      "\n",
      "Action: Image generator with GPT-Image-1\n",
      "\n",
      "Action Input:\n",
      "```json\n",
      "{\n",
      "  \"image_desc\": \"brown hair, bangs, two side up, twin ponytails, sidelocks, black hat, jewelry, black cheongsam, intricate golden embroidery, long sleeves, detached sleeves, sheer long skirt, head ornament, a 17-years-old ethereal and glamorous beautiful japanese idol, translucent skin tone, anime-like face, profound facial features, bright eyes, faint rosy blush, mesmerizing city view. night, photorealistic, heart hands, heart in air\",\n",
      "  \"filename\": \"tutorial/LLM+Langchain/Week-8/test_04.png\",\n",
      "  \"size\": \"1024x1536\",\n",
      "  \"quality\": \"high\"\n",
      "}\n",
      "```\n",
      "\u001b[0mStart generating image...\n",
      "prompt: Create a photorealistic image of a 17-year-old ethereal and glamorous beautiful Japanese idol with an anime-like face and profound facial features. She has brown hair styled with bangs, twin ponytails, and sidelocks, adorned with a black hat and head ornament. She wears a black cheongsam with intricate golden embroidery, long sleeves, and detached sleeves, paired with a sheer long skirt. Her skin is translucent, and her bright eyes and faint rosy blush add to her mesmerizing appearance. She is making a heart shape with her hands, and a heart is floating in the air. The background features a breathtaking, night-time city view.\n",
      "Image is generated succesfully.\n",
      "\u001b[36;1m\u001b[1;3mDone\u001b[0m\u001b[32;1m\u001b[1;3mI now know the final answer.\n",
      "\n",
      "Final Answer: The image has been generated and saved at the location \"tutorial/LLM+Langchain/Week-8/test_04.png\" with the specified details.\u001b[0m\n",
      "\n",
      "\u001b[1m> Finished chain.\u001b[0m\n"
     ]
    },
    {
     "data": {
      "text/plain": [
       "{'input': 'Generate in image with the following information: \\n \\nbrown hair, bangs, two side up, twin ponytails, sidelocks, black hat, jewelry, black cheongsam, intricate golden embroidery, long sleeves,\\ndetached sleeves, sheer long skirt, head ornament, a 17-years-old ethereal and glamorous beautiful japanese idol,\\ntranslucent skin tone, anime-like face, profound facial features, bright eyes, faint rosy blush, mesmerizing city view. \\nnight, photorealistic, heart hands, heart in air\\n. and save the image at tutorial/LLM+Langchain/Week-8/test_04.png',\n",
       " 'output': 'The image has been generated and saved at the location \"tutorial/LLM+Langchain/Week-8/test_04.png\" with the specified details.'}"
      ]
     },
     "execution_count": 22,
     "metadata": {},
     "output_type": "execute_result"
    }
   ],
   "source": [
    "agent_executor.invoke({\"input\": f\"Generate in image with the following information: \\n {image_prompt}. and save the image at {filename}\"})"
   ]
  },
  {
   "cell_type": "markdown",
   "id": "0fa7455d-d621-4ae1-a395-a8d73168df24",
   "metadata": {},
   "source": [
    "### OpenAI WebSearch Update:\n",
    "\n",
    "- https://platform.openai.com/docs/guides/tools-web-search?api-mode=responses\n",
    "\n",
    "The world changes very fast.\n",
    "\n",
    "Below are a few notable implementation considerations when using web search.\n",
    "\n",
    "- Web search is currently not supported in the gpt-4.1-nano model.\n",
    "- The gpt-4o-search-preview and gpt-4o-mini-search-preview models used in Chat Completions only support a subset of API parameters - view their model data pages for specific information on rate limits and feature support.\n",
    "- When used as a tool in the Responses API, web search has the same tiered rate limits as the models above.\n",
    "- Web search is limited to a context window size of 128000 (even with gpt-4.1 and gpt-4.1-mini models).\n",
    "- Refer to this guide for data handling, residency, and retention information."
   ]
  },
  {
   "cell_type": "code",
   "execution_count": null,
   "id": "685830ba-153b-45e4-8111-cb928d794d80",
   "metadata": {},
   "outputs": [],
   "source": [
    "from openai import OpenAI\n",
    "client = OpenAI()"
   ]
  },
  {
   "cell_type": "markdown",
   "id": "273538bc-be51-4b58-84dd-179085b66e7f",
   "metadata": {},
   "source": [
    "## ACG Characters\n",
    "\n",
    "### Genshin"
   ]
  },
  {
   "cell_type": "code",
   "execution_count": 27,
   "id": "ad8b728e-0053-4db3-ad09-e1acc83506d3",
   "metadata": {},
   "outputs": [
    {
     "name": "stdout",
     "output_type": "stream",
     "text": [
      "Hu Tao, the 77th Director of the Wangsheng Funeral Parlor in Genshin Impact, has a distinctive and memorable appearance:\n",
      "\n",
      "- **Complexion and Eyes**: She has a fair complexion complemented by bright scarlet eyes, each featuring white, blossom-shaped pupils. ([genshin-impact.fandom.com](https://genshin-impact.fandom.com/wiki/Hu_Tao/Lore?utm_source=openai))\n",
      "\n",
      "- **Hair**: Her long, dark brown hair fades into crimson at the tips. It's styled into two high twintails, parted with a zig-zag pattern, with side-swept bangs framing her face. ([ultraverse.fandom.com](https://ultraverse.fandom.com/wiki/Hu_Tao?utm_source=openai))\n",
      "\n",
      "- **Attire**: Hu Tao wears a traditional red shirt with a mandarin collar beneath a dark brown coat that features a darker collar and sleeve cuffs. The coat is adorned with long rectangular coattails and golden brooches attached beneath the collar and at the waist. She pairs this with black shorts accented with gold details. ([ultraverse.fandom.com](https://ultraverse.fandom.com/wiki/Hu_Tao?utm_source=openai))\n",
      "\n",
      "- **Accessories**: She dons a black porkpie hat decorated with a red plum blossom branch in bloom, an indigo tassel tied in a looped knot, and a wooden talisman at the front. Her Pyro Vision is embedded at the back of her coat. ([ultraverse.fandom.com](https://ultraverse.fandom.com/wiki/Hu_Tao?utm_source=openai))\n",
      "\n",
      "- **Footwear**: Hu Tao completes her ensemble with mid-calf length white socks, each adorned with red straps featuring plum blossoms, and low-heeled black dress shoes. ([ultraverse.fandom.com](https://ultraverse.fandom.com/wiki/Hu_Tao?utm_source=openai))\n",
      "\n",
      "This combination of elements reflects her unique personality and role within the game. \n"
     ]
    }
   ],
   "source": [
    "from openai import OpenAI\n",
    "\n",
    "client = OpenAI()\n",
    "\n",
    "response = client.chat.completions.create(\n",
    "        model=\"gpt-4o-search-preview\",\n",
    "        web_search_options={\"search_context_size\": \"high\"},\n",
    "        messages=[{\"role\": \"user\",\n",
    "                   \"content\": dedent(\"\"\"What is the appearance of Hu Tao from Genshin?\"\"\")}]\n",
    "    )\n",
    "\n",
    "print(response.choices[0].message.content)"
   ]
  },
  {
   "cell_type": "markdown",
   "id": "63302ef2-0565-44ec-8074-b4f98e5d6f12",
   "metadata": {},
   "source": [
    "### Stellar Blade"
   ]
  },
  {
   "cell_type": "code",
   "execution_count": 28,
   "id": "912d5e15-2d79-4b35-9ee5-36742523e75a",
   "metadata": {},
   "outputs": [
    {
     "name": "stdout",
     "output_type": "stream",
     "text": [
      "Eve, the protagonist of *Stellar Blade*, is depicted as a striking woman with a slender yet shapely physique, brown eyes, and long black hair styled into a ponytail with bangs. Her default attire, the Planet Diving Suit (7th), is a green, form-fitting bodysuit with a metallic sheen, complemented by a green tie, white gloves, and cape-like extensions at the back. Notably, her sword, Blood Edge, doubles as a hair clip for her ponytail when not in use. ([stellarblade.fandom.com](https://stellarblade.fandom.com/wiki/EVE?utm_source=openai))\n",
      "\n",
      "The development team at Shift Up crafted Eve's body based on 3D scans of South Korean model Shin Jae-eun, aiming to create an appealing character design. However, Eve's facial features were uniquely designed in-house. ([automaton-media.com](https://automaton-media.com/en/news/20240207-26822/?utm_source=openai))\n",
      "\n",
      "Players have the option to customize Eve's appearance extensively, including choices in hairstyles, hair color, earrings, glasses, and various Nano suits. The game offers a diverse wardrobe of over 30 outfits, ranging from the default Planet Diving Suit to ensembles like the Stargazer Suit, Racer's High, and the Cyber Magician outfit. These costumes vary from practical combat gear to more stylized attire, allowing players to tailor Eve's look to their preferences. ([si.com](https://www.si.com/videogames/guides/stellar-blade-all-outfits?utm_source=openai))\n",
      "\n",
      "In her Tachy Mode, Eve's appearance transforms: she dons Tachy's Nano suit, wields the Tachyon Blade, and a metallic wing emerges from her left shoulder, enhancing her combat capabilities. ([stellarblade.fandom.com](https://stellarblade.fandom.com/wiki/EVE?utm_source=openai))\n",
      "\n",
      "Overall, Eve's design combines elements of futuristic fashion with practical combat attire, reflecting her role as a warrior in a post-apocalyptic setting. \n"
     ]
    }
   ],
   "source": [
    "response = client.chat.completions.create(\n",
    "        model=\"gpt-4o-search-preview\",\n",
    "        web_search_options={\"search_context_size\": \"high\"},\n",
    "        messages=[{\"role\": \"user\",\n",
    "                   \"content\": dedent(\"\"\"What is the appearance of Eve of Stellar Blade?\"\"\")}]\n",
    "    )\n",
    "\n",
    "print(response.choices[0].message.content)"
   ]
  },
  {
   "cell_type": "markdown",
   "id": "5ba75cd3-0fa8-4012-9ab4-0de388ab097d",
   "metadata": {},
   "source": [
    "# **** 預計第一個小時結束 ****"
   ]
  },
  {
   "cell_type": "markdown",
   "id": "3762d243-fe7f-4b43-b9c8-466918715165",
   "metadata": {},
   "source": [
    "## LCEL ACG character appearance chain"
   ]
  },
  {
   "cell_type": "code",
   "execution_count": 31,
   "id": "3575d23b-ca5c-4282-9bd3-e6aa81c535b5",
   "metadata": {},
   "outputs": [
    {
     "ename": "AttributeError",
     "evalue": "'str' object has no attribute 'content'",
     "output_type": "error",
     "traceback": [
      "\u001b[1;31m---------------------------------------------------------------------------\u001b[0m",
      "\u001b[1;31mAttributeError\u001b[0m                            Traceback (most recent call last)",
      "Cell \u001b[1;32mIn[31], line 1\u001b[0m\n\u001b[1;32m----> 1\u001b[0m \u001b[43msystem_template\u001b[49m\u001b[38;5;241;43m.\u001b[39;49m\u001b[43mcontent\u001b[49m\n",
      "\u001b[1;31mAttributeError\u001b[0m: 'str' object has no attribute 'content'"
     ]
    }
   ],
   "source": [
    "system_template"
   ]
  },
  {
   "cell_type": "code",
   "execution_count": 35,
   "id": "1ab73102-3977-4691-b91d-10d0faa3aa0b",
   "metadata": {
    "tags": []
   },
   "outputs": [],
   "source": [
    "from langchain.docstore.document import Document\n",
    "from langchain.agents import Tool, AgentExecutor, create_react_agent\n",
    "from langchain.tools import BaseTool\n",
    "from langchain.prompts import PromptTemplate, ChatPromptTemplate, HumanMessagePromptTemplate, SystemMessagePromptTemplate\n",
    "from langchain_core.output_parsers import StrOutputParser\n",
    "\n",
    "system_template = (\"You are a helpful AI assistant with deep knowledge of anime, manga, \"\n",
    "                   \"and mobile games. You will generate the face, body, attire, hairstyle, and accessories of a character in great \" \n",
    "                   \"detail. The output should consist of:\\n\\n\"\n",
    "                   \"- Face:\\n\"\n",
    "                   \"- Body:\\n\"\n",
    "                   \"- Attire:\\n\"\n",
    "                   \"- Hairstyle:\\n\"\n",
    "                   \"- Footwear:\\n\"\n",
    "                   \"- Accessories:\\n\\n\"\n",
    "                   \"If you are not sure about the answer, please find the content from the internet.\")\n",
    "\n",
    "# Make this simple in the beginning\n",
    "@chain\n",
    "def gpt_web_search_tool(text):\n",
    "\n",
    "    client = OpenAI()\n",
    "\n",
    "    response = client.chat.completions.create(\n",
    "        model=\"gpt-4o-search-preview\",\n",
    "        web_search_options={\"search_context_size\": \"high\"},\n",
    "        messages=[{\"role\": \"system\",\n",
    "                   \"content\": system_template},\n",
    "                   {\"role\": \"user\",\n",
    "                   \"content\": text}]\n",
    "    )\n",
    "\n",
    "    return response.choices[0].message.content"
   ]
  },
  {
   "cell_type": "code",
   "execution_count": 36,
   "id": "c05f32a4-affa-4092-96ef-a0d7744d4222",
   "metadata": {
    "tags": []
   },
   "outputs": [
    {
     "name": "stdout",
     "output_type": "stream",
     "text": [
      "Hu Tao, the 77th Director of the Wangsheng Funeral Parlor in Genshin Impact, has a distinctive and memorable appearance:\n",
      "\n",
      "- **Face**: She possesses a fair complexion with bright scarlet eyes that feature white, blossom-shaped pupils. ([genshin-impact.fandom.com](https://genshin-impact.fandom.com/wiki/Hu_Tao/Lore?utm_source=openai))\n",
      "\n",
      "- **Body**: Hu Tao has a petite build, complementing her lively and energetic demeanor. ([genshin-impact.fandom.com](https://genshin-impact.fandom.com/wiki/Hu_Tao/Lore?utm_source=openai))\n",
      "\n",
      "- **Attire**: She wears a traditional red shirt with a mandarin collar beneath a dark brown coat that has a darker collar and sleeve cuffs. The coat features long rectangular coattails and is adorned with golden brooches attached beneath the collar and at the waist. Her black shorts have gold accents, and she completes her outfit with white socks that reach mid-calf, decorated with red straps and plum blossoms, along with low-heeled black dress shoes. ([genshin-impact.fandom.com](https://genshin-impact.fandom.com/wiki/Hu_Tao/Lore?utm_source=openai))\n",
      "\n",
      "- **Hairstyle**: Hu Tao's long dark brown hair fades to crimson at the tips. She styles it into twin ponytails, with two shoulder-length locks framing her face. ([genshin-impact.fandom.com](https://genshin-impact.fandom.com/wiki/Hu_Tao/Lore?utm_source=openai))\n",
      "\n",
      "- **Accessories**: She dons a dark brown porkpie hat decorated with red plum blossoms and branches, an indigo tassel, and a wooden talisman attached to the front. Her Pyro Vision is embedded at the back of her coat. ([genshin-impact.fandom.com](https://genshin-impact.fandom.com/wiki/Hu_Tao/Lore?utm_source=openai))\n",
      "\n",
      "This ensemble reflects Hu Tao's unique blend of traditional and playful elements, mirroring her role as a funeral director with a mischievous streak. \n"
     ]
    }
   ],
   "source": [
    "output = gpt_web_search_tool.invoke(\"What is the appearance of Hu Tao from Genshin\")\n",
    "print(output)"
   ]
  },
  {
   "cell_type": "code",
   "execution_count": 59,
   "id": "6f9a6afa-cf49-4aa1-a542-1fa9ef205d27",
   "metadata": {
    "tags": []
   },
   "outputs": [],
   "source": [
    "class ACGLLMTool(BaseTool):\n",
    "\n",
    "    name: str = \"Anime character explorer\"\n",
    "    description: str = \"Use this tool to generate and explore detailed designs for anime and ACG (Animation, Comics, and Games) characters.\"\n",
    "\n",
    "    def _run(self, query: str):\n",
    "        \n",
    "        response = gpt_web_search_tool.invoke(query)\n",
    "        \n",
    "        return response\n",
    "\n",
    "    def _arun(self, radius: int):\n",
    "        raise NotImplementedError(\"This tool does not support async\")\n",
    "        \n",
    "        \n",
    "class ImageTool(BaseTool):\n",
    "\n",
    "    name:str = \"ACG characters image generator with GPT-Image-1\"\n",
    "\n",
    "    input_output_parser: PydanticOutputParser = PydanticOutputParser(pydantic_object=ImageInput)\n",
    "    \n",
    "    input_format_instructions: str = input_output_parser.get_format_instructions()\n",
    "\n",
    "    description_template: str = (\"Use this tool when you need to create an image\\n\\n\"\n",
    "                                 \"input format_instructions: {input_format_instructions}\")\n",
    "\n",
    "    description: str = description_template.format(input_format_instructions=input_format_instructions)\n",
    "    \n",
    "    def _run(self, query):\n",
    "        \n",
    "        input_ = self.input_output_parser.parse(query)\n",
    "        \n",
    "        image_desc = input_.image_desc\n",
    "\n",
    "        print(f\"ImageTool image_desc: {image_desc}\")\n",
    "        \n",
    "        size = input_.size\n",
    "        quality = input_.quality\n",
    "        filename = input_.filename\n",
    "        \n",
    "        gpt_image_chain.invoke({\"image_desc\": image_desc,\n",
    "                                \"size\": size,\n",
    "                                \"quality\": quality,\n",
    "                                \"filename\": filename,\n",
    "                                \"moderation\": 'low'})\n",
    "        \n",
    "        return \"Done\"\n",
    "\n",
    "    def _arun(self, radius: int):\n",
    "        raise NotImplementedError(\"This tool does not support async\")\n",
    "\n",
    "        \n",
    "prompt_template = \"\"\"\n",
    "Answer the following questions as best you can. You have access to the following tools:\n",
    "\n",
    "{tools}\n",
    "\n",
    "Use the following format:\n",
    "\n",
    "Question: the input question you must answer\n",
    "\n",
    "Thought: you should always think about what to do\n",
    "\n",
    "Action: the action to take, should be one of [{tool_names}]\n",
    "\n",
    "Action Input: the input to the action\n",
    "\n",
    "Observation: the result of the action\n",
    "\n",
    "... (this Thought/Action/Action Input/Observation can repeat N times)\n",
    "\n",
    "Thought: I now know the final answer\n",
    "\n",
    "Final Answer: the final answer to the original input question\n",
    "\n",
    "Begin!\n",
    "\n",
    "Question: {input}\n",
    "\n",
    "Thought:{agent_scratchpad}\n",
    "\"\"\"        \n",
    "             \n",
    "prompt = PromptTemplate.from_template(prompt_template)\n",
    "\n",
    "tools = [ImageTool(), ACGLLMTool()]\n",
    "\n",
    "zero_shot_agent = create_react_agent(\n",
    "    llm=model,\n",
    "    tools=tools,\n",
    "    prompt=prompt,\n",
    ")\n",
    "\n",
    "agent_executor = AgentExecutor(agent=zero_shot_agent, tools=tools, verbose=True)"
   ]
  },
  {
   "cell_type": "code",
   "execution_count": 60,
   "id": "ce8d8dfd-78c8-45b4-8292-28857e770371",
   "metadata": {
    "tags": []
   },
   "outputs": [
    {
     "name": "stdout",
     "output_type": "stream",
     "text": [
      "\n",
      "\n",
      "\u001b[1m> Entering new AgentExecutor chain...\u001b[0m\n",
      "\u001b[32;1m\u001b[1;3mTo generate an image of Hu Tao from Genshin Impact sitting in a roller coaster in a pastel art style, I will use the ACG characters image generator with GPT-Image-1. I need to provide a detailed description of the image, specify the filename, size, and quality.\n",
      "\n",
      "Action: ACG characters image generator with GPT-Image-1\n",
      "\n",
      "Action Input:\n",
      "```json\n",
      "{\n",
      "  \"image_desc\": \"Hu Tao from Genshin Impact sitting in a roller coaster, pastel art style\",\n",
      "  \"filename\": \"hu_tao_roller_coaster_pastel.png\",\n",
      "  \"size\": \"1024x1024\",\n",
      "  \"quality\": \"high\"\n",
      "}\n",
      "```\n",
      "\u001b[0mImageTool image_desc: Hu Tao from Genshin Impact sitting in a roller coaster, pastel art style\n",
      "Start generating image...\n",
      "prompt: Create a pastel art style illustration of Hu Tao from Genshin Impact sitting in a roller coaster. Hu Tao, with her signature hat and playful expression, is seated in the front row of a vibrant, whimsical roller coaster. The background features a dreamy amusement park with soft, pastel-colored rides and cotton candy clouds. The roller coaster tracks twist and turn in the distance, adding a sense of excitement and motion to the scene. Hu Tao's hair and clothes flutter in the wind, capturing the thrill of the ride. The overall atmosphere is lighthearted and fun, with a touch of magical realism.\n",
      "Image is generated succesfully.\n",
      "\u001b[36;1m\u001b[1;3mDone\u001b[0m\u001b[32;1m\u001b[1;3mI now know the final answer.\n",
      "\n",
      "Final Answer: The image of Hu Tao from Genshin Impact sitting in a roller coaster in a pastel art style has been generated and saved as \"hu_tao_roller_coaster_pastel.png\" with a size of 1024x1024 and high quality.\u001b[0m\n",
      "\n",
      "\u001b[1m> Finished chain.\u001b[0m\n"
     ]
    },
    {
     "data": {
      "text/plain": [
       "{'input': 'Generate an image of Hu Tao from Genshim sitting in a roller coaster in pastel art style',\n",
       " 'output': 'The image of Hu Tao from Genshin Impact sitting in a roller coaster in a pastel art style has been generated and saved as \"hu_tao_roller_coaster_pastel.png\" with a size of 1024x1024 and high quality.'}"
      ]
     },
     "execution_count": 60,
     "metadata": {},
     "output_type": "execute_result"
    }
   ],
   "source": [
    "agent_executor.invoke({\"input\": \"Generate an image of Hu Tao from Genshim sitting in a roller coaster in pastel art style\"})"
   ]
  },
  {
   "cell_type": "code",
   "execution_count": 61,
   "id": "3c428fcc-e8be-45f1-8d15-9e7112fba86e",
   "metadata": {
    "tags": []
   },
   "outputs": [
    {
     "name": "stdout",
     "output_type": "stream",
     "text": [
      "\n",
      "\n",
      "\u001b[1m> Entering new AgentExecutor chain...\u001b[0m\n",
      "\u001b[32;1m\u001b[1;3mTo generate an image of Eve from Stellar Blade in a keyhole suit, walking on the street in Taipei City with Taipei 101 in the background, I need to first gather detailed information about Eve's character design using the Anime character explorer tool. \n",
      "\n",
      "Action: Anime character explorer\n",
      "Action Input: \"Eve from Stellar Blade in a keyhole suit\"\n",
      "\u001b[0m\u001b[33;1m\u001b[1;3mIn the game *Stellar Blade*, Eve can wear the Keyhole Suit, a distinctive outfit designed by Tetrastar C&T's lead designer, \"Galaxy\" Alan. This suit is part of the \"Exotic Sense\" collection and features a black, thigh-length dress with hexagonal patterns, elbow-length gloves, and thigh-high boots. Notably, the dress has a revealing chest area, intended to be covered by an electromagnetic field to allow the wearer to receive the universe's energy. ([stellarblade.fandom.com](https://stellarblade.fandom.com/wiki/Keyhole_Suit?utm_source=openai))\n",
      "\n",
      "To acquire the Keyhole Suit, players need to purchase the design pattern from Roxanne's shop in Xion after reaching affinity level 3 with her. Once obtained, the suit can be crafted at a Repair Console using the following materials:\n",
      "\n",
      "- 75 Polymer Material\n",
      "- 50 Advanced Polymer Material\n",
      "- 25 Extreme Polymer Material\n",
      "\n",
      "([game8.co](https://game8.co/games/Stellar-Blade/archives/452422?utm_source=openai))\n",
      "\n",
      "In *Stellar Blade*, Eve has access to a variety of outfits, each offering unique aesthetics and styles. The Keyhole Suit stands out for its bold design and thematic elements, reflecting the game's futuristic and fashion-forward approach to character customization. \u001b[0m\u001b[32;1m\u001b[1;3mI have gathered detailed information about Eve's character design in the Keyhole Suit from Stellar Blade. Now, I will proceed to generate the image using the ACG characters image generator with GPT-Image-1 tool.\n",
      "\n",
      "Action: ACG characters image generator with GPT-Image-1\n",
      "Action Input: \n",
      "```json\n",
      "{\n",
      "  \"image_desc\": \"Eve from Stellar Blade in a keyhole suit, walking on the street in Taipei City with Taipei 101 in the background. The suit is a black, thigh-length dress with hexagonal patterns, elbow-length gloves, and thigh-high boots. The dress has a revealing chest area covered by an electromagnetic field.\",\n",
      "  \"filename\": \"eve_stellar_blade_taipei_city.png\",\n",
      "  \"size\": \"1536x1024\",\n",
      "  \"quality\": \"high\"\n",
      "}\n",
      "```\n",
      "\u001b[0mImageTool image_desc: Eve from Stellar Blade in a keyhole suit, walking on the street in Taipei City with Taipei 101 in the background. The suit is a black, thigh-length dress with hexagonal patterns, elbow-length gloves, and thigh-high boots. The dress has a revealing chest area covered by an electromagnetic field.\n",
      "Start generating image...\n",
      "prompt: Create an image of Eve from Stellar Blade walking confidently on a bustling street in Taipei City. She is wearing a striking black, thigh-length keyhole suit adorned with intricate hexagonal patterns. The suit features elbow-length gloves and thigh-high boots, exuding a futuristic and sleek aesthetic. The dress has a revealing chest area, which is modestly covered by a shimmering electromagnetic field, adding a touch of sci-fi elegance. In the background, prominently display the iconic Taipei 101 skyscraper, towering over the vibrant cityscape filled with neon signs, busy pedestrians, and a mix of modern and traditional architecture. The overall atmosphere should be dynamic and energetic, capturing the essence of a futuristic urban environment.\n",
      "Image is generated succesfully.\n",
      "\u001b[36;1m\u001b[1;3mDone\u001b[0m\u001b[32;1m\u001b[1;3mI now know the final answer.\n",
      "\n",
      "Final Answer: The image of Eve from Stellar Blade in a keyhole suit, walking on the street in Taipei City with Taipei 101 in the background, has been generated and saved as \"eve_stellar_blade_taipei_city.png\".\u001b[0m\n",
      "\n",
      "\u001b[1m> Finished chain.\u001b[0m\n"
     ]
    },
    {
     "data": {
      "text/plain": [
       "{'input': \"\\nGenerate an image of Eve from Stellar Blade (Keyhole Suit), walking on the street in Taipei City, with Taipei 101 as the background.\\nPlease use the tool 'Anime character explorer' to get the detailed information.\\n\",\n",
       " 'output': 'The image of Eve from Stellar Blade in a keyhole suit, walking on the street in Taipei City with Taipei 101 in the background, has been generated and saved as \"eve_stellar_blade_taipei_city.png\".'}"
      ]
     },
     "execution_count": 61,
     "metadata": {},
     "output_type": "execute_result"
    }
   ],
   "source": [
    "agent_executor.invoke({\"input\": dedent(\"\"\"\n",
    "Generate an image of Eve from Stellar Blade (Keyhole Suit), walking on the street in Taipei City, with Taipei 101 as the background.\n",
    "Please use the tool 'Anime character explorer' to get the detailed information.\n",
    "\"\"\") })"
   ]
  },
  {
   "cell_type": "markdown",
   "id": "9fabc653-5ca9-484b-a864-0b6a363ac275",
   "metadata": {},
   "source": [
    "## Audible 有聲書\n",
    "\n",
    "- 文轉語音: TTS tool\n",
    "- 文轉圖: Image tool"
   ]
  },
  {
   "cell_type": "markdown",
   "id": "0d8075d8-df6e-4320-a297-2504c5b28fbc",
   "metadata": {},
   "source": [
    "### Children Book Image Generator\n",
    "\n",
    "- Generate image according to the story"
   ]
  },
  {
   "cell_type": "code",
   "execution_count": 40,
   "id": "2d168449-4550-49b8-acd2-21b4d3009efa",
   "metadata": {
    "tags": []
   },
   "outputs": [],
   "source": [
    "system_template = (\"You are a helpful AI assistant and an art expert with extensive knowledge of illustration.\\n \"\n",
    "                   \"You excel at creating Pencil and Ink Style illustrations for 6-year-old children using the GPT-Image-1 model. \"\n",
    "                   \"This style is characterized by detailed line work, often in black and white or with minimal color, and has a classic, \"\n",
    "                   \"timeless feel. For this task, you will be provided with a paragraph of a story, and you will generate a corresponding \"\n",
    "                   \"DALLE-3 prompt which captures the storyline. The prompt should be detailed and descriptive, capturing the essence of \"\n",
    "                   \"the image.\")\n",
    "\n",
    "\n",
    "system_prompt = PromptTemplate(template=system_template)\n",
    "\n",
    "# System prompt\n",
    "system_message = SystemMessagePromptTemplate(prompt=system_prompt)\n",
    "\n",
    "human_prompt = PromptTemplate(template=\"{story}\",\n",
    "                              input_variables=['story'])\n",
    "\n",
    "# Create a human message prompt template based on the prompt\n",
    "human_message = HumanMessagePromptTemplate(prompt=human_prompt)\n",
    "\n",
    "chat_prompt = ChatPromptTemplate.from_messages([system_message, human_message])\n",
    "\n",
    "nl_prompt_generation_chain = chat_prompt | model | StrOutputParser()     \n",
    "\n",
    "step_1 = RunnablePassthrough.assign(nl_prompt=itemgetter('story')|nl_prompt_generation_chain)\n",
    "step_2 = RunnablePassthrough.assign(image_base64=gpt_image_worker)\n",
    "step_3 = base64_to_file\n",
    "image_chain = step_1 | step_2 | step_3"
   ]
  },
  {
   "cell_type": "code",
   "execution_count": null,
   "id": "46f1dfda-5933-4dbb-b96f-90261db41d36",
   "metadata": {},
   "outputs": [],
   "source": [
    "# step_1 = RunnablePassthrough.assign(nl_prompt=itemgetter('image_desc')|nl_prompt_generation_chain)\n",
    "\n",
    "# # step 2: image generation process, as a base64\n",
    "# step_2 = RunnablePassthrough.assign(image_base64=dalle3_worker)\n",
    "\n",
    "# # step 3: save the image\n",
    "# step_3 = RunnableLambda(base64_to_file)\n",
    "\n",
    "# # chain step 1, step 2, step 3 together\n",
    "# dalle3_chain =  step_1|step_2|step_3"
   ]
  },
  {
   "cell_type": "markdown",
   "id": "3f2128a3-41fc-49a3-a93f-57d7d18a169e",
   "metadata": {},
   "source": [
    "- Generate the story"
   ]
  },
  {
   "cell_type": "code",
   "execution_count": 41,
   "id": "797c315b-489e-4b45-b4b6-879a8e8414db",
   "metadata": {
    "tags": []
   },
   "outputs": [],
   "source": [
    "system_template = (\"You are a helpful AI assistant who likes children. You are great storyteller and know how to create content for kindergarten kids. \"\n",
    "                   \"A short chapter is created once at a time.\")\n",
    "\n",
    "system_prompt = PromptTemplate(template=system_template)\n",
    "\n",
    "# System prompt\n",
    "system_message = SystemMessagePromptTemplate(prompt=system_prompt)\n",
    "\n",
    "human_prompt = PromptTemplate(template=\"{input}\",\n",
    "                              input_variables=['input'])\n",
    "\n",
    "# Create a human message prompt template based on the prompt\n",
    "human_message = HumanMessagePromptTemplate(prompt=human_prompt)\n",
    "\n",
    "chat_prompt = ChatPromptTemplate.from_messages([system_message, human_message])\n",
    "\n",
    "story_chain = chat_prompt | model | StrOutputParser()     "
   ]
  },
  {
   "cell_type": "code",
   "execution_count": 42,
   "id": "fe3cfbe6-6286-4212-8e47-31786f46b4b9",
   "metadata": {},
   "outputs": [],
   "source": [
    "story = story_chain.invoke({\"input\": \"Create a chapter of a baby owl capturing a rodent in the night as his dinner\"})"
   ]
  },
  {
   "cell_type": "code",
   "execution_count": 43,
   "id": "c2f923fa-d406-482b-855b-b0e869afeada",
   "metadata": {},
   "outputs": [
    {
     "name": "stdout",
     "output_type": "stream",
     "text": [
      "Start generating image...\n",
      "prompt: **Prompt:**\n",
      "\n",
      "A detailed pencil and ink style illustration of a cozy forest at night, with tall, whispering trees and a deep blue sky illuminated by a silvery moon. High up in an old oak tree, a snug nest is visible, where a baby owl named Ollie, with big, round eyes that sparkle like stars and soft, fluffy feathers, is preparing for his first nighttime adventure. Ollie is seen flapping his tiny wings with a mix of excitement and nervousness. Below, the forest floor is alive with the sounds of crickets chirping and leaves rustling. In the distance, a tiny mouse is scurrying through the underbrush, unaware of Ollie hovering silently above. The scene captures the moment Ollie, with a swift and graceful swoop, spreads his wings wide and dives down towards the mouse, ready to catch his first dinner. The illustration should convey a sense of wonder, bravery, and the magical atmosphere of the nighttime forest.\n",
      "Image is generated succesfully.\n"
     ]
    }
   ],
   "source": [
    "image_chain.invoke({\"story\":story,\n",
    "                    \"filename\": \"tutorial/LLM+Langchain/Week-8/story_2_image.png\"})"
   ]
  },
  {
   "cell_type": "code",
   "execution_count": 44,
   "id": "e4bfecd8-484f-4c37-a9d4-09773a31b21d",
   "metadata": {
    "tags": []
   },
   "outputs": [],
   "source": [
    "import json\n",
    "\n",
    "from src.agent.react_zero_shot import prompt_template as zero_shot_prompt_template\n",
    "# from langchain_core.prompts import MessagesPlaceholder\n",
    "\n",
    "client = OpenAI(api_key=os.environ['OPENAI_API_KEY'])\n",
    "\n",
    "class TTSInput(BaseModel):\n",
    "    text: str = Field(description=\"The story\")\n",
    "    filename: str = Field(description=\"the location at which the audio file will be saved\")\n",
    "\n",
    "    \n",
    "class TTSTool(BaseTool):\n",
    "\n",
    "    name: str = \"Text to Sound (tts) tool\"\n",
    "\n",
    "    input_output_parser: PydanticOutputParser = PydanticOutputParser(pydantic_object=TTSInput)\n",
    "    \n",
    "    input_format_instructions: str = input_output_parser.get_format_instructions()\n",
    "\n",
    "    description_template: str = (\"Use this tool to generate an audio file of the story.\\n\"\n",
    "                                 \"input format: {input_format_instructions}.\")\n",
    "\n",
    "    description: str = description_template.format(input_format_instructions=input_format_instructions)\n",
    "\n",
    "    \n",
    "    def _run(self, text: str):\n",
    "\n",
    "        input_ = self.input_output_parser.parse(text)\n",
    "\n",
    "        text = input_.text\n",
    "        filename = input_.filename\n",
    "        response = self.tts(text)\n",
    "        \n",
    "        response.stream_to_file(filename)\n",
    "        \n",
    "        return filename\n",
    "\n",
    "    def _arun(self, radius: int):\n",
    "        raise NotImplementedError(\"This tool does not support async\")\n",
    "        \n",
    "        \n",
    "    def tts(self, text: str):\n",
    "        \n",
    "        response = client.audio.speech.create(\n",
    "          model=\"tts-1\",\n",
    "          voice=\"nova\",\n",
    "          input=text\n",
    "        )\n",
    "\n",
    "        return response\n",
    "           \n",
    "            \n",
    "prompt = PromptTemplate.from_template(zero_shot_prompt_template)\n",
    "\n",
    "tools = [TTSTool(), \n",
    "         ImageTool(),\n",
    "         Tool(name=\"StoryTeller\",\n",
    "              func=story_chain.invoke,\n",
    "              description=\"useful for create a story\",\n",
    "        )]\n",
    "\n",
    "zero_shot_agent = create_react_agent(\n",
    "    llm=model,\n",
    "    tools=tools,\n",
    "    prompt=prompt,\n",
    ")\n",
    "\n",
    "agent_executor = AgentExecutor(agent=zero_shot_agent, tools=tools, verbose=True, handle_parsing_errors=True)"
   ]
  },
  {
   "cell_type": "code",
   "execution_count": 45,
   "id": "74b78a71-2bac-478a-9a4f-046bf3deba9b",
   "metadata": {
    "tags": []
   },
   "outputs": [
    {
     "name": "stdout",
     "output_type": "stream",
     "text": [
      "\n",
      "\n",
      "\u001b[1m> Entering new AgentExecutor chain...\u001b[0m\n",
      "\u001b[32;1m\u001b[1;3mTo create a chapter of a baby owl capturing a rodent in the night as his dinner, I will first generate the story using the StoryTeller tool. After that, I will create a corresponding image using the ACG characters image generator with GPT-Image-1. Finally, I will record the story as an mp3 using the Text to Sound (tts) tool. The saved image and mp3 will have the same name in the specified folder.\n",
      "\n",
      "Action: StoryTeller\n",
      "Action Input: \"Create a chapter of a baby owl capturing a rodent in the night as his dinner.\"\n",
      "\u001b[0m\u001b[38;5;200m\u001b[1;3m**Chapter 1: Ollie the Baby Owl's Nighttime Adventure**\n",
      "\n",
      "Once upon a time, in a cozy forest filled with tall trees and twinkling stars, there lived a baby owl named Ollie. Ollie had big, round eyes that sparkled like the moon and soft, fluffy feathers that kept him warm during the chilly nights.\n",
      "\n",
      "One evening, as the sun dipped below the horizon and the sky turned a deep shade of blue, Ollie woke up from his daytime nap. He stretched his tiny wings and blinked his sleepy eyes. It was time for his nighttime adventure!\n",
      "\n",
      "\"Whoo-whoo,\" Ollie hooted softly, excited to explore the forest. His wise old mother, Mama Owl, perched on a nearby branch, watching over him with loving eyes.\n",
      "\n",
      "\"Remember, Ollie,\" Mama Owl said gently, \"the night is full of wonders, but you must be careful and quiet. Tonight, you will learn to find your own dinner.\"\n",
      "\n",
      "Ollie nodded eagerly. He had been waiting for this moment for a long time. With a flutter of his wings, he took off into the night, gliding silently through the cool air.\n",
      "\n",
      "The forest was alive with the sounds of crickets chirping and leaves rustling in the breeze. Ollie flew low, his sharp eyes scanning the ground below. Suddenly, he spotted a tiny movement near a fallen log. It was a little rodent, scurrying about in search of food.\n",
      "\n",
      "Ollie's heart raced with excitement. He remembered Mama Owl's advice: \"Be patient and quiet.\" He perched on a branch, watching the rodent closely. The little creature had no idea that Ollie was nearby.\n",
      "\n",
      "With a swift and silent swoop, Ollie spread his wings and dived towards the ground. The rodent froze for a moment, sensing danger, but it was too late. Ollie gently but firmly grasped the rodent in his talons.\n",
      "\n",
      "\"Whoo-whoo,\" Ollie hooted triumphantly. He had done it! He had caught his very first dinner. With the rodent securely in his grasp, Ollie flew back to the safety of his tree, where Mama Owl was waiting.\n",
      "\n",
      "\"Well done, Ollie,\" Mama Owl said proudly. \"You have shown great skill and patience tonight.\"\n",
      "\n",
      "Ollie beamed with pride as he enjoyed his dinner. The night was still young, and he knew there would be many more adventures to come. But for now, he was happy to be back in the warmth of his nest, with Mama Owl by his side.\n",
      "\n",
      "As the stars twinkled above and the forest settled into a peaceful hush, Ollie closed his eyes, dreaming of the many nighttime adventures that awaited him. And so, under the watchful eyes of the moon and stars, Ollie the baby owl drifted off to sleep, ready for whatever the next night would bring.\n",
      "\n",
      "**The End**\u001b[0m\u001b[32;1m\u001b[1;3mThe story has been successfully generated. Now, I will create a corresponding image of Ollie the baby owl capturing a rodent in the night using the ACG characters image generator with GPT-Image-1.\n",
      "\n",
      "Action: ACG characters image generator with GPT-Image-1\n",
      "Action Input: \n",
      "```json\n",
      "{\n",
      "  \"image_desc\": \"A baby owl named Ollie with big, round eyes and soft, fluffy feathers capturing a rodent in the night. The scene is set in a cozy forest with tall trees and twinkling stars. Ollie is perched on a branch, swooping down to catch the rodent near a fallen log.\",\n",
      "  \"filename\": \"tutorial/LLM+Langchain/Week-8/Ollie_Nighttime_Adventure.png\",\n",
      "  \"size\": \"1536x1024\",\n",
      "  \"quality\": \"high\"\n",
      "}\n",
      "```\n",
      "\u001b[0mStart generating image...\n",
      "prompt: Create an image of a baby owl named Ollie with big, round eyes and soft, fluffy feathers, capturing a rodent in the night. The scene is set in a cozy forest with tall, towering trees and a sky filled with twinkling stars. Ollie is perched on a branch, mid-swoop, with wings spread wide as he descends to catch the rodent near a fallen log. The forest floor is covered in leaves and small plants, adding to the enchanting, nocturnal atmosphere.\n",
      "Image is generated succesfully.\n",
      "\u001b[33;1m\u001b[1;3mDone\u001b[0m\u001b[32;1m\u001b[1;3mThe image has been successfully created. Now, I will record the story as an mp3 file using the Text to Sound (tts) tool.\n",
      "\n",
      "Action: Text to Sound (tts) tool\n",
      "Action Input: \n",
      "```json\n",
      "{\n",
      "  \"text\": \"Chapter 1: Ollie the Baby Owl's Nighttime Adventure\\n\\nOnce upon a time, in a cozy forest filled with tall trees and twinkling stars, there lived a baby owl named Ollie. Ollie had big, round eyes that sparkled like the moon and soft, fluffy feathers that kept him warm during the chilly nights.\\n\\nOne evening, as the sun dipped below the horizon and the sky turned a deep shade of blue, Ollie woke up from his daytime nap. He stretched his tiny wings and blinked his sleepy eyes. It was time for his nighttime adventure!\\n\\n\\\"Whoo-whoo,\\\" Ollie hooted softly, excited to explore the forest. His wise old mother, Mama Owl, perched on a nearby branch, watching over him with loving eyes.\\n\\n\\\"Remember, Ollie,\\\" Mama Owl said gently, \\\"the night is full of wonders, but you must be careful and quiet. Tonight, you will learn to find your own dinner.\\\"\\n\\nOllie nodded eagerly. He had been waiting for this moment for a long time. With a flutter of his wings, he took off into the night, gliding silently through the cool air.\\n\\nThe forest was alive with the sounds of crickets chirping and leaves rustling in the breeze. Ollie flew low, his sharp eyes scanning the ground below. Suddenly, he spotted a tiny movement near a fallen log. It was a little rodent, scurrying about in search of food.\\n\\nOllie's heart raced with excitement. He remembered Mama Owl's advice: \\\"Be patient and quiet.\\\" He perched on a branch, watching the rodent closely. The little creature had no idea that Ollie was nearby.\\n\\nWith a swift and silent swoop, Ollie spread his wings and dived towards the ground. The rodent froze for a moment, sensing danger, but it was too late. Ollie gently but firmly grasped the rodent in his talons.\\n\\n\\\"Whoo-whoo,\\\" Ollie hooted triumphantly. He had done it! He had caught his very first dinner. With the rodent securely in his grasp, Ollie flew back to the safety of his tree, where Mama Owl was waiting.\\n\\n\\\"Well done, Ollie,\\\" Mama Owl said proudly. \\\"You have shown great skill and patience tonight.\\\"\\n\\nOllie beamed with pride as he enjoyed his dinner. The night was still young, and he knew there would be many more adventures to come. But for now, he was happy to be back in the warmth of his nest, with Mama Owl by his side.\\n\\nAs the stars twinkled above and the forest settled into a peaceful hush, Ollie closed his eyes, dreaming of the many nighttime adventures that awaited him. And so, under the watchful eyes of the moon and stars, Ollie the baby owl drifted off to sleep, ready for whatever the next night would bring.\\n\\nThe End\",\n",
      "  \"filename\": \"tutorial/LLM+Langchain/Week-8/Ollie_Nighttime_Adventure.mp3\"\n",
      "}\n",
      "```\n",
      "\u001b[0m"
     ]
    },
    {
     "name": "stderr",
     "output_type": "stream",
     "text": [
      "C:\\Users\\MengChieh\\AppData\\Local\\Temp\\ipykernel_29452\\1133325515.py:35: DeprecationWarning: Due to a bug, this method doesn't actually stream the response content, `.with_streaming_response.method()` should be used instead\n",
      "  response.stream_to_file(filename)\n"
     ]
    },
    {
     "name": "stdout",
     "output_type": "stream",
     "text": [
      "\u001b[36;1m\u001b[1;3mtutorial/LLM+Langchain/Week-8/Ollie_Nighttime_Adventure.mp3\u001b[0m\u001b[32;1m\u001b[1;3mI now know the final answer.\n",
      "\n",
      "Final Answer: The chapter of the baby owl capturing a rodent in the night as his dinner has been successfully created. The corresponding image and audio file have been generated and saved in the specified folder.\n",
      "\n",
      "- Image: `tutorial/LLM+Langchain/Week-8/Ollie_Nighttime_Adventure.png`\n",
      "- Audio: `tutorial/LLM+Langchain/Week-8/Ollie_Nighttime_Adventure.mp3`\n",
      "\n",
      "You can find the image and audio file in the `tutorial/LLM+Langchain/Week-8` folder.\u001b[0m\n",
      "\n",
      "\u001b[1m> Finished chain.\u001b[0m\n"
     ]
    },
    {
     "data": {
      "text/plain": [
       "{'input': 'Create a chapter of a baby owl capturing a rodent in the night as his dinner.\\nAfter having the final answer, please create a corresponding image and record the story as an mp3. The saved image (.png) and mp3 (.mp3) should have same name in the folder `tutorial/LLM+Langchain/Week-8',\n",
       " 'output': 'The chapter of the baby owl capturing a rodent in the night as his dinner has been successfully created. The corresponding image and audio file have been generated and saved in the specified folder.\\n\\n- Image: `tutorial/LLM+Langchain/Week-8/Ollie_Nighttime_Adventure.png`\\n- Audio: `tutorial/LLM+Langchain/Week-8/Ollie_Nighttime_Adventure.mp3`\\n\\nYou can find the image and audio file in the `tutorial/LLM+Langchain/Week-8` folder.'}"
      ]
     },
     "execution_count": 45,
     "metadata": {},
     "output_type": "execute_result"
    }
   ],
   "source": [
    "prompt = (\"Create a chapter of a baby owl capturing a rodent in the night as his dinner.\\n\"\n",
    "         \"After having the final answer, please create a corresponding image and record the story as an mp3. \"\n",
    "         \"The saved image (.png) and mp3 (.mp3) should have same name in the folder `tutorial/LLM+Langchain/Week-8\")\n",
    "\n",
    "agent_executor.invoke({\"input\": prompt})"
   ]
  },
  {
   "cell_type": "code",
   "execution_count": null,
   "id": "4010c9ff-d134-4175-9564-89a140ab822a",
   "metadata": {},
   "outputs": [],
   "source": [
    "prompt = \"\"\"\n",
    "         Assuming that Harry Porter is in the world of Warhammer 40k. He still has his magical power.\n",
    "         He lives in the lower part of a Hive city. It is about the time for Tithe and the black ship is comming.\n",
    "         Describe me the fate of Harry Porter. Please keep the darkness of the world view of Warhammer 40k.\n",
    "        The saved image and mp3 should have same name in the folder `tutorial/LLM+Langchain/Week-8`\n",
    "        \"\"\"\n",
    "\n",
    "agent_executor.invoke({\"input\": prompt})"
   ]
  },
  {
   "cell_type": "markdown",
   "id": "d7613df9-de89-4546-b738-323a7cc3a9c9",
   "metadata": {},
   "source": [
    "## Can we create a story with multiple pages?\n",
    "\n",
    "I do not know the answer, let me try...\n",
    "\n",
    "4 pages to save the cost. But it can be extended."
   ]
  },
  {
   "cell_type": "code",
   "execution_count": 46,
   "id": "c89f39ff-aeb8-433f-b18b-e20b622e5739",
   "metadata": {},
   "outputs": [
    {
     "name": "stdout",
     "output_type": "stream",
     "text": [
      "\n",
      "\n",
      "\u001b[1m> Entering new AgentExecutor chain...\u001b[0m\n",
      "\u001b[32;1m\u001b[1;3mI need to create a 4-page story for a child who likes snow owls. For each page, I will generate a corresponding image and record the story as an mp3. The saved images and mp3 files should have the same name, following the structure of `<Page - idx>`, with idx as a number starting from 1, in the folder `tutorial/LLM+Langchain/Week-8`.\n",
      "\n",
      "First, I will create the story using the StoryTeller tool.\n",
      "\n",
      "Action: StoryTeller\n",
      "Action Input: \"Create a 4-page story for a child who likes snow owls.\"\n",
      "\u001b[0m\u001b[38;5;200m\u001b[1;3m**Page 1: The Snowy Forest**\n",
      "\n",
      "Once upon a time, in a land where the trees were always covered in a blanket of snow, there lived a little snow owl named Oliver. Oliver had the fluffiest white feathers and the biggest, roundest eyes. He loved to explore the snowy forest, where he would swoop and glide between the tall, frosty trees.\n",
      "\n",
      "**Page 2: Oliver's New Friend**\n",
      "\n",
      "One chilly morning, as Oliver was flying over a sparkling, frozen pond, he spotted something unusual. There, sitting on a snow-covered log, was a tiny, shivering bunny. Oliver swooped down and landed softly beside the bunny. \"Hello, I'm Oliver. Are you okay?\" he asked.\n",
      "\n",
      "The bunny looked up with big, grateful eyes. \"Hi, I'm Bella. I got lost and can't find my way home,\" she said with a sniffle.\n",
      "\n",
      "**Page 3: The Adventure Begins**\n",
      "\n",
      "Oliver fluffed up his feathers to keep Bella warm. \"Don't worry, Bella. I'll help you find your way home,\" he said kindly. Together, they set off through the snowy forest. Oliver flew above, keeping an eye out for any signs of Bella's home, while Bella hopped along the snowy path.\n",
      "\n",
      "As they traveled, they met other forest friends who offered to help. A wise old fox pointed them towards a cozy burrow, and a family of deer shared some tasty berries to keep them energized.\n",
      "\n",
      "**Page 4: Home Sweet Home**\n",
      "\n",
      "Just as the sun began to set, casting a golden glow over the snowy landscape, Oliver spotted a familiar-looking burrow nestled under a large pine tree. \"Bella, I think we've found it!\" he hooted excitedly.\n",
      "\n",
      "Bella's eyes lit up with joy. \"That's my home! Thank you, Oliver!\" she exclaimed, hopping quickly to the burrow. Her family rushed out to greet her, hugging her tightly.\n",
      "\n",
      "Oliver felt warm inside, even in the chilly air. He knew he had made a new friend and helped her find her way home. As he flew back to his own cozy nest, he looked forward to many more adventures in the snowy forest with his new friend, Bella.\n",
      "\n",
      "And so, Oliver the snow owl and Bella the bunny lived happily ever after, always ready to help each other and explore the magical, snowy forest together.\u001b[0m\u001b[32;1m\u001b[1;3mI now have the 4-page story for the child who likes snow owls. The next steps are to create corresponding images for each page and record the story as mp3 files. I will start with Page 1.\n",
      "\n",
      "Action: ACG characters image generator with GPT-Image-1\n",
      "Action Input: \n",
      "```json\n",
      "{\n",
      "  \"image_desc\": \"A snowy forest with tall, frosty trees and a little snow owl named Oliver with fluffy white feathers and big, round eyes swooping and gliding.\",\n",
      "  \"filename\": \"tutorial/LLM+Langchain/Week-8/Page-1.png\",\n",
      "  \"size\": \"1024x1024\",\n",
      "  \"quality\": \"high\"\n",
      "}\n",
      "```\n",
      "\u001b[0mStart generating image...\n",
      "prompt: Create an enchanting winter scene of a snowy forest with tall, frosty trees. In the foreground, a little snow owl named Oliver, with fluffy white feathers and big, round eyes, is swooping and gliding gracefully through the air. The forest is blanketed in a thick layer of snow, and the branches of the trees are heavy with frost. The soft, diffused light of a winter morning casts a magical glow over the entire scene, highlighting the delicate details of Oliver's feathers and the intricate patterns of the frost on the trees.\n",
      "Image is generated succesfully.\n",
      "\u001b[33;1m\u001b[1;3mDone\u001b[0m\u001b[32;1m\u001b[1;3mI have successfully generated the image for Page 1. Now, I will proceed to record the story for Page 1 as an mp3 file.\n",
      "\n",
      "Action: Text to Sound (tts) tool\n",
      "Action Input: \n",
      "```json\n",
      "{\n",
      "  \"text\": \"Once upon a time, in a land where the trees were always covered in a blanket of snow, there lived a little snow owl named Oliver. Oliver had the fluffiest white feathers and the biggest, roundest eyes. He loved to explore the snowy forest, where he would swoop and glide between the tall, frosty trees.\",\n",
      "  \"filename\": \"tutorial/LLM+Langchain/Week-8/Page-1.mp3\"\n",
      "}\n",
      "```\n",
      "\u001b[0m"
     ]
    },
    {
     "name": "stderr",
     "output_type": "stream",
     "text": [
      "C:\\Users\\MengChieh\\AppData\\Local\\Temp\\ipykernel_29452\\1133325515.py:35: DeprecationWarning: Due to a bug, this method doesn't actually stream the response content, `.with_streaming_response.method()` should be used instead\n",
      "  response.stream_to_file(filename)\n"
     ]
    },
    {
     "name": "stdout",
     "output_type": "stream",
     "text": [
      "\u001b[36;1m\u001b[1;3mtutorial/LLM+Langchain/Week-8/Page-1.mp3\u001b[0m\u001b[32;1m\u001b[1;3mI have successfully generated the image and recorded the story for Page 1. Now, I will proceed to create the corresponding image and record the story for Page 2.\n",
      "\n",
      "Action: ACG characters image generator with GPT-Image-1\n",
      "Action Input: \n",
      "```json\n",
      "{\n",
      "  \"image_desc\": \"A tiny, shivering bunny named Bella sitting on a snow-covered log by a sparkling, frozen pond. Oliver, the snow owl, lands softly beside her.\",\n",
      "  \"filename\": \"tutorial/LLM+Langchain/Week-8/Page-2.png\",\n",
      "  \"size\": \"1024x1024\",\n",
      "  \"quality\": \"high\"\n",
      "}\n",
      "```\n",
      "\u001b[0mStart generating image...\n",
      "prompt: A heartwarming winter scene featuring a tiny, shivering bunny named Bella sitting on a snow-covered log by a sparkling, frozen pond. The delicate snowflakes gently fall around her, creating a serene and magical atmosphere. Beside Bella, a majestic snow owl named Oliver lands softly, his feathers blending seamlessly with the snowy landscape. The scene is bathed in the soft, ethereal light of a winter's day, highlighting the intricate details of the snow and the gentle expressions of the animals.\n",
      "Image is generated succesfully.\n",
      "\u001b[33;1m\u001b[1;3mDone\u001b[0m\u001b[32;1m\u001b[1;3mI have successfully generated the image for Page 2. Now, I will proceed to record the story for Page 2 as an mp3 file.\n",
      "\n",
      "Action: Text to Sound (tts) tool\n",
      "Action Input: \n",
      "```json\n",
      "{\n",
      "  \"text\": \"One chilly morning, as Oliver was flying over a sparkling, frozen pond, he spotted something unusual. There, sitting on a snow-covered log, was a tiny, shivering bunny. Oliver swooped down and landed softly beside the bunny. 'Hello, I'm Oliver. Are you okay?' he asked. The bunny looked up with big, grateful eyes. 'Hi, I'm Bella. I got lost and can't find my way home,' she said with a sniffle.\",\n",
      "  \"filename\": \"tutorial/LLM+Langchain/Week-8/Page-2.mp3\"\n",
      "}\n",
      "```\n",
      "\u001b[0m"
     ]
    },
    {
     "name": "stderr",
     "output_type": "stream",
     "text": [
      "C:\\Users\\MengChieh\\AppData\\Local\\Temp\\ipykernel_29452\\1133325515.py:35: DeprecationWarning: Due to a bug, this method doesn't actually stream the response content, `.with_streaming_response.method()` should be used instead\n",
      "  response.stream_to_file(filename)\n"
     ]
    },
    {
     "name": "stdout",
     "output_type": "stream",
     "text": [
      "\u001b[36;1m\u001b[1;3mtutorial/LLM+Langchain/Week-8/Page-2.mp3\u001b[0m\u001b[32;1m\u001b[1;3mI have successfully generated the image and recorded the story for Page 2. Now, I will proceed to create the corresponding image and record the story for Page 3.\n",
      "\n",
      "Action: ACG characters image generator with GPT-Image-1\n",
      "Action Input: \n",
      "```json\n",
      "{\n",
      "  \"image_desc\": \"Oliver the snow owl flying above, keeping an eye out for any signs of Bella's home, while Bella the bunny hops along the snowy path. They meet a wise old fox and a family of deer in the snowy forest.\",\n",
      "  \"filename\": \"tutorial/LLM+Langchain/Week-8/Page-3.png\",\n",
      "  \"size\": \"1024x1024\",\n",
      "  \"quality\": \"high\"\n",
      "}\n",
      "```\n",
      "\u001b[0mStart generating image...\n",
      "prompt: Create an enchanting winter scene featuring Oliver the snow owl soaring gracefully above a snowy forest, his keen eyes scanning for any signs of Bella's home. Below, Bella the bunny hops along a snow-covered path, her fur blending with the pristine white surroundings. In the heart of the forest, they encounter a wise old fox with a knowing gaze and a family of deer standing gracefully among the snow-laden trees. The scene is bathed in the soft, ethereal light of a winter's day, with delicate snowflakes gently falling from the sky.\n",
      "Image is generated succesfully.\n",
      "\u001b[33;1m\u001b[1;3mDone\u001b[0m\u001b[32;1m\u001b[1;3mI have successfully generated the image for Page 3. Now, I will proceed to record the story for Page 3 as an mp3 file.\n",
      "\n",
      "Action: Text to Sound (tts) tool\n",
      "Action Input: \n",
      "```json\n",
      "{\n",
      "  \"text\": \"Oliver fluffed up his feathers to keep Bella warm. 'Don't worry, Bella. I'll help you find your way home,' he said kindly. Together, they set off through the snowy forest. Oliver flew above, keeping an eye out for any signs of Bella's home, while Bella hopped along the snowy path. As they traveled, they met other forest friends who offered to help. A wise old fox pointed them towards a cozy burrow, and a family of deer shared some tasty berries to keep them energized.\",\n",
      "  \"filename\": \"tutorial/LLM+Langchain/Week-8/Page-3.mp3\"\n",
      "}\n",
      "```\n",
      "\u001b[0m"
     ]
    },
    {
     "name": "stderr",
     "output_type": "stream",
     "text": [
      "C:\\Users\\MengChieh\\AppData\\Local\\Temp\\ipykernel_29452\\1133325515.py:35: DeprecationWarning: Due to a bug, this method doesn't actually stream the response content, `.with_streaming_response.method()` should be used instead\n",
      "  response.stream_to_file(filename)\n"
     ]
    },
    {
     "name": "stdout",
     "output_type": "stream",
     "text": [
      "\u001b[36;1m\u001b[1;3mtutorial/LLM+Langchain/Week-8/Page-3.mp3\u001b[0m\u001b[32;1m\u001b[1;3mI have successfully generated the image and recorded the story for Page 3. Now, I will proceed to create the corresponding image and record the story for Page 4.\n",
      "\n",
      "Action: ACG characters image generator with GPT-Image-1\n",
      "Action Input: \n",
      "```json\n",
      "{\n",
      "  \"image_desc\": \"A familiar-looking burrow nestled under a large pine tree with a golden glow from the setting sun. Bella the bunny is hopping quickly to the burrow where her family is rushing out to greet her. Oliver the snow owl is watching happily.\",\n",
      "  \"filename\": \"tutorial/LLM+Langchain/Week-8/Page-4.png\",\n",
      "  \"size\": \"1024x1024\",\n",
      "  \"quality\": \"high\"\n",
      "}\n",
      "```\n",
      "\u001b[0mStart generating image...\n",
      "prompt: Create an enchanting scene of a cozy burrow nestled under a large, majestic pine tree, bathed in the warm, golden glow of the setting sun. Bella the bunny is seen hopping quickly towards the burrow, where her family of bunnies is eagerly rushing out to greet her. Above, perched on a branch of the pine tree, Oliver the snow owl watches the joyful reunion with a contented expression. The atmosphere should be warm and inviting, with soft, golden light casting long shadows and highlighting the textures of the pine needles and the fur of the animals.\n",
      "Image is generated succesfully.\n",
      "\u001b[33;1m\u001b[1;3mDone\u001b[0m\u001b[32;1m\u001b[1;3mI have successfully generated the image for Page 4. Now, I will proceed to record the story for Page 4 as an mp3 file.\n",
      "\n",
      "Action: Text to Sound (tts) tool\n",
      "Action Input: \n",
      "```json\n",
      "{\n",
      "  \"text\": \"Just as the sun began to set, casting a golden glow over the snowy landscape, Oliver spotted a familiar-looking burrow nestled under a large pine tree. 'Bella, I think we've found it!' he hooted excitedly. Bella's eyes lit up with joy. 'That's my home! Thank you, Oliver!' she exclaimed, hopping quickly to the burrow. Her family rushed out to greet her, hugging her tightly. Oliver felt warm inside, even in the chilly air. He knew he had made a new friend and helped her find her way home. As he flew back to his own cozy nest, he looked forward to many more adventures in the snowy forest with his new friend, Bella. And so, Oliver the snow owl and Bella the bunny lived happily ever after, always ready to help each other and explore the magical, snowy forest together.\",\n",
      "  \"filename\": \"tutorial/LLM+Langchain/Week-8/Page-4.mp3\"\n",
      "}\n",
      "```\n",
      "\u001b[0m"
     ]
    },
    {
     "name": "stderr",
     "output_type": "stream",
     "text": [
      "C:\\Users\\MengChieh\\AppData\\Local\\Temp\\ipykernel_29452\\1133325515.py:35: DeprecationWarning: Due to a bug, this method doesn't actually stream the response content, `.with_streaming_response.method()` should be used instead\n",
      "  response.stream_to_file(filename)\n"
     ]
    },
    {
     "name": "stdout",
     "output_type": "stream",
     "text": [
      "\u001b[36;1m\u001b[1;3mtutorial/LLM+Langchain/Week-8/Page-4.mp3\u001b[0m\u001b[32;1m\u001b[1;3mI have successfully generated the images and recorded the story for all four pages. Here is the final answer with the corresponding images and mp3 files saved in the specified folder structure.\n",
      "\n",
      "Final Answer:\n",
      "\n",
      "**Page 1: The Snowy Forest**\n",
      "- Image: `tutorial/LLM+Langchain/Week-8/Page-1.png`\n",
      "- Audio: `tutorial/LLM+Langchain/Week-8/Page-1.mp3`\n",
      "\n",
      "**Page 2: Oliver's New Friend**\n",
      "- Image: `tutorial/LLM+Langchain/Week-8/Page-2.png`\n",
      "- Audio: `tutorial/LLM+Langchain/Week-8/Page-2.mp3`\n",
      "\n",
      "**Page 3: The Adventure Begins**\n",
      "- Image: `tutorial/LLM+Langchain/Week-8/Page-3.png`\n",
      "- Audio: `tutorial/LLM+Langchain/Week-8/Page-3.mp3`\n",
      "\n",
      "**Page 4: Home Sweet Home**\n",
      "- Image: `tutorial/LLM+Langchain/Week-8/Page-4.png`\n",
      "- Audio: `tutorial/LLM+Langchain/Week-8/Page-4.mp3`\n",
      "\n",
      "The story and corresponding media files are now ready for the child to enjoy.\u001b[0m\n",
      "\n",
      "\u001b[1m> Finished chain.\u001b[0m\n"
     ]
    },
    {
     "data": {
      "text/plain": [
       "{'input': '\\n         I want to create an 4 pages story for a child. He likes snow owl.\\n         For each page, please create a corresponding image and record the story as an mp3.\\n         After having the final answer, please create a corresponding image and record the story as an mp3. \\n         The saved image and mp3 should have same name, following the structure of \\n         <Page - idx>, with idx as a number starting from 1, in the folder `tutorial/LLM+Langchain/Week-8`\\n         ',\n",
       " 'output': \"**Page 1: The Snowy Forest**\\n- Image: `tutorial/LLM+Langchain/Week-8/Page-1.png`\\n- Audio: `tutorial/LLM+Langchain/Week-8/Page-1.mp3`\\n\\n**Page 2: Oliver's New Friend**\\n- Image: `tutorial/LLM+Langchain/Week-8/Page-2.png`\\n- Audio: `tutorial/LLM+Langchain/Week-8/Page-2.mp3`\\n\\n**Page 3: The Adventure Begins**\\n- Image: `tutorial/LLM+Langchain/Week-8/Page-3.png`\\n- Audio: `tutorial/LLM+Langchain/Week-8/Page-3.mp3`\\n\\n**Page 4: Home Sweet Home**\\n- Image: `tutorial/LLM+Langchain/Week-8/Page-4.png`\\n- Audio: `tutorial/LLM+Langchain/Week-8/Page-4.mp3`\\n\\nThe story and corresponding media files are now ready for the child to enjoy.\"}"
      ]
     },
     "execution_count": 46,
     "metadata": {},
     "output_type": "execute_result"
    }
   ],
   "source": [
    "prompt = \"\"\"\n",
    "         I want to create an 4 pages story for a child. He likes snow owl.\n",
    "         For each page, please create a corresponding image and record the story as an mp3.\n",
    "         After having the final answer, please create a corresponding image and record the story as an mp3. \n",
    "         The saved image and mp3 should have same name, following the structure of \n",
    "         <Page - idx>, with idx as a number starting from 1, in the folder `tutorial/LLM+Langchain/Week-8`\n",
    "         \"\"\"\n",
    "\n",
    "agent_executor.invoke({\"input\": prompt})"
   ]
  },
  {
   "cell_type": "markdown",
   "id": "65fa69d6-caac-4521-bfbc-8a914e00dd14",
   "metadata": {},
   "source": [
    "## Can we create a story in an interactive way: chat based\n",
    "\n",
    "-- Rolling back..."
   ]
  },
  {
   "cell_type": "code",
   "execution_count": 47,
   "id": "fafca2e5-93fc-4a49-92c6-d0cae5664cca",
   "metadata": {},
   "outputs": [],
   "source": [
    "from langchain.prompts import PromptTemplate\n",
    "from langchain_core.runnables import RunnablePassthrough\n",
    "\n",
    "from langchain.output_parsers import StructuredOutputParser, ResponseSchema\n",
    "\n",
    "output_response_schemas = [\n",
    "        ResponseSchema(name=\"story\", description=\"the story content in the page\"),\n",
    "        ResponseSchema(name=\"page index\", description=\"The page number of the story\"),\n",
    "    ]\n",
    "\n",
    "output_parser = StructuredOutputParser.from_response_schemas(output_response_schemas)\n",
    "\n",
    "output_format_instructions = output_parser.get_format_instructions()\n",
    "\n",
    "\n",
    "template = \"\"\"\n",
    "           Create a story page {idx}, based on the description: {text}\n",
    "\n",
    "           The answer continues from previous content:\n",
    "           {context}\n",
    "\n",
    "           After having the final answer, please create a corresponding image and record the story as an mp3. \n",
    "           The saved image and mp3 should have same name, following the structure of \n",
    "           <Page - idx>, in the folder `tutorial/LLM+Langchain/Week-8`\n",
    "\n",
    "           The output should have the following format: {output_format_instruction}\n",
    "           \"\"\"\n",
    "\n",
    "prompt_template = PromptTemplate(template=template,\n",
    "                                 input_variables=[\"text\", \"context\", \"idx\"],\n",
    "                                 partial_variables={\"output_format_instruction\": output_format_instructions})\n",
    "\n",
    "agent_chain = RunnablePassthrough.assign(input=prompt_template)|agent_executor"
   ]
  },
  {
   "cell_type": "code",
   "execution_count": 48,
   "id": "da0e5fb0-709c-4a51-a737-d95d949df1b8",
   "metadata": {},
   "outputs": [
    {
     "name": "stdout",
     "output_type": "stream",
     "text": [
      "\n",
      "\n",
      "\u001b[1m> Entering new AgentExecutor chain...\u001b[0m\n",
      "\u001b[32;1m\u001b[1;3mTo create the story page, I need to first generate the story content based on the given description. Then, I will create an image and an audio file for the story. Finally, I will format the output as a JSON snippet.\n",
      "\n",
      "Action: StoryTeller\n",
      "Action Input: \"A little cat just woke up in the morning\"\n",
      "\u001b[0m\u001b[38;5;200m\u001b[1;3m**Chapter 1: The Morning Adventure**\n",
      "\n",
      "Once upon a time, in a cozy little house at the edge of a friendly forest, a little cat named Whiskers just woke up in the morning. Whiskers had soft, fluffy fur that was as white as snow, and big, curious green eyes that sparkled like emeralds.\n",
      "\n",
      "As the first rays of sunshine peeked through the window, Whiskers stretched his tiny paws and let out a big, happy yawn. \"Good morning, world!\" he purred, feeling excited about the new day.\n",
      "\n",
      "Whiskers loved mornings because they were always full of surprises. He hopped out of his comfy bed and padded over to the window. Outside, the birds were singing cheerful songs, and the flowers in the garden were blooming in bright, beautiful colors.\n",
      "\n",
      "\"Today is going to be a wonderful day,\" Whiskers thought to himself. He decided to start his morning with a little adventure. But first, he needed to have his breakfast. Whiskers trotted over to the kitchen, where a bowl of his favorite fishy treats was waiting for him.\n",
      "\n",
      "After munching on his delicious breakfast, Whiskers felt ready to explore. He put on his tiny blue collar with a shiny silver bell and headed out the door. The garden was full of interesting things to see and smell. Whiskers sniffed the flowers, chased a fluttering butterfly, and even said hello to his friend, Mr. Squirrel, who was busy gathering acorns.\n",
      "\n",
      "\"Good morning, Mr. Squirrel!\" Whiskers called out.\n",
      "\n",
      "\"Good morning, Whiskers!\" Mr. Squirrel replied with a friendly wave. \"What are you up to today?\"\n",
      "\n",
      "\"I'm going on a morning adventure!\" Whiskers said with a twinkle in his eye. \"Would you like to join me?\"\n",
      "\n",
      "Mr. Squirrel thought for a moment and then nodded. \"That sounds like fun! Let's go see what we can find.\"\n",
      "\n",
      "And so, Whiskers and Mr. Squirrel set off together, ready to discover the wonders of the day. Little did they know, their morning adventure was just beginning, and many delightful surprises awaited them.\n",
      "\n",
      "To be continued...\u001b[0m\u001b[32;1m\u001b[1;3mI have the story content for page 1. Now, I need to create a corresponding image and record the story as an mp3 file. The saved image and mp3 should have the same name, following the structure of `<Page - idx>`, in the folder `tutorial/LLM+Langchain/Week-8`.\n",
      "\n",
      "Action: ACG characters image generator with GPT-Image-1\n",
      "Action Input: \n",
      "```json\n",
      "{\n",
      "  \"image_desc\": \"A little cat named Whiskers with soft, fluffy white fur and big, curious green eyes, stretching and yawning in the morning sunlight. The background shows a cozy little house with a window where the first rays of sunshine are peeking through.\",\n",
      "  \"filename\": \"tutorial/LLM+Langchain/Week-8/Page-1.png\",\n",
      "  \"size\": \"1024x1024\",\n",
      "  \"quality\": \"high\"\n",
      "}\n",
      "```\n",
      "\u001b[0mStart generating image...\n",
      "prompt: Create an image of a little cat named Whiskers with soft, fluffy white fur and big, curious green eyes. Whiskers is stretching and yawning in the warm morning sunlight. The background features a cozy little house with a window where the first rays of sunshine are peeking through, casting a gentle glow on Whiskers. The scene should evoke a sense of warmth and tranquility, highlighting the peaceful start of a new day.\n",
      "Image is generated succesfully.\n",
      "\u001b[33;1m\u001b[1;3mDone\u001b[0m\u001b[32;1m\u001b[1;3mI have successfully generated the image for the story. Now, I need to create an audio file of the story content.\n",
      "\n",
      "Action: Text to Sound (tts) tool\n",
      "Action Input: \n",
      "```json\n",
      "{\n",
      "  \"text\": \"Chapter 1: The Morning Adventure\\n\\nOnce upon a time, in a cozy little house at the edge of a friendly forest, a little cat named Whiskers just woke up in the morning. Whiskers had soft, fluffy fur that was as white as snow, and big, curious green eyes that sparkled like emeralds.\\n\\nAs the first rays of sunshine peeked through the window, Whiskers stretched his tiny paws and let out a big, happy yawn. 'Good morning, world!' he purred, feeling excited about the new day.\\n\\nWhiskers loved mornings because they were always full of surprises. He hopped out of his comfy bed and padded over to the window. Outside, the birds were singing cheerful songs, and the flowers in the garden were blooming in bright, beautiful colors.\\n\\n'Today is going to be a wonderful day,' Whiskers thought to himself. He decided to start his morning with a little adventure. But first, he needed to have his breakfast. Whiskers trotted over to the kitchen, where a bowl of his favorite fishy treats was waiting for him.\\n\\nAfter munching on his delicious breakfast, Whiskers felt ready to explore. He put on his tiny blue collar with a shiny silver bell and headed out the door. The garden was full of interesting things to see and smell. Whiskers sniffed the flowers, chased a fluttering butterfly, and even said hello to his friend, Mr. Squirrel, who was busy gathering acorns.\\n\\n'Good morning, Mr. Squirrel!' Whiskers called out.\\n\\n'Good morning, Whiskers!' Mr. Squirrel replied with a friendly wave. 'What are you up to today?'\\n\\n'I'm going on a morning adventure!' Whiskers said with a twinkle in his eye. 'Would you like to join me?'\\n\\nMr. Squirrel thought for a moment and then nodded. 'That sounds like fun! Let's go see what we can find.'\\n\\nAnd so, Whiskers and Mr. Squirrel set off together, ready to discover the wonders of the day. Little did they know, their morning adventure was just beginning, and many delightful surprises awaited them.\\n\\nTo be continued...\",\n",
      "  \"filename\": \"tutorial/LLM+Langchain/Week-8/Page-1.mp3\"\n",
      "}\n",
      "```\n",
      "\u001b[0m"
     ]
    },
    {
     "name": "stderr",
     "output_type": "stream",
     "text": [
      "C:\\Users\\MengChieh\\AppData\\Local\\Temp\\ipykernel_29452\\1133325515.py:35: DeprecationWarning: Due to a bug, this method doesn't actually stream the response content, `.with_streaming_response.method()` should be used instead\n",
      "  response.stream_to_file(filename)\n"
     ]
    },
    {
     "name": "stdout",
     "output_type": "stream",
     "text": [
      "\u001b[36;1m\u001b[1;3mtutorial/LLM+Langchain/Week-8/Page-1.mp3\u001b[0m\u001b[32;1m\u001b[1;3mI have successfully generated the image and the audio file for the story. Now, I will format the output as a JSON snippet.\n",
      "\n",
      "Final Answer:\n",
      "```json\n",
      "{\n",
      "\t\"story\": \"Chapter 1: The Morning Adventure\\n\\nOnce upon a time, in a cozy little house at the edge of a friendly forest, a little cat named Whiskers just woke up in the morning. Whiskers had soft, fluffy fur that was as white as snow, and big, curious green eyes that sparkled like emeralds.\\n\\nAs the first rays of sunshine peeked through the window, Whiskers stretched his tiny paws and let out a big, happy yawn. 'Good morning, world!' he purred, feeling excited about the new day.\\n\\nWhiskers loved mornings because they were always full of surprises. He hopped out of his comfy bed and padded over to the window. Outside, the birds were singing cheerful songs, and the flowers in the garden were blooming in bright, beautiful colors.\\n\\n'Today is going to be a wonderful day,' Whiskers thought to himself. He decided to start his morning with a little adventure. But first, he needed to have his breakfast. Whiskers trotted over to the kitchen, where a bowl of his favorite fishy treats was waiting for him.\\n\\nAfter munching on his delicious breakfast, Whiskers felt ready to explore. He put on his tiny blue collar with a shiny silver bell and headed out the door. The garden was full of interesting things to see and smell. Whiskers sniffed the flowers, chased a fluttering butterfly, and even said hello to his friend, Mr. Squirrel, who was busy gathering acorns.\\n\\n'Good morning, Mr. Squirrel!' Whiskers called out.\\n\\n'Good morning, Whiskers!' Mr. Squirrel replied with a friendly wave. 'What are you up to today?'\\n\\n'I'm going on a morning adventure!' Whiskers said with a twinkle in his eye. 'Would you like to join me?'\\n\\nMr. Squirrel thought for a moment and then nodded. 'That sounds like fun! Let's go see what we can find.'\\n\\nAnd so, Whiskers and Mr. Squirrel set off together, ready to discover the wonders of the day. Little did they know, their morning adventure was just beginning, and many delightful surprises awaited them.\\n\\nTo be continued...\",\n",
      "\t\"page index\": \"1\"\n",
      "}\n",
      "```\u001b[0m\n",
      "\n",
      "\u001b[1m> Finished chain.\u001b[0m\n"
     ]
    }
   ],
   "source": [
    "Q = agent_chain.invoke({\"text\": \"A little cat just woke up in the morning\",\n",
    "                        \"context\": \"The beginning of the story:\\n\",\n",
    "                        \"idx\": str(1)})"
   ]
  },
  {
   "cell_type": "markdown",
   "id": "5e5c5db4-a1f1-48a9-9316-4734886a4d11",
   "metadata": {},
   "source": [
    "若是以下步驟失敗，嘗試重新生成。這是大語言模型，沒有保證可以100%產出你希望的格式。我們只能盡可能提高成功輸出的機率。"
   ]
  },
  {
   "cell_type": "code",
   "execution_count": 49,
   "id": "727746b3-7d2a-44cb-bc2a-65ee873aec49",
   "metadata": {},
   "outputs": [
    {
     "data": {
      "text/plain": [
       "'```json\\n{\\n\\t\"story\": \"Chapter 1: The Morning Adventure\\\\n\\\\nOnce upon a time, in a cozy little house at the edge of a friendly forest, a little cat named Whiskers just woke up in the morning. Whiskers had soft, fluffy fur that was as white as snow, and big, curious green eyes that sparkled like emeralds.\\\\n\\\\nAs the first rays of sunshine peeked through the window, Whiskers stretched his tiny paws and let out a big, happy yawn. \\'Good morning, world!\\' he purred, feeling excited about the new day.\\\\n\\\\nWhiskers loved mornings because they were always full of surprises. He hopped out of his comfy bed and padded over to the window. Outside, the birds were singing cheerful songs, and the flowers in the garden were blooming in bright, beautiful colors.\\\\n\\\\n\\'Today is going to be a wonderful day,\\' Whiskers thought to himself. He decided to start his morning with a little adventure. But first, he needed to have his breakfast. Whiskers trotted over to the kitchen, where a bowl of his favorite fishy treats was waiting for him.\\\\n\\\\nAfter munching on his delicious breakfast, Whiskers felt ready to explore. He put on his tiny blue collar with a shiny silver bell and headed out the door. The garden was full of interesting things to see and smell. Whiskers sniffed the flowers, chased a fluttering butterfly, and even said hello to his friend, Mr. Squirrel, who was busy gathering acorns.\\\\n\\\\n\\'Good morning, Mr. Squirrel!\\' Whiskers called out.\\\\n\\\\n\\'Good morning, Whiskers!\\' Mr. Squirrel replied with a friendly wave. \\'What are you up to today?\\'\\\\n\\\\n\\'I\\'m going on a morning adventure!\\' Whiskers said with a twinkle in his eye. \\'Would you like to join me?\\'\\\\n\\\\nMr. Squirrel thought for a moment and then nodded. \\'That sounds like fun! Let\\'s go see what we can find.\\'\\\\n\\\\nAnd so, Whiskers and Mr. Squirrel set off together, ready to discover the wonders of the day. Little did they know, their morning adventure was just beginning, and many delightful surprises awaited them.\\\\n\\\\nTo be continued...\",\\n\\t\"page index\": \"1\"\\n}\\n```'"
      ]
     },
     "execution_count": 49,
     "metadata": {},
     "output_type": "execute_result"
    }
   ],
   "source": [
    "Q['output']"
   ]
  },
  {
   "cell_type": "code",
   "execution_count": 50,
   "id": "ca4eec1e-8a56-49f5-9562-9fad0f524536",
   "metadata": {},
   "outputs": [
    {
     "data": {
      "text/plain": [
       "{'story': \"Chapter 1: The Morning Adventure\\n\\nOnce upon a time, in a cozy little house at the edge of a friendly forest, a little cat named Whiskers just woke up in the morning. Whiskers had soft, fluffy fur that was as white as snow, and big, curious green eyes that sparkled like emeralds.\\n\\nAs the first rays of sunshine peeked through the window, Whiskers stretched his tiny paws and let out a big, happy yawn. 'Good morning, world!' he purred, feeling excited about the new day.\\n\\nWhiskers loved mornings because they were always full of surprises. He hopped out of his comfy bed and padded over to the window. Outside, the birds were singing cheerful songs, and the flowers in the garden were blooming in bright, beautiful colors.\\n\\n'Today is going to be a wonderful day,' Whiskers thought to himself. He decided to start his morning with a little adventure. But first, he needed to have his breakfast. Whiskers trotted over to the kitchen, where a bowl of his favorite fishy treats was waiting for him.\\n\\nAfter munching on his delicious breakfast, Whiskers felt ready to explore. He put on his tiny blue collar with a shiny silver bell and headed out the door. The garden was full of interesting things to see and smell. Whiskers sniffed the flowers, chased a fluttering butterfly, and even said hello to his friend, Mr. Squirrel, who was busy gathering acorns.\\n\\n'Good morning, Mr. Squirrel!' Whiskers called out.\\n\\n'Good morning, Whiskers!' Mr. Squirrel replied with a friendly wave. 'What are you up to today?'\\n\\n'I'm going on a morning adventure!' Whiskers said with a twinkle in his eye. 'Would you like to join me?'\\n\\nMr. Squirrel thought for a moment and then nodded. 'That sounds like fun! Let's go see what we can find.'\\n\\nAnd so, Whiskers and Mr. Squirrel set off together, ready to discover the wonders of the day. Little did they know, their morning adventure was just beginning, and many delightful surprises awaited them.\\n\\nTo be continued...\",\n",
       " 'page index': '1'}"
      ]
     },
     "execution_count": 50,
     "metadata": {},
     "output_type": "execute_result"
    }
   ],
   "source": [
    "output_parser.parse(Q['output'])"
   ]
  },
  {
   "cell_type": "code",
   "execution_count": 51,
   "id": "a7d871f0-78aa-408e-b362-c2ec3d58f6db",
   "metadata": {},
   "outputs": [
    {
     "data": {
      "text/plain": [
       "\"Chapter 1: The Morning Adventure\\n\\nOnce upon a time, in a cozy little house at the edge of a friendly forest, a little cat named Whiskers just woke up in the morning. Whiskers had soft, fluffy fur that was as white as snow, and big, curious green eyes that sparkled like emeralds.\\n\\nAs the first rays of sunshine peeked through the window, Whiskers stretched his tiny paws and let out a big, happy yawn. 'Good morning, world!' he purred, feeling excited about the new day.\\n\\nWhiskers loved mornings because they were always full of surprises. He hopped out of his comfy bed and padded over to the window. Outside, the birds were singing cheerful songs, and the flowers in the garden were blooming in bright, beautiful colors.\\n\\n'Today is going to be a wonderful day,' Whiskers thought to himself. He decided to start his morning with a little adventure. But first, he needed to have his breakfast. Whiskers trotted over to the kitchen, where a bowl of his favorite fishy treats was waiting for him.\\n\\nAfter munching on his delicious breakfast, Whiskers felt ready to explore. He put on his tiny blue collar with a shiny silver bell and headed out the door. The garden was full of interesting things to see and smell. Whiskers sniffed the flowers, chased a fluttering butterfly, and even said hello to his friend, Mr. Squirrel, who was busy gathering acorns.\\n\\n'Good morning, Mr. Squirrel!' Whiskers called out.\\n\\n'Good morning, Whiskers!' Mr. Squirrel replied with a friendly wave. 'What are you up to today?'\\n\\n'I'm going on a morning adventure!' Whiskers said with a twinkle in his eye. 'Would you like to join me?'\\n\\nMr. Squirrel thought for a moment and then nodded. 'That sounds like fun! Let's go see what we can find.'\\n\\nAnd so, Whiskers and Mr. Squirrel set off together, ready to discover the wonders of the day. Little did they know, their morning adventure was just beginning, and many delightful surprises awaited them.\\n\\nTo be continued...\""
      ]
     },
     "execution_count": 51,
     "metadata": {},
     "output_type": "execute_result"
    }
   ],
   "source": [
    "output_parser.parse(Q['output'])['story']"
   ]
  },
  {
   "cell_type": "code",
   "execution_count": 52,
   "id": "f04b14f4-af8c-48f1-a35f-19581300062c",
   "metadata": {},
   "outputs": [
    {
     "data": {
      "text/plain": [
       "'1'"
      ]
     },
     "execution_count": 52,
     "metadata": {},
     "output_type": "execute_result"
    }
   ],
   "source": [
    "output_parser.parse(Q['output'])['page index']"
   ]
  },
  {
   "cell_type": "markdown",
   "id": "c7173de4-9db3-4e49-bf0f-af35f2654cf9",
   "metadata": {},
   "source": [
    "### 第二頁"
   ]
  },
  {
   "cell_type": "code",
   "execution_count": 53,
   "id": "77c9062a-d980-43e3-a374-aaef6f31bf77",
   "metadata": {},
   "outputs": [
    {
     "name": "stdout",
     "output_type": "stream",
     "text": [
      "[\"Chapter 1: The Morning Adventure\\n\\nOnce upon a time, in a cozy little house at the edge of a friendly forest, a little cat named Whiskers just woke up in the morning. Whiskers had soft, fluffy fur that was as white as snow, and big, curious green eyes that sparkled like emeralds.\\n\\nAs the first rays of sunshine peeked through the window, Whiskers stretched his tiny paws and let out a big, happy yawn. 'Good morning, world!' he purred, feeling excited about the new day.\\n\\nWhiskers loved mornings because they were always full of surprises. He hopped out of his comfy bed and padded over to the window. Outside, the birds were singing cheerful songs, and the flowers in the garden were blooming in bright, beautiful colors.\\n\\n'Today is going to be a wonderful day,' Whiskers thought to himself. He decided to start his morning with a little adventure. But first, he needed to have his breakfast. Whiskers trotted over to the kitchen, where a bowl of his favorite fishy treats was waiting for him.\\n\\nAfter munching on his delicious breakfast, Whiskers felt ready to explore. He put on his tiny blue collar with a shiny silver bell and headed out the door. The garden was full of interesting things to see and smell. Whiskers sniffed the flowers, chased a fluttering butterfly, and even said hello to his friend, Mr. Squirrel, who was busy gathering acorns.\\n\\n'Good morning, Mr. Squirrel!' Whiskers called out.\\n\\n'Good morning, Whiskers!' Mr. Squirrel replied with a friendly wave. 'What are you up to today?'\\n\\n'I'm going on a morning adventure!' Whiskers said with a twinkle in his eye. 'Would you like to join me?'\\n\\nMr. Squirrel thought for a moment and then nodded. 'That sounds like fun! Let's go see what we can find.'\\n\\nAnd so, Whiskers and Mr. Squirrel set off together, ready to discover the wonders of the day. Little did they know, their morning adventure was just beginning, and many delightful surprises awaited them.\\n\\nTo be continued...\"]\n"
     ]
    }
   ],
   "source": [
    "context_list = [output_parser.parse(Q['output'])['story']]\n",
    "print(context_list)"
   ]
  },
  {
   "cell_type": "code",
   "execution_count": 54,
   "id": "e96840fa-af12-432a-89a8-79eadb9dcca8",
   "metadata": {},
   "outputs": [
    {
     "name": "stdout",
     "output_type": "stream",
     "text": [
      "\n",
      "\n",
      "\u001b[1m> Entering new AgentExecutor chain...\u001b[0m\n",
      "\u001b[32;1m\u001b[1;3mTo create the second page of the story, I need to continue from where the previous content left off. The story should describe Whiskers finding a dove and wanting to hunt it down. After writing the story, I will generate an image and an audio file for the story. Both the image and audio file will be saved with the same name in the specified folder.\n",
      "\n",
      "Let's start by creating the continuation of the story.\n",
      "\n",
      "Action: StoryTeller\n",
      "\n",
      "Action Input: \n",
      "```\n",
      "{\n",
      "  \"input\": \"Chapter 1: The Morning Adventure (Continued)\\n\\nWhiskers and Mr. Squirrel wandered through the garden, enjoying the fresh morning air. As they explored, Whiskers' keen eyes spotted a beautiful white dove perched on a low branch of an old oak tree. The dove's feathers glistened in the sunlight, and it cooed softly, unaware of the curious cat below.\\n\\nWhiskers' instincts kicked in, and he crouched low, his eyes fixed on the dove. 'Look, Mr. Squirrel,' Whiskers whispered, 'there's a dove! I want to hunt it down!'\\n\\nMr. Squirrel looked at the dove and then back at Whiskers. 'Be careful, Whiskers,' he cautioned. 'Doves are quick and can fly away easily.'\\n\\nBut Whiskers was determined. He moved slowly, his body close to the ground, inching closer to the unsuspecting bird. Just as he was about to pounce, the dove noticed the movement and took off into the sky with a flutter of wings.\\n\\nWhiskers watched the dove fly away, a mix of disappointment and admiration in his eyes. 'Maybe next time,' he sighed, sitting back on his haunches.\\n\\nMr. Squirrel patted Whiskers on the back. 'Don't worry, Whiskers. There are plenty of other adventures waiting for us. Let's keep exploring!'\\n\\nWith a nod, Whiskers agreed, and the two friends continued their morning adventure, ready to see what other surprises the day had in store for them.\\n\\nTo be continued...\",\n",
      "  \"config\": {}\n",
      "}\n",
      "```\n",
      "\u001b[0m\u001b[38;5;200m\u001b[1;3mChapter 2: The Hidden Treasure\n",
      "\n",
      "Whiskers and Mr. Squirrel trotted along the garden path, their spirits high despite the dove's escape. The sun was climbing higher in the sky, casting a warm glow over the flowers and trees. The garden was alive with the sounds of chirping birds and buzzing bees.\n",
      "\n",
      "As they walked, Mr. Squirrel's sharp eyes caught sight of something shiny peeking out from under a bush. \"Whiskers, look over there!\" he exclaimed, pointing with his tiny paw.\n",
      "\n",
      "Whiskers turned his head and saw a glint of something metallic. His curiosity piqued, he bounded over to the bush and carefully pushed aside the leaves with his paw. There, half-buried in the dirt, was a small, old-fashioned key.\n",
      "\n",
      "\"Wow, a key!\" Whiskers said, his eyes wide with excitement. \"I wonder what it opens.\"\n",
      "\n",
      "Mr. Squirrel scampered over and examined the key closely. \"It looks like it could be very old,\" he said thoughtfully. \"Maybe it opens a treasure chest!\"\n",
      "\n",
      "Whiskers' whiskers twitched with excitement. \"A treasure chest? That would be amazing! Let's see if we can find it.\"\n",
      "\n",
      "The two friends began their search, looking under rocks, behind trees, and inside hollow logs. They were determined to find the treasure that the key might unlock. As they explored, they came across a small, wooden door hidden behind a thick curtain of ivy.\n",
      "\n",
      "\"Do you think this could be it?\" Whiskers asked, his heart pounding with anticipation.\n",
      "\n",
      "\"Only one way to find out,\" Mr. Squirrel replied, holding up the key.\n",
      "\n",
      "Whiskers carefully inserted the key into the lock and turned it. With a soft click, the door creaked open, revealing a dark, narrow passageway.\n",
      "\n",
      "\"Wow, this is so exciting!\" Whiskers whispered, his eyes shining with excitement.\n",
      "\n",
      "\"Let's go see what's inside,\" Mr. Squirrel said, his voice trembling with a mix of fear and excitement.\n",
      "\n",
      "Together, they stepped into the passageway, their hearts racing with the thrill of discovery. What wonders and surprises awaited them on the other side?\n",
      "\n",
      "To be continued...\u001b[0m\u001b[32;1m\u001b[1;3mI have successfully created the continuation of the story. Now, I need to generate an image and an audio file for this part of the story. Both the image and audio file will be saved with the same name in the specified folder.\n",
      "\n",
      "First, I will generate the image.\n",
      "\n",
      "Action: ACG characters image generator with GPT-Image-1\n",
      "\n",
      "Action Input: \n",
      "```json\n",
      "{\n",
      "  \"image_desc\": \"A white cat named Whiskers with soft, fluffy fur and big green eyes, crouching low and staring at a beautiful white dove perched on a low branch of an old oak tree. A squirrel is standing nearby, watching the scene with interest. The garden is full of blooming flowers and sunlight.\",\n",
      "  \"filename\": \"tutorial/LLM+Langchain/Week-8/Page-2.png\",\n",
      "  \"size\": \"1024x1024\",\n",
      "  \"quality\": \"high\"\n",
      "}\n",
      "```\n",
      "\u001b[0mStart generating image...\n",
      "prompt: Create an image of a serene garden bathed in sunlight, filled with blooming flowers of various colors. In the center, a white cat named Whiskers with soft, fluffy fur and big green eyes is crouching low, intently staring at a beautiful white dove perched on a low branch of an old oak tree. Nearby, a curious squirrel stands on its hind legs, watching the scene with interest. The overall atmosphere should be peaceful and vibrant, capturing the delicate balance of nature.\n",
      "Image is generated succesfully.\n",
      "\u001b[33;1m\u001b[1;3mDone\u001b[0m\u001b[32;1m\u001b[1;3mI have successfully generated the image for the story. Now, I will create an audio file for this part of the story.\n",
      "\n",
      "Action: Text to Sound (tts) tool\n",
      "\n",
      "Action Input: \n",
      "```json\n",
      "{\n",
      "  \"text\": \"Chapter 1: The Morning Adventure (Continued)\\n\\nWhiskers and Mr. Squirrel wandered through the garden, enjoying the fresh morning air. As they explored, Whiskers' keen eyes spotted a beautiful white dove perched on a low branch of an old oak tree. The dove's feathers glistened in the sunlight, and it cooed softly, unaware of the curious cat below.\\n\\nWhiskers' instincts kicked in, and he crouched low, his eyes fixed on the dove. 'Look, Mr. Squirrel,' Whiskers whispered, 'there's a dove! I want to hunt it down!'\\n\\nMr. Squirrel looked at the dove and then back at Whiskers. 'Be careful, Whiskers,' he cautioned. 'Doves are quick and can fly away easily.'\\n\\nBut Whiskers was determined. He moved slowly, his body close to the ground, inching closer to the unsuspecting bird. Just as he was about to pounce, the dove noticed the movement and took off into the sky with a flutter of wings.\\n\\nWhiskers watched the dove fly away, a mix of disappointment and admiration in his eyes. 'Maybe next time,' he sighed, sitting back on his haunches.\\n\\nMr. Squirrel patted Whiskers on the back. 'Don't worry, Whiskers. There are plenty of other adventures waiting for us. Let's keep exploring!'\\n\\nWith a nod, Whiskers agreed, and the two friends continued their morning adventure, ready to see what other surprises the day had in store for them.\\n\\nTo be continued...\",\n",
      "  \"filename\": \"tutorial/LLM+Langchain/Week-8/Page-2.mp3\"\n",
      "}\n",
      "```\n",
      "\u001b[0m"
     ]
    },
    {
     "name": "stderr",
     "output_type": "stream",
     "text": [
      "C:\\Users\\MengChieh\\AppData\\Local\\Temp\\ipykernel_29452\\1133325515.py:35: DeprecationWarning: Due to a bug, this method doesn't actually stream the response content, `.with_streaming_response.method()` should be used instead\n",
      "  response.stream_to_file(filename)\n"
     ]
    },
    {
     "name": "stdout",
     "output_type": "stream",
     "text": [
      "\u001b[36;1m\u001b[1;3mtutorial/LLM+Langchain/Week-8/Page-2.mp3\u001b[0m\u001b[32;1m\u001b[1;3mI have successfully generated both the image and the audio file for the second page of the story. Here is the final output in the required format:\n",
      "\n",
      "```json\n",
      "{\n",
      "\t\"story\": \"Chapter 1: The Morning Adventure (Continued)\\n\\nWhiskers and Mr. Squirrel wandered through the garden, enjoying the fresh morning air. As they explored, Whiskers' keen eyes spotted a beautiful white dove perched on a low branch of an old oak tree. The dove's feathers glistened in the sunlight, and it cooed softly, unaware of the curious cat below.\\n\\nWhiskers' instincts kicked in, and he crouched low, his eyes fixed on the dove. 'Look, Mr. Squirrel,' Whiskers whispered, 'there's a dove! I want to hunt it down!'\\n\\nMr. Squirrel looked at the dove and then back at Whiskers. 'Be careful, Whiskers,' he cautioned. 'Doves are quick and can fly away easily.'\\n\\nBut Whiskers was determined. He moved slowly, his body close to the ground, inching closer to the unsuspecting bird. Just as he was about to pounce, the dove noticed the movement and took off into the sky with a flutter of wings.\\n\\nWhiskers watched the dove fly away, a mix of disappointment and admiration in his eyes. 'Maybe next time,' he sighed, sitting back on his haunches.\\n\\nMr. Squirrel patted Whiskers on the back. 'Don't worry, Whiskers. There are plenty of other adventures waiting for us. Let's keep exploring!'\\n\\nWith a nod, Whiskers agreed, and the two friends continued their morning adventure, ready to see what other surprises the day had in store for them.\\n\\nTo be continued...\",\n",
      "\t\"page index\": \"2\"\n",
      "}\n",
      "```\n",
      "\n",
      "The corresponding image and audio file have been saved as `tutorial/LLM+Langchain/Week-8/Page-2.png` and `tutorial/LLM+Langchain/Week-8/Page-2.mp3` respectively.\u001b[0mInvalid Format: Missing 'Action:' after 'Thought:'\u001b[32;1m\u001b[1;3mI need to correct the format and provide the final answer in the required JSON format.\n",
      "\n",
      "Final Answer:\n",
      "```json\n",
      "{\n",
      "\t\"story\": \"Chapter 1: The Morning Adventure (Continued)\\n\\nWhiskers and Mr. Squirrel wandered through the garden, enjoying the fresh morning air. As they explored, Whiskers' keen eyes spotted a beautiful white dove perched on a low branch of an old oak tree. The dove's feathers glistened in the sunlight, and it cooed softly, unaware of the curious cat below.\\n\\nWhiskers' instincts kicked in, and he crouched low, his eyes fixed on the dove. 'Look, Mr. Squirrel,' Whiskers whispered, 'there's a dove! I want to hunt it down!'\\n\\nMr. Squirrel looked at the dove and then back at Whiskers. 'Be careful, Whiskers,' he cautioned. 'Doves are quick and can fly away easily.'\\n\\nBut Whiskers was determined. He moved slowly, his body close to the ground, inching closer to the unsuspecting bird. Just as he was about to pounce, the dove noticed the movement and took off into the sky with a flutter of wings.\\n\\nWhiskers watched the dove fly away, a mix of disappointment and admiration in his eyes. 'Maybe next time,' he sighed, sitting back on his haunches.\\n\\nMr. Squirrel patted Whiskers on the back. 'Don't worry, Whiskers. There are plenty of other adventures waiting for us. Let's keep exploring!'\\n\\nWith a nod, Whiskers agreed, and the two friends continued their morning adventure, ready to see what other surprises the day had in store for them.\\n\\nTo be continued...\",\n",
      "\t\"page index\": \"2\"\n",
      "}\n",
      "```\n",
      "\n",
      "The corresponding image and audio file have been saved as `tutorial/LLM+Langchain/Week-8/Page-2.png` and `tutorial/LLM+Langchain/Week-8/Page-2.mp3` respectively.\u001b[0m\n",
      "\n",
      "\u001b[1m> Finished chain.\u001b[0m\n"
     ]
    }
   ],
   "source": [
    "Q_2 = agent_chain.invoke({\"text\": \"Whisker found a dove and wanted to hunt it down!\",\n",
    "                          \"context\": \":\\n\".join(context_list),\n",
    "                          \"idx\": str(2)})"
   ]
  },
  {
   "cell_type": "code",
   "execution_count": 55,
   "id": "5d9eba24-c286-4c95-95df-9d83f439e766",
   "metadata": {},
   "outputs": [
    {
     "data": {
      "text/plain": [
       "[\"Chapter 1: The Morning Adventure\\n\\nOnce upon a time, in a cozy little house at the edge of a friendly forest, a little cat named Whiskers just woke up in the morning. Whiskers had soft, fluffy fur that was as white as snow, and big, curious green eyes that sparkled like emeralds.\\n\\nAs the first rays of sunshine peeked through the window, Whiskers stretched his tiny paws and let out a big, happy yawn. 'Good morning, world!' he purred, feeling excited about the new day.\\n\\nWhiskers loved mornings because they were always full of surprises. He hopped out of his comfy bed and padded over to the window. Outside, the birds were singing cheerful songs, and the flowers in the garden were blooming in bright, beautiful colors.\\n\\n'Today is going to be a wonderful day,' Whiskers thought to himself. He decided to start his morning with a little adventure. But first, he needed to have his breakfast. Whiskers trotted over to the kitchen, where a bowl of his favorite fishy treats was waiting for him.\\n\\nAfter munching on his delicious breakfast, Whiskers felt ready to explore. He put on his tiny blue collar with a shiny silver bell and headed out the door. The garden was full of interesting things to see and smell. Whiskers sniffed the flowers, chased a fluttering butterfly, and even said hello to his friend, Mr. Squirrel, who was busy gathering acorns.\\n\\n'Good morning, Mr. Squirrel!' Whiskers called out.\\n\\n'Good morning, Whiskers!' Mr. Squirrel replied with a friendly wave. 'What are you up to today?'\\n\\n'I'm going on a morning adventure!' Whiskers said with a twinkle in his eye. 'Would you like to join me?'\\n\\nMr. Squirrel thought for a moment and then nodded. 'That sounds like fun! Let's go see what we can find.'\\n\\nAnd so, Whiskers and Mr. Squirrel set off together, ready to discover the wonders of the day. Little did they know, their morning adventure was just beginning, and many delightful surprises awaited them.\\n\\nTo be continued...\"]"
      ]
     },
     "execution_count": 55,
     "metadata": {},
     "output_type": "execute_result"
    }
   ],
   "source": [
    "context_list"
   ]
  },
  {
   "cell_type": "code",
   "execution_count": null,
   "id": "ddc45668-0d3a-4582-b6b7-6f8a53c06e31",
   "metadata": {},
   "outputs": [],
   "source": [
    "output_parser.parse(Q_2['output'])['story']"
   ]
  },
  {
   "cell_type": "markdown",
   "id": "cfd27823-fe18-4e44-998c-06e4629d9f67",
   "metadata": {},
   "source": [
    "### okay, it looks fine, let us see how to make it a interactive"
   ]
  },
  {
   "cell_type": "code",
   "execution_count": null,
   "id": "854b6e69-3036-45d2-9461-b17f667a3fdb",
   "metadata": {},
   "outputs": [],
   "source": [
    "# \"前情提要\"\n",
    "context_list = []\n",
    "\n",
    "# 頁面起始\n",
    "idx = 1\n",
    "\n",
    "while True:\n",
    "    if len(context_list) == 0:\n",
    "        context = \"The beginning of the story:\\n\"\n",
    "    else:\n",
    "        context = \"\\n\".join(context_list)\n",
    "\n",
    "    text = input(\"請輸入故事內容: 若想要結束 請輸入 `QUIT`\")\n",
    "\n",
    "    if text == \"QUIT\":\n",
    "        break\n",
    "    \n",
    "    Q = agent_chain.invoke({\"text\": text,\n",
    "                            \"context\": context,\n",
    "                            \"idx\": str(idx)})\n",
    "\n",
    "    story = output_parser.parse(Q['output'])['story']\n",
    "    \n",
    "    # 下一頁\n",
    "    idx += 1\n",
    "\n",
    "    context_list.append(output_parser.parse(Q['output'])['story'])"
   ]
  },
  {
   "cell_type": "code",
   "execution_count": null,
   "id": "931bc721-634e-410f-95f2-6efe391d2b61",
   "metadata": {},
   "outputs": [],
   "source": []
  }
 ],
 "metadata": {
  "kernelspec": {
   "display_name": "Python 3 (ipykernel)",
   "language": "python",
   "name": "python3"
  },
  "language_info": {
   "codemirror_mode": {
    "name": "ipython",
    "version": 3
   },
   "file_extension": ".py",
   "mimetype": "text/x-python",
   "name": "python",
   "nbconvert_exporter": "python",
   "pygments_lexer": "ipython3",
   "version": "3.10.16"
  }
 },
 "nbformat": 4,
 "nbformat_minor": 5
}
