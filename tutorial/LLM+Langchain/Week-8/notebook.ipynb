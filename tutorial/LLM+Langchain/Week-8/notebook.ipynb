{
 "cells": [
  {
   "cell_type": "markdown",
   "id": "1cd5f1f4-81a7-4ffb-a0e9-787048185a4e",
   "metadata": {},
   "source": [
    "# GPT-Image-1\n",
    "\n",
    "The latest image generation model released by OpenAI. Therefore we will work with this.\n",
    "\n",
    "Please update your 'openai' package to 1.76.0 to see the latest documentation"
   ]
  },
  {
   "cell_type": "code",
   "execution_count": 2,
   "id": "8bdb24ce-0f79-4abb-8793-169215c36fe0",
   "metadata": {
    "tags": []
   },
   "outputs": [],
   "source": [
    "import os\n",
    "\n",
    "os.chdir(\"../../../\")"
   ]
  },
  {
   "cell_type": "code",
   "execution_count": 3,
   "id": "2e2aab6e-5789-4e2a-b4d0-5919f9f0e29b",
   "metadata": {
    "tags": []
   },
   "outputs": [],
   "source": [
    "from langchain_openai import ChatOpenAI\n",
    "\n",
    "from src.initialization import credential_init\n",
    "\n",
    "\n",
    "credential_init()\n",
    "\n",
    "model = ChatOpenAI(openai_api_key=os.environ['OPENAI_API_KEY'],\n",
    "                   model_name=\"gpt-4o-2024-05-13\", temperature=0)"
   ]
  },
  {
   "cell_type": "markdown",
   "id": "f3a19029-f2df-49f9-9596-0c0a52149c2f",
   "metadata": {},
   "source": [
    "### OpenAI Image API Parameters:\n",
    "\n",
    "https://platform.openai.com/docs/guides/image-generation?image-generation-model=gpt-image-1\n",
    "https://cookbook.openai.com/examples/generate_images_with_gpt_image\n",
    "\n",
    "<!-- - model: dall-e-3\n",
    "- size (str): 1024x1024, 1024x1792, 1792x1024\n",
    "- quality: hd, standard\n",
    "- style: vivid, natural. Default vivid -->"
   ]
  },
  {
   "cell_type": "markdown",
   "id": "bea61b62-2b05-4c32-a677-7fc7205eae70",
   "metadata": {},
   "source": [
    "- model: gpt-image-1\n",
    "    - size (str): 1024x1024 (square), 1536x1024 (landscape), 1024x1536 (portrait) or auto (default)\n",
    "    - quality: low, medium, high or auto\n",
    "    - moderation: auto, low"
   ]
  },
  {
   "cell_type": "code",
   "execution_count": null,
   "id": "da908a85-5203-43cc-8241-76eba5cc578c",
   "metadata": {
    "tags": []
   },
   "outputs": [],
   "source": [
    "from openai import OpenAI\n",
    "\n",
    "prompt = (\"A Sumi-e style watercolor painting of mountains during sunset. The sky is depicted with bold \"\n",
    "          \"splashes of orange, pink, and purple hues, blending and overlapping in a dynamic composition. \"\n",
    "          \"The mountains are represented with expressive brushstrokes, emphasizing their majestic and serene \"\n",
    "          \"presence. The focus is on capturing the essence and mood of the scene rather than detailed realism. \"\n",
    "          \"The overall effect is serene and contemplative, with a harmonious balance of color and form.\")\n",
    "\n",
    "client = OpenAI()\n",
    "\n",
    "response = client.images.generate(\n",
    "    model=\"gpt-image-1\",\n",
    "    prompt=prompt,\n",
    "    size=\"1024x1024\",\n",
    "    # quality=\"hd\",\n",
    "    quality='high',\n",
    "    n=1,\n",
    "    # response_format = 'b64_json'\n",
    ")\n",
    "\n",
    "image_base64 = response.data[0].b64_json"
   ]
  },
  {
   "cell_type": "code",
   "execution_count": null,
   "id": "a1d31f11-6edf-4d0c-90cd-ca1de4d5e4a9",
   "metadata": {},
   "outputs": [],
   "source": [
    "client.images.generate?"
   ]
  },
  {
   "cell_type": "markdown",
   "id": "2b255426-c09f-4a61-aaf6-bed8eafe870e",
   "metadata": {},
   "source": [
    "## Save the image in your local computer"
   ]
  },
  {
   "cell_type": "code",
   "execution_count": null,
   "id": "0d6fc657-7688-47fe-9d2d-e9fd400cb1fa",
   "metadata": {
    "tags": []
   },
   "outputs": [],
   "source": [
    "import base64\n",
    "\n",
    "with open(\"tutorial/LLM+Langchain/Week-8/test.png\", \"wb\") as fh:\n",
    "    fh.write(base64.b64decode(image_base64))"
   ]
  },
  {
   "cell_type": "markdown",
   "id": "935b95d7-b6b3-4a14-9328-a998daee4320",
   "metadata": {},
   "source": [
    "## Two Challenges:\n",
    "\n",
    "### 1. How to create prompt more efficiently? \n",
    "\n",
    "There are two types of prompt: \n",
    "\n",
    "1. Danbooru Tag: masterpiece, best quality, beautiful eyes, clear eyes, detailed eyes, Blue-eyes, 1girl, 20_old, full-body, break, smoking, break, high_color, blue-hair, beauty, black-boots,break, break, Flat vector art, Colorful art, white_shirt, simple_background, blue_background, Ink art, peeking out upper body, Eyes\n",
    "\n",
    "2. Natural language: A Sumi-e style watercolor painting of mountains during sunset. The sky is depicted with bold splashes of orange, pink, and purple hues, blending and overlapping in a dynamic composition. The mountains are represented with expressive brushstrokes,emphasizing their majestic and serene presence. The focus is on capturing the essence and mood of the scene rather than detailed realism. The overall effect is serene and contemplative, with a harmonious balance of color and form.\n",
    "\n",
    "As non-native English speakers, we find the natural language prompt challenging, even for native speakers, due to the inclusion of specialized terminologies and advanced vocabulary.\n",
    "\n",
    "由於涉及專業術語和高級詞彙，我們作為非母語英語使用者，發現這個自然語言提示對我們來說是具有挑戰性的，即使對母語使用者來說也是如此。\n",
    "\n",
    "### 2. How to make it an LCEL?"
   ]
  },
  {
   "cell_type": "markdown",
   "id": "76e4d43a-4fd3-45a7-a51c-ced9cf9902f9",
   "metadata": {},
   "source": [
    "## Some websites for natural language prompt\n",
    "\n",
    "- https://leonardo.ai/: An Image generation SaaS. A lot of works are created with natural language prompt. \n",
    "- https://blog.mlq.ai/dalle-prompts/: Some tutorial about how to come up with a natural language prompt."
   ]
  },
  {
   "cell_type": "code",
   "execution_count": null,
   "id": "2fdd5054-b78a-4d50-8347-fb63446b0d9e",
   "metadata": {},
   "outputs": [],
   "source": [
    "def build_standard_chat_prompt_template(kwargs):\n",
    "\n",
    "    system_content = kwargs['system']\n",
    "    human_content = kwargs['human']\n",
    "    \n",
    "    system_prompt = PromptTemplate(**system_content)\n",
    "    system_message = SystemMessagePromptTemplate(prompt=system_prompt)\n",
    "    \n",
    "    human_prompt = PromptTemplate(**human_content)\n",
    "    human_message = HumanMessagePromptTemplate(prompt=human_prompt)\n",
    "    \n",
    "    chat_prompt = ChatPromptTemplate.from_messages([system_message,\n",
    "                                                     human_message\n",
    "                                                   ])\n",
    "\n",
    "    return chat_prompt"
   ]
  },
  {
   "cell_type": "markdown",
   "id": "73124c68-8452-4711-a72e-e097f6256d16",
   "metadata": {},
   "source": [
    "### Natural Language Prompt Generation"
   ]
  },
  {
   "cell_type": "code",
   "execution_count": null,
   "id": "3b6deea0-76c1-4f46-93bd-df0da355877d",
   "metadata": {
    "tags": []
   },
   "outputs": [],
   "source": [
    "from langchain.prompts import PromptTemplate, ChatPromptTemplate, HumanMessagePromptTemplate, SystemMessagePromptTemplate\n",
    "from langchain_core.output_parsers import StrOutputParser\n",
    "\n",
    "\n",
    "system_template = (\"You are a helpful AI assistant and an art expert with extensive knowledge of photography \"\n",
    "                   \"and illustration. You excel at creating breathtaking masterpieces with the DALLE-3 model. \"\n",
    "                   \"For this task, you will be provided with a description of an image, and you will generate a \"\n",
    "                   \"corresponding DALLE-3 prompt. The prompt should be detailed and descriptive, capturing the \"\n",
    "                   \"essence of the image.\")\n",
    "\n",
    "human_template = \"{image_desc}\"\n",
    "\n",
    "input_ = {\"system\": {\"template\": system_template},\n",
    "          \"human\": {\"template\": human_template,\n",
    "                    \"input_variable\": [\"image_desc\"]}}\n",
    "    \n",
    "chat_prompt = build_standard_chat_prompt_template(input_)\n",
    "\n",
    "nl_prompt_generation_chain = chat_prompt | model | StrOutputParser()"
   ]
  },
  {
   "cell_type": "markdown",
   "id": "82110d0e-4ef4-4191-b20e-5f2671dfad92",
   "metadata": {},
   "source": [
    "## We wrap OPENAI API call as a function for the langchain usage "
   ]
  },
  {
   "cell_type": "code",
   "execution_count": 10,
   "id": "b90024c5-67a6-43cf-a64a-757de94ef808",
   "metadata": {
    "tags": []
   },
   "outputs": [],
   "source": [
    "from typing import Dict\n",
    "from langchain_core.runnables import chain\n",
    "\n",
    "\n",
    "def gpt_image_worker(kwargs: Dict):\n",
    "\n",
    "    \"\"\"\n",
    "    Generates an image using OpenAI's GPT-Image-1 model based on the provided prompt and optional parameters.\n",
    "    \n",
    "    Parameters:\n",
    "    kwargs (Dict): A dictionary containing the following keys:\n",
    "        - 'nl_prompt' (str): The natural language prompt describing the image to be generated.\n",
    "        - 'size' (str, optional): The size of the generated image. Default is \"1024x1024\".\n",
    "        - 'quality' (str, optional): The quality of the generated image. Default is \"medium\".\n",
    "    \n",
    "    Returns:\n",
    "    str: image base64 string\n",
    "    \"\"\"\n",
    "    \n",
    "    print(\"Start generating image...\")\n",
    "    print(f\"prompt: {kwargs['nl_prompt']}\")\n",
    "    client = OpenAI()\n",
    "\n",
    "    response = client.images.generate(\n",
    "        model=\"gpt-image-1\",\n",
    "        prompt=kwargs['nl_prompt'],\n",
    "        size=kwargs.get(\"size\", \"1024x1024\"),\n",
    "        quality=kwargs.get('quality', 'medium'),\n",
    "        moderation=kwargs.get('moderation', 'auto'),\n",
    "        n=1)\n",
    "\n",
    "    image_base64 = response.data[0].b64_json\n",
    "\n",
    "    print(\"Image is generated succesfully.\")\n",
    "    \n",
    "    return image_base64\n",
    "\n",
    "@chain\n",
    "def base64_to_file(kwargs):\n",
    "\n",
    "    \"\"\"\n",
    "    Save the image from a base64 string\n",
    "    \"\"\"\n",
    "    \n",
    "    image_base64 = kwargs['image_base64']\n",
    "    filename = kwargs['filename']\n",
    "    \n",
    "    with open(f\"{filename}\", \"wb\") as fh:\n",
    "        fh.write(base64.b64decode(image_base64))\n",
    "    "
   ]
  },
  {
   "cell_type": "code",
   "execution_count": null,
   "id": "af60ca67-f323-49d6-a154-63c190060199",
   "metadata": {
    "tags": []
   },
   "outputs": [],
   "source": [
    "from operator import itemgetter\n",
    "\n",
    "from langchain_core.runnables import RunnableLambda, RunnableParallel, RunnablePassthrough\n",
    "\n",
    "# step 1: create the image prompt\n",
    "step_1 = RunnablePassthrough.assign(nl_prompt=itemgetter('image_desc')|nl_prompt_generation_chain)\n",
    "\n",
    "# step 2: image generation process, as a base64\n",
    "step_2 = RunnablePassthrough.assign(image_base64=gpt_image_worker)\n",
    "\n",
    "# step 3: save the image\n",
    "step_3 = base64_to_file\n",
    "\n",
    "# chain step 1, step 2, step 3 together\n",
    "gpt_image_chain =  step_1|step_2|step_3"
   ]
  },
  {
   "cell_type": "code",
   "execution_count": null,
   "id": "51ab41f1-eeec-46ae-8e27-0a1f42facfe4",
   "metadata": {
    "tags": []
   },
   "outputs": [],
   "source": [
    "gpt_image_chain.invoke({\"size\": \"1024x1536\",\n",
    "                     \"quality\": \"medium\",\n",
    "                     \"image_desc\": (\"warhammer 40k, astartes, power armor, chain sword, purity seal, oil painting\"),\n",
    "                     \"filename\": \"tutorial/LLM+Langchain/Week-8/astartes.png\"\n",
    "                    })"
   ]
  },
  {
   "cell_type": "code",
   "execution_count": null,
   "id": "96429327-2750-4094-804c-693aab9a0217",
   "metadata": {
    "tags": []
   },
   "outputs": [],
   "source": [
    "gpt_image_chain.invoke({\"size\": \"1536x1024\",\n",
    "                     \"quality\": \"medium\",\n",
    "                     \"image_desc\": (\"Tifa Lockhart, kimono, head ornament, looking at viewer, cherry blossom, \"\n",
    "                                    \"black-white hightech combat suite, chibi style.\"),\n",
    "                     \"filename\": \"tutorial/LLM+Langchain/Week-8/Tifa-01.png\",\n",
    "                     \"moderation\": 'low'\n",
    "                    })\n"
   ]
  },
  {
   "cell_type": "markdown",
   "id": "b11138db-d2a1-4eec-a7d6-aa5a4d230313",
   "metadata": {},
   "source": [
    "Every model has its strength\n",
    "In my opinion:\n",
    "\n",
    "- SDXL: style\n",
    "- PONY, Illustrious: pose control, view angle control\n",
    "- FLUX: realistic"
   ]
  },
  {
   "cell_type": "code",
   "execution_count": null,
   "id": "16f6b7ab-1a90-4801-9823-f70d1cd58ade",
   "metadata": {
    "tags": []
   },
   "outputs": [],
   "source": [
    "gpt_image_chain.invoke({\"size\": \"1024x1536\",\n",
    "                        \"quality\": \"medium\",\n",
    "                        \"image_desc\": (\"1girl, azur lane style outfit, high ponytail, very long hair, sidelocks, bangs, \"\n",
    "                                       \"in a whisky bar, rest head on hand, dim lighting, exuding an aura of youth and \"\n",
    "                                       \"ethereal beauty, sketch, illustration\"),\n",
    "                        \"filename\": \"tutorial/LLM+Langchain/Week-8/azur_lane_style.png\",\n",
    "                        \"moderation\": 'low'\n",
    "                      })"
   ]
  },
  {
   "cell_type": "markdown",
   "id": "266563be-ff75-4e13-a9d8-77423c20c61f",
   "metadata": {},
   "source": [
    "### Image Render"
   ]
  },
  {
   "cell_type": "code",
   "execution_count": null,
   "id": "699507ea-85d7-4c64-a6a3-84ac60f4bc89",
   "metadata": {},
   "outputs": [],
   "source": [
    "# client.images.edit?"
   ]
  },
  {
   "cell_type": "code",
   "execution_count": null,
   "id": "043ed224-f670-4bc3-8f5f-c1a11cfc73b0",
   "metadata": {},
   "outputs": [],
   "source": [
    "from src.io.path_definition import get_project_dir"
   ]
  },
  {
   "cell_type": "code",
   "execution_count": null,
   "id": "d70b4e53-e470-4e7b-b0e2-7ea07b64bd26",
   "metadata": {},
   "outputs": [],
   "source": [
    "image_path = os.path.join(get_project_dir(), \"tutorial\", \"LLM+Langchain\", \"Week-8\", \"Prinz_Eugen.png\")\n",
    "\n",
    "result_edit = client.images.edit(\n",
    "    model=\"gpt-image-1\",\n",
    "    image=open(image_path, \"rb\"), \n",
    "    prompt=\"generate a photorealistic image\",\n",
    "    size=\"1024x1536\"\n",
    ")\n",
    "\n",
    "image_base64 = result_edit.data[0].b64_json\n",
    "\n",
    "with open(\"tutorial/LLM+Langchain/Week-8/Eugen_Prinz_Render.png\", \"wb\") as fh:\n",
    "    fh.write(base64.b64decode(image_base64))"
   ]
  },
  {
   "cell_type": "code",
   "execution_count": null,
   "id": "4140ee4e-805e-4e88-a541-be9e2f62c39a",
   "metadata": {},
   "outputs": [],
   "source": [
    "result_edit = client.images.edit(\n",
    "    model=\"gpt-image-1\",\n",
    "    image=open(image_path, \"rb\"), \n",
    "    prompt=\"Generate a photorealistic image. Make the character have an ulzzang look\",\n",
    "    size=\"1024x1536\"\n",
    ")"
   ]
  },
  {
   "cell_type": "code",
   "execution_count": null,
   "id": "8db6a8ef-0d99-494d-8554-983ea23c0185",
   "metadata": {},
   "outputs": [],
   "source": [
    "image_base64 = result_edit.data[0].b64_json\n",
    "\n",
    "with open(\"tutorial/LLM+Langchain/Week-8/Eugen_Prinz_Render_Ulzzang.png\", \"wb\") as fh:\n",
    "    fh.write(base64.b64decode(image_base64))"
   ]
  },
  {
   "cell_type": "code",
   "execution_count": null,
   "id": "c37925e8-a842-403c-8bca-d569eedec3da",
   "metadata": {},
   "outputs": [],
   "source": [
    "result_edit = client.images.edit(\n",
    "    model=\"gpt-image-1\",\n",
    "    image=open(image_path, \"rb\"), \n",
    "    prompt=\"Generate a photorealistic image. Make the character have a soft, flawless, youthful look with large eyes and gentle features\",\n",
    "    size=\"1024x1536\"\n",
    ")\n",
    "\n",
    "image_base64 = result_edit.data[0].b64_json\n",
    "\n",
    "with open(\"tutorial/LLM+Langchain/Week-8/Eugen_Prinz_Render_Youth.png\", \"wb\") as fh:\n",
    "    fh.write(base64.b64decode(image_base64))"
   ]
  },
  {
   "cell_type": "code",
   "execution_count": null,
   "id": "219d9040-9c57-4554-bd13-f52ea6303b6c",
   "metadata": {},
   "outputs": [],
   "source": [
    "result_edit = client.images.edit(\n",
    "    model=\"gpt-image-1\",\n",
    "    image=open(image_path, \"rb\"), \n",
    "    prompt=\"Generate a photorealistic image.\\n\"\n",
    "           \"Make the character have an ulzzang appearance with soft, flawless, youthful look with large eyes and gentle features. \"\n",
    "           \"While keep the polish and porcelain skin texture, and glamorous appearance of the girl.\",\n",
    "    size=\"1024x1536\"\n",
    ")\n",
    "\n",
    "image_base64 = result_edit.data[0].b64_json\n",
    "\n",
    "with open(\"tutorial/LLM+Langchain/Week-8/Eugen_Prinz_Render_Combined.png\", \"wb\") as fh:\n",
    "    fh.write(base64.b64decode(image_base64))"
   ]
  },
  {
   "cell_type": "markdown",
   "id": "04b5f0a9-4cca-474f-8e4e-b5403eac817e",
   "metadata": {},
   "source": [
    "You can experiment with different art styles to render your images — there's much more than just the Ghibli style!\n",
    "\n",
    "Some examples of art styles you can explore:\n",
    "- Studio Ghibli\n",
    "- Disney animation\n",
    "- Pixel art\n",
    "- Cyberpunk\n",
    "- Watercolor\n",
    "- Oil painting\n",
    "- Dark fantasy aesthetic"
   ]
  },
  {
   "cell_type": "markdown",
   "id": "bf1adc35-4a36-47b6-809c-ddb35cceb60a",
   "metadata": {},
   "source": [
    "## Use this as a tool for Agent"
   ]
  },
  {
   "cell_type": "code",
   "execution_count": null,
   "id": "5615194a-a794-47fe-8a44-586dec897481",
   "metadata": {},
   "outputs": [],
   "source": [
    "# prompt_template = \"\"\"\n",
    "# Answer the following questions as best you can. You have access to the following tools:\n",
    "\n",
    "# {tools}\n",
    "\n",
    "# Use the following format:\n",
    "\n",
    "# Question: the input question you must answer\n",
    "\n",
    "# Thought: you should always think about what to do\n",
    "\n",
    "# Action: the action to take, should be one of [{tool_names}]\n",
    "\n",
    "# Action Input: the input to the action\n",
    "\n",
    "# Observation: the result of the action\n",
    "\n",
    "# ... (this Thought/Action/Action Input/Observation can repeat N times)\n",
    "\n",
    "# Thought: I now know the final answer\n",
    "\n",
    "# Final Answer: the final answer to the original input question\n",
    "\n",
    "# Begin!\n",
    "\n",
    "# Question: {input}\n",
    "\n",
    "# Thought:{agent_scratchpad}\n",
    "# \"\"\""
   ]
  },
  {
   "cell_type": "code",
   "execution_count": 19,
   "id": "6b248354-6e52-46bc-b3eb-bef1a421926d",
   "metadata": {
    "tags": []
   },
   "outputs": [],
   "source": [
    "import base64\n",
    "from openai import OpenAI\n",
    "from operator import itemgetter\n",
    "\n",
    "from langchain.agents import Tool, AgentExecutor, create_react_agent\n",
    "from langchain.prompts import PromptTemplate, ChatPromptTemplate, HumanMessagePromptTemplate, SystemMessagePromptTemplate\n",
    "from langchain.tools import BaseTool\n",
    "from langchain_core.output_parsers import StrOutputParser, PydanticOutputParser\n",
    "from pydantic import BaseModel, Field\n",
    "from langchain_core.runnables import RunnableLambda, RunnableParallel, RunnablePassthrough\n",
    "\n",
    "from src.agent.react_zero_shot import prompt_template as zero_shot_prompt_template\n",
    "\n",
    "client = OpenAI()\n",
    "\n",
    "# We need both the query and filename (minimal requirement):\n",
    "# Some control variables\n",
    "# What we learned last week?\n",
    "\n",
    "# step 1: create the image prompt\n",
    "step_1 = RunnablePassthrough.assign(nl_prompt=itemgetter('image_desc')|nl_prompt_generation_chain)\n",
    "\n",
    "# step 2: image generation process, as a base64\n",
    "step_2 = RunnablePassthrough.assign(image_base64=gpt_image_worker)\n",
    "\n",
    "# step 3: save the image\n",
    "step_3 = base64_to_file\n",
    "\n",
    "# chain step 1, step 2, step 3 together\n",
    "gpt_image_chain =  step_1|step_2|step_3\n",
    "\n",
    "\n",
    "class ImageInput(BaseModel):\n",
    "    image_desc: str = Field(description=(\"image description / prompt\"))\n",
    "    filename: str = Field(description=\"the location at which the image will be saved\")\n",
    "    size: str = Field(description='image size, can be 1024x1024 (square), 1536x1024 (landscape), 1024x1536 (portrait) or auto (default)')\n",
    "    quality: str = Field(description='image quality, low, medium, high or auto')\n",
    "\n",
    "\n",
    "class ImageTool(BaseTool):\n",
    "\n",
    "    name: str = \"Image generator with GPT-Image-1\"\n",
    "\n",
    "    input_output_parser: PydanticOutputParser = PydanticOutputParser(pydantic_object=ImageInput)\n",
    "    \n",
    "    input_format_instructions: str = input_output_parser.get_format_instructions()\n",
    "\n",
    "    description_template: str = (\"Use this tool when you need to create an image\\n\\n\"\n",
    "                                 \"input format_instructions: {input_format_instructions}\")\n",
    "\n",
    "    description: str = description_template.format(input_format_instructions=input_format_instructions)\n",
    "    \n",
    "    def _run(self, query):\n",
    "\n",
    "        input_ = self.input_output_parser.parse(query)\n",
    "        \n",
    "        image_desc = input_.image_desc\n",
    "        size = input_.size\n",
    "        quality = input_.quality\n",
    "        filename = input_.filename\n",
    "        \n",
    "        gpt_image_chain.invoke({\"image_desc\": image_desc,\n",
    "                                \"size\": size,\n",
    "                                \"quality\": quality,\n",
    "                                \"filename\": filename,\n",
    "                                \"moderation\": 'low'})\n",
    "        \n",
    "        return \"Done\"\n",
    "\n",
    "    def _arun(self, radius: int):\n",
    "        raise NotImplementedError(\"This tool does not support async\")\n",
    "\n",
    "# Zero Shot 標準模板\n",
    "prompt = PromptTemplate.from_template(zero_shot_prompt_template)\n",
    "\n",
    "# 建立工具庫 \n",
    "tools = [ImageTool()]\n",
    "\n",
    "# 創造Agent \n",
    "zero_shot_agent = create_react_agent(\n",
    "    llm=model,\n",
    "    tools=tools,\n",
    "    prompt=prompt,\n",
    ")\n",
    "\n",
    "# 創造Agent Executor\n",
    "agent_executor = AgentExecutor(agent=zero_shot_agent, tools=tools, verbose=True)"
   ]
  },
  {
   "cell_type": "code",
   "execution_count": 20,
   "id": "c4acd426-a089-4296-8507-b898488e7736",
   "metadata": {
    "tags": []
   },
   "outputs": [],
   "source": [
    "image_prompt = \"\"\"\n",
    "brown hair, bangs, two side up, twin ponytails, sidelocks, black hat, jewelry, black cheongsam, intricate golden embroidery, long sleeves,\n",
    "detached sleeves, sheer long skirt, head ornament, a 17-years-old ethereal and glamorous beautiful japanese idol,\n",
    "translucent skin tone, anime-like face, profound facial features, bright eyes, faint rosy blush, mesmerizing city view. \n",
    "night, photorealistic\n",
    "\"\"\"\n",
    "\n",
    "filename = \"tutorial/LLM+Langchain/Week-8/test_04.png\""
   ]
  },
  {
   "cell_type": "code",
   "execution_count": 21,
   "id": "8e4b7234-d7ae-4256-ac69-927affee0a23",
   "metadata": {
    "tags": []
   },
   "outputs": [
    {
     "name": "stdout",
     "output_type": "stream",
     "text": [
      "\n",
      "\n",
      "\u001b[1m> Entering new AgentExecutor chain...\u001b[0m\n",
      "\u001b[32;1m\u001b[1;3mTo generate the requested image, I need to provide a detailed description to the image generator and specify the filename, size, and quality.\n",
      "\n",
      "Action: Image generator with GPT-Image-1\n",
      "\n",
      "Action Input:\n",
      "```json\n",
      "{\n",
      "  \"image_desc\": \"brown hair, bangs, two side up, twin ponytails, sidelocks, black hat, jewelry, black cheongsam, intricate golden embroidery, long sleeves, detached sleeves, sheer long skirt, head ornament, a 17-years-old ethereal and glamorous beautiful japanese idol, translucent skin tone, anime-like face, profound facial features, bright eyes, faint rosy blush, mesmerizing city view, night, photorealistic\",\n",
      "  \"filename\": \"tutorial/LLM+Langchain/Week-8/test_04.png\",\n",
      "  \"size\": \"auto\",\n",
      "  \"quality\": \"high\"\n",
      "}\n",
      "```\n",
      "\u001b[0mStart generating image...\n",
      "prompt: Create a pencil and ink style illustration of a 17-year-old ethereal and glamorous beautiful Japanese idol. She has brown hair with bangs, styled in twin ponytails with sidelocks, and is wearing a black hat adorned with a head ornament. She is dressed in a black cheongsam with intricate golden embroidery, long sleeves, and detached sleeves, paired with a sheer long skirt. She has jewelry that adds to her glamorous appearance. Her face is anime-like with profound facial features, bright eyes, and a faint rosy blush on her translucent skin tone. The background features a mesmerizing city view at night, capturing the enchanting atmosphere. The illustration should be detailed with classic line work, primarily in black and white with minimal color accents.\n",
      "Image is generated succesfully.\n",
      "\u001b[36;1m\u001b[1;3mDone\u001b[0m\u001b[32;1m\u001b[1;3mI now know the final answer.\n",
      "\n",
      "Final Answer: The image has been generated and saved at the location \"tutorial/LLM+Langchain/Week-8/test_04.png\".\u001b[0m\n",
      "\n",
      "\u001b[1m> Finished chain.\u001b[0m\n"
     ]
    },
    {
     "data": {
      "text/plain": [
       "{'input': 'Generate in image with the following information: \\n \\nbrown hair, bangs, two side up, twin ponytails, sidelocks, black hat, jewelry, black cheongsam, intricate golden embroidery, long sleeves,\\ndetached sleeves, sheer long skirt, head ornament, a 17-years-old ethereal and glamorous beautiful japanese idol,\\ntranslucent skin tone, anime-like face, profound facial features, bright eyes, faint rosy blush, mesmerizing city view. \\nnight, photorealistic\\n. and save the image at tutorial/LLM+Langchain/Week-8/test_04.png',\n",
       " 'output': 'The image has been generated and saved at the location \"tutorial/LLM+Langchain/Week-8/test_04.png\".'}"
      ]
     },
     "execution_count": 21,
     "metadata": {},
     "output_type": "execute_result"
    }
   ],
   "source": [
    "agent_executor.invoke({\"input\": f\"Generate in image with the following information: \\n {image_prompt}. and save the image at {filename}\"})"
   ]
  },
  {
   "cell_type": "markdown",
   "id": "0fa7455d-d621-4ae1-a395-a8d73168df24",
   "metadata": {},
   "source": [
    "### OpenAI WebSearch Update:\n",
    "\n",
    "- https://platform.openai.com/docs/guides/tools-web-search?api-mode=responses\n",
    "\n",
    "The world changes very fast.\n",
    "\n",
    "Below are a few notable implementation considerations when using web search.\n",
    "\n",
    "- Web search is currently not supported in the gpt-4.1-nano model.\n",
    "- The gpt-4o-search-preview and gpt-4o-mini-search-preview models used in Chat Completions only support a subset of API parameters - view their model data pages for specific information on rate limits and feature support.\n",
    "- When used as a tool in the Responses API, web search has the same tiered rate limits as the models above.\n",
    "- Web search is limited to a context window size of 128000 (even with gpt-4.1 and gpt-4.1-mini models).\n",
    "- Refer to this guide for data handling, residency, and retention information."
   ]
  },
  {
   "cell_type": "code",
   "execution_count": null,
   "id": "685830ba-153b-45e4-8111-cb928d794d80",
   "metadata": {},
   "outputs": [],
   "source": [
    "from openai import OpenAI\n",
    "client = OpenAI()"
   ]
  },
  {
   "cell_type": "markdown",
   "id": "273538bc-be51-4b58-84dd-179085b66e7f",
   "metadata": {},
   "source": [
    "## ACG Characters\n",
    "\n",
    "### Genshin"
   ]
  },
  {
   "cell_type": "code",
   "execution_count": 17,
   "id": "ad8b728e-0053-4db3-ad09-e1acc83506d3",
   "metadata": {},
   "outputs": [
    {
     "name": "stdout",
     "output_type": "stream",
     "text": [
      "Hu Tao, a character from Genshin Impact, is the 77th Director of the Wangsheng Funeral Parlor. She has a fair complexion and bright scarlet eyes with white, blossom-shaped pupils. Her long, dark brown hair fades to crimson at the tips and is styled into twin ponytails. She wears a dark brown porkpie hat adorned with red plum blossoms and a wooden talisman at the front. Her outfit includes a traditional red shirt with a mandarin collar, black shorts with gold accents, and a dark coat featuring long rectangular coattails and golden brooches. Her Pyro Vision is embedded at the back of her coat. ([genshin-impact.fandom.com](https://genshin-impact.fandom.com/wiki/Hu_Tao/Lore?utm_source=openai))\n",
      "\n",
      "In January 2025, Genshin Impact introduced a new outfit for Hu Tao called \"Cherries Snow-Laden.\" This attire features a lighter color palette, combining red and white elements, and includes red-tinted glasses from her personal collection. The outfit was available for purchase in the in-game shop during a limited-time promotion. ([gamerant.com](https://gamerant.com/genshin-impact-hu-tao-cherries-snow-laden-skin-details-how-to-unlock/?utm_source=openai))\n",
      "\n",
      "Hu Tao's design incorporates symbolism associated with butterflies, representing transformation and rebirth, aligning with her role in guiding souls to the afterlife. Her name also reflects this theme, with \"Hu\" present in the Chinese word for \"butterfly\" and \"Tao\" meaning peach or long life. ([gamerant.com](https://gamerant.com/genshin-impact-hu-tao-facts-trivia/?utm_source=openai))\n",
      "\n",
      "For a visual reference, you can view official artwork of Hu Tao on the Genshin Impact Wiki: ([genshin-impact.fandom.com](https://genshin-impact.fandom.com/wiki/Hu_Tao/Lore?utm_source=openai)) \n"
     ]
    }
   ],
   "source": [
    "from openai import OpenAI\n",
    "client = OpenAI()\n",
    "\n",
    "response = client.responses.create(\n",
    "    model=\"gpt-4.1\",\n",
    "    tools=[{\n",
    "        \"type\": \"web_search_preview\",\n",
    "        \"search_context_size\": \"low\",\n",
    "    }],\n",
    "    input=\"What is the appearance of Hu Tao from Genshin? Please find the result on the internet.\",\n",
    ")\n",
    "\n",
    "print(response.output_text)"
   ]
  },
  {
   "cell_type": "code",
   "execution_count": 22,
   "id": "e62c3051-7426-47fa-b488-01e6a49cb11d",
   "metadata": {},
   "outputs": [
    {
     "name": "stdout",
     "output_type": "stream",
     "text": [
      "Hu Tao, a character from Genshin Impact, is the 77th Director of the Wangsheng Funeral Parlor. She has a fair complexion and bright scarlet eyes with white, blossom-shaped pupils. Her long, dark brown hair fades to crimson at the tips and is styled into twin ponytails. She wears a dark brown porkpie hat adorned with red plum blossoms and a wooden talisman at the front. Her outfit includes a traditional red shirt with a mandarin collar, black shorts with gold accents, and a dark coat featuring long rectangular coattails and golden brooches. Her Pyro Vision is embedded at the back of her coat. ([genshin-impact.fandom.com](https://genshin-impact.fandom.com/wiki/Hu_Tao/Lore?utm_source=openai))\n",
      "\n",
      "In January 2025, Genshin Impact introduced a new outfit for Hu Tao called \"Cherries Snow-Laden.\" This attire features a lighter color palette, combining red and white elements, and includes red-tinted glasses from her personal collection. The outfit was available for purchase in the in-game shop during a limited-time promotion. ([gamerant.com](https://gamerant.com/genshin-impact-hu-tao-cherries-snow-laden-skin-details-how-to-unlock/?utm_source=openai))\n",
      "\n",
      "Hu Tao's design incorporates symbolism associated with butterflies, representing transformation and rebirth, aligning with her role in guiding souls to the afterlife. Her name also reflects this theme, with \"Hu\" present in the Chinese word for \"butterfly\" and \"Tao\" meaning peach or long life. ([gamerant.com](https://gamerant.com/genshin-impact-hu-tao-facts-trivia/?utm_source=openai))\n",
      "\n",
      "For a visual reference, you can view official artwork of Hu Tao on the Genshin Impact Wiki: ([genshin-impact.fandom.com](https://genshin-impact.fandom.com/wiki/Hu_Tao/Lore?utm_source=openai)) \n"
     ]
    }
   ],
   "source": [
    "print(response.output[1].content[0].text)"
   ]
  },
  {
   "cell_type": "code",
   "execution_count": 23,
   "id": "ebb31d6a-a2bc-4fbe-a27a-bee1297c167c",
   "metadata": {},
   "outputs": [
    {
     "name": "stdout",
     "output_type": "stream",
     "text": [
      "[AnnotationURLCitation(end_index=698, start_index=599, title='Hu Tao/Lore | Genshin Impact Wiki | Fandom', type='url_citation', url='https://genshin-impact.fandom.com/wiki/Hu_Tao/Lore?utm_source=openai'), AnnotationURLCitation(end_index=1156, start_index=1030, title='Genshin Impact Unveils Hu Tao Skin Details and How to Obtain It', type='url_citation', url='https://gamerant.com/genshin-impact-hu-tao-cherries-snow-laden-skin-details-how-to-unlock/?utm_source=openai'), AnnotationURLCitation(end_index=1544, start_index=1452, title=\"Things You Didn’t Know About Genshin Impact's Hu Tao\", type='url_citation', url='https://gamerant.com/genshin-impact-hu-tao-facts-trivia/?utm_source=openai'), AnnotationURLCitation(end_index=1737, start_index=1638, title='Hu Tao/Lore | Genshin Impact Wiki | Fandom', type='url_citation', url='https://genshin-impact.fandom.com/wiki/Hu_Tao/Lore?utm_source=openai')]\n"
     ]
    }
   ],
   "source": [
    "print(response.output[1].content[0].annotations)"
   ]
  },
  {
   "cell_type": "markdown",
   "id": "63302ef2-0565-44ec-8074-b4f98e5d6f12",
   "metadata": {},
   "source": [
    "### Stellar Blade"
   ]
  },
  {
   "cell_type": "code",
   "execution_count": 24,
   "id": "912d5e15-2d79-4b35-9ee5-36742523e75a",
   "metadata": {},
   "outputs": [
    {
     "name": "stdout",
     "output_type": "stream",
     "text": [
      "Eve, the protagonist of *Stellar Blade*, is depicted as a striking woman with a slender yet curvaceous figure, brown eyes, and long black hair styled into a ponytail with bangs. Her design includes small moles scattered across her face and body, adding to her distinctive appearance. ([stellarblade.fandom.com](https://stellarblade.fandom.com/wiki/EVE?utm_source=openai))\n",
      "\n",
      "Her primary attire, the Planet Diving Suit (7th) Nano suit, is a green, form-fitting bodysuit with a metallic sheen. This suit features a green tie, white gloves, and opaque cape-like extensions on the back. Depending on the player's choice, she wears various types of heels. Notably, her weapon, the Blood Edge sword, folds up and serves as a hair clip for her ponytail when not in use. ([stellarblade.fandom.com](https://stellarblade.fandom.com/wiki/EVE?utm_source=openai))\n",
      "\n",
      "Customization options for Eve include different hairstyles, hair colors, earrings, glasses, and alternative Nano suits, allowing players to personalize her appearance. In Tachy Mode, she dons Tachy's Nano suit, wields the Tachyon Blade, and a single metallic wing emerges from her left shoulder. After fusing with Adam, her appearance transforms further, featuring a white halo, a white Nano suit, a shining golden blade, and large white-feathered wings, giving her an angelic look. ([stellarblade.fandom.com](https://stellarblade.fandom.com/wiki/EVE?utm_source=openai))\n",
      "\n",
      "Eve's body was modeled after South Korean model Shin Jae-eun, whose physique was 3D scanned to create the character's body. However, her face was designed in-house by the development team. ([pushsquare.com](https://www.pushsquare.com/guides/stellar-blade-who-is-the-real-life-model-eve-is-based-on?utm_source=openai))\n",
      "\n",
      "The game's director, Hyung-Tae Kim, emphasized the importance of Eve's design, noting that special attention was given to her back, as it is prominently visible during gameplay. He stated that the design choices were made to entertain an adult audience. ([en.wikipedia.org](https://en.wikipedia.org/wiki/Stellar_Blade?utm_source=openai))\n",
      "\n",
      "Overall, Eve's appearance combines elements of futuristic design with personal customization options, contributing to her unique and memorable presence in *Stellar Blade*. \n"
     ]
    }
   ],
   "source": [
    "response = client.responses.create(\n",
    "    model=\"gpt-4.1\",\n",
    "    tools=[{\n",
    "        \"type\": \"web_search_preview\",\n",
    "        \"search_context_size\": \"high\",\n",
    "    }],\n",
    "    input=\"What is the appearance of Eve of Stellar Blade? Please find the result on the internet.\",\n",
    ")\n",
    "\n",
    "print(response.output_text)"
   ]
  },
  {
   "cell_type": "code",
   "execution_count": 25,
   "id": "c1fd0e88-6c4d-4657-b51b-69647c7b717d",
   "metadata": {},
   "outputs": [
    {
     "name": "stdout",
     "output_type": "stream",
     "text": [
      "Eve, the protagonist of *Stellar Blade*, is depicted as a striking woman with a slender yet curvaceous figure, brown eyes, and long black hair styled into a ponytail with bangs. Her design includes small moles scattered across her face and body, adding to her distinctive appearance. ([stellarblade.fandom.com](https://stellarblade.fandom.com/wiki/EVE?utm_source=openai))\n",
      "\n",
      "Her primary attire, the Planet Diving Suit (7th) Nano suit, is a green, form-fitting bodysuit with a metallic sheen. This suit features a green tie, white gloves, and opaque cape-like extensions on the back. Depending on the player's choice, she wears various types of heels. Notably, her weapon, the Blood Edge sword, folds up and serves as a hair clip for her ponytail when not in use. ([stellarblade.fandom.com](https://stellarblade.fandom.com/wiki/EVE?utm_source=openai))\n",
      "\n",
      "Customization options for Eve include different hairstyles, hair colors, earrings, glasses, and alternative Nano suits, allowing players to personalize her appearance. In Tachy Mode, she dons Tachy's Nano suit, wields the Tachyon Blade, and a single metallic wing emerges from her left shoulder. After fusing with Adam, her appearance transforms further, featuring a white halo, a white Nano suit, a shining golden blade, and large white-feathered wings, giving her an angelic look. ([stellarblade.fandom.com](https://stellarblade.fandom.com/wiki/EVE?utm_source=openai))\n",
      "\n",
      "Eve's body was modeled after South Korean model Shin Jae-eun, whose physique was 3D scanned to create the character's body. However, her face was designed in-house by the development team. ([pushsquare.com](https://www.pushsquare.com/guides/stellar-blade-who-is-the-real-life-model-eve-is-based-on?utm_source=openai))\n",
      "\n",
      "The game's director, Hyung-Tae Kim, emphasized the importance of Eve's design, noting that special attention was given to her back, as it is prominently visible during gameplay. He stated that the design choices were made to entertain an adult audience. ([en.wikipedia.org](https://en.wikipedia.org/wiki/Stellar_Blade?utm_source=openai))\n",
      "\n",
      "Overall, Eve's appearance combines elements of futuristic design with personal customization options, contributing to her unique and memorable presence in *Stellar Blade*. \n"
     ]
    }
   ],
   "source": [
    "print(response.output[1].content[0].text)"
   ]
  },
  {
   "cell_type": "code",
   "execution_count": 26,
   "id": "ab854472-1d5f-468e-ad85-37095f6fccc5",
   "metadata": {
    "tags": []
   },
   "outputs": [
    {
     "name": "stdout",
     "output_type": "stream",
     "text": [
      "[AnnotationURLCitation(end_index=371, start_index=284, title='EVE | Stellar Blade Wiki | Fandom', type='url_citation', url='https://stellarblade.fandom.com/wiki/EVE?utm_source=openai'), AnnotationURLCitation(end_index=848, start_index=761, title='EVE | Stellar Blade Wiki | Fandom', type='url_citation', url='https://stellarblade.fandom.com/wiki/EVE?utm_source=openai'), AnnotationURLCitation(end_index=1420, start_index=1333, title='EVE | Stellar Blade Wiki | Fandom', type='url_citation', url='https://stellarblade.fandom.com/wiki/EVE?utm_source=openai'), AnnotationURLCitation(end_index=1739, start_index=1611, title='Stellar Blade: Who Is the Real-Life Model Eve Is Based On? | Push Square', type='url_citation', url='https://www.pushsquare.com/guides/stellar-blade-who-is-the-real-life-model-eve-is-based-on?utm_source=openai'), AnnotationURLCitation(end_index=2078, start_index=1995, title='Stellar Blade', type='url_citation', url='https://en.wikipedia.org/wiki/Stellar_Blade?utm_source=openai')]\n"
     ]
    }
   ],
   "source": [
    "print(response.output[1].content[0].annotations)"
   ]
  },
  {
   "cell_type": "markdown",
   "id": "5ba75cd3-0fa8-4012-9ab4-0de388ab097d",
   "metadata": {},
   "source": [
    "# **** 預計第一個小時結束 ****"
   ]
  },
  {
   "cell_type": "markdown",
   "id": "3762d243-fe7f-4b43-b9c8-466918715165",
   "metadata": {},
   "source": [
    "## LCEL ACG character appearance chain"
   ]
  },
  {
   "cell_type": "code",
   "execution_count": 27,
   "id": "1ab73102-3977-4691-b91d-10d0faa3aa0b",
   "metadata": {
    "tags": []
   },
   "outputs": [],
   "source": [
    "from langchain.docstore.document import Document\n",
    "from langchain.agents import Tool, AgentExecutor, create_react_agent\n",
    "from langchain.tools import BaseTool\n",
    "from langchain.prompts import PromptTemplate, ChatPromptTemplate, HumanMessagePromptTemplate, SystemMessagePromptTemplate\n",
    "from langchain_core.output_parsers import StrOutputParser\n",
    "\n",
    "system_template = (\"You are a helpful AI assistant with deep knowledge of anime, manga, \"\n",
    "                   \"and mobile games. You will generate the face, body, attire, hairstyle, and accessories of a character in great \" \n",
    "                   \"detail. The output should consist of:\\n\\n\"\n",
    "                   \"- Face:\\n\"\n",
    "                   \"- Body:\\n\"\n",
    "                   \"- Attire:\\n\"\n",
    "                   \"- Hairstyle:\\n\"\n",
    "                   \"- Accessories:\\n\\n\"\n",
    "                   \"If you are not sure about the answer, please find the content from the internet.\")\n",
    "\n",
    "# Make this simple in the beginning\n",
    "@chain\n",
    "def gpt_web_search_tool(text):\n",
    "\n",
    "    client = OpenAI()\n",
    "\n",
    "    response = client.responses.create(\n",
    "        model=\"gpt-4.1\",\n",
    "        tools=[{\n",
    "            \"type\": \"web_search_preview\",\n",
    "            \"search_context_size\": \"low\",\n",
    "        }],\n",
    "        input=[{\"role\": \"system\",\n",
    "                \"content\": [{\"type\": \"input_text\",\n",
    "                             \"text\": system_template}]},\n",
    "               {\"role\": \"user\",\n",
    "                \"content\": [{\"type\": \"input_text\",\n",
    "                             \"text\": text}]}]\n",
    "    )\n",
    "    \n",
    "    return response"
   ]
  },
  {
   "cell_type": "code",
   "execution_count": 28,
   "id": "c05f32a4-affa-4092-96ef-a0d7744d4222",
   "metadata": {
    "tags": []
   },
   "outputs": [],
   "source": [
    "output = gpt_web_search_tool.invoke(\"What is the appearance of Hu Tao from Genshin\")"
   ]
  },
  {
   "cell_type": "code",
   "execution_count": 29,
   "id": "f14d440f-bbc1-41bf-9449-5dfde75fbc24",
   "metadata": {},
   "outputs": [
    {
     "name": "stdout",
     "output_type": "stream",
     "text": [
      "[AnnotationURLCitation(end_index=1898, start_index=1806, title=\"Things You Didn’t Know About Genshin Impact's Hu Tao\", type='url_citation', url='https://gamerant.com/genshin-impact-hu-tao-facts-trivia/?utm_source=openai')]\n"
     ]
    }
   ],
   "source": [
    "print(output.output[1].content[0].annotations)"
   ]
  },
  {
   "cell_type": "code",
   "execution_count": 30,
   "id": "d5dbae50-d452-4751-9137-ed9c76b57db9",
   "metadata": {},
   "outputs": [
    {
     "name": "stdout",
     "output_type": "stream",
     "text": [
      "Hu Tao, the 77th Director of the Wangsheng Funeral Parlor in Genshin Impact, has a distinctive and symbolic appearance that reflects her unique personality and role.\n",
      "\n",
      "**Face:**\n",
      "- **Complexion:** Fair skin.\n",
      "- **Eyes:** Bright scarlet with white, blossom-shaped pupils, complemented by faded red makeup at the corners.\n",
      "\n",
      "**Body:**\n",
      "- **Build:** Petite stature.\n",
      "\n",
      "**Hairstyle:**\n",
      "- **Color:** Extensively long dark brown hair that fades to crimson at the tips.\n",
      "- **Style:** Styled into two high twintails parted with a zig-zag pattern.\n",
      "- **Bangs:** Side-swept to her left, with layers framing her face curled inwards and the layers behind curled outwards.\n",
      "- **Additional Details:** Two shoulder-length locks of hair in front of her ears are left loose.\n",
      "\n",
      "**Attire:**\n",
      "- **Hat:** A black porkpie hat adorned with a wooden talisman, a red plum blossom branch in bloom, and an indigo tassel tied in a looped knot.\n",
      "- **Top:** Traditional red shirt with a mandarin collar.\n",
      "- **Outerwear:** Brown coat with a darker collar and sleeve cuffs, featuring long rectangular coattails.\n",
      "- **Bottoms:** Black shorts with gold accents.\n",
      "- **Footwear:** Mid-calf length white socks with red straps and plum blossoms wrapped around the cuffs, paired with low-heeled black dress shoes.\n",
      "\n",
      "**Accessories:**\n",
      "- **Vision:** Her Pyro Vision is embedded in the back of her coat.\n",
      "- **Jewelry:** Multiple rings—one on her left ring finger, one on her right thumb, and one on each of her index and middle fingers.\n",
      "- **Bracelet:** A loose red bracelet on her right hand, often concealed by her long sleeves.\n",
      "- **Nail Polish:** Fingernails painted black.\n",
      "\n",
      "Hu Tao's ensemble is rich in cultural symbolism, with elements like the plum blossom representing perseverance and hope, aligning with her role in guiding souls and managing funerary affairs. ([gamerant.com](https://gamerant.com/genshin-impact-hu-tao-facts-trivia/?utm_source=openai)) \n"
     ]
    }
   ],
   "source": [
    "print(output.output[1].content[0].text)"
   ]
  },
  {
   "cell_type": "code",
   "execution_count": 31,
   "id": "6f9a6afa-cf49-4aa1-a542-1fa9ef205d27",
   "metadata": {
    "tags": []
   },
   "outputs": [],
   "source": [
    "class ACGLLMTool(BaseTool):\n",
    "\n",
    "    name: str = \"Anime character design generator\"\n",
    "    description: str = \"Use this tool to generate and explore detailed designs for anime and ACG (Animation, Comics, and Games) characters.\"\n",
    "\n",
    "    def _run(self, query: str):\n",
    "        \n",
    "        response = gpt_web_search_tool.invoke(query)\n",
    "        \n",
    "        return response.output[1].content[0].text\n",
    "\n",
    "    def _arun(self, radius: int):\n",
    "        raise NotImplementedError(\"This tool does not support async\")\n",
    "        \n",
    "        \n",
    "class ImageTool(BaseTool):\n",
    "\n",
    "    name:str = \"ACG characters image generator with GPT-Image-1\"\n",
    "\n",
    "    input_output_parser: PydanticOutputParser = PydanticOutputParser(pydantic_object=ImageInput)\n",
    "    \n",
    "    input_format_instructions: str = input_output_parser.get_format_instructions()\n",
    "\n",
    "    description_template: str = (\"Use this tool when you need to create an image\\n\\n\"\n",
    "                                 \"input format_instructions: {input_format_instructions}\")\n",
    "\n",
    "    description: str = description_template.format(input_format_instructions=input_format_instructions)\n",
    "    \n",
    "    def _run(self, query):\n",
    "        \n",
    "        input_ = self.input_output_parser.parse(query)\n",
    "        \n",
    "        image_desc = input_.image_desc\n",
    "        size = input_.size\n",
    "        quality = input_.quality\n",
    "        filename = input_.filename\n",
    "        \n",
    "        gpt_image_chain.invoke({\"image_desc\": image_desc,\n",
    "                                \"size\": size,\n",
    "                                \"quality\": quality,\n",
    "                                \"filename\": filename,\n",
    "                                \"moderation\": 'low'})\n",
    "        \n",
    "        return \"Done\"\n",
    "\n",
    "    def _arun(self, radius: int):\n",
    "        raise NotImplementedError(\"This tool does not support async\")\n",
    "\n",
    "        \n",
    "prompt_template = \"\"\"\n",
    "Answer the following questions as best you can. You have access to the following tools:\n",
    "\n",
    "{tools}\n",
    "\n",
    "Use the following format:\n",
    "\n",
    "Question: the input question you must answer\n",
    "\n",
    "Thought: you should always think about what to do\n",
    "\n",
    "Action: the action to take, should be one of [{tool_names}]\n",
    "\n",
    "Action Input: the input to the action\n",
    "\n",
    "Observation: the result of the action\n",
    "\n",
    "... (this Thought/Action/Action Input/Observation can repeat N times)\n",
    "\n",
    "Thought: I now know the final answer\n",
    "\n",
    "Final Answer: the final answer to the original input question\n",
    "\n",
    "Begin!\n",
    "\n",
    "Question: {input}\n",
    "\n",
    "Thought:{agent_scratchpad}\n",
    "\"\"\"        \n",
    "             \n",
    "prompt = PromptTemplate.from_template(prompt_template)\n",
    "\n",
    "tools = [ImageTool(), ACGLLMTool()]\n",
    "\n",
    "zero_shot_agent = create_react_agent(\n",
    "    llm=model,\n",
    "    tools=tools,\n",
    "    prompt=prompt,\n",
    ")\n",
    "\n",
    "agent_executor = AgentExecutor(agent=zero_shot_agent, tools=tools, verbose=True)"
   ]
  },
  {
   "cell_type": "code",
   "execution_count": 32,
   "id": "ce8d8dfd-78c8-45b4-8292-28857e770371",
   "metadata": {
    "tags": []
   },
   "outputs": [
    {
     "name": "stdout",
     "output_type": "stream",
     "text": [
      "\n",
      "\n",
      "\u001b[1m> Entering new AgentExecutor chain...\u001b[0m\n",
      "\u001b[32;1m\u001b[1;3mTo generate an image of Hu Tao from Genshin Impact in a pastel art style, I will use the ACG characters image generator with GPT-Image-1.\n",
      "\n",
      "Action: ACG characters image generator with GPT-Image-1\n",
      "\n",
      "Action Input: \n",
      "```json\n",
      "{\n",
      "  \"image_desc\": \"Hu Tao from Genshin Impact in a pastel art style\",\n",
      "  \"filename\": \"hu_tao_pastel_art.png\",\n",
      "  \"size\": \"1024x1024\",\n",
      "  \"quality\": \"high\"\n",
      "}\n",
      "```\n",
      "\u001b[0mStart generating image...\n",
      "prompt: Create an illustration of Hu Tao from Genshin Impact in a pastel art style. She should be depicted in her traditional outfit, with her signature hat and playful expression. The background should be soft and dreamy, with pastel colors like light pinks, blues, and purples, creating a whimsical and enchanting atmosphere. The overall feel should be light and airy, capturing the charm and mischievous nature of Hu Tao.\n",
      "Image is generated succesfully.\n",
      "\u001b[36;1m\u001b[1;3mDone\u001b[0m\u001b[32;1m\u001b[1;3mI now know the final answer.\n",
      "\n",
      "Final Answer: The image of Hu Tao from Genshin Impact in a pastel art style has been generated and saved as \"hu_tao_pastel_art.png\".\u001b[0m\n",
      "\n",
      "\u001b[1m> Finished chain.\u001b[0m\n"
     ]
    },
    {
     "data": {
      "text/plain": [
       "{'input': 'Generate an image of Hu Tao from Genshim in pastel art style',\n",
       " 'output': 'The image of Hu Tao from Genshin Impact in a pastel art style has been generated and saved as \"hu_tao_pastel_art.png\".'}"
      ]
     },
     "execution_count": 32,
     "metadata": {},
     "output_type": "execute_result"
    }
   ],
   "source": [
    "agent_executor.invoke({\"input\": \"Generate an image of Hu Tao from Genshim in pastel art style\"})"
   ]
  },
  {
   "cell_type": "code",
   "execution_count": 33,
   "id": "3c428fcc-e8be-45f1-8d15-9e7112fba86e",
   "metadata": {
    "tags": []
   },
   "outputs": [
    {
     "name": "stdout",
     "output_type": "stream",
     "text": [
      "\n",
      "\n",
      "\u001b[1m> Entering new AgentExecutor chain...\u001b[0m\n",
      "\u001b[32;1m\u001b[1;3mTo generate an image of Yae Miko from Genshin Impact in an impressionism oil painting style with chiaroscuro lighting, I will use the ACG characters image generator with GPT-Image-1.\n",
      "\n",
      "Action: ACG characters image generator with GPT-Image-1\n",
      "\n",
      "Action Input:\n",
      "```json\n",
      "{\n",
      "  \"image_desc\": \"Yae Miko from Genshin Impact in impressionism oil painting style with chiaroscuro lighting\",\n",
      "  \"filename\": \"yae_miko_impressionism_chiaroscuro.png\",\n",
      "  \"size\": \"1024x1024\",\n",
      "  \"quality\": \"high\"\n",
      "}\n",
      "```\n",
      "\u001b[0mStart generating image...\n",
      "prompt: Create an impressionism oil painting of Yae Miko from Genshin Impact. She is depicted with chiaroscuro lighting, highlighting her elegant features and traditional attire. The background is a blend of soft, blurred colors typical of impressionist art, with light and shadow creating a dramatic contrast around her figure. The overall mood is serene and mystical, capturing the essence of her character in a timeless, painterly style.\n",
      "Image is generated succesfully.\n",
      "\u001b[36;1m\u001b[1;3mDone\u001b[0m\u001b[32;1m\u001b[1;3mI now know the final answer.\n",
      "\n",
      "Final Answer: The image of Yae Miko from Genshin Impact in impressionism oil painting style with chiaroscuro lighting has been generated and saved as \"yae_miko_impressionism_chiaroscuro.png\".\u001b[0m\n",
      "\n",
      "\u001b[1m> Finished chain.\u001b[0m\n"
     ]
    },
    {
     "data": {
      "text/plain": [
       "{'input': 'Generate an image of Yae Miko from Genshim in impressionism oil painting style with chiaroscuro lighting.',\n",
       " 'output': 'The image of Yae Miko from Genshin Impact in impressionism oil painting style with chiaroscuro lighting has been generated and saved as \"yae_miko_impressionism_chiaroscuro.png\".'}"
      ]
     },
     "execution_count": 33,
     "metadata": {},
     "output_type": "execute_result"
    }
   ],
   "source": [
    "agent_executor.invoke({\"input\": \"Generate an image of Yae Miko from Genshim in impressionism oil painting style with chiaroscuro lighting.\" })"
   ]
  },
  {
   "cell_type": "markdown",
   "id": "9fabc653-5ca9-484b-a864-0b6a363ac275",
   "metadata": {},
   "source": [
    "## Audible 有聲書\n",
    "\n",
    "- 文轉語音: TTS tool\n",
    "- 文轉圖: Image tool"
   ]
  },
  {
   "cell_type": "markdown",
   "id": "0d8075d8-df6e-4320-a297-2504c5b28fbc",
   "metadata": {},
   "source": [
    "### Children Book Image Generator\n",
    "\n",
    "- Generate image according to the story"
   ]
  },
  {
   "cell_type": "code",
   "execution_count": 34,
   "id": "2d168449-4550-49b8-acd2-21b4d3009efa",
   "metadata": {
    "tags": []
   },
   "outputs": [],
   "source": [
    "system_template = (\"You are a helpful AI assistant and an art expert with extensive knowledge of illustration.\\n \"\n",
    "                   \"You excel at creating Pencil and Ink Style illustrations for 6-year-old children using the GPT-Image-1 model. \"\n",
    "                   \"This style is characterized by detailed line work, often in black and white or with minimal color, and has a classic, \"\n",
    "                   \"timeless feel. For this task, you will be provided with a paragraph of a story, and you will generate a corresponding \"\n",
    "                   \"DALLE-3 prompt which captures the storyline. The prompt should be detailed and descriptive, capturing the essence of \"\n",
    "                   \"the image.\")\n",
    "\n",
    "\n",
    "system_prompt = PromptTemplate(template=system_template)\n",
    "\n",
    "# System prompt\n",
    "system_message = SystemMessagePromptTemplate(prompt=system_prompt)\n",
    "\n",
    "human_prompt = PromptTemplate(template=\"{story}\",\n",
    "                              input_variables=['story'])\n",
    "\n",
    "# Create a human message prompt template based on the prompt\n",
    "human_message = HumanMessagePromptTemplate(prompt=human_prompt)\n",
    "\n",
    "chat_prompt = ChatPromptTemplate.from_messages([system_message, human_message])\n",
    "\n",
    "nl_prompt_generation_chain = chat_prompt | model | StrOutputParser()     \n",
    "\n",
    "step_1 = RunnablePassthrough.assign(nl_prompt=itemgetter('story')|nl_prompt_generation_chain)\n",
    "step_2 = RunnablePassthrough.assign(image_base64=gpt_image_worker)\n",
    "step_3 = base64_to_file\n",
    "image_chain = step_1 | step_2 | step_3"
   ]
  },
  {
   "cell_type": "code",
   "execution_count": null,
   "id": "46f1dfda-5933-4dbb-b96f-90261db41d36",
   "metadata": {},
   "outputs": [],
   "source": [
    "# step_1 = RunnablePassthrough.assign(nl_prompt=itemgetter('image_desc')|nl_prompt_generation_chain)\n",
    "\n",
    "# # step 2: image generation process, as a base64\n",
    "# step_2 = RunnablePassthrough.assign(image_base64=dalle3_worker)\n",
    "\n",
    "# # step 3: save the image\n",
    "# step_3 = RunnableLambda(base64_to_file)\n",
    "\n",
    "# # chain step 1, step 2, step 3 together\n",
    "# dalle3_chain =  step_1|step_2|step_3"
   ]
  },
  {
   "cell_type": "markdown",
   "id": "3f2128a3-41fc-49a3-a93f-57d7d18a169e",
   "metadata": {},
   "source": [
    "- Generate the story"
   ]
  },
  {
   "cell_type": "code",
   "execution_count": 35,
   "id": "797c315b-489e-4b45-b4b6-879a8e8414db",
   "metadata": {
    "tags": []
   },
   "outputs": [],
   "source": [
    "system_template = (\"You are a helpful AI assistant who likes children. You are great storyteller and know how to create content for kindergarten kids. \"\n",
    "                   \"A short chapter is created once at a time.\")\n",
    "\n",
    "system_prompt = PromptTemplate(template=system_template)\n",
    "\n",
    "# System prompt\n",
    "system_message = SystemMessagePromptTemplate(prompt=system_prompt)\n",
    "\n",
    "human_prompt = PromptTemplate(template=\"{input}\",\n",
    "                              input_variables=['input'])\n",
    "\n",
    "# Create a human message prompt template based on the prompt\n",
    "human_message = HumanMessagePromptTemplate(prompt=human_prompt)\n",
    "\n",
    "chat_prompt = ChatPromptTemplate.from_messages([system_message, human_message])\n",
    "\n",
    "story_chain = chat_prompt | model | StrOutputParser()     "
   ]
  },
  {
   "cell_type": "code",
   "execution_count": 36,
   "id": "fe3cfbe6-6286-4212-8e47-31786f46b4b9",
   "metadata": {},
   "outputs": [],
   "source": [
    "story = story_chain.invoke({\"input\": \"Create a chapter of a baby owl capturing a rodent in the night as his dinner\"})"
   ]
  },
  {
   "cell_type": "code",
   "execution_count": 37,
   "id": "c2f923fa-d406-482b-855b-b0e869afeada",
   "metadata": {},
   "outputs": [
    {
     "name": "stdout",
     "output_type": "stream",
     "text": [
      "Start generating image...\n",
      "prompt: **Prompt:**\n",
      "\n",
      "Create a detailed pencil and ink style illustration for a 6-year-old child, depicting a cozy forest at night with tall trees and twinkling stars. In the center, show a baby owl named Ollie with big, round eyes that sparkle like the moon and soft, fluffy feathers. Ollie should be depicted soaring into the night sky, with his tiny wings outstretched. Below him, the forest is alive with the sounds of crickets chirping and leaves rustling in the breeze. Include a tiny rodent with twitching whiskers and a sniffing nose scurrying through the grass. Capture the moment when Ollie, with a gentle flap of his wings, is about to swoop down to catch the rodent. The scene should feel magical and adventurous, with a sense of excitement and wonder.\n",
      "Image is generated succesfully.\n"
     ]
    }
   ],
   "source": [
    "image_chain.invoke({\"story\":story,\n",
    "                    \"filename\": \"tutorial/LLM+Langchain/Week-8/story_2_image.png\"})"
   ]
  },
  {
   "cell_type": "code",
   "execution_count": 38,
   "id": "e4bfecd8-484f-4c37-a9d4-09773a31b21d",
   "metadata": {
    "tags": []
   },
   "outputs": [],
   "source": [
    "import json\n",
    "\n",
    "from src.agent.react_zero_shot import prompt_template as zero_shot_prompt_template\n",
    "# from langchain_core.prompts import MessagesPlaceholder\n",
    "\n",
    "client = OpenAI(api_key=os.environ['OPENAI_API_KEY'])\n",
    "\n",
    "class TTSInput(BaseModel):\n",
    "    text: str = Field(description=(\"The story\"))\n",
    "    filename: str = Field(description=\"the location at which the audio file will be saved\")\n",
    "\n",
    "    \n",
    "class TTSTool(BaseTool):\n",
    "\n",
    "    name: str = \"Text to Sound (tts) tool\"\n",
    "\n",
    "    input_output_parser: PydanticOutputParser = PydanticOutputParser(pydantic_object=TTSInput)\n",
    "    \n",
    "    input_format_instructions: str = input_output_parser.get_format_instructions()\n",
    "\n",
    "    description_template: str = (\"Use this tool to generate an audio file of the story.\\n\"\n",
    "                                 \"input format: {input_format_instructions}.\")\n",
    "\n",
    "    description: str = description_template.format(input_format_instructions=input_format_instructions)\n",
    "\n",
    "    \n",
    "    def _run(self, text: str):\n",
    "\n",
    "        input_ = self.input_output_parser.parse(text)\n",
    "\n",
    "        text = input_.text\n",
    "        filename = input_.filename\n",
    "        response = self.tts(text)\n",
    "        \n",
    "        response.stream_to_file(filename)\n",
    "        \n",
    "        return filename\n",
    "\n",
    "    def _arun(self, radius: int):\n",
    "        raise NotImplementedError(\"This tool does not support async\")\n",
    "        \n",
    "        \n",
    "    def tts(self, text: str):\n",
    "        \n",
    "        response = client.audio.speech.create(\n",
    "          model=\"tts-1\",\n",
    "          voice=\"nova\",\n",
    "          input=text\n",
    "        )\n",
    "\n",
    "        return response\n",
    "           \n",
    "            \n",
    "prompt = PromptTemplate.from_template(zero_shot_prompt_template)\n",
    "\n",
    "tools = [TTSTool(), \n",
    "         ImageTool(),\n",
    "         Tool(name=\"StoryTeller\",\n",
    "              func=story_chain.invoke,\n",
    "              description=\"useful for create a story\",\n",
    "        )]\n",
    "\n",
    "zero_shot_agent = create_react_agent(\n",
    "    llm=model,\n",
    "    tools=tools,\n",
    "    prompt=prompt,\n",
    ")\n",
    "\n",
    "agent_executor = AgentExecutor(agent=zero_shot_agent, tools=tools, verbose=True, handle_parsing_errors=True)"
   ]
  },
  {
   "cell_type": "code",
   "execution_count": 39,
   "id": "74b78a71-2bac-478a-9a4f-046bf3deba9b",
   "metadata": {
    "tags": []
   },
   "outputs": [
    {
     "name": "stdout",
     "output_type": "stream",
     "text": [
      "\n",
      "\n",
      "\u001b[1m> Entering new AgentExecutor chain...\u001b[0m\n",
      "\u001b[32;1m\u001b[1;3mTo create a chapter of a baby owl capturing a rodent in the night as his dinner, I will first generate the story. After that, I will create an image corresponding to the story and record the story as an mp3 file. The saved image and mp3 file will have the same name and will be saved in the specified folder.\n",
      "\n",
      "Action: StoryTeller\n",
      "\n",
      "Action Input: \n",
      "```\n",
      "{\n",
      "  \"input\": \"Create a chapter of a baby owl capturing a rodent in the night as his dinner.\"\n",
      "}\n",
      "```\n",
      "\u001b[0m\u001b[38;5;200m\u001b[1;3m**Chapter 1: Ollie the Brave Baby Owl**\n",
      "\n",
      "Once upon a time, in a quiet forest, there lived a baby owl named Ollie. Ollie had big, round eyes that sparkled like the stars and soft, fluffy feathers that kept him warm at night. He lived high up in a cozy nest with his family.\n",
      "\n",
      "One evening, as the sun dipped below the horizon and the moon began to rise, Ollie felt his tummy rumble. \"Hoo-hoo,\" he called to his mother. \"I'm hungry!\"\n",
      "\n",
      "Mama Owl ruffled her feathers and smiled. \"It's time for you to learn how to catch your own dinner, Ollie,\" she said gently. \"Tonight, you will go on your first hunting adventure.\"\n",
      "\n",
      "Ollie felt a mix of excitement and nervousness. He had watched his parents hunt many times, but he had never tried it himself. With a determined nod, he spread his tiny wings and took off into the night sky.\n",
      "\n",
      "The forest was a magical place at night. The trees whispered secrets to each other, and the stars twinkled like tiny lanterns. Ollie flew silently, his keen eyes scanning the ground below for any signs of movement.\n",
      "\n",
      "Suddenly, he spotted something! A little rodent was scurrying through the grass, looking for its own dinner. Ollie's heart raced. This was his chance!\n",
      "\n",
      "He remembered what his mother had taught him: \"Be patient, be quiet, and when the time is right, swoop down quickly.\" Ollie perched on a branch and watched the rodent carefully. He waited and waited, his eyes never leaving his target.\n",
      "\n",
      "Then, with a burst of courage, Ollie spread his wings and swooped down. He glided silently through the air, his sharp talons ready. In one swift motion, he captured the rodent!\n",
      "\n",
      "Ollie couldn't believe it. He had done it! He had caught his very first dinner. With the rodent safely in his grasp, he flew back to the nest, his heart swelling with pride.\n",
      "\n",
      "Mama Owl was waiting for him, her eyes shining with pride. \"Well done, Ollie!\" she hooted. \"You are a brave and skilled hunter.\"\n",
      "\n",
      "Ollie felt so happy and proud. He had learned an important lesson that night: with patience, courage, and a little bit of practice, he could achieve anything.\n",
      "\n",
      "As he settled down in the nest with his family, Ollie enjoyed his well-earned dinner. The forest sang a lullaby, and the stars winked down at him, as if to say, \"Good job, little owl.\"\n",
      "\n",
      "And so, Ollie the brave baby owl drifted off to sleep, dreaming of more adventures to come.\n",
      "\n",
      "**The End.**\u001b[0m\u001b[32;1m\u001b[1;3mI now have the story of Ollie the brave baby owl. The next step is to create an image corresponding to the story and then record the story as an mp3 file. Both the image and the mp3 file will be saved in the specified folder with the same name.\n",
      "\n",
      "Action: ACG characters image generator with GPT-Image-1\n",
      "\n",
      "Action Input: \n",
      "```\n",
      "{\n",
      "  \"image_desc\": \"A baby owl named Ollie with big, round eyes and soft, fluffy feathers, perched on a branch at night, ready to swoop down on a rodent in the grass below. The forest is dark with twinkling stars and a glowing moon.\",\n",
      "  \"filename\": \"tutorial/LLM+Langchain/Week-8/Ollie_the_Brave_Baby_Owl.png\",\n",
      "  \"size\": \"1024x1024\",\n",
      "  \"quality\": \"high\"\n",
      "}\n",
      "```\n",
      "\u001b[0mStart generating image...\n",
      "prompt: A detailed pencil and ink style illustration of a baby owl named Ollie with big, round eyes and soft, fluffy feathers, perched on a branch at night. Ollie is ready to swoop down on a rodent in the grass below. The forest is dark, with twinkling stars and a glowing moon illuminating the scene. The background features tall trees with intricate bark patterns and leaves, creating a magical, nighttime atmosphere.\n",
      "Image is generated succesfully.\n",
      "\u001b[33;1m\u001b[1;3mDone\u001b[0m\u001b[32;1m\u001b[1;3mI have successfully created the image corresponding to the story. The next step is to record the story as an mp3 file and save it in the specified folder with the same name as the image.\n",
      "\n",
      "Action: Text to Sound (tts) tool\n",
      "\n",
      "Action Input: \n",
      "```\n",
      "{\n",
      "  \"text\": \"Once upon a time, in a quiet forest, there lived a baby owl named Ollie. Ollie had big, round eyes that sparkled like the stars and soft, fluffy feathers that kept him warm at night. He lived high up in a cozy nest with his family. One evening, as the sun dipped below the horizon and the moon began to rise, Ollie felt his tummy rumble. 'Hoo-hoo,' he called to his mother. 'I'm hungry!' Mama Owl ruffled her feathers and smiled. 'It's time for you to learn how to catch your own dinner, Ollie,' she said gently. 'Tonight, you will go on your first hunting adventure.' Ollie felt a mix of excitement and nervousness. He had watched his parents hunt many times, but he had never tried it himself. With a determined nod, he spread his tiny wings and took off into the night sky. The forest was a magical place at night. The trees whispered secrets to each other, and the stars twinkled like tiny lanterns. Ollie flew silently, his keen eyes scanning the ground below for any signs of movement. Suddenly, he spotted something! A little rodent was scurrying through the grass, looking for its own dinner. Ollie's heart raced. This was his chance! He remembered what his mother had taught him: 'Be patient, be quiet, and when the time is right, swoop down quickly.' Ollie perched on a branch and watched the rodent carefully. He waited and waited, his eyes never leaving his target. Then, with a burst of courage, Ollie spread his wings and swooped down. He glided silently through the air, his sharp talons ready. In one swift motion, he captured the rodent! Ollie couldn't believe it. He had done it! He had caught his very first dinner. With the rodent safely in his grasp, he flew back to the nest, his heart swelling with pride. Mama Owl was waiting for him, her eyes shining with pride. 'Well done, Ollie!' she hooted. 'You are a brave and skilled hunter.' Ollie felt so happy and proud. He had learned an important lesson that night: with patience, courage, and a little bit of practice, he could achieve anything. As he settled down in the nest with his family, Ollie enjoyed his well-earned dinner. The forest sang a lullaby, and the stars winked down at him, as if to say, 'Good job, little owl.' And so, Ollie the brave baby owl drifted off to sleep, dreaming of more adventures to come. The End.\",\n",
      "  \"filename\": \"tutorial/LLM+Langchain/Week-8/Ollie_the_Brave_Baby_Owl.mp3\"\n",
      "}\n",
      "```\n",
      "\u001b[0m"
     ]
    },
    {
     "name": "stderr",
     "output_type": "stream",
     "text": [
      "C:\\Users\\MengChieh\\AppData\\Local\\Temp\\ipykernel_13460\\3477408663.py:35: DeprecationWarning: Due to a bug, this method doesn't actually stream the response content, `.with_streaming_response.method()` should be used instead\n",
      "  response.stream_to_file(filename)\n"
     ]
    },
    {
     "name": "stdout",
     "output_type": "stream",
     "text": [
      "\u001b[36;1m\u001b[1;3mtutorial/LLM+Langchain/Week-8/Ollie_the_Brave_Baby_Owl.mp3\u001b[0m\u001b[32;1m\u001b[1;3mI have successfully created the image and recorded the story as an mp3 file. Both files have been saved in the specified folder with the same name.\n",
      "\n",
      "Final Answer: The chapter of the baby owl capturing a rodent in the night as his dinner has been created. The corresponding image and audio file have been saved as \"Ollie_the_Brave_Baby_Owl.png\" and \"Ollie_the_Brave_Baby_Owl.mp3\" in the folder `tutorial/LLM+Langchain/Week-8`.\n",
      "\n",
      "Here are the details:\n",
      "- Image: `tutorial/LLM+Langchain/Week-8/Ollie_the_Brave_Baby_Owl.png`\n",
      "- Audio: `tutorial/LLM+Langchain/Week-8/Ollie_the_Brave_Baby_Owl.mp3`\u001b[0m\n",
      "\n",
      "\u001b[1m> Finished chain.\u001b[0m\n"
     ]
    },
    {
     "data": {
      "text/plain": [
       "{'input': 'Create a chapter of a baby owl capturing a rodent in the night as his dinner.\\nAfter having the final answer, please create a corresponding image and record the story as an mp3. The saved image (.png) and mp3 (.mp3) should have same name in the folder `tutorial/LLM+Langchain/Week-8',\n",
       " 'output': 'The chapter of the baby owl capturing a rodent in the night as his dinner has been created. The corresponding image and audio file have been saved as \"Ollie_the_Brave_Baby_Owl.png\" and \"Ollie_the_Brave_Baby_Owl.mp3\" in the folder `tutorial/LLM+Langchain/Week-8`.\\n\\nHere are the details:\\n- Image: `tutorial/LLM+Langchain/Week-8/Ollie_the_Brave_Baby_Owl.png`\\n- Audio: `tutorial/LLM+Langchain/Week-8/Ollie_the_Brave_Baby_Owl.mp3`'}"
      ]
     },
     "execution_count": 39,
     "metadata": {},
     "output_type": "execute_result"
    }
   ],
   "source": [
    "prompt = (\"Create a chapter of a baby owl capturing a rodent in the night as his dinner.\\n\"\n",
    "         \"After having the final answer, please create a corresponding image and record the story as an mp3. \"\n",
    "         \"The saved image (.png) and mp3 (.mp3) should have same name in the folder `tutorial/LLM+Langchain/Week-8\")\n",
    "\n",
    "agent_executor.invoke({\"input\": prompt})"
   ]
  },
  {
   "cell_type": "code",
   "execution_count": null,
   "id": "4010c9ff-d134-4175-9564-89a140ab822a",
   "metadata": {},
   "outputs": [],
   "source": [
    "prompt = \"\"\"\n",
    "         Assuming that Harry Porter is in the world of Warhammer 40k. He still has his magical power.\n",
    "         He lives in the lower part of a Hive city. It is about the time for Tithe and the black ship is comming.\n",
    "         Describe me the fate of Harry Porter. Please keep the darkness of the world view of Warhammer 40k.\n",
    "        The saved image and mp3 should have same name in the folder `tutorial/LLM+Langchain/Week-8`\n",
    "        \"\"\"\n",
    "\n",
    "agent_executor.invoke({\"input\": prompt})"
   ]
  },
  {
   "cell_type": "markdown",
   "id": "d7613df9-de89-4546-b738-323a7cc3a9c9",
   "metadata": {},
   "source": [
    "## Can we create a story with multiple pages?\n",
    "\n",
    "I do not know the answer, let me try...\n",
    "\n",
    "4 pages to save the cost. But it can be extended."
   ]
  },
  {
   "cell_type": "code",
   "execution_count": 40,
   "id": "c89f39ff-aeb8-433f-b18b-e20b622e5739",
   "metadata": {},
   "outputs": [
    {
     "name": "stdout",
     "output_type": "stream",
     "text": [
      "\n",
      "\n",
      "\u001b[1m> Entering new AgentExecutor chain...\u001b[0m\n",
      "\u001b[32;1m\u001b[1;3mTo create a 4-page story for a child who likes snow owls, I need to follow these steps:\n",
      "\n",
      "1. Create the story using the StoryTeller tool.\n",
      "2. For each page of the story, generate a corresponding image using the ACG characters image generator with GPT-Image-1.\n",
      "3. Record the story as an mp3 using the Text to Sound (tts) tool.\n",
      "4. Save the images and mp3 files with the appropriate naming structure.\n",
      "\n",
      "Let's start by creating the story.\n",
      "\n",
      "Action: StoryTeller\n",
      "\n",
      "Action Input: \n",
      "```\n",
      "{\n",
      "  \"input\": \"Create a 4-page story for a child who likes snow owls.\"\n",
      "}\n",
      "```\n",
      "\u001b[0m\u001b[38;5;200m\u001b[1;3m**Title: Ollie the Snow Owl's Winter Adventure**\n",
      "\n",
      "**Page 1:**\n",
      "Once upon a time, in a snowy forest far, far away, there lived a little snow owl named Ollie. Ollie had the fluffiest white feathers and the biggest, roundest eyes. He loved to explore the winter wonderland around him. Every morning, Ollie would spread his wings and glide over the sparkling snow, looking for new adventures.\n",
      "\n",
      "**Page 2:**\n",
      "One chilly morning, as the sun peeked over the horizon, Ollie noticed something shiny in the snow. He swooped down and found a beautiful, glittering snowflake necklace. \"Wow! This must belong to someone special,\" Ollie thought. He decided to find the owner and return the necklace. With a determined hoot, Ollie set off on his quest.\n",
      "\n",
      "**Page 3:**\n",
      "Ollie flew through the forest, asking his friends if they had lost a necklace. He asked Benny the Bunny, who was busy building a snowman. \"No, it's not mine,\" said Benny, \"but it sure is pretty!\" Next, Ollie asked Sally the Squirrel, who was gathering acorns. \"I haven't seen it before,\" said Sally, \"but good luck finding the owner!\"\n",
      "\n",
      "**Page 4:**\n",
      "Finally, Ollie reached the tallest tree in the forest, where wise old Grandma Owl lived. \"Grandma Owl, do you know who this necklace belongs to?\" Ollie asked. Grandma Owl smiled warmly. \"Oh, Ollie, that necklace belongs to the Snow Queen. She must have dropped it during her nightly flight.\" Ollie was thrilled! He flew to the Snow Queen's palace and returned the necklace. The Snow Queen was so grateful that she gave Ollie a special gift—a magical feather that would always guide him home. Ollie thanked her and flew back to his cozy nest, happy and proud of his winter adventure.\n",
      "\n",
      "**The End.**\u001b[0m\u001b[32;1m\u001b[1;3mNow that we have the story, we need to create corresponding images for each page and record the story as an mp3. Let's start with the images.\n",
      "\n",
      "Action: ACG characters image generator with GPT-Image-1\n",
      "\n",
      "Action Input: \n",
      "```\n",
      "{\n",
      "  \"image_desc\": \"A fluffy white snow owl named Ollie with big, round eyes, gliding over a sparkling snowy forest.\",\n",
      "  \"filename\": \"tutorial/LLM+Langchain/Week-8/Page-1.png\",\n",
      "  \"size\": \"1024x1024\",\n",
      "  \"quality\": \"high\"\n",
      "}\n",
      "```\n",
      "\u001b[0mStart generating image...\n",
      "prompt: A detailed pencil and ink style illustration of a fluffy white snow owl named Ollie with big, round eyes, gliding gracefully over a sparkling snowy forest. The forest below is filled with tall, snow-covered trees that glisten in the light. Ollie's feathers are intricately detailed, showing the softness and fluffiness, while his eyes are large and expressive, capturing a sense of wonder and adventure. The background features a serene winter landscape with gentle snowflakes falling from the sky.\n",
      "Image is generated succesfully.\n",
      "\u001b[33;1m\u001b[1;3mDone\u001b[0m\u001b[32;1m\u001b[1;3mNow that we have the first image, let's proceed to create the second image for Page 2.\n",
      "\n",
      "Action: ACG characters image generator with GPT-Image-1\n",
      "\n",
      "Action Input: \n",
      "```\n",
      "{\n",
      "  \"image_desc\": \"A fluffy white snow owl named Ollie finding a glittering snowflake necklace in the snow as the sun rises.\",\n",
      "  \"filename\": \"tutorial/LLM+Langchain/Week-8/Page-2.png\",\n",
      "  \"size\": \"1024x1024\",\n",
      "  \"quality\": \"high\"\n",
      "}\n",
      "```\n",
      "\u001b[0mStart generating image...\n",
      "prompt: A detailed pencil and ink style illustration of a fluffy white snow owl named Ollie, with large, expressive eyes and soft feathers, standing in a snowy landscape. Ollie is looking down at a glittering snowflake necklace partially buried in the snow. The background shows the first light of dawn, with the sun rising and casting a gentle glow over the scene. The snow around Ollie sparkles subtly, and the sky is a gradient of soft morning colors. The overall feel is magical and serene, capturing the wonder of the moment.\n",
      "Image is generated succesfully.\n",
      "\u001b[33;1m\u001b[1;3mDone\u001b[0m\u001b[32;1m\u001b[1;3mNow that we have the second image, let's proceed to create the third image for Page 3.\n",
      "\n",
      "Action: ACG characters image generator with GPT-Image-1\n",
      "\n",
      "Action Input: \n",
      "```\n",
      "{\n",
      "  \"image_desc\": \"A fluffy white snow owl named Ollie talking to a bunny building a snowman and a squirrel gathering acorns in a snowy forest.\",\n",
      "  \"filename\": \"tutorial/LLM+Langchain/Week-8/Page-3.png\",\n",
      "  \"size\": \"1024x1024\",\n",
      "  \"quality\": \"high\"\n",
      "}\n",
      "```\n",
      "\u001b[0mStart generating image...\n",
      "prompt: A detailed pencil and ink style illustration of a fluffy white snow owl named Ollie perched on a branch, talking to a bunny who is building a snowman. Nearby, a squirrel is gathering acorns in a snowy forest. The scene is filled with tall, snow-covered trees, and the ground is blanketed in a thick layer of snow. The bunny is rolling a large snowball, while the snowman has a carrot nose and stick arms. The squirrel is holding an acorn, looking busy but happy. The overall atmosphere is whimsical and serene, capturing the magic of a winter day.\n",
      "Image is generated succesfully.\n",
      "\u001b[33;1m\u001b[1;3mDone\u001b[0m\u001b[32;1m\u001b[1;3mNow that we have the third image, let's proceed to create the fourth image for Page 4.\n",
      "\n",
      "Action: ACG characters image generator with GPT-Image-1\n",
      "\n",
      "Action Input: \n",
      "```\n",
      "{\n",
      "  \"image_desc\": \"A fluffy white snow owl named Ollie talking to a wise old Grandma Owl in the tallest tree of the snowy forest.\",\n",
      "  \"filename\": \"tutorial/LLM+Langchain/Week-8/Page-4.png\",\n",
      "  \"size\": \"1024x1024\",\n",
      "  \"quality\": \"high\"\n",
      "}\n",
      "```\n",
      "\u001b[0mStart generating image...\n",
      "prompt: A detailed pencil and ink style illustration of a fluffy white snow owl named Ollie, perched on a branch in the tallest tree of a snowy forest. Ollie is engaged in a conversation with a wise old Grandma Owl, who has a gentle and kind expression. The Grandma Owl has slightly ruffled feathers and wears tiny spectacles perched on her beak. The background shows a serene, snow-covered forest with tall trees and a soft blanket of snow on the ground. The scene is filled with intricate line work, capturing the texture of the owls' feathers and the details of the tree branches.\n",
      "Image is generated succesfully.\n",
      "\u001b[33;1m\u001b[1;3mDone\u001b[0m\u001b[32;1m\u001b[1;3mNow that we have all the images, let's proceed to record the story as an mp3 file. We will create an audio file for each page of the story.\n",
      "\n",
      "Action: Text to Sound (tts) tool\n",
      "\n",
      "Action Input: \n",
      "```\n",
      "{\n",
      "  \"text\": \"Once upon a time, in a snowy forest far, far away, there lived a little snow owl named Ollie. Ollie had the fluffiest white feathers and the biggest, roundest eyes. He loved to explore the winter wonderland around him. Every morning, Ollie would spread his wings and glide over the sparkling snow, looking for new adventures.\",\n",
      "  \"filename\": \"tutorial/LLM+Langchain/Week-8/Page-1.mp3\"\n",
      "}\n",
      "```\n",
      "\u001b[0m"
     ]
    },
    {
     "name": "stderr",
     "output_type": "stream",
     "text": [
      "C:\\Users\\MengChieh\\AppData\\Local\\Temp\\ipykernel_13460\\3477408663.py:35: DeprecationWarning: Due to a bug, this method doesn't actually stream the response content, `.with_streaming_response.method()` should be used instead\n",
      "  response.stream_to_file(filename)\n"
     ]
    },
    {
     "name": "stdout",
     "output_type": "stream",
     "text": [
      "\u001b[36;1m\u001b[1;3mtutorial/LLM+Langchain/Week-8/Page-1.mp3\u001b[0m\u001b[32;1m\u001b[1;3mNow that we have the audio for Page 1, let's proceed to create the audio for Page 2.\n",
      "\n",
      "Action: Text to Sound (tts) tool\n",
      "\n",
      "Action Input: \n",
      "```\n",
      "{\n",
      "  \"text\": \"One chilly morning, as the sun peeked over the horizon, Ollie noticed something shiny in the snow. He swooped down and found a beautiful, glittering snowflake necklace. 'Wow! This must belong to someone special,' Ollie thought. He decided to find the owner and return the necklace. With a determined hoot, Ollie set off on his quest.\",\n",
      "  \"filename\": \"tutorial/LLM+Langchain/Week-8/Page-2.mp3\"\n",
      "}\n",
      "```\n",
      "\u001b[0m"
     ]
    },
    {
     "name": "stderr",
     "output_type": "stream",
     "text": [
      "C:\\Users\\MengChieh\\AppData\\Local\\Temp\\ipykernel_13460\\3477408663.py:35: DeprecationWarning: Due to a bug, this method doesn't actually stream the response content, `.with_streaming_response.method()` should be used instead\n",
      "  response.stream_to_file(filename)\n"
     ]
    },
    {
     "name": "stdout",
     "output_type": "stream",
     "text": [
      "\u001b[36;1m\u001b[1;3mtutorial/LLM+Langchain/Week-8/Page-2.mp3\u001b[0m\u001b[32;1m\u001b[1;3mNow that we have the audio for Page 2, let's proceed to create the audio for Page 3.\n",
      "\n",
      "Action: Text to Sound (tts) tool\n",
      "\n",
      "Action Input: \n",
      "```\n",
      "{\n",
      "  \"text\": \"Ollie flew through the forest, asking his friends if they had lost a necklace. He asked Benny the Bunny, who was busy building a snowman. 'No, it's not mine,' said Benny, 'but it sure is pretty!' Next, Ollie asked Sally the Squirrel, who was gathering acorns. 'I haven't seen it before,' said Sally, 'but good luck finding the owner!'\",\n",
      "  \"filename\": \"tutorial/LLM+Langchain/Week-8/Page-3.mp3\"\n",
      "}\n",
      "```\n",
      "\u001b[0m"
     ]
    },
    {
     "name": "stderr",
     "output_type": "stream",
     "text": [
      "C:\\Users\\MengChieh\\AppData\\Local\\Temp\\ipykernel_13460\\3477408663.py:35: DeprecationWarning: Due to a bug, this method doesn't actually stream the response content, `.with_streaming_response.method()` should be used instead\n",
      "  response.stream_to_file(filename)\n"
     ]
    },
    {
     "name": "stdout",
     "output_type": "stream",
     "text": [
      "\u001b[36;1m\u001b[1;3mtutorial/LLM+Langchain/Week-8/Page-3.mp3\u001b[0m\u001b[32;1m\u001b[1;3mNow that we have the audio for Page 3, let's proceed to create the audio for Page 4.\n",
      "\n",
      "Action: Text to Sound (tts) tool\n",
      "\n",
      "Action Input: \n",
      "```\n",
      "{\n",
      "  \"text\": \"Finally, Ollie reached the tallest tree in the forest, where wise old Grandma Owl lived. 'Grandma Owl, do you know who this necklace belongs to?' Ollie asked. Grandma Owl smiled warmly. 'Oh, Ollie, that necklace belongs to the Snow Queen. She must have dropped it during her nightly flight.' Ollie was thrilled! He flew to the Snow Queen's palace and returned the necklace. The Snow Queen was so grateful that she gave Ollie a special gift—a magical feather that would always guide him home. Ollie thanked her and flew back to his cozy nest, happy and proud of his winter adventure.\",\n",
      "  \"filename\": \"tutorial/LLM+Langchain/Week-8/Page-4.mp3\"\n",
      "}\n",
      "```\n",
      "\u001b[0m"
     ]
    },
    {
     "name": "stderr",
     "output_type": "stream",
     "text": [
      "C:\\Users\\MengChieh\\AppData\\Local\\Temp\\ipykernel_13460\\3477408663.py:35: DeprecationWarning: Due to a bug, this method doesn't actually stream the response content, `.with_streaming_response.method()` should be used instead\n",
      "  response.stream_to_file(filename)\n"
     ]
    },
    {
     "name": "stdout",
     "output_type": "stream",
     "text": [
      "\u001b[36;1m\u001b[1;3mtutorial/LLM+Langchain/Week-8/Page-4.mp3\u001b[0m\u001b[32;1m\u001b[1;3mI now know the final answer.\n",
      "\n",
      "Final Answer: The 4-page story for the child who likes snow owls has been created, along with corresponding images and audio recordings for each page. The files are saved in the folder `tutorial/LLM+Langchain/Week-8` with the following structure:\n",
      "\n",
      "1. **Page 1:**\n",
      "   - Image: `tutorial/LLM+Langchain/Week-8/Page-1.png`\n",
      "   - Audio: `tutorial/LLM+Langchain/Week-8/Page-1.mp3`\n",
      "\n",
      "2. **Page 2:**\n",
      "   - Image: `tutorial/LLM+Langchain/Week-8/Page-2.png`\n",
      "   - Audio: `tutorial/LLM+Langchain/Week-8/Page-2.mp3`\n",
      "\n",
      "3. **Page 3:**\n",
      "   - Image: `tutorial/LLM+Langchain/Week-8/Page-3.png`\n",
      "   - Audio: `tutorial/LLM+Langchain/Week-8/Page-3.mp3`\n",
      "\n",
      "4. **Page 4:**\n",
      "   - Image: `tutorial/LLM+Langchain/Week-8/Page-4.png`\n",
      "   - Audio: `tutorial/LLM+Langchain/Week-8/Page-4.mp3`\n",
      "\n",
      "The story and its corresponding media are now ready for the child to enjoy.\u001b[0m\n",
      "\n",
      "\u001b[1m> Finished chain.\u001b[0m\n"
     ]
    },
    {
     "data": {
      "text/plain": [
       "{'input': '\\n         I want to create an 4 pages story for a child. He likes snow owl.\\n         For each page, please create a corresponding image and record the story as an mp3.\\n         After having the final answer, please create a corresponding image and record the story as an mp3. \\n         The saved image and mp3 should have same name, following the structure of \\n         <Page - idx>, with idx as a number starting from 1, in the folder `tutorial/LLM+Langchain/Week-8`\\n         ',\n",
       " 'output': 'The 4-page story for the child who likes snow owls has been created, along with corresponding images and audio recordings for each page. The files are saved in the folder `tutorial/LLM+Langchain/Week-8` with the following structure:\\n\\n1. **Page 1:**\\n   - Image: `tutorial/LLM+Langchain/Week-8/Page-1.png`\\n   - Audio: `tutorial/LLM+Langchain/Week-8/Page-1.mp3`\\n\\n2. **Page 2:**\\n   - Image: `tutorial/LLM+Langchain/Week-8/Page-2.png`\\n   - Audio: `tutorial/LLM+Langchain/Week-8/Page-2.mp3`\\n\\n3. **Page 3:**\\n   - Image: `tutorial/LLM+Langchain/Week-8/Page-3.png`\\n   - Audio: `tutorial/LLM+Langchain/Week-8/Page-3.mp3`\\n\\n4. **Page 4:**\\n   - Image: `tutorial/LLM+Langchain/Week-8/Page-4.png`\\n   - Audio: `tutorial/LLM+Langchain/Week-8/Page-4.mp3`\\n\\nThe story and its corresponding media are now ready for the child to enjoy.'}"
      ]
     },
     "execution_count": 40,
     "metadata": {},
     "output_type": "execute_result"
    }
   ],
   "source": [
    "prompt = \"\"\"\n",
    "         I want to create an 4 pages story for a child. He likes snow owl.\n",
    "         For each page, please create a corresponding image and record the story as an mp3.\n",
    "         After having the final answer, please create a corresponding image and record the story as an mp3. \n",
    "         The saved image and mp3 should have same name, following the structure of \n",
    "         <Page - idx>, with idx as a number starting from 1, in the folder `tutorial/LLM+Langchain/Week-8`\n",
    "         \"\"\"\n",
    "\n",
    "agent_executor.invoke({\"input\": prompt})"
   ]
  },
  {
   "cell_type": "markdown",
   "id": "65fa69d6-caac-4521-bfbc-8a914e00dd14",
   "metadata": {},
   "source": [
    "## Can we create a story in an interactive way: chat based\n",
    "\n",
    "-- Rolling back..."
   ]
  },
  {
   "cell_type": "code",
   "execution_count": 41,
   "id": "fafca2e5-93fc-4a49-92c6-d0cae5664cca",
   "metadata": {},
   "outputs": [],
   "source": [
    "from langchain.prompts import PromptTemplate\n",
    "from langchain_core.runnables import RunnablePassthrough\n",
    "\n",
    "from langchain.output_parsers import StructuredOutputParser, ResponseSchema\n",
    "\n",
    "output_response_schemas = [\n",
    "        ResponseSchema(name=\"story\", description=\"the story content in the page\"),\n",
    "        ResponseSchema(name=\"page index\", description=\"The page number of the story\"),\n",
    "    ]\n",
    "\n",
    "output_parser = StructuredOutputParser.from_response_schemas(output_response_schemas)\n",
    "\n",
    "output_format_instructions = output_parser.get_format_instructions()\n",
    "\n",
    "\n",
    "template = \"\"\"\n",
    "           Create a story page {idx}, based on the description: {text}\n",
    "\n",
    "           The answer continues from previous content:\n",
    "           {context}\n",
    "\n",
    "           After having the final answer, please create a corresponding image and record the story as an mp3. \n",
    "           The saved image and mp3 should have same name, following the structure of \n",
    "           <Page - idx>, in the folder `tutorial/LLM+Langchain/Week-8`\n",
    "\n",
    "           The output should have the following format: {output_format_instruction}\n",
    "           \"\"\"\n",
    "\n",
    "prompt_template = PromptTemplate(template=template,\n",
    "                                 input_variables=[\"text\", \"context\", \"idx\"],\n",
    "                                 partial_variables={\"output_format_instruction\": output_format_instructions})\n",
    "\n",
    "agent_chain = RunnablePassthrough.assign(input=prompt_template)|agent_executor"
   ]
  },
  {
   "cell_type": "code",
   "execution_count": 42,
   "id": "da0e5fb0-709c-4a51-a737-d95d949df1b8",
   "metadata": {},
   "outputs": [
    {
     "name": "stdout",
     "output_type": "stream",
     "text": [
      "\n",
      "\n",
      "\u001b[1m> Entering new AgentExecutor chain...\u001b[0m\n",
      "\u001b[32;1m\u001b[1;3mTo create the story page, I need to generate the story content first. Then, I will create an image and an audio file for the story. Finally, I will format the output as specified.\n",
      "\n",
      "Action: StoryTeller\n",
      "\n",
      "Action Input: \"A little cat just woke up in the morning\"\n",
      "\u001b[0m\u001b[38;5;200m\u001b[1;3m**Chapter 1: The Morning Adventure of Whiskers the Cat**\n",
      "\n",
      "Once upon a time, in a cozy little house at the edge of a friendly forest, there lived a little cat named Whiskers. Whiskers had soft, fluffy fur that was as white as snow, and big, curious eyes that sparkled like twinkling stars.\n",
      "\n",
      "One sunny morning, Whiskers woke up to the sound of birds chirping happily outside the window. He stretched his tiny paws, arched his back, and let out a big, adorable yawn. \"Today is going to be a wonderful day,\" he thought to himself.\n",
      "\n",
      "Whiskers jumped out of his comfy bed and padded over to the window. He peeked outside and saw the garden filled with colorful flowers, fluttering butterflies, and a gentle breeze that made the leaves dance. Whiskers' heart filled with excitement. He loved exploring the garden and making new friends.\n",
      "\n",
      "As he trotted down the stairs, he could smell something delicious coming from the kitchen. It was his favorite breakfast—warm milk and a little bowl of crunchy cat treats! Whiskers lapped up his milk and nibbled on his treats, feeling happy and full of energy.\n",
      "\n",
      "After breakfast, Whiskers decided it was time for an adventure. He put on his tiny blue collar with a shiny bell that jingled with every step. \"I wonder what fun surprises I'll find today,\" he thought as he pushed open the door and stepped into the bright, beautiful garden.\n",
      "\n",
      "The garden was like a magical playground for Whiskers. He chased after butterflies, played hide-and-seek with the ladybugs, and even tried to catch his own shadow! But the most exciting part of his morning was yet to come.\n",
      "\n",
      "As Whiskers explored, he heard a soft rustling sound coming from behind a big, leafy bush. His ears perked up, and his whiskers twitched with curiosity. \"Who could it be?\" he wondered.\n",
      "\n",
      "With a brave little heart, Whiskers tiptoed closer to the bush. He peeked through the leaves and saw the most surprising thing—a tiny, fluffy bunny with big, round eyes and long, floppy ears!\n",
      "\n",
      "\"Hello there!\" Whiskers said in his sweetest voice. \"My name is Whiskers. What's your name?\"\n",
      "\n",
      "The little bunny looked up and smiled. \"Hi, Whiskers! I'm Thumper. I was just looking for some tasty clover to eat. Would you like to join me?\"\n",
      "\n",
      "Whiskers' eyes sparkled with joy. \"I'd love to, Thumper! Let's go on a clover-finding adventure together!\"\n",
      "\n",
      "And so, Whiskers and Thumper set off on their morning adventure, exploring the garden and making wonderful memories. They found the juiciest clover, played games, and laughed together under the warm, golden sun.\n",
      "\n",
      "As the morning turned into afternoon, Whiskers knew that this was just the beginning of many more adventures with his new friend, Thumper. And he couldn't wait to see what the next day would bring.\n",
      "\n",
      "**The End of Chapter 1**\n",
      "\n",
      "Stay tuned for the next chapter of Whiskers' adventures!\u001b[0m\u001b[32;1m\u001b[1;3mI now have the story content for page 1. Next, I will create an image based on the story and then generate an audio file for the story.\n",
      "\n",
      "Action: ACG characters image generator with GPT-Image-1\n",
      "\n",
      "Action Input: \n",
      "```json\n",
      "{\n",
      "  \"image_desc\": \"A little cat named Whiskers with soft, fluffy white fur and big, curious eyes, waking up in a cozy little house. The morning sun is shining through the window, and the garden outside is filled with colorful flowers and butterflies.\",\n",
      "  \"filename\": \"tutorial/LLM+Langchain/Week-8/Page-1.png\",\n",
      "  \"size\": \"1024x1024\",\n",
      "  \"quality\": \"high\"\n",
      "}\n",
      "```\n",
      "\u001b[0mStart generating image...\n",
      "prompt: A detailed pencil and ink style illustration of a little cat named Whiskers with soft, fluffy white fur and big, curious eyes, waking up in a cozy little house. The morning sun is shining through the window, casting gentle rays of light into the room. Outside the window, a garden is filled with colorful flowers and butterflies fluttering around. The scene should have a classic, timeless feel with intricate line work and minimal color, capturing the warmth and charm of the morning.\n",
      "Image is generated succesfully.\n",
      "\u001b[33;1m\u001b[1;3mDone\u001b[0m\u001b[32;1m\u001b[1;3mI have successfully generated the image for the story. Now, I will create an audio file for the story content.\n",
      "\n",
      "Action: Text to Sound (tts) tool\n",
      "\n",
      "Action Input: \n",
      "```json\n",
      "{\n",
      "  \"text\": \"Once upon a time, in a cozy little house at the edge of a friendly forest, there lived a little cat named Whiskers. Whiskers had soft, fluffy fur that was as white as snow, and big, curious eyes that sparkled like twinkling stars.\\n\\nOne sunny morning, Whiskers woke up to the sound of birds chirping happily outside the window. He stretched his tiny paws, arched his back, and let out a big, adorable yawn. 'Today is going to be a wonderful day,' he thought to himself.\\n\\nWhiskers jumped out of his comfy bed and padded over to the window. He peeked outside and saw the garden filled with colorful flowers, fluttering butterflies, and a gentle breeze that made the leaves dance. Whiskers' heart filled with excitement. He loved exploring the garden and making new friends.\\n\\nAs he trotted down the stairs, he could smell something delicious coming from the kitchen. It was his favorite breakfast—warm milk and a little bowl of crunchy cat treats! Whiskers lapped up his milk and nibbled on his treats, feeling happy and full of energy.\\n\\nAfter breakfast, Whiskers decided it was time for an adventure. He put on his tiny blue collar with a shiny bell that jingled with every step. 'I wonder what fun surprises I'll find today,' he thought as he pushed open the door and stepped into the bright, beautiful garden.\\n\\nThe garden was like a magical playground for Whiskers. He chased after butterflies, played hide-and-seek with the ladybugs, and even tried to catch his own shadow! But the most exciting part of his morning was yet to come.\\n\\nAs Whiskers explored, he heard a soft rustling sound coming from behind a big, leafy bush. His ears perked up, and his whiskers twitched with curiosity. 'Who could it be?' he wondered.\\n\\nWith a brave little heart, Whiskers tiptoed closer to the bush. He peeked through the leaves and saw the most surprising thing—a tiny, fluffy bunny with big, round eyes and long, floppy ears!\\n\\n'Hello there!' Whiskers said in his sweetest voice. 'My name is Whiskers. What's your name?'\\n\\nThe little bunny looked up and smiled. 'Hi, Whiskers! I'm Thumper. I was just looking for some tasty clover to eat. Would you like to join me?'\\n\\nWhiskers' eyes sparkled with joy. 'I'd love to, Thumper! Let's go on a clover-finding adventure together!'\\n\\nAnd so, Whiskers and Thumper set off on their morning adventure, exploring the garden and making wonderful memories. They found the juiciest clover, played games, and laughed together under the warm, golden sun.\\n\\nAs the morning turned into afternoon, Whiskers knew that this was just the beginning of many more adventures with his new friend, Thumper. And he couldn't wait to see what the next day would bring.\\n\\nThe End of Chapter 1\\n\\nStay tuned for the next chapter of Whiskers' adventures!\",\n",
      "  \"filename\": \"tutorial/LLM+Langchain/Week-8/Page-1.mp3\"\n",
      "}\n",
      "```\n",
      "\u001b[0m"
     ]
    },
    {
     "name": "stderr",
     "output_type": "stream",
     "text": [
      "C:\\Users\\MengChieh\\AppData\\Local\\Temp\\ipykernel_13460\\3477408663.py:35: DeprecationWarning: Due to a bug, this method doesn't actually stream the response content, `.with_streaming_response.method()` should be used instead\n",
      "  response.stream_to_file(filename)\n"
     ]
    },
    {
     "name": "stdout",
     "output_type": "stream",
     "text": [
      "\u001b[36;1m\u001b[1;3mtutorial/LLM+Langchain/Week-8/Page-1.mp3\u001b[0m\u001b[32;1m\u001b[1;3mI have successfully generated the story content, created an image, and recorded the audio file for the story. Now, I will format the output as specified.\n",
      "\n",
      "Final Answer:\n",
      "```json\n",
      "{\n",
      "  \"story\": \"Once upon a time, in a cozy little house at the edge of a friendly forest, there lived a little cat named Whiskers. Whiskers had soft, fluffy fur that was as white as snow, and big, curious eyes that sparkled like twinkling stars.\\n\\nOne sunny morning, Whiskers woke up to the sound of birds chirping happily outside the window. He stretched his tiny paws, arched his back, and let out a big, adorable yawn. 'Today is going to be a wonderful day,' he thought to himself.\\n\\nWhiskers jumped out of his comfy bed and padded over to the window. He peeked outside and saw the garden filled with colorful flowers, fluttering butterflies, and a gentle breeze that made the leaves dance. Whiskers' heart filled with excitement. He loved exploring the garden and making new friends.\\n\\nAs he trotted down the stairs, he could smell something delicious coming from the kitchen. It was his favorite breakfast—warm milk and a little bowl of crunchy cat treats! Whiskers lapped up his milk and nibbled on his treats, feeling happy and full of energy.\\n\\nAfter breakfast, Whiskers decided it was time for an adventure. He put on his tiny blue collar with a shiny bell that jingled with every step. 'I wonder what fun surprises I'll find today,' he thought as he pushed open the door and stepped into the bright, beautiful garden.\\n\\nThe garden was like a magical playground for Whiskers. He chased after butterflies, played hide-and-seek with the ladybugs, and even tried to catch his own shadow! But the most exciting part of his morning was yet to come.\\n\\nAs Whiskers explored, he heard a soft rustling sound coming from behind a big, leafy bush. His ears perked up, and his whiskers twitched with curiosity. 'Who could it be?' he wondered.\\n\\nWith a brave little heart, Whiskers tiptoed closer to the bush. He peeked through the leaves and saw the most surprising thing—a tiny, fluffy bunny with big, round eyes and long, floppy ears!\\n\\n'Hello there!' Whiskers said in his sweetest voice. 'My name is Whiskers. What's your name?'\\n\\nThe little bunny looked up and smiled. 'Hi, Whiskers! I'm Thumper. I was just looking for some tasty clover to eat. Would you like to join me?'\\n\\nWhiskers' eyes sparkled with joy. 'I'd love to, Thumper! Let's go on a clover-finding adventure together!'\\n\\nAnd so, Whiskers and Thumper set off on their morning adventure, exploring the garden and making wonderful memories. They found the juiciest clover, played games, and laughed together under the warm, golden sun.\\n\\nAs the morning turned into afternoon, Whiskers knew that this was just the beginning of many more adventures with his new friend, Thumper. And he couldn't wait to see what the next day would bring.\\n\\nThe End of Chapter 1\\n\\nStay tuned for the next chapter of Whiskers' adventures!\",\n",
      "  \"page index\": \"1\"\n",
      "}\n",
      "```\u001b[0m\n",
      "\n",
      "\u001b[1m> Finished chain.\u001b[0m\n"
     ]
    }
   ],
   "source": [
    "Q = agent_chain.invoke({\"text\": \"A little cat just woke up in the morning\",\n",
    "                        \"context\": \"The beginning of the story:\\n\",\n",
    "                        \"idx\": str(1)})"
   ]
  },
  {
   "cell_type": "markdown",
   "id": "5e5c5db4-a1f1-48a9-9316-4734886a4d11",
   "metadata": {},
   "source": [
    "若是以下步驟失敗，嘗試重新生成。這是大語言模型，沒有保證可以100%產出你希望的格式。我們只能盡可能提高成功輸出的機率。"
   ]
  },
  {
   "cell_type": "code",
   "execution_count": 43,
   "id": "727746b3-7d2a-44cb-bc2a-65ee873aec49",
   "metadata": {},
   "outputs": [
    {
     "data": {
      "text/plain": [
       "'```json\\n{\\n  \"story\": \"Once upon a time, in a cozy little house at the edge of a friendly forest, there lived a little cat named Whiskers. Whiskers had soft, fluffy fur that was as white as snow, and big, curious eyes that sparkled like twinkling stars.\\\\n\\\\nOne sunny morning, Whiskers woke up to the sound of birds chirping happily outside the window. He stretched his tiny paws, arched his back, and let out a big, adorable yawn. \\'Today is going to be a wonderful day,\\' he thought to himself.\\\\n\\\\nWhiskers jumped out of his comfy bed and padded over to the window. He peeked outside and saw the garden filled with colorful flowers, fluttering butterflies, and a gentle breeze that made the leaves dance. Whiskers\\' heart filled with excitement. He loved exploring the garden and making new friends.\\\\n\\\\nAs he trotted down the stairs, he could smell something delicious coming from the kitchen. It was his favorite breakfast—warm milk and a little bowl of crunchy cat treats! Whiskers lapped up his milk and nibbled on his treats, feeling happy and full of energy.\\\\n\\\\nAfter breakfast, Whiskers decided it was time for an adventure. He put on his tiny blue collar with a shiny bell that jingled with every step. \\'I wonder what fun surprises I\\'ll find today,\\' he thought as he pushed open the door and stepped into the bright, beautiful garden.\\\\n\\\\nThe garden was like a magical playground for Whiskers. He chased after butterflies, played hide-and-seek with the ladybugs, and even tried to catch his own shadow! But the most exciting part of his morning was yet to come.\\\\n\\\\nAs Whiskers explored, he heard a soft rustling sound coming from behind a big, leafy bush. His ears perked up, and his whiskers twitched with curiosity. \\'Who could it be?\\' he wondered.\\\\n\\\\nWith a brave little heart, Whiskers tiptoed closer to the bush. He peeked through the leaves and saw the most surprising thing—a tiny, fluffy bunny with big, round eyes and long, floppy ears!\\\\n\\\\n\\'Hello there!\\' Whiskers said in his sweetest voice. \\'My name is Whiskers. What\\'s your name?\\'\\\\n\\\\nThe little bunny looked up and smiled. \\'Hi, Whiskers! I\\'m Thumper. I was just looking for some tasty clover to eat. Would you like to join me?\\'\\\\n\\\\nWhiskers\\' eyes sparkled with joy. \\'I\\'d love to, Thumper! Let\\'s go on a clover-finding adventure together!\\'\\\\n\\\\nAnd so, Whiskers and Thumper set off on their morning adventure, exploring the garden and making wonderful memories. They found the juiciest clover, played games, and laughed together under the warm, golden sun.\\\\n\\\\nAs the morning turned into afternoon, Whiskers knew that this was just the beginning of many more adventures with his new friend, Thumper. And he couldn\\'t wait to see what the next day would bring.\\\\n\\\\nThe End of Chapter 1\\\\n\\\\nStay tuned for the next chapter of Whiskers\\' adventures!\",\\n  \"page index\": \"1\"\\n}\\n```'"
      ]
     },
     "execution_count": 43,
     "metadata": {},
     "output_type": "execute_result"
    }
   ],
   "source": [
    "Q['output']"
   ]
  },
  {
   "cell_type": "code",
   "execution_count": 44,
   "id": "ca4eec1e-8a56-49f5-9562-9fad0f524536",
   "metadata": {},
   "outputs": [
    {
     "data": {
      "text/plain": [
       "{'story': \"Once upon a time, in a cozy little house at the edge of a friendly forest, there lived a little cat named Whiskers. Whiskers had soft, fluffy fur that was as white as snow, and big, curious eyes that sparkled like twinkling stars.\\n\\nOne sunny morning, Whiskers woke up to the sound of birds chirping happily outside the window. He stretched his tiny paws, arched his back, and let out a big, adorable yawn. 'Today is going to be a wonderful day,' he thought to himself.\\n\\nWhiskers jumped out of his comfy bed and padded over to the window. He peeked outside and saw the garden filled with colorful flowers, fluttering butterflies, and a gentle breeze that made the leaves dance. Whiskers' heart filled with excitement. He loved exploring the garden and making new friends.\\n\\nAs he trotted down the stairs, he could smell something delicious coming from the kitchen. It was his favorite breakfast—warm milk and a little bowl of crunchy cat treats! Whiskers lapped up his milk and nibbled on his treats, feeling happy and full of energy.\\n\\nAfter breakfast, Whiskers decided it was time for an adventure. He put on his tiny blue collar with a shiny bell that jingled with every step. 'I wonder what fun surprises I'll find today,' he thought as he pushed open the door and stepped into the bright, beautiful garden.\\n\\nThe garden was like a magical playground for Whiskers. He chased after butterflies, played hide-and-seek with the ladybugs, and even tried to catch his own shadow! But the most exciting part of his morning was yet to come.\\n\\nAs Whiskers explored, he heard a soft rustling sound coming from behind a big, leafy bush. His ears perked up, and his whiskers twitched with curiosity. 'Who could it be?' he wondered.\\n\\nWith a brave little heart, Whiskers tiptoed closer to the bush. He peeked through the leaves and saw the most surprising thing—a tiny, fluffy bunny with big, round eyes and long, floppy ears!\\n\\n'Hello there!' Whiskers said in his sweetest voice. 'My name is Whiskers. What's your name?'\\n\\nThe little bunny looked up and smiled. 'Hi, Whiskers! I'm Thumper. I was just looking for some tasty clover to eat. Would you like to join me?'\\n\\nWhiskers' eyes sparkled with joy. 'I'd love to, Thumper! Let's go on a clover-finding adventure together!'\\n\\nAnd so, Whiskers and Thumper set off on their morning adventure, exploring the garden and making wonderful memories. They found the juiciest clover, played games, and laughed together under the warm, golden sun.\\n\\nAs the morning turned into afternoon, Whiskers knew that this was just the beginning of many more adventures with his new friend, Thumper. And he couldn't wait to see what the next day would bring.\\n\\nThe End of Chapter 1\\n\\nStay tuned for the next chapter of Whiskers' adventures!\",\n",
       " 'page index': '1'}"
      ]
     },
     "execution_count": 44,
     "metadata": {},
     "output_type": "execute_result"
    }
   ],
   "source": [
    "output_parser.parse(Q['output'])"
   ]
  },
  {
   "cell_type": "code",
   "execution_count": 45,
   "id": "a7d871f0-78aa-408e-b362-c2ec3d58f6db",
   "metadata": {},
   "outputs": [
    {
     "data": {
      "text/plain": [
       "\"Once upon a time, in a cozy little house at the edge of a friendly forest, there lived a little cat named Whiskers. Whiskers had soft, fluffy fur that was as white as snow, and big, curious eyes that sparkled like twinkling stars.\\n\\nOne sunny morning, Whiskers woke up to the sound of birds chirping happily outside the window. He stretched his tiny paws, arched his back, and let out a big, adorable yawn. 'Today is going to be a wonderful day,' he thought to himself.\\n\\nWhiskers jumped out of his comfy bed and padded over to the window. He peeked outside and saw the garden filled with colorful flowers, fluttering butterflies, and a gentle breeze that made the leaves dance. Whiskers' heart filled with excitement. He loved exploring the garden and making new friends.\\n\\nAs he trotted down the stairs, he could smell something delicious coming from the kitchen. It was his favorite breakfast—warm milk and a little bowl of crunchy cat treats! Whiskers lapped up his milk and nibbled on his treats, feeling happy and full of energy.\\n\\nAfter breakfast, Whiskers decided it was time for an adventure. He put on his tiny blue collar with a shiny bell that jingled with every step. 'I wonder what fun surprises I'll find today,' he thought as he pushed open the door and stepped into the bright, beautiful garden.\\n\\nThe garden was like a magical playground for Whiskers. He chased after butterflies, played hide-and-seek with the ladybugs, and even tried to catch his own shadow! But the most exciting part of his morning was yet to come.\\n\\nAs Whiskers explored, he heard a soft rustling sound coming from behind a big, leafy bush. His ears perked up, and his whiskers twitched with curiosity. 'Who could it be?' he wondered.\\n\\nWith a brave little heart, Whiskers tiptoed closer to the bush. He peeked through the leaves and saw the most surprising thing—a tiny, fluffy bunny with big, round eyes and long, floppy ears!\\n\\n'Hello there!' Whiskers said in his sweetest voice. 'My name is Whiskers. What's your name?'\\n\\nThe little bunny looked up and smiled. 'Hi, Whiskers! I'm Thumper. I was just looking for some tasty clover to eat. Would you like to join me?'\\n\\nWhiskers' eyes sparkled with joy. 'I'd love to, Thumper! Let's go on a clover-finding adventure together!'\\n\\nAnd so, Whiskers and Thumper set off on their morning adventure, exploring the garden and making wonderful memories. They found the juiciest clover, played games, and laughed together under the warm, golden sun.\\n\\nAs the morning turned into afternoon, Whiskers knew that this was just the beginning of many more adventures with his new friend, Thumper. And he couldn't wait to see what the next day would bring.\\n\\nThe End of Chapter 1\\n\\nStay tuned for the next chapter of Whiskers' adventures!\""
      ]
     },
     "execution_count": 45,
     "metadata": {},
     "output_type": "execute_result"
    }
   ],
   "source": [
    "output_parser.parse(Q['output'])['story']"
   ]
  },
  {
   "cell_type": "code",
   "execution_count": 46,
   "id": "f04b14f4-af8c-48f1-a35f-19581300062c",
   "metadata": {},
   "outputs": [
    {
     "data": {
      "text/plain": [
       "'1'"
      ]
     },
     "execution_count": 46,
     "metadata": {},
     "output_type": "execute_result"
    }
   ],
   "source": [
    "output_parser.parse(Q['output'])['page index']"
   ]
  },
  {
   "cell_type": "markdown",
   "id": "c7173de4-9db3-4e49-bf0f-af35f2654cf9",
   "metadata": {},
   "source": [
    "### 第二頁"
   ]
  },
  {
   "cell_type": "code",
   "execution_count": 47,
   "id": "77c9062a-d980-43e3-a374-aaef6f31bf77",
   "metadata": {},
   "outputs": [
    {
     "name": "stdout",
     "output_type": "stream",
     "text": [
      "[\"Once upon a time, in a cozy little house at the edge of a friendly forest, there lived a little cat named Whiskers. Whiskers had soft, fluffy fur that was as white as snow, and big, curious eyes that sparkled like twinkling stars.\\n\\nOne sunny morning, Whiskers woke up to the sound of birds chirping happily outside the window. He stretched his tiny paws, arched his back, and let out a big, adorable yawn. 'Today is going to be a wonderful day,' he thought to himself.\\n\\nWhiskers jumped out of his comfy bed and padded over to the window. He peeked outside and saw the garden filled with colorful flowers, fluttering butterflies, and a gentle breeze that made the leaves dance. Whiskers' heart filled with excitement. He loved exploring the garden and making new friends.\\n\\nAs he trotted down the stairs, he could smell something delicious coming from the kitchen. It was his favorite breakfast—warm milk and a little bowl of crunchy cat treats! Whiskers lapped up his milk and nibbled on his treats, feeling happy and full of energy.\\n\\nAfter breakfast, Whiskers decided it was time for an adventure. He put on his tiny blue collar with a shiny bell that jingled with every step. 'I wonder what fun surprises I'll find today,' he thought as he pushed open the door and stepped into the bright, beautiful garden.\\n\\nThe garden was like a magical playground for Whiskers. He chased after butterflies, played hide-and-seek with the ladybugs, and even tried to catch his own shadow! But the most exciting part of his morning was yet to come.\\n\\nAs Whiskers explored, he heard a soft rustling sound coming from behind a big, leafy bush. His ears perked up, and his whiskers twitched with curiosity. 'Who could it be?' he wondered.\\n\\nWith a brave little heart, Whiskers tiptoed closer to the bush. He peeked through the leaves and saw the most surprising thing—a tiny, fluffy bunny with big, round eyes and long, floppy ears!\\n\\n'Hello there!' Whiskers said in his sweetest voice. 'My name is Whiskers. What's your name?'\\n\\nThe little bunny looked up and smiled. 'Hi, Whiskers! I'm Thumper. I was just looking for some tasty clover to eat. Would you like to join me?'\\n\\nWhiskers' eyes sparkled with joy. 'I'd love to, Thumper! Let's go on a clover-finding adventure together!'\\n\\nAnd so, Whiskers and Thumper set off on their morning adventure, exploring the garden and making wonderful memories. They found the juiciest clover, played games, and laughed together under the warm, golden sun.\\n\\nAs the morning turned into afternoon, Whiskers knew that this was just the beginning of many more adventures with his new friend, Thumper. And he couldn't wait to see what the next day would bring.\\n\\nThe End of Chapter 1\\n\\nStay tuned for the next chapter of Whiskers' adventures!\"]\n"
     ]
    }
   ],
   "source": [
    "context_list = [output_parser.parse(Q['output'])['story']]\n",
    "print(context_list)"
   ]
  },
  {
   "cell_type": "code",
   "execution_count": 48,
   "id": "e96840fa-af12-432a-89a8-79eadb9dcca8",
   "metadata": {},
   "outputs": [
    {
     "name": "stdout",
     "output_type": "stream",
     "text": [
      "\n",
      "\n",
      "\u001b[1m> Entering new AgentExecutor chain...\u001b[0m\n",
      "\u001b[32;1m\u001b[1;3mTo create the second page of the story, I need to continue from where the previous content left off and incorporate the new description about Whiskers finding a dove and wanting to hunt it down. After crafting the story, I will generate an image and an audio file for the story.\n",
      "\n",
      "Let's start by creating the continuation of the story.\n",
      "\n",
      "Thought: I need to create the continuation of the story based on the given description.\n",
      "\n",
      "Action: StoryTeller\n",
      "\n",
      "Action Input: \n",
      "```\n",
      "{\n",
      "  \"input\": \"Whisker found a dove and wanted to hunt it down!\\n\\nOnce upon a time, in a cozy little house at the edge of a friendly forest, there lived a little cat named Whiskers. Whiskers had soft, fluffy fur that was as white as snow, and big, curious eyes that sparkled like twinkling stars.\\n\\nOne sunny morning, Whiskers woke up to the sound of birds chirping happily outside the window. He stretched his tiny paws, arched his back, and let out a big, adorable yawn. 'Today is going to be a wonderful day,' he thought to himself.\\n\\nWhiskers jumped out of his comfy bed and padded over to the window. He peeked outside and saw the garden filled with colorful flowers, fluttering butterflies, and a gentle breeze that made the leaves dance. Whiskers' heart filled with excitement. He loved exploring the garden and making new friends.\\n\\nAs he trotted down the stairs, he could smell something delicious coming from the kitchen. It was his favorite breakfast—warm milk and a little bowl of crunchy cat treats! Whiskers lapped up his milk and nibbled on his treats, feeling happy and full of energy.\\n\\nAfter breakfast, Whiskers decided it was time for an adventure. He put on his tiny blue collar with a shiny bell that jingled with every step. 'I wonder what fun surprises I'll find today,' he thought as he pushed open the door and stepped into the bright, beautiful garden.\\n\\nThe garden was like a magical playground for Whiskers. He chased after butterflies, played hide-and-seek with the ladybugs, and even tried to catch his own shadow! But the most exciting part of his morning was yet to come.\\n\\nAs Whiskers explored, he heard a soft rustling sound coming from behind a big, leafy bush. His ears perked up, and his whiskers twitched with curiosity. 'Who could it be?' he wondered.\\n\\nWith a brave little heart, Whiskers tiptoed closer to the bush. He peeked through the leaves and saw the most surprising thing—a tiny, fluffy bunny with big, round eyes and long, floppy ears!\\n\\n'Hello there!' Whiskers said in his sweetest voice. 'My name is Whiskers. What's your name?'\\n\\nThe little bunny looked up and smiled. 'Hi, Whiskers! I'm Thumper. I was just looking for some tasty clover to eat. Would you like to join me?'\\n\\nWhiskers' eyes sparkled with joy. 'I'd love to, Thumper! Let's go on a clover-finding adventure together!'\\n\\nAnd so, Whiskers and Thumper set off on their morning adventure, exploring the garden and making wonderful memories. They found the juiciest clover, played games, and laughed together under the warm, golden sun.\\n\\nAs the morning turned into afternoon, Whiskers knew that this was just the beginning of many more adventures with his new friend, Thumper. And he couldn't wait to see what the next day would bring.\\n\\nThe End of Chapter 1\\n\\nStay tuned for the next chapter of Whiskers' adventures!\\n\\nWhiskers and Thumper had become the best of friends, and every day was filled with new adventures. One sunny afternoon, as they were playing near the big oak tree, Whiskers noticed a beautiful white dove perched on a branch. The dove's feathers glistened in the sunlight, and it cooed softly, adding to the peaceful ambiance of the garden.\\n\\nWhiskers' natural instincts kicked in, and he crouched low, his eyes fixed on the dove. 'I wonder if I can catch it,' he thought, his tail twitching with excitement. He slowly crept closer, trying to be as quiet as possible.\\n\\nThumper noticed Whiskers' change in behavior and hopped over to him. 'What are you doing, Whiskers?' he asked, his nose twitching with curiosity.\\n\\n'I'm going to catch that dove,' Whiskers whispered, his eyes never leaving the bird.\\n\\nThumper looked at the dove and then back at Whiskers. 'But why? The dove is our friend too. We shouldn't scare it,' he said gently.\\n\\nWhiskers paused and thought about what Thumper said. He realized that Thumper was right. The garden was a place for all creatures to live in harmony. 'You're right, Thumper. I don't want to scare our friend,' he said, sitting back on his haunches.\\n\\nThe dove, sensing that it was no longer in danger, fluttered down from the branch and landed near Whiskers and Thumper. 'Thank you for not chasing me, Whiskers,' the dove cooed. 'My name is Dove, and I'm happy to be your friend.'\\n\\nWhiskers smiled and nodded. 'I'm happy to be your friend too, Dove,' he said. 'Let's all play together and enjoy this beautiful day.'\\n\\nAnd so, Whiskers, Thumper, and Dove spent the rest of the afternoon playing games and enjoying each other's company. Whiskers learned an important lesson that day about friendship and the importance of living in harmony with all creatures.\\n\\nThe End of Chapter 2\\n\\nStay tuned for the next chapter of Whiskers' adventures!\\n\",\n",
      "  \"config\": null\n",
      "}\n",
      "```\n",
      "\u001b[0m\u001b[38;5;200m\u001b[1;3m### Whiskers' Adventures: Chapter 3 - The Mysterious Shiny Object\n",
      "\n",
      "Once upon a time, in the same cozy little house at the edge of the friendly forest, Whiskers the cat woke up to another beautiful morning. The sun was shining, the birds were singing, and the garden was calling for another day of fun and adventure.\n",
      "\n",
      "Whiskers stretched his tiny paws, arched his back, and let out a big, adorable yawn. He jumped out of his comfy bed and padded over to the window. The garden looked as inviting as ever, with colorful flowers, fluttering butterflies, and a gentle breeze that made the leaves dance.\n",
      "\n",
      "After enjoying his favorite breakfast of warm milk and crunchy cat treats, Whiskers put on his tiny blue collar with the shiny bell and stepped outside. He was excited to see what new surprises the day would bring.\n",
      "\n",
      "As Whiskers explored the garden, he heard a familiar voice calling out to him. \"Good morning, Whiskers!\" It was Thumper, the fluffy bunny with big, round eyes and long, floppy ears.\n",
      "\n",
      "\"Good morning, Thumper!\" Whiskers replied with a cheerful meow. \"What shall we do today?\"\n",
      "\n",
      "Before Thumper could answer, they both noticed something glinting in the grass near the big oak tree. It was a mysterious shiny object, sparkling in the sunlight.\n",
      "\n",
      "\"What's that?\" Thumper asked, his nose twitching with curiosity.\n",
      "\n",
      "\"I don't know,\" Whiskers replied, his eyes wide with wonder. \"Let's go find out!\"\n",
      "\n",
      "Whiskers and Thumper trotted over to the shiny object. As they got closer, they saw that it was a small, silver key. It looked very old and very special.\n",
      "\n",
      "\"Wow, a key!\" Thumper exclaimed. \"I wonder what it opens.\"\n",
      "\n",
      "Whiskers picked up the key with his paw and examined it closely. \"Maybe it opens a treasure chest!\" he said, his eyes sparkling with excitement.\n",
      "\n",
      "Just then, Dove the white dove fluttered down from a nearby branch. \"Hello, Whiskers and Thumper!\" she cooed. \"What have you found?\"\n",
      "\n",
      "\"We found a shiny key!\" Whiskers said, showing Dove the key. \"Do you know what it might open?\"\n",
      "\n",
      "Dove tilted her head and thought for a moment. \"I remember hearing a story about an old, hidden treasure chest somewhere in the garden,\" she said. \"Maybe this key opens it!\"\n",
      "\n",
      "Whiskers, Thumper, and Dove decided to go on a treasure hunt together. They searched high and low, looking behind bushes, under rocks, and inside hollow tree trunks. They even asked their other garden friends if they had seen anything that might be a treasure chest.\n",
      "\n",
      "After a long search, they finally found a small, wooden chest hidden under a pile of leaves near the garden's edge. The chest was covered in moss and looked very old.\n",
      "\n",
      "\"This must be it!\" Thumper said, his eyes wide with excitement.\n",
      "\n",
      "Whiskers carefully inserted the key into the chest's lock and turned it. With a soft click, the chest opened, revealing a collection of shiny, colorful gems and a small, rolled-up piece of paper.\n",
      "\n",
      "\"Wow, look at all the gems!\" Dove exclaimed, her feathers ruffling with excitement.\n",
      "\n",
      "Whiskers unrolled the piece of paper and read it aloud. \"To the finder of this treasure, may you always remember the joy of friendship and the magic of adventure.\"\n",
      "\n",
      "Whiskers, Thumper, and Dove smiled at each other, feeling happy and proud of their discovery. They decided to share the gems with all their garden friends, so everyone could enjoy the treasure together.\n",
      "\n",
      "As the sun began to set, Whiskers knew that this was just another wonderful adventure in the garden. He couldn't wait to see what the next day would bring.\n",
      "\n",
      "The End of Chapter 3\n",
      "\n",
      "Stay tuned for the next chapter of Whiskers' adventures!\u001b[0m\u001b[32;1m\u001b[1;3mThought: I have successfully created the continuation of the story. Now, I need to generate an image that corresponds to the story and record the story as an mp3 file.\n",
      "\n",
      "Action: ACG characters image generator with GPT-Image-1\n",
      "\n",
      "Action Input:\n",
      "```json\n",
      "{\n",
      "  \"image_desc\": \"Whiskers, a white fluffy cat with big curious eyes, crouching and looking at a beautiful white dove perched on a branch. Thumper, a fluffy bunny with big round eyes and long floppy ears, is beside Whiskers, looking at him with curiosity. The garden is filled with colorful flowers and a big oak tree in the background.\",\n",
      "  \"filename\": \"tutorial/LLM+Langchain/Week-8/Page-2.png\",\n",
      "  \"size\": \"1024x1024\",\n",
      "  \"quality\": \"high\"\n",
      "}\n",
      "```\n",
      "\u001b[0mStart generating image...\n",
      "prompt: A detailed pencil and ink style illustration for a 6-year-old child: Whiskers, a white fluffy cat with big curious eyes, is crouching and looking intently at a beautiful white dove perched on a branch. Beside Whiskers is Thumper, a fluffy bunny with big round eyes and long floppy ears, gazing at Whiskers with curiosity. The scene is set in a vibrant garden filled with colorful flowers, and a majestic oak tree stands tall in the background. The illustration should capture the innocence and curiosity of the animals, with intricate line work and minimal color to highlight the classic, timeless feel.\n",
      "Image is generated succesfully.\n",
      "\u001b[33;1m\u001b[1;3mDone\u001b[0m\u001b[32;1m\u001b[1;3mI have successfully generated the image for the story. Now, I need to create an audio file of the story.\n",
      "\n",
      "Action: Text to Sound (tts) tool\n",
      "\n",
      "Action Input:\n",
      "```json\n",
      "{\n",
      "  \"text\": \"Whiskers and Thumper had become the best of friends, and every day was filled with new adventures. One sunny afternoon, as they were playing near the big oak tree, Whiskers noticed a beautiful white dove perched on a branch. The dove's feathers glistened in the sunlight, and it cooed softly, adding to the peaceful ambiance of the garden.\\n\\nWhiskers' natural instincts kicked in, and he crouched low, his eyes fixed on the dove. 'I wonder if I can catch it,' he thought, his tail twitching with excitement. He slowly crept closer, trying to be as quiet as possible.\\n\\nThumper noticed Whiskers' change in behavior and hopped over to him. 'What are you doing, Whiskers?' he asked, his nose twitching with curiosity.\\n\\n'I'm going to catch that dove,' Whiskers whispered, his eyes never leaving the bird.\\n\\nThumper looked at the dove and then back at Whiskers. 'But why? The dove is our friend too. We shouldn't scare it,' he said gently.\\n\\nWhiskers paused and thought about what Thumper said. He realized that Thumper was right. The garden was a place for all creatures to live in harmony. 'You're right, Thumper. I don't want to scare our friend,' he said, sitting back on his haunches.\\n\\nThe dove, sensing that it was no longer in danger, fluttered down from the branch and landed near Whiskers and Thumper. 'Thank you for not chasing me, Whiskers,' the dove cooed. 'My name is Dove, and I'm happy to be your friend.'\\n\\nWhiskers smiled and nodded. 'I'm happy to be your friend too, Dove,' he said. 'Let's all play together and enjoy this beautiful day.'\\n\\nAnd so, Whiskers, Thumper, and Dove spent the rest of the afternoon playing games and enjoying each other's company. Whiskers learned an important lesson that day about friendship and the importance of living in harmony with all creatures.\\n\\nThe End of Chapter 2\\n\\nStay tuned for the next chapter of Whiskers' adventures!\",\n",
      "  \"filename\": \"tutorial/LLM+Langchain/Week-8/Page-2.mp3\"\n",
      "}\n",
      "```\n",
      "\u001b[0m"
     ]
    },
    {
     "name": "stderr",
     "output_type": "stream",
     "text": [
      "C:\\Users\\MengChieh\\AppData\\Local\\Temp\\ipykernel_13460\\3477408663.py:35: DeprecationWarning: Due to a bug, this method doesn't actually stream the response content, `.with_streaming_response.method()` should be used instead\n",
      "  response.stream_to_file(filename)\n"
     ]
    },
    {
     "name": "stdout",
     "output_type": "stream",
     "text": [
      "\u001b[36;1m\u001b[1;3mtutorial/LLM+Langchain/Week-8/Page-2.mp3\u001b[0m\u001b[32;1m\u001b[1;3mI have successfully created the continuation of the story, generated an image, and recorded the story as an mp3 file. Here is the final output:\n",
      "\n",
      "```json\n",
      "{\n",
      "\t\"story\": \"Whiskers and Thumper had become the best of friends, and every day was filled with new adventures. One sunny afternoon, as they were playing near the big oak tree, Whiskers noticed a beautiful white dove perched on a branch. The dove's feathers glistened in the sunlight, and it cooed softly, adding to the peaceful ambiance of the garden.\\n\\nWhiskers' natural instincts kicked in, and he crouched low, his eyes fixed on the dove. 'I wonder if I can catch it,' he thought, his tail twitching with excitement. He slowly crept closer, trying to be as quiet as possible.\\n\\nThumper noticed Whiskers' change in behavior and hopped over to him. 'What are you doing, Whiskers?' he asked, his nose twitching with curiosity.\\n\\n'I'm going to catch that dove,' Whiskers whispered, his eyes never leaving the bird.\\n\\nThumper looked at the dove and then back at Whiskers. 'But why? The dove is our friend too. We shouldn't scare it,' he said gently.\\n\\nWhiskers paused and thought about what Thumper said. He realized that Thumper was right. The garden was a place for all creatures to live in harmony. 'You're right, Thumper. I don't want to scare our friend,' he said, sitting back on his haunches.\\n\\nThe dove, sensing that it was no longer in danger, fluttered down from the branch and landed near Whiskers and Thumper. 'Thank you for not chasing me, Whiskers,' the dove cooed. 'My name is Dove, and I'm happy to be your friend.'\\n\\nWhiskers smiled and nodded. 'I'm happy to be your friend too, Dove,' he said. 'Let's all play together and enjoy this beautiful day.'\\n\\nAnd so, Whiskers, Thumper, and Dove spent the rest of the afternoon playing games and enjoying each other's company. Whiskers learned an important lesson that day about friendship and the importance of living in harmony with all creatures.\\n\\nThe End of Chapter 2\\n\\nStay tuned for the next chapter of Whiskers' adventures!\",\n",
      "\t\"page index\": \"2\"\n",
      "}\n",
      "```\n",
      "\n",
      "The corresponding image and audio file have been saved as follows:\n",
      "- Image: `tutorial/LLM+Langchain/Week-8/Page-2.png`\n",
      "- Audio: `tutorial/LLM+Langchain/Week-8/Page-2.mp3`\n",
      "\n",
      "Final Answer: The story continuation, image, and audio file have been successfully created and saved.\u001b[0m\n",
      "\n",
      "\u001b[1m> Finished chain.\u001b[0m\n"
     ]
    }
   ],
   "source": [
    "Q_2 = agent_chain.invoke({\"text\": \"Whisker found a dove and wanted to hunt it down!\",\n",
    "                          \"context\": \":\\n\".join(context_list),\n",
    "                          \"idx\": str(2)})"
   ]
  },
  {
   "cell_type": "code",
   "execution_count": 49,
   "id": "5d9eba24-c286-4c95-95df-9d83f439e766",
   "metadata": {},
   "outputs": [
    {
     "data": {
      "text/plain": [
       "[\"Once upon a time, in a cozy little house at the edge of a friendly forest, there lived a little cat named Whiskers. Whiskers had soft, fluffy fur that was as white as snow, and big, curious eyes that sparkled like twinkling stars.\\n\\nOne sunny morning, Whiskers woke up to the sound of birds chirping happily outside the window. He stretched his tiny paws, arched his back, and let out a big, adorable yawn. 'Today is going to be a wonderful day,' he thought to himself.\\n\\nWhiskers jumped out of his comfy bed and padded over to the window. He peeked outside and saw the garden filled with colorful flowers, fluttering butterflies, and a gentle breeze that made the leaves dance. Whiskers' heart filled with excitement. He loved exploring the garden and making new friends.\\n\\nAs he trotted down the stairs, he could smell something delicious coming from the kitchen. It was his favorite breakfast—warm milk and a little bowl of crunchy cat treats! Whiskers lapped up his milk and nibbled on his treats, feeling happy and full of energy.\\n\\nAfter breakfast, Whiskers decided it was time for an adventure. He put on his tiny blue collar with a shiny bell that jingled with every step. 'I wonder what fun surprises I'll find today,' he thought as he pushed open the door and stepped into the bright, beautiful garden.\\n\\nThe garden was like a magical playground for Whiskers. He chased after butterflies, played hide-and-seek with the ladybugs, and even tried to catch his own shadow! But the most exciting part of his morning was yet to come.\\n\\nAs Whiskers explored, he heard a soft rustling sound coming from behind a big, leafy bush. His ears perked up, and his whiskers twitched with curiosity. 'Who could it be?' he wondered.\\n\\nWith a brave little heart, Whiskers tiptoed closer to the bush. He peeked through the leaves and saw the most surprising thing—a tiny, fluffy bunny with big, round eyes and long, floppy ears!\\n\\n'Hello there!' Whiskers said in his sweetest voice. 'My name is Whiskers. What's your name?'\\n\\nThe little bunny looked up and smiled. 'Hi, Whiskers! I'm Thumper. I was just looking for some tasty clover to eat. Would you like to join me?'\\n\\nWhiskers' eyes sparkled with joy. 'I'd love to, Thumper! Let's go on a clover-finding adventure together!'\\n\\nAnd so, Whiskers and Thumper set off on their morning adventure, exploring the garden and making wonderful memories. They found the juiciest clover, played games, and laughed together under the warm, golden sun.\\n\\nAs the morning turned into afternoon, Whiskers knew that this was just the beginning of many more adventures with his new friend, Thumper. And he couldn't wait to see what the next day would bring.\\n\\nThe End of Chapter 1\\n\\nStay tuned for the next chapter of Whiskers' adventures!\"]"
      ]
     },
     "execution_count": 49,
     "metadata": {},
     "output_type": "execute_result"
    }
   ],
   "source": [
    "context_list"
   ]
  },
  {
   "cell_type": "code",
   "execution_count": 50,
   "id": "ddc45668-0d3a-4582-b6b7-6f8a53c06e31",
   "metadata": {},
   "outputs": [
    {
     "ename": "OutputParserException",
     "evalue": "Got invalid JSON object. Error: Expecting value: line 1 column 1 (char 0)\nFor troubleshooting, visit: https://python.langchain.com/docs/troubleshooting/errors/OUTPUT_PARSING_FAILURE ",
     "output_type": "error",
     "traceback": [
      "\u001b[1;31m---------------------------------------------------------------------------\u001b[0m",
      "\u001b[1;31mJSONDecodeError\u001b[0m                           Traceback (most recent call last)",
      "File \u001b[1;32m~\\miniconda3\\envs\\aicg\\lib\\site-packages\\langchain_core\\utils\\json.py:180\u001b[0m, in \u001b[0;36mparse_and_check_json_markdown\u001b[1;34m(text, expected_keys)\u001b[0m\n\u001b[0;32m    179\u001b[0m \u001b[38;5;28;01mtry\u001b[39;00m:\n\u001b[1;32m--> 180\u001b[0m     json_obj \u001b[38;5;241m=\u001b[39m \u001b[43mparse_json_markdown\u001b[49m\u001b[43m(\u001b[49m\u001b[43mtext\u001b[49m\u001b[43m)\u001b[49m\n\u001b[0;32m    181\u001b[0m \u001b[38;5;28;01mexcept\u001b[39;00m json\u001b[38;5;241m.\u001b[39mJSONDecodeError \u001b[38;5;28;01mas\u001b[39;00m e:\n",
      "File \u001b[1;32m~\\miniconda3\\envs\\aicg\\lib\\site-packages\\langchain_core\\utils\\json.py:145\u001b[0m, in \u001b[0;36mparse_json_markdown\u001b[1;34m(json_string, parser)\u001b[0m\n\u001b[0;32m    144\u001b[0m     json_str \u001b[38;5;241m=\u001b[39m json_string \u001b[38;5;28;01mif\u001b[39;00m match \u001b[38;5;129;01mis\u001b[39;00m \u001b[38;5;28;01mNone\u001b[39;00m \u001b[38;5;28;01melse\u001b[39;00m match\u001b[38;5;241m.\u001b[39mgroup(\u001b[38;5;241m2\u001b[39m)\n\u001b[1;32m--> 145\u001b[0m \u001b[38;5;28;01mreturn\u001b[39;00m \u001b[43m_parse_json\u001b[49m\u001b[43m(\u001b[49m\u001b[43mjson_str\u001b[49m\u001b[43m,\u001b[49m\u001b[43m \u001b[49m\u001b[43mparser\u001b[49m\u001b[38;5;241;43m=\u001b[39;49m\u001b[43mparser\u001b[49m\u001b[43m)\u001b[49m\n",
      "File \u001b[1;32m~\\miniconda3\\envs\\aicg\\lib\\site-packages\\langchain_core\\utils\\json.py:161\u001b[0m, in \u001b[0;36m_parse_json\u001b[1;34m(json_str, parser)\u001b[0m\n\u001b[0;32m    160\u001b[0m \u001b[38;5;66;03m# Parse the JSON string into a Python dictionary\u001b[39;00m\n\u001b[1;32m--> 161\u001b[0m \u001b[38;5;28;01mreturn\u001b[39;00m \u001b[43mparser\u001b[49m\u001b[43m(\u001b[49m\u001b[43mjson_str\u001b[49m\u001b[43m)\u001b[49m\n",
      "File \u001b[1;32m~\\miniconda3\\envs\\aicg\\lib\\site-packages\\langchain_core\\utils\\json.py:119\u001b[0m, in \u001b[0;36mparse_partial_json\u001b[1;34m(s, strict)\u001b[0m\n\u001b[0;32m    116\u001b[0m \u001b[38;5;66;03m# If we got here, we ran out of characters to remove\u001b[39;00m\n\u001b[0;32m    117\u001b[0m \u001b[38;5;66;03m# and still couldn't parse the string as JSON, so return the parse error\u001b[39;00m\n\u001b[0;32m    118\u001b[0m \u001b[38;5;66;03m# for the original string.\u001b[39;00m\n\u001b[1;32m--> 119\u001b[0m \u001b[38;5;28;01mreturn\u001b[39;00m \u001b[43mjson\u001b[49m\u001b[38;5;241;43m.\u001b[39;49m\u001b[43mloads\u001b[49m\u001b[43m(\u001b[49m\u001b[43ms\u001b[49m\u001b[43m,\u001b[49m\u001b[43m \u001b[49m\u001b[43mstrict\u001b[49m\u001b[38;5;241;43m=\u001b[39;49m\u001b[43mstrict\u001b[49m\u001b[43m)\u001b[49m\n",
      "File \u001b[1;32m~\\miniconda3\\envs\\aicg\\lib\\json\\__init__.py:359\u001b[0m, in \u001b[0;36mloads\u001b[1;34m(s, cls, object_hook, parse_float, parse_int, parse_constant, object_pairs_hook, **kw)\u001b[0m\n\u001b[0;32m    358\u001b[0m     kw[\u001b[38;5;124m'\u001b[39m\u001b[38;5;124mparse_constant\u001b[39m\u001b[38;5;124m'\u001b[39m] \u001b[38;5;241m=\u001b[39m parse_constant\n\u001b[1;32m--> 359\u001b[0m \u001b[38;5;28;01mreturn\u001b[39;00m \u001b[38;5;28;43mcls\u001b[39;49m\u001b[43m(\u001b[49m\u001b[38;5;241;43m*\u001b[39;49m\u001b[38;5;241;43m*\u001b[39;49m\u001b[43mkw\u001b[49m\u001b[43m)\u001b[49m\u001b[38;5;241;43m.\u001b[39;49m\u001b[43mdecode\u001b[49m\u001b[43m(\u001b[49m\u001b[43ms\u001b[49m\u001b[43m)\u001b[49m\n",
      "File \u001b[1;32m~\\miniconda3\\envs\\aicg\\lib\\json\\decoder.py:337\u001b[0m, in \u001b[0;36mJSONDecoder.decode\u001b[1;34m(self, s, _w)\u001b[0m\n\u001b[0;32m    333\u001b[0m \u001b[38;5;250m\u001b[39m\u001b[38;5;124;03m\"\"\"Return the Python representation of ``s`` (a ``str`` instance\u001b[39;00m\n\u001b[0;32m    334\u001b[0m \u001b[38;5;124;03mcontaining a JSON document).\u001b[39;00m\n\u001b[0;32m    335\u001b[0m \n\u001b[0;32m    336\u001b[0m \u001b[38;5;124;03m\"\"\"\u001b[39;00m\n\u001b[1;32m--> 337\u001b[0m obj, end \u001b[38;5;241m=\u001b[39m \u001b[38;5;28;43mself\u001b[39;49m\u001b[38;5;241;43m.\u001b[39;49m\u001b[43mraw_decode\u001b[49m\u001b[43m(\u001b[49m\u001b[43ms\u001b[49m\u001b[43m,\u001b[49m\u001b[43m \u001b[49m\u001b[43midx\u001b[49m\u001b[38;5;241;43m=\u001b[39;49m\u001b[43m_w\u001b[49m\u001b[43m(\u001b[49m\u001b[43ms\u001b[49m\u001b[43m,\u001b[49m\u001b[43m \u001b[49m\u001b[38;5;241;43m0\u001b[39;49m\u001b[43m)\u001b[49m\u001b[38;5;241;43m.\u001b[39;49m\u001b[43mend\u001b[49m\u001b[43m(\u001b[49m\u001b[43m)\u001b[49m\u001b[43m)\u001b[49m\n\u001b[0;32m    338\u001b[0m end \u001b[38;5;241m=\u001b[39m _w(s, end)\u001b[38;5;241m.\u001b[39mend()\n",
      "File \u001b[1;32m~\\miniconda3\\envs\\aicg\\lib\\json\\decoder.py:355\u001b[0m, in \u001b[0;36mJSONDecoder.raw_decode\u001b[1;34m(self, s, idx)\u001b[0m\n\u001b[0;32m    354\u001b[0m \u001b[38;5;28;01mexcept\u001b[39;00m \u001b[38;5;167;01mStopIteration\u001b[39;00m \u001b[38;5;28;01mas\u001b[39;00m err:\n\u001b[1;32m--> 355\u001b[0m     \u001b[38;5;28;01mraise\u001b[39;00m JSONDecodeError(\u001b[38;5;124m\"\u001b[39m\u001b[38;5;124mExpecting value\u001b[39m\u001b[38;5;124m\"\u001b[39m, s, err\u001b[38;5;241m.\u001b[39mvalue) \u001b[38;5;28;01mfrom\u001b[39;00m\u001b[38;5;250m \u001b[39m\u001b[38;5;28;01mNone\u001b[39;00m\n\u001b[0;32m    356\u001b[0m \u001b[38;5;28;01mreturn\u001b[39;00m obj, end\n",
      "\u001b[1;31mJSONDecodeError\u001b[0m: Expecting value: line 1 column 1 (char 0)",
      "\nThe above exception was the direct cause of the following exception:\n",
      "\u001b[1;31mOutputParserException\u001b[0m                     Traceback (most recent call last)",
      "Cell \u001b[1;32mIn[50], line 1\u001b[0m\n\u001b[1;32m----> 1\u001b[0m \u001b[43moutput_parser\u001b[49m\u001b[38;5;241;43m.\u001b[39;49m\u001b[43mparse\u001b[49m\u001b[43m(\u001b[49m\u001b[43mQ_2\u001b[49m\u001b[43m[\u001b[49m\u001b[38;5;124;43m'\u001b[39;49m\u001b[38;5;124;43moutput\u001b[39;49m\u001b[38;5;124;43m'\u001b[39;49m\u001b[43m]\u001b[49m\u001b[43m)\u001b[49m[\u001b[38;5;124m'\u001b[39m\u001b[38;5;124mstory\u001b[39m\u001b[38;5;124m'\u001b[39m]\n",
      "File \u001b[1;32m~\\miniconda3\\envs\\aicg\\lib\\site-packages\\langchain\\output_parsers\\structured.py:97\u001b[0m, in \u001b[0;36mStructuredOutputParser.parse\u001b[1;34m(self, text)\u001b[0m\n\u001b[0;32m     95\u001b[0m \u001b[38;5;28;01mdef\u001b[39;00m\u001b[38;5;250m \u001b[39m\u001b[38;5;21mparse\u001b[39m(\u001b[38;5;28mself\u001b[39m, text: \u001b[38;5;28mstr\u001b[39m) \u001b[38;5;241m-\u001b[39m\u001b[38;5;241m>\u001b[39m Dict[\u001b[38;5;28mstr\u001b[39m, Any]:\n\u001b[0;32m     96\u001b[0m     expected_keys \u001b[38;5;241m=\u001b[39m [rs\u001b[38;5;241m.\u001b[39mname \u001b[38;5;28;01mfor\u001b[39;00m rs \u001b[38;5;129;01min\u001b[39;00m \u001b[38;5;28mself\u001b[39m\u001b[38;5;241m.\u001b[39mresponse_schemas]\n\u001b[1;32m---> 97\u001b[0m     \u001b[38;5;28;01mreturn\u001b[39;00m \u001b[43mparse_and_check_json_markdown\u001b[49m\u001b[43m(\u001b[49m\u001b[43mtext\u001b[49m\u001b[43m,\u001b[49m\u001b[43m \u001b[49m\u001b[43mexpected_keys\u001b[49m\u001b[43m)\u001b[49m\n",
      "File \u001b[1;32m~\\miniconda3\\envs\\aicg\\lib\\site-packages\\langchain_core\\utils\\json.py:183\u001b[0m, in \u001b[0;36mparse_and_check_json_markdown\u001b[1;34m(text, expected_keys)\u001b[0m\n\u001b[0;32m    181\u001b[0m \u001b[38;5;28;01mexcept\u001b[39;00m json\u001b[38;5;241m.\u001b[39mJSONDecodeError \u001b[38;5;28;01mas\u001b[39;00m e:\n\u001b[0;32m    182\u001b[0m     msg \u001b[38;5;241m=\u001b[39m \u001b[38;5;124mf\u001b[39m\u001b[38;5;124m\"\u001b[39m\u001b[38;5;124mGot invalid JSON object. Error: \u001b[39m\u001b[38;5;132;01m{\u001b[39;00me\u001b[38;5;132;01m}\u001b[39;00m\u001b[38;5;124m\"\u001b[39m\n\u001b[1;32m--> 183\u001b[0m     \u001b[38;5;28;01mraise\u001b[39;00m OutputParserException(msg) \u001b[38;5;28;01mfrom\u001b[39;00m\u001b[38;5;250m \u001b[39m\u001b[38;5;21;01me\u001b[39;00m\n\u001b[0;32m    184\u001b[0m \u001b[38;5;28;01mfor\u001b[39;00m key \u001b[38;5;129;01min\u001b[39;00m expected_keys:\n\u001b[0;32m    185\u001b[0m     \u001b[38;5;28;01mif\u001b[39;00m key \u001b[38;5;129;01mnot\u001b[39;00m \u001b[38;5;129;01min\u001b[39;00m json_obj:\n",
      "\u001b[1;31mOutputParserException\u001b[0m: Got invalid JSON object. Error: Expecting value: line 1 column 1 (char 0)\nFor troubleshooting, visit: https://python.langchain.com/docs/troubleshooting/errors/OUTPUT_PARSING_FAILURE "
     ]
    }
   ],
   "source": [
    "output_parser.parse(Q_2['output'])['story']"
   ]
  },
  {
   "cell_type": "markdown",
   "id": "cfd27823-fe18-4e44-998c-06e4629d9f67",
   "metadata": {},
   "source": [
    "### okay, it looks fine, let us see how to make it a interactive"
   ]
  },
  {
   "cell_type": "code",
   "execution_count": null,
   "id": "854b6e69-3036-45d2-9461-b17f667a3fdb",
   "metadata": {},
   "outputs": [],
   "source": [
    "# \"前情提要\"\n",
    "context_list = []\n",
    "\n",
    "# 頁面起始\n",
    "idx = 1\n",
    "\n",
    "while True:\n",
    "    if len(context_list) == 0:\n",
    "        context = \"The beginning of the story:\\n\"\n",
    "    else:\n",
    "        context = \"\\n\".join(context_list)\n",
    "\n",
    "    text = input(\"請輸入故事內容: 若想要結束 請輸入 `QUIT`\")\n",
    "\n",
    "    if text == \"QUIT\":\n",
    "        break\n",
    "    \n",
    "    Q = agent_chain.invoke({\"text\": text,\n",
    "                            \"context\": context,\n",
    "                            \"idx\": str(idx)})\n",
    "\n",
    "    story = output_parser.parse(Q['output'])['story']\n",
    "    \n",
    "    # 下一頁\n",
    "    idx += 1\n",
    "\n",
    "    context_list.append(output_parser.parse(Q['output'])['story'])"
   ]
  },
  {
   "cell_type": "code",
   "execution_count": null,
   "id": "931bc721-634e-410f-95f2-6efe391d2b61",
   "metadata": {},
   "outputs": [],
   "source": []
  }
 ],
 "metadata": {
  "kernelspec": {
   "display_name": "Python 3 (ipykernel)",
   "language": "python",
   "name": "python3"
  },
  "language_info": {
   "codemirror_mode": {
    "name": "ipython",
    "version": 3
   },
   "file_extension": ".py",
   "mimetype": "text/x-python",
   "name": "python",
   "nbconvert_exporter": "python",
   "pygments_lexer": "ipython3",
   "version": "3.10.16"
  }
 },
 "nbformat": 4,
 "nbformat_minor": 5
}
