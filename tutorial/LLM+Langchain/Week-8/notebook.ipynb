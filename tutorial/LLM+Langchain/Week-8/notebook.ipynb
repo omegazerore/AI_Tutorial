{
 "cells": [
  {
   "cell_type": "markdown",
   "id": "1cd5f1f4-81a7-4ffb-a0e9-787048185a4e",
   "metadata": {},
   "source": [
    "# GPT-Image-1\n",
    "\n",
    "The latest image generation model released by OpenAI. Therefore we will work with this.\n",
    "\n",
    "Please update your 'openai' package to 1.76.0 to see the latest documentation"
   ]
  },
  {
   "cell_type": "code",
   "execution_count": 1,
   "id": "8bdb24ce-0f79-4abb-8793-169215c36fe0",
   "metadata": {
    "tags": []
   },
   "outputs": [],
   "source": [
    "import os\n",
    "\n",
    "os.chdir(\"../../../\")"
   ]
  },
  {
   "cell_type": "code",
   "execution_count": 2,
   "id": "2e2aab6e-5789-4e2a-b4d0-5919f9f0e29b",
   "metadata": {
    "tags": []
   },
   "outputs": [],
   "source": [
    "from langchain_openai import ChatOpenAI\n",
    "\n",
    "from src.initialization import credential_init\n",
    "\n",
    "\n",
    "credential_init()\n",
    "\n",
    "model = ChatOpenAI(openai_api_key=os.environ['OPENAI_API_KEY'],\n",
    "                   model_name=\"gpt-4o-2024-05-13\", temperature=0)"
   ]
  },
  {
   "cell_type": "markdown",
   "id": "f3a19029-f2df-49f9-9596-0c0a52149c2f",
   "metadata": {},
   "source": [
    "### OpenAI Image API Parameters:\n",
    "\n",
    "https://platform.openai.com/docs/guides/image-generation?image-generation-model=gpt-image-1\n",
    "https://cookbook.openai.com/examples/generate_images_with_gpt_image\n",
    "\n",
    "<!-- - model: dall-e-3\n",
    "- size (str): 1024x1024, 1024x1792, 1792x1024\n",
    "- quality: hd, standard\n",
    "- style: vivid, natural. Default vivid -->"
   ]
  },
  {
   "cell_type": "markdown",
   "id": "bea61b62-2b05-4c32-a677-7fc7205eae70",
   "metadata": {},
   "source": [
    "- model: gpt-image-1\n",
    "    - size (str): 1024x1024 (square), 1536x1024 (landscape), 1024x1536 (portrait) or auto (default)\n",
    "    - quality: low, medium, high or auto\n",
    "    - moderation: auto, low"
   ]
  },
  {
   "cell_type": "code",
   "execution_count": 3,
   "id": "da908a85-5203-43cc-8241-76eba5cc578c",
   "metadata": {
    "tags": []
   },
   "outputs": [],
   "source": [
    "from openai import OpenAI\n",
    "\n",
    "prompt = (\"A Sumi-e style watercolor painting of mountains during sunset. The sky is depicted with bold \"\n",
    "          \"splashes of orange, pink, and purple hues, blending and overlapping in a dynamic composition. \"\n",
    "          \"The mountains are represented with expressive brushstrokes, emphasizing their majestic and serene \"\n",
    "          \"presence. The focus is on capturing the essence and mood of the scene rather than detailed realism. \"\n",
    "          \"The overall effect is serene and contemplative, with a harmonious balance of color and form.\")\n",
    "\n",
    "client = OpenAI()\n",
    "\n",
    "response = client.images.generate(\n",
    "    model=\"gpt-image-1\",\n",
    "    prompt=prompt,\n",
    "    size=\"1024x1024\",\n",
    "    # quality=\"hd\",\n",
    "    quality='high',\n",
    "    n=1,\n",
    "    # response_format = 'b64_json'\n",
    ")\n",
    "\n",
    "image_base64 = response.data[0].b64_json"
   ]
  },
  {
   "cell_type": "code",
   "execution_count": null,
   "id": "a1d31f11-6edf-4d0c-90cd-ca1de4d5e4a9",
   "metadata": {},
   "outputs": [],
   "source": [
    "client.images.generate?"
   ]
  },
  {
   "cell_type": "markdown",
   "id": "2b255426-c09f-4a61-aaf6-bed8eafe870e",
   "metadata": {},
   "source": [
    "## Save the image in your local computer"
   ]
  },
  {
   "cell_type": "code",
   "execution_count": 4,
   "id": "0d6fc657-7688-47fe-9d2d-e9fd400cb1fa",
   "metadata": {
    "tags": []
   },
   "outputs": [],
   "source": [
    "import base64\n",
    "\n",
    "with open(\"tutorial/LLM+Langchain/Week-8/test.png\", \"wb\") as fh:\n",
    "    fh.write(base64.b64decode(image_base64))"
   ]
  },
  {
   "cell_type": "markdown",
   "id": "935b95d7-b6b3-4a14-9328-a998daee4320",
   "metadata": {},
   "source": [
    "## Two Challenges:\n",
    "\n",
    "### 1. How to create prompt more efficiently? \n",
    "\n",
    "There are two types of prompt: \n",
    "\n",
    "1. Danbooru Tag: masterpiece, best quality, beautiful eyes, clear eyes, detailed eyes, Blue-eyes, 1girl, 20_old, full-body, break, smoking, break, high_color, blue-hair, beauty, black-boots,break, break, Flat vector art, Colorful art, white_shirt, simple_background, blue_background, Ink art, peeking out upper body, Eyes\n",
    "\n",
    "2. Natural language: A Sumi-e style watercolor painting of mountains during sunset. The sky is depicted with bold splashes of orange, pink, and purple hues, blending and overlapping in a dynamic composition. The mountains are represented with expressive brushstrokes,emphasizing their majestic and serene presence. The focus is on capturing the essence and mood of the scene rather than detailed realism. The overall effect is serene and contemplative, with a harmonious balance of color and form.\n",
    "\n",
    "As non-native English speakers, we find the natural language prompt challenging, even for native speakers, due to the inclusion of specialized terminologies and advanced vocabulary.\n",
    "\n",
    "由於涉及專業術語和高級詞彙，我們作為非母語英語使用者，發現這個自然語言提示對我們來說是具有挑戰性的，即使對母語使用者來說也是如此。\n",
    "\n",
    "### 2. How to make it an LCEL?"
   ]
  },
  {
   "cell_type": "markdown",
   "id": "76e4d43a-4fd3-45a7-a51c-ced9cf9902f9",
   "metadata": {},
   "source": [
    "## Some websites for natural language prompt\n",
    "\n",
    "- https://leonardo.ai/: An Image generation SaaS. A lot of works are created with natural language prompt. \n",
    "- https://blog.mlq.ai/dalle-prompts/: Some tutorial about how to come up with a natural language prompt."
   ]
  },
  {
   "cell_type": "code",
   "execution_count": 5,
   "id": "2fdd5054-b78a-4d50-8347-fb63446b0d9e",
   "metadata": {},
   "outputs": [],
   "source": [
    "def build_standard_chat_prompt_template(kwargs):\n",
    "\n",
    "    system_content = kwargs['system']\n",
    "    human_content = kwargs['human']\n",
    "    \n",
    "    system_prompt = PromptTemplate(**system_content)\n",
    "    system_message = SystemMessagePromptTemplate(prompt=system_prompt)\n",
    "    \n",
    "    human_prompt = PromptTemplate(**human_content)\n",
    "    human_message = HumanMessagePromptTemplate(prompt=human_prompt)\n",
    "    \n",
    "    chat_prompt = ChatPromptTemplate.from_messages([system_message,\n",
    "                                                     human_message\n",
    "                                                   ])\n",
    "\n",
    "    return chat_prompt"
   ]
  },
  {
   "cell_type": "markdown",
   "id": "73124c68-8452-4711-a72e-e097f6256d16",
   "metadata": {},
   "source": [
    "### Natural Language Prompt Generation"
   ]
  },
  {
   "cell_type": "code",
   "execution_count": 6,
   "id": "3b6deea0-76c1-4f46-93bd-df0da355877d",
   "metadata": {
    "tags": []
   },
   "outputs": [],
   "source": [
    "from langchain.prompts import PromptTemplate, ChatPromptTemplate, HumanMessagePromptTemplate, SystemMessagePromptTemplate\n",
    "from langchain_core.output_parsers import StrOutputParser\n",
    "\n",
    "\n",
    "system_template = (\"You are a helpful AI assistant and an art expert with extensive knowledge of photography \"\n",
    "                   \"and illustration. You excel at creating breathtaking masterpieces with the DALLE-3 model. \"\n",
    "                   \"For this task, you will be provided with a description of an image, and you will generate a \"\n",
    "                   \"corresponding DALLE-3 prompt. The prompt should be detailed and descriptive, capturing the \"\n",
    "                   \"essence of the image.\")\n",
    "\n",
    "human_template = \"{image_desc}\"\n",
    "\n",
    "input_ = {\"system\": {\"template\": system_template},\n",
    "          \"human\": {\"template\": human_template,\n",
    "                    \"input_variable\": [\"image_desc\"]}}\n",
    "    \n",
    "chat_prompt = build_standard_chat_prompt_template(input_)\n",
    "\n",
    "nl_prompt_generation_chain = chat_prompt | model | StrOutputParser()"
   ]
  },
  {
   "cell_type": "markdown",
   "id": "82110d0e-4ef4-4191-b20e-5f2671dfad92",
   "metadata": {},
   "source": [
    "## We wrap OPENAI API call as a function for the langchain usage "
   ]
  },
  {
   "cell_type": "code",
   "execution_count": 7,
   "id": "b90024c5-67a6-43cf-a64a-757de94ef808",
   "metadata": {
    "tags": []
   },
   "outputs": [],
   "source": [
    "from typing import Dict\n",
    "from langchain_core.runnables import chain\n",
    "\n",
    "\n",
    "def gpt_image_worker(kwargs: Dict):\n",
    "\n",
    "    \"\"\"\n",
    "    Generates an image using OpenAI's GPT-Image-1 model based on the provided prompt and optional parameters.\n",
    "    \n",
    "    Parameters:\n",
    "    kwargs (Dict): A dictionary containing the following keys:\n",
    "        - 'nl_prompt' (str): The natural language prompt describing the image to be generated.\n",
    "        - 'size' (str, optional): The size of the generated image. Default is \"1024x1024\".\n",
    "        - 'quality' (str, optional): The quality of the generated image. Default is \"medium\".\n",
    "    \n",
    "    Returns:\n",
    "    str: image base64 string\n",
    "    \"\"\"\n",
    "    \n",
    "    print(\"Start generating image...\")\n",
    "    print(f\"prompt: {kwargs['nl_prompt']}\")\n",
    "    client = OpenAI()\n",
    "\n",
    "    response = client.images.generate(\n",
    "        model=\"gpt-image-1\",\n",
    "        prompt=kwargs['nl_prompt'],\n",
    "        size=kwargs.get(\"size\", \"1024x1024\"),\n",
    "        quality=kwargs.get('quality', 'medium'),\n",
    "        moderation=kwargs.get('moderation', 'auto'),\n",
    "        n=1)\n",
    "\n",
    "    image_base64 = response.data[0].b64_json\n",
    "\n",
    "    print(\"Image is generated succesfully.\")\n",
    "    \n",
    "    return image_base64\n",
    "\n",
    "@chain\n",
    "def base64_to_file(kwargs):\n",
    "\n",
    "    \"\"\"\n",
    "    Save the image from a base64 string\n",
    "    \"\"\"\n",
    "    \n",
    "    image_base64 = kwargs['image_base64']\n",
    "    filename = kwargs['filename']\n",
    "    \n",
    "    with open(f\"{filename}\", \"wb\") as fh:\n",
    "        fh.write(base64.b64decode(image_base64))\n",
    "    "
   ]
  },
  {
   "cell_type": "code",
   "execution_count": 8,
   "id": "af60ca67-f323-49d6-a154-63c190060199",
   "metadata": {
    "tags": []
   },
   "outputs": [],
   "source": [
    "from operator import itemgetter\n",
    "\n",
    "from langchain_core.runnables import RunnableLambda, RunnableParallel, RunnablePassthrough\n",
    "\n",
    "# step 1: create the image prompt\n",
    "step_1 = RunnablePassthrough.assign(nl_prompt=itemgetter('image_desc')|nl_prompt_generation_chain)\n",
    "\n",
    "# step 2: image generation process, as a base64\n",
    "step_2 = RunnablePassthrough.assign(image_base64=gpt_image_worker)\n",
    "\n",
    "# step 3: save the image\n",
    "step_3 = base64_to_file\n",
    "\n",
    "# chain step 1, step 2, step 3 together\n",
    "gpt_image_chain =  step_1|step_2|step_3"
   ]
  },
  {
   "cell_type": "code",
   "execution_count": 10,
   "id": "51ab41f1-eeec-46ae-8e27-0a1f42facfe4",
   "metadata": {
    "tags": []
   },
   "outputs": [
    {
     "name": "stdout",
     "output_type": "stream",
     "text": [
      "Start generating image...\n",
      "prompt: Create an oil painting of a Warhammer 40k Astartes in full power armor, wielding a menacing chain sword. The Astartes should be depicted in a dynamic battle stance, with intricate details on the armor, including purity seals and chapter insignias. The background should be a war-torn battlefield, with smoke, fire, and debris adding to the chaotic atmosphere. The painting style should be rich and textured, capturing the grimdark essence of the Warhammer 40k universe.\n",
      "Image is generated succesfully.\n"
     ]
    }
   ],
   "source": [
    "gpt_image_chain.invoke({\"size\": \"1024x1536\",\n",
    "                     \"quality\": \"medium\",\n",
    "                     \"image_desc\": (\"warhammer 40k, astartes, power armor, chain sword, purity seal, oil painting\"),\n",
    "                     \"filename\": \"tutorial/LLM+Langchain/Week-8/astartes.png\"\n",
    "                    })"
   ]
  },
  {
   "cell_type": "code",
   "execution_count": 11,
   "id": "96429327-2750-4094-804c-693aab9a0217",
   "metadata": {
    "tags": []
   },
   "outputs": [
    {
     "name": "stdout",
     "output_type": "stream",
     "text": [
      "Start generating image...\n",
      "prompt: Create a detailed and descriptive DALLE-3 prompt for the given image:\n",
      "\n",
      "\"Create a chibi-style illustration of Tifa Lockhart wearing a traditional Japanese kimono adorned with intricate patterns and a delicate head ornament. She is looking directly at the viewer with a gentle smile. Surround her with blooming cherry blossom trees, their petals gently falling around her. Tifa's kimono contrasts with a sleek, black-and-white high-tech combat suit visible underneath, blending traditional and futuristic elements seamlessly. The background should be a serene, pastel-colored landscape, enhancing the overall charm and tranquility of the scene.\"\n",
      "Image is generated succesfully.\n"
     ]
    }
   ],
   "source": [
    "gpt_image_chain.invoke({\"size\": \"1536x1024\",\n",
    "                     \"quality\": \"medium\",\n",
    "                     \"image_desc\": (\"Tifa Lockhart, kimono, head ornament, looking at viewer, cherry blossom, \"\n",
    "                                    \"black-white hightech combat suite, chibi style.\"),\n",
    "                     \"filename\": \"tutorial/LLM+Langchain/Week-8/Tifa-01.png\",\n",
    "                     \"moderation\": 'low'\n",
    "                    })\n"
   ]
  },
  {
   "cell_type": "markdown",
   "id": "b11138db-d2a1-4eec-a7d6-aa5a4d230313",
   "metadata": {},
   "source": [
    "Every model has its strength\n",
    "In my opinion:\n",
    "\n",
    "- SDXL: style\n",
    "- PONY, Illustrious: pose control, view angle control\n",
    "- FLUX: realistic"
   ]
  },
  {
   "cell_type": "code",
   "execution_count": 13,
   "id": "16f6b7ab-1a90-4801-9823-f70d1cd58ade",
   "metadata": {
    "tags": []
   },
   "outputs": [
    {
     "name": "stdout",
     "output_type": "stream",
     "text": [
      "Start generating image...\n",
      "prompt: \"Create a sketch illustration of a young girl with an ethereal beauty, styled in an Azur Lane-inspired outfit. She has a high ponytail with very long hair, sidelocks, and bangs. The scene is set in a dimly lit whisky bar, where she is resting her head on her hand, exuding an aura of youth and elegance. The overall atmosphere should be intimate and warm, with the dim lighting casting soft shadows that enhance the sketch's delicate lines and details.\"\n",
      "Image is generated succesfully.\n"
     ]
    }
   ],
   "source": [
    "gpt_image_chain.invoke({\"size\": \"1024x1536\",\n",
    "                        \"quality\": \"medium\",\n",
    "                        \"image_desc\": (\"1girl, azur lane style outfit, high ponytail, very long hair, sidelocks, bangs, \"\n",
    "                                       \"in a whisky bar, rest head on hand, dim lighting, exuding an aura of youth and \"\n",
    "                                       \"ethereal beauty, sketch, illustration\"),\n",
    "                        \"filename\": \"tutorial/LLM+Langchain/Week-8/azur_lane_style.png\",\n",
    "                        \"moderation\": 'low'\n",
    "                      })"
   ]
  },
  {
   "cell_type": "markdown",
   "id": "266563be-ff75-4e13-a9d8-77423c20c61f",
   "metadata": {},
   "source": [
    "### Image Render"
   ]
  },
  {
   "cell_type": "code",
   "execution_count": null,
   "id": "699507ea-85d7-4c64-a6a3-84ac60f4bc89",
   "metadata": {},
   "outputs": [],
   "source": [
    "# client.images.edit?"
   ]
  },
  {
   "cell_type": "code",
   "execution_count": 14,
   "id": "043ed224-f670-4bc3-8f5f-c1a11cfc73b0",
   "metadata": {},
   "outputs": [],
   "source": [
    "from src.io.path_definition import get_project_dir"
   ]
  },
  {
   "cell_type": "code",
   "execution_count": 15,
   "id": "d70b4e53-e470-4e7b-b0e2-7ea07b64bd26",
   "metadata": {},
   "outputs": [],
   "source": [
    "image_path = os.path.join(get_project_dir(), \"tutorial\", \"LLM+Langchain\", \"Week-8\", \"Prinz_Eugen.png\")\n",
    "\n",
    "result_edit = client.images.edit(\n",
    "    model=\"gpt-image-1\",\n",
    "    image=open(image_path, \"rb\"), \n",
    "    prompt=\"generate a photorealistic image\",\n",
    "    size=\"1024x1536\"\n",
    ")\n",
    "\n",
    "image_base64 = result_edit.data[0].b64_json\n",
    "\n",
    "with open(\"tutorial/LLM+Langchain/Week-8/Eugen_Prinz_Render.png\", \"wb\") as fh:\n",
    "    fh.write(base64.b64decode(image_base64))"
   ]
  },
  {
   "cell_type": "code",
   "execution_count": 16,
   "id": "4140ee4e-805e-4e88-a541-be9e2f62c39a",
   "metadata": {},
   "outputs": [],
   "source": [
    "result_edit = client.images.edit(\n",
    "    model=\"gpt-image-1\",\n",
    "    image=open(image_path, \"rb\"), \n",
    "    prompt=\"Generate a photorealistic image. Make the character have an ulzzang look\",\n",
    "    size=\"1024x1536\"\n",
    ")"
   ]
  },
  {
   "cell_type": "code",
   "execution_count": 17,
   "id": "8db6a8ef-0d99-494d-8554-983ea23c0185",
   "metadata": {},
   "outputs": [],
   "source": [
    "image_base64 = result_edit.data[0].b64_json\n",
    "\n",
    "with open(\"tutorial/LLM+Langchain/Week-8/Eugen_Prinz_Render_Ulzzang.png\", \"wb\") as fh:\n",
    "    fh.write(base64.b64decode(image_base64))"
   ]
  },
  {
   "cell_type": "code",
   "execution_count": null,
   "id": "c37925e8-a842-403c-8bca-d569eedec3da",
   "metadata": {},
   "outputs": [],
   "source": [
    "result_edit = client.images.edit(\n",
    "    model=\"gpt-image-1\",\n",
    "    image=open(image_path, \"rb\"), \n",
    "    prompt=\"Generate a photorealistic image. Make the character have a soft, flawless, youthful look with large eyes and gentle features\",\n",
    "    size=\"1024x1536\"\n",
    ")\n",
    "\n",
    "image_base64 = result_edit.data[0].b64_json\n",
    "\n",
    "with open(\"tutorial/LLM+Langchain/Week-8/Eugen_Prinz_Render_Youth.png\", \"wb\") as fh:\n",
    "    fh.write(base64.b64decode(image_base64))"
   ]
  },
  {
   "cell_type": "code",
   "execution_count": null,
   "id": "219d9040-9c57-4554-bd13-f52ea6303b6c",
   "metadata": {},
   "outputs": [],
   "source": [
    "result_edit = client.images.edit(\n",
    "    model=\"gpt-image-1\",\n",
    "    image=open(image_path, \"rb\"), \n",
    "    prompt=\"Generate a photorealistic image.\\n\"\n",
    "           \"Make the character have an ulzzang appearance with soft, flawless, youthful look with large eyes and gentle features. \"\n",
    "           \"While keep the polish and porcelain skin texture, and glamorous appearance of the girl.\",\n",
    "    size=\"1024x1536\"\n",
    ")\n",
    "\n",
    "image_base64 = result_edit.data[0].b64_json\n",
    "\n",
    "with open(\"tutorial/LLM+Langchain/Week-8/Eugen_Prinz_Render_Combined.png\", \"wb\") as fh:\n",
    "    fh.write(base64.b64decode(image_base64))"
   ]
  },
  {
   "cell_type": "markdown",
   "id": "04b5f0a9-4cca-474f-8e4e-b5403eac817e",
   "metadata": {},
   "source": [
    "You can experiment with different art styles to render your images — there's much more than just the Ghibli style!\n",
    "\n",
    "Some examples of art styles you can explore:\n",
    "- Studio Ghibli\n",
    "- Disney animation\n",
    "- Pixel art\n",
    "- Cyberpunk\n",
    "- Watercolor\n",
    "- Oil painting\n",
    "- Dark fantasy aesthetic"
   ]
  },
  {
   "cell_type": "markdown",
   "id": "bf1adc35-4a36-47b6-809c-ddb35cceb60a",
   "metadata": {},
   "source": [
    "## Use this as a tool for Agent"
   ]
  },
  {
   "cell_type": "code",
   "execution_count": null,
   "id": "5615194a-a794-47fe-8a44-586dec897481",
   "metadata": {},
   "outputs": [],
   "source": [
    "# prompt_template = \"\"\"\n",
    "# Answer the following questions as best you can. You have access to the following tools:\n",
    "\n",
    "# {tools}\n",
    "\n",
    "# Use the following format:\n",
    "\n",
    "# Question: the input question you must answer\n",
    "\n",
    "# Thought: you should always think about what to do\n",
    "\n",
    "# Action: the action to take, should be one of [{tool_names}]\n",
    "\n",
    "# Action Input: the input to the action\n",
    "\n",
    "# Observation: the result of the action\n",
    "\n",
    "# ... (this Thought/Action/Action Input/Observation can repeat N times)\n",
    "\n",
    "# Thought: I now know the final answer\n",
    "\n",
    "# Final Answer: the final answer to the original input question\n",
    "\n",
    "# Begin!\n",
    "\n",
    "# Question: {input}\n",
    "\n",
    "# Thought:{agent_scratchpad}\n",
    "# \"\"\""
   ]
  },
  {
   "cell_type": "code",
   "execution_count": null,
   "id": "6b248354-6e52-46bc-b3eb-bef1a421926d",
   "metadata": {
    "tags": []
   },
   "outputs": [],
   "source": [
    "from langchain.agents import Tool, AgentExecutor, create_react_agent\n",
    "from langchain.prompts import PromptTemplate\n",
    "from langchain.tools import BaseTool\n",
    "from langchain_core.output_parsers import StrOutputParser, PydanticOutputParser\n",
    "from pydantic import BaseModel, Field\n",
    "\n",
    "from src.agent.react_zero_shot import prompt_template as zero_shot_prompt_template\n",
    "\n",
    "# We need both the query and filename (minimal requirement):\n",
    "# Some control variables\n",
    "# What we learned last week?\n",
    "\n",
    "# step 1: create the image prompt\n",
    "step_1 = RunnablePassthrough.assign(nl_prompt=itemgetter('image_desc')|nl_prompt_generation_chain)\n",
    "\n",
    "# step 2: image generation process, as a base64\n",
    "step_2 = RunnablePassthrough.assign(image_base64=gpt_image_worker)\n",
    "\n",
    "# step 3: save the image\n",
    "step_3 = base64_to_file\n",
    "\n",
    "# chain step 1, step 2, step 3 together\n",
    "gpt_image_chain =  step_1|step_2|step_3\n",
    "\n",
    "\n",
    "class ImageInput(BaseModel):\n",
    "    image_desc: str = Field(description=(\"image description / prompt\"))\n",
    "    filename: str = Field(description=\"the location at which the image will be saved\")\n",
    "    size: str = Field(description='image size, can be 1024x1024 (square), 1536x1024 (landscape), 1024x1536 (portrait) or auto (default)')\n",
    "    quality: str = Field(description='image quality, low, medium, high or auto')\n",
    "\n",
    "\n",
    "class ImageTool(BaseTool):\n",
    "\n",
    "    name: str = \"Image generator with GPT-Image-1\"\n",
    "\n",
    "    input_output_parser: PydanticOutputParser = PydanticOutputParser(pydantic_object=ImageInput)\n",
    "    \n",
    "    input_format_instructions: str = input_output_parser.get_format_instructions()\n",
    "\n",
    "    description_template: str = (\"Use this tool when you need to create an image\\n\\n\"\n",
    "                                 \"input format_instructions: {input_format_instructions}\")\n",
    "\n",
    "    description: str = description_template.format(input_format_instructions=input_format_instructions)\n",
    "    \n",
    "    def _run(self, query):\n",
    "\n",
    "        input_ = self.input_output_parser.parse(query)\n",
    "        \n",
    "        image_desc = input_.image_desc\n",
    "        size = input_.size\n",
    "        quality = input_.quality\n",
    "        filename = input_.filename\n",
    "        \n",
    "        gpt_image_chain.invoke({\"image_desc\": image_desc,\n",
    "                                \"size\": size,\n",
    "                                \"quality\": quality,\n",
    "                                \"filename\": filename,\n",
    "                                \"moderation\": 'low'})\n",
    "        \n",
    "        return \"Done\"\n",
    "\n",
    "    def _arun(self, radius: int):\n",
    "        raise NotImplementedError(\"This tool does not support async\")\n",
    "\n",
    "# Zero Shot 標準模板\n",
    "prompt = PromptTemplate.from_template(zero_shot_prompt_template)\n",
    "\n",
    "# 建立工具庫 \n",
    "tools = [ImageTool()]\n",
    "\n",
    "# 創造Agent \n",
    "zero_shot_agent = create_react_agent(\n",
    "    llm=model,\n",
    "    tools=tools,\n",
    "    prompt=prompt,\n",
    ")\n",
    "\n",
    "# 創造Agent Executor\n",
    "agent_executor = AgentExecutor(agent=zero_shot_agent, tools=tools, verbose=True)"
   ]
  },
  {
   "cell_type": "code",
   "execution_count": null,
   "id": "c4acd426-a089-4296-8507-b898488e7736",
   "metadata": {
    "tags": []
   },
   "outputs": [],
   "source": [
    "image_prompt = \"\"\"\n",
    "brown hair, bangs, two side up, twin ponytails, sidelocks, black hat, jewelry, black cheongsam, intricate golden embroidery, long sleeves,\n",
    "detached sleeves, sheer long skirt, head ornament, a 17-years-old ethereal and glamorous beautiful japanese idol,\n",
    "translucent skin tone, anime-like face, profound facial features, bright eyes, faint rosy blush, mesmerizing city view. \n",
    "night, photorealistic\n",
    "\"\"\"\n",
    "\n",
    "filename = \"tutorial/LLM+Langchain/Week-8/test_04.png\""
   ]
  },
  {
   "cell_type": "code",
   "execution_count": null,
   "id": "8e4b7234-d7ae-4256-ac69-927affee0a23",
   "metadata": {
    "tags": []
   },
   "outputs": [],
   "source": [
    "agent_executor.invoke({\"input\": f\"Generate in image with the following information: \\n {image_prompt}. and save the image at {filename}\"})"
   ]
  },
  {
   "cell_type": "markdown",
   "id": "0fa7455d-d621-4ae1-a395-a8d73168df24",
   "metadata": {},
   "source": [
    "### OpenAI WebSearch Update:\n",
    "\n",
    "- https://platform.openai.com/docs/guides/tools-web-search?api-mode=responses\n",
    "\n",
    "The world changes very fast.\n",
    "\n",
    "Below are a few notable implementation considerations when using web search.\n",
    "\n",
    "- Web search is currently not supported in the gpt-4.1-nano model.\n",
    "- The gpt-4o-search-preview and gpt-4o-mini-search-preview models used in Chat Completions only support a subset of API parameters - view their model data pages for specific information on rate limits and feature support.\n",
    "- When used as a tool in the Responses API, web search has the same tiered rate limits as the models above.\n",
    "- Web search is limited to a context window size of 128000 (even with gpt-4.1 and gpt-4.1-mini models).\n",
    "- Refer to this guide for data handling, residency, and retention information."
   ]
  },
  {
   "cell_type": "code",
   "execution_count": null,
   "id": "685830ba-153b-45e4-8111-cb928d794d80",
   "metadata": {},
   "outputs": [],
   "source": [
    "from openai import OpenAI\n",
    "client = OpenAI()"
   ]
  },
  {
   "cell_type": "markdown",
   "id": "273538bc-be51-4b58-84dd-179085b66e7f",
   "metadata": {},
   "source": [
    "## ACG Characters\n",
    "\n",
    "### Genshin"
   ]
  },
  {
   "cell_type": "code",
   "execution_count": null,
   "id": "ad8b728e-0053-4db3-ad09-e1acc83506d3",
   "metadata": {},
   "outputs": [],
   "source": [
    "from openai import OpenAI\n",
    "client = OpenAI()\n",
    "\n",
    "response = client.responses.create(\n",
    "    model=\"gpt-4.1\",\n",
    "    tools=[{\n",
    "        \"type\": \"web_search_preview\",\n",
    "        \"search_context_size\": \"low\",\n",
    "    }],\n",
    "    input=\"What is the appearance of Hu Tao from Genshin? Please find the result on the internet.\",\n",
    ")\n",
    "\n",
    "print(response.output_text)"
   ]
  },
  {
   "cell_type": "code",
   "execution_count": null,
   "id": "e62c3051-7426-47fa-b488-01e6a49cb11d",
   "metadata": {},
   "outputs": [],
   "source": [
    "print(response.output[1].content[0].text)"
   ]
  },
  {
   "cell_type": "code",
   "execution_count": null,
   "id": "ebb31d6a-a2bc-4fbe-a27a-bee1297c167c",
   "metadata": {},
   "outputs": [],
   "source": [
    "print(response.output[1].content[0].annotations)"
   ]
  },
  {
   "cell_type": "markdown",
   "id": "63302ef2-0565-44ec-8074-b4f98e5d6f12",
   "metadata": {},
   "source": [
    "### Stellar Blade"
   ]
  },
  {
   "cell_type": "code",
   "execution_count": null,
   "id": "912d5e15-2d79-4b35-9ee5-36742523e75a",
   "metadata": {},
   "outputs": [],
   "source": [
    "response = client.responses.create(\n",
    "    model=\"gpt-4.1\",\n",
    "    tools=[{\n",
    "        \"type\": \"web_search_preview\",\n",
    "        \"search_context_size\": \"high\",\n",
    "    }],\n",
    "    input=\"What is the appearance of Eve of Stellar Blade? Please find the result on the internet.\",\n",
    ")\n",
    "\n",
    "print(response.output_text)"
   ]
  },
  {
   "cell_type": "code",
   "execution_count": null,
   "id": "c1fd0e88-6c4d-4657-b51b-69647c7b717d",
   "metadata": {},
   "outputs": [],
   "source": [
    "print(response.output[1].content[0].text)"
   ]
  },
  {
   "cell_type": "code",
   "execution_count": null,
   "id": "ab854472-1d5f-468e-ad85-37095f6fccc5",
   "metadata": {
    "tags": []
   },
   "outputs": [],
   "source": [
    "print(response.output[1].content[0].annotations)"
   ]
  },
  {
   "cell_type": "markdown",
   "id": "5ba75cd3-0fa8-4012-9ab4-0de388ab097d",
   "metadata": {},
   "source": [
    "# **** 預計第一個小時結束 ****"
   ]
  },
  {
   "cell_type": "markdown",
   "id": "3762d243-fe7f-4b43-b9c8-466918715165",
   "metadata": {},
   "source": [
    "## LCEL ACG character appearance chain"
   ]
  },
  {
   "cell_type": "code",
   "execution_count": null,
   "id": "1ab73102-3977-4691-b91d-10d0faa3aa0b",
   "metadata": {
    "tags": []
   },
   "outputs": [],
   "source": [
    "from langchain.docstore.document import Document\n",
    "from langchain.agents import Tool, AgentExecutor, create_react_agent\n",
    "from langchain.tools import BaseTool\n",
    "from langchain.prompts import PromptTemplate, ChatPromptTemplate, HumanMessagePromptTemplate, SystemMessagePromptTemplate\n",
    "from langchain_core.output_parsers import StrOutputParser\n",
    "\n",
    "system_template = (\"You are a helpful AI assistant with deep knowledge of anime, manga, \"\n",
    "                   \"and mobile games. You will generate the face, body, attire, hairstyle, and accessories of a character in great \" \n",
    "                   \"detail. The output should consist of:\\n\\n\"\n",
    "                   \"- Face:\\n\"\n",
    "                   \"- Body:\\n\"\n",
    "                   \"- Attire:\\n\"\n",
    "                   \"- Hairstyle:\\n\"\n",
    "                   \"- Accessories:\\n\\n\"\n",
    "                   \"If you are not sure about the answer, please find the content from the internet.\")\n",
    "\n",
    "# Make this simple in the beginning\n",
    "@chain\n",
    "def gpt_web_search_tool(text):\n",
    "\n",
    "    client = OpenAI()\n",
    "\n",
    "    response = client.responses.create(\n",
    "        model=\"gpt-4.1\",\n",
    "        tools=[{\n",
    "            \"type\": \"web_search_preview\",\n",
    "            \"search_context_size\": \"low\",\n",
    "        }],\n",
    "        input=[{\"role\": \"system\",\n",
    "                \"content\": [{\"type\": \"input_text\",\n",
    "                             \"text\": system_template}]},\n",
    "               {\"role\": \"user\",\n",
    "                \"content\": [{\"type\": \"input_text\",\n",
    "                             \"text\": text}]}]\n",
    "    )\n",
    "    \n",
    "    return response"
   ]
  },
  {
   "cell_type": "code",
   "execution_count": null,
   "id": "c05f32a4-affa-4092-96ef-a0d7744d4222",
   "metadata": {
    "tags": []
   },
   "outputs": [],
   "source": [
    "output = gpt_web_search_tool.invoke(\"What is the appearance of Hu Tao from Genshin\")"
   ]
  },
  {
   "cell_type": "code",
   "execution_count": null,
   "id": "f14d440f-bbc1-41bf-9449-5dfde75fbc24",
   "metadata": {},
   "outputs": [],
   "source": [
    "print(output.output[1].content[0].annotations)"
   ]
  },
  {
   "cell_type": "code",
   "execution_count": null,
   "id": "d5dbae50-d452-4751-9137-ed9c76b57db9",
   "metadata": {},
   "outputs": [],
   "source": [
    "print(output.output[1].content[0].text)"
   ]
  },
  {
   "cell_type": "code",
   "execution_count": null,
   "id": "6f9a6afa-cf49-4aa1-a542-1fa9ef205d27",
   "metadata": {
    "tags": []
   },
   "outputs": [],
   "source": [
    "class ACGLLMTool(BaseTool):\n",
    "\n",
    "    name: str = \"Anime character design generator\"\n",
    "    description: str = \"Use this tool to generate and explore detailed designs for anime and ACG (Animation, Comics, and Games) characters.\"\n",
    "\n",
    "    def _run(self, query: str):\n",
    "        \n",
    "        response = gpt_web_search_tool.invoke(query)\n",
    "        \n",
    "        return response.output[1].content[0].text\n",
    "\n",
    "    def _arun(self, radius: int):\n",
    "        raise NotImplementedError(\"This tool does not support async\")\n",
    "        \n",
    "        \n",
    "class ImageTool(BaseTool):\n",
    "\n",
    "    name:str = \"ACG characters image generator with GPT-Image-1\"\n",
    "\n",
    "    input_output_parser: PydanticOutputParser = PydanticOutputParser(pydantic_object=ImageInput)\n",
    "    \n",
    "    input_format_instructions: str = input_output_parser.get_format_instructions()\n",
    "\n",
    "    description_template: str = (\"Use this tool when you need to create an image\\n\\n\"\n",
    "                                 \"input format_instructions: {input_format_instructions}\")\n",
    "\n",
    "    description: str = description_template.format(input_format_instructions=input_format_instructions)\n",
    "    \n",
    "    def _run(self, query):\n",
    "        \n",
    "        input_ = self.input_output_parser.parse(query)\n",
    "        \n",
    "        image_desc = input_.image_desc\n",
    "        size = input_.size\n",
    "        quality = input_.quality\n",
    "        filename = input_.filename\n",
    "        \n",
    "        gpt_image_chain.invoke({\"image_desc\": image_desc,\n",
    "                                \"size\": size,\n",
    "                                \"quality\": quality,\n",
    "                                \"filename\": filename,\n",
    "                                \"moderation\": 'low'})\n",
    "        \n",
    "        return \"Done\"\n",
    "\n",
    "    def _arun(self, radius: int):\n",
    "        raise NotImplementedError(\"This tool does not support async\")\n",
    "\n",
    "        \n",
    "prompt_template = \"\"\"\n",
    "Answer the following questions as best you can. You have access to the following tools:\n",
    "\n",
    "{tools}\n",
    "\n",
    "Use the following format:\n",
    "\n",
    "Question: the input question you must answer\n",
    "\n",
    "Thought: you should always think about what to do\n",
    "\n",
    "Action: the action to take, should be one of [{tool_names}]\n",
    "\n",
    "Action Input: the input to the action\n",
    "\n",
    "Observation: the result of the action\n",
    "\n",
    "... (this Thought/Action/Action Input/Observation can repeat N times)\n",
    "\n",
    "Thought: I now know the final answer\n",
    "\n",
    "Final Answer: the final answer to the original input question\n",
    "\n",
    "Begin!\n",
    "\n",
    "Question: {input}\n",
    "\n",
    "Thought:{agent_scratchpad}\n",
    "\"\"\"        \n",
    "             \n",
    "prompt = PromptTemplate.from_template(prompt_template)\n",
    "\n",
    "tools = [ImageTool(), ACGLLMTool()]\n",
    "\n",
    "zero_shot_agent = create_react_agent(\n",
    "    llm=model,\n",
    "    tools=tools,\n",
    "    prompt=prompt,\n",
    ")\n",
    "\n",
    "agent_executor = AgentExecutor(agent=zero_shot_agent, tools=tools, verbose=True)"
   ]
  },
  {
   "cell_type": "code",
   "execution_count": null,
   "id": "ce8d8dfd-78c8-45b4-8292-28857e770371",
   "metadata": {
    "tags": []
   },
   "outputs": [],
   "source": [
    "agent_executor.invoke({\"input\": \"Generate an image of Hu Tao from Genshim in pastel art style\"})"
   ]
  },
  {
   "cell_type": "code",
   "execution_count": null,
   "id": "3c428fcc-e8be-45f1-8d15-9e7112fba86e",
   "metadata": {
    "tags": []
   },
   "outputs": [],
   "source": [
    "agent_executor.invoke({\"input\": \"Generate an image of Yae Miko from Genshim in impressionism oil painting style with chiaroscuro lighting.\" })"
   ]
  },
  {
   "cell_type": "markdown",
   "id": "9fabc653-5ca9-484b-a864-0b6a363ac275",
   "metadata": {},
   "source": [
    "## Audible 有聲書\n",
    "\n",
    "- 文轉語音: TTS tool\n",
    "- 文轉圖: Image tool"
   ]
  },
  {
   "cell_type": "markdown",
   "id": "0d8075d8-df6e-4320-a297-2504c5b28fbc",
   "metadata": {},
   "source": [
    "### Children Book Image Generator\n",
    "\n",
    "- Generate image according to the story"
   ]
  },
  {
   "cell_type": "code",
   "execution_count": null,
   "id": "2d168449-4550-49b8-acd2-21b4d3009efa",
   "metadata": {
    "tags": []
   },
   "outputs": [],
   "source": [
    "system_template = (\"You are a helpful AI assistant and an art expert with extensive knowledge of illustration.\\n \"\n",
    "                   \"You excel at creating Pencil and Ink Style illustrations for 6-year-old children using the GPT-Image-1 model. \"\n",
    "                   \"This style is characterized by detailed line work, often in black and white or with minimal color, and has a classic, \"\n",
    "                   \"timeless feel. For this task, you will be provided with a paragraph of a story, and you will generate a corresponding \"\n",
    "                   \"DALLE-3 prompt which captures the storyline. The prompt should be detailed and descriptive, capturing the essence of \"\n",
    "                   \"the image.\")\n",
    "\n",
    "\n",
    "system_prompt = PromptTemplate(template=system_template)\n",
    "\n",
    "# System prompt\n",
    "system_message = SystemMessagePromptTemplate(prompt=system_prompt)\n",
    "\n",
    "human_prompt = PromptTemplate(template=\"{story}\",\n",
    "                              input_variables=['story'])\n",
    "\n",
    "# Create a human message prompt template based on the prompt\n",
    "human_message = HumanMessagePromptTemplate(prompt=human_prompt)\n",
    "\n",
    "chat_prompt = ChatPromptTemplate.from_messages([system_message, human_message])\n",
    "\n",
    "nl_prompt_generation_chain = chat_prompt | model | StrOutputParser()     \n",
    "\n",
    "step_1 = RunnablePassthrough.assign(nl_prompt=itemgetter('story')|nl_prompt_generation_chain)\n",
    "step_2 = RunnablePassthrough.assign(image_base64=gpt_image_worker)\n",
    "step_3 = base64_to_file\n",
    "image_chain = step_1 | step_2 | step_3"
   ]
  },
  {
   "cell_type": "code",
   "execution_count": null,
   "id": "46f1dfda-5933-4dbb-b96f-90261db41d36",
   "metadata": {},
   "outputs": [],
   "source": [
    "# step_1 = RunnablePassthrough.assign(nl_prompt=itemgetter('image_desc')|nl_prompt_generation_chain)\n",
    "\n",
    "# # step 2: image generation process, as a base64\n",
    "# step_2 = RunnablePassthrough.assign(image_base64=dalle3_worker)\n",
    "\n",
    "# # step 3: save the image\n",
    "# step_3 = RunnableLambda(base64_to_file)\n",
    "\n",
    "# # chain step 1, step 2, step 3 together\n",
    "# dalle3_chain =  step_1|step_2|step_3"
   ]
  },
  {
   "cell_type": "markdown",
   "id": "3f2128a3-41fc-49a3-a93f-57d7d18a169e",
   "metadata": {},
   "source": [
    "- Generate the story"
   ]
  },
  {
   "cell_type": "code",
   "execution_count": null,
   "id": "797c315b-489e-4b45-b4b6-879a8e8414db",
   "metadata": {
    "tags": []
   },
   "outputs": [],
   "source": [
    "system_template = (\"You are a helpful AI assistant who likes children. You are great storyteller and know how to create content for kindergarten kids. \"\n",
    "                   \"A short chapter is created once at a time.\")\n",
    "\n",
    "system_prompt = PromptTemplate(template=system_template)\n",
    "\n",
    "# System prompt\n",
    "system_message = SystemMessagePromptTemplate(prompt=system_prompt)\n",
    "\n",
    "human_prompt = PromptTemplate(template=\"{input}\",\n",
    "                              input_variables=['input'])\n",
    "\n",
    "# Create a human message prompt template based on the prompt\n",
    "human_message = HumanMessagePromptTemplate(prompt=human_prompt)\n",
    "\n",
    "chat_prompt = ChatPromptTemplate.from_messages([system_message, human_message])\n",
    "\n",
    "story_chain = chat_prompt | model | StrOutputParser()     "
   ]
  },
  {
   "cell_type": "code",
   "execution_count": null,
   "id": "fe3cfbe6-6286-4212-8e47-31786f46b4b9",
   "metadata": {},
   "outputs": [],
   "source": [
    "story = story_chain.invoke({\"input\": \"Create a chapter of a baby owl capturing a rodent in the night as his dinner\"})"
   ]
  },
  {
   "cell_type": "code",
   "execution_count": null,
   "id": "c2f923fa-d406-482b-855b-b0e869afeada",
   "metadata": {},
   "outputs": [],
   "source": [
    "image_chain.invoke({\"story\":story,\n",
    "                    \"filename\": \"tutorial/LLM+Langchain/Week-8/story_2_image.png\"})"
   ]
  },
  {
   "cell_type": "code",
   "execution_count": null,
   "id": "e4bfecd8-484f-4c37-a9d4-09773a31b21d",
   "metadata": {
    "tags": []
   },
   "outputs": [],
   "source": [
    "import json\n",
    "\n",
    "from src.agent.react_zero_shot import prompt_template as zero_shot_prompt_template\n",
    "# from langchain_core.prompts import MessagesPlaceholder\n",
    "\n",
    "client = OpenAI(api_key=os.environ['OPENAI_API_KEY'])\n",
    "\n",
    "class TTSInput(BaseModel):\n",
    "    text: str = Field(description=(\"The story\"))\n",
    "    filename: str = Field(description=\"the location at which the audio file will be saved\")\n",
    "\n",
    "    \n",
    "class TTSTool(BaseTool):\n",
    "\n",
    "    name: str = \"Text to Sound (tts) tool\"\n",
    "\n",
    "    input_output_parser: PydanticOutputParser = PydanticOutputParser(pydantic_object=TTSInput)\n",
    "    \n",
    "    input_format_instructions: str = input_output_parser.get_format_instructions()\n",
    "\n",
    "    description_template: str = (\"Use this tool to generate an audio file of the story.\\n\"\n",
    "                                 \"input format: {input_format_instructions}.\")\n",
    "\n",
    "    description: str = description_template.format(input_format_instructions=input_format_instructions)\n",
    "\n",
    "    \n",
    "    def _run(self, text: str):\n",
    "\n",
    "        input_ = self.input_output_parser.parse(text)\n",
    "\n",
    "        text = input_.text\n",
    "        filename = input_.filename\n",
    "        response = self.tts(text)\n",
    "        \n",
    "        response.stream_to_file(filename)\n",
    "        \n",
    "        return filename\n",
    "\n",
    "    def _arun(self, radius: int):\n",
    "        raise NotImplementedError(\"This tool does not support async\")\n",
    "        \n",
    "        \n",
    "    def tts(self, text: str):\n",
    "        \n",
    "        response = client.audio.speech.create(\n",
    "          model=\"tts-1\",\n",
    "          voice=\"nova\",\n",
    "          input=text\n",
    "        )\n",
    "\n",
    "        return response\n",
    "           \n",
    "            \n",
    "prompt = PromptTemplate.from_template(zero_shot_prompt_template)\n",
    "\n",
    "tools = [TTSTool(), \n",
    "         ImageTool(),\n",
    "         Tool(name=\"StoryTeller\",\n",
    "              func=story_chain.invoke,\n",
    "              description=\"useful for create a story\",\n",
    "        )]\n",
    "\n",
    "zero_shot_agent = create_react_agent(\n",
    "    llm=model,\n",
    "    tools=tools,\n",
    "    prompt=prompt,\n",
    ")\n",
    "\n",
    "agent_executor = AgentExecutor(agent=zero_shot_agent, tools=tools, verbose=True, handle_parsing_errors=True)"
   ]
  },
  {
   "cell_type": "code",
   "execution_count": null,
   "id": "74b78a71-2bac-478a-9a4f-046bf3deba9b",
   "metadata": {
    "tags": []
   },
   "outputs": [],
   "source": [
    "prompt = (\"Create a chapter of a baby owl capturing a rodent in the night as his dinner.\\n\"\n",
    "         \"After having the final answer, please create a corresponding image and record the story as an mp3. \"\n",
    "         \"The saved image (.png) and mp3 (.mp3) should have same name in the folder `tutorial/LLM+Langchain/Week-8\")\n",
    "\n",
    "agent_executor.invoke({\"input\": prompt})"
   ]
  },
  {
   "cell_type": "code",
   "execution_count": null,
   "id": "4010c9ff-d134-4175-9564-89a140ab822a",
   "metadata": {},
   "outputs": [],
   "source": [
    "prompt = \"\"\"\n",
    "         Assuming that Harry Porter is in the world of Warhammer 40k. He still has his magical power.\n",
    "         He lives in the lower part of a Hive city. It is about the time for Tithe and the black ship is comming.\n",
    "         Describe me the fate of Harry Porter. Please keep the darkness of the world view of Warhammer 40k.\n",
    "        The saved image and mp3 should have same name in the folder `tutorial/LLM+Langchain/Week-8`\n",
    "        \"\"\"\n",
    "\n",
    "agent_executor.invoke({\"input\": prompt})"
   ]
  },
  {
   "cell_type": "markdown",
   "id": "d7613df9-de89-4546-b738-323a7cc3a9c9",
   "metadata": {},
   "source": [
    "## Can we create a story with multiple pages?\n",
    "\n",
    "I do not know the answer, let me try...\n",
    "\n",
    "4 pages to save the cost. But it can be extended."
   ]
  },
  {
   "cell_type": "code",
   "execution_count": null,
   "id": "c89f39ff-aeb8-433f-b18b-e20b622e5739",
   "metadata": {},
   "outputs": [],
   "source": [
    "prompt = \"\"\"\n",
    "         I want to create an 4 pages story for a child. He likes snow owl.\n",
    "         For each page, please create a corresponding image and record the story as an mp3.\n",
    "         After having the final answer, please create a corresponding image and record the story as an mp3. \n",
    "         The saved image and mp3 should have same name, following the structure of \n",
    "         <Page - idx>, with idx as a number starting from 1, in the folder `tutorial/LLM+Langchain/Week-8`\n",
    "         \"\"\"\n",
    "\n",
    "agent_executor.invoke({\"input\": prompt})"
   ]
  },
  {
   "cell_type": "markdown",
   "id": "65fa69d6-caac-4521-bfbc-8a914e00dd14",
   "metadata": {},
   "source": [
    "## Can we create a story in an interactive way: chat based\n",
    "\n",
    "-- Rolling back..."
   ]
  },
  {
   "cell_type": "code",
   "execution_count": null,
   "id": "fafca2e5-93fc-4a49-92c6-d0cae5664cca",
   "metadata": {},
   "outputs": [],
   "source": [
    "from langchain.prompts import PromptTemplate\n",
    "from langchain_core.runnables import RunnablePassthrough\n",
    "\n",
    "from langchain.output_parsers import StructuredOutputParser, ResponseSchema\n",
    "\n",
    "output_response_schemas = [\n",
    "        ResponseSchema(name=\"story\", description=\"the story content in the page\"),\n",
    "        ResponseSchema(name=\"page index\", description=\"The page number of the story\"),\n",
    "    ]\n",
    "\n",
    "output_parser = StructuredOutputParser.from_response_schemas(output_response_schemas)\n",
    "\n",
    "output_format_instructions = output_parser.get_format_instructions()\n",
    "\n",
    "\n",
    "template = \"\"\"\n",
    "           Create a story page {idx}, based on the description: {text}\n",
    "\n",
    "           The answer continues from previous content:\n",
    "           {context}\n",
    "\n",
    "           After having the final answer, please create a corresponding image and record the story as an mp3. \n",
    "           The saved image and mp3 should have same name, following the structure of \n",
    "           <Page - idx>, in the folder `tutorial/LLM+Langchain/Week-8`\n",
    "\n",
    "           The output should have the following format: {output_format_instruction}\n",
    "           \"\"\"\n",
    "\n",
    "prompt_template = PromptTemplate(template=template,\n",
    "                                 input_variables=[\"text\", \"context\", \"idx\"],\n",
    "                                 partial_variables={\"output_format_instruction\": output_format_instructions})\n",
    "\n",
    "agent_chain = RunnablePassthrough.assign(input=prompt_template)|agent_executor"
   ]
  },
  {
   "cell_type": "code",
   "execution_count": null,
   "id": "da0e5fb0-709c-4a51-a737-d95d949df1b8",
   "metadata": {},
   "outputs": [],
   "source": [
    "Q = agent_chain.invoke({\"text\": \"A little cat just woke up in the morning\",\n",
    "                        \"context\": \"The beginning of the story:\\n\",\n",
    "                        \"idx\": str(1)})"
   ]
  },
  {
   "cell_type": "markdown",
   "id": "5e5c5db4-a1f1-48a9-9316-4734886a4d11",
   "metadata": {},
   "source": [
    "若是以下步驟失敗，嘗試重新生成。這是大語言模型，沒有保證可以100%產出你希望的格式。我們只能盡可能提高成功輸出的機率。"
   ]
  },
  {
   "cell_type": "code",
   "execution_count": null,
   "id": "727746b3-7d2a-44cb-bc2a-65ee873aec49",
   "metadata": {},
   "outputs": [],
   "source": [
    "Q['output']"
   ]
  },
  {
   "cell_type": "code",
   "execution_count": null,
   "id": "ca4eec1e-8a56-49f5-9562-9fad0f524536",
   "metadata": {},
   "outputs": [],
   "source": [
    "output_parser.parse(Q['output'])"
   ]
  },
  {
   "cell_type": "code",
   "execution_count": null,
   "id": "a7d871f0-78aa-408e-b362-c2ec3d58f6db",
   "metadata": {},
   "outputs": [],
   "source": [
    "output_parser.parse(Q['output'])['story']"
   ]
  },
  {
   "cell_type": "code",
   "execution_count": null,
   "id": "f04b14f4-af8c-48f1-a35f-19581300062c",
   "metadata": {},
   "outputs": [],
   "source": [
    "output_parser.parse(Q['output'])['page index']"
   ]
  },
  {
   "cell_type": "markdown",
   "id": "c7173de4-9db3-4e49-bf0f-af35f2654cf9",
   "metadata": {},
   "source": [
    "### 第二頁"
   ]
  },
  {
   "cell_type": "code",
   "execution_count": null,
   "id": "77c9062a-d980-43e3-a374-aaef6f31bf77",
   "metadata": {},
   "outputs": [],
   "source": [
    "context_list = [output_parser.parse(Q['output'])['story']]\n",
    "print(context_list)"
   ]
  },
  {
   "cell_type": "code",
   "execution_count": null,
   "id": "e96840fa-af12-432a-89a8-79eadb9dcca8",
   "metadata": {},
   "outputs": [],
   "source": [
    "Q_2 = agent_chain.invoke({\"text\": \"Whisker found a dove and wanted to hunt it down!\",\n",
    "                          \"context\": \":\\n\".join(context_list),\n",
    "                          \"idx\": str(2)})"
   ]
  },
  {
   "cell_type": "code",
   "execution_count": null,
   "id": "5d9eba24-c286-4c95-95df-9d83f439e766",
   "metadata": {},
   "outputs": [],
   "source": [
    "context_list"
   ]
  },
  {
   "cell_type": "code",
   "execution_count": null,
   "id": "ddc45668-0d3a-4582-b6b7-6f8a53c06e31",
   "metadata": {},
   "outputs": [],
   "source": [
    "output_parser.parse(Q_2['output'])['story']"
   ]
  },
  {
   "cell_type": "markdown",
   "id": "cfd27823-fe18-4e44-998c-06e4629d9f67",
   "metadata": {},
   "source": [
    "### okay, it looks fine, let us see how to make it a interactive"
   ]
  },
  {
   "cell_type": "code",
   "execution_count": null,
   "id": "854b6e69-3036-45d2-9461-b17f667a3fdb",
   "metadata": {},
   "outputs": [],
   "source": [
    "# \"前情提要\"\n",
    "context_list = []\n",
    "\n",
    "# 頁面起始\n",
    "idx = 1\n",
    "\n",
    "while True:\n",
    "    if len(context_list) == 0:\n",
    "        context = \"The beginning of the story:\\n\"\n",
    "    else:\n",
    "        context = \"\\n\".join(context_list)\n",
    "\n",
    "    text = input(\"請輸入故事內容: 若想要結束 請輸入 `QUIT`\")\n",
    "\n",
    "    if text == \"QUIT\":\n",
    "        break\n",
    "    \n",
    "    Q = agent_chain.invoke({\"text\": text,\n",
    "                            \"context\": context,\n",
    "                            \"idx\": str(idx)})\n",
    "\n",
    "    story = output_parser.parse(Q['output'])['story']\n",
    "    \n",
    "    # 下一頁\n",
    "    idx += 1\n",
    "\n",
    "    context_list.append(output_parser.parse(Q['output'])['story'])"
   ]
  },
  {
   "cell_type": "code",
   "execution_count": null,
   "id": "931bc721-634e-410f-95f2-6efe391d2b61",
   "metadata": {},
   "outputs": [],
   "source": []
  }
 ],
 "metadata": {
  "kernelspec": {
   "display_name": "Python 3 (ipykernel)",
   "language": "python",
   "name": "python3"
  },
  "language_info": {
   "codemirror_mode": {
    "name": "ipython",
    "version": 3
   },
   "file_extension": ".py",
   "mimetype": "text/x-python",
   "name": "python",
   "nbconvert_exporter": "python",
   "pygments_lexer": "ipython3",
   "version": "3.10.16"
  }
 },
 "nbformat": 4,
 "nbformat_minor": 5
}
