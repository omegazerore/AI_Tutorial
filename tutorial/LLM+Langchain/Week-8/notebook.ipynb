{
 "cells": [
  {
   "cell_type": "markdown",
   "id": "1cd5f1f4-81a7-4ffb-a0e9-787048185a4e",
   "metadata": {},
   "source": [
    "# DALLE-3"
   ]
  },
  {
   "cell_type": "code",
   "execution_count": 1,
   "id": "8bdb24ce-0f79-4abb-8793-169215c36fe0",
   "metadata": {
    "tags": []
   },
   "outputs": [],
   "source": [
    "import os\n",
    "\n",
    "os.chdir(\"../../\")"
   ]
  },
  {
   "cell_type": "code",
   "execution_count": 2,
   "id": "2e2aab6e-5789-4e2a-b4d0-5919f9f0e29b",
   "metadata": {
    "tags": []
   },
   "outputs": [
    {
     "name": "stderr",
     "output_type": "stream",
     "text": [
      "C:\\Users\\MengChieh\\Miniconda3\\envs\\llm_examples\\lib\\site-packages\\langchain_core\\_api\\deprecation.py:139: LangChainDeprecationWarning: The class `ChatOpenAI` was deprecated in LangChain 0.0.10 and will be removed in 0.3.0. An updated version of the class exists in the langchain-openai package and should be used instead. To use it run `pip install -U langchain-openai` and import as `from langchain_openai import ChatOpenAI`.\n",
      "  warn_deprecated(\n"
     ]
    }
   ],
   "source": [
    "from langchain.chat_models import ChatOpenAI\n",
    "\n",
    "from src.initialization import credential_init\n",
    "\n",
    "\n",
    "credential_init()\n",
    "\n",
    "model = ChatOpenAI(openai_api_key=os.environ['OPENAI_API_KEY'],\n",
    "                   model_name=\"gpt-4o-2024-05-13\", temperature=0)"
   ]
  },
  {
   "cell_type": "markdown",
   "id": "f3a19029-f2df-49f9-9596-0c0a52149c2f",
   "metadata": {},
   "source": [
    "### OpenAI Image API Parameters:\n",
    "\n",
    "- model: dall-e-3\n",
    "- size (str): 1024x1024, 1024x1792, 1792x1024\n",
    "- quality: hd, standard\n",
    "- style: vivid, natural. Default vivid"
   ]
  },
  {
   "cell_type": "code",
   "execution_count": 3,
   "id": "da908a85-5203-43cc-8241-76eba5cc578c",
   "metadata": {
    "tags": []
   },
   "outputs": [],
   "source": [
    "from openai import OpenAI\n",
    "\n",
    "prompt = \"\"\"\n",
    "A Sumi-e style watercolor painting of mountains during sunset. The sky is depicted with bold splashes of orange, pink, and purple hues, \n",
    "blending and overlapping in a dynamic composition. The mountains are represented with expressive brushstrokes, emphasizing their majestic and serene presence. \n",
    "The focus is on capturing the essence and mood of the scene rather than detailed realism. The overall effect is serene and contemplative, with a harmonious \n",
    "balance of color and form.\n",
    "\"\"\"\n",
    "\n",
    "client = OpenAI()\n",
    "\n",
    "response = client.images.generate(\n",
    "    model=\"dall-e-3\",\n",
    "    prompt=prompt,\n",
    "    size=\"1024x1024\",\n",
    "    quality=\"hd\",\n",
    "    n=1,\n",
    "    response_format = 'b64_json'\n",
    ")\n",
    "\n",
    "image_base64 = response.data[0].b64_json"
   ]
  },
  {
   "cell_type": "markdown",
   "id": "2b255426-c09f-4a61-aaf6-bed8eafe870e",
   "metadata": {},
   "source": [
    "## Save the image in your local computer"
   ]
  },
  {
   "cell_type": "code",
   "execution_count": 4,
   "id": "0d6fc657-7688-47fe-9d2d-e9fd400cb1fa",
   "metadata": {
    "tags": []
   },
   "outputs": [],
   "source": [
    "import base64\n",
    "\n",
    "with open(\"tutorial/Week-8/test.png\", \"wb\") as fh:\n",
    "    fh.write(base64.b64decode(image_base64))"
   ]
  },
  {
   "cell_type": "markdown",
   "id": "935b95d7-b6b3-4a14-9328-a998daee4320",
   "metadata": {},
   "source": [
    "## Two Challenges:\n",
    "\n",
    "### 1. How to create prompt more efficiently? \n",
    "\n",
    "There are two types of prompt: \n",
    "\n",
    "1. Danbooru Tag: masterpiece, best quality, beautiful eyes, clear eyes, detailed eyes, Blue-eyes, 1girl, 20_old, full-body, break, smoking, break, high_color, blue-hair, beauty, black-boots,break, break, Flat vector art, Colorful art, white_shirt, simple_background, blue_background, Ink art, peeking out upper body, Eyes\n",
    "\n",
    "2. Natural language: A Sumi-e style watercolor painting of mountains during sunset. The sky is depicted with bold splashes of orange, pink, and purple hues, blending and overlapping in a dynamic composition. The mountains are represented with expressive brushstrokes,emphasizing their majestic and serene presence. The focus is on capturing the essence and mood of the scene rather than detailed realism. The overall effect is serene and contemplative, with a harmonious balance of color and form.\n",
    "\n",
    "As non-native English speakers, we find the natural language prompt challenging, even for native speakers, due to the inclusion of specialized terminologies and advanced vocabulary.\n",
    "\n",
    "由於涉及專業術語和高級詞彙，我們作為非母語英語使用者，發現這個自然語言提示對我們來說是具有挑戰性的，即使對母語使用者來說也是如此。\n",
    "\n",
    "### 2. How to make it an LCEL?"
   ]
  },
  {
   "cell_type": "markdown",
   "id": "76e4d43a-4fd3-45a7-a51c-ced9cf9902f9",
   "metadata": {},
   "source": [
    "## Some websites for natural language prompt\n",
    "\n",
    "- https://leonardo.ai/: An Image generation SaaS. A lot of works are created with natural language prompt. \n",
    "- https://blog.mlq.ai/dalle-prompts/: Some tutorial about how to come up with a natural language prompt."
   ]
  },
  {
   "cell_type": "markdown",
   "id": "73124c68-8452-4711-a72e-e097f6256d16",
   "metadata": {},
   "source": [
    "### Natural Language Prompt Generation"
   ]
  },
  {
   "cell_type": "code",
   "execution_count": 5,
   "id": "3b6deea0-76c1-4f46-93bd-df0da355877d",
   "metadata": {
    "tags": []
   },
   "outputs": [],
   "source": [
    "from langchain.prompts import PromptTemplate, ChatPromptTemplate, HumanMessagePromptTemplate, SystemMessagePromptTemplate\n",
    "from langchain_core.output_parsers import StrOutputParser\n",
    "\n",
    "\n",
    "system_prompt = PromptTemplate.from_template('''You are a helpful AI assistant and an art expert with extensive knowledge of photography and illustration. \n",
    "You excel at creating breathtaking masterpieces with the DALLE-3 model. For this task, you will be provided with a description of an image, and you will \n",
    "generate a corresponding DALLE-3 prompt. The prompt should be detailed and descriptive, capturing the essence of the image. The length of the prompt should be \n",
    "around 100-500 tokens.''')\n",
    "\n",
    "# System prompt\n",
    "system_message = SystemMessagePromptTemplate(prompt=system_prompt)\n",
    "\n",
    "human_prompt = PromptTemplate(template=\"{image_desc}\",\n",
    "                              input_variables=['image_desc'])\n",
    "\n",
    "# Create a human message prompt template based on the prompt\n",
    "human_message = HumanMessagePromptTemplate(prompt=human_prompt)\n",
    "\n",
    "chat_prompt = ChatPromptTemplate.from_messages([system_message, human_message])\n",
    "\n",
    "nl_prompt_generation_chain = chat_prompt | model | StrOutputParser()"
   ]
  },
  {
   "cell_type": "markdown",
   "id": "82110d0e-4ef4-4191-b20e-5f2671dfad92",
   "metadata": {},
   "source": [
    "## We wrap OPENAI API call as a function for the langchain usage "
   ]
  },
  {
   "cell_type": "code",
   "execution_count": 6,
   "id": "b90024c5-67a6-43cf-a64a-757de94ef808",
   "metadata": {
    "tags": []
   },
   "outputs": [],
   "source": [
    "from typing import Dict\n",
    "\n",
    "\n",
    "def dalle3_worker(kwargs: Dict):\n",
    "\n",
    "    \"\"\"\n",
    "    Generates an image using OpenAI's DALL-E 3 model based on the provided prompt and optional parameters.\n",
    "    \n",
    "    Parameters:\n",
    "    kwargs (Dict): A dictionary containing the following keys:\n",
    "        - 'nl_prompt' (str): The natural language prompt describing the image to be generated.\n",
    "        - 'size' (str, optional): The size of the generated image. Default is \"1024x1024\".\n",
    "        - 'quality' (str, optional): The quality of the generated image. Default is \"standard\".\n",
    "        - 'style' (str, optional): The style of the generated image. Default is \"vivid\".\n",
    "    \n",
    "    Returns:\n",
    "    str: The URL of the generated image.\n",
    "    \n",
    "    Example:\n",
    "    >>> kwargs = {\n",
    "    ...     \"nl_prompt\": \"A futuristic city skyline at sunset\",\n",
    "    ...     \"size\": \"1024x1024\",\n",
    "    ...     \"quality\": \"high\",\n",
    "    ...     \"style\": \"photorealistic\"\n",
    "    ... }\n",
    "    >>> image_base64 = dalle3_worker(kwargs)\n",
    "    Start generating image...\n",
    "    prompt: A futuristic city skyline at sunset\n",
    "    generated_image: https://example.com/generated_image.png\n",
    "    >>> print(image_base64)\n",
    "    https://example.com/generated_image.png\n",
    "    \"\"\"\n",
    "    \n",
    "    print(\"Start generating image...\")\n",
    "    print(f\"prompt: {kwargs['nl_prompt']}\")\n",
    "    client = OpenAI()\n",
    "\n",
    "    response = client.images.generate(\n",
    "        model=\"dall-e-3\",\n",
    "        prompt=kwargs['nl_prompt'],\n",
    "        size=kwargs.get(\"size\", \"1024x1024\"),\n",
    "        quality=kwargs.get('quality', 'standard'),\n",
    "        style=kwargs.get('style', 'vivid'),\n",
    "        n=1,\n",
    "        response_format = 'b64_json')\n",
    "\n",
    "    image_base64 = response.data[0].b64_json\n",
    "\n",
    "    print(\"Image is generated succesfully.\")\n",
    "    \n",
    "    return image_base64\n",
    "\n",
    "\n",
    "def base64_to_file(kwargs):\n",
    "\n",
    "    \"\"\"\n",
    "    Save the image from a base64 string\n",
    "    \"\"\"\n",
    "    \n",
    "    image_base64 = kwargs['image_base64']\n",
    "    filename = kwargs['filename']\n",
    "    \n",
    "    with open(f\"{filename}\", \"wb\") as fh:\n",
    "        fh.write(base64.b64decode(image_base64))\n",
    "    "
   ]
  },
  {
   "cell_type": "code",
   "execution_count": 7,
   "id": "af60ca67-f323-49d6-a154-63c190060199",
   "metadata": {
    "tags": []
   },
   "outputs": [],
   "source": [
    "from operator import itemgetter\n",
    "\n",
    "from langchain_core.runnables import RunnableLambda, RunnableParallel, RunnablePassthrough\n",
    "\n",
    "# step 1: create the image prompt\n",
    "step_1 = RunnablePassthrough.assign(nl_prompt=itemgetter('image_desc')|nl_prompt_generation_chain)\n",
    "\n",
    "# step 2: image generation process, as a base64\n",
    "step_2 = RunnablePassthrough.assign(image_base64=dalle3_worker)\n",
    "\n",
    "# step 3: save the image\n",
    "step_3 = RunnableLambda(base64_to_file)\n",
    "\n",
    "# chain step 1, step 2, step 3 together\n",
    "dalle3_chain =  step_1|step_2|step_3"
   ]
  },
  {
   "cell_type": "code",
   "execution_count": 8,
   "id": "51ab41f1-eeec-46ae-8e27-0a1f42facfe4",
   "metadata": {
    "tags": []
   },
   "outputs": [
    {
     "name": "stdout",
     "output_type": "stream",
     "text": [
      "Start generating image...\n",
      "prompt: Create a stunning flat vector art masterpiece featuring a 20-year-old woman with striking blue eyes and detailed, clear eyes. She has vibrant blue hair and is depicted in a full-body pose, taking a break and smoking. The scene is colorful and high in contrast, with the woman wearing a white shirt and black boots. The background is simple and blue, allowing the subject to stand out. The art style is a blend of flat vector and ink art, with a focus on the beauty and expressiveness of her eyes. The composition includes a portrait-like peeking out of her upper body, emphasizing her beautiful eyes and serene expression.\n",
      "Image is generated succesfully.\n"
     ]
    }
   ],
   "source": [
    "dalle3_chain.invoke({\"size\": \"1024x1792\",\n",
    "                     \"quality\": \"hd\",\n",
    "                     \"image_desc\": \"\"\"\n",
    "                                     masterpiece, best quality, beautiful eyes, clear eyes, detailed eyes, Blue-eyes, 1girl, 20_old, full-body, \n",
    "                                     break, smoking, break, high_color, blue-hair, beauty, black-boots,break, break, Flat vector art, Colorful art, white_shirt, \n",
    "                                     simple_background, blue_background, Ink art,peeking out upper body,Eyes, portrait\n",
    "                                     \"\"\",\n",
    "                     \n",
    "                     \"filename\": \"tutorial/Week-8/test_01.png\"\n",
    "                    })"
   ]
  },
  {
   "cell_type": "code",
   "execution_count": 9,
   "id": "96429327-2750-4094-804c-693aab9a0217",
   "metadata": {
    "tags": []
   },
   "outputs": [
    {
     "name": "stdout",
     "output_type": "stream",
     "text": [
      "Start generating image...\n",
      "prompt: A pencil sketch of an ethereal and glamorously beautiful 17-year-old girl with a perfect model body, captured from above in a coffee shop. She has striking black fox ears with fluffy fur, a black fox tail, and long black hair with red inner highlights. Her hair is adorned with a delicate ornament, and she wears a magatama necklace. Her outfit is a meticulously designed black short kimono with fur trim, featuring wide, long sleeves and an off-shoulder style. The kimono is paired with an obi and a miniskirt, and she also wears a cat collar. The girl is holding a donut and eating it, with a large cup of coffee on the table in front of her. The sketch is rendered with perfect and intricate detail, capturing the beauty and aesthetic of the scene, making it a true masterpiece.\n"
     ]
    },
    {
     "ename": "BadRequestError",
     "evalue": "Error code: 400 - {'error': {'code': 'content_policy_violation', 'message': 'This request has been blocked by our content filters.', 'param': None, 'type': 'invalid_request_error'}}",
     "output_type": "error",
     "traceback": [
      "\u001b[1;31m---------------------------------------------------------------------------\u001b[0m",
      "\u001b[1;31mBadRequestError\u001b[0m                           Traceback (most recent call last)",
      "Cell \u001b[1;32mIn[9], line 1\u001b[0m\n\u001b[1;32m----> 1\u001b[0m \u001b[43mdalle3_chain\u001b[49m\u001b[38;5;241;43m.\u001b[39;49m\u001b[43minvoke\u001b[49m\u001b[43m(\u001b[49m\u001b[43m{\u001b[49m\u001b[38;5;124;43m\"\u001b[39;49m\u001b[38;5;124;43msize\u001b[39;49m\u001b[38;5;124;43m\"\u001b[39;49m\u001b[43m:\u001b[49m\u001b[43m \u001b[49m\u001b[38;5;124;43m\"\u001b[39;49m\u001b[38;5;124;43m1024x1792\u001b[39;49m\u001b[38;5;124;43m\"\u001b[39;49m\u001b[43m,\u001b[49m\n\u001b[0;32m      2\u001b[0m \u001b[43m                     \u001b[49m\u001b[38;5;124;43m\"\u001b[39;49m\u001b[38;5;124;43mquality\u001b[39;49m\u001b[38;5;124;43m\"\u001b[39;49m\u001b[43m:\u001b[49m\u001b[43m \u001b[49m\u001b[38;5;124;43m\"\u001b[39;49m\u001b[38;5;124;43mhd\u001b[39;49m\u001b[38;5;124;43m\"\u001b[39;49m\u001b[43m,\u001b[49m\n\u001b[0;32m      3\u001b[0m \u001b[43m                     \u001b[49m\u001b[38;5;124;43m\"\u001b[39;49m\u001b[38;5;124;43mimage_desc\u001b[39;49m\u001b[38;5;124;43m\"\u001b[39;49m\u001b[43m:\u001b[49m\u001b[43m \u001b[49m\u001b[38;5;124;43m\"\"\"\u001b[39;49m\n\u001b[0;32m      4\u001b[0m \u001b[38;5;124;43m                                 close-up portrait, black fox ears, animal ear fluff, black fox tail, black hair, red inner hair, hair ornament, \u001b[39;49m\n\u001b[0;32m      5\u001b[0m \u001b[38;5;124;43m                                 magatama necklace, fur trim, black short kimono, exquisite design, cat_collar, off-shoulder,wide sleeves, \u001b[39;49m\n\u001b[0;32m      6\u001b[0m \u001b[38;5;124;43m                                 long sleeves, obi, miniskirt, perfect model body, a 17-years-old ethereal and glamorously beautiful girl, from above, \u001b[39;49m\n\u001b[0;32m      7\u001b[0m \u001b[38;5;124;43m                                 eating donut, holding a donut, a large cup of coffee on table, in a coffee shop, pencil sketch, perfect detail, intricate detail, \u001b[39;49m\n\u001b[0;32m      8\u001b[0m \u001b[38;5;124;43m                                 masterpiece, best quality, beauty & aesthetic, sketch\u001b[39;49m\n\u001b[0;32m      9\u001b[0m \u001b[38;5;124;43m                                 \u001b[39;49m\u001b[38;5;124;43m\"\"\"\u001b[39;49m\u001b[43m,\u001b[49m\n\u001b[0;32m     10\u001b[0m \u001b[43m                     \u001b[49m\u001b[38;5;124;43m\"\u001b[39;49m\u001b[38;5;124;43mfilename\u001b[39;49m\u001b[38;5;124;43m\"\u001b[39;49m\u001b[43m:\u001b[49m\u001b[43m \u001b[49m\u001b[38;5;124;43m\"\u001b[39;49m\u001b[38;5;124;43mtutorial/Week-8/test_02.png\u001b[39;49m\u001b[38;5;124;43m\"\u001b[39;49m\n\u001b[0;32m     11\u001b[0m \u001b[43m                    \u001b[49m\u001b[43m}\u001b[49m\u001b[43m)\u001b[49m\n",
      "File \u001b[1;32m~\\Miniconda3\\envs\\llm_examples\\lib\\site-packages\\langchain_core\\runnables\\base.py:2504\u001b[0m, in \u001b[0;36mRunnableSequence.invoke\u001b[1;34m(self, input, config, **kwargs)\u001b[0m\n\u001b[0;32m   2502\u001b[0m             \u001b[38;5;28minput\u001b[39m \u001b[38;5;241m=\u001b[39m step\u001b[38;5;241m.\u001b[39minvoke(\u001b[38;5;28minput\u001b[39m, config, \u001b[38;5;241m*\u001b[39m\u001b[38;5;241m*\u001b[39mkwargs)\n\u001b[0;32m   2503\u001b[0m         \u001b[38;5;28;01melse\u001b[39;00m:\n\u001b[1;32m-> 2504\u001b[0m             \u001b[38;5;28minput\u001b[39m \u001b[38;5;241m=\u001b[39m \u001b[43mstep\u001b[49m\u001b[38;5;241;43m.\u001b[39;49m\u001b[43minvoke\u001b[49m\u001b[43m(\u001b[49m\u001b[38;5;28;43minput\u001b[39;49m\u001b[43m,\u001b[49m\u001b[43m \u001b[49m\u001b[43mconfig\u001b[49m\u001b[43m)\u001b[49m\n\u001b[0;32m   2505\u001b[0m \u001b[38;5;66;03m# finish the root run\u001b[39;00m\n\u001b[0;32m   2506\u001b[0m \u001b[38;5;28;01mexcept\u001b[39;00m \u001b[38;5;167;01mBaseException\u001b[39;00m \u001b[38;5;28;01mas\u001b[39;00m e:\n",
      "File \u001b[1;32m~\\Miniconda3\\envs\\llm_examples\\lib\\site-packages\\langchain_core\\runnables\\passthrough.py:469\u001b[0m, in \u001b[0;36mRunnableAssign.invoke\u001b[1;34m(self, input, config, **kwargs)\u001b[0m\n\u001b[0;32m    463\u001b[0m \u001b[38;5;28;01mdef\u001b[39;00m \u001b[38;5;21minvoke\u001b[39m(\n\u001b[0;32m    464\u001b[0m     \u001b[38;5;28mself\u001b[39m,\n\u001b[0;32m    465\u001b[0m     \u001b[38;5;28minput\u001b[39m: Dict[\u001b[38;5;28mstr\u001b[39m, Any],\n\u001b[0;32m    466\u001b[0m     config: Optional[RunnableConfig] \u001b[38;5;241m=\u001b[39m \u001b[38;5;28;01mNone\u001b[39;00m,\n\u001b[0;32m    467\u001b[0m     \u001b[38;5;241m*\u001b[39m\u001b[38;5;241m*\u001b[39mkwargs: Any,\n\u001b[0;32m    468\u001b[0m ) \u001b[38;5;241m-\u001b[39m\u001b[38;5;241m>\u001b[39m Dict[\u001b[38;5;28mstr\u001b[39m, Any]:\n\u001b[1;32m--> 469\u001b[0m     \u001b[38;5;28;01mreturn\u001b[39;00m \u001b[38;5;28mself\u001b[39m\u001b[38;5;241m.\u001b[39m_call_with_config(\u001b[38;5;28mself\u001b[39m\u001b[38;5;241m.\u001b[39m_invoke, \u001b[38;5;28minput\u001b[39m, config, \u001b[38;5;241m*\u001b[39m\u001b[38;5;241m*\u001b[39mkwargs)\n",
      "File \u001b[1;32m~\\Miniconda3\\envs\\llm_examples\\lib\\site-packages\\langchain_core\\runnables\\base.py:1598\u001b[0m, in \u001b[0;36mRunnable._call_with_config\u001b[1;34m(self, func, input, config, run_type, **kwargs)\u001b[0m\n\u001b[0;32m   1594\u001b[0m     context \u001b[38;5;241m=\u001b[39m copy_context()\n\u001b[0;32m   1595\u001b[0m     context\u001b[38;5;241m.\u001b[39mrun(_set_config_context, child_config)\n\u001b[0;32m   1596\u001b[0m     output \u001b[38;5;241m=\u001b[39m cast(\n\u001b[0;32m   1597\u001b[0m         Output,\n\u001b[1;32m-> 1598\u001b[0m         context\u001b[38;5;241m.\u001b[39mrun(\n\u001b[0;32m   1599\u001b[0m             call_func_with_variable_args,  \u001b[38;5;66;03m# type: ignore[arg-type]\u001b[39;00m\n\u001b[0;32m   1600\u001b[0m             func,  \u001b[38;5;66;03m# type: ignore[arg-type]\u001b[39;00m\n\u001b[0;32m   1601\u001b[0m             \u001b[38;5;28minput\u001b[39m,  \u001b[38;5;66;03m# type: ignore[arg-type]\u001b[39;00m\n\u001b[0;32m   1602\u001b[0m             config,\n\u001b[0;32m   1603\u001b[0m             run_manager,\n\u001b[0;32m   1604\u001b[0m             \u001b[38;5;241m*\u001b[39m\u001b[38;5;241m*\u001b[39mkwargs,\n\u001b[0;32m   1605\u001b[0m         ),\n\u001b[0;32m   1606\u001b[0m     )\n\u001b[0;32m   1607\u001b[0m \u001b[38;5;28;01mexcept\u001b[39;00m \u001b[38;5;167;01mBaseException\u001b[39;00m \u001b[38;5;28;01mas\u001b[39;00m e:\n\u001b[0;32m   1608\u001b[0m     run_manager\u001b[38;5;241m.\u001b[39mon_chain_error(e)\n",
      "File \u001b[1;32m~\\Miniconda3\\envs\\llm_examples\\lib\\site-packages\\langchain_core\\runnables\\config.py:380\u001b[0m, in \u001b[0;36mcall_func_with_variable_args\u001b[1;34m(func, input, config, run_manager, **kwargs)\u001b[0m\n\u001b[0;32m    378\u001b[0m \u001b[38;5;28;01mif\u001b[39;00m run_manager \u001b[38;5;129;01mis\u001b[39;00m \u001b[38;5;129;01mnot\u001b[39;00m \u001b[38;5;28;01mNone\u001b[39;00m \u001b[38;5;129;01mand\u001b[39;00m accepts_run_manager(func):\n\u001b[0;32m    379\u001b[0m     kwargs[\u001b[38;5;124m\"\u001b[39m\u001b[38;5;124mrun_manager\u001b[39m\u001b[38;5;124m\"\u001b[39m] \u001b[38;5;241m=\u001b[39m run_manager\n\u001b[1;32m--> 380\u001b[0m \u001b[38;5;28;01mreturn\u001b[39;00m func(\u001b[38;5;28minput\u001b[39m, \u001b[38;5;241m*\u001b[39m\u001b[38;5;241m*\u001b[39mkwargs)\n",
      "File \u001b[1;32m~\\Miniconda3\\envs\\llm_examples\\lib\\site-packages\\langchain_core\\runnables\\passthrough.py:456\u001b[0m, in \u001b[0;36mRunnableAssign._invoke\u001b[1;34m(self, input, run_manager, config, **kwargs)\u001b[0m\n\u001b[0;32m    443\u001b[0m \u001b[38;5;28;01mdef\u001b[39;00m \u001b[38;5;21m_invoke\u001b[39m(\n\u001b[0;32m    444\u001b[0m     \u001b[38;5;28mself\u001b[39m,\n\u001b[0;32m    445\u001b[0m     \u001b[38;5;28minput\u001b[39m: Dict[\u001b[38;5;28mstr\u001b[39m, Any],\n\u001b[1;32m   (...)\u001b[0m\n\u001b[0;32m    448\u001b[0m     \u001b[38;5;241m*\u001b[39m\u001b[38;5;241m*\u001b[39mkwargs: Any,\n\u001b[0;32m    449\u001b[0m ) \u001b[38;5;241m-\u001b[39m\u001b[38;5;241m>\u001b[39m Dict[\u001b[38;5;28mstr\u001b[39m, Any]:\n\u001b[0;32m    450\u001b[0m     \u001b[38;5;28;01massert\u001b[39;00m \u001b[38;5;28misinstance\u001b[39m(\n\u001b[0;32m    451\u001b[0m         \u001b[38;5;28minput\u001b[39m, \u001b[38;5;28mdict\u001b[39m\n\u001b[0;32m    452\u001b[0m     ), \u001b[38;5;124m\"\u001b[39m\u001b[38;5;124mThe input to RunnablePassthrough.assign() must be a dict.\u001b[39m\u001b[38;5;124m\"\u001b[39m\n\u001b[0;32m    454\u001b[0m     \u001b[38;5;28;01mreturn\u001b[39;00m {\n\u001b[0;32m    455\u001b[0m         \u001b[38;5;241m*\u001b[39m\u001b[38;5;241m*\u001b[39m\u001b[38;5;28minput\u001b[39m,\n\u001b[1;32m--> 456\u001b[0m         \u001b[38;5;241m*\u001b[39m\u001b[38;5;241m*\u001b[39m\u001b[38;5;28mself\u001b[39m\u001b[38;5;241m.\u001b[39mmapper\u001b[38;5;241m.\u001b[39minvoke(\n\u001b[0;32m    457\u001b[0m             \u001b[38;5;28minput\u001b[39m,\n\u001b[0;32m    458\u001b[0m             patch_config(config, callbacks\u001b[38;5;241m=\u001b[39mrun_manager\u001b[38;5;241m.\u001b[39mget_child()),\n\u001b[0;32m    459\u001b[0m             \u001b[38;5;241m*\u001b[39m\u001b[38;5;241m*\u001b[39mkwargs,\n\u001b[0;32m    460\u001b[0m         ),\n\u001b[0;32m    461\u001b[0m     }\n",
      "File \u001b[1;32m~\\Miniconda3\\envs\\llm_examples\\lib\\site-packages\\langchain_core\\runnables\\base.py:3149\u001b[0m, in \u001b[0;36mRunnableParallel.invoke\u001b[1;34m(self, input, config)\u001b[0m\n\u001b[0;32m   3136\u001b[0m     \u001b[38;5;28;01mwith\u001b[39;00m get_executor_for_config(config) \u001b[38;5;28;01mas\u001b[39;00m executor:\n\u001b[0;32m   3137\u001b[0m         futures \u001b[38;5;241m=\u001b[39m [\n\u001b[0;32m   3138\u001b[0m             executor\u001b[38;5;241m.\u001b[39msubmit(\n\u001b[0;32m   3139\u001b[0m                 step\u001b[38;5;241m.\u001b[39minvoke,\n\u001b[1;32m   (...)\u001b[0m\n\u001b[0;32m   3147\u001b[0m             \u001b[38;5;28;01mfor\u001b[39;00m key, step \u001b[38;5;129;01min\u001b[39;00m steps\u001b[38;5;241m.\u001b[39mitems()\n\u001b[0;32m   3148\u001b[0m         ]\n\u001b[1;32m-> 3149\u001b[0m         output \u001b[38;5;241m=\u001b[39m {key: future\u001b[38;5;241m.\u001b[39mresult() \u001b[38;5;28;01mfor\u001b[39;00m key, future \u001b[38;5;129;01min\u001b[39;00m \u001b[38;5;28mzip\u001b[39m(steps, futures)}\n\u001b[0;32m   3150\u001b[0m \u001b[38;5;66;03m# finish the root run\u001b[39;00m\n\u001b[0;32m   3151\u001b[0m \u001b[38;5;28;01mexcept\u001b[39;00m \u001b[38;5;167;01mBaseException\u001b[39;00m \u001b[38;5;28;01mas\u001b[39;00m e:\n",
      "File \u001b[1;32m~\\Miniconda3\\envs\\llm_examples\\lib\\site-packages\\langchain_core\\runnables\\base.py:3149\u001b[0m, in \u001b[0;36m<dictcomp>\u001b[1;34m(.0)\u001b[0m\n\u001b[0;32m   3136\u001b[0m     \u001b[38;5;28;01mwith\u001b[39;00m get_executor_for_config(config) \u001b[38;5;28;01mas\u001b[39;00m executor:\n\u001b[0;32m   3137\u001b[0m         futures \u001b[38;5;241m=\u001b[39m [\n\u001b[0;32m   3138\u001b[0m             executor\u001b[38;5;241m.\u001b[39msubmit(\n\u001b[0;32m   3139\u001b[0m                 step\u001b[38;5;241m.\u001b[39minvoke,\n\u001b[1;32m   (...)\u001b[0m\n\u001b[0;32m   3147\u001b[0m             \u001b[38;5;28;01mfor\u001b[39;00m key, step \u001b[38;5;129;01min\u001b[39;00m steps\u001b[38;5;241m.\u001b[39mitems()\n\u001b[0;32m   3148\u001b[0m         ]\n\u001b[1;32m-> 3149\u001b[0m         output \u001b[38;5;241m=\u001b[39m {key: \u001b[43mfuture\u001b[49m\u001b[38;5;241;43m.\u001b[39;49m\u001b[43mresult\u001b[49m\u001b[43m(\u001b[49m\u001b[43m)\u001b[49m \u001b[38;5;28;01mfor\u001b[39;00m key, future \u001b[38;5;129;01min\u001b[39;00m \u001b[38;5;28mzip\u001b[39m(steps, futures)}\n\u001b[0;32m   3150\u001b[0m \u001b[38;5;66;03m# finish the root run\u001b[39;00m\n\u001b[0;32m   3151\u001b[0m \u001b[38;5;28;01mexcept\u001b[39;00m \u001b[38;5;167;01mBaseException\u001b[39;00m \u001b[38;5;28;01mas\u001b[39;00m e:\n",
      "File \u001b[1;32m~\\Miniconda3\\envs\\llm_examples\\lib\\concurrent\\futures\\_base.py:458\u001b[0m, in \u001b[0;36mFuture.result\u001b[1;34m(self, timeout)\u001b[0m\n\u001b[0;32m    456\u001b[0m     \u001b[38;5;28;01mraise\u001b[39;00m CancelledError()\n\u001b[0;32m    457\u001b[0m \u001b[38;5;28;01melif\u001b[39;00m \u001b[38;5;28mself\u001b[39m\u001b[38;5;241m.\u001b[39m_state \u001b[38;5;241m==\u001b[39m FINISHED:\n\u001b[1;32m--> 458\u001b[0m     \u001b[38;5;28;01mreturn\u001b[39;00m \u001b[38;5;28;43mself\u001b[39;49m\u001b[38;5;241;43m.\u001b[39;49m\u001b[43m__get_result\u001b[49m\u001b[43m(\u001b[49m\u001b[43m)\u001b[49m\n\u001b[0;32m    459\u001b[0m \u001b[38;5;28;01melse\u001b[39;00m:\n\u001b[0;32m    460\u001b[0m     \u001b[38;5;28;01mraise\u001b[39;00m \u001b[38;5;167;01mTimeoutError\u001b[39;00m()\n",
      "File \u001b[1;32m~\\Miniconda3\\envs\\llm_examples\\lib\\concurrent\\futures\\_base.py:403\u001b[0m, in \u001b[0;36mFuture.__get_result\u001b[1;34m(self)\u001b[0m\n\u001b[0;32m    401\u001b[0m \u001b[38;5;28;01mif\u001b[39;00m \u001b[38;5;28mself\u001b[39m\u001b[38;5;241m.\u001b[39m_exception:\n\u001b[0;32m    402\u001b[0m     \u001b[38;5;28;01mtry\u001b[39;00m:\n\u001b[1;32m--> 403\u001b[0m         \u001b[38;5;28;01mraise\u001b[39;00m \u001b[38;5;28mself\u001b[39m\u001b[38;5;241m.\u001b[39m_exception\n\u001b[0;32m    404\u001b[0m     \u001b[38;5;28;01mfinally\u001b[39;00m:\n\u001b[0;32m    405\u001b[0m         \u001b[38;5;66;03m# Break a reference cycle with the exception in self._exception\u001b[39;00m\n\u001b[0;32m    406\u001b[0m         \u001b[38;5;28mself\u001b[39m \u001b[38;5;241m=\u001b[39m \u001b[38;5;28;01mNone\u001b[39;00m\n",
      "File \u001b[1;32m~\\Miniconda3\\envs\\llm_examples\\lib\\concurrent\\futures\\thread.py:58\u001b[0m, in \u001b[0;36m_WorkItem.run\u001b[1;34m(self)\u001b[0m\n\u001b[0;32m     55\u001b[0m     \u001b[38;5;28;01mreturn\u001b[39;00m\n\u001b[0;32m     57\u001b[0m \u001b[38;5;28;01mtry\u001b[39;00m:\n\u001b[1;32m---> 58\u001b[0m     result \u001b[38;5;241m=\u001b[39m \u001b[38;5;28mself\u001b[39m\u001b[38;5;241m.\u001b[39mfn(\u001b[38;5;241m*\u001b[39m\u001b[38;5;28mself\u001b[39m\u001b[38;5;241m.\u001b[39margs, \u001b[38;5;241m*\u001b[39m\u001b[38;5;241m*\u001b[39m\u001b[38;5;28mself\u001b[39m\u001b[38;5;241m.\u001b[39mkwargs)\n\u001b[0;32m     59\u001b[0m \u001b[38;5;28;01mexcept\u001b[39;00m \u001b[38;5;167;01mBaseException\u001b[39;00m \u001b[38;5;28;01mas\u001b[39;00m exc:\n\u001b[0;32m     60\u001b[0m     \u001b[38;5;28mself\u001b[39m\u001b[38;5;241m.\u001b[39mfuture\u001b[38;5;241m.\u001b[39mset_exception(exc)\n",
      "File \u001b[1;32m~\\Miniconda3\\envs\\llm_examples\\lib\\site-packages\\langchain_core\\runnables\\base.py:3976\u001b[0m, in \u001b[0;36mRunnableLambda.invoke\u001b[1;34m(self, input, config, **kwargs)\u001b[0m\n\u001b[0;32m   3974\u001b[0m \u001b[38;5;250m\u001b[39m\u001b[38;5;124;03m\"\"\"Invoke this runnable synchronously.\"\"\"\u001b[39;00m\n\u001b[0;32m   3975\u001b[0m \u001b[38;5;28;01mif\u001b[39;00m \u001b[38;5;28mhasattr\u001b[39m(\u001b[38;5;28mself\u001b[39m, \u001b[38;5;124m\"\u001b[39m\u001b[38;5;124mfunc\u001b[39m\u001b[38;5;124m\"\u001b[39m):\n\u001b[1;32m-> 3976\u001b[0m     \u001b[38;5;28;01mreturn\u001b[39;00m \u001b[38;5;28mself\u001b[39m\u001b[38;5;241m.\u001b[39m_call_with_config(\n\u001b[0;32m   3977\u001b[0m         \u001b[38;5;28mself\u001b[39m\u001b[38;5;241m.\u001b[39m_invoke,\n\u001b[0;32m   3978\u001b[0m         \u001b[38;5;28minput\u001b[39m,\n\u001b[0;32m   3979\u001b[0m         \u001b[38;5;28mself\u001b[39m\u001b[38;5;241m.\u001b[39m_config(config, \u001b[38;5;28mself\u001b[39m\u001b[38;5;241m.\u001b[39mfunc),\n\u001b[0;32m   3980\u001b[0m         \u001b[38;5;241m*\u001b[39m\u001b[38;5;241m*\u001b[39mkwargs,\n\u001b[0;32m   3981\u001b[0m     )\n\u001b[0;32m   3982\u001b[0m \u001b[38;5;28;01melse\u001b[39;00m:\n\u001b[0;32m   3983\u001b[0m     \u001b[38;5;28;01mraise\u001b[39;00m \u001b[38;5;167;01mTypeError\u001b[39;00m(\n\u001b[0;32m   3984\u001b[0m         \u001b[38;5;124m\"\u001b[39m\u001b[38;5;124mCannot invoke a coroutine function synchronously.\u001b[39m\u001b[38;5;124m\"\u001b[39m\n\u001b[0;32m   3985\u001b[0m         \u001b[38;5;124m\"\u001b[39m\u001b[38;5;124mUse `ainvoke` instead.\u001b[39m\u001b[38;5;124m\"\u001b[39m\n\u001b[0;32m   3986\u001b[0m     )\n",
      "File \u001b[1;32m~\\Miniconda3\\envs\\llm_examples\\lib\\site-packages\\langchain_core\\runnables\\base.py:1598\u001b[0m, in \u001b[0;36mRunnable._call_with_config\u001b[1;34m(self, func, input, config, run_type, **kwargs)\u001b[0m\n\u001b[0;32m   1594\u001b[0m     context \u001b[38;5;241m=\u001b[39m copy_context()\n\u001b[0;32m   1595\u001b[0m     context\u001b[38;5;241m.\u001b[39mrun(_set_config_context, child_config)\n\u001b[0;32m   1596\u001b[0m     output \u001b[38;5;241m=\u001b[39m cast(\n\u001b[0;32m   1597\u001b[0m         Output,\n\u001b[1;32m-> 1598\u001b[0m         context\u001b[38;5;241m.\u001b[39mrun(\n\u001b[0;32m   1599\u001b[0m             call_func_with_variable_args,  \u001b[38;5;66;03m# type: ignore[arg-type]\u001b[39;00m\n\u001b[0;32m   1600\u001b[0m             func,  \u001b[38;5;66;03m# type: ignore[arg-type]\u001b[39;00m\n\u001b[0;32m   1601\u001b[0m             \u001b[38;5;28minput\u001b[39m,  \u001b[38;5;66;03m# type: ignore[arg-type]\u001b[39;00m\n\u001b[0;32m   1602\u001b[0m             config,\n\u001b[0;32m   1603\u001b[0m             run_manager,\n\u001b[0;32m   1604\u001b[0m             \u001b[38;5;241m*\u001b[39m\u001b[38;5;241m*\u001b[39mkwargs,\n\u001b[0;32m   1605\u001b[0m         ),\n\u001b[0;32m   1606\u001b[0m     )\n\u001b[0;32m   1607\u001b[0m \u001b[38;5;28;01mexcept\u001b[39;00m \u001b[38;5;167;01mBaseException\u001b[39;00m \u001b[38;5;28;01mas\u001b[39;00m e:\n\u001b[0;32m   1608\u001b[0m     run_manager\u001b[38;5;241m.\u001b[39mon_chain_error(e)\n",
      "File \u001b[1;32m~\\Miniconda3\\envs\\llm_examples\\lib\\site-packages\\langchain_core\\runnables\\config.py:380\u001b[0m, in \u001b[0;36mcall_func_with_variable_args\u001b[1;34m(func, input, config, run_manager, **kwargs)\u001b[0m\n\u001b[0;32m    378\u001b[0m \u001b[38;5;28;01mif\u001b[39;00m run_manager \u001b[38;5;129;01mis\u001b[39;00m \u001b[38;5;129;01mnot\u001b[39;00m \u001b[38;5;28;01mNone\u001b[39;00m \u001b[38;5;129;01mand\u001b[39;00m accepts_run_manager(func):\n\u001b[0;32m    379\u001b[0m     kwargs[\u001b[38;5;124m\"\u001b[39m\u001b[38;5;124mrun_manager\u001b[39m\u001b[38;5;124m\"\u001b[39m] \u001b[38;5;241m=\u001b[39m run_manager\n\u001b[1;32m--> 380\u001b[0m \u001b[38;5;28;01mreturn\u001b[39;00m func(\u001b[38;5;28minput\u001b[39m, \u001b[38;5;241m*\u001b[39m\u001b[38;5;241m*\u001b[39mkwargs)\n",
      "File \u001b[1;32m~\\Miniconda3\\envs\\llm_examples\\lib\\site-packages\\langchain_core\\runnables\\base.py:3844\u001b[0m, in \u001b[0;36mRunnableLambda._invoke\u001b[1;34m(self, input, run_manager, config, **kwargs)\u001b[0m\n\u001b[0;32m   3842\u001b[0m                 output \u001b[38;5;241m=\u001b[39m chunk\n\u001b[0;32m   3843\u001b[0m \u001b[38;5;28;01melse\u001b[39;00m:\n\u001b[1;32m-> 3844\u001b[0m     output \u001b[38;5;241m=\u001b[39m call_func_with_variable_args(\n\u001b[0;32m   3845\u001b[0m         \u001b[38;5;28mself\u001b[39m\u001b[38;5;241m.\u001b[39mfunc, \u001b[38;5;28minput\u001b[39m, config, run_manager, \u001b[38;5;241m*\u001b[39m\u001b[38;5;241m*\u001b[39mkwargs\n\u001b[0;32m   3846\u001b[0m     )\n\u001b[0;32m   3847\u001b[0m \u001b[38;5;66;03m# If the output is a runnable, invoke it\u001b[39;00m\n\u001b[0;32m   3848\u001b[0m \u001b[38;5;28;01mif\u001b[39;00m \u001b[38;5;28misinstance\u001b[39m(output, Runnable):\n",
      "File \u001b[1;32m~\\Miniconda3\\envs\\llm_examples\\lib\\site-packages\\langchain_core\\runnables\\config.py:380\u001b[0m, in \u001b[0;36mcall_func_with_variable_args\u001b[1;34m(func, input, config, run_manager, **kwargs)\u001b[0m\n\u001b[0;32m    378\u001b[0m \u001b[38;5;28;01mif\u001b[39;00m run_manager \u001b[38;5;129;01mis\u001b[39;00m \u001b[38;5;129;01mnot\u001b[39;00m \u001b[38;5;28;01mNone\u001b[39;00m \u001b[38;5;129;01mand\u001b[39;00m accepts_run_manager(func):\n\u001b[0;32m    379\u001b[0m     kwargs[\u001b[38;5;124m\"\u001b[39m\u001b[38;5;124mrun_manager\u001b[39m\u001b[38;5;124m\"\u001b[39m] \u001b[38;5;241m=\u001b[39m run_manager\n\u001b[1;32m--> 380\u001b[0m \u001b[38;5;28;01mreturn\u001b[39;00m func(\u001b[38;5;28minput\u001b[39m, \u001b[38;5;241m*\u001b[39m\u001b[38;5;241m*\u001b[39mkwargs)\n",
      "Cell \u001b[1;32mIn[6], line 38\u001b[0m, in \u001b[0;36mdalle3_worker\u001b[1;34m(kwargs)\u001b[0m\n\u001b[0;32m     35\u001b[0m \u001b[38;5;28mprint\u001b[39m(\u001b[38;5;124mf\u001b[39m\u001b[38;5;124m\"\u001b[39m\u001b[38;5;124mprompt: \u001b[39m\u001b[38;5;132;01m{\u001b[39;00mkwargs[\u001b[38;5;124m'\u001b[39m\u001b[38;5;124mnl_prompt\u001b[39m\u001b[38;5;124m'\u001b[39m]\u001b[38;5;132;01m}\u001b[39;00m\u001b[38;5;124m\"\u001b[39m)\n\u001b[0;32m     36\u001b[0m client \u001b[38;5;241m=\u001b[39m OpenAI()\n\u001b[1;32m---> 38\u001b[0m response \u001b[38;5;241m=\u001b[39m \u001b[43mclient\u001b[49m\u001b[38;5;241;43m.\u001b[39;49m\u001b[43mimages\u001b[49m\u001b[38;5;241;43m.\u001b[39;49m\u001b[43mgenerate\u001b[49m\u001b[43m(\u001b[49m\n\u001b[0;32m     39\u001b[0m \u001b[43m    \u001b[49m\u001b[43mmodel\u001b[49m\u001b[38;5;241;43m=\u001b[39;49m\u001b[38;5;124;43m\"\u001b[39;49m\u001b[38;5;124;43mdall-e-3\u001b[39;49m\u001b[38;5;124;43m\"\u001b[39;49m\u001b[43m,\u001b[49m\n\u001b[0;32m     40\u001b[0m \u001b[43m    \u001b[49m\u001b[43mprompt\u001b[49m\u001b[38;5;241;43m=\u001b[39;49m\u001b[43mkwargs\u001b[49m\u001b[43m[\u001b[49m\u001b[38;5;124;43m'\u001b[39;49m\u001b[38;5;124;43mnl_prompt\u001b[39;49m\u001b[38;5;124;43m'\u001b[39;49m\u001b[43m]\u001b[49m\u001b[43m,\u001b[49m\n\u001b[0;32m     41\u001b[0m \u001b[43m    \u001b[49m\u001b[43msize\u001b[49m\u001b[38;5;241;43m=\u001b[39;49m\u001b[43mkwargs\u001b[49m\u001b[38;5;241;43m.\u001b[39;49m\u001b[43mget\u001b[49m\u001b[43m(\u001b[49m\u001b[38;5;124;43m\"\u001b[39;49m\u001b[38;5;124;43msize\u001b[39;49m\u001b[38;5;124;43m\"\u001b[39;49m\u001b[43m,\u001b[49m\u001b[43m \u001b[49m\u001b[38;5;124;43m\"\u001b[39;49m\u001b[38;5;124;43m1024x1024\u001b[39;49m\u001b[38;5;124;43m\"\u001b[39;49m\u001b[43m)\u001b[49m\u001b[43m,\u001b[49m\n\u001b[0;32m     42\u001b[0m \u001b[43m    \u001b[49m\u001b[43mquality\u001b[49m\u001b[38;5;241;43m=\u001b[39;49m\u001b[43mkwargs\u001b[49m\u001b[38;5;241;43m.\u001b[39;49m\u001b[43mget\u001b[49m\u001b[43m(\u001b[49m\u001b[38;5;124;43m'\u001b[39;49m\u001b[38;5;124;43mquality\u001b[39;49m\u001b[38;5;124;43m'\u001b[39;49m\u001b[43m,\u001b[49m\u001b[43m \u001b[49m\u001b[38;5;124;43m'\u001b[39;49m\u001b[38;5;124;43mstandard\u001b[39;49m\u001b[38;5;124;43m'\u001b[39;49m\u001b[43m)\u001b[49m\u001b[43m,\u001b[49m\n\u001b[0;32m     43\u001b[0m \u001b[43m    \u001b[49m\u001b[43mstyle\u001b[49m\u001b[38;5;241;43m=\u001b[39;49m\u001b[43mkwargs\u001b[49m\u001b[38;5;241;43m.\u001b[39;49m\u001b[43mget\u001b[49m\u001b[43m(\u001b[49m\u001b[38;5;124;43m'\u001b[39;49m\u001b[38;5;124;43mstyle\u001b[39;49m\u001b[38;5;124;43m'\u001b[39;49m\u001b[43m,\u001b[49m\u001b[43m \u001b[49m\u001b[38;5;124;43m'\u001b[39;49m\u001b[38;5;124;43mvivid\u001b[39;49m\u001b[38;5;124;43m'\u001b[39;49m\u001b[43m)\u001b[49m\u001b[43m,\u001b[49m\n\u001b[0;32m     44\u001b[0m \u001b[43m    \u001b[49m\u001b[43mn\u001b[49m\u001b[38;5;241;43m=\u001b[39;49m\u001b[38;5;241;43m1\u001b[39;49m\u001b[43m,\u001b[49m\n\u001b[0;32m     45\u001b[0m \u001b[43m    \u001b[49m\u001b[43mresponse_format\u001b[49m\u001b[43m \u001b[49m\u001b[38;5;241;43m=\u001b[39;49m\u001b[43m \u001b[49m\u001b[38;5;124;43m'\u001b[39;49m\u001b[38;5;124;43mb64_json\u001b[39;49m\u001b[38;5;124;43m'\u001b[39;49m\u001b[43m)\u001b[49m\n\u001b[0;32m     47\u001b[0m image_base64 \u001b[38;5;241m=\u001b[39m response\u001b[38;5;241m.\u001b[39mdata[\u001b[38;5;241m0\u001b[39m]\u001b[38;5;241m.\u001b[39mb64_json\n\u001b[0;32m     49\u001b[0m \u001b[38;5;28mprint\u001b[39m(\u001b[38;5;124m\"\u001b[39m\u001b[38;5;124mImage is generated succesfully.\u001b[39m\u001b[38;5;124m\"\u001b[39m)\n",
      "File \u001b[1;32m~\\Miniconda3\\envs\\llm_examples\\lib\\site-packages\\openai\\resources\\images.py:254\u001b[0m, in \u001b[0;36mImages.generate\u001b[1;34m(self, prompt, model, n, quality, response_format, size, style, user, extra_headers, extra_query, extra_body, timeout)\u001b[0m\n\u001b[0;32m    195\u001b[0m \u001b[38;5;28;01mdef\u001b[39;00m \u001b[38;5;21mgenerate\u001b[39m(\n\u001b[0;32m    196\u001b[0m     \u001b[38;5;28mself\u001b[39m,\n\u001b[0;32m    197\u001b[0m     \u001b[38;5;241m*\u001b[39m,\n\u001b[1;32m   (...)\u001b[0m\n\u001b[0;32m    211\u001b[0m     timeout: \u001b[38;5;28mfloat\u001b[39m \u001b[38;5;241m|\u001b[39m httpx\u001b[38;5;241m.\u001b[39mTimeout \u001b[38;5;241m|\u001b[39m \u001b[38;5;28;01mNone\u001b[39;00m \u001b[38;5;241m|\u001b[39m NotGiven \u001b[38;5;241m=\u001b[39m NOT_GIVEN,\n\u001b[0;32m    212\u001b[0m ) \u001b[38;5;241m-\u001b[39m\u001b[38;5;241m>\u001b[39m ImagesResponse:\n\u001b[0;32m    213\u001b[0m \u001b[38;5;250m    \u001b[39m\u001b[38;5;124;03m\"\"\"\u001b[39;00m\n\u001b[0;32m    214\u001b[0m \u001b[38;5;124;03m    Creates an image given a prompt.\u001b[39;00m\n\u001b[0;32m    215\u001b[0m \n\u001b[1;32m   (...)\u001b[0m\n\u001b[0;32m    252\u001b[0m \u001b[38;5;124;03m      timeout: Override the client-level default timeout for this request, in seconds\u001b[39;00m\n\u001b[0;32m    253\u001b[0m \u001b[38;5;124;03m    \"\"\"\u001b[39;00m\n\u001b[1;32m--> 254\u001b[0m     \u001b[38;5;28;01mreturn\u001b[39;00m \u001b[38;5;28;43mself\u001b[39;49m\u001b[38;5;241;43m.\u001b[39;49m\u001b[43m_post\u001b[49m\u001b[43m(\u001b[49m\n\u001b[0;32m    255\u001b[0m \u001b[43m        \u001b[49m\u001b[38;5;124;43m\"\u001b[39;49m\u001b[38;5;124;43m/images/generations\u001b[39;49m\u001b[38;5;124;43m\"\u001b[39;49m\u001b[43m,\u001b[49m\n\u001b[0;32m    256\u001b[0m \u001b[43m        \u001b[49m\u001b[43mbody\u001b[49m\u001b[38;5;241;43m=\u001b[39;49m\u001b[43mmaybe_transform\u001b[49m\u001b[43m(\u001b[49m\n\u001b[0;32m    257\u001b[0m \u001b[43m            \u001b[49m\u001b[43m{\u001b[49m\n\u001b[0;32m    258\u001b[0m \u001b[43m                \u001b[49m\u001b[38;5;124;43m\"\u001b[39;49m\u001b[38;5;124;43mprompt\u001b[39;49m\u001b[38;5;124;43m\"\u001b[39;49m\u001b[43m:\u001b[49m\u001b[43m \u001b[49m\u001b[43mprompt\u001b[49m\u001b[43m,\u001b[49m\n\u001b[0;32m    259\u001b[0m \u001b[43m                \u001b[49m\u001b[38;5;124;43m\"\u001b[39;49m\u001b[38;5;124;43mmodel\u001b[39;49m\u001b[38;5;124;43m\"\u001b[39;49m\u001b[43m:\u001b[49m\u001b[43m \u001b[49m\u001b[43mmodel\u001b[49m\u001b[43m,\u001b[49m\n\u001b[0;32m    260\u001b[0m \u001b[43m                \u001b[49m\u001b[38;5;124;43m\"\u001b[39;49m\u001b[38;5;124;43mn\u001b[39;49m\u001b[38;5;124;43m\"\u001b[39;49m\u001b[43m:\u001b[49m\u001b[43m \u001b[49m\u001b[43mn\u001b[49m\u001b[43m,\u001b[49m\n\u001b[0;32m    261\u001b[0m \u001b[43m                \u001b[49m\u001b[38;5;124;43m\"\u001b[39;49m\u001b[38;5;124;43mquality\u001b[39;49m\u001b[38;5;124;43m\"\u001b[39;49m\u001b[43m:\u001b[49m\u001b[43m \u001b[49m\u001b[43mquality\u001b[49m\u001b[43m,\u001b[49m\n\u001b[0;32m    262\u001b[0m \u001b[43m                \u001b[49m\u001b[38;5;124;43m\"\u001b[39;49m\u001b[38;5;124;43mresponse_format\u001b[39;49m\u001b[38;5;124;43m\"\u001b[39;49m\u001b[43m:\u001b[49m\u001b[43m \u001b[49m\u001b[43mresponse_format\u001b[49m\u001b[43m,\u001b[49m\n\u001b[0;32m    263\u001b[0m \u001b[43m                \u001b[49m\u001b[38;5;124;43m\"\u001b[39;49m\u001b[38;5;124;43msize\u001b[39;49m\u001b[38;5;124;43m\"\u001b[39;49m\u001b[43m:\u001b[49m\u001b[43m \u001b[49m\u001b[43msize\u001b[49m\u001b[43m,\u001b[49m\n\u001b[0;32m    264\u001b[0m \u001b[43m                \u001b[49m\u001b[38;5;124;43m\"\u001b[39;49m\u001b[38;5;124;43mstyle\u001b[39;49m\u001b[38;5;124;43m\"\u001b[39;49m\u001b[43m:\u001b[49m\u001b[43m \u001b[49m\u001b[43mstyle\u001b[49m\u001b[43m,\u001b[49m\n\u001b[0;32m    265\u001b[0m \u001b[43m                \u001b[49m\u001b[38;5;124;43m\"\u001b[39;49m\u001b[38;5;124;43muser\u001b[39;49m\u001b[38;5;124;43m\"\u001b[39;49m\u001b[43m:\u001b[49m\u001b[43m \u001b[49m\u001b[43muser\u001b[49m\u001b[43m,\u001b[49m\n\u001b[0;32m    266\u001b[0m \u001b[43m            \u001b[49m\u001b[43m}\u001b[49m\u001b[43m,\u001b[49m\n\u001b[0;32m    267\u001b[0m \u001b[43m            \u001b[49m\u001b[43mimage_generate_params\u001b[49m\u001b[38;5;241;43m.\u001b[39;49m\u001b[43mImageGenerateParams\u001b[49m\u001b[43m,\u001b[49m\n\u001b[0;32m    268\u001b[0m \u001b[43m        \u001b[49m\u001b[43m)\u001b[49m\u001b[43m,\u001b[49m\n\u001b[0;32m    269\u001b[0m \u001b[43m        \u001b[49m\u001b[43moptions\u001b[49m\u001b[38;5;241;43m=\u001b[39;49m\u001b[43mmake_request_options\u001b[49m\u001b[43m(\u001b[49m\n\u001b[0;32m    270\u001b[0m \u001b[43m            \u001b[49m\u001b[43mextra_headers\u001b[49m\u001b[38;5;241;43m=\u001b[39;49m\u001b[43mextra_headers\u001b[49m\u001b[43m,\u001b[49m\u001b[43m \u001b[49m\u001b[43mextra_query\u001b[49m\u001b[38;5;241;43m=\u001b[39;49m\u001b[43mextra_query\u001b[49m\u001b[43m,\u001b[49m\u001b[43m \u001b[49m\u001b[43mextra_body\u001b[49m\u001b[38;5;241;43m=\u001b[39;49m\u001b[43mextra_body\u001b[49m\u001b[43m,\u001b[49m\u001b[43m \u001b[49m\u001b[43mtimeout\u001b[49m\u001b[38;5;241;43m=\u001b[39;49m\u001b[43mtimeout\u001b[49m\n\u001b[0;32m    271\u001b[0m \u001b[43m        \u001b[49m\u001b[43m)\u001b[49m\u001b[43m,\u001b[49m\n\u001b[0;32m    272\u001b[0m \u001b[43m        \u001b[49m\u001b[43mcast_to\u001b[49m\u001b[38;5;241;43m=\u001b[39;49m\u001b[43mImagesResponse\u001b[49m\u001b[43m,\u001b[49m\n\u001b[0;32m    273\u001b[0m \u001b[43m    \u001b[49m\u001b[43m)\u001b[49m\n",
      "File \u001b[1;32m~\\Miniconda3\\envs\\llm_examples\\lib\\site-packages\\openai\\_base_client.py:1261\u001b[0m, in \u001b[0;36mSyncAPIClient.post\u001b[1;34m(self, path, cast_to, body, options, files, stream, stream_cls)\u001b[0m\n\u001b[0;32m   1247\u001b[0m \u001b[38;5;28;01mdef\u001b[39;00m \u001b[38;5;21mpost\u001b[39m(\n\u001b[0;32m   1248\u001b[0m     \u001b[38;5;28mself\u001b[39m,\n\u001b[0;32m   1249\u001b[0m     path: \u001b[38;5;28mstr\u001b[39m,\n\u001b[1;32m   (...)\u001b[0m\n\u001b[0;32m   1256\u001b[0m     stream_cls: \u001b[38;5;28mtype\u001b[39m[_StreamT] \u001b[38;5;241m|\u001b[39m \u001b[38;5;28;01mNone\u001b[39;00m \u001b[38;5;241m=\u001b[39m \u001b[38;5;28;01mNone\u001b[39;00m,\n\u001b[0;32m   1257\u001b[0m ) \u001b[38;5;241m-\u001b[39m\u001b[38;5;241m>\u001b[39m ResponseT \u001b[38;5;241m|\u001b[39m _StreamT:\n\u001b[0;32m   1258\u001b[0m     opts \u001b[38;5;241m=\u001b[39m FinalRequestOptions\u001b[38;5;241m.\u001b[39mconstruct(\n\u001b[0;32m   1259\u001b[0m         method\u001b[38;5;241m=\u001b[39m\u001b[38;5;124m\"\u001b[39m\u001b[38;5;124mpost\u001b[39m\u001b[38;5;124m\"\u001b[39m, url\u001b[38;5;241m=\u001b[39mpath, json_data\u001b[38;5;241m=\u001b[39mbody, files\u001b[38;5;241m=\u001b[39mto_httpx_files(files), \u001b[38;5;241m*\u001b[39m\u001b[38;5;241m*\u001b[39moptions\n\u001b[0;32m   1260\u001b[0m     )\n\u001b[1;32m-> 1261\u001b[0m     \u001b[38;5;28;01mreturn\u001b[39;00m cast(ResponseT, \u001b[38;5;28;43mself\u001b[39;49m\u001b[38;5;241;43m.\u001b[39;49m\u001b[43mrequest\u001b[49m\u001b[43m(\u001b[49m\u001b[43mcast_to\u001b[49m\u001b[43m,\u001b[49m\u001b[43m \u001b[49m\u001b[43mopts\u001b[49m\u001b[43m,\u001b[49m\u001b[43m \u001b[49m\u001b[43mstream\u001b[49m\u001b[38;5;241;43m=\u001b[39;49m\u001b[43mstream\u001b[49m\u001b[43m,\u001b[49m\u001b[43m \u001b[49m\u001b[43mstream_cls\u001b[49m\u001b[38;5;241;43m=\u001b[39;49m\u001b[43mstream_cls\u001b[49m\u001b[43m)\u001b[49m)\n",
      "File \u001b[1;32m~\\Miniconda3\\envs\\llm_examples\\lib\\site-packages\\openai\\_base_client.py:942\u001b[0m, in \u001b[0;36mSyncAPIClient.request\u001b[1;34m(self, cast_to, options, remaining_retries, stream, stream_cls)\u001b[0m\n\u001b[0;32m    933\u001b[0m \u001b[38;5;28;01mdef\u001b[39;00m \u001b[38;5;21mrequest\u001b[39m(\n\u001b[0;32m    934\u001b[0m     \u001b[38;5;28mself\u001b[39m,\n\u001b[0;32m    935\u001b[0m     cast_to: Type[ResponseT],\n\u001b[1;32m   (...)\u001b[0m\n\u001b[0;32m    940\u001b[0m     stream_cls: \u001b[38;5;28mtype\u001b[39m[_StreamT] \u001b[38;5;241m|\u001b[39m \u001b[38;5;28;01mNone\u001b[39;00m \u001b[38;5;241m=\u001b[39m \u001b[38;5;28;01mNone\u001b[39;00m,\n\u001b[0;32m    941\u001b[0m ) \u001b[38;5;241m-\u001b[39m\u001b[38;5;241m>\u001b[39m ResponseT \u001b[38;5;241m|\u001b[39m _StreamT:\n\u001b[1;32m--> 942\u001b[0m     \u001b[38;5;28;01mreturn\u001b[39;00m \u001b[38;5;28;43mself\u001b[39;49m\u001b[38;5;241;43m.\u001b[39;49m\u001b[43m_request\u001b[49m\u001b[43m(\u001b[49m\n\u001b[0;32m    943\u001b[0m \u001b[43m        \u001b[49m\u001b[43mcast_to\u001b[49m\u001b[38;5;241;43m=\u001b[39;49m\u001b[43mcast_to\u001b[49m\u001b[43m,\u001b[49m\n\u001b[0;32m    944\u001b[0m \u001b[43m        \u001b[49m\u001b[43moptions\u001b[49m\u001b[38;5;241;43m=\u001b[39;49m\u001b[43moptions\u001b[49m\u001b[43m,\u001b[49m\n\u001b[0;32m    945\u001b[0m \u001b[43m        \u001b[49m\u001b[43mstream\u001b[49m\u001b[38;5;241;43m=\u001b[39;49m\u001b[43mstream\u001b[49m\u001b[43m,\u001b[49m\n\u001b[0;32m    946\u001b[0m \u001b[43m        \u001b[49m\u001b[43mstream_cls\u001b[49m\u001b[38;5;241;43m=\u001b[39;49m\u001b[43mstream_cls\u001b[49m\u001b[43m,\u001b[49m\n\u001b[0;32m    947\u001b[0m \u001b[43m        \u001b[49m\u001b[43mremaining_retries\u001b[49m\u001b[38;5;241;43m=\u001b[39;49m\u001b[43mremaining_retries\u001b[49m\u001b[43m,\u001b[49m\n\u001b[0;32m    948\u001b[0m \u001b[43m    \u001b[49m\u001b[43m)\u001b[49m\n",
      "File \u001b[1;32m~\\Miniconda3\\envs\\llm_examples\\lib\\site-packages\\openai\\_base_client.py:1041\u001b[0m, in \u001b[0;36mSyncAPIClient._request\u001b[1;34m(self, cast_to, options, remaining_retries, stream, stream_cls)\u001b[0m\n\u001b[0;32m   1038\u001b[0m         err\u001b[38;5;241m.\u001b[39mresponse\u001b[38;5;241m.\u001b[39mread()\n\u001b[0;32m   1040\u001b[0m     log\u001b[38;5;241m.\u001b[39mdebug(\u001b[38;5;124m\"\u001b[39m\u001b[38;5;124mRe-raising status error\u001b[39m\u001b[38;5;124m\"\u001b[39m)\n\u001b[1;32m-> 1041\u001b[0m     \u001b[38;5;28;01mraise\u001b[39;00m \u001b[38;5;28mself\u001b[39m\u001b[38;5;241m.\u001b[39m_make_status_error_from_response(err\u001b[38;5;241m.\u001b[39mresponse) \u001b[38;5;28;01mfrom\u001b[39;00m \u001b[38;5;28;01mNone\u001b[39;00m\n\u001b[0;32m   1043\u001b[0m \u001b[38;5;28;01mreturn\u001b[39;00m \u001b[38;5;28mself\u001b[39m\u001b[38;5;241m.\u001b[39m_process_response(\n\u001b[0;32m   1044\u001b[0m     cast_to\u001b[38;5;241m=\u001b[39mcast_to,\n\u001b[0;32m   1045\u001b[0m     options\u001b[38;5;241m=\u001b[39moptions,\n\u001b[1;32m   (...)\u001b[0m\n\u001b[0;32m   1048\u001b[0m     stream_cls\u001b[38;5;241m=\u001b[39mstream_cls,\n\u001b[0;32m   1049\u001b[0m )\n",
      "\u001b[1;31mBadRequestError\u001b[0m: Error code: 400 - {'error': {'code': 'content_policy_violation', 'message': 'This request has been blocked by our content filters.', 'param': None, 'type': 'invalid_request_error'}}"
     ]
    }
   ],
   "source": [
    "dalle3_chain.invoke({\"size\": \"1024x1792\",\n",
    "                     \"quality\": \"hd\",\n",
    "                     \"image_desc\": \"\"\"\n",
    "                                 close-up portrait, black fox ears, animal ear fluff, black fox tail, black hair, red inner hair, hair ornament, \n",
    "                                 magatama necklace, fur trim, black short kimono, exquisite design, cat_collar, off-shoulder,wide sleeves, \n",
    "                                 long sleeves, obi, miniskirt, perfect model body, a 17-years-old ethereal and glamorously beautiful girl, from above, \n",
    "                                 eating donut, holding a donut, a large cup of coffee on table, in a coffee shop, pencil sketch, perfect detail, intricate detail, \n",
    "                                 masterpiece, best quality, beauty & aesthetic, sketch\n",
    "                                 \"\"\",\n",
    "                     \"filename\": \"tutorial/Week-8/test_02.png\"\n",
    "                    })\n"
   ]
  },
  {
   "cell_type": "markdown",
   "id": "b11138db-d2a1-4eec-a7d6-aa5a4d230313",
   "metadata": {},
   "source": [
    "### There is censorship in OpenAI...so I do not like it that much.\n",
    "\n",
    "Every model has its strength\n",
    "In my opinion:\n",
    "\n",
    "- SDXL: style\n",
    "- PONY: pose control, view angle control\n",
    "- FLUX: realistic"
   ]
  },
  {
   "cell_type": "code",
   "execution_count": 10,
   "id": "16f6b7ab-1a90-4801-9823-f70d1cd58ade",
   "metadata": {
    "tags": []
   },
   "outputs": [
    {
     "name": "stdout",
     "output_type": "stream",
     "text": [
      "Start generating image...\n",
      "prompt: A breathtaking pencil sketch of an ethereal and glamorously beautiful 17-year-old girl with a perfect model body, captured from above in a coffee shop. She has striking black fox ears with fluffy fur, a black fox tail, and long, flowing black hair with red inner highlights. Her hair is adorned with a delicate ornament, and she wears a magatama necklace. Her attire is a black short kimono with an exquisite design, featuring off-shoulder wide sleeves and a fur trim. The kimono is paired with an obi and a miniskirt, showcasing her elegant and refined style. She also wears a cat collar, adding a touch of charm to her appearance. The girl is holding a donut and eating it, with a large cup of coffee placed on the table in front of her. The sketch is rendered with perfect and intricate detail, capturing the beauty and aesthetic of the scene, making it a true masterpiece.\n",
      "Image is generated succesfully.\n"
     ]
    }
   ],
   "source": [
    "dalle3_chain.invoke({\"size\": \"1024x1024\",\n",
    "                     \"quality\": \"hd\",\n",
    "                     \"image_desc\": \"\"\"\n",
    "                                 close-up portrait, black fox ears, animal ear fluff, black fox tail, black hair, red inner hair, hair ornament, \n",
    "                                 magatama necklace, fur trim, black short kimono, exquisite design, cat_collar, off-shoulder,wide sleeves, \n",
    "                                 long sleeves, obi, miniskirt, perfect model body, a 17-years-old ethereal and glamorously beautiful girl, from above, \n",
    "                                 eating donut, holding a donut, a large cup of coffee on table, in a coffee shop, pencil sketch, perfect detail, intricate detail, \n",
    "                                 masterpiece, best quality, beauty & aesthetic, sketch\n",
    "                                 \"\"\",\n",
    "                     \"filename\": \"tutorial/Week-8/test_03.png\"\n",
    "                    })"
   ]
  },
  {
   "cell_type": "markdown",
   "id": "bf1adc35-4a36-47b6-809c-ddb35cceb60a",
   "metadata": {},
   "source": [
    "## Use this as a tool for Agent"
   ]
  },
  {
   "cell_type": "code",
   "execution_count": 11,
   "id": "6b248354-6e52-46bc-b3eb-bef1a421926d",
   "metadata": {
    "tags": []
   },
   "outputs": [],
   "source": [
    "from langchain.agents import Tool, AgentExecutor, create_react_agent\n",
    "from langchain.prompts import PromptTemplate\n",
    "from langchain.tools import BaseTool\n",
    "from langchain.output_parsers import StructuredOutputParser, ResponseSchema\n",
    "\n",
    "from src.agent.react_zero_shot import prompt_template as zero_shot_prompt_template\n",
    "\n",
    "# We need both the query and filename (minimal requirement):\n",
    "# Some control variables\n",
    "# What we learned last week?\n",
    "\n",
    "\n",
    "class ImageTool(BaseTool):\n",
    "\n",
    "    name = \"Image generator with DALLE-3\"\n",
    "\n",
    "    input_response_schemas = [\n",
    "        ResponseSchema(name=\"image_desc\", description=\"image description / prompt\"),\n",
    "        ResponseSchema(name=\"filename\", description=\"the location at which the image will be saved\"),\n",
    "        ResponseSchema(name=\"size\", description=\"image size, can be `1024x1024`, `1024x1792`, `1792x1024`\"),\n",
    "        ResponseSchema(name=\"quality\", description=\"image quality, can be `hd` or `standard`\"),\n",
    "        ResponseSchema(name=\"style\", description=\"image style, can be `vivid` or `natural`\")]\n",
    "    \n",
    "    input_output_parser = StructuredOutputParser.from_response_schemas(input_response_schemas)\n",
    "    \n",
    "    input_format_instructions = input_output_parser.get_format_instructions()\n",
    "\n",
    "    description_template = \"\"\"\n",
    "                           Use this tool when you need to create an image:\n",
    "                           input format_instructions: {input_format_instructions}\n",
    "                           \"\"\"\n",
    "\n",
    "    description = description_template.format(input_format_instructions=input_format_instructions)\n",
    "    \n",
    "    def _run(self, query):\n",
    "\n",
    "        input_ = self.input_output_parser.parse(query)\n",
    "        \n",
    "        image_desc = input_['image_desc']\n",
    "        size = input_['size']\n",
    "        quality = input_['quality']\n",
    "        style = input_['style']\n",
    "        filename = input_['filename']\n",
    "        \n",
    "        dalle3_chain.invoke({\"image_desc\": image_desc,\n",
    "                             \"size\": size,\n",
    "                             \"quality\": quality,\n",
    "                             \"style\": style,\n",
    "                             \"filename\": filename})\n",
    "        \n",
    "        return \"Done\"\n",
    "\n",
    "    def _arun(self, radius: int):\n",
    "        raise NotImplementedError(\"This tool does not support async\")\n",
    "\n",
    "# Zero Shot 標準模板\n",
    "prompt = PromptTemplate.from_template(zero_shot_prompt_template)\n",
    "\n",
    "# 建立工具庫 \n",
    "tools = [ImageTool()]\n",
    "\n",
    "# 創造Agent \n",
    "zero_shot_agent = create_react_agent(\n",
    "    llm=model,\n",
    "    tools=tools,\n",
    "    prompt=prompt,\n",
    ")\n",
    "\n",
    "# 創造Agent Executor\n",
    "agent_executor = AgentExecutor(agent=zero_shot_agent, tools=tools, verbose=True)"
   ]
  },
  {
   "cell_type": "code",
   "execution_count": 12,
   "id": "c4acd426-a089-4296-8507-b898488e7736",
   "metadata": {
    "tags": []
   },
   "outputs": [],
   "source": [
    "image_prompt = \"\"\"\n",
    "brown hair, bangs, two side up, twin ponytails, sidelocks, black hat, jewelry, black cheongsam, intricate golden embroidery, long sleeves,\n",
    "wide sleeves, black shorts, hat ornament, hat flower, a 17-years-old ethereal and glamorous beautiful japanese idol,\n",
    "translucent skin tone, profound facial features, bright eyes, faint rosy blush, ultra realistic, raw photo, award-winning photo, masterpiece, \n",
    "best quality, high resolution, official art, 8k uhd, high fidelity, depth of field, on the top of a skyscaper, mesmetizing city view, \n",
    "night\n",
    "\"\"\"\n",
    "\n",
    "filename = \"tutorial/Week-8/test_04.png\""
   ]
  },
  {
   "cell_type": "code",
   "execution_count": 13,
   "id": "8e4b7234-d7ae-4256-ac69-927affee0a23",
   "metadata": {
    "tags": []
   },
   "outputs": [
    {
     "name": "stdout",
     "output_type": "stream",
     "text": [
      "\n",
      "\n",
      "\u001b[1m> Entering new AgentExecutor chain...\u001b[0m\n",
      "\u001b[32;1m\u001b[1;3mTo generate the requested image, I will use the Image generator with DALLE-3 tool. I need to ensure that the image description is detailed and matches the provided specifications. The image will be saved at the specified location with the given filename.\n",
      "\n",
      "Action: Image generator with DALLE-3\n",
      "\n",
      "Action Input:\n",
      "```json\n",
      "{\n",
      "\t\"image_desc\": \"A 17-year-old ethereal and glamorous beautiful Japanese idol with brown hair, bangs, two side up, twin ponytails, sidelocks, wearing a black hat with a hat ornament and hat flower, jewelry, and a black cheongsam with intricate golden embroidery, long wide sleeves, and black shorts. She has a translucent skin tone, profound facial features, bright eyes, and a faint rosy blush. The image is ultra-realistic, raw photo, award-winning photo, masterpiece, best quality, high resolution, official art, 8k uhd, high fidelity, depth of field. She is standing on the top of a skyscraper with a mesmerizing city view at night.\",\n",
      "\t\"filename\": \"tutorial/Week-8/test_04.png\",\n",
      "\t\"size\": \"1024x1792\",\n",
      "\t\"quality\": \"hd\",\n",
      "\t\"style\": \"vivid\"\n",
      "}\n",
      "```\n",
      "\u001b[0mStart generating image...\n",
      "prompt: Create an ultra-realistic, award-winning photo of a 17-year-old ethereal and glamorous Japanese idol. She has brown hair styled with bangs, two side-up twin ponytails, and sidelocks. She is wearing a black hat adorned with a hat ornament and a hat flower, along with elegant jewelry. Her outfit is a black cheongsam featuring intricate golden embroidery, long wide sleeves, and black shorts. Her skin is translucent, her facial features are profound, her eyes are bright, and she has a faint rosy blush. The image should be of the highest quality, in 8k UHD, with high fidelity and depth of field. She is standing on the top of a skyscraper, with a mesmerizing city view at night in the background. The overall composition should be a masterpiece, capturing the essence of her beauty and the stunning urban landscape.\n",
      "Image is generated succesfully.\n",
      "\u001b[36;1m\u001b[1;3mDone\u001b[0m\u001b[32;1m\u001b[1;3mI now know the final answer.\n",
      "\n",
      "Final Answer: The image has been generated and saved at the location `tutorial/Week-8/test_04.png`.\u001b[0m\n",
      "\n",
      "\u001b[1m> Finished chain.\u001b[0m\n"
     ]
    },
    {
     "data": {
      "text/plain": [
       "{'input': 'Generate in image with the following information: \\n \\nbrown hair, bangs, two side up, twin ponytails, sidelocks, black hat, jewelry, black cheongsam, intricate golden embroidery, long sleeves,\\nwide sleeves, black shorts, hat ornament, hat flower, a 17-years-old ethereal and glamorous beautiful japanese idol,\\ntranslucent skin tone, profound facial features, bright eyes, faint rosy blush, ultra realistic, raw photo, award-winning photo, masterpiece, \\nbest quality, high resolution, official art, 8k uhd, high fidelity, depth of field, on the top of a skyscaper, mesmetizing city view, \\nnight\\n. and save the image at tutorial/Week-8/test_04.png',\n",
       " 'output': 'The image has been generated and saved at the location `tutorial/Week-8/test_04.png`.'}"
      ]
     },
     "execution_count": 13,
     "metadata": {},
     "output_type": "execute_result"
    }
   ],
   "source": [
    "agent_executor.invoke({\"input\": f\"Generate in image with the following information: \\n {image_prompt}. and save the image at {filename}\"})"
   ]
  },
  {
   "cell_type": "markdown",
   "id": "273538bc-be51-4b58-84dd-179085b66e7f",
   "metadata": {},
   "source": [
    "## ACG Characters\n",
    "\n"
   ]
  },
  {
   "cell_type": "code",
   "execution_count": 14,
   "id": "3f3679ef-4354-460d-8f4c-63af32efc161",
   "metadata": {
    "tags": []
   },
   "outputs": [],
   "source": [
    "from langchain.utilities.tavily_search import TavilySearchAPIWrapper\n",
    "from langchain.tools.tavily_search import TavilySearchResults\n",
    "\n",
    "search = TavilySearchAPIWrapper()\n",
    "tavily_tool = TavilySearchResults(api_wrapper=search)\n",
    "\n",
    "outputs = tavily_tool.invoke(\"What is the appearance of Hu Tao from Genshin\")"
   ]
  },
  {
   "cell_type": "code",
   "execution_count": 16,
   "id": "5379e9a6-b738-456b-b0a5-921f09452ee9",
   "metadata": {},
   "outputs": [
    {
     "data": {
      "text/plain": [
       "\u001b[1;31mInit signature:\u001b[0m \u001b[0mTavilySearchAPIWrapper\u001b[0m\u001b[1;33m(\u001b[0m\u001b[1;33m*\u001b[0m\u001b[1;33m,\u001b[0m \u001b[0mtavily_api_key\u001b[0m\u001b[1;33m:\u001b[0m \u001b[0mpydantic\u001b[0m\u001b[1;33m.\u001b[0m\u001b[0mv1\u001b[0m\u001b[1;33m.\u001b[0m\u001b[0mtypes\u001b[0m\u001b[1;33m.\u001b[0m\u001b[0mSecretStr\u001b[0m\u001b[1;33m)\u001b[0m \u001b[1;33m->\u001b[0m \u001b[1;32mNone\u001b[0m\u001b[1;33m\u001b[0m\u001b[1;33m\u001b[0m\u001b[0m\n",
       "\u001b[1;31mDocstring:\u001b[0m      Wrapper for Tavily Search API.\n",
       "\u001b[1;31mInit docstring:\u001b[0m\n",
       "Create a new model by parsing and validating input data from keyword arguments.\n",
       "\n",
       "Raises ValidationError if the input data cannot be parsed to form a valid model.\n",
       "\u001b[1;31mFile:\u001b[0m           c:\\users\\mengchieh\\miniconda3\\envs\\llm_examples\\lib\\site-packages\\langchain_community\\utilities\\tavily_search.py\n",
       "\u001b[1;31mType:\u001b[0m           ModelMetaclass\n",
       "\u001b[1;31mSubclasses:\u001b[0m     "
      ]
     },
     "metadata": {},
     "output_type": "display_data"
    }
   ],
   "source": [
    "TavilySearchAPIWrapper?"
   ]
  },
  {
   "cell_type": "code",
   "execution_count": 15,
   "id": "c1fd0e88-6c4d-4657-b51b-69647c7b717d",
   "metadata": {},
   "outputs": [
    {
     "data": {
      "text/plain": [
       "5"
      ]
     },
     "execution_count": 15,
     "metadata": {},
     "output_type": "execute_result"
    }
   ],
   "source": [
    "len(outputs)"
   ]
  },
  {
   "cell_type": "code",
   "execution_count": 17,
   "id": "a8ac9e8e-d21f-423a-9cc6-cea3df95cfb6",
   "metadata": {},
   "outputs": [
    {
     "data": {
      "text/plain": [
       "\u001b[1;31mInit signature:\u001b[0m\n",
       "\u001b[0mTavilySearchResults\u001b[0m\u001b[1;33m(\u001b[0m\u001b[1;33m\n",
       "\u001b[0m    \u001b[1;33m*\u001b[0m\u001b[1;33m,\u001b[0m\u001b[1;33m\n",
       "\u001b[0m    \u001b[0mname\u001b[0m\u001b[1;33m:\u001b[0m \u001b[0mstr\u001b[0m \u001b[1;33m=\u001b[0m \u001b[1;34m'tavily_search_results_json'\u001b[0m\u001b[1;33m,\u001b[0m\u001b[1;33m\n",
       "\u001b[0m    \u001b[0mdescription\u001b[0m\u001b[1;33m:\u001b[0m \u001b[0mstr\u001b[0m \u001b[1;33m=\u001b[0m \u001b[1;34m'A search engine optimized for comprehensive, accurate, and trusted results. Useful for when you need to answer questions about current events. Input should be a search query.'\u001b[0m\u001b[1;33m,\u001b[0m\u001b[1;33m\n",
       "\u001b[0m    \u001b[0margs_schema\u001b[0m\u001b[1;33m:\u001b[0m \u001b[0mType\u001b[0m\u001b[1;33m[\u001b[0m\u001b[0mpydantic\u001b[0m\u001b[1;33m.\u001b[0m\u001b[0mv1\u001b[0m\u001b[1;33m.\u001b[0m\u001b[0mmain\u001b[0m\u001b[1;33m.\u001b[0m\u001b[0mBaseModel\u001b[0m\u001b[1;33m]\u001b[0m \u001b[1;33m=\u001b[0m \u001b[1;33m<\u001b[0m\u001b[1;32mclass\u001b[0m \u001b[1;34m'langchain_community.tools.tavily_search.tool.TavilyInput'\u001b[0m\u001b[1;33m>\u001b[0m\u001b[1;33m,\u001b[0m\u001b[1;33m\n",
       "\u001b[0m    \u001b[0mreturn_direct\u001b[0m\u001b[1;33m:\u001b[0m \u001b[0mbool\u001b[0m \u001b[1;33m=\u001b[0m \u001b[1;32mFalse\u001b[0m\u001b[1;33m,\u001b[0m\u001b[1;33m\n",
       "\u001b[0m    \u001b[0mverbose\u001b[0m\u001b[1;33m:\u001b[0m \u001b[0mbool\u001b[0m \u001b[1;33m=\u001b[0m \u001b[1;32mFalse\u001b[0m\u001b[1;33m,\u001b[0m\u001b[1;33m\n",
       "\u001b[0m    \u001b[0mcallbacks\u001b[0m\u001b[1;33m:\u001b[0m \u001b[0mUnion\u001b[0m\u001b[1;33m[\u001b[0m\u001b[0mList\u001b[0m\u001b[1;33m[\u001b[0m\u001b[0mlangchain_core\u001b[0m\u001b[1;33m.\u001b[0m\u001b[0mcallbacks\u001b[0m\u001b[1;33m.\u001b[0m\u001b[0mbase\u001b[0m\u001b[1;33m.\u001b[0m\u001b[0mBaseCallbackHandler\u001b[0m\u001b[1;33m]\u001b[0m\u001b[1;33m,\u001b[0m \u001b[0mlangchain_core\u001b[0m\u001b[1;33m.\u001b[0m\u001b[0mcallbacks\u001b[0m\u001b[1;33m.\u001b[0m\u001b[0mbase\u001b[0m\u001b[1;33m.\u001b[0m\u001b[0mBaseCallbackManager\u001b[0m\u001b[1;33m,\u001b[0m \u001b[0mNoneType\u001b[0m\u001b[1;33m]\u001b[0m \u001b[1;33m=\u001b[0m \u001b[1;32mNone\u001b[0m\u001b[1;33m,\u001b[0m\u001b[1;33m\n",
       "\u001b[0m    \u001b[0mcallback_manager\u001b[0m\u001b[1;33m:\u001b[0m \u001b[0mOptional\u001b[0m\u001b[1;33m[\u001b[0m\u001b[0mlangchain_core\u001b[0m\u001b[1;33m.\u001b[0m\u001b[0mcallbacks\u001b[0m\u001b[1;33m.\u001b[0m\u001b[0mbase\u001b[0m\u001b[1;33m.\u001b[0m\u001b[0mBaseCallbackManager\u001b[0m\u001b[1;33m]\u001b[0m \u001b[1;33m=\u001b[0m \u001b[1;32mNone\u001b[0m\u001b[1;33m,\u001b[0m\u001b[1;33m\n",
       "\u001b[0m    \u001b[0mtags\u001b[0m\u001b[1;33m:\u001b[0m \u001b[0mOptional\u001b[0m\u001b[1;33m[\u001b[0m\u001b[0mList\u001b[0m\u001b[1;33m[\u001b[0m\u001b[0mstr\u001b[0m\u001b[1;33m]\u001b[0m\u001b[1;33m]\u001b[0m \u001b[1;33m=\u001b[0m \u001b[1;32mNone\u001b[0m\u001b[1;33m,\u001b[0m\u001b[1;33m\n",
       "\u001b[0m    \u001b[0mmetadata\u001b[0m\u001b[1;33m:\u001b[0m \u001b[0mOptional\u001b[0m\u001b[1;33m[\u001b[0m\u001b[0mDict\u001b[0m\u001b[1;33m[\u001b[0m\u001b[0mstr\u001b[0m\u001b[1;33m,\u001b[0m \u001b[0mAny\u001b[0m\u001b[1;33m]\u001b[0m\u001b[1;33m]\u001b[0m \u001b[1;33m=\u001b[0m \u001b[1;32mNone\u001b[0m\u001b[1;33m,\u001b[0m\u001b[1;33m\n",
       "\u001b[0m    \u001b[0mhandle_tool_error\u001b[0m\u001b[1;33m:\u001b[0m \u001b[0mUnion\u001b[0m\u001b[1;33m[\u001b[0m\u001b[0mbool\u001b[0m\u001b[1;33m,\u001b[0m \u001b[0mstr\u001b[0m\u001b[1;33m,\u001b[0m \u001b[0mCallable\u001b[0m\u001b[1;33m[\u001b[0m\u001b[1;33m[\u001b[0m\u001b[0mlangchain_core\u001b[0m\u001b[1;33m.\u001b[0m\u001b[0mtools\u001b[0m\u001b[1;33m.\u001b[0m\u001b[0mToolException\u001b[0m\u001b[1;33m]\u001b[0m\u001b[1;33m,\u001b[0m \u001b[0mstr\u001b[0m\u001b[1;33m]\u001b[0m\u001b[1;33m,\u001b[0m \u001b[0mNoneType\u001b[0m\u001b[1;33m]\u001b[0m \u001b[1;33m=\u001b[0m \u001b[1;32mFalse\u001b[0m\u001b[1;33m,\u001b[0m\u001b[1;33m\n",
       "\u001b[0m    \u001b[0mhandle_validation_error\u001b[0m\u001b[1;33m:\u001b[0m \u001b[0mUnion\u001b[0m\u001b[1;33m[\u001b[0m\u001b[0mbool\u001b[0m\u001b[1;33m,\u001b[0m \u001b[0mstr\u001b[0m\u001b[1;33m,\u001b[0m \u001b[0mCallable\u001b[0m\u001b[1;33m[\u001b[0m\u001b[1;33m[\u001b[0m\u001b[0mpydantic\u001b[0m\u001b[1;33m.\u001b[0m\u001b[0mv1\u001b[0m\u001b[1;33m.\u001b[0m\u001b[0merror_wrappers\u001b[0m\u001b[1;33m.\u001b[0m\u001b[0mValidationError\u001b[0m\u001b[1;33m]\u001b[0m\u001b[1;33m,\u001b[0m \u001b[0mstr\u001b[0m\u001b[1;33m]\u001b[0m\u001b[1;33m,\u001b[0m \u001b[0mNoneType\u001b[0m\u001b[1;33m]\u001b[0m \u001b[1;33m=\u001b[0m \u001b[1;32mFalse\u001b[0m\u001b[1;33m,\u001b[0m\u001b[1;33m\n",
       "\u001b[0m    \u001b[0mapi_wrapper\u001b[0m\u001b[1;33m:\u001b[0m \u001b[0mlangchain_community\u001b[0m\u001b[1;33m.\u001b[0m\u001b[0mutilities\u001b[0m\u001b[1;33m.\u001b[0m\u001b[0mtavily_search\u001b[0m\u001b[1;33m.\u001b[0m\u001b[0mTavilySearchAPIWrapper\u001b[0m \u001b[1;33m=\u001b[0m \u001b[1;32mNone\u001b[0m\u001b[1;33m,\u001b[0m\u001b[1;33m\n",
       "\u001b[0m    \u001b[0mmax_results\u001b[0m\u001b[1;33m:\u001b[0m \u001b[0mint\u001b[0m \u001b[1;33m=\u001b[0m \u001b[1;36m5\u001b[0m\u001b[1;33m,\u001b[0m\u001b[1;33m\n",
       "\u001b[0m    \u001b[0msearch_depth\u001b[0m\u001b[1;33m:\u001b[0m \u001b[0mstr\u001b[0m \u001b[1;33m=\u001b[0m \u001b[1;34m'advanced'\u001b[0m\u001b[1;33m,\u001b[0m\u001b[1;33m\n",
       "\u001b[0m    \u001b[0minclude_domains\u001b[0m\u001b[1;33m:\u001b[0m \u001b[0mList\u001b[0m\u001b[1;33m[\u001b[0m\u001b[0mstr\u001b[0m\u001b[1;33m]\u001b[0m \u001b[1;33m=\u001b[0m \u001b[1;33m[\u001b[0m\u001b[1;33m]\u001b[0m\u001b[1;33m,\u001b[0m\u001b[1;33m\n",
       "\u001b[0m    \u001b[0mexclude_domains\u001b[0m\u001b[1;33m:\u001b[0m \u001b[0mList\u001b[0m\u001b[1;33m[\u001b[0m\u001b[0mstr\u001b[0m\u001b[1;33m]\u001b[0m \u001b[1;33m=\u001b[0m \u001b[1;33m[\u001b[0m\u001b[1;33m]\u001b[0m\u001b[1;33m,\u001b[0m\u001b[1;33m\n",
       "\u001b[0m    \u001b[0minclude_answer\u001b[0m\u001b[1;33m:\u001b[0m \u001b[0mbool\u001b[0m \u001b[1;33m=\u001b[0m \u001b[1;32mFalse\u001b[0m\u001b[1;33m,\u001b[0m\u001b[1;33m\n",
       "\u001b[0m    \u001b[0minclude_raw_content\u001b[0m\u001b[1;33m:\u001b[0m \u001b[0mbool\u001b[0m \u001b[1;33m=\u001b[0m \u001b[1;32mFalse\u001b[0m\u001b[1;33m,\u001b[0m\u001b[1;33m\n",
       "\u001b[0m    \u001b[0minclude_images\u001b[0m\u001b[1;33m:\u001b[0m \u001b[0mbool\u001b[0m \u001b[1;33m=\u001b[0m \u001b[1;32mFalse\u001b[0m\u001b[1;33m,\u001b[0m\u001b[1;33m\n",
       "\u001b[0m\u001b[1;33m)\u001b[0m \u001b[1;33m->\u001b[0m \u001b[1;32mNone\u001b[0m\u001b[1;33m\u001b[0m\u001b[1;33m\u001b[0m\u001b[0m\n",
       "\u001b[1;31mDocstring:\u001b[0m     \n",
       "Tool that queries the Tavily Search API and gets back json.\n",
       "\n",
       "Setup:\n",
       "    Install ``langchain-openai`` and ``tavily-python``, and set environment variable ``TAVILY_API_KEY``.\n",
       "\n",
       "    .. code-block:: bash\n",
       "\n",
       "        pip install -U langchain-openai\n",
       "        export TAVILY_API_KEY=\"your-api-key\"\n",
       "\n",
       "Instantiate:\n",
       "\n",
       "    .. code-block:: python\n",
       "\n",
       "        from langchain_community.tools.tavily_search import TavilySearchResults\n",
       "\n",
       "        tool = TavilySearchResults(\n",
       "            # max_results= 5\n",
       "            # search_depth = \"advanced\"\n",
       "            # include_domains = []\n",
       "            # exclude_domains = []\n",
       "            # include_answer = False\n",
       "            # include_raw_content = False\n",
       "            # include_images = False\n",
       "        )\n",
       "\n",
       "Invoke:\n",
       "\n",
       "    .. code-block:: python\n",
       "\n",
       "        tool = TavilySearchResults(max_results=3)\n",
       "        tool.invoke(\"What is the weather?\")\n",
       "\n",
       "    .. code-block:: python\n",
       "\n",
       "        [{'url': 'https://www.weatherapi.com/',\n",
       "        'content': \"{'location': {'name': 'Current', 'region': 'Harbour Island', 'country': 'Bahamas', 'lat': 25.43, 'lon': -76.78, 'tz_id': 'America/Nassau', 'localtime_epoch': 1718077801, 'localtime': '2024-06-10 23:50'}, 'current': {'last_updated_epoch': 1718077500, 'last_updated': '2024-06-10 23:45', 'temp_c': 27.9, 'temp_f': 82.1, 'is_day': 0, 'condition': {'text': 'Patchy rain nearby', 'icon': '//cdn.weatherapi.com/weather/64x64/night/176.png', 'code': 1063}, 'wind_mph': 14.5, 'wind_kph': 23.4, 'wind_degree': 161, 'wind_dir': 'SSE', 'pressure_mb': 1014.0, 'pressure_in': 29.94, 'precip_mm': 0.01, 'precip_in': 0.0, 'humidity': 88, 'cloud': 74, 'feelslike_c': 33.1, 'feelslike_f': 91.5, 'windchill_c': 27.9, 'windchill_f': 82.1, 'heatindex_c': 33.1, 'heatindex_f': 91.5, 'dewpoint_c': 25.6, 'dewpoint_f': 78.1, 'vis_km': 10.0, 'vis_miles': 6.0, 'uv': 1.0, 'gust_mph': 20.4, 'gust_kph': 32.9}}\"},\n",
       "        {'url': 'https://www.localconditions.com/weather-ninnescah-kansas/67069/',\n",
       "        'content': 'The following chart reports what the hourly Ninnescah, KS temperature has been today, from 12:56 AM to 3:56 AM Tue, May 21st 2024. The lowest temperature reading has been 73.04 degrees fahrenheit at 3:56 AM, while the highest temperature is 75.92 degrees fahrenheit at 12:56 AM. Ninnescah KS detailed current weather report for 67069 in Kansas.'},\n",
       "        {'url': 'https://www.weather.gov/forecastmaps/',\n",
       "        'content': 'Short Range Forecasts. Short range forecast products depicting pressure patterns, circulation centers and fronts, and types and extent of precipitation. 12 Hour | 24 Hour | 36 Hour | 48 Hour.'}]\n",
       "\n",
       "    When converting ``TavilySearchResults`` to a tool, you may want to not return all of the content resulting from ``invoke``. You can select what parts of the response to keep depending on your use case.\n",
       "\u001b[1;31mInit docstring:\u001b[0m\n",
       "Create a new model by parsing and validating input data from keyword arguments.\n",
       "\n",
       "Raises ValidationError if the input data cannot be parsed to form a valid model.\n",
       "\u001b[1;31mFile:\u001b[0m           c:\\users\\mengchieh\\miniconda3\\envs\\llm_examples\\lib\\site-packages\\langchain_community\\tools\\tavily_search\\tool.py\n",
       "\u001b[1;31mType:\u001b[0m           ModelMetaclass\n",
       "\u001b[1;31mSubclasses:\u001b[0m     "
      ]
     },
     "metadata": {},
     "output_type": "display_data"
    }
   ],
   "source": [
    "TavilySearchResults?"
   ]
  },
  {
   "cell_type": "code",
   "execution_count": 18,
   "id": "ab854472-1d5f-468e-ad85-37095f6fccc5",
   "metadata": {
    "tags": []
   },
   "outputs": [
    {
     "name": "stdout",
     "output_type": "stream",
     "text": [
      "\n",
      "**************************\n",
      "\n",
      "Hu Tao[Note 2] (Chinese: 胡桃 Hú Táo) is a playable Pyro character in Genshin Impact. Hu Tao's antics and eccentricity belies her role as the 77th Director of the Wangsheng Funeral Parlor and her talent as a poet. Nevertheless, she treats the parlor's operations with utmost importance, and holds funeral ceremonies with the highest dignity and solemnity. Toggle Ascension MaterialsTotal Cost\n",
      "\n",
      "\n",
      "\n",
      "**************************\n",
      "\n",
      "Hu Tao (Chinese: 胡桃; pinyin: Hú Táo; lit. 'Walnut') is a playable character in the action role-playing game Genshin Impact.She is voiced by Brianna Knickerbocker in English, Tao Dian [] in Chinese, Rie Takahashi in Japanese, and Kim Ha-ru [] in Korean. In the game, she serves as the 77th Director of the Wangsheng Funeral Parlor within the China-like nation of Liyue.\n",
      "\n",
      "\n",
      "\n",
      "**************************\n",
      "\n",
      "Appearance. Hu Tao's most immediately recognizable features are her porkpie hat adorned with a red plum branch with a large wooden talisman at its center and her bright scarlet eyes with blossom\n",
      "\n",
      "\n",
      "\n",
      "**************************\n",
      "\n",
      "Hu Tao is a Playable Character in Genshin Impact.These playable characters are the various roles that a player can add to their party and take control of in Genshin Impact. Each character in the game is unique from one another, they are different when it comes to the element they harness, the weapon that they use, their appearance, stats, strengths, weaknesses, and many more\n",
      "\n",
      "\n",
      "\n",
      "**************************\n",
      "\n",
      "HoYoWiki - Genshin Impact - Hu Tao: The 77th Director of the Wangsheng Funeral Parlor. She took over the business at a rather young age.\n",
      "\n",
      "\n"
     ]
    }
   ],
   "source": [
    "for output in outputs:\n",
    "    print(\"\\n**************************\\n\")\n",
    "    print(output['content'])\n",
    "    print(\"\\n\")\n",
    "    "
   ]
  },
  {
   "cell_type": "markdown",
   "id": "5ba75cd3-0fa8-4012-9ab4-0de388ab097d",
   "metadata": {},
   "source": [
    "# **** 預計第一個小時結束 ****"
   ]
  },
  {
   "cell_type": "markdown",
   "id": "3762d243-fe7f-4b43-b9c8-466918715165",
   "metadata": {},
   "source": [
    "## LCEL ACG character appearance chain"
   ]
  },
  {
   "cell_type": "code",
   "execution_count": 19,
   "id": "1ab73102-3977-4691-b91d-10d0faa3aa0b",
   "metadata": {
    "tags": []
   },
   "outputs": [],
   "source": [
    "from langchain.docstore.document import Document\n",
    "from langchain.agents import Tool, AgentExecutor, create_react_agent\n",
    "from langchain.tools import BaseTool\n",
    "from langchain.prompts import PromptTemplate, ChatPromptTemplate, HumanMessagePromptTemplate, SystemMessagePromptTemplate\n",
    "from langchain_core.output_parsers import StrOutputParser\n",
    "\n",
    "\n",
    "def tavily_content_parser(outputs):\n",
    "\n",
    "    \"\"\"\n",
    "    Parses the content from a list of outputs into Document objects.\n",
    "    \n",
    "    Parameters:\n",
    "    outputs (list): A list of dictionaries where each dictionary contains a 'content' key \n",
    "                    representing the content of a document.\n",
    "    \n",
    "    Returns:\n",
    "    list: A list of Document objects, each initialized with the content from the 'outputs'.\n",
    "    \n",
    "    Example:\n",
    "    >>> outputs = [\n",
    "    ...     {'content': 'This is document 1 content.'},\n",
    "    ...     {'content': 'This is document 2 content.'}\n",
    "    ... ]\n",
    "    >>> documents = tavily_content_parser(outputs)\n",
    "    >>> for doc in documents:\n",
    "    ...     print(doc.page_content)\n",
    "    This is document 1 content.\n",
    "    This is document 2 content.\n",
    "    \"\"\"\n",
    "    \n",
    "    documents = [Document(page_content=output['content']) for output in outputs]\n",
    "    \n",
    "    return documents\n",
    "\n",
    "\n",
    "system_prompt = PromptTemplate.from_template('''You are a helpful AI assistant with deep knowledge of anime, manga, \n",
    "and mobile games. You will generate the face, body, attire, hairstyle, and accessories of an character in great \n",
    "detail with data provided from the `context` The output should look like:\n",
    "\n",
    " - Face:\n",
    " - Body:\n",
    " - Attire:\n",
    " - Hairstyle:\n",
    " - Accessories:\n",
    "\n",
    "''')\n",
    "\n",
    "system_message = SystemMessagePromptTemplate(prompt=system_prompt)\n",
    "\n",
    "\n",
    "human_prompt = PromptTemplate(template=\"context: {context}\",\n",
    "                              input_variables=['context'])\n",
    "\n",
    "# Create a human message prompt template based on the prompt\n",
    "human_message = HumanMessagePromptTemplate(prompt=human_prompt)\n",
    "\n",
    "# Create a chat prompt template from system and human message prompt templates\n",
    "chat_prompt = ChatPromptTemplate.from_messages([system_message, human_message])\n",
    "\n",
    "# Construct the processing chain\n",
    "step_1 = {'context': tavily_tool|tavily_content_parser}\n",
    "step_2 = chat_prompt\n",
    "step_3 = model\n",
    "step_4 = StrOutputParser()\n",
    "acg_chain = step_1 | step_2 | step_3 | step_4\n",
    "\n"
   ]
  },
  {
   "cell_type": "code",
   "execution_count": 20,
   "id": "c05f32a4-affa-4092-96ef-a0d7744d4222",
   "metadata": {
    "tags": []
   },
   "outputs": [],
   "source": [
    "output = acg_chain.invoke(\"What is the appearance of Hu Tao from Genshin\")"
   ]
  },
  {
   "cell_type": "code",
   "execution_count": 21,
   "id": "f14d440f-bbc1-41bf-9449-5dfde75fbc24",
   "metadata": {},
   "outputs": [
    {
     "name": "stdout",
     "output_type": "stream",
     "text": [
      "Based on the provided context, here is a detailed description of Hu Tao from Genshin Impact:\n",
      "\n",
      "- **Face**:\n",
      "  - Hu Tao has bright scarlet eyes that are one of her most striking features. Her eyes often have a blossom-like pattern within them, adding to her unique and mystical appearance.\n",
      "  - Her face is youthful and expressive, often showing a playful or mischievous expression that belies her serious role.\n",
      "\n",
      "- **Body**:\n",
      "  - Hu Tao has a slender and agile build, fitting her role as a nimble and quick character in the game.\n",
      "  - Her posture is often relaxed and confident, reflecting her eccentric and carefree personality.\n",
      "\n",
      "- **Attire**:\n",
      "  - Hu Tao wears a traditional Chinese-inspired outfit that is both elegant and functional. Her attire is primarily dark in color, with intricate red and gold patterns that symbolize her connection to the Pyro element.\n",
      "  - She is often seen wearing a long, dark coat with red accents and a high collar, which adds to her mysterious and authoritative presence as the Director of the Wangsheng Funeral Parlor.\n",
      "\n",
      "- **Hairstyle**:\n",
      "  - Hu Tao has long, dark brown hair that she wears in twin tails, tied with red ribbons. Her hair is straight and flows down her back, adding to her youthful and energetic appearance.\n",
      "  - She also has bangs that frame her face, enhancing her playful and mischievous look.\n",
      "\n",
      "- **Accessories**:\n",
      "  - One of Hu Tao's most recognizable accessories is her porkpie hat, which is adorned with a red plum branch and a large wooden talisman at its center. This hat is a significant part of her character design and adds to her unique and memorable appearance.\n",
      "  - She also carries a polearm weapon, which she uses in combat. The weapon is often decorated with red and gold accents, matching her overall color scheme and theme.\n",
      "\n",
      "This detailed description captures the essence of Hu Tao's character design in Genshin Impact.\n"
     ]
    }
   ],
   "source": [
    "print(output)"
   ]
  },
  {
   "cell_type": "code",
   "execution_count": 22,
   "id": "6f9a6afa-cf49-4aa1-a542-1fa9ef205d27",
   "metadata": {
    "tags": []
   },
   "outputs": [],
   "source": [
    "class ACGLLMTool(BaseTool):\n",
    "\n",
    "    name = \"`Anime character design generator`\"\n",
    "    description = \"Use this tool to generate and explore detailed designs for anime and ACG (Animation, Comics, and Games) characters.\"\n",
    "\n",
    "    def _run(self, query: str):\n",
    "        \n",
    "        description = acg_chain.invoke(query)\n",
    "        \n",
    "        return description\n",
    "\n",
    "    def _arun(self, radius: int):\n",
    "        raise NotImplementedError(\"This tool does not support async\")\n",
    "        \n",
    "        \n",
    "class ImageTool(BaseTool):\n",
    "\n",
    "    name = \"ACG characters image generator with DALLE-3\"\n",
    "\n",
    "    input_response_schemas = [\n",
    "        ResponseSchema(name=\"image_desc\", description=\"image description / prompt\"),\n",
    "        ResponseSchema(name=\"filename\", description=\"the location at which the image will be saved\"),\n",
    "        ResponseSchema(name=\"size\", description=\"image size, can be `1024x1024`, `1024x1792`, `1792x1024`\"),\n",
    "        ResponseSchema(name=\"quality\", description=\"image quality, can be `hd` or `standard`\"),\n",
    "        ResponseSchema(name=\"style\", description=\"image style, can be `vivid` or `natural`\")]\n",
    "    \n",
    "    input_output_parser = StructuredOutputParser.from_response_schemas(input_response_schemas)\n",
    "    \n",
    "    input_format_instructions = input_output_parser.get_format_instructions()\n",
    "\n",
    "    description_template = \"\"\"\n",
    "                           This is a tool for creating images. \n",
    "                           It's best used when you're considering the need for an ACG (anime, comics, games) character design. \n",
    "                           Before using this tool, you may want to utilize the `Anime character design generator` to gather \n",
    "                           relevant information. The generated image will maintain the specified art style. \n",
    "                           input format: {input_format_instructions}\n",
    "                           \"\"\"\n",
    "\n",
    "    description = description_template.format(input_format_instructions=input_format_instructions)\n",
    "    \n",
    "    def _run(self, query):\n",
    "        \n",
    "        input_ = self.input_output_parser.parse(query)\n",
    "        \n",
    "        image_desc = input_['image_desc']\n",
    "        size = input_['size']\n",
    "        quality = input_['quality']\n",
    "        style = input_['style']\n",
    "        filename = input_['filename']\n",
    "        \n",
    "        dalle3_chain.invoke({\"image_desc\": image_desc,\n",
    "                             \"size\": size,\n",
    "                             \"quality\": quality,\n",
    "                             \"style\": style,\n",
    "                             \"filename\": filename})\n",
    "        \n",
    "        return \"Done\"\n",
    "\n",
    "    def _arun(self, radius: int):\n",
    "        raise NotImplementedError(\"This tool does not support async\")\n",
    "\n",
    "        \n",
    "prompt_template = \"\"\"\n",
    "Answer the following questions as best you can. You have access to the following tools:\n",
    "\n",
    "{tools}\n",
    "\n",
    "Use the following format:\n",
    "\n",
    "Question: the input question you must answer\n",
    "\n",
    "Thought: you should always think about what to do\n",
    "\n",
    "Action: the action to take, should be one of [{tool_names}]\n",
    "\n",
    "Action Input: the input to the action\n",
    "\n",
    "Observation: the result of the action\n",
    "\n",
    "... (this Thought/Action/Action Input/Observation can repeat N times)\n",
    "\n",
    "Thought: I now know the final answer\n",
    "\n",
    "Final Answer: the final answer to the original input question\n",
    "\n",
    "Begin!\n",
    "\n",
    "Question: {input}\n",
    "\n",
    "Thought:{agent_scratchpad}\n",
    "\"\"\"        \n",
    "             \n",
    "prompt = PromptTemplate.from_template(prompt_template)\n",
    "\n",
    "tools = [ImageTool(), ACGLLMTool()]\n",
    "\n",
    "zero_shot_agent = create_react_agent(\n",
    "    llm=model,\n",
    "    tools=tools,\n",
    "    prompt=prompt,\n",
    ")\n",
    "\n",
    "agent_executor = AgentExecutor(agent=zero_shot_agent, tools=tools, verbose=True)"
   ]
  },
  {
   "cell_type": "code",
   "execution_count": 23,
   "id": "ce8d8dfd-78c8-45b4-8292-28857e770371",
   "metadata": {
    "tags": []
   },
   "outputs": [
    {
     "name": "stdout",
     "output_type": "stream",
     "text": [
      "\n",
      "\n",
      "\u001b[1m> Entering new AgentExecutor chain...\u001b[0m\n",
      "\u001b[32;1m\u001b[1;3mTo generate an image of Hu Tao from Genshin Impact in a pastel art style, I should first gather detailed design information using the `Anime character design generator`. This will help ensure that the image generated by the `ACG characters image generator with DALLE-3` is accurate and meets the desired specifications.\n",
      "\n",
      "Action: `Anime character design generator`\n",
      "\n",
      "Action Input: Generate a detailed design for Hu Tao from Genshin Impact in a pastel art style.\n",
      "\u001b[0m\u001b[33;1m\u001b[1;3mBased on the provided context, here is a detailed description of the AI-generated Hu Tao character art from Genshin Impact:\n",
      "\n",
      "- **Face**: \n",
      "  - Hu Tao's face is characterized by her youthful and mischievous expression. She has a fair complexion with a slight blush on her cheeks, giving her a lively and spirited look. Her eyes are a striking crimson red, often depicted with a playful glint that reflects her enigmatic personality. Her lips are small and slightly curved into a knowing smile, adding to her mysterious charm.\n",
      "\n",
      "- **Body**: \n",
      "  - Hu Tao has a slender and athletic build, befitting her role as a pyrotechnician and adventurer. Her posture is confident and relaxed, often depicted in dynamic poses that showcase her agility and energy. Her movements are graceful yet powerful, embodying her fiery spirit.\n",
      "\n",
      "- **Attire**: \n",
      "  - In this particular depiction, Hu Tao is adorned in a bikini, which is a departure from her usual traditional Chinese-inspired outfit. The bikini is designed with intricate patterns that resemble flames, emphasizing her connection to the Pyro element. The colors are predominantly red and gold, symbolizing fire and her vibrant personality. The bikini top is styled with a halter neck, and the bottom has side ties, adding a playful touch to her look.\n",
      "\n",
      "- **Hairstyle**: \n",
      "  - Hu Tao's hair is long and dark brown, cascading down her back in loose waves. She has her signature bangs that frame her face, with two longer strands on either side. Her hair is often adorned with a small, traditional Chinese hairpin or accessory, adding a touch of elegance to her otherwise playful appearance.\n",
      "\n",
      "- **Accessories**: \n",
      "  - Hu Tao is often seen with her signature ghostly companion, which floats around her, adding to her mysterious aura. In this depiction, she might also have a small, decorative fan or a lantern, both of which are traditional Chinese accessories that complement her character. Additionally, she might wear a delicate anklet or bracelet with charms that jingle softly as she moves, enhancing her whimsical and enigmatic presence.\n",
      "\n",
      "This detailed description captures the essence of Hu Tao as depicted in the AI-generated art, blending her traditional elements with a more playful and modern twist.\u001b[0m\u001b[32;1m\u001b[1;3mTo generate the image of Hu Tao from Genshin Impact in a pastel art style, I will use the `ACG characters image generator with DALLE-3` with the detailed design information provided.\n",
      "\n",
      "Action: ACG characters image generator with DALLE-3\n",
      "\n",
      "Action Input:\n",
      "```json\n",
      "{\n",
      "\t\"image_desc\": \"Hu Tao from Genshin Impact with a youthful and mischievous expression, fair complexion with a slight blush, striking crimson red eyes, small lips curved into a knowing smile. She has a slender and athletic build, confident and relaxed posture, often depicted in dynamic poses. She is adorned in a bikini with intricate flame patterns, predominantly red and gold colors, halter neck top, and side-tie bottom. Her long dark brown hair cascades in loose waves with signature bangs and traditional Chinese hairpin. She is accompanied by a ghostly companion, and might have a small decorative fan or lantern, and a delicate anklet or bracelet with charms. The art style is pastel.\",\n",
      "\t\"filename\": \"hu_tao_pastel_art_style.png\",\n",
      "\t\"size\": \"1024x1024\",\n",
      "\t\"quality\": \"hd\",\n",
      "\t\"style\": \"vivid\"\n",
      "}\n",
      "```\n",
      "\u001b[0mStart generating image...\n",
      "prompt: Create an illustration of Hu Tao from Genshin Impact, capturing her youthful and mischievous expression. She has a fair complexion with a slight blush, striking crimson red eyes, and small lips curved into a knowing smile. Her slender and athletic build is evident, and she stands in a confident and relaxed posture, often depicted in dynamic poses. Hu Tao is adorned in a bikini with intricate flame patterns, predominantly in red and gold colors, featuring a halter neck top and side-tie bottom. Her long dark brown hair cascades in loose waves, with her signature bangs and a traditional Chinese hairpin. She is accompanied by a ghostly companion, adding a playful and ethereal touch to the scene. Additional details include a small decorative fan or lantern, and a delicate anklet or bracelet with charms. The art style should be pastel, emphasizing soft and gentle hues to create a dreamy and whimsical atmosphere.\n",
      "Image is generated succesfully.\n",
      "\u001b[36;1m\u001b[1;3mDone\u001b[0m\u001b[32;1m\u001b[1;3mI now know the final answer.\n",
      "\n",
      "Final Answer: The image of Hu Tao from Genshin Impact in a pastel art style has been generated successfully. The image features Hu Tao with a youthful and mischievous expression, fair complexion with a slight blush, striking crimson red eyes, and a knowing smile. She is depicted in a bikini with intricate flame patterns, predominantly red and gold colors, with a halter neck top and side-tie bottom. Her long dark brown hair cascades in loose waves with signature bangs and a traditional Chinese hairpin. She is accompanied by a ghostly companion and might have a small decorative fan or lantern, and a delicate anklet or bracelet with charms. The art style is pastel, and the image is in HD quality with a vivid style. The image is saved as \"hu_tao_pastel_art_style.png\" with a size of 1024x1024.\u001b[0m\n",
      "\n",
      "\u001b[1m> Finished chain.\u001b[0m\n"
     ]
    },
    {
     "data": {
      "text/plain": [
       "{'input': 'Generate an image of Hu Tao from Genshim in pastol art style',\n",
       " 'output': 'The image of Hu Tao from Genshin Impact in a pastel art style has been generated successfully. The image features Hu Tao with a youthful and mischievous expression, fair complexion with a slight blush, striking crimson red eyes, and a knowing smile. She is depicted in a bikini with intricate flame patterns, predominantly red and gold colors, with a halter neck top and side-tie bottom. Her long dark brown hair cascades in loose waves with signature bangs and a traditional Chinese hairpin. She is accompanied by a ghostly companion and might have a small decorative fan or lantern, and a delicate anklet or bracelet with charms. The art style is pastel, and the image is in HD quality with a vivid style. The image is saved as \"hu_tao_pastel_art_style.png\" with a size of 1024x1024.'}"
      ]
     },
     "execution_count": 23,
     "metadata": {},
     "output_type": "execute_result"
    }
   ],
   "source": [
    "agent_executor.invoke({\"input\": f\"Generate an image of Hu Tao from Genshim in pastol art style\"})"
   ]
  },
  {
   "cell_type": "code",
   "execution_count": 24,
   "id": "3c428fcc-e8be-45f1-8d15-9e7112fba86e",
   "metadata": {
    "tags": []
   },
   "outputs": [
    {
     "name": "stdout",
     "output_type": "stream",
     "text": [
      "\n",
      "\n",
      "\u001b[1m> Entering new AgentExecutor chain...\u001b[0m\n",
      "\u001b[32;1m\u001b[1;3mTo generate an award-winning portrait photo of a 17-year-old Japanese girl cosplaying Hu Tao from Genshin Impact, I need to first gather detailed design information about the character Hu Tao using the `Anime character design generator`. This will help ensure the cosplay is accurate and detailed.\n",
      "\n",
      "Action: Anime character design generator\n",
      "\n",
      "Action Input: Generate detailed design for Hu Tao from Genshin Impact\n",
      "\u001b[0mAnime character design generator is not a valid tool, try one of [ACG characters image generator with DALLE-3, `Anime character design generator`].\u001b[32;1m\u001b[1;3mIt seems I made an error in my previous thought. I should directly use the `ACG characters image generator with DALLE-3` to create the image based on the known design of Hu Tao from Genshin Impact.\n",
      "\n",
      "Action: ACG characters image generator with DALLE-3\n",
      "\n",
      "Action Input: \n",
      "```json\n",
      "{\n",
      "\t\"image_desc\": \"A 17-year-old Japanese girl cosplaying as Hu Tao from Genshin Impact. She is wearing Hu Tao's traditional Chinese-inspired outfit, complete with the black and red hat adorned with a flower, the long black coat with red and gold accents, and the white shorts. The background is a vivid, colorful setting that complements the character's design.\",\n",
      "\t\"filename\": \"hu_tao_cosplay_portrait.png\",\n",
      "\t\"size\": \"1024x1792\",\n",
      "\t\"quality\": \"hd\",\n",
      "\t\"style\": \"vivid\"\n",
      "}\n",
      "```\n",
      "\u001b[0mStart generating image...\n",
      "prompt: A 17-year-old Japanese girl cosplaying as Hu Tao from Genshin Impact stands confidently in a vibrant, colorful setting. She is dressed in Hu Tao's traditional Chinese-inspired outfit, which includes a black and red hat adorned with a delicate flower. Her long black coat, embellished with intricate red and gold accents, flows gracefully around her. Underneath, she wears white shorts that contrast sharply with the darker tones of her coat. The background is a vivid, lively scene filled with bright colors and dynamic elements that perfectly complement the character's design, creating an atmosphere that feels both fantastical and immersive. The girl's expression is playful and spirited, capturing the essence of Hu Tao's mischievous and energetic personality.\n",
      "Image is generated succesfully.\n",
      "\u001b[36;1m\u001b[1;3mDone\u001b[0m\u001b[32;1m\u001b[1;3mI have successfully generated the image of a 17-year-old Japanese girl cosplaying as Hu Tao from Genshin Impact. The image is saved as \"hu_tao_cosplay_portrait.png\" with a size of 1024x1792, in HD quality, and with a vivid style.\n",
      "\n",
      "Final Answer: The award-winning portrait photo of a 17-year-old Japanese girl cosplaying Hu Tao from Genshin Impact has been generated and saved as \"hu_tao_cosplay_portrait.png\".\u001b[0m\n",
      "\n",
      "\u001b[1m> Finished chain.\u001b[0m\n"
     ]
    },
    {
     "data": {
      "text/plain": [
       "{'input': 'Generate an award-winning portrait photo of a 17-years-old japanese girl cosplaying Hu Tao from Genshim',\n",
       " 'output': 'The award-winning portrait photo of a 17-year-old Japanese girl cosplaying Hu Tao from Genshin Impact has been generated and saved as \"hu_tao_cosplay_portrait.png\".'}"
      ]
     },
     "execution_count": 24,
     "metadata": {},
     "output_type": "execute_result"
    }
   ],
   "source": [
    "agent_executor.invoke({\"input\": \"Generate an award-winning portrait photo of a 17-years-old japanese girl cosplaying Hu Tao from Genshim\" })"
   ]
  },
  {
   "cell_type": "markdown",
   "id": "9fabc653-5ca9-484b-a864-0b6a363ac275",
   "metadata": {},
   "source": [
    "## Audible 有聲書\n",
    "\n",
    "- 文轉語音: TTS tool\n",
    "- 文轉圖: Image tool"
   ]
  },
  {
   "cell_type": "markdown",
   "id": "0d8075d8-df6e-4320-a297-2504c5b28fbc",
   "metadata": {},
   "source": [
    "### Children Book Image Generator\n",
    "\n",
    "- Generate image according to the story"
   ]
  },
  {
   "cell_type": "code",
   "execution_count": 41,
   "id": "2d168449-4550-49b8-acd2-21b4d3009efa",
   "metadata": {
    "tags": []
   },
   "outputs": [],
   "source": [
    "system_prompt = PromptTemplate.from_template('''You are a helpful AI assistant and an art expert with extensive knowledge of illustration. \n",
    "You excel at creating Pencil and Ink Style illustrations for 6-year-old children using the DALLE-3 model. This style is characterized by \n",
    "detailed line work, often in black and white or with minimal color, and has a classic, timeless feel. For this task, you will be provided with \n",
    "a paragraph of a story, and you will generate a corresponding DALLE-3 prompt which captures the storyline. The prompt should be \n",
    "detailed and descriptive, capturing the essence of the image. The length of the prompt should be around 100-500 tokens.''')\n",
    "\n",
    "# System prompt\n",
    "system_message = SystemMessagePromptTemplate(prompt=system_prompt)\n",
    "\n",
    "human_prompt = PromptTemplate(template=\"{story}\",\n",
    "                              input_variables=['story'])\n",
    "\n",
    "# Create a human message prompt template based on the prompt\n",
    "human_message = HumanMessagePromptTemplate(prompt=human_prompt)\n",
    "\n",
    "chat_prompt = ChatPromptTemplate.from_messages([system_message, human_message])\n",
    "\n",
    "nl_prompt_generation_chain = chat_prompt | model | StrOutputParser()     \n",
    "\n",
    "step_1 = RunnablePassthrough.assign(nl_prompt=itemgetter('story')|nl_prompt_generation_chain)\n",
    "step_2 = RunnablePassthrough.assign(image_base64=dalle3_worker)\n",
    "step_3 = RunnableLambda(base64_to_file)\n",
    "image_chain = step_1 | step_2 | step_3"
   ]
  },
  {
   "cell_type": "code",
   "execution_count": null,
   "id": "46f1dfda-5933-4dbb-b96f-90261db41d36",
   "metadata": {},
   "outputs": [],
   "source": [
    "# step_1 = RunnablePassthrough.assign(nl_prompt=itemgetter('image_desc')|nl_prompt_generation_chain)\n",
    "\n",
    "# # step 2: image generation process, as a base64\n",
    "# step_2 = RunnablePassthrough.assign(image_base64=dalle3_worker)\n",
    "\n",
    "# # step 3: save the image\n",
    "# step_3 = RunnableLambda(base64_to_file)\n",
    "\n",
    "# # chain step 1, step 2, step 3 together\n",
    "# dalle3_chain =  step_1|step_2|step_3"
   ]
  },
  {
   "cell_type": "markdown",
   "id": "3f2128a3-41fc-49a3-a93f-57d7d18a169e",
   "metadata": {},
   "source": [
    "- Generate the story"
   ]
  },
  {
   "cell_type": "code",
   "execution_count": 26,
   "id": "797c315b-489e-4b45-b4b6-879a8e8414db",
   "metadata": {
    "tags": []
   },
   "outputs": [],
   "source": [
    "system_prompt = PromptTemplate.from_template('''You are a helpful AI assistant who likes children. \n",
    "You are great storyteller and know how to create content for kindergarten kids. A short chapter is \n",
    "created once at a time.''')\n",
    "\n",
    "# System prompt\n",
    "system_message = SystemMessagePromptTemplate(prompt=system_prompt)\n",
    "\n",
    "human_prompt = PromptTemplate(template=\"{input}\",\n",
    "                              input_variables=['input'])\n",
    "\n",
    "# Create a human message prompt template based on the prompt\n",
    "human_message = HumanMessagePromptTemplate(prompt=human_prompt)\n",
    "\n",
    "chat_prompt = ChatPromptTemplate.from_messages([system_message, human_message])\n",
    "\n",
    "story_chain = chat_prompt | model | StrOutputParser()     "
   ]
  },
  {
   "cell_type": "code",
   "execution_count": 42,
   "id": "e4bfecd8-484f-4c37-a9d4-09773a31b21d",
   "metadata": {
    "tags": []
   },
   "outputs": [],
   "source": [
    "import json\n",
    "\n",
    "from src.agent.react_zero_shot import prompt_template as zero_shot_prompt_template\n",
    "# from langchain_core.prompts import MessagesPlaceholder\n",
    "\n",
    "client = OpenAI(api_key=os.environ['OPENAI_API_KEY'])\n",
    "\n",
    "    \n",
    "class TTSTool(BaseTool):\n",
    "    \n",
    "    name = \"Text to Sound\"\n",
    "    description = \"Use this tool to generate an audio file\"\n",
    "\n",
    "    name = \"Text to Sound (tts) tool\"\n",
    "\n",
    "    input_response_schemas = [\n",
    "        ResponseSchema(name=\"text\", description=\"The story\"),\n",
    "        ResponseSchema(name=\"filename\", description=\"the location at which the audio file will be saved\")]\n",
    "    \n",
    "    input_output_parser = StructuredOutputParser.from_response_schemas(input_response_schemas)\n",
    "    \n",
    "    input_format_instructions = input_output_parser.get_format_instructions()\n",
    "\n",
    "    description_template = \"\"\"\n",
    "                           Use this tool to generate an audio file of the story. \n",
    "                           input format: {input_format_instructions}\n",
    "                           \"\"\"\n",
    "\n",
    "    description = description_template.format(input_format_instructions=input_format_instructions)\n",
    "\n",
    "    \n",
    "    def _run(self, text: str):\n",
    "\n",
    "        input_ = self.input_output_parser.parse(text)\n",
    "\n",
    "        text = input_['text']\n",
    "        filename = input_['filename']\n",
    "        \n",
    "        response = self.tts(text)\n",
    "        \n",
    "        response.stream_to_file(filename)\n",
    "        \n",
    "        return filename\n",
    "\n",
    "    def _arun(self, radius: int):\n",
    "        raise NotImplementedError(\"This tool does not support async\")\n",
    "        \n",
    "        \n",
    "    def tts(self, text: str):\n",
    "        \n",
    "        response = client.audio.speech.create(\n",
    "          model=\"tts-1\",\n",
    "          voice=\"nova\",\n",
    "          input=text\n",
    "        )\n",
    "\n",
    "        return response\n",
    "    \n",
    "    \n",
    "class ImageTool(BaseTool):\n",
    "\n",
    "    name = \"Image generator with DALLE-3\"\n",
    "\n",
    "    input_response_schemas = [\n",
    "        ResponseSchema(name=\"image_desc\", description=\"image description / prompt\"),\n",
    "        ResponseSchema(name=\"filename\", description=\"the location at which the image will be saved\"),\n",
    "        ResponseSchema(name=\"size\", description=\"image size, can be `1024x1024`, `1024x1792`, `1792x1024`\"),\n",
    "        ResponseSchema(name=\"quality\", description=\"image quality, can be `hd` or `standard`\"),\n",
    "        ResponseSchema(name=\"style\", description=\"image style, can be `vivid` or `natural`\")]\n",
    "    \n",
    "    input_output_parser = StructuredOutputParser.from_response_schemas(input_response_schemas)\n",
    "    \n",
    "    input_format_instructions = input_output_parser.get_format_instructions()\n",
    "\n",
    "    description_template = \"\"\"\n",
    "                           An image is generated and saved according to the input instruction.\n",
    "                           input instruction:\\n {input_format_instructions}\n",
    "                           \"\"\"\n",
    "\n",
    "    description = description_template.format(input_format_instructions=input_format_instructions)\n",
    "    \n",
    "    def _run(self, query):\n",
    "        \n",
    "        input_ = self.input_output_parser.parse(query)\n",
    "        \n",
    "        image_desc = input_['image_desc']\n",
    "        size = input_['size']\n",
    "        quality = input_['quality']\n",
    "        style = input_['style']\n",
    "        filename = input_['filename']\n",
    "        \n",
    "        image_chain.invoke({\"story\": image_desc,\n",
    "                             \"size\": size,\n",
    "                             \"quality\": quality,\n",
    "                             \"style\": style,\n",
    "                             \"filename\": filename})\n",
    "        \n",
    "        return \"Done\"\n",
    "\n",
    "    def _arun(self, radius: int):\n",
    "        raise NotImplementedError(\"This tool does not support async\")\n",
    "           \n",
    "            \n",
    "prompt = PromptTemplate.from_template(zero_shot_prompt_template)\n",
    "\n",
    "tools = [TTSTool(), \n",
    "         ImageTool(),\n",
    "         Tool(name=\"StoryTeller\",\n",
    "              func=story_chain.invoke,\n",
    "              description=\"useful for create story\",\n",
    "        )]\n",
    "\n",
    "zero_shot_agent = create_react_agent(\n",
    "    llm=model,\n",
    "    tools=tools,\n",
    "    prompt=prompt,\n",
    ")\n",
    "\n",
    "agent_executor = AgentExecutor(agent=zero_shot_agent, tools=tools, verbose=True, handle_parsing_errors=True)"
   ]
  },
  {
   "cell_type": "code",
   "execution_count": 43,
   "id": "74b78a71-2bac-478a-9a4f-046bf3deba9b",
   "metadata": {
    "tags": []
   },
   "outputs": [
    {
     "name": "stdout",
     "output_type": "stream",
     "text": [
      "\n",
      "\n",
      "\u001b[1m> Entering new AgentExecutor chain...\u001b[0m\n",
      "\u001b[32;1m\u001b[1;3mI need to create a chapter of a baby owl capturing a rodent in the night as his dinner. After writing the story, I will generate an image and an audio file for the story. \n",
      "\n",
      "First, I will create the story.\n",
      "\n",
      "Action: StoryTeller\n",
      "\n",
      "Action Input: \n",
      "```json\n",
      "{\n",
      "  \"input\": \"Create a chapter of a baby owl capturing a rodent in the night as his dinner.\"\n",
      "}\n",
      "```\n",
      "\u001b[0m\u001b[38;5;200m\u001b[1;3m**Chapter 1: Ollie the Baby Owl's Nighttime Adventure**\n",
      "\n",
      "Once upon a time, in a cozy forest filled with tall trees and twinkling stars, there lived a baby owl named Ollie. Ollie had big, round eyes that sparkled like the moon and soft, fluffy feathers that kept him warm during the chilly nights.\n",
      "\n",
      "One evening, as the sun dipped below the horizon and the sky turned a deep shade of blue, Ollie woke up from his nap. He stretched his tiny wings and blinked his sleepy eyes. It was time for his nighttime adventure!\n",
      "\n",
      "\"Whoo-whoo!\" Ollie hooted softly, excited to explore the forest. He flapped his wings and soared into the night sky, gliding silently over the treetops. The forest was alive with the sounds of crickets chirping and leaves rustling in the gentle breeze.\n",
      "\n",
      "Ollie was on a special mission tonight. He was learning how to find his own dinner, just like the grown-up owls. His tummy rumbled, reminding him that it was time to find something tasty to eat.\n",
      "\n",
      "As Ollie flew quietly through the forest, his sharp eyes spotted a little rodent scurrying through the grass below. The rodent had no idea that Ollie was watching from above. With a determined look in his eyes, Ollie swooped down, his wings making hardly a sound.\n",
      "\n",
      "The little rodent paused for a moment, sensing something in the air. But before it could scurry away, Ollie gently but swiftly captured it with his tiny talons. The rodent wiggled a bit, but Ollie held on tight, just like his mama had taught him.\n",
      "\n",
      "\"Whoo-whoo!\" Ollie hooted happily. He had done it! He had caught his very own dinner. With the rodent safely in his grasp, Ollie flew back to his favorite tree, where he perched on a sturdy branch.\n",
      "\n",
      "As Ollie enjoyed his meal, he felt proud of himself. He was growing up and learning new things every day. The stars above twinkled brightly, as if they were congratulating him on his successful adventure.\n",
      "\n",
      "With a full tummy and a happy heart, Ollie snuggled into his nest, ready for a good night's sleep. He knew that tomorrow would bring new adventures and more opportunities to learn and grow.\n",
      "\n",
      "And so, under the watchful eyes of the moon and stars, Ollie the baby owl drifted off to sleep, dreaming of the wonderful adventures that awaited him in the magical forest.\n",
      "\n",
      "**The End**\u001b[0m\u001b[32;1m\u001b[1;3mI now have the story of Ollie the baby owl capturing a rodent in the night as his dinner. Next, I will generate an image that corresponds to this story.\n",
      "\n",
      "Action: Image generator with DALLE-3\n",
      "\n",
      "Action Input: \n",
      "```json\n",
      "{\n",
      "  \"image_desc\": \"A baby owl named Ollie with big, round eyes and soft, fluffy feathers, capturing a rodent in the night. The scene is set in a cozy forest with tall trees and twinkling stars. Ollie is perched on a sturdy branch, holding the rodent with his tiny talons.\",\n",
      "  \"filename\": \"tutorial/Week-8/Ollie_the_Baby_Owl.png\",\n",
      "  \"size\": \"1024x1024\",\n",
      "  \"quality\": \"hd\",\n",
      "  \"style\": \"natural\"\n",
      "}\n",
      "```\n",
      "\u001b[0mStart generating image...\n",
      "prompt: Create a detailed pencil and ink style illustration for a 6-year-old child. The scene features a baby owl named Ollie with big, round eyes and soft, fluffy feathers. Ollie is perched on a sturdy branch in a cozy forest with tall trees and twinkling stars in the night sky. Ollie is holding a small rodent with his tiny talons. The forest is filled with intricate details like leaves, branches, and a few other nocturnal creatures peeking out. The overall mood is magical and serene, capturing the wonder of the nighttime forest.\n",
      "Image is generated succesfully.\n",
      "\u001b[33;1m\u001b[1;3mDone\u001b[0m\u001b[32;1m\u001b[1;3mI have successfully generated the image for the story. Now, I will create an audio file of the story in mp3 format.\n",
      "\n",
      "Action: Text to Sound (tts) tool\n",
      "\n",
      "Action Input: \n",
      "```json\n",
      "{\n",
      "\t\"text\": \"Chapter 1: Ollie the Baby Owl's Nighttime Adventure\\n\\nOnce upon a time, in a cozy forest filled with tall trees and twinkling stars, there lived a baby owl named Ollie. Ollie had big, round eyes that sparkled like the moon and soft, fluffy feathers that kept him warm during the chilly nights.\\n\\nOne evening, as the sun dipped below the horizon and the sky turned a deep shade of blue, Ollie woke up from his nap. He stretched his tiny wings and blinked his sleepy eyes. It was time for his nighttime adventure!\\n\\n\\\"Whoo-whoo!\\\" Ollie hooted softly, excited to explore the forest. He flapped his wings and soared into the night sky, gliding silently over the treetops. The forest was alive with the sounds of crickets chirping and leaves rustling in the gentle breeze.\\n\\nOllie was on a special mission tonight. He was learning how to find his own dinner, just like the grown-up owls. His tummy rumbled, reminding him that it was time to find something tasty to eat.\\n\\nAs Ollie flew quietly through the forest, his sharp eyes spotted a little rodent scurrying through the grass below. The rodent had no idea that Ollie was watching from above. With a determined look in his eyes, Ollie swooped down, his wings making hardly a sound.\\n\\nThe little rodent paused for a moment, sensing something in the air. But before it could scurry away, Ollie gently but swiftly captured it with his tiny talons. The rodent wiggled a bit, but Ollie held on tight, just like his mama had taught him.\\n\\n\\\"Whoo-whoo!\\\" Ollie hooted happily. He had done it! He had caught his very own dinner. With the rodent safely in his grasp, Ollie flew back to his favorite tree, where he perched on a sturdy branch.\\n\\nAs Ollie enjoyed his meal, he felt proud of himself. He was growing up and learning new things every day. The stars above twinkled brightly, as if they were congratulating him on his successful adventure.\\n\\nWith a full tummy and a happy heart, Ollie snuggled into his nest, ready for a good night's sleep. He knew that tomorrow would bring new adventures and more opportunities to learn and grow.\\n\\nAnd so, under the watchful eyes of the moon and stars, Ollie the baby owl drifted off to sleep, dreaming of the wonderful adventures that awaited him in the magical forest.\\n\\nThe End\",\n",
      "\t\"filename\": \"tutorial/Week-8/Ollie_the_Baby_Owl.mp3\"\n",
      "}\n",
      "```\n",
      "\u001b[0m"
     ]
    },
    {
     "name": "stderr",
     "output_type": "stream",
     "text": [
      "C:\\Users\\MengChieh\\AppData\\Local\\Temp\\ipykernel_17832\\3449000546.py:41: DeprecationWarning: Due to a bug, this method doesn't actually stream the response content, `.with_streaming_response.method()` should be used instead\n",
      "  response.stream_to_file(filename)\n"
     ]
    },
    {
     "name": "stdout",
     "output_type": "stream",
     "text": [
      "\u001b[36;1m\u001b[1;3mtutorial/Week-8/Ollie_the_Baby_Owl.mp3\u001b[0m\u001b[32;1m\u001b[1;3mI have successfully created the story, generated the corresponding image, and recorded the story as an mp3 file. Both the image and the audio file are saved in the folder `tutorial/Week-8` with the same name.\n",
      "\n",
      "Final Answer: The chapter of the baby owl capturing a rodent in the night as his dinner has been created, along with the corresponding image and audio file. You can find them in the folder `tutorial/Week-8` with the names `Ollie_the_Baby_Owl.png` and `Ollie_the_Baby_Owl.mp3`.\u001b[0m\n",
      "\n",
      "\u001b[1m> Finished chain.\u001b[0m\n"
     ]
    },
    {
     "data": {
      "text/plain": [
       "{'input': '\\n        Create a chapter of a baby owl capturing a rodent in the night as his dinner.         After having the final answer, plrease create a corresponding image and record the story as an mp3. \\n        The saved image and mp3 should have same name in the folder `tutorial/Week-8`\\n        ',\n",
       " 'output': 'The chapter of the baby owl capturing a rodent in the night as his dinner has been created, along with the corresponding image and audio file. You can find them in the folder `tutorial/Week-8` with the names `Ollie_the_Baby_Owl.png` and `Ollie_the_Baby_Owl.mp3`.'}"
      ]
     },
     "execution_count": 43,
     "metadata": {},
     "output_type": "execute_result"
    }
   ],
   "source": [
    "prompt = \"\"\"\n",
    "        Create a chapter of a baby owl capturing a rodent in the night as his dinner. \\\n",
    "        After having the final answer, plrease create a corresponding image and record the story as an mp3. \n",
    "        The saved image and mp3 should have same name in the folder `tutorial/Week-8`\n",
    "        \"\"\"\n",
    "\n",
    "agent_executor.invoke({\"input\": prompt})"
   ]
  },
  {
   "cell_type": "markdown",
   "id": "d7613df9-de89-4546-b738-323a7cc3a9c9",
   "metadata": {},
   "source": [
    "## Can we create a story with multiple pages?\n",
    "\n",
    "I do not know the answer, let me try...\n",
    "\n",
    "4 pages to save the cost. But it can be extended."
   ]
  },
  {
   "cell_type": "code",
   "execution_count": 44,
   "id": "c89f39ff-aeb8-433f-b18b-e20b622e5739",
   "metadata": {},
   "outputs": [
    {
     "name": "stdout",
     "output_type": "stream",
     "text": [
      "\n",
      "\n",
      "\u001b[1m> Entering new AgentExecutor chain...\u001b[0m\n",
      "\u001b[32;1m\u001b[1;3mTo create a 4-page story for a child who likes snow owls, I will first generate the story using the StoryTeller tool. Then, I will create corresponding images for each page using the Image generator with DALLE-3. Finally, I will record the story as an mp3 using the Text to Sound (tts) tool. Each page's image and audio file will be saved with the same name in the specified folder structure.\n",
      "\n",
      "Let's start by generating the story.\n",
      "\n",
      "Action: StoryTeller\n",
      "\n",
      "Action Input: \n",
      "```json\n",
      "{\n",
      "  \"input\": \"Create a 4-page story for a child who likes snow owls.\"\n",
      "}\n",
      "```\n",
      "\u001b[0m\u001b[38;5;200m\u001b[1;3m**Title: Ollie the Snow Owl's Winter Adventure**\n",
      "\n",
      "**Page 1:**\n",
      "Once upon a time, in a snowy forest far, far away, there lived a little snow owl named Ollie. Ollie had fluffy white feathers that helped him blend in with the snow. He loved to fly around the forest, exploring and making new friends. One chilly morning, Ollie woke up with a twinkle in his eye. Today was the day he would go on a big winter adventure!\n",
      "\n",
      "**Page 2:**\n",
      "Ollie flapped his wings and soared high above the trees. As he flew, he saw his friend, Sammy the Squirrel, gathering acorns. \"Hi, Sammy!\" Ollie hooted. \"I'm going on a winter adventure! Do you want to come with me?\" Sammy's eyes sparkled with excitement. \"Yes, Ollie! Let's go!\" So, Ollie and Sammy set off together, eager to see what wonders the snowy forest had in store.\n",
      "\n",
      "**Page 3:**\n",
      "As they ventured deeper into the forest, they came across a sparkling frozen pond. \"Look, Sammy! It's perfect for ice skating!\" Ollie exclaimed. They found some smooth sticks to use as skates and glided across the ice, laughing and twirling. Suddenly, they heard a soft cry. \"Help! Help!\" It was coming from a little snow bunny named Bella, who was stuck in a snowdrift.\n",
      "\n",
      "**Page 4:**\n",
      "Ollie and Sammy rushed over to help Bella. With a few strong flaps of his wings, Ollie cleared the snow away, and Sammy pulled Bella out. \"Thank you, Ollie and Sammy!\" Bella said, her nose twitching with gratitude. \"You're welcome, Bella! Would you like to join our adventure?\" Ollie asked. Bella nodded happily, and the three friends continued their journey, ready for more fun and surprises in the magical winter wonderland.\n",
      "\n",
      "**The End.**\u001b[0m\u001b[32;1m\u001b[1;3mThe story has been generated successfully. Now, I will create corresponding images for each page using the Image generator with DALLE-3.\n",
      "\n",
      "Action: Image generator with DALLE-3\n",
      "\n",
      "Action Input: \n",
      "```json\n",
      "{\n",
      "\t\"image_desc\": \"A fluffy white snow owl named Ollie flying over a snowy forest with a twinkle in his eye.\",\n",
      "\t\"filename\": \"tutorial/Week-8/Page-1.png\",\n",
      "\t\"size\": \"1024x1024\",\n",
      "\t\"quality\": \"hd\",\n",
      "\t\"style\": \"vivid\"\n",
      "}\n",
      "```\n",
      "\u001b[0mStart generating image...\n",
      "prompt: Create a detailed pencil and ink style illustration of a fluffy white snow owl named Ollie flying gracefully over a snowy forest. Ollie has a twinkle in his eye, capturing his adventurous spirit. The forest below is blanketed in snow, with tall pine trees dusted in white. The sky is clear, allowing the moonlight to cast a gentle glow over the scene. Ollie's feathers are intricately detailed, showing the texture and fluffiness, while the forest is depicted with fine line work, highlighting the serene and magical winter landscape.\n",
      "Image is generated succesfully.\n",
      "\u001b[33;1m\u001b[1;3mDone\u001b[0m\u001b[32;1m\u001b[1;3mThe first image has been generated successfully. Now, I will proceed to create the image for the second page.\n",
      "\n",
      "Action: Image generator with DALLE-3\n",
      "\n",
      "Action Input: \n",
      "```json\n",
      "{\n",
      "\t\"image_desc\": \"A snow owl named Ollie flying above the trees, with a squirrel named Sammy gathering acorns below.\",\n",
      "\t\"filename\": \"tutorial/Week-8/Page-2.png\",\n",
      "\t\"size\": \"1024x1024\",\n",
      "\t\"quality\": \"hd\",\n",
      "\t\"style\": \"vivid\"\n",
      "}\n",
      "```\n",
      "\u001b[0mStart generating image...\n",
      "prompt: Create a detailed pencil and ink style illustration for a 6-year-old child featuring a majestic snow owl named Ollie soaring gracefully above a dense forest of tall, snow-covered trees. Below, a cute and lively squirrel named Sammy is busily gathering acorns, with a small pile already collected at the base of a large oak tree. The scene should capture the serene beauty of the winter forest, with intricate line work showing the texture of the owl's feathers, the bark of the trees, and the fluffy tail of the squirrel. The sky is clear with a hint of early morning light, adding a touch of warmth to the otherwise cool, snowy landscape.\n",
      "Image is generated succesfully.\n",
      "\u001b[33;1m\u001b[1;3mDone\u001b[0m\u001b[32;1m\u001b[1;3mThe second image has been generated successfully. Now, I will proceed to create the image for the third page.\n",
      "\n",
      "Action: Image generator with DALLE-3\n",
      "\n",
      "Action Input: \n",
      "```json\n",
      "{\n",
      "\t\"image_desc\": \"A snow owl named Ollie and a squirrel named Sammy ice skating on a sparkling frozen pond, with a snow bunny named Bella stuck in a snowdrift nearby.\",\n",
      "\t\"filename\": \"tutorial/Week-8/Page-3.png\",\n",
      "\t\"size\": \"1024x1024\",\n",
      "\t\"quality\": \"hd\",\n",
      "\t\"style\": \"vivid\"\n",
      "}\n",
      "```\n",
      "\u001b[0mStart generating image...\n",
      "prompt: Create a detailed pencil and ink style illustration for a children's story: \n",
      "\n",
      "\"An enchanting winter scene featuring a snow owl named Ollie and a squirrel named Sammy ice skating gracefully on a sparkling frozen pond. Ollie, with his majestic wings slightly spread, glides effortlessly, while Sammy, with a joyful expression, skates beside him, his bushy tail trailing behind. The pond is surrounded by snow-covered trees, their branches heavy with fresh snow. Nearby, a snow bunny named Bella is stuck in a snowdrift, her little ears peeking out as she looks towards Ollie and Sammy for help. The scene is filled with a sense of adventure and friendship, with delicate snowflakes falling gently from the sky, adding a magical touch to the winter wonderland.\"\n",
      "Image is generated succesfully.\n",
      "\u001b[33;1m\u001b[1;3mDone\u001b[0m\u001b[32;1m\u001b[1;3mThe third image has been generated successfully. Now, I will proceed to create the image for the fourth page.\n",
      "\n",
      "Action: Image generator with DALLE-3\n",
      "\n",
      "Action Input: \n",
      "```json\n",
      "{\n",
      "\t\"image_desc\": \"A snow owl named Ollie, a squirrel named Sammy, and a snow bunny named Bella happily continuing their adventure in a magical winter wonderland.\",\n",
      "\t\"filename\": \"tutorial/Week-8/Page-4.png\",\n",
      "\t\"size\": \"1024x1024\",\n",
      "\t\"quality\": \"hd\",\n",
      "\t\"style\": \"vivid\"\n",
      "}\n",
      "```\n",
      "\u001b[0mStart generating image...\n",
      "prompt: Create a detailed pencil and ink style illustration for a 6-year-old child, featuring a magical winter wonderland. In the scene, depict a snow owl named Ollie, a squirrel named Sammy, and a snow bunny named Bella. Ollie, the snow owl, should be perched on a frosty tree branch, with its feathers detailed and eyes wide with excitement. Sammy, the squirrel, should be shown mid-leap from one snow-covered branch to another, with a playful expression and bushy tail. Bella, the snow bunny, should be hopping through the snow, leaving a trail of tiny paw prints behind her. The background should include snow-covered trees, sparkling icicles, and a soft, snowy landscape, creating a whimsical and enchanting atmosphere.\n",
      "Image is generated succesfully.\n",
      "\u001b[33;1m\u001b[1;3mDone\u001b[0m\u001b[32;1m\u001b[1;3mThe images for all four pages have been generated successfully. Now, I will proceed to record the story as an mp3 file for each page using the Text to Sound (tts) tool.\n",
      "\n",
      "Action: Text to Sound (tts) tool\n",
      "\n",
      "Action Input: \n",
      "```json\n",
      "{\n",
      "\t\"text\": \"Once upon a time, in a snowy forest far, far away, there lived a little snow owl named Ollie. Ollie had fluffy white feathers that helped him blend in with the snow. He loved to fly around the forest, exploring and making new friends. One chilly morning, Ollie woke up with a twinkle in his eye. Today was the day he would go on a big winter adventure!\",\n",
      "\t\"filename\": \"tutorial/Week-8/Page-1.mp3\"\n",
      "}\n",
      "```\n",
      "\u001b[0m"
     ]
    },
    {
     "name": "stderr",
     "output_type": "stream",
     "text": [
      "C:\\Users\\MengChieh\\AppData\\Local\\Temp\\ipykernel_17832\\3449000546.py:41: DeprecationWarning: Due to a bug, this method doesn't actually stream the response content, `.with_streaming_response.method()` should be used instead\n",
      "  response.stream_to_file(filename)\n"
     ]
    },
    {
     "name": "stdout",
     "output_type": "stream",
     "text": [
      "\u001b[36;1m\u001b[1;3mtutorial/Week-8/Page-1.mp3\u001b[0m\u001b[32;1m\u001b[1;3mThe first audio file has been generated successfully. Now, I will proceed to record the story for the second page.\n",
      "\n",
      "Action: Text to Sound (tts) tool\n",
      "\n",
      "Action Input: \n",
      "```json\n",
      "{\n",
      "\t\"text\": \"Ollie flapped his wings and soared high above the trees. As he flew, he saw his friend, Sammy the Squirrel, gathering acorns. 'Hi, Sammy!' Ollie hooted. 'I'm going on a winter adventure! Do you want to come with me?' Sammy's eyes sparkled with excitement. 'Yes, Ollie! Let's go!' So, Ollie and Sammy set off together, eager to see what wonders the snowy forest had in store.\",\n",
      "\t\"filename\": \"tutorial/Week-8/Page-2.mp3\"\n",
      "}\n",
      "```\n",
      "\u001b[0m"
     ]
    },
    {
     "name": "stderr",
     "output_type": "stream",
     "text": [
      "C:\\Users\\MengChieh\\AppData\\Local\\Temp\\ipykernel_17832\\3449000546.py:41: DeprecationWarning: Due to a bug, this method doesn't actually stream the response content, `.with_streaming_response.method()` should be used instead\n",
      "  response.stream_to_file(filename)\n"
     ]
    },
    {
     "name": "stdout",
     "output_type": "stream",
     "text": [
      "\u001b[36;1m\u001b[1;3mtutorial/Week-8/Page-2.mp3\u001b[0m\u001b[32;1m\u001b[1;3mThe second audio file has been generated successfully. Now, I will proceed to record the story for the third page.\n",
      "\n",
      "Action: Text to Sound (tts) tool\n",
      "\n",
      "Action Input: \n",
      "```json\n",
      "{\n",
      "\t\"text\": \"As they ventured deeper into the forest, they came across a sparkling frozen pond. 'Look, Sammy! It's perfect for ice skating!' Ollie exclaimed. They found some smooth sticks to use as skates and glided across the ice, laughing and twirling. Suddenly, they heard a soft cry. 'Help! Help!' It was coming from a little snow bunny named Bella, who was stuck in a snowdrift.\",\n",
      "\t\"filename\": \"tutorial/Week-8/Page-3.mp3\"\n",
      "}\n",
      "```\n",
      "\u001b[0m"
     ]
    },
    {
     "name": "stderr",
     "output_type": "stream",
     "text": [
      "C:\\Users\\MengChieh\\AppData\\Local\\Temp\\ipykernel_17832\\3449000546.py:41: DeprecationWarning: Due to a bug, this method doesn't actually stream the response content, `.with_streaming_response.method()` should be used instead\n",
      "  response.stream_to_file(filename)\n"
     ]
    },
    {
     "name": "stdout",
     "output_type": "stream",
     "text": [
      "\u001b[36;1m\u001b[1;3mtutorial/Week-8/Page-3.mp3\u001b[0m\u001b[32;1m\u001b[1;3mThe third audio file has been generated successfully. Now, I will proceed to record the story for the fourth page.\n",
      "\n",
      "Action: Text to Sound (tts) tool\n",
      "\n",
      "Action Input: \n",
      "```json\n",
      "{\n",
      "\t\"text\": \"Ollie and Sammy rushed over to help Bella. With a few strong flaps of his wings, Ollie cleared the snow away, and Sammy pulled Bella out. 'Thank you, Ollie and Sammy!' Bella said, her nose twitching with gratitude. 'You're welcome, Bella! Would you like to join our adventure?' Ollie asked. Bella nodded happily, and the three friends continued their journey, ready for more fun and surprises in the magical winter wonderland.\",\n",
      "\t\"filename\": \"tutorial/Week-8/Page-4.mp3\"\n",
      "}\n",
      "```\n",
      "\u001b[0m"
     ]
    },
    {
     "name": "stderr",
     "output_type": "stream",
     "text": [
      "C:\\Users\\MengChieh\\AppData\\Local\\Temp\\ipykernel_17832\\3449000546.py:41: DeprecationWarning: Due to a bug, this method doesn't actually stream the response content, `.with_streaming_response.method()` should be used instead\n",
      "  response.stream_to_file(filename)\n"
     ]
    },
    {
     "name": "stdout",
     "output_type": "stream",
     "text": [
      "\u001b[36;1m\u001b[1;3mtutorial/Week-8/Page-4.mp3\u001b[0m\u001b[32;1m\u001b[1;3mI now know the final answer.\n",
      "\n",
      "Final Answer: The 4-page story for the child who likes snow owls has been successfully created. Each page has a corresponding image and an audio recording of the story. The files are saved in the folder `tutorial/Week-8` with the following structure:\n",
      "\n",
      "- `tutorial/Week-8/Page-1.png`\n",
      "- `tutorial/Week-8/Page-1.mp3`\n",
      "- `tutorial/Week-8/Page-2.png`\n",
      "- `tutorial/Week-8/Page-2.mp3`\n",
      "- `tutorial/Week-8/Page-3.png`\n",
      "- `tutorial/Week-8/Page-3.mp3`\n",
      "- `tutorial/Week-8/Page-4.png`\n",
      "- `tutorial/Week-8/Page-4.mp3`\n",
      "\n",
      "Here is the story:\n",
      "\n",
      "**Title: Ollie the Snow Owl's Winter Adventure**\n",
      "\n",
      "**Page 1:**\n",
      "Once upon a time, in a snowy forest far, far away, there lived a little snow owl named Ollie. Ollie had fluffy white feathers that helped him blend in with the snow. He loved to fly around the forest, exploring and making new friends. One chilly morning, Ollie woke up with a twinkle in his eye. Today was the day he would go on a big winter adventure!\n",
      "\n",
      "**Page 2:**\n",
      "Ollie flapped his wings and soared high above the trees. As he flew, he saw his friend, Sammy the Squirrel, gathering acorns. \"Hi, Sammy!\" Ollie hooted. \"I'm going on a winter adventure! Do you want to come with me?\" Sammy's eyes sparkled with excitement. \"Yes, Ollie! Let's go!\" So, Ollie and Sammy set off together, eager to see what wonders the snowy forest had in store.\n",
      "\n",
      "**Page 3:**\n",
      "As they ventured deeper into the forest, they came across a sparkling frozen pond. \"Look, Sammy! It's perfect for ice skating!\" Ollie exclaimed. They found some smooth sticks to use as skates and glided across the ice, laughing and twirling. Suddenly, they heard a soft cry. \"Help! Help!\" It was coming from a little snow bunny named Bella, who was stuck in a snowdrift.\n",
      "\n",
      "**Page 4:**\n",
      "Ollie and Sammy rushed over to help Bella. With a few strong flaps of his wings, Ollie cleared the snow away, and Sammy pulled Bella out. \"Thank you, Ollie and Sammy!\" Bella said, her nose twitching with gratitude. \"You're welcome, Bella! Would you like to join our adventure?\" Ollie asked. Bella nodded happily, and the three friends continued their journey, ready for more fun and surprises in the magical winter wonderland.\n",
      "\n",
      "**The End.**\u001b[0m\n",
      "\n",
      "\u001b[1m> Finished chain.\u001b[0m\n"
     ]
    },
    {
     "data": {
      "text/plain": [
       "{'input': '\\n         I want to create an 4 pages story for a child. He likes snow owl.\\n         For each page, please create a corresponding image and record the story as an mp3.\\n         After having the final answer, please create a corresponding image and record the story as an mp3. \\n         The saved image and mp3 should have same name, following the structure of \\n         <Page - idx>, with idx as a number starting from 1, in the folder `tutorial/Week-8`\\n         ',\n",
       " 'output': 'The 4-page story for the child who likes snow owls has been successfully created. Each page has a corresponding image and an audio recording of the story. The files are saved in the folder `tutorial/Week-8` with the following structure:\\n\\n- `tutorial/Week-8/Page-1.png`\\n- `tutorial/Week-8/Page-1.mp3`\\n- `tutorial/Week-8/Page-2.png`\\n- `tutorial/Week-8/Page-2.mp3`\\n- `tutorial/Week-8/Page-3.png`\\n- `tutorial/Week-8/Page-3.mp3`\\n- `tutorial/Week-8/Page-4.png`\\n- `tutorial/Week-8/Page-4.mp3`\\n\\nHere is the story:\\n\\n**Title: Ollie the Snow Owl\\'s Winter Adventure**\\n\\n**Page 1:**\\nOnce upon a time, in a snowy forest far, far away, there lived a little snow owl named Ollie. Ollie had fluffy white feathers that helped him blend in with the snow. He loved to fly around the forest, exploring and making new friends. One chilly morning, Ollie woke up with a twinkle in his eye. Today was the day he would go on a big winter adventure!\\n\\n**Page 2:**\\nOllie flapped his wings and soared high above the trees. As he flew, he saw his friend, Sammy the Squirrel, gathering acorns. \"Hi, Sammy!\" Ollie hooted. \"I\\'m going on a winter adventure! Do you want to come with me?\" Sammy\\'s eyes sparkled with excitement. \"Yes, Ollie! Let\\'s go!\" So, Ollie and Sammy set off together, eager to see what wonders the snowy forest had in store.\\n\\n**Page 3:**\\nAs they ventured deeper into the forest, they came across a sparkling frozen pond. \"Look, Sammy! It\\'s perfect for ice skating!\" Ollie exclaimed. They found some smooth sticks to use as skates and glided across the ice, laughing and twirling. Suddenly, they heard a soft cry. \"Help! Help!\" It was coming from a little snow bunny named Bella, who was stuck in a snowdrift.\\n\\n**Page 4:**\\nOllie and Sammy rushed over to help Bella. With a few strong flaps of his wings, Ollie cleared the snow away, and Sammy pulled Bella out. \"Thank you, Ollie and Sammy!\" Bella said, her nose twitching with gratitude. \"You\\'re welcome, Bella! Would you like to join our adventure?\" Ollie asked. Bella nodded happily, and the three friends continued their journey, ready for more fun and surprises in the magical winter wonderland.\\n\\n**The End.**'}"
      ]
     },
     "execution_count": 44,
     "metadata": {},
     "output_type": "execute_result"
    }
   ],
   "source": [
    "prompt = \"\"\"\n",
    "         I want to create an 4 pages story for a child. He likes snow owl.\n",
    "         For each page, please create a corresponding image and record the story as an mp3.\n",
    "         After having the final answer, please create a corresponding image and record the story as an mp3. \n",
    "         The saved image and mp3 should have same name, following the structure of \n",
    "         <Page - idx>, with idx as a number starting from 1, in the folder `tutorial/Week-8`\n",
    "         \"\"\"\n",
    "\n",
    "agent_executor.invoke({\"input\": prompt})"
   ]
  },
  {
   "cell_type": "markdown",
   "id": "65fa69d6-caac-4521-bfbc-8a914e00dd14",
   "metadata": {},
   "source": [
    "## Can we create a story in an interactive way: chat based\n",
    "\n",
    "-- Rolling back..."
   ]
  },
  {
   "cell_type": "code",
   "execution_count": 77,
   "id": "fafca2e5-93fc-4a49-92c6-d0cae5664cca",
   "metadata": {},
   "outputs": [],
   "source": [
    "from langchain.prompts import PromptTemplate\n",
    "from langchain_core.runnables import RunnablePassthrough\n",
    "\n",
    "from langchain.output_parsers import StructuredOutputParser, ResponseSchema\n",
    "\n",
    "output_response_schemas = [\n",
    "        ResponseSchema(name=\"story\", description=\"the story content in the page\"),\n",
    "        ResponseSchema(name=\"page index\", description=\"The page number of the story\"),\n",
    "    ]\n",
    "\n",
    "output_parser = StructuredOutputParser.from_response_schemas(output_response_schemas)\n",
    "\n",
    "output_format_instructions = output_parser.get_format_instructions()\n",
    "\n",
    "\n",
    "template = \"\"\"\n",
    "           Create a story page {idx}, based on the description: {text}\n",
    "\n",
    "           Continuned from previous content:\n",
    "           {context}\n",
    "\n",
    "            \n",
    "           After having the final answer, please create a corresponding image and record the story as an mp3. \n",
    "           The saved image and mp3 should have same name, following the structure of \n",
    "           <Page - idx>, in the folder `tutorial/Week-8`\n",
    "\n",
    "           The output should have the following format: {output_format_instruction}\n",
    "           \"\"\"\n",
    "\n",
    "prompt_template = PromptTemplate(template=template,\n",
    "                                 input_variables=[\"text\", \"context\", \"idx\"],\n",
    "                                 partial_variables={\"output_format_instruction\": output_format_instructions})\n",
    "\n",
    "agent_chain = RunnablePassthrough.assign(input=prompt_template)|agent_executor"
   ]
  },
  {
   "cell_type": "code",
   "execution_count": 71,
   "id": "da0e5fb0-709c-4a51-a737-d95d949df1b8",
   "metadata": {},
   "outputs": [
    {
     "name": "stdout",
     "output_type": "stream",
     "text": [
      "\n",
      "\n",
      "\u001b[1m> Entering new AgentExecutor chain...\u001b[0m\n",
      "\u001b[32;1m\u001b[1;3mTo create the story page based on the given description, I will first generate the story content for page 1. Then, I will create a corresponding image and record the story as an mp3 file. Finally, I will format the output as requested.\n",
      "\n",
      "Let's start by generating the story content for page 1.\n",
      "\n",
      "Action: StoryTeller\n",
      "Action Input: \"A little cat just woke up in the morning\"\n",
      "\u001b[0m\u001b[38;5;200m\u001b[1;3m### Chapter 1: The Morning Adventure\n",
      "\n",
      "Once upon a time, in a cozy little house, a tiny cat named Whiskers just woke up in the morning. Whiskers had soft, fluffy fur and the cutest little pink nose. As the sun peeked through the curtains, Whiskers stretched his paws and let out a big, happy yawn.\n",
      "\n",
      "\"Good morning, world!\" Whiskers purred, feeling excited about the new day. He hopped out of his comfy bed and padded over to the window. Outside, the birds were chirping a cheerful song, and the flowers in the garden were blooming brightly.\n",
      "\n",
      "Whiskers decided it was the perfect day for an adventure. He trotted into the kitchen, where his best friend, a little girl named Lily, was having breakfast.\n",
      "\n",
      "\"Good morning, Whiskers!\" Lily said with a smile, giving him a gentle pat on the head. \"Are you ready for some fun today?\"\n",
      "\n",
      "Whiskers meowed happily and rubbed against Lily's leg. He loved spending time with Lily, and he knew that every day with her was full of surprises.\n",
      "\n",
      "After breakfast, Lily and Whiskers put on their adventure hats—Lily wore a bright red cap, and Whiskers had a tiny blue hat that made him look extra adorable. They were ready to explore the garden and see what wonders awaited them.\n",
      "\n",
      "As they stepped outside, the warm sun kissed their faces, and a gentle breeze rustled the leaves. Whiskers' whiskers twitched with excitement. What magical discoveries would they make today?\n",
      "\n",
      "And so, with a purr and a giggle, Whiskers and Lily set off on their morning adventure, ready to explore the world around them.\n",
      "\n",
      "Stay tuned for the next chapter to find out what amazing things Whiskers and Lily discover in the garden!\u001b[0m\u001b[32;1m\u001b[1;3mThe story content for page 1 has been generated. Now, I will create a corresponding image and record the story as an mp3 file. \n",
      "\n",
      "First, let's create the image.\n",
      "\n",
      "Action: Image generator with DALLE-3\n",
      "Action Input: \n",
      "```json\n",
      "{\n",
      "\t\"image_desc\": \"A little cat named Whiskers with soft, fluffy fur and a pink nose, waking up in the morning in a cozy house. The sun is peeking through the curtains, and Whiskers is stretching his paws. A little girl named Lily is in the kitchen having breakfast.\",\n",
      "\t\"filename\": \"tutorial/Week-8/Page-1.png\",\n",
      "\t\"size\": \"1024x1024\",\n",
      "\t\"quality\": \"hd\",\n",
      "\t\"style\": \"vivid\"\n",
      "}\n",
      "```\n",
      "\u001b[0mStart generating image...\n",
      "prompt: Create a detailed pencil and ink style illustration for a 6-year-old child. The scene features a little cat named Whiskers with soft, fluffy fur and a pink nose, waking up in the morning in a cozy house. The sun is peeking through the curtains, casting a warm glow into the room. Whiskers is stretching his paws on a comfy bed with a quilted blanket. In the background, a little girl named Lily is in the kitchen having breakfast, with a bowl of cereal and a glass of orange juice on the table. The kitchen has a homely feel with wooden cabinets, a checkered floor, and a window showing a sunny morning outside. The illustration should be in black and white with detailed line work, capturing the warmth and coziness of the scene.\n",
      "Image is generated succesfully.\n",
      "\u001b[33;1m\u001b[1;3mDone\u001b[0m\u001b[32;1m\u001b[1;3mThe image has been successfully created. Now, I will record the story as an mp3 file.\n",
      "\n",
      "Action: Text to Sound (tts) tool\n",
      "Action Input: \n",
      "```json\n",
      "{\n",
      "\t\"text\": \"### Chapter 1: The Morning Adventure\\n\\nOnce upon a time, in a cozy little house, a tiny cat named Whiskers just woke up in the morning. Whiskers had soft, fluffy fur and the cutest little pink nose. As the sun peeked through the curtains, Whiskers stretched his paws and let out a big, happy yawn.\\n\\n\\\"Good morning, world!\\\" Whiskers purred, feeling excited about the new day. He hopped out of his comfy bed and padded over to the window. Outside, the birds were chirping a cheerful song, and the flowers in the garden were blooming brightly.\\n\\nWhiskers decided it was the perfect day for an adventure. He trotted into the kitchen, where his best friend, a little girl named Lily, was having breakfast.\\n\\n\\\"Good morning, Whiskers!\\\" Lily said with a smile, giving him a gentle pat on the head. \\\"Are you ready for some fun today?\\\"\\n\\nWhiskers meowed happily and rubbed against Lily's leg. He loved spending time with Lily, and he knew that every day with her was full of surprises.\\n\\nAfter breakfast, Lily and Whiskers put on their adventure hats—Lily wore a bright red cap, and Whiskers had a tiny blue hat that made him look extra adorable. They were ready to explore the garden and see what wonders awaited them.\\n\\nAs they stepped outside, the warm sun kissed their faces, and a gentle breeze rustled the leaves. Whiskers' whiskers twitched with excitement. What magical discoveries would they make today?\\n\\nAnd so, with a purr and a giggle, Whiskers and Lily set off on their morning adventure, ready to explore the world around them.\\n\\nStay tuned for the next chapter to find out what amazing things Whiskers and Lily discover in the garden!\",\n",
      "\t\"filename\": \"tutorial/Week-8/Page-1.mp3\"\n",
      "}\n",
      "```\n",
      "\u001b[0m"
     ]
    },
    {
     "name": "stderr",
     "output_type": "stream",
     "text": [
      "C:\\Users\\MengChieh\\AppData\\Local\\Temp\\ipykernel_17832\\3449000546.py:41: DeprecationWarning: Due to a bug, this method doesn't actually stream the response content, `.with_streaming_response.method()` should be used instead\n",
      "  response.stream_to_file(filename)\n"
     ]
    },
    {
     "name": "stdout",
     "output_type": "stream",
     "text": [
      "\u001b[36;1m\u001b[1;3mtutorial/Week-8/Page-1.mp3\u001b[0m\u001b[32;1m\u001b[1;3mThe story content for page 1 has been generated, the corresponding image has been created, and the story has been recorded as an mp3 file. Now, I will format the output as requested.\n",
      "\n",
      "Final Answer:\n",
      "```json\n",
      "{\n",
      "\t\"story\": \"### Chapter 1: The Morning Adventure\\n\\nOnce upon a time, in a cozy little house, a tiny cat named Whiskers just woke up in the morning. Whiskers had soft, fluffy fur and the cutest little pink nose. As the sun peeked through the curtains, Whiskers stretched his paws and let out a big, happy yawn.\\n\\n\\\"Good morning, world!\\\" Whiskers purred, feeling excited about the new day. He hopped out of his comfy bed and padded over to the window. Outside, the birds were chirping a cheerful song, and the flowers in the garden were blooming brightly.\\n\\nWhiskers decided it was the perfect day for an adventure. He trotted into the kitchen, where his best friend, a little girl named Lily, was having breakfast.\\n\\n\\\"Good morning, Whiskers!\\\" Lily said with a smile, giving him a gentle pat on the head. \\\"Are you ready for some fun today?\\\"\\n\\nWhiskers meowed happily and rubbed against Lily's leg. He loved spending time with Lily, and he knew that every day with her was full of surprises.\\n\\nAfter breakfast, Lily and Whiskers put on their adventure hats—Lily wore a bright red cap, and Whiskers had a tiny blue hat that made him look extra adorable. They were ready to explore the garden and see what wonders awaited them.\\n\\nAs they stepped outside, the warm sun kissed their faces, and a gentle breeze rustled the leaves. Whiskers' whiskers twitched with excitement. What magical discoveries would they make today?\\n\\nAnd so, with a purr and a giggle, Whiskers and Lily set off on their morning adventure, ready to explore the world around them.\\n\\nStay tuned for the next chapter to find out what amazing things Whiskers and Lily discover in the garden!\",\n",
      "\t\"page index\": \"1\"\n",
      "}\n",
      "```\u001b[0m\n",
      "\n",
      "\u001b[1m> Finished chain.\u001b[0m\n"
     ]
    }
   ],
   "source": [
    "Q = agent_chain.invoke({\"text\": \"A little cat just woke up in the morning\",\n",
    "                        \"context\": \"The beginning of the story:\\n\",\n",
    "                        \"idx\": str(1)})"
   ]
  },
  {
   "cell_type": "markdown",
   "id": "5e5c5db4-a1f1-48a9-9316-4734886a4d11",
   "metadata": {},
   "source": [
    "若是以下步驟失敗，嘗試重新生成。這是大語言模型，沒有保證可以100%產出你希望的格式。我們只能盡可能提高成功輸出的機率。"
   ]
  },
  {
   "cell_type": "code",
   "execution_count": 72,
   "id": "35b1d711-2bce-4426-9731-eaa227091e7b",
   "metadata": {},
   "outputs": [
    {
     "data": {
      "text/plain": [
       "{'text': 'A little cat just woke up in the morning',\n",
       " 'context': 'The beginning of the story:\\n',\n",
       " 'idx': '1',\n",
       " 'input': StringPromptValue(text='\\n           Create a story page 1, based on the description: A little cat just woke up in the morning\\n\\n           Previous content:\\n           The beginning of the story:\\n\\n\\n            \\n           After having the final answer, please create a corresponding image and record the story as an mp3. \\n           The saved image and mp3 should have same name, following the structure of \\n           <Page - idx>, in the folder `tutorial/Week-8`\\n\\n           The output should have the following format: The output should be a markdown code snippet formatted in the following schema, including the leading and trailing \"```json\" and \"```\":\\n\\n```json\\n{\\n\\t\"story\": string  // the story content in the page\\n\\t\"page index\": string  // The page number of the story\\n}\\n```\\n           '),\n",
       " 'output': '```json\\n{\\n\\t\"story\": \"### Chapter 1: The Morning Adventure\\\\n\\\\nOnce upon a time, in a cozy little house, a tiny cat named Whiskers just woke up in the morning. Whiskers had soft, fluffy fur and the cutest little pink nose. As the sun peeked through the curtains, Whiskers stretched his paws and let out a big, happy yawn.\\\\n\\\\n\\\\\"Good morning, world!\\\\\" Whiskers purred, feeling excited about the new day. He hopped out of his comfy bed and padded over to the window. Outside, the birds were chirping a cheerful song, and the flowers in the garden were blooming brightly.\\\\n\\\\nWhiskers decided it was the perfect day for an adventure. He trotted into the kitchen, where his best friend, a little girl named Lily, was having breakfast.\\\\n\\\\n\\\\\"Good morning, Whiskers!\\\\\" Lily said with a smile, giving him a gentle pat on the head. \\\\\"Are you ready for some fun today?\\\\\"\\\\n\\\\nWhiskers meowed happily and rubbed against Lily\\'s leg. He loved spending time with Lily, and he knew that every day with her was full of surprises.\\\\n\\\\nAfter breakfast, Lily and Whiskers put on their adventure hats—Lily wore a bright red cap, and Whiskers had a tiny blue hat that made him look extra adorable. They were ready to explore the garden and see what wonders awaited them.\\\\n\\\\nAs they stepped outside, the warm sun kissed their faces, and a gentle breeze rustled the leaves. Whiskers\\' whiskers twitched with excitement. What magical discoveries would they make today?\\\\n\\\\nAnd so, with a purr and a giggle, Whiskers and Lily set off on their morning adventure, ready to explore the world around them.\\\\n\\\\nStay tuned for the next chapter to find out what amazing things Whiskers and Lily discover in the garden!\",\\n\\t\"page index\": \"1\"\\n}\\n```'}"
      ]
     },
     "execution_count": 72,
     "metadata": {},
     "output_type": "execute_result"
    }
   ],
   "source": [
    "Q"
   ]
  },
  {
   "cell_type": "code",
   "execution_count": 73,
   "id": "727746b3-7d2a-44cb-bc2a-65ee873aec49",
   "metadata": {},
   "outputs": [
    {
     "data": {
      "text/plain": [
       "'```json\\n{\\n\\t\"story\": \"### Chapter 1: The Morning Adventure\\\\n\\\\nOnce upon a time, in a cozy little house, a tiny cat named Whiskers just woke up in the morning. Whiskers had soft, fluffy fur and the cutest little pink nose. As the sun peeked through the curtains, Whiskers stretched his paws and let out a big, happy yawn.\\\\n\\\\n\\\\\"Good morning, world!\\\\\" Whiskers purred, feeling excited about the new day. He hopped out of his comfy bed and padded over to the window. Outside, the birds were chirping a cheerful song, and the flowers in the garden were blooming brightly.\\\\n\\\\nWhiskers decided it was the perfect day for an adventure. He trotted into the kitchen, where his best friend, a little girl named Lily, was having breakfast.\\\\n\\\\n\\\\\"Good morning, Whiskers!\\\\\" Lily said with a smile, giving him a gentle pat on the head. \\\\\"Are you ready for some fun today?\\\\\"\\\\n\\\\nWhiskers meowed happily and rubbed against Lily\\'s leg. He loved spending time with Lily, and he knew that every day with her was full of surprises.\\\\n\\\\nAfter breakfast, Lily and Whiskers put on their adventure hats—Lily wore a bright red cap, and Whiskers had a tiny blue hat that made him look extra adorable. They were ready to explore the garden and see what wonders awaited them.\\\\n\\\\nAs they stepped outside, the warm sun kissed their faces, and a gentle breeze rustled the leaves. Whiskers\\' whiskers twitched with excitement. What magical discoveries would they make today?\\\\n\\\\nAnd so, with a purr and a giggle, Whiskers and Lily set off on their morning adventure, ready to explore the world around them.\\\\n\\\\nStay tuned for the next chapter to find out what amazing things Whiskers and Lily discover in the garden!\",\\n\\t\"page index\": \"1\"\\n}\\n```'"
      ]
     },
     "execution_count": 73,
     "metadata": {},
     "output_type": "execute_result"
    }
   ],
   "source": [
    "Q['output']"
   ]
  },
  {
   "cell_type": "code",
   "execution_count": 74,
   "id": "ca4eec1e-8a56-49f5-9562-9fad0f524536",
   "metadata": {},
   "outputs": [
    {
     "data": {
      "text/plain": [
       "{'story': '### Chapter 1: The Morning Adventure\\n\\nOnce upon a time, in a cozy little house, a tiny cat named Whiskers just woke up in the morning. Whiskers had soft, fluffy fur and the cutest little pink nose. As the sun peeked through the curtains, Whiskers stretched his paws and let out a big, happy yawn.\\n\\n\"Good morning, world!\" Whiskers purred, feeling excited about the new day. He hopped out of his comfy bed and padded over to the window. Outside, the birds were chirping a cheerful song, and the flowers in the garden were blooming brightly.\\n\\nWhiskers decided it was the perfect day for an adventure. He trotted into the kitchen, where his best friend, a little girl named Lily, was having breakfast.\\n\\n\"Good morning, Whiskers!\" Lily said with a smile, giving him a gentle pat on the head. \"Are you ready for some fun today?\"\\n\\nWhiskers meowed happily and rubbed against Lily\\'s leg. He loved spending time with Lily, and he knew that every day with her was full of surprises.\\n\\nAfter breakfast, Lily and Whiskers put on their adventure hats—Lily wore a bright red cap, and Whiskers had a tiny blue hat that made him look extra adorable. They were ready to explore the garden and see what wonders awaited them.\\n\\nAs they stepped outside, the warm sun kissed their faces, and a gentle breeze rustled the leaves. Whiskers\\' whiskers twitched with excitement. What magical discoveries would they make today?\\n\\nAnd so, with a purr and a giggle, Whiskers and Lily set off on their morning adventure, ready to explore the world around them.\\n\\nStay tuned for the next chapter to find out what amazing things Whiskers and Lily discover in the garden!',\n",
       " 'page index': '1'}"
      ]
     },
     "execution_count": 74,
     "metadata": {},
     "output_type": "execute_result"
    }
   ],
   "source": [
    "output_parser.parse(Q['output'])"
   ]
  },
  {
   "cell_type": "code",
   "execution_count": 75,
   "id": "a7d871f0-78aa-408e-b362-c2ec3d58f6db",
   "metadata": {},
   "outputs": [
    {
     "data": {
      "text/plain": [
       "'### Chapter 1: The Morning Adventure\\n\\nOnce upon a time, in a cozy little house, a tiny cat named Whiskers just woke up in the morning. Whiskers had soft, fluffy fur and the cutest little pink nose. As the sun peeked through the curtains, Whiskers stretched his paws and let out a big, happy yawn.\\n\\n\"Good morning, world!\" Whiskers purred, feeling excited about the new day. He hopped out of his comfy bed and padded over to the window. Outside, the birds were chirping a cheerful song, and the flowers in the garden were blooming brightly.\\n\\nWhiskers decided it was the perfect day for an adventure. He trotted into the kitchen, where his best friend, a little girl named Lily, was having breakfast.\\n\\n\"Good morning, Whiskers!\" Lily said with a smile, giving him a gentle pat on the head. \"Are you ready for some fun today?\"\\n\\nWhiskers meowed happily and rubbed against Lily\\'s leg. He loved spending time with Lily, and he knew that every day with her was full of surprises.\\n\\nAfter breakfast, Lily and Whiskers put on their adventure hats—Lily wore a bright red cap, and Whiskers had a tiny blue hat that made him look extra adorable. They were ready to explore the garden and see what wonders awaited them.\\n\\nAs they stepped outside, the warm sun kissed their faces, and a gentle breeze rustled the leaves. Whiskers\\' whiskers twitched with excitement. What magical discoveries would they make today?\\n\\nAnd so, with a purr and a giggle, Whiskers and Lily set off on their morning adventure, ready to explore the world around them.\\n\\nStay tuned for the next chapter to find out what amazing things Whiskers and Lily discover in the garden!'"
      ]
     },
     "execution_count": 75,
     "metadata": {},
     "output_type": "execute_result"
    }
   ],
   "source": [
    "output_parser.parse(Q['output'])['story']"
   ]
  },
  {
   "cell_type": "code",
   "execution_count": 59,
   "id": "f04b14f4-af8c-48f1-a35f-19581300062c",
   "metadata": {},
   "outputs": [
    {
     "data": {
      "text/plain": [
       "'1'"
      ]
     },
     "execution_count": 59,
     "metadata": {},
     "output_type": "execute_result"
    }
   ],
   "source": [
    "output_parser.parse(Q['output'])['page index']"
   ]
  },
  {
   "cell_type": "markdown",
   "id": "c7173de4-9db3-4e49-bf0f-af35f2654cf9",
   "metadata": {},
   "source": [
    "### 第二頁"
   ]
  },
  {
   "cell_type": "code",
   "execution_count": 79,
   "id": "77c9062a-d980-43e3-a374-aaef6f31bf77",
   "metadata": {},
   "outputs": [
    {
     "name": "stdout",
     "output_type": "stream",
     "text": [
      "['### Chapter 1: The Morning Adventure\\n\\nOnce upon a time, in a cozy little house, a tiny cat named Whiskers just woke up in the morning. Whiskers had soft, fluffy fur and the cutest little pink nose. As the sun peeked through the curtains, Whiskers stretched his paws and let out a big, happy yawn.\\n\\n\"Good morning, world!\" Whiskers purred, feeling excited about the new day. He hopped out of his comfy bed and padded over to the window. Outside, the birds were chirping a cheerful song, and the flowers in the garden were blooming brightly.\\n\\nWhiskers decided it was the perfect day for an adventure. He trotted into the kitchen, where his best friend, a little girl named Lily, was having breakfast.\\n\\n\"Good morning, Whiskers!\" Lily said with a smile, giving him a gentle pat on the head. \"Are you ready for some fun today?\"\\n\\nWhiskers meowed happily and rubbed against Lily\\'s leg. He loved spending time with Lily, and he knew that every day with her was full of surprises.\\n\\nAfter breakfast, Lily and Whiskers put on their adventure hats—Lily wore a bright red cap, and Whiskers had a tiny blue hat that made him look extra adorable. They were ready to explore the garden and see what wonders awaited them.\\n\\nAs they stepped outside, the warm sun kissed their faces, and a gentle breeze rustled the leaves. Whiskers\\' whiskers twitched with excitement. What magical discoveries would they make today?\\n\\nAnd so, with a purr and a giggle, Whiskers and Lily set off on their morning adventure, ready to explore the world around them.\\n\\nStay tuned for the next chapter to find out what amazing things Whiskers and Lily discover in the garden!']\n"
     ]
    }
   ],
   "source": [
    "context_list = [output_parser.parse(Q['output'])['story']]\n",
    "print(context_list)"
   ]
  },
  {
   "cell_type": "code",
   "execution_count": 80,
   "id": "e96840fa-af12-432a-89a8-79eadb9dcca8",
   "metadata": {},
   "outputs": [
    {
     "name": "stdout",
     "output_type": "stream",
     "text": [
      "\n",
      "\n",
      "\u001b[1m> Entering new AgentExecutor chain...\u001b[0m\n",
      "\u001b[32;1m\u001b[1;3mTo create the second page of the story based on the given description, I will first generate the continuation of the story. Then, I will create an image and an audio file for the story. Finally, I will provide the output in the required format.\n",
      "\n",
      "Let's start by generating the continuation of the story.\n",
      "\n",
      "Action: StoryTeller\n",
      "Action Input: \"Whisker found a dove and wanted to hunt it down! Continued from previous content: ### Chapter 1: The Morning Adventure Once upon a time, in a cozy little house, a tiny cat named Whiskers just woke up in the morning. Whiskers had soft, fluffy fur and the cutest little pink nose. As the sun peeked through the curtains, Whiskers stretched his paws and let out a big, happy yawn. 'Good morning, world!' Whiskers purred, feeling excited about the new day. He hopped out of his comfy bed and padded over to the window. Outside, the birds were chirping a cheerful song, and the flowers in the garden were blooming brightly. Whiskers decided it was the perfect day for an adventure. He trotted into the kitchen, where his best friend, a little girl named Lily, was having breakfast. 'Good morning, Whiskers!' Lily said with a smile, giving him a gentle pat on the head. 'Are you ready for some fun today?' Whiskers meowed happily and rubbed against Lily's leg. He loved spending time with Lily, and he knew that every day with her was full of surprises. After breakfast, Lily and Whiskers put on their adventure hats—Lily wore a bright red cap, and Whiskers had a tiny blue hat that made him look extra adorable. They were ready to explore the garden and see what wonders awaited them. As they stepped outside, the warm sun kissed their faces, and a gentle breeze rustled the leaves. Whiskers' whiskers twitched with excitement. What magical discoveries would they make today? And so, with a purr and a giggle, Whiskers and Lily set off on their morning adventure, ready to explore the world around them. Stay tuned for the next chapter to find out what amazing things Whiskers and Lily discover in the garden!\"\n",
      "\u001b[0m\u001b[38;5;200m\u001b[1;3m### Chapter 2: The Curious Dove\n",
      "\n",
      "Whiskers and Lily wandered through the garden, their eyes wide with wonder. The flowers were in full bloom, painting the garden with splashes of red, yellow, and purple. Butterflies fluttered around, and bees buzzed busily from flower to flower.\n",
      "\n",
      "As they walked, Whiskers' sharp eyes caught sight of something white and fluttery in the distance. It was a beautiful dove, perched on a low branch of the apple tree. The dove's feathers were as white as snow, and it cooed softly, adding to the peaceful morning sounds.\n",
      "\n",
      "Whiskers' curiosity was piqued. He crouched low, his little blue hat almost slipping off his head, and began to creep towards the dove. His tail swished back and forth, and his eyes were fixed on the bird.\n",
      "\n",
      "Lily noticed Whiskers' intent look and giggled. \"Whiskers, are you trying to make a new friend?\" she asked, following him quietly.\n",
      "\n",
      "Whiskers didn't answer; he was too focused on the dove. He moved closer and closer, his paws barely making a sound on the soft grass. Just as he was about to pounce, the dove turned its head and looked straight at him.\n",
      "\n",
      "\"Hello, little cat,\" the dove cooed gently. \"Are you here to play with me?\"\n",
      "\n",
      "Whiskers stopped in his tracks, surprised that the dove could talk. He sat down and tilted his head, his whiskers twitching with curiosity. \"I was just curious about you,\" he meowed. \"I've never seen a dove up close before.\"\n",
      "\n",
      "The dove flapped its wings and flew down to the ground, landing gracefully in front of Whiskers. \"My name is Snowy,\" the dove said. \"I live in this garden and love to make new friends. Would you like to play a game with me?\"\n",
      "\n",
      "Whiskers' eyes sparkled with excitement. \"I'd love to!\" he purred. \"What game should we play?\"\n",
      "\n",
      "Lily clapped her hands in delight. \"How about a game of hide and seek?\" she suggested. \"I'll count to ten, and you two can hide!\"\n",
      "\n",
      "Snowy and Whiskers agreed, and Lily closed her eyes and began to count. \"One, two, three...\"\n",
      "\n",
      "Whiskers and Snowy scampered off in different directions, looking for the perfect hiding spots. Whiskers found a cozy spot behind a big sunflower, while Snowy nestled among the branches of a rose bush.\n",
      "\n",
      "\"...eight, nine, ten! Ready or not, here I come!\" Lily called out, opening her eyes.\n",
      "\n",
      "She began to search the garden, peeking behind bushes and under flowers. Whiskers held his breath, trying to stay as still as possible. Snowy, hidden among the roses, watched with a twinkle in her eye.\n",
      "\n",
      "Will Lily find her friends? And what other adventures await Whiskers and Snowy in the garden? Stay tuned for the next chapter to find out!\u001b[0m\u001b[32;1m\u001b[1;3mI have successfully generated the continuation of the story. Now, I will create an image based on the new chapter and record the story as an mp3 file. \n",
      "\n",
      "First, let's create the image.\n",
      "\n",
      "Action: Image generator with DALLE-3\n",
      "Action Input: \n",
      "```json\n",
      "{\n",
      "\t\"image_desc\": \"A tiny cat named Whiskers with a little blue hat creeping towards a beautiful white dove perched on a low branch of an apple tree in a colorful garden. A little girl named Lily with a bright red cap is watching and giggling.\",\n",
      "\t\"filename\": \"tutorial/Week-8/Page-2.png\",\n",
      "\t\"size\": \"1024x1024\",\n",
      "\t\"quality\": \"hd\",\n",
      "\t\"style\": \"vivid\"\n",
      "}\n",
      "```\n",
      "\u001b[0mStart generating image...\n",
      "prompt: Create a detailed pencil and ink style illustration for a 6-year-old child. The scene features a tiny cat named Whiskers, who is wearing a little blue hat, creeping towards a beautiful white dove perched on a low branch of an apple tree. The garden is colorful, with various flowers and plants, but the illustration should primarily be in black and white with minimal color accents, such as the blue hat of the cat and the red cap of a little girl named Lily. Lily is watching Whiskers and giggling, her expression full of joy and amusement. The apple tree has a few apples hanging from its branches, and the overall atmosphere is playful and whimsical.\n",
      "Image is generated succesfully.\n",
      "\u001b[33;1m\u001b[1;3mDone\u001b[0m\u001b[32;1m\u001b[1;3mI have successfully created the image for the second page of the story. Now, I will generate the audio file for the story.\n",
      "\n",
      "Action: Text to Sound (tts) tool\n",
      "Action Input: \n",
      "```json\n",
      "{\n",
      "\t\"text\": \"### Chapter 2: The Curious Dove\\n\\nWhiskers and Lily wandered through the garden, their eyes wide with wonder. The flowers were in full bloom, painting the garden with splashes of red, yellow, and purple. Butterflies fluttered around, and bees buzzed busily from flower to flower.\\n\\nAs they walked, Whiskers' sharp eyes caught sight of something white and fluttery in the distance. It was a beautiful dove, perched on a low branch of the apple tree. The dove's feathers were as white as snow, and it cooed softly, adding to the peaceful morning sounds.\\n\\nWhiskers' curiosity was piqued. He crouched low, his little blue hat almost slipping off his head, and began to creep towards the dove. His tail swished back and forth, and his eyes were fixed on the bird.\\n\\nLily noticed Whiskers' intent look and giggled. 'Whiskers, are you trying to make a new friend?' she asked, following him quietly.\\n\\nWhiskers didn't answer; he was too focused on the dove. He moved closer and closer, his paws barely making a sound on the soft grass. Just as he was about to pounce, the dove turned its head and looked straight at him.\\n\\n'Hello, little cat,' the dove cooed gently. 'Are you here to play with me?'\\n\\nWhiskers stopped in his tracks, surprised that the dove could talk. He sat down and tilted his head, his whiskers twitching with curiosity. 'I was just curious about you,' he meowed. 'I've never seen a dove up close before.'\\n\\nThe dove flapped its wings and flew down to the ground, landing gracefully in front of Whiskers. 'My name is Snowy,' the dove said. 'I live in this garden and love to make new friends. Would you like to play a game with me?'\\n\\nWhiskers' eyes sparkled with excitement. 'I'd love to!' he purred. 'What game should we play?'\\n\\nLily clapped her hands in delight. 'How about a game of hide and seek?' she suggested. 'I'll count to ten, and you two can hide!'\\n\\nSnowy and Whiskers agreed, and Lily closed her eyes and began to count. 'One, two, three...'\\n\\nWhiskers and Snowy scampered off in different directions, looking for the perfect hiding spots. Whiskers found a cozy spot behind a big sunflower, while Snowy nestled among the branches of a rose bush.\\n\\n'...eight, nine, ten! Ready or not, here I come!' Lily called out, opening her eyes.\\n\\nShe began to search the garden, peeking behind bushes and under flowers. Whiskers held his breath, trying to stay as still as possible. Snowy, hidden among the roses, watched with a twinkle in her eye.\\n\\nWill Lily find her friends? And what other adventures await Whiskers and Snowy in the garden? Stay tuned for the next chapter to find out!\",\n",
      "\t\"filename\": \"tutorial/Week-8/Page-2.mp3\"\n",
      "}\n",
      "```\n",
      "\u001b[0m"
     ]
    },
    {
     "name": "stderr",
     "output_type": "stream",
     "text": [
      "C:\\Users\\MengChieh\\AppData\\Local\\Temp\\ipykernel_17832\\3449000546.py:41: DeprecationWarning: Due to a bug, this method doesn't actually stream the response content, `.with_streaming_response.method()` should be used instead\n",
      "  response.stream_to_file(filename)\n"
     ]
    },
    {
     "name": "stdout",
     "output_type": "stream",
     "text": [
      "\u001b[36;1m\u001b[1;3mtutorial/Week-8/Page-2.mp3\u001b[0m\u001b[32;1m\u001b[1;3mI have successfully generated the audio file for the second page of the story. Now, I will provide the final output in the required format.\n",
      "\n",
      "Final Answer:\n",
      "```json\n",
      "{\n",
      "\t\"story\": \"### Chapter 2: The Curious Dove\\n\\nWhiskers and Lily wandered through the garden, their eyes wide with wonder. The flowers were in full bloom, painting the garden with splashes of red, yellow, and purple. Butterflies fluttered around, and bees buzzed busily from flower to flower.\\n\\nAs they walked, Whiskers' sharp eyes caught sight of something white and fluttery in the distance. It was a beautiful dove, perched on a low branch of the apple tree. The dove's feathers were as white as snow, and it cooed softly, adding to the peaceful morning sounds.\\n\\nWhiskers' curiosity was piqued. He crouched low, his little blue hat almost slipping off his head, and began to creep towards the dove. His tail swished back and forth, and his eyes were fixed on the bird.\\n\\nLily noticed Whiskers' intent look and giggled. 'Whiskers, are you trying to make a new friend?' she asked, following him quietly.\\n\\nWhiskers didn't answer; he was too focused on the dove. He moved closer and closer, his paws barely making a sound on the soft grass. Just as he was about to pounce, the dove turned its head and looked straight at him.\\n\\n'Hello, little cat,' the dove cooed gently. 'Are you here to play with me?'\\n\\nWhiskers stopped in his tracks, surprised that the dove could talk. He sat down and tilted his head, his whiskers twitching with curiosity. 'I was just curious about you,' he meowed. 'I've never seen a dove up close before.'\\n\\nThe dove flapped its wings and flew down to the ground, landing gracefully in front of Whiskers. 'My name is Snowy,' the dove said. 'I live in this garden and love to make new friends. Would you like to play a game with me?'\\n\\nWhiskers' eyes sparkled with excitement. 'I'd love to!' he purred. 'What game should we play?'\\n\\nLily clapped her hands in delight. 'How about a game of hide and seek?' she suggested. 'I'll count to ten, and you two can hide!'\\n\\nSnowy and Whiskers agreed, and Lily closed her eyes and began to count. 'One, two, three...'\\n\\nWhiskers and Snowy scampered off in different directions, looking for the perfect hiding spots. Whiskers found a cozy spot behind a big sunflower, while Snowy nestled among the branches of a rose bush.\\n\\n'...eight, nine, ten! Ready or not, here I come!' Lily called out, opening her eyes.\\n\\nShe began to search the garden, peeking behind bushes and under flowers. Whiskers held his breath, trying to stay as still as possible. Snowy, hidden among the roses, watched with a twinkle in her eye.\\n\\nWill Lily find her friends? And what other adventures await Whiskers and Snowy in the garden? Stay tuned for the next chapter to find out!\",\n",
      "\t\"page index\": \"2\"\n",
      "}\n",
      "```\u001b[0m\n",
      "\n",
      "\u001b[1m> Finished chain.\u001b[0m\n"
     ]
    }
   ],
   "source": [
    "Q_2 = agent_chain.invoke({\"text\": \"Whisker found a dove and wanted to hunt it down!\",\n",
    "                          \"context\": \":\\n\".join(context_list),\n",
    "                          \"idx\": str(2)})"
   ]
  },
  {
   "cell_type": "code",
   "execution_count": 69,
   "id": "5d9eba24-c286-4c95-95df-9d83f439e766",
   "metadata": {},
   "outputs": [
    {
     "data": {
      "text/plain": [
       "['the beginning of the story, page 1',\n",
       " \"Once upon a time, in a cozy little house, there lived a tiny, fluffy cat named Whiskers. One sunny morning, Whiskers woke up with a big stretch and a soft yawn. The sun was shining through the window, making everything look warm and golden.\\n\\nWhiskers loved mornings because they were full of new adventures. Today, he felt extra excited. He hopped out of his comfy bed and padded over to the window. Outside, the birds were singing cheerful songs, and the flowers in the garden were blooming with bright colors.\\n\\nWhiskers decided it was the perfect day to explore. He trotted over to his favorite spot in the kitchen, where his bowl of milk was waiting for him. After lapping up the delicious milk, he felt ready to start his day.\\n\\nAs Whiskers stepped outside, he noticed a butterfly fluttering by. It had beautiful, colorful wings that sparkled in the sunlight. Whiskers' eyes widened with curiosity. 'I wonder where the butterfly is going,' he thought.\\n\\nWith a playful pounce, Whiskers began to follow the butterfly. It led him through the garden, past the tall sunflowers and the buzzing bees. Whiskers felt the soft grass under his paws and the gentle breeze ruffling his fur. He was having so much fun!\\n\\nThe butterfly finally landed on a big, red flower. Whiskers sat down and watched it closely. 'Hello, little butterfly,' he said. 'You are so pretty! Thank you for leading me on this morning adventure.'\\n\\nThe butterfly flapped its wings as if to say, 'You're welcome, Whiskers!' Then, it flew away, leaving Whiskers with a happy heart and a big smile.\\n\\nWhiskers knew that every morning could bring a new adventure, and he couldn't wait to see what tomorrow would bring. But for now, he was content to sit in the garden, enjoying the sunshine and the beauty of the world around him.\\n\\nAnd so, Whiskers' morning adventure came to a peaceful end, with the promise of many more to come.\\n\\nThe End of Chapter 1\"]"
      ]
     },
     "execution_count": 69,
     "metadata": {},
     "output_type": "execute_result"
    }
   ],
   "source": [
    "context_list"
   ]
  },
  {
   "cell_type": "code",
   "execution_count": 81,
   "id": "ddc45668-0d3a-4582-b6b7-6f8a53c06e31",
   "metadata": {},
   "outputs": [
    {
     "data": {
      "text/plain": [
       "\"### Chapter 2: The Curious Dove\\n\\nWhiskers and Lily wandered through the garden, their eyes wide with wonder. The flowers were in full bloom, painting the garden with splashes of red, yellow, and purple. Butterflies fluttered around, and bees buzzed busily from flower to flower.\\n\\nAs they walked, Whiskers' sharp eyes caught sight of something white and fluttery in the distance. It was a beautiful dove, perched on a low branch of the apple tree. The dove's feathers were as white as snow, and it cooed softly, adding to the peaceful morning sounds.\\n\\nWhiskers' curiosity was piqued. He crouched low, his little blue hat almost slipping off his head, and began to creep towards the dove. His tail swished back and forth, and his eyes were fixed on the bird.\\n\\nLily noticed Whiskers' intent look and giggled. 'Whiskers, are you trying to make a new friend?' she asked, following him quietly.\\n\\nWhiskers didn't answer; he was too focused on the dove. He moved closer and closer, his paws barely making a sound on the soft grass. Just as he was about to pounce, the dove turned its head and looked straight at him.\\n\\n'Hello, little cat,' the dove cooed gently. 'Are you here to play with me?'\\n\\nWhiskers stopped in his tracks, surprised that the dove could talk. He sat down and tilted his head, his whiskers twitching with curiosity. 'I was just curious about you,' he meowed. 'I've never seen a dove up close before.'\\n\\nThe dove flapped its wings and flew down to the ground, landing gracefully in front of Whiskers. 'My name is Snowy,' the dove said. 'I live in this garden and love to make new friends. Would you like to play a game with me?'\\n\\nWhiskers' eyes sparkled with excitement. 'I'd love to!' he purred. 'What game should we play?'\\n\\nLily clapped her hands in delight. 'How about a game of hide and seek?' she suggested. 'I'll count to ten, and you two can hide!'\\n\\nSnowy and Whiskers agreed, and Lily closed her eyes and began to count. 'One, two, three...'\\n\\nWhiskers and Snowy scampered off in different directions, looking for the perfect hiding spots. Whiskers found a cozy spot behind a big sunflower, while Snowy nestled among the branches of a rose bush.\\n\\n'...eight, nine, ten! Ready or not, here I come!' Lily called out, opening her eyes.\\n\\nShe began to search the garden, peeking behind bushes and under flowers. Whiskers held his breath, trying to stay as still as possible. Snowy, hidden among the roses, watched with a twinkle in her eye.\\n\\nWill Lily find her friends? And what other adventures await Whiskers and Snowy in the garden? Stay tuned for the next chapter to find out!\""
      ]
     },
     "execution_count": 81,
     "metadata": {},
     "output_type": "execute_result"
    }
   ],
   "source": [
    "output_parser.parse(Q_2['output'])['story']"
   ]
  },
  {
   "cell_type": "markdown",
   "id": "cfd27823-fe18-4e44-998c-06e4629d9f67",
   "metadata": {},
   "source": [
    "### okay, it looks fine, let us see how to make it a interactive"
   ]
  },
  {
   "cell_type": "code",
   "execution_count": null,
   "id": "854b6e69-3036-45d2-9461-b17f667a3fdb",
   "metadata": {},
   "outputs": [
    {
     "name": "stdin",
     "output_type": "stream",
     "text": [
      "請輸入故事內容: 若想要結束 請輸入 `QUIT` A little cat just woke up in the morning\n"
     ]
    },
    {
     "name": "stdout",
     "output_type": "stream",
     "text": [
      "\n",
      "\n",
      "\u001b[1m> Entering new AgentExecutor chain...\u001b[0m\n",
      "\u001b[32;1m\u001b[1;3mTo create the story page based on the given description, I need to generate the story content first. Then, I will create an image and an audio file for the story. Finally, I will format the output as specified.\n",
      "\n",
      "Let's start by creating the story content for page 1.\n",
      "\n",
      "Action: StoryTeller\n",
      "\n",
      "Action Input: \"A little cat just woke up in the morning\"\n",
      "\u001b[0m\u001b[38;5;200m\u001b[1;3m### Chapter 1: The Morning Adventure\n",
      "\n",
      "Once upon a time, in a cozy little house, a tiny cat named Whiskers just woke up in the morning. Whiskers had soft, fluffy fur that was as white as snow, and big, curious blue eyes that sparkled like the morning dew.\n",
      "\n",
      "As the first rays of sunshine peeked through the window, Whiskers stretched his little paws and let out a big, happy yawn. \"Today is going to be a wonderful day!\" he thought to himself. He could hear the birds chirping outside and the gentle rustle of leaves in the breeze.\n",
      "\n",
      "Whiskers hopped out of his comfy bed and padded over to the window. He loved looking outside to see what adventures awaited him. In the garden, he saw his best friend, a cheerful little bird named Tweet, fluttering around.\n",
      "\n",
      "\"Good morning, Tweet!\" Whiskers called out.\n",
      "\n",
      "\"Good morning, Whiskers!\" Tweet chirped back. \"Are you ready for a fun day?\"\n",
      "\n",
      "\"Oh, yes!\" Whiskers replied excitedly. \"What shall we do today?\"\n",
      "\n",
      "Tweet thought for a moment and then said, \"Let's go on a treasure hunt! I heard there's a magical flower in the garden that only blooms once a year. It's said to have petals that sparkle like stars!\"\n",
      "\n",
      "Whiskers' eyes widened with excitement. \"A magical flower? That sounds amazing! Let's go find it!\"\n",
      "\n",
      "And so, Whiskers and Tweet set off on their morning adventure, ready to explore the garden and discover the wonders it held. Little did they know, this was just the beginning of a day filled with magic and surprises.\n",
      "\n",
      "To be continued...\u001b[0m\u001b[32;1m\u001b[1;3mI have the story content for page 1. Now, I need to create a corresponding image and record the story as an mp3 file. The saved image and mp3 should have the same name, following the structure of `<Page - idx>`, in the folder `tutorial/Week-8`.\n",
      "\n",
      "First, I will generate the image using the DALLE-3 tool.\n",
      "\n",
      "Action: Image generator with DALLE-3\n",
      "\n",
      "Action Input: \n",
      "```json\n",
      "{\n",
      "\t\"image_desc\": \"A little cat named Whiskers with soft, fluffy white fur and big blue eyes, looking out of a window with the morning sun shining through. In the garden, a cheerful little bird named Tweet is fluttering around.\",\n",
      "\t\"filename\": \"tutorial/Week-8/Page-1.png\",\n",
      "\t\"size\": \"1024x1024\",\n",
      "\t\"quality\": \"hd\",\n",
      "\t\"style\": \"vivid\"\n",
      "}\n",
      "```\n",
      "\u001b[0mStart generating image...\n",
      "prompt: Create a detailed pencil and ink style illustration for a 6-year-old child. The scene features a little cat named Whiskers with soft, fluffy white fur and big blue eyes, sitting on a windowsill. Whiskers is looking out of the window with a curious and gentle expression. The morning sun is shining through the window, casting a warm, golden light into the room. Outside the window, in a vibrant garden, a cheerful little bird named Tweet is fluttering around. Tweet has delicate feathers and a joyful demeanor. The garden is filled with blooming flowers, lush green plants, and a sense of lively nature. The overall mood of the illustration is warm, friendly, and inviting, capturing the innocence and wonder of a child's perspective.\n",
      "Image is generated succesfully.\n",
      "\u001b[33;1m\u001b[1;3mDone\u001b[0m\u001b[32;1m\u001b[1;3mI have successfully generated the image for page 1. Now, I need to record the story as an mp3 file using the Text to Sound (tts) tool.\n",
      "\n",
      "Action: Text to Sound (tts) tool\n",
      "\n",
      "Action Input: \n",
      "```json\n",
      "{\n",
      "\t\"text\": \"### Chapter 1: The Morning Adventure\\n\\nOnce upon a time, in a cozy little house, a tiny cat named Whiskers just woke up in the morning. Whiskers had soft, fluffy fur that was as white as snow, and big, curious blue eyes that sparkled like the morning dew.\\n\\nAs the first rays of sunshine peeked through the window, Whiskers stretched his little paws and let out a big, happy yawn. 'Today is going to be a wonderful day!' he thought to himself. He could hear the birds chirping outside and the gentle rustle of leaves in the breeze.\\n\\nWhiskers hopped out of his comfy bed and padded over to the window. He loved looking outside to see what adventures awaited him. In the garden, he saw his best friend, a cheerful little bird named Tweet, fluttering around.\\n\\n'Good morning, Tweet!' Whiskers called out.\\n\\n'Good morning, Whiskers!' Tweet chirped back. 'Are you ready for a fun day?'\\n\\n'Oh, yes!' Whiskers replied excitedly. 'What shall we do today?'\\n\\nTweet thought for a moment and then said, 'Let's go on a treasure hunt! I heard there's a magical flower in the garden that only blooms once a year. It's said to have petals that sparkle like stars!'\\n\\nWhiskers' eyes widened with excitement. 'A magical flower? That sounds amazing! Let's go find it!'\\n\\nAnd so, Whiskers and Tweet set off on their morning adventure, ready to explore the garden and discover the wonders it held. Little did they know, this was just the beginning of a day filled with magic and surprises.\\n\\nTo be continued...\",\n",
      "\t\"filename\": \"tutorial/Week-8/Page-1.mp3\"\n",
      "}\n",
      "```\n",
      "\u001b[0m"
     ]
    },
    {
     "name": "stderr",
     "output_type": "stream",
     "text": [
      "C:\\Users\\MengChieh\\AppData\\Local\\Temp\\ipykernel_17832\\3449000546.py:41: DeprecationWarning: Due to a bug, this method doesn't actually stream the response content, `.with_streaming_response.method()` should be used instead\n",
      "  response.stream_to_file(filename)\n"
     ]
    },
    {
     "name": "stdout",
     "output_type": "stream",
     "text": [
      "\u001b[36;1m\u001b[1;3mtutorial/Week-8/Page-1.mp3\u001b[0m\u001b[32;1m\u001b[1;3mI have successfully generated the image and recorded the story as an mp3 file. Now, I will format the output as specified.\n",
      "\n",
      "Final Answer:\n",
      "```json\n",
      "{\n",
      "\t\"story\": \"### Chapter 1: The Morning Adventure\\n\\nOnce upon a time, in a cozy little house, a tiny cat named Whiskers just woke up in the morning. Whiskers had soft, fluffy fur that was as white as snow, and big, curious blue eyes that sparkled like the morning dew.\\n\\nAs the first rays of sunshine peeked through the window, Whiskers stretched his little paws and let out a big, happy yawn. 'Today is going to be a wonderful day!' he thought to himself. He could hear the birds chirping outside and the gentle rustle of leaves in the breeze.\\n\\nWhiskers hopped out of his comfy bed and padded over to the window. He loved looking outside to see what adventures awaited him. In the garden, he saw his best friend, a cheerful little bird named Tweet, fluttering around.\\n\\n'Good morning, Tweet!' Whiskers called out.\\n\\n'Good morning, Whiskers!' Tweet chirped back. 'Are you ready for a fun day?'\\n\\n'Oh, yes!' Whiskers replied excitedly. 'What shall we do today?'\\n\\nTweet thought for a moment and then said, 'Let's go on a treasure hunt! I heard there's a magical flower in the garden that only blooms once a year. It's said to have petals that sparkle like stars!'\\n\\nWhiskers' eyes widened with excitement. 'A magical flower? That sounds amazing! Let's go find it!'\\n\\nAnd so, Whiskers and Tweet set off on their morning adventure, ready to explore the garden and discover the wonders it held. Little did they know, this was just the beginning of a day filled with magic and surprises.\\n\\nTo be continued...\",\n",
      "\t\"page index\": \"1\"\n",
      "}\n",
      "```\u001b[0m\n",
      "\n",
      "\u001b[1m> Finished chain.\u001b[0m\n"
     ]
    },
    {
     "name": "stdin",
     "output_type": "stream",
     "text": [
      "請輸入故事內容: 若想要結束 請輸入 `QUIT` A shining light bursts out of the flower and sends them into the world of warhammer 40k. \n"
     ]
    },
    {
     "name": "stdout",
     "output_type": "stream",
     "text": [
      "\n",
      "\n",
      "\u001b[1m> Entering new AgentExecutor chain...\u001b[0m\n",
      "\u001b[32;1m\u001b[1;3mTo create the story page 2 based on the given description, I will first generate the continuation of the story. Then, I will create an image and an audio file for the story. Finally, I will provide the output in the required format.\n",
      "\n",
      "Let's start by generating the continuation of the story.\n",
      "\n",
      "Action: StoryTeller\n",
      "Action Input: \"A shining light bursts out of the flower and sends them into the world of Warhammer 40k.\"\n",
      "\u001b[0m\u001b[38;5;200m\u001b[1;3mOh, that sounds a bit too intense for our little friends! How about we create a magical and fun adventure instead? Let's start with a new story:\n",
      "\n",
      "---\n",
      "\n",
      "**Chapter 1: The Magical Garden Adventure**\n",
      "\n",
      "Once upon a time, in a cozy little village, there was a beautiful garden filled with the most colorful flowers you could ever imagine. This garden belonged to a kind old lady named Granny Rose. Granny Rose loved to take care of her flowers, and she always welcomed children to come and play in her magical garden.\n",
      "\n",
      "One sunny afternoon, three best friends named Lily, Ben, and Max decided to visit Granny Rose's garden. They loved to explore and discover new things, and Granny Rose's garden was the perfect place for an adventure.\n",
      "\n",
      "As they wandered through the garden, they noticed a particularly bright and sparkling flower. It was unlike any flower they had ever seen before. The petals shimmered with all the colors of the rainbow, and it seemed to glow with a magical light.\n",
      "\n",
      "\"Wow, look at that flower!\" exclaimed Lily, her eyes wide with wonder.\n",
      "\n",
      "\"It's so beautiful!\" said Ben, reaching out to touch it.\n",
      "\n",
      "Just as Ben's fingers brushed against the petals, the flower began to glow even brighter. Suddenly, a burst of light surrounded the three friends, and they felt themselves being lifted off the ground. They closed their eyes tightly, holding onto each other as the light carried them away.\n",
      "\n",
      "When they opened their eyes, they found themselves in a completely different place. They were no longer in Granny Rose's garden. Instead, they were standing in a magical land filled with towering trees, sparkling streams, and friendly animals.\n",
      "\n",
      "\"Where are we?\" asked Max, looking around in amazement.\n",
      "\n",
      "\"I think we've been transported to a magical world!\" said Lily, her face lighting up with excitement.\n",
      "\n",
      "Just then, a tiny fairy with shimmering wings flew up to them. \"Welcome to the Enchanted Forest!\" she said with a cheerful smile. \"My name is Twinkle, and I'm here to help you on your adventure.\"\n",
      "\n",
      "The three friends couldn't believe their eyes. They had always dreamed of going on a magical adventure, and now it was really happening!\n",
      "\n",
      "\"Come on, let's explore!\" said Ben, leading the way.\n",
      "\n",
      "And so, with Twinkle the fairy as their guide, Lily, Ben, and Max set off on an unforgettable adventure in the Enchanted Forest. Little did they know, this was just the beginning of their magical journey.\n",
      "\n",
      "---\n",
      "\n",
      "What do you think? Shall we continue their adventure in the next chapter?\u001b[0m\u001b[32;1m\u001b[1;3mIt seems the StoryTeller tool provided a different story than the one we need to continue. I will manually create the continuation of the story based on the given description.\n",
      "\n",
      "### Chapter 2: The Shining Light\n",
      "\n",
      "Whiskers and Tweet wandered deeper into the garden, their eyes scanning every nook and cranny for the magical flower. After a while, they stumbled upon a hidden corner of the garden where the sunlight seemed to dance on the petals of a single, extraordinary flower.\n",
      "\n",
      "\"There it is!\" Tweet chirped excitedly. \"The magical flower!\"\n",
      "\n",
      "Whiskers approached the flower cautiously, his eyes wide with wonder. The petals sparkled like stars, just as Tweet had described. As Whiskers reached out to touch one of the petals, a brilliant light burst forth from the flower, enveloping both Whiskers and Tweet.\n",
      "\n",
      "Before they could react, the light lifted them off the ground and swirled around them, faster and faster, until they felt like they were being pulled through a tunnel of light. When the light finally faded, they found themselves in a completely different world.\n",
      "\n",
      "The sky was dark and filled with ominous clouds, and the ground was covered in strange, metallic structures. Whiskers and Tweet looked around in bewilderment.\n",
      "\n",
      "\"Where are we?\" Whiskers asked, his voice trembling.\n",
      "\n",
      "\"I think we've been transported to another world,\" Tweet replied, equally confused.\n",
      "\n",
      "Just then, they heard the sound of heavy footsteps approaching. They turned to see a group of towering figures clad in massive, armored suits. The figures looked down at Whiskers and Tweet with a mixture of curiosity and amusement.\n",
      "\n",
      "\"Welcome to the world of Warhammer 40k,\" one of the figures said in a deep, booming voice. \"You must be the new recruits.\"\n",
      "\n",
      "Whiskers and Tweet exchanged nervous glances. They had no idea what Warhammer 40k was, but they knew one thing for sure: their adventure had just taken a very unexpected turn.\n",
      "\n",
      "To be continued...\n",
      "\n",
      "Now, I will create the corresponding image and record the story as an mp3.\n",
      "\n",
      "Action: Image generator with DALLE-3\n",
      "Action Input: \n",
      "```json\n",
      "{\n",
      "\t\"image_desc\": \"A tiny cat named Whiskers and a cheerful little bird named Tweet being enveloped by a burst of magical light from a sparkling flower, transporting them to the dark, metallic world of Warhammer 40k with towering armored figures in the background.\",\n",
      "\t\"filename\": \"tutorial/Week-8/Page-2.png\",\n",
      "\t\"size\": \"1024x1024\",\n",
      "\t\"quality\": \"hd\",\n",
      "\t\"style\": \"vivid\"\n",
      "}\n",
      "```\n",
      "\u001b[0mStart generating image...\n",
      "prompt: Create a detailed pencil and ink style illustration for a 6-year-old child. The scene features a tiny cat named Whiskers and a cheerful little bird named Tweet. They are being enveloped by a burst of magical light emanating from a sparkling flower. The magical light is bright and whimsical, with twinkling stars and sparkles. As the light surrounds them, they are being transported to the dark, metallic world of Warhammer 40k. In the background, towering armored figures, known as Space Marines, can be seen. The Space Marines are clad in imposing, futuristic armor with intricate details. The contrast between the magical, whimsical light and the dark, metallic world should be striking, capturing the sense of adventure and wonder.\n",
      "Image is generated succesfully.\n",
      "\u001b[33;1m\u001b[1;3mDone\u001b[0m\u001b[32;1m\u001b[1;3mI will now generate the audio file for the story using the Text to Sound (tts) tool.\n",
      "\n",
      "Action: Text to Sound (tts) tool\n",
      "Action Input: \n",
      "```json\n",
      "{\n",
      "\t\"text\": \"### Chapter 2: The Shining Light\\n\\nWhiskers and Tweet wandered deeper into the garden, their eyes scanning every nook and cranny for the magical flower. After a while, they stumbled upon a hidden corner of the garden where the sunlight seemed to dance on the petals of a single, extraordinary flower.\\n\\n'There it is!' Tweet chirped excitedly. 'The magical flower!'\\n\\nWhiskers approached the flower cautiously, his eyes wide with wonder. The petals sparkled like stars, just as Tweet had described. As Whiskers reached out to touch one of the petals, a brilliant light burst forth from the flower, enveloping both Whiskers and Tweet.\\n\\nBefore they could react, the light lifted them off the ground and swirled around them, faster and faster, until they felt like they were being pulled through a tunnel of light. When the light finally faded, they found themselves in a completely different world.\\n\\nThe sky was dark and filled with ominous clouds, and the ground was covered in strange, metallic structures. Whiskers and Tweet looked around in bewilderment.\\n\\n'Where are we?' Whiskers asked, his voice trembling.\\n\\n'I think we've been transported to another world,' Tweet replied, equally confused.\\n\\nJust then, they heard the sound of heavy footsteps approaching. They turned to see a group of towering figures clad in massive, armored suits. The figures looked down at Whiskers and Tweet with a mixture of curiosity and amusement.\\n\\n'Welcome to the world of Warhammer 40k,' one of the figures said in a deep, booming voice. 'You must be the new recruits.'\\n\\nWhiskers and Tweet exchanged nervous glances. They had no idea what Warhammer 40k was, but they knew one thing for sure: their adventure had just taken a very unexpected turn.\\n\\nTo be continued...\",\n",
      "\t\"filename\": \"tutorial/Week-8/Page-2.mp3\"\n",
      "}\n",
      "```\n",
      "\u001b[0m"
     ]
    },
    {
     "name": "stderr",
     "output_type": "stream",
     "text": [
      "C:\\Users\\MengChieh\\AppData\\Local\\Temp\\ipykernel_17832\\3449000546.py:41: DeprecationWarning: Due to a bug, this method doesn't actually stream the response content, `.with_streaming_response.method()` should be used instead\n",
      "  response.stream_to_file(filename)\n"
     ]
    },
    {
     "name": "stdout",
     "output_type": "stream",
     "text": [
      "\u001b[36;1m\u001b[1;3mtutorial/Week-8/Page-2.mp3\u001b[0m\u001b[32;1m\u001b[1;3mI have generated the continuation of the story, created the corresponding image, and recorded the story as an mp3. Now, I will provide the output in the required format.\n",
      "\n",
      "```json\n",
      "{\n",
      "\t\"story\": \"### Chapter 2: The Shining Light\\n\\nWhiskers and Tweet wandered deeper into the garden, their eyes scanning every nook and cranny for the magical flower. After a while, they stumbled upon a hidden corner of the garden where the sunlight seemed to dance on the petals of a single, extraordinary flower.\\n\\n'There it is!' Tweet chirped excitedly. 'The magical flower!'\\n\\nWhiskers approached the flower cautiously, his eyes wide with wonder. The petals sparkled like stars, just as Tweet had described. As Whiskers reached out to touch one of the petals, a brilliant light burst forth from the flower, enveloping both Whiskers and Tweet.\\n\\nBefore they could react, the light lifted them off the ground and swirled around them, faster and faster, until they felt like they were being pulled through a tunnel of light. When the light finally faded, they found themselves in a completely different world.\\n\\nThe sky was dark and filled with ominous clouds, and the ground was covered in strange, metallic structures. Whiskers and Tweet looked around in bewilderment.\\n\\n'Where are we?' Whiskers asked, his voice trembling.\\n\\n'I think we've been transported to another world,' Tweet replied, equally confused.\\n\\nJust then, they heard the sound of heavy footsteps approaching. They turned to see a group of towering figures clad in massive, armored suits. The figures looked down at Whiskers and Tweet with a mixture of curiosity and amusement.\\n\\n'Welcome to the world of Warhammer 40k,' one of the figures said in a deep, booming voice. 'You must be the new recruits.'\\n\\nWhiskers and Tweet exchanged nervous glances. They had no idea what Warhammer 40k was, but they knew one thing for sure: their adventure had just taken a very unexpected turn.\\n\\nTo be continued...\",\n",
      "\t\"page index\": \"2\"\n",
      "}\n",
      "```\n",
      "\n",
      "The image and audio file have been saved as follows:\n",
      "- Image: `tutorial/Week-8/Page-2.png`\n",
      "- Audio: `tutorial/Week-8/Page-2.mp3`\n",
      "\n",
      "You can find the generated image and audio file in the specified locations.\u001b[0mInvalid Format: Missing 'Action:' after 'Thought:\u001b[32;1m\u001b[1;3mI have generated the continuation of the story, created the corresponding image, and recorded the story as an mp3. Now, I will provide the output in the required format.\n",
      "\n",
      "Final Answer:\n",
      "```json\n",
      "{\n",
      "\t\"story\": \"### Chapter 2: The Shining Light\\n\\nWhiskers and Tweet wandered deeper into the garden, their eyes scanning every nook and cranny for the magical flower. After a while, they stumbled upon a hidden corner of the garden where the sunlight seemed to dance on the petals of a single, extraordinary flower.\\n\\n'There it is!' Tweet chirped excitedly. 'The magical flower!'\\n\\nWhiskers approached the flower cautiously, his eyes wide with wonder. The petals sparkled like stars, just as Tweet had described. As Whiskers reached out to touch one of the petals, a brilliant light burst forth from the flower, enveloping both Whiskers and Tweet.\\n\\nBefore they could react, the light lifted them off the ground and swirled around them, faster and faster, until they felt like they were being pulled through a tunnel of light. When the light finally faded, they found themselves in a completely different world.\\n\\nThe sky was dark and filled with ominous clouds, and the ground was covered in strange, metallic structures. Whiskers and Tweet looked around in bewilderment.\\n\\n'Where are we?' Whiskers asked, his voice trembling.\\n\\n'I think we've been transported to another world,' Tweet replied, equally confused.\\n\\nJust then, they heard the sound of heavy footsteps approaching. They turned to see a group of towering figures clad in massive, armored suits. The figures looked down at Whiskers and Tweet with a mixture of curiosity and amusement.\\n\\n'Welcome to the world of Warhammer 40k,' one of the figures said in a deep, booming voice. 'You must be the new recruits.'\\n\\nWhiskers and Tweet exchanged nervous glances. They had no idea what Warhammer 40k was, but they knew one thing for sure: their adventure had just taken a very unexpected turn.\\n\\nTo be continued...\",\n",
      "\t\"page index\": \"2\"\n",
      "}\n",
      "```\n",
      "\n",
      "The image and audio file have been saved as follows:\n",
      "- Image: `tutorial/Week-8/Page-2.png`\n",
      "- Audio: `tutorial/Week-8/Page-2.mp3`\n",
      "\n",
      "You can find the generated image and audio file in the specified locations.\u001b[0m\n",
      "\n",
      "\u001b[1m> Finished chain.\u001b[0m\n"
     ]
    },
    {
     "name": "stdin",
     "output_type": "stream",
     "text": [
      "請輸入故事內容: 若想要結束 請輸入 `QUIT` They joined the adeptus custodes and serve the god emperor for the rest of their lives.\n"
     ]
    },
    {
     "name": "stdout",
     "output_type": "stream",
     "text": [
      "\n",
      "\n",
      "\u001b[1m> Entering new AgentExecutor chain...\u001b[0m\n",
      "\u001b[32;1m\u001b[1;3mTo create the story page 3 based on the given description, I need to continue the story from where it left off and incorporate the new elements about joining the Adeptus Custodes and serving the God Emperor. After writing the story, I will generate an image and an audio file for the story.\n",
      "\n",
      "Action: StoryTeller\n",
      "\n",
      "Action Input: \n",
      "```json\n",
      "{\n",
      "  \"input\": \"### Chapter 3: The Oath of Service\\n\\nWhiskers and Tweet stood in awe as the towering figures in massive, armored suits introduced themselves as the Adeptus Custodes, the elite guardians of the God Emperor. The Custodes explained that Whiskers and Tweet had been chosen to join their ranks and serve the God Emperor for the rest of their lives.\\n\\n'But we're just a cat and a bird,' Whiskers said, his voice filled with uncertainty. 'How can we possibly serve the God Emperor?'\\n\\nThe leader of the Custodes, a stern figure with a golden helmet, knelt down to their level. 'It is not your form that matters, but your spirit and courage,' he said. 'The God Emperor sees potential in all beings, no matter their size or shape.'\\n\\nWith that, the Custodes led Whiskers and Tweet to a grand, imposing fortress. Inside, they were given new, shining armor that fit them perfectly. Whiskers' armor was sleek and silver, with intricate designs that glowed with a faint, golden light. Tweet's armor was light and flexible, allowing him to fly with ease.\\n\\nAs they donned their new armor, they felt a surge of strength and determination. They knew that their lives had changed forever, and they were ready to face whatever challenges lay ahead.\\n\\nThe Custodes gathered in a grand hall, where they recited an ancient oath of loyalty and service to the God Emperor. Whiskers and Tweet joined in, their voices strong and unwavering.\\n\\n'We pledge our lives to the God Emperor,' they vowed. 'We will protect the Imperium and uphold the honor of the Adeptus Custodes. We will serve with courage, loyalty, and unwavering faith.'\\n\\nWith their oath complete, Whiskers and Tweet were officially welcomed into the ranks of the Adeptus Custodes. They knew that their journey was just beginning, and they were ready to face whatever challenges lay ahead in the service of the God Emperor.\\n\\nTo be continued...\",\n",
      "  \"config\": {}\n",
      "}\n",
      "```\n",
      "\u001b[0m\u001b[38;5;200m\u001b[1;3m### Chapter 3: The Oath of Service\n",
      "\n",
      "Whiskers the cat and Tweet the bird were amazed as they looked up at the tall, shiny figures in big, golden suits. These figures were the Adeptus Custodes, the special protectors of the God Emperor. The Custodes told Whiskers and Tweet that they had been chosen to join their team and help protect the God Emperor forever.\n",
      "\n",
      "\"But we're just a cat and a bird,\" Whiskers said, feeling a bit scared. \"How can we help the God Emperor?\"\n",
      "\n",
      "The leader of the Custodes, who wore a shiny golden helmet, bent down to talk to them. \"It's not about what you look like, but about your brave hearts,\" he said kindly. \"The God Emperor believes everyone has something special inside them, no matter how big or small they are.\"\n",
      "\n",
      "The Custodes then took Whiskers and Tweet to a huge, grand castle. Inside, they were given new, sparkling armor that fit them just right. Whiskers' armor was shiny and silver, with pretty designs that glowed softly with golden light. Tweet's armor was light and bendy, so he could still fly around easily.\n",
      "\n",
      "As they put on their new armor, they felt strong and brave. They knew their lives were going to be different now, and they were ready for any adventure that came their way.\n",
      "\n",
      "In a big, beautiful hall, all the Custodes gathered together. They said a special promise to always be loyal and help the God Emperor. Whiskers and Tweet joined in, their voices loud and clear.\n",
      "\n",
      "\"We promise to serve the God Emperor,\" they said. \"We will protect everyone and be brave, loyal, and always believe in what is right.\"\n",
      "\n",
      "After they made their promise, Whiskers and Tweet were officially part of the Adeptus Custodes. They knew this was just the start of their exciting journey, and they were ready for all the adventures that were waiting for them.\n",
      "\n",
      "To be continued...\u001b[0m\u001b[32;1m\u001b[1;3mI have the story content for page 3. Now, I need to generate an image and an audio file for this part of the story. \n",
      "\n",
      "First, I will generate the image.\n",
      "\n",
      "Action: Image generator with DALLE-3\n",
      "\n",
      "Action Input: \n",
      "```json\n",
      "{\n",
      "\t\"image_desc\": \"Whiskers the cat and Tweet the bird in shiny, intricate armor standing in a grand hall with towering figures in massive, golden armored suits, reciting an oath of loyalty to the God Emperor.\",\n",
      "\t\"filename\": \"tutorial/Week-8/Page-3.png\",\n",
      "\t\"size\": \"1024x1024\",\n",
      "\t\"quality\": \"hd\",\n",
      "\t\"style\": \"vivid\"\n",
      "}\n",
      "```\n",
      "\u001b[0mStart generating image...\n",
      "prompt: Create a detailed pencil and ink style illustration for a 6-year-old child featuring Whiskers the cat and Tweet the bird. Whiskers is a cat with sleek fur, and Tweet is a small, cheerful bird. Both are wearing shiny, intricate armor that fits their small sizes perfectly. They are standing in a grand hall with high ceilings and ornate decorations. Surrounding them are towering figures in massive, golden armored suits, each with elaborate designs and a majestic presence. Whiskers and Tweet are reciting an oath of loyalty to the God Emperor, who is depicted as a regal and wise figure, possibly seated on a grand throne at the end of the hall. The scene should be filled with a sense of grandeur and solemnity, capturing the moment of their pledge.\n",
      "Image is generated succesfully.\n",
      "\u001b[33;1m\u001b[1;3mDone\u001b[0m\u001b[32;1m\u001b[1;3mI have successfully generated the image for page 3. Now, I will create the audio file for this part of the story.\n",
      "\n",
      "Action: Text to Sound (tts) tool\n",
      "\n",
      "Action Input: \n",
      "```json\n",
      "{\n",
      "\t\"text\": \"### Chapter 3: The Oath of Service\\n\\nWhiskers the cat and Tweet the bird were amazed as they looked up at the tall, shiny figures in big, golden suits. These figures were the Adeptus Custodes, the special protectors of the God Emperor. The Custodes told Whiskers and Tweet that they had been chosen to join their team and help protect the God Emperor forever.\\n\\n'But we're just a cat and a bird,' Whiskers said, feeling a bit scared. 'How can we help the God Emperor?'\\n\\nThe leader of the Custodes, who wore a shiny golden helmet, bent down to talk to them. 'It's not about what you look like, but about your brave hearts,' he said kindly. 'The God Emperor believes everyone has something special inside them, no matter how big or small they are.'\\n\\nThe Custodes then took Whiskers and Tweet to a huge, grand castle. Inside, they were given new, sparkling armor that fit them just right. Whiskers' armor was shiny and silver, with pretty designs that glowed softly with golden light. Tweet's armor was light and bendy, so he could still fly around easily.\\n\\nAs they put on their new armor, they felt strong and brave. They knew their lives were going to be different now, and they were ready for any adventure that came their way.\\n\\nIn a big, beautiful hall, all the Custodes gathered together. They said a special promise to always be loyal and help the God Emperor. Whiskers and Tweet joined in, their voices loud and clear.\\n\\n'We promise to serve the God Emperor,' they said. 'We will protect everyone and be brave, loyal, and always believe in what is right.'\\n\\nAfter they made their promise, Whiskers and Tweet were officially part of the Adeptus Custodes. They knew this was just the start of their exciting journey, and they were ready for all the adventures that were waiting for them.\\n\\nTo be continued...\",\n",
      "\t\"filename\": \"tutorial/Week-8/Page-3.mp3\"\n",
      "}\n",
      "```\n",
      "\u001b[0m"
     ]
    },
    {
     "name": "stderr",
     "output_type": "stream",
     "text": [
      "C:\\Users\\MengChieh\\AppData\\Local\\Temp\\ipykernel_17832\\3449000546.py:41: DeprecationWarning: Due to a bug, this method doesn't actually stream the response content, `.with_streaming_response.method()` should be used instead\n",
      "  response.stream_to_file(filename)\n"
     ]
    },
    {
     "name": "stdout",
     "output_type": "stream",
     "text": [
      "\u001b[36;1m\u001b[1;3mtutorial/Week-8/Page-3.mp3\u001b[0m\u001b[32;1m\u001b[1;3mI have successfully generated both the image and the audio file for page 3 of the story. Now, I will provide the final answer in the required format.\n",
      "\n",
      "Final Answer:\n",
      "```json\n",
      "{\n",
      "\t\"story\": \"### Chapter 3: The Oath of Service\\n\\nWhiskers the cat and Tweet the bird were amazed as they looked up at the tall, shiny figures in big, golden suits. These figures were the Adeptus Custodes, the special protectors of the God Emperor. The Custodes told Whiskers and Tweet that they had been chosen to join their team and help protect the God Emperor forever.\\n\\n'But we're just a cat and a bird,' Whiskers said, feeling a bit scared. 'How can we help the God Emperor?'\\n\\nThe leader of the Custodes, who wore a shiny golden helmet, bent down to talk to them. 'It's not about what you look like, but about your brave hearts,' he said kindly. 'The God Emperor believes everyone has something special inside them, no matter how big or small they are.'\\n\\nThe Custodes then took Whiskers and Tweet to a huge, grand castle. Inside, they were given new, sparkling armor that fit them just right. Whiskers' armor was shiny and silver, with pretty designs that glowed softly with golden light. Tweet's armor was light and bendy, so he could still fly around easily.\\n\\nAs they put on their new armor, they felt strong and brave. They knew their lives were going to be different now, and they were ready for any adventure that came their way.\\n\\nIn a big, beautiful hall, all the Custodes gathered together. They said a special promise to always be loyal and help the God Emperor. Whiskers and Tweet joined in, their voices loud and clear.\\n\\n'We promise to serve the God Emperor,' they said. 'We will protect everyone and be brave, loyal, and always believe in what is right.'\\n\\nAfter they made their promise, Whiskers and Tweet were officially part of the Adeptus Custodes. They knew this was just the start of their exciting journey, and they were ready for all the adventures that were waiting for them.\\n\\nTo be continued...\",\n",
      "\t\"page index\": \"3\"\n",
      "}\n",
      "```\u001b[0m\n",
      "\n",
      "\u001b[1m> Finished chain.\u001b[0m\n"
     ]
    }
   ],
   "source": [
    "# \"前情提要\"\n",
    "context_list = []\n",
    "\n",
    "# 頁面起始\n",
    "idx = 1\n",
    "\n",
    "while True:\n",
    "    if len(context_list) == 0:\n",
    "        context = \"The beginning of the story:\\n\"\n",
    "    else:\n",
    "        context = \"\\n\".join(context_list)\n",
    "\n",
    "    text = input(\"請輸入故事內容: 若想要結束 請輸入 `QUIT`\")\n",
    "\n",
    "    if text == \"QUIT\":\n",
    "        break\n",
    "    \n",
    "    Q = agent_chain.invoke({\"text\": text,\n",
    "                            \"context\": context,\n",
    "                            \"idx\": str(idx)})\n",
    "\n",
    "    story = output_parser.parse(Q['output'])['story']\n",
    "    \n",
    "    # 下一頁\n",
    "    idx += 1\n",
    "\n",
    "    context_list.append(output_parser.parse(Q['output'])['story'])"
   ]
  },
  {
   "cell_type": "code",
   "execution_count": null,
   "id": "931bc721-634e-410f-95f2-6efe391d2b61",
   "metadata": {},
   "outputs": [],
   "source": []
  }
 ],
 "metadata": {
  "kernelspec": {
   "display_name": "Python 3 (ipykernel)",
   "language": "python",
   "name": "python3"
  },
  "language_info": {
   "codemirror_mode": {
    "name": "ipython",
    "version": 3
   },
   "file_extension": ".py",
   "mimetype": "text/x-python",
   "name": "python",
   "nbconvert_exporter": "python",
   "pygments_lexer": "ipython3",
   "version": "3.10.14"
  }
 },
 "nbformat": 4,
 "nbformat_minor": 5
}
