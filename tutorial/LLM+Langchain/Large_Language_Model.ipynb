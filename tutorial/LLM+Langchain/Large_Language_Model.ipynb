{
 "cells": [
  {
   "cell_type": "code",
   "execution_count": 1,
   "id": "9fa03493-d1b0-433b-bcea-d0814acdf51a",
   "metadata": {},
   "outputs": [
    {
     "name": "stderr",
     "output_type": "stream",
     "text": [
      "C:\\Users\\MengChieh\\AppData\\Local\\Temp\\ipykernel_21056\\3655583287.py:52: LangChainDeprecationWarning: The class `HuggingFaceEmbeddings` was deprecated in LangChain 0.2.2 and will be removed in 1.0. An updated version of the class exists in the :class:`~langchain-huggingface package and should be used instead. To use it run `pip install -U :class:`~langchain-huggingface` and import as `from :class:`~langchain_huggingface import HuggingFaceEmbeddings``.\n",
      "  embedding = HuggingFaceEmbeddings(model_name=\"all-MiniLM-L6-v2\")\n",
      "C:\\Users\\MengChieh\\miniconda3\\envs\\aicg\\lib\\site-packages\\tqdm\\auto.py:21: TqdmWarning: IProgress not found. Please update jupyter and ipywidgets. See https://ipywidgets.readthedocs.io/en/stable/user_install.html\n",
      "  from .autonotebook import tqdm as notebook_tqdm\n"
     ]
    }
   ],
   "source": [
    "import os\n",
    "from operator import itemgetter\n",
    "from textwrap import dedent\n",
    "\n",
    "import pandas as pd\n",
    "from langchain_openai import ChatOpenAI\n",
    "from langchain_community.vectorstores import FAISS\n",
    "from langchain_community.embeddings import HuggingFaceEmbeddings\n",
    "from langchain_core.runnables import chain, RunnablePassthrough, Runnable\n",
    "from langchain.docstore.document import Document\n",
    "from langchain.prompts import PromptTemplate, HumanMessagePromptTemplate, ChatPromptTemplate, SystemMessagePromptTemplate\n",
    "from langchain_core.output_parsers import StrOutputParser\n",
    "\n",
    "\n",
    "@chain\n",
    "def rag_parser(docs) -> str:\n",
    "\n",
    "    output = \"\"\n",
    "    \n",
    "    for doc in docs:\n",
    "        output += f\"Human: {doc.page_content}\\nAI Assistant: {doc.metadata['Answer']}\\n\\n\"\n",
    "    \n",
    "    return output\n",
    "\n",
    "\n",
    "def build_standard_chat_prompt_template(kwargs) -> Runnable:\n",
    "    messages = []\n",
    "    \n",
    "    for key in ['system', 'messages', 'human']:\n",
    "        if kwargs.get(key):\n",
    "            if key == 'system':\n",
    "                system_content = kwargs['system']\n",
    "                system_prompt = PromptTemplate(**system_content)\n",
    "                message = SystemMessagePromptTemplate(prompt=system_prompt)\n",
    "                messages.append(message)\n",
    "    \n",
    "            else:\n",
    "                human_content = kwargs['human']\n",
    "                human_prompt = PromptTemplate(**human_content)\n",
    "                message = HumanMessagePromptTemplate(prompt=human_prompt)\n",
    "                messages.append(message)\n",
    "    \n",
    "    chat_prompt = ChatPromptTemplate.from_messages(messages)\n",
    "    \n",
    "    return chat_prompt\n",
    "\n",
    "\n",
    "\n",
    "# Prepare the vector database\n",
    "df = pd.read_csv(\"immatics_faq.csv\")\n",
    "\n",
    "embedding = HuggingFaceEmbeddings(model_name=\"all-MiniLM-L6-v2\")\n",
    "\n",
    "documents = []\n",
    "\n",
    "for idx, row in df.iterrows():\n",
    "  document = Document(page_content=row['Question'],\n",
    "             metadata={\"Answer\": row[\"Answer\"]})\n",
    "  documents.append(document)\n",
    "\n",
    "vectorstore = FAISS.from_documents(documents, embedding=embedding)\n",
    "\n",
    "retriever = vectorstore.as_retriever(search_type=\"similarity\", \n",
    "                    search_kwargs={\"k\": 3})"
   ]
  },
  {
   "cell_type": "code",
   "execution_count": 2,
   "id": "03e4fdb5-1589-414e-8a71-6d3fc75aa659",
   "metadata": {},
   "outputs": [],
   "source": [
    "os.chdir(\"../../\")\n",
    "\n",
    "from src.initialization import credential_init\n",
    "\n",
    "credential_init()"
   ]
  },
  {
   "cell_type": "code",
   "execution_count": 3,
   "id": "76e85c74-22b1-4a60-9674-9f236a8b33a1",
   "metadata": {},
   "outputs": [],
   "source": [
    "model = ChatOpenAI(openai_api_key=os.environ['OPENAI_API_KEY'],\n",
    "                   model_name=\"gpt-4o-mini\", \n",
    "                   temperature=0 # a range from 0-2, the higher the value, the higher the `creativity`\n",
    "                  )\n",
    "\n",
    "\n",
    "system_template = \"You are a helpful AI assisitant answering the question the best you can.\"\n",
    "human_template = dedent(\"\"\"\n",
    "                     {text}\n",
    "                     \n",
    "                     context:\n",
    "                     {context}\n",
    "                     \"\"\"\n",
    ")\n",
    "\n",
    "input_ = {\"system\": {\"template\": system_template},\n",
    "      \"human\": {\"template\": human_template,\n",
    "        \"input_variables\": ['text', 'context']}\n",
    "      }\n",
    "\n",
    "chat_prompt_template = build_standard_chat_prompt_template(input_)\n",
    "\n",
    "pipeline_ = RunnablePassthrough.assign(context=itemgetter('text')|retriever|rag_parser) | chat_prompt_template"
   ]
  },
  {
   "cell_type": "code",
   "execution_count": 4,
   "id": "e8e27136-3000-4cd5-a585-6b09d709796a",
   "metadata": {},
   "outputs": [],
   "source": [
    "output = pipeline_.invoke({\"text\": \"Tell me something about this company.\"})"
   ]
  },
  {
   "cell_type": "code",
   "execution_count": 5,
   "id": "59626d60-4727-48a0-ae05-537b3060e4b7",
   "metadata": {},
   "outputs": [
    {
     "name": "stdout",
     "output_type": "stream",
     "text": [
      "System: You are a helpful AI assisitant answering the question the best you can.\n",
      "\n",
      "Human: Tell me something about this company.\n",
      "\n",
      "context:\n",
      "Human: Where is the company incorporated?\n",
      "AI Assistant: We are incorporated under the laws of the Netherlands.\n",
      "\n",
      "Human: When was the company founded?\n",
      "AI Assistant: Immatics was founded in 2000 as a spin out from H.G. Rammensee’s laboratory at University Tübingen, Germany. In 2015, Immatics and MD Anderson Cancer Center launched Immatics US, Inc. in Houston Texas.\n",
      "\n",
      "Human: Who are Immatics' independent auditors?\n",
      "AI Assistant: PriceWaterhouseCoopers GmbH Wirtschaftsprüfungsgesellschaft (PwC)\n",
      "Friedrich-Ebert-Anlage 35-37\n",
      "60327 Frankfurt am Main\n"
     ]
    }
   ],
   "source": [
    "# Assuming you have the object `chat_prompt_value`\n",
    "formatted_string = \"\\n\\n\".join(\n",
    "    f\"{type(msg).__name__.replace('Message', '')}: {msg.content.strip()}\"\n",
    "    for msg in output.messages\n",
    ")\n",
    "\n",
    "print(formatted_string)"
   ]
  },
  {
   "cell_type": "code",
   "execution_count": 22,
   "id": "8b263c27-d09f-474b-aaa5-3b8b59d81866",
   "metadata": {},
   "outputs": [],
   "source": [
    "@chain\n",
    "def create_prompt_str(output):\n",
    "\n",
    "    formatted_string = \"\\n\\n\".join(\n",
    "    f\"{type(msg).__name__.replace('Message', '')}: {msg.content.strip()}\"\n",
    "    for msg in output.messages)\n",
    "\n",
    "    return formatted_string"
   ]
  },
  {
   "cell_type": "code",
   "execution_count": 7,
   "id": "42f04b34-298e-4c76-b4ab-ff7accd395dd",
   "metadata": {},
   "outputs": [
    {
     "name": "stdout",
     "output_type": "stream",
     "text": [
      "Immatics is a biotechnology company that focuses on the development of innovative cancer immunotherapies. Founded in 2000 as a spin-off from H.G. Rammensee’s laboratory at the University of Tübingen in Germany, the company has made significant strides in the field of cancer treatment. In 2015, Immatics expanded its operations by launching Immatics US, Inc. in Houston, Texas, in collaboration with the MD Anderson Cancer Center, which is renowned for its cancer research and treatment. The company is incorporated under the laws of the Netherlands and is audited by PriceWaterhouseCoopers GmbH Wirtschaftsprüfungsgesellschaft (PwC).\n"
     ]
    }
   ],
   "source": [
    "from langchain_core.output_parsers import StrOutputParser\n",
    "\n",
    "pipeline_ = RunnablePassthrough.assign(context=itemgetter('text')|retriever|rag_parser) | chat_prompt_template | model | StrOutputParser()\n",
    "\n",
    "output = pipeline_.invoke({\"text\": \"Tell me something about this company.\"})\n",
    "\n",
    "print(output)"
   ]
  },
  {
   "cell_type": "markdown",
   "id": "f386c6e9-85aa-45f7-b272-dfda9991b8b4",
   "metadata": {},
   "source": [
    "## Create 10 alternative answers\n",
    "\n",
    "Instead of asking the machine to ask 10 alternative questions based on the given data, we choose to reformulate the question such that 10 variations are generated."
   ]
  },
  {
   "cell_type": "code",
   "execution_count": 8,
   "id": "a4fd9c85-5e79-4421-ad7d-9bc4dd41798b",
   "metadata": {},
   "outputs": [],
   "source": [
    "from typing import List\n",
    "\n",
    "from pydantic import BaseModel, Field\n",
    "from langchain_core.output_parsers import PydanticOutputParser\n",
    "\n",
    "\n",
    "\n",
    "class Question(BaseModel):\n",
    "\n",
    "    name: str = Field(description=\"A reformulate question.\")\n",
    "\n",
    "class Output(BaseModel):\n",
    "\n",
    "    name: List[Question] = Field(description=\"10 reformulated questions focusing on different field. Each of the question should be more specific\")\n",
    "\n",
    "\n",
    "output_parser = PydanticOutputParser(pydantic_object=Output)\n",
    "format_instructions = output_parser.get_format_instructions()\n",
    "\n",
    "\n",
    "system_template = \"You are a helpful AI assisitant answering the question the best you can.\"\n",
    "human_template = dedent(\"\"\"\n",
    "                     {text}\n",
    "\n",
    "                     output format instruction: {format_instructions}\n",
    "                     \"\"\"\n",
    ")\n",
    "\n",
    "input_ = {\"system\": {\"template\": system_template},\n",
    "          \"human\": {\"template\": human_template,\n",
    "                    \"input_variables\": ['text'],\n",
    "                    \"partial_variables\": {\"format_instructions\": format_instructions}}\n",
    "         }\n",
    "\n",
    "chat_prompt_template = build_standard_chat_prompt_template(input_)\n",
    "\n",
    "questions_generation_pipepline = chat_prompt_template | model | output_parser"
   ]
  },
  {
   "cell_type": "code",
   "execution_count": 35,
   "id": "620fc7cf-35c7-4777-b360-12eaaa24e5d7",
   "metadata": {},
   "outputs": [],
   "source": [
    "system_template = \"You are a helpful AI assisitant answering the question the best you can.\"\n",
    "human_template = dedent(\"\"\"\n",
    "                        {text}\n",
    "                        \n",
    "                        context:\n",
    "                        {context}\n",
    "                        \"\"\")\n",
    "\n",
    "input_ = {\"system\": {\"template\": system_template},\n",
    "          \"human\": {\"template\": human_template,\n",
    "                    \"input_variables\": ['text', 'context']}\n",
    "      }\n",
    "\n",
    "chat_prompt_template = build_standard_chat_prompt_template(input_)\n",
    "\n",
    "qa_pipeline = RunnablePassthrough.assign(context=itemgetter('text')|retriever|rag_parser) | chat_prompt_template | model | StrOutputParser()"
   ]
  },
  {
   "cell_type": "code",
   "execution_count": 36,
   "id": "e712b6f5-ac50-4148-a7c5-19f09f985d1a",
   "metadata": {},
   "outputs": [],
   "source": [
    "text = \"Tell me something about this company.\"\n",
    "\n",
    "new_questions = questions_generation_pipepline.invoke({\"text\": text})"
   ]
  },
  {
   "cell_type": "code",
   "execution_count": 37,
   "id": "24c6ce24-1d90-4c88-a3dd-a0808ed6b04b",
   "metadata": {},
   "outputs": [
    {
     "name": "stdout",
     "output_type": "stream",
     "text": [
      "What are the core products and services offered by this company?\n",
      "How does this company differentiate itself from its competitors in the market?\n",
      "What is the company's mission and vision statement?\n",
      "Can you provide information about the company's founding and history?\n",
      "What are the key markets or industries that this company operates in?\n",
      "How does this company approach sustainability and corporate social responsibility?\n",
      "What recent innovations or developments has this company introduced?\n",
      "What is the company's organizational structure and leadership team?\n",
      "How does this company engage with its customers and gather feedback?\n",
      "What are the future growth plans or strategic goals for this company?\n"
     ]
    }
   ],
   "source": [
    "for new_question in new_questions.name:\n",
    "    print(new_question.name)"
   ]
  },
  {
   "cell_type": "code",
   "execution_count": 38,
   "id": "e85254d7-53b2-4efc-9930-9438c3048c80",
   "metadata": {},
   "outputs": [],
   "source": [
    "batches = [{\"text\": new_question.name} for new_question in new_questions.name]"
   ]
  },
  {
   "cell_type": "code",
   "execution_count": 39,
   "id": "4e445666-2b3f-43a3-9a48-cf617c49e45d",
   "metadata": {},
   "outputs": [],
   "source": [
    "answers = qa_pipeline.batch(batches)"
   ]
  },
  {
   "cell_type": "code",
   "execution_count": 40,
   "id": "ed6666c9-f68b-49cd-ae38-8a3a1b427137",
   "metadata": {},
   "outputs": [
    {
     "data": {
      "text/plain": [
       "['Immatics is a biotechnology company that focuses on the development of innovative cancer immunotherapies. The core products and services offered by Immatics include:\\n\\n1. **T-cell Engager Therapies**: These are designed to harness the body’s immune system to target and destroy cancer cells.\\n\\n2. **Adoptive Cell Therapy**: This involves the extraction and modification of a patient’s own T-cells to enhance their ability to fight cancer.\\n\\n3. **Target Discovery and Validation**: Immatics utilizes its proprietary technology platforms to identify and validate novel tumor-associated antigens that can be targeted by immunotherapies.\\n\\n4. **Clinical Development**: The company is involved in the clinical development of its therapies, conducting trials to evaluate their safety and efficacy in treating various types of cancer.\\n\\n5. **Collaborations and Partnerships**: Immatics engages in partnerships with other organizations, including academic institutions and pharmaceutical companies, to advance its research and development efforts.\\n\\nThese offerings are aimed at improving treatment options for cancer patients through innovative immunotherapeutic approaches.',\n",
       " \"Immatics differentiates itself from its competitors in the market through its unique focus on T-cell receptor (TCR) therapies and its proprietary technology platforms. The company leverages its expertise in immunotherapy to develop innovative treatments that target cancer cells more effectively. \\n\\nKey differentiators include:\\n\\n1. **TCR Technology**: Immatics specializes in TCR-based therapies, which are designed to harness the body's immune system to recognize and attack cancer cells. This approach is distinct from other immunotherapies that may focus on different mechanisms.\\n\\n2. **Personalized Medicine**: The company emphasizes personalized cancer treatments, tailoring therapies to the specific tumor profiles of individual patients. This customization can lead to more effective and targeted treatment options.\\n\\n3. **Collaboration with Leading Institutions**: Immatics has established partnerships with renowned institutions, such as the MD Anderson Cancer Center, which enhances its research capabilities and accelerates the development of its therapies.\\n\\n4. **Robust Pipeline**: The company has a diverse pipeline of product candidates in various stages of development, which positions it well to address different types of cancers and patient needs.\\n\\n5. **Focus on Solid Tumors**: While many immunotherapies target hematological cancers, Immatics is particularly focused on developing treatments for solid tumors, which presents a significant market opportunity.\\n\\nThese factors contribute to Immatics' competitive edge in the rapidly evolving field of cancer immunotherapy.\",\n",
       " \"To provide you with the company's mission and vision statement, I would need specific information about Immatics' goals and aspirations. However, typically, a company's mission statement outlines its purpose and primary objectives, while the vision statement describes what the company aims to achieve in the future. \\n\\nFor Immatics, which focuses on cancer immunotherapy and innovative treatments, the mission might revolve around advancing cancer treatment through cutting-edge technology and research. The vision could involve becoming a leader in the field of immunotherapy, improving patient outcomes, and transforming cancer care.\\n\\nFor the exact mission and vision statements, I recommend checking Immatics' official website or their corporate publications.\",\n",
       " \"Immatics was founded in 2000 as a spin-out from H.G. Rammensee’s laboratory at the University of Tübingen, Germany. The company focuses on developing innovative T-cell therapy and cancer immunotherapy solutions. In 2015, Immatics expanded its operations by launching Immatics US, Inc. in Houston, Texas, in collaboration with the MD Anderson Cancer Center. This move was part of the company's strategy to enhance its research and development capabilities in the United States. \\n\\nIf you need more specific details about the company's history or milestones, feel free to ask!\",\n",
       " 'Immatics operates primarily in the biotechnology and pharmaceutical industries. The company focuses on the development of innovative cancer immunotherapies, particularly those that harness the power of T-cell receptors to target and destroy cancer cells. Their key markets include:\\n\\n1. **Cancer Treatment**: Developing therapies for various types of cancer, including solid tumors and hematological malignancies.\\n2. **Biotechnology**: Engaging in research and development of novel therapeutic approaches and technologies in the field of immunotherapy.\\n3. **Pharmaceuticals**: Collaborating with pharmaceutical companies for the development and commercialization of their therapeutic products.\\n\\nOverall, Immatics is positioned within the broader healthcare sector, specifically targeting advancements in cancer treatment through cutting-edge biotechnological solutions.',\n",
       " \"Immatics is committed to sustainability and corporate social responsibility (CSR) through various initiatives that focus on ethical practices, environmental stewardship, and community engagement. While specific details may vary, companies in the biotechnology sector often approach sustainability by:\\n\\n1. **Environmental Responsibility**: Implementing practices to reduce their carbon footprint, manage waste effectively, and ensure sustainable use of resources in their research and development processes.\\n\\n2. **Ethical Research Practices**: Ensuring that all research and clinical trials are conducted ethically, with a focus on patient safety and informed consent.\\n\\n3. **Community Engagement**: Actively participating in community outreach programs, supporting local health initiatives, and collaborating with organizations that promote public health and education.\\n\\n4. **Diversity and Inclusion**: Promoting a diverse and inclusive workplace, which can enhance innovation and reflect the communities they serve.\\n\\n5. **Transparency and Accountability**: Regularly reporting on their sustainability efforts and CSR initiatives to stakeholders, ensuring accountability and fostering trust.\\n\\nFor the most accurate and detailed information regarding Immatics' specific sustainability and CSR initiatives, I recommend checking their official website or their latest corporate reports.\",\n",
       " 'To find the most recent innovations or developments introduced by Immatics, I recommend checking their latest press releases and news updates on their official website. You can access their press release archives at [this link](https://investors.immatics.com/press-releases). This will provide you with the latest information on their research advancements, product developments, and any new collaborations or clinical trial results.',\n",
       " \"Immatics has a structured organizational framework that typically includes various departments such as research and development, clinical operations, regulatory affairs, and commercial operations. The leadership team is likely composed of experienced professionals from the biotechnology and pharmaceutical industries, including roles such as CEO, CFO, COO, and heads of specific departments.\\n\\nFor the most accurate and up-to-date information regarding Immatics' organizational structure and leadership team, I recommend checking their official website or recent press releases, as these details can change over time.\",\n",
       " \"To understand how Immatics engages with its customers and gathers feedback, you may want to look at their official website or investor relations page, as companies often provide information about their customer engagement strategies there. Typically, companies use various methods such as surveys, social media interactions, customer support channels, and feedback forms to gather insights from their customers. Additionally, they may hold events or webinars to interact directly with stakeholders and gather feedback. For specific details about Immatics' practices, I recommend checking their website or reaching out to their customer service or investor relations team.\",\n",
       " \"To provide you with the most accurate information regarding Immatics' future growth plans or strategic goals, I recommend checking their latest corporate news releases and financial reports, as these documents often outline their strategic initiatives, research and development focus, partnerships, and market expansion plans. You can find this information at the links provided:\\n\\n- Press releases: [Immatics Press Release Archives](https://investors.immatics.com/press-releases)\\n- Financial reports: [Immatics Financial Information](https://investors.immatics.com/financial-information/quarterly-reports)\\n\\nAdditionally, you may want to look for any recent investor presentations or earnings calls, as these often provide insights into the company's strategic direction and future growth plans.\"]"
      ]
     },
     "execution_count": 40,
     "metadata": {},
     "output_type": "execute_result"
    }
   ],
   "source": [
    "answers"
   ]
  },
  {
   "cell_type": "markdown",
   "id": "137711ef-b1e0-4c1a-a92e-9945d3c7dae8",
   "metadata": {},
   "source": [
    "## Give it an extra step so we can extract the prompt of each of the generation questions, so the perplexity can be computed."
   ]
  },
  {
   "cell_type": "code",
   "execution_count": 41,
   "id": "93ed2c24-b466-4725-b146-4d14e5042fbf",
   "metadata": {},
   "outputs": [],
   "source": [
    "prompt_pipeline = RunnablePassthrough.assign(context=itemgetter('text')|retriever|rag_parser) | chat_prompt_template\n",
    "\n",
    "qa_pipeline = RunnablePassthrough.assign(prompt=prompt_pipeline) | RunnablePassthrough.assign(answer=itemgetter(\"prompt\") | model | StrOutputParser(),\n",
    "                                                                                              prompt=itemgetter(\"prompt\")|create_prompt_str)\n",
    "\n",
    "answers = qa_pipeline.batch(batches)"
   ]
  },
  {
   "cell_type": "code",
   "execution_count": 42,
   "id": "71bc9cfb-d394-4fc3-9f5e-cbae256f1406",
   "metadata": {},
   "outputs": [
    {
     "data": {
      "text/plain": [
       "{'text': 'What are the core products and services offered by this company?',\n",
       " 'prompt': 'System: You are a helpful AI assisitant answering the question the best you can.\\n\\nHuman: What are the core products and services offered by this company?\\n\\ncontext:\\nHuman: Where is the company incorporated?\\nAI Assistant: We are incorporated under the laws of the Netherlands.\\n\\nHuman: When was the company founded?\\nAI Assistant: Immatics was founded in 2000 as a spin out from H.G. Rammensee’s laboratory at University Tübingen, Germany. In 2015, Immatics and MD Anderson Cancer Center launched Immatics US, Inc. in Houston Texas.\\n\\nHuman: How is Immatics’ stock traded?\\nAI Assistant: Our common stock is listed on the Nasdaq Global Market under the ticker symbol IMTX.',\n",
       " 'answer': 'Immatics is a biotechnology company that focuses on the development of innovative cancer immunotherapies. The core products and services offered by Immatics include:\\n\\n1. **T-cell Engagers**: These are engineered proteins designed to direct the body’s T-cells to target and destroy cancer cells.\\n\\n2. **Adoptive Cell Therapy**: This involves the extraction and modification of a patient’s own T-cells to enhance their ability to fight cancer.\\n\\n3. **Target Discovery and Validation**: Immatics utilizes its proprietary technology platforms to identify and validate novel tumor-associated antigens that can be targeted for immunotherapy.\\n\\n4. **Clinical Development**: Immatics is involved in the clinical development of its therapies, conducting trials to evaluate their safety and efficacy in treating various types of cancer.\\n\\n5. **Collaborations and Partnerships**: The company engages in partnerships with other organizations, such as its collaboration with MD Anderson Cancer Center, to advance its research and development efforts.\\n\\nThese offerings are aimed at improving cancer treatment outcomes through innovative immunotherapeutic approaches.'}"
      ]
     },
     "execution_count": 42,
     "metadata": {},
     "output_type": "execute_result"
    }
   ],
   "source": [
    "answers[0]"
   ]
  },
  {
   "cell_type": "code",
   "execution_count": 43,
   "id": "a79784f8-6372-4b06-ae88-b2d38f95d18a",
   "metadata": {},
   "outputs": [
    {
     "name": "stdout",
     "output_type": "stream",
     "text": [
      "System: You are a helpful AI assisitant answering the question the best you can.\n",
      "\n",
      "Human: What are the core products and services offered by this company?\n",
      "\n",
      "context:\n",
      "Human: Where is the company incorporated?\n",
      "AI Assistant: We are incorporated under the laws of the Netherlands.\n",
      "\n",
      "Human: When was the company founded?\n",
      "AI Assistant: Immatics was founded in 2000 as a spin out from H.G. Rammensee’s laboratory at University Tübingen, Germany. In 2015, Immatics and MD Anderson Cancer Center launched Immatics US, Inc. in Houston Texas.\n",
      "\n",
      "Human: How is Immatics’ stock traded?\n",
      "AI Assistant: Our common stock is listed on the Nasdaq Global Market under the ticker symbol IMTX.\n"
     ]
    }
   ],
   "source": [
    "print(answers[0]['prompt'])"
   ]
  },
  {
   "cell_type": "markdown",
   "id": "1dfef98b-86c4-4fa3-828a-dc0bafd9a357",
   "metadata": {},
   "source": [
    "## Let's save the result in a file and evaluate the conditional perplexity "
   ]
  },
  {
   "cell_type": "code",
   "execution_count": 44,
   "id": "c3d719be-9a58-4cd8-8ad6-084de17705eb",
   "metadata": {},
   "outputs": [],
   "source": [
    "data = [[answer['prompt'], answer['answer']] for answer in answers]\n",
    "\n",
    "answer_df = pd.DataFrame(data=data, columns=['prompt', 'answer'])"
   ]
  },
  {
   "cell_type": "code",
   "execution_count": 45,
   "id": "1a0d88f1-01fc-47f0-a140-4e447d3a2600",
   "metadata": {},
   "outputs": [
    {
     "data": {
      "text/html": [
       "<div>\n",
       "<style scoped>\n",
       "    .dataframe tbody tr th:only-of-type {\n",
       "        vertical-align: middle;\n",
       "    }\n",
       "\n",
       "    .dataframe tbody tr th {\n",
       "        vertical-align: top;\n",
       "    }\n",
       "\n",
       "    .dataframe thead th {\n",
       "        text-align: right;\n",
       "    }\n",
       "</style>\n",
       "<table border=\"1\" class=\"dataframe\">\n",
       "  <thead>\n",
       "    <tr style=\"text-align: right;\">\n",
       "      <th></th>\n",
       "      <th>prompt</th>\n",
       "      <th>answer</th>\n",
       "    </tr>\n",
       "  </thead>\n",
       "  <tbody>\n",
       "    <tr>\n",
       "      <th>0</th>\n",
       "      <td>System: You are a helpful AI assisitant answer...</td>\n",
       "      <td>Immatics is a biotechnology company that focus...</td>\n",
       "    </tr>\n",
       "    <tr>\n",
       "      <th>1</th>\n",
       "      <td>System: You are a helpful AI assisitant answer...</td>\n",
       "      <td>Immatics differentiates itself from its compet...</td>\n",
       "    </tr>\n",
       "    <tr>\n",
       "      <th>2</th>\n",
       "      <td>System: You are a helpful AI assisitant answer...</td>\n",
       "      <td>To provide you with the company's mission and ...</td>\n",
       "    </tr>\n",
       "    <tr>\n",
       "      <th>3</th>\n",
       "      <td>System: You are a helpful AI assisitant answer...</td>\n",
       "      <td>Immatics was founded in 2000 as a spin-out fro...</td>\n",
       "    </tr>\n",
       "    <tr>\n",
       "      <th>4</th>\n",
       "      <td>System: You are a helpful AI assisitant answer...</td>\n",
       "      <td>Immatics operates primarily in the biotechnolo...</td>\n",
       "    </tr>\n",
       "    <tr>\n",
       "      <th>5</th>\n",
       "      <td>System: You are a helpful AI assisitant answer...</td>\n",
       "      <td>Immatics is committed to sustainability and co...</td>\n",
       "    </tr>\n",
       "    <tr>\n",
       "      <th>6</th>\n",
       "      <td>System: You are a helpful AI assisitant answer...</td>\n",
       "      <td>To find the most recent innovations or develop...</td>\n",
       "    </tr>\n",
       "    <tr>\n",
       "      <th>7</th>\n",
       "      <td>System: You are a helpful AI assisitant answer...</td>\n",
       "      <td>Immatics has a structured organizational frame...</td>\n",
       "    </tr>\n",
       "    <tr>\n",
       "      <th>8</th>\n",
       "      <td>System: You are a helpful AI assisitant answer...</td>\n",
       "      <td>To understand how Immatics engages with its cu...</td>\n",
       "    </tr>\n",
       "    <tr>\n",
       "      <th>9</th>\n",
       "      <td>System: You are a helpful AI assisitant answer...</td>\n",
       "      <td>To provide you with the most accurate informat...</td>\n",
       "    </tr>\n",
       "  </tbody>\n",
       "</table>\n",
       "</div>"
      ],
      "text/plain": [
       "                                              prompt  \\\n",
       "0  System: You are a helpful AI assisitant answer...   \n",
       "1  System: You are a helpful AI assisitant answer...   \n",
       "2  System: You are a helpful AI assisitant answer...   \n",
       "3  System: You are a helpful AI assisitant answer...   \n",
       "4  System: You are a helpful AI assisitant answer...   \n",
       "5  System: You are a helpful AI assisitant answer...   \n",
       "6  System: You are a helpful AI assisitant answer...   \n",
       "7  System: You are a helpful AI assisitant answer...   \n",
       "8  System: You are a helpful AI assisitant answer...   \n",
       "9  System: You are a helpful AI assisitant answer...   \n",
       "\n",
       "                                              answer  \n",
       "0  Immatics is a biotechnology company that focus...  \n",
       "1  Immatics differentiates itself from its compet...  \n",
       "2  To provide you with the company's mission and ...  \n",
       "3  Immatics was founded in 2000 as a spin-out fro...  \n",
       "4  Immatics operates primarily in the biotechnolo...  \n",
       "5  Immatics is committed to sustainability and co...  \n",
       "6  To find the most recent innovations or develop...  \n",
       "7  Immatics has a structured organizational frame...  \n",
       "8  To understand how Immatics engages with its cu...  \n",
       "9  To provide you with the most accurate informat...  "
      ]
     },
     "execution_count": 45,
     "metadata": {},
     "output_type": "execute_result"
    }
   ],
   "source": [
    "answer_df"
   ]
  },
  {
   "cell_type": "code",
   "execution_count": 46,
   "id": "da62c340-6372-43d0-934b-74eae22e1001",
   "metadata": {},
   "outputs": [],
   "source": [
    "answer_df.to_csv(\"./tutorial/LLM+Langchain/prompt_answer.csv\", index=False)"
   ]
  },
  {
   "cell_type": "code",
   "execution_count": null,
   "id": "6eef4727-0c34-4bde-bda1-9b6d62c59b83",
   "metadata": {},
   "outputs": [],
   "source": []
  }
 ],
 "metadata": {
  "kernelspec": {
   "display_name": "Python 3 (ipykernel)",
   "language": "python",
   "name": "python3"
  },
  "language_info": {
   "codemirror_mode": {
    "name": "ipython",
    "version": 3
   },
   "file_extension": ".py",
   "mimetype": "text/x-python",
   "name": "python",
   "nbconvert_exporter": "python",
   "pygments_lexer": "ipython3",
   "version": "3.10.16"
  }
 },
 "nbformat": 4,
 "nbformat_minor": 5
}
